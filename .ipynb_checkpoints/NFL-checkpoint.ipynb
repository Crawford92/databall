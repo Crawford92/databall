{
 "cells": [
  {
   "cell_type": "code",
<<<<<<< HEAD
   "execution_count": 2,
=======
   "execution_count": 1,
>>>>>>> 0e11d65d6a4f96b1c8d49a33caf60252c8adb6f1
   "id": "e6c503b5",
   "metadata": {},
   "outputs": [
    {
     "name": "stdout",
     "output_type": "stream",
     "text": [
      "why hello there\n"
     ]
    }
   ],
   "source": [
    "print(\"why hello there\")"
   ]
  },
  {
   "cell_type": "code",
<<<<<<< HEAD
   "execution_count": 8,
=======
   "execution_count": 2,
>>>>>>> 0e11d65d6a4f96b1c8d49a33caf60252c8adb6f1
   "id": "d290a440",
   "metadata": {},
   "outputs": [],
   "source": [
    "import pandas as pd\n",
    "import plotly.graph_objects as go\n",
<<<<<<< HEAD
    "import nfl_data_py as nfl\n",
    "import math"
=======
    "import nfl_data_py as nfl"
>>>>>>> 0e11d65d6a4f96b1c8d49a33caf60252c8adb6f1
   ]
  },
  {
   "cell_type": "code",
<<<<<<< HEAD
   "execution_count": 4,
=======
   "execution_count": 48,
>>>>>>> 0e11d65d6a4f96b1c8d49a33caf60252c8adb6f1
   "id": "9d9d499b",
   "metadata": {},
   "outputs": [
    {
     "name": "stdout",
     "output_type": "stream",
     "text": [
      "2022 done.\n",
      "Downcasting floats.\n"
     ]
    },
    {
     "name": "stderr",
     "output_type": "stream",
     "text": [
<<<<<<< HEAD
      "/home/crawford/.local/lib/python3.10/site-packages/nfl_data_py/__init__.py:137: FutureWarning: In a future version, `df.iloc[:, i] = newvals` will attempt to set the values inplace instead of always setting a new array. To retain the old behavior, use either `df[df.columns[i]] = newvals` or, if columns are non-unique, `df.isetitem(i, newvals)`\n",
      "  plays.loc[:, cols] = plays.loc[:, cols].astype(numpy.float32)\n"
=======
      "/home/crawford/.local/lib/python3.10/site-packages/nfl_data_py/__init__.py:137: FutureWarning:\n",
      "\n",
      "In a future version, `df.iloc[:, i] = newvals` will attempt to set the values inplace instead of always setting a new array. To retain the old behavior, use either `df[df.columns[i]] = newvals` or, if columns are non-unique, `df.isetitem(i, newvals)`\n",
      "\n"
>>>>>>> 0e11d65d6a4f96b1c8d49a33caf60252c8adb6f1
     ]
    }
   ],
   "source": [
    "df_2022 = nfl.import_pbp_data([2022])\n",
    "df_players = nfl.import_rosters([2022])\n",
    "df_teams = nfl.import_team_desc()"
   ]
  },
  {
   "cell_type": "code",
<<<<<<< HEAD
   "execution_count": 5,
   "id": "3b5d6be2",
   "metadata": {},
   "outputs": [],
   "source": [
    "#df_2022.columns\n",
    "print(df_2022.shape)\n",
    "print(df_players.shape)\n",
    "print(df_teams.shape)"
   ]
  },
  {
   "cell_type": "code",
   "execution_count": 14,
=======
   "execution_count": 49,
>>>>>>> 0e11d65d6a4f96b1c8d49a33caf60252c8adb6f1
   "id": "23d959aa",
   "metadata": {},
   "outputs": [
    {
<<<<<<< HEAD
     "name": "stdout",
     "output_type": "stream",
     "text": [
      "24815  and also  24816\n"
     ]
    }
   ],
   "source": [
    "#My GH file size limit is 100mb and the playlist.csv is actually 104, so we'll split it in half\n",
    "\n",
    "cut_to = math.floor(df_2022.shape[0]/2)\n",
    "cut_from = math.ceil(df_2022.shape[0]/2)\n",
    "\n",
    "print(cut_to, \" and also \", cut_from)\n",
    "\n",
    "\n"
   ]
  },
  {
   "cell_type": "code",
   "execution_count": 31,
   "id": "6136ecd9",
   "metadata": {},
   "outputs": [
    {
     "name": "stdout",
     "output_type": "stream",
     "text": [
      "(49631, 384)\n",
      "(24815, 384)\n",
      "(24816, 384)\n",
      "The height of playlistDF is  49631  and the height of the splits is  49631\n",
      "\n",
      "First Play of DF1\n",
      "\n",
      "1.0\n",
      "1.0\n",
      "\n",
      "Last Play of DF1\n",
      "\n",
      "1950.0\n",
      "\n",
      "First Play of DF2\n",
      "\n",
      "1965.0\n",
      "\n",
      "Last Play of DF2\n",
      "\n",
      "3624.0\n",
      "\n",
      "1965.0\n",
      "2000.0\n"
     ]
    }
   ],
   "source": [
    "df_2022_1 = df_2022.iloc[ : cut_to, : ]\n",
    "df_2022_2 = df_2022.iloc[cut_to : , : ]\n",
    "\n",
    "print(df_2022.shape)\n",
    "print(df_2022_1.shape)\n",
    "print(df_2022_2.shape)\n",
    "\n",
    "split_height = df_2022_1.shape[0] + df_2022_2.shape[0]\n",
    "\n",
    "print(\"The height of playlistDF is \", df_2022.shape[0], \" and the height of the splits is \", split_height)\n",
    "\n",
    "temp = 0\n",
    "\n",
    "print(\"\\nFirst Play of DF1\\n\")\n",
    "print(df_2022.iloc[0][temp])\n",
    "print(df_2022_1.iloc[0][temp])\n",
    "print(\"\\nLast Play of DF1\\n\")\n",
    "print(df_2022_1.iloc[-1][temp])\n",
    "print(\"\\nFirst Play of DF2\\n\")\n",
    "print(df_2022_2.iloc[0][temp])\n",
    "print(\"\\nLast Play of DF2\\n\")\n",
    "print(df_2022_2.iloc[-1][temp])\n",
    "\n",
    "print()\n",
    "print(df_2022.iloc[cut_to][temp])\n",
    "print(df_2022.iloc[cut_from][temp])\n",
    "\n",
    "#so we want to split on the same point, not (0,x) and (x+1, n) but (0,x) and (x,n)\n"
   ]
  },
  {
   "cell_type": "code",
   "execution_count": null,
   "id": "ecf8af83",
   "metadata": {},
   "outputs": [],
   "source": [
    "df_2022.to_csv('playlist_1.csv')\n",
    "df_2022.to_csv('playlist_2.csv')\n",
    "df_players.to_csv('playerlist.csv')\n",
    "df_teams.to_csv('teamlist.csv')"
=======
     "data": {
      "text/plain": [
       "(48939, 384)"
      ]
     },
     "execution_count": 49,
     "metadata": {},
     "output_type": "execute_result"
    }
   ],
   "source": [
    "df_2022.columns\n",
    "df_2022.shape"
>>>>>>> 0e11d65d6a4f96b1c8d49a33caf60252c8adb6f1
   ]
  },
  {
   "cell_type": "code",
   "execution_count": 52,
   "id": "7907fbc8",
   "metadata": {},
   "outputs": [],
   "source": [
    "df_2021_copy = df_2022  #replace df_2021_copy with df_2022_copy\n",
    "df_2022_copy = df_2022"
   ]
  },
  {
   "cell_type": "code",
   "execution_count": 51,
   "id": "7ac3bc14",
   "metadata": {},
   "outputs": [
    {
     "data": {
      "text/html": [
       "<div>\n",
       "<style scoped>\n",
       "    .dataframe tbody tr th:only-of-type {\n",
       "        vertical-align: middle;\n",
       "    }\n",
       "\n",
       "    .dataframe tbody tr th {\n",
       "        vertical-align: top;\n",
       "    }\n",
       "\n",
       "    .dataframe thead th {\n",
       "        text-align: right;\n",
       "    }\n",
       "</style>\n",
       "<table border=\"1\" class=\"dataframe\">\n",
       "  <thead>\n",
       "    <tr style=\"text-align: right;\">\n",
       "      <th></th>\n",
       "      <th>player_name</th>\n",
       "      <th>team_abbr</th>\n",
       "      <th>team_color</th>\n",
       "      <th>week</th>\n",
       "      <th>passing_yards</th>\n",
       "      <th>pass_touchdown</th>\n",
       "    </tr>\n",
       "  </thead>\n",
       "  <tbody>\n",
       "    <tr>\n",
       "      <th>299</th>\n",
       "      <td>Josh Allen</td>\n",
       "      <td>BUF</td>\n",
       "      <td>#00338D</td>\n",
       "      <td>1</td>\n",
       "      <td>297.0</td>\n",
       "      <td>3.0</td>\n",
       "    </tr>\n",
       "    <tr>\n",
       "      <th>300</th>\n",
       "      <td>Josh Allen</td>\n",
       "      <td>BUF</td>\n",
       "      <td>#00338D</td>\n",
       "      <td>2</td>\n",
       "      <td>317.0</td>\n",
       "      <td>4.0</td>\n",
       "    </tr>\n",
       "    <tr>\n",
       "      <th>301</th>\n",
       "      <td>Josh Allen</td>\n",
       "      <td>BUF</td>\n",
       "      <td>#00338D</td>\n",
       "      <td>3</td>\n",
       "      <td>400.0</td>\n",
       "      <td>2.0</td>\n",
       "    </tr>\n",
       "    <tr>\n",
       "      <th>302</th>\n",
       "      <td>Josh Allen</td>\n",
       "      <td>BUF</td>\n",
       "      <td>#00338D</td>\n",
       "      <td>4</td>\n",
       "      <td>213.0</td>\n",
       "      <td>1.0</td>\n",
       "    </tr>\n",
       "    <tr>\n",
       "      <th>303</th>\n",
       "      <td>Josh Allen</td>\n",
       "      <td>BUF</td>\n",
       "      <td>#00338D</td>\n",
       "      <td>5</td>\n",
       "      <td>424.0</td>\n",
       "      <td>4.0</td>\n",
       "    </tr>\n",
       "    <tr>\n",
       "      <th>304</th>\n",
       "      <td>Josh Allen</td>\n",
       "      <td>BUF</td>\n",
       "      <td>#00338D</td>\n",
       "      <td>6</td>\n",
       "      <td>329.0</td>\n",
       "      <td>3.0</td>\n",
       "    </tr>\n",
       "    <tr>\n",
       "      <th>305</th>\n",
       "      <td>Josh Allen</td>\n",
       "      <td>BUF</td>\n",
       "      <td>#00338D</td>\n",
       "      <td>8</td>\n",
       "      <td>218.0</td>\n",
       "      <td>2.0</td>\n",
       "    </tr>\n",
       "    <tr>\n",
       "      <th>306</th>\n",
       "      <td>Josh Allen</td>\n",
       "      <td>BUF</td>\n",
       "      <td>#00338D</td>\n",
       "      <td>9</td>\n",
       "      <td>205.0</td>\n",
       "      <td>0.0</td>\n",
       "    </tr>\n",
       "    <tr>\n",
       "      <th>307</th>\n",
       "      <td>Josh Allen</td>\n",
       "      <td>BUF</td>\n",
       "      <td>#00338D</td>\n",
       "      <td>10</td>\n",
       "      <td>330.0</td>\n",
       "      <td>1.0</td>\n",
       "    </tr>\n",
       "    <tr>\n",
       "      <th>308</th>\n",
       "      <td>Josh Allen</td>\n",
       "      <td>BUF</td>\n",
       "      <td>#00338D</td>\n",
       "      <td>11</td>\n",
       "      <td>197.0</td>\n",
       "      <td>1.0</td>\n",
       "    </tr>\n",
       "    <tr>\n",
       "      <th>309</th>\n",
       "      <td>Josh Allen</td>\n",
       "      <td>BUF</td>\n",
       "      <td>#00338D</td>\n",
       "      <td>12</td>\n",
       "      <td>253.0</td>\n",
       "      <td>2.0</td>\n",
       "    </tr>\n",
       "    <tr>\n",
       "      <th>310</th>\n",
       "      <td>Josh Allen</td>\n",
       "      <td>BUF</td>\n",
       "      <td>#00338D</td>\n",
       "      <td>13</td>\n",
       "      <td>223.0</td>\n",
       "      <td>2.0</td>\n",
       "    </tr>\n",
       "    <tr>\n",
       "      <th>311</th>\n",
       "      <td>Josh Allen</td>\n",
       "      <td>BUF</td>\n",
       "      <td>#00338D</td>\n",
       "      <td>14</td>\n",
       "      <td>147.0</td>\n",
       "      <td>1.0</td>\n",
       "    </tr>\n",
       "    <tr>\n",
       "      <th>312</th>\n",
       "      <td>Josh Allen</td>\n",
       "      <td>BUF</td>\n",
       "      <td>#00338D</td>\n",
       "      <td>15</td>\n",
       "      <td>304.0</td>\n",
       "      <td>4.0</td>\n",
       "    </tr>\n",
       "    <tr>\n",
       "      <th>313</th>\n",
       "      <td>Josh Allen</td>\n",
       "      <td>BUF</td>\n",
       "      <td>#00338D</td>\n",
       "      <td>16</td>\n",
       "      <td>172.0</td>\n",
       "      <td>2.0</td>\n",
       "    </tr>\n",
       "    <tr>\n",
       "      <th>314</th>\n",
       "      <td>Josh Allen</td>\n",
       "      <td>BUF</td>\n",
       "      <td>#00338D</td>\n",
       "      <td>18</td>\n",
       "      <td>254.0</td>\n",
       "      <td>3.0</td>\n",
       "    </tr>\n",
       "  </tbody>\n",
       "</table>\n",
       "</div>"
      ],
      "text/plain": [
       "    player_name team_abbr team_color  week  passing_yards  pass_touchdown\n",
       "299  Josh Allen       BUF    #00338D     1          297.0             3.0\n",
       "300  Josh Allen       BUF    #00338D     2          317.0             4.0\n",
       "301  Josh Allen       BUF    #00338D     3          400.0             2.0\n",
       "302  Josh Allen       BUF    #00338D     4          213.0             1.0\n",
       "303  Josh Allen       BUF    #00338D     5          424.0             4.0\n",
       "304  Josh Allen       BUF    #00338D     6          329.0             3.0\n",
       "305  Josh Allen       BUF    #00338D     8          218.0             2.0\n",
       "306  Josh Allen       BUF    #00338D     9          205.0             0.0\n",
       "307  Josh Allen       BUF    #00338D    10          330.0             1.0\n",
       "308  Josh Allen       BUF    #00338D    11          197.0             1.0\n",
       "309  Josh Allen       BUF    #00338D    12          253.0             2.0\n",
       "310  Josh Allen       BUF    #00338D    13          223.0             2.0\n",
       "311  Josh Allen       BUF    #00338D    14          147.0             1.0\n",
       "312  Josh Allen       BUF    #00338D    15          304.0             4.0\n",
       "313  Josh Allen       BUF    #00338D    16          172.0             2.0\n",
       "314  Josh Allen       BUF    #00338D    18          254.0             3.0"
      ]
     },
     "execution_count": 51,
     "metadata": {},
     "output_type": "execute_result"
    }
   ],
   "source": [
    "df_2021_copy = df_2021_copy[df_2021_copy[\"season_type\"] == \"REG\"]\n",
    "df_2021_copy = df_2021_copy[df_2021_copy[\"two_point_attempt\"] == False]\n",
    "df_2021_copy = df_2021_copy[df_2021_copy[\"play_type\"] == \"pass\"]\n",
    "\n",
    "df_2021_copy = df_2021_copy.merge(df_players[[\"player_id\", \"player_name\"]], \n",
    "                            left_on=\"passer_player_id\", right_on=\"player_id\")\n",
    "\n",
    "df_2021_copy[\"player_name\"].unique() #shows all the people who were the passer on a play in 2022\n",
    "\n",
    "df_2021_copy = df_2021_copy.merge(df_teams[[\"team_abbr\", \"team_color\"]],\n",
    "                                   left_on=\"posteam\", right_on=\"team_abbr\")\n",
    "\n",
    "df_agg = (df_2021_copy.groupby([\"player_name\", \"team_abbr\", \"team_color\", \"week\"], as_index=False)\n",
    "         .agg({\"passing_yards\": \"sum\", \"pass_touchdown\": \"sum\"})\n",
    "         )\n",
    "\n",
    "df_agg[df_agg[\"player_name\"] == \"Josh Allen\"]"
   ]
  },
  {
   "cell_type": "code",
   "execution_count": 43,
   "id": "34c8f2e9",
   "metadata": {},
   "outputs": [
    {
     "data": {
      "application/vnd.plotly.v1+json": {
       "config": {
        "plotlyServerURL": "https://plot.ly"
       },
       "data": [
        {
         "hovertemplate": "<b>Aaron Rodgers</b><br>%{y} yds through week %{x}<extra></extra>",
         "line": {
          "color": "#203731"
         },
         "mode": "markers+lines",
         "name": "Aaron Rodgers",
         "type": "scatter",
         "x": [
          1,
          2,
          3,
          4,
          5,
          6,
          7,
          8,
          9,
          10,
          11,
          12,
          13,
          15,
          16,
          17,
          18
         ],
         "y": [
          195,
          429,
          684,
          935,
          1157,
          1403,
          1597,
          1800,
          2091,
          2315,
          2542,
          2682,
          2864,
          3093,
          3331,
          3490,
          3695
         ]
        },
        {
         "hovertemplate": "<b>Andy Dalton</b><br>%{y} yds through week %{x}<extra></extra>",
         "line": {
          "color": "#D3BC8D"
         },
         "mode": "markers+lines",
         "name": "Andy Dalton",
         "type": "scatter",
         "x": [
          4,
          5,
          6,
          7,
          8,
          9,
          10,
          11,
          12,
          13,
          15,
          16,
          17,
          18
         ],
         "y": [
          236,
          423,
          585,
          946,
          1175,
          1385,
          1559,
          1819,
          2023,
          2252,
          2403,
          2495,
          2700,
          2871
         ]
        },
        {
         "hovertemplate": "<b>Baker Mayfield</b><br>%{y} yds through week %{x}<extra></extra>",
         "line": {
          "color": "#0085CA"
         },
         "mode": "markers+lines",
         "name": "Baker Mayfield",
         "type": "scatter",
         "x": [
          1,
          2,
          3,
          4,
          5,
          9,
          11,
          14,
          15,
          16,
          17,
          18
         ],
         "y": [
          235,
          380,
          550,
          747,
          962,
          1117,
          1313,
          1543,
          1654,
          1884,
          2016,
          2163
         ]
        },
        {
         "hovertemplate": "<b>Carson Wentz</b><br>%{y} yds through week %{x}<extra></extra>",
         "line": {
          "color": "#5A1414"
         },
         "mode": "markers+lines",
         "name": "Carson Wentz",
         "type": "scatter",
         "x": [
          1,
          2,
          3,
          4,
          5,
          6,
          16,
          17
         ],
         "y": [
          313,
          650,
          861,
          1031,
          1390,
          1489,
          1612,
          1755
         ]
        },
        {
         "hovertemplate": "<b>Dak Prescott</b><br>%{y} yds through week %{x}<extra></extra>",
         "line": {
          "color": "#002244"
         },
         "mode": "markers+lines",
         "name": "Dak Prescott",
         "type": "scatter",
         "x": [
          1,
          7,
          8,
          10,
          11,
          12,
          13,
          14,
          15,
          16,
          17,
          18
         ],
         "y": [
          134,
          341,
          591,
          856,
          1132,
          1393,
          1563,
          1847,
          2103,
          2450,
          2732,
          2860
         ]
        },
        {
         "hovertemplate": "<b>Daniel Jones</b><br>%{y} yds through week %{x}<extra></extra>",
         "line": {
          "color": "#0B2265"
         },
         "mode": "markers+lines",
         "name": "Daniel Jones",
         "type": "scatter",
         "x": [
          1,
          2,
          3,
          4,
          5,
          6,
          7,
          8,
          10,
          11,
          12,
          13,
          14,
          15,
          16,
          17
         ],
         "y": [
          188,
          364,
          560,
          631,
          848,
          1021,
          1223,
          1399,
          1596,
          1937,
          2165,
          2365,
          2534,
          2694,
          3028,
          3205
         ]
        },
        {
         "hovertemplate": "<b>Davis Mills</b><br>%{y} yds through week %{x}<extra></extra>",
         "line": {
          "color": "#03202F"
         },
         "mode": "markers+lines",
         "name": "Davis Mills",
         "type": "scatter",
         "x": [
          1,
          2,
          3,
          4,
          5,
          7,
          8,
          9,
          10,
          11,
          14,
          15,
          16,
          17,
          18
         ],
         "y": [
          240,
          417,
          662,
          908,
          1048,
          1350,
          1502,
          1656,
          1975,
          2144,
          2319,
          2440,
          2618,
          2820,
          3118
         ]
        },
        {
         "hovertemplate": "<b>Derek Carr</b><br>%{y} yds through week %{x}<extra></extra>",
         "line": {
          "color": "#000000"
         },
         "mode": "markers+lines",
         "name": "Derek Carr",
         "type": "scatter",
         "x": [
          1,
          2,
          3,
          4,
          5,
          7,
          8,
          9,
          10,
          11,
          12,
          13,
          14,
          15,
          16
         ],
         "y": [
          295,
          547,
          850,
          1038,
          1279,
          1520,
          1621,
          1880,
          2128,
          2435,
          2730,
          2980,
          3117,
          3348,
          3522
         ]
        },
        {
         "hovertemplate": "<b>Geno Smith</b><br>%{y} yds through week %{x}<extra></extra>",
         "line": {
          "color": "#002244"
         },
         "mode": "markers+lines",
         "name": "Geno Smith",
         "type": "scatter",
         "x": [
          1,
          2,
          3,
          4,
          5,
          6,
          7,
          8,
          9,
          10,
          12,
          13,
          14,
          15,
          16,
          17,
          18
         ],
         "y": [
          195,
          392,
          717,
          1037,
          1305,
          1502,
          1712,
          1924,
          2199,
          2474,
          2802,
          3169,
          3433,
          3671,
          3886,
          4069,
          4282
         ]
        },
        {
         "hovertemplate": "<b>Jacoby Brissett</b><br>%{y} yds through week %{x}<extra></extra>",
         "line": {
          "color": "#FF3C00"
         },
         "mode": "markers+lines",
         "name": "Jacoby Brissett",
         "type": "scatter",
         "x": [
          1,
          2,
          3,
          4,
          5,
          6,
          7,
          8,
          10,
          11,
          12,
          14
         ],
         "y": [
          147,
          376,
          596,
          830,
          1060,
          1326,
          1584,
          1862,
          2074,
          2398,
          2608,
          2608
         ]
        },
        {
         "hovertemplate": "<b>Jalen Hurts</b><br>%{y} yds through week %{x}<extra></extra>",
         "line": {
          "color": "#004C54"
         },
         "mode": "markers+lines",
         "name": "Jalen Hurts",
         "type": "scatter",
         "x": [
          1,
          2,
          3,
          4,
          5,
          6,
          8,
          9,
          10,
          11,
          12,
          13,
          14,
          15,
          18
         ],
         "y": [
          243,
          576,
          916,
          1120,
          1359,
          1514,
          1799,
          2042,
          2217,
          2407,
          2560,
          2940,
          3157,
          3472,
          3701
         ]
        },
        {
         "hovertemplate": "<b>Jared Goff</b><br>%{y} yds through week %{x}<extra></extra>",
         "line": {
          "color": "#0076B6"
         },
         "mode": "markers+lines",
         "name": "Jared Goff",
         "type": "scatter",
         "x": [
          1,
          2,
          3,
          4,
          5,
          7,
          8,
          9,
          10,
          11,
          12,
          13,
          14,
          15,
          16,
          17,
          18
         ],
         "y": [
          215,
          471,
          748,
          1126,
          1355,
          1583,
          1904,
          2041,
          2277,
          2442,
          2682,
          3022,
          3352,
          3604,
          3959,
          4214,
          4438
         ]
        },
        {
         "hovertemplate": "<b>Jimmy Garoppolo</b><br>%{y} yds through week %{x}<extra></extra>",
         "line": {
          "color": "#AA0000"
         },
         "mode": "markers+lines",
         "name": "Jimmy Garoppolo",
         "type": "scatter",
         "x": [
          2,
          3,
          4,
          5,
          6,
          7,
          8,
          10,
          11,
          12,
          13
         ],
         "y": [
          154,
          365,
          604,
          857,
          1153,
          1456,
          1691,
          1931,
          2159,
          2381,
          2437
         ]
        },
        {
         "hovertemplate": "<b>Joe Burrow</b><br>%{y} yds through week %{x}<extra></extra>",
         "line": {
          "color": "#FB4F14"
         },
         "mode": "markers+lines",
         "name": "Joe Burrow",
         "type": "scatter",
         "x": [
          1,
          2,
          3,
          4,
          5,
          6,
          7,
          8,
          9,
          11,
          12,
          13,
          14,
          15,
          16,
          18
         ],
         "y": [
          338,
          537,
          812,
          1099,
          1316,
          1616,
          2097,
          2329,
          2535,
          2890,
          3160,
          3446,
          3685,
          3885,
          4260,
          4475
         ]
        },
        {
         "hovertemplate": "<b>Josh Allen</b><br>%{y} yds through week %{x}<extra></extra>",
         "line": {
          "color": "#00338D"
         },
         "mode": "markers+lines",
         "name": "Josh Allen",
         "type": "scatter",
         "x": [
          1,
          2,
          3,
          4,
          5,
          6,
          8,
          9,
          10,
          11,
          12,
          13,
          14,
          15,
          16,
          18
         ],
         "y": [
          297,
          614,
          1014,
          1227,
          1651,
          1980,
          2198,
          2403,
          2733,
          2930,
          3183,
          3406,
          3553,
          3857,
          4029,
          4283
         ]
        },
        {
         "hovertemplate": "<b>Justin Fields</b><br>%{y} yds through week %{x}<extra></extra>",
         "line": {
          "color": "#0B162A"
         },
         "mode": "markers+lines",
         "name": "Justin Fields",
         "type": "scatter",
         "x": [
          1,
          2,
          3,
          4,
          5,
          6,
          7,
          8,
          9,
          10,
          11,
          13,
          15,
          16,
          17
         ],
         "y": [
          121,
          191,
          297,
          471,
          679,
          869,
          1048,
          1199,
          1322,
          1489,
          1642,
          1896,
          2048,
          2167,
          2242
         ]
        },
        {
         "hovertemplate": "<b>Justin Herbert</b><br>%{y} yds through week %{x}<extra></extra>",
         "line": {
          "color": "#007BC7"
         },
         "mode": "markers+lines",
         "name": "Justin Herbert",
         "type": "scatter",
         "x": [
          1,
          2,
          3,
          4,
          5,
          6,
          7,
          9,
          10,
          11,
          12,
          13,
          14,
          15,
          16,
          17,
          18
         ],
         "y": [
          279,
          613,
          910,
          1250,
          1478,
          1716,
          2009,
          2254,
          2450,
          2730,
          3004,
          3339,
          3706,
          4019,
          4254,
          4466,
          4739
         ]
        },
        {
         "hovertemplate": "<b>Kenny Pickett</b><br>%{y} yds through week %{x}<extra></extra>",
         "line": {
          "color": "#000000"
         },
         "mode": "markers+lines",
         "name": "Kenny Pickett",
         "type": "scatter",
         "x": [
          4,
          5,
          6,
          7,
          8,
          10,
          11,
          12,
          13,
          14,
          16,
          17,
          18
         ],
         "y": [
          120,
          447,
          514,
          771,
          962,
          1161,
          1426,
          1600,
          1797,
          1797,
          2041,
          2209,
          2404
         ]
        },
        {
         "hovertemplate": "<b>Kirk Cousins</b><br>%{y} yds through week %{x}<extra></extra>",
         "line": {
          "color": "#4F2683"
         },
         "mode": "markers+lines",
         "name": "Kirk Cousins",
         "type": "scatter",
         "x": [
          1,
          2,
          3,
          4,
          5,
          6,
          8,
          9,
          10,
          11,
          12,
          13,
          14,
          15,
          16,
          17,
          18
         ],
         "y": [
          277,
          498,
          758,
          1031,
          1327,
          1502,
          1734,
          1999,
          2356,
          2461,
          2760,
          2933,
          3358,
          3818,
          4117,
          4322,
          4547
         ]
        },
        {
         "hovertemplate": "<b>Kyler Murray</b><br>%{y} yds through week %{x}<extra></extra>",
         "line": {
          "color": "#97233F"
         },
         "mode": "markers+lines",
         "name": "Kyler Murray",
         "type": "scatter",
         "x": [
          1,
          2,
          3,
          4,
          5,
          6,
          7,
          8,
          9,
          12,
          14
         ],
         "y": [
          193,
          470,
          784,
          991,
          1241,
          1463,
          1667,
          1993,
          2168,
          2359,
          2368
         ]
        },
        {
         "hovertemplate": "<b>Lamar Jackson</b><br>%{y} yds through week %{x}<extra></extra>",
         "line": {
          "color": "#241773"
         },
         "mode": "markers+lines",
         "name": "Lamar Jackson",
         "type": "scatter",
         "x": [
          1,
          2,
          3,
          4,
          5,
          6,
          7,
          8,
          9,
          11,
          12,
          13
         ],
         "y": [
          213,
          531,
          749,
          893,
          1067,
          1277,
          1397,
          1635,
          1768,
          1977,
          2231,
          2242
         ]
        },
        {
         "hovertemplate": "<b>Mac Jones</b><br>%{y} yds through week %{x}<extra></extra>",
         "line": {
          "color": "#002244"
         },
         "mode": "markers+lines",
         "name": "Mac Jones",
         "type": "scatter",
         "x": [
          1,
          2,
          3,
          7,
          8,
          9,
          11,
          12,
          13,
          14,
          15,
          16,
          17,
          18
         ],
         "y": [
          213,
          465,
          786,
          799,
          993,
          1140,
          1386,
          1768,
          1963,
          2198,
          2310,
          2550,
          2754,
          2997
         ]
        },
        {
         "hovertemplate": "<b>Marcus Mariota</b><br>%{y} yds through week %{x}<extra></extra>",
         "line": {
          "color": "#A71930"
         },
         "mode": "markers+lines",
         "name": "Marcus Mariota",
         "type": "scatter",
         "x": [
          1,
          2,
          3,
          4,
          5,
          6,
          7,
          8,
          9,
          10,
          11,
          12,
          13
         ],
         "y": [
          215,
          411,
          640,
          779,
          926,
          1055,
          1179,
          1432,
          1561,
          1747,
          1878,
          2052,
          2219
         ]
        },
        {
         "hovertemplate": "<b>Matt Ryan</b><br>%{y} yds through week %{x}<extra></extra>",
         "line": {
          "color": "#002C5F"
         },
         "mode": "markers+lines",
         "name": "Matt Ryan",
         "type": "scatter",
         "x": [
          1,
          2,
          3,
          4,
          5,
          6,
          7,
          10,
          11,
          12,
          13,
          15
         ],
         "y": [
          352,
          547,
          769,
          1125,
          1376,
          1765,
          2008,
          2230,
          2443,
          2642,
          2875,
          3057
         ]
        },
        {
         "hovertemplate": "<b>Matthew Stafford</b><br>%{y} yds through week %{x}<extra></extra>",
         "line": {
          "color": "#003594"
         },
         "mode": "markers+lines",
         "name": "Matthew Stafford",
         "type": "scatter",
         "x": [
          1,
          2,
          3,
          4,
          5,
          6,
          8,
          9,
          11
         ],
         "y": [
          240,
          512,
          761,
          1015,
          1323,
          1576,
          1763,
          1928,
          2087
         ]
        },
        {
         "hovertemplate": "<b>Patrick Mahomes</b><br>%{y} yds through week %{x}<extra></extra>",
         "line": {
          "color": "#E31837"
         },
         "mode": "markers+lines",
         "name": "Patrick Mahomes",
         "type": "scatter",
         "x": [
          1,
          2,
          3,
          4,
          5,
          6,
          7,
          9,
          10,
          11,
          12,
          13,
          14,
          15,
          16,
          17,
          18
         ],
         "y": [
          360,
          595,
          857,
          1106,
          1398,
          1736,
          2159,
          2605,
          2936,
          3265,
          3585,
          3808,
          4160,
          4496,
          4720,
          5048,
          5250
         ]
        },
        {
         "hovertemplate": "<b>Russell Wilson</b><br>%{y} yds through week %{x}<extra></extra>",
         "line": {
          "color": "#002244"
         },
         "mode": "markers+lines",
         "name": "Russell Wilson",
         "type": "scatter",
         "x": [
          1,
          2,
          3,
          4,
          5,
          6,
          8,
          10,
          11,
          12,
          13,
          14,
          16,
          17,
          18
         ],
         "y": [
          340,
          559,
          743,
          980,
          1254,
          1442,
          1694,
          1980,
          2227,
          2369,
          2558,
          2805,
          3019,
          3241,
          3524
         ]
        },
        {
         "hovertemplate": "<b>Ryan Tannehill</b><br>%{y} yds through week %{x}<extra></extra>",
         "line": {
          "color": "#002244"
         },
         "mode": "markers+lines",
         "name": "Ryan Tannehill",
         "type": "scatter",
         "x": [
          1,
          2,
          3,
          4,
          5,
          7,
          10,
          11,
          12,
          13,
          14,
          15
         ],
         "y": [
          266,
          383,
          647,
          784,
          965,
          1097,
          1352,
          1685,
          1976,
          2117,
          2371,
          2536
         ]
        },
        {
         "hovertemplate": "<b>Taylor Heinicke</b><br>%{y} yds through week %{x}<extra></extra>",
         "line": {
          "color": "#5A1414"
         },
         "mode": "markers+lines",
         "name": "Taylor Heinicke",
         "type": "scatter",
         "x": [
          7,
          8,
          9,
          10,
          11,
          12,
          13,
          15,
          16
         ],
         "y": [
          201,
          480,
          629,
          840,
          1031,
          1169,
          1444,
          1693,
          1859
         ]
        },
        {
         "hovertemplate": "<b>Tom Brady</b><br>%{y} yds through week %{x}<extra></extra>",
         "line": {
          "color": "#A71930"
         },
         "mode": "markers+lines",
         "name": "Tom Brady",
         "type": "scatter",
         "x": [
          1,
          2,
          3,
          4,
          5,
          6,
          7,
          8,
          9,
          10,
          12,
          13,
          14,
          15,
          16,
          17,
          18
         ],
         "y": [
          212,
          402,
          673,
          1058,
          1409,
          1652,
          1942,
          2267,
          2547,
          2805,
          3051,
          3332,
          3585,
          3897,
          4178,
          4610,
          4694
         ]
        },
        {
         "hovertemplate": "<b>Trevor Lawrence</b><br>%{y} yds through week %{x}<extra></extra>",
         "line": {
          "color": "#006778"
         },
         "mode": "markers+lines",
         "name": "Trevor Lawrence",
         "type": "scatter",
         "x": [
          1,
          2,
          3,
          4,
          5,
          6,
          7,
          8,
          9,
          10,
          12,
          13,
          14,
          15,
          16,
          17,
          18
         ],
         "y": [
          275,
          510,
          772,
          946,
          1232,
          1397,
          1707,
          1840,
          2075,
          2334,
          2655,
          2834,
          3202,
          3520,
          3749,
          3901,
          4113
         ]
        },
        {
         "hovertemplate": "<b>Tua Tagovailoa</b><br>%{y} yds through week %{x}<extra></extra>",
         "line": {
          "color": "#008E97"
         },
         "mode": "markers+lines",
         "name": "Tua Tagovailoa",
         "type": "scatter",
         "x": [
          1,
          2,
          3,
          4,
          7,
          8,
          9,
          10,
          12,
          13,
          14,
          15,
          16
         ],
         "y": [
          270,
          739,
          925,
          1035,
          1296,
          1678,
          1980,
          2265,
          2564,
          2859,
          3004,
          3238,
          3548
         ]
        },
        {
         "hovertemplate": "<b>Zach Wilson</b><br>%{y} yds through week %{x}<extra></extra>",
         "line": {
          "color": "#003F2D"
         },
         "mode": "markers+lines",
         "name": "Zach Wilson",
         "type": "scatter",
         "x": [
          4,
          5,
          6,
          7,
          8,
          9,
          11,
          15,
          16
         ],
         "y": [
          252,
          462,
          572,
          693,
          1048,
          1202,
          1279,
          1596,
          1688
         ]
        }
       ],
       "layout": {
        "font": {
         "family": "Averta, sans-serif"
        },
        "height": 1000,
        "hoverlabel": {
         "font": {
          "family": "Averta, sans-serif",
          "size": 16
         }
        },
        "legend": {
         "font": {
          "size": 16
         }
        },
        "template": {
         "data": {
          "bar": [
           {
            "error_x": {
             "color": "#2a3f5f"
            },
            "error_y": {
             "color": "#2a3f5f"
            },
            "marker": {
             "line": {
              "color": "#E5ECF6",
              "width": 0.5
             },
             "pattern": {
              "fillmode": "overlay",
              "size": 10,
              "solidity": 0.2
             }
            },
            "type": "bar"
           }
          ],
          "barpolar": [
           {
            "marker": {
             "line": {
              "color": "#E5ECF6",
              "width": 0.5
             },
             "pattern": {
              "fillmode": "overlay",
              "size": 10,
              "solidity": 0.2
             }
            },
            "type": "barpolar"
           }
          ],
          "carpet": [
           {
            "aaxis": {
             "endlinecolor": "#2a3f5f",
             "gridcolor": "white",
             "linecolor": "white",
             "minorgridcolor": "white",
             "startlinecolor": "#2a3f5f"
            },
            "baxis": {
             "endlinecolor": "#2a3f5f",
             "gridcolor": "white",
             "linecolor": "white",
             "minorgridcolor": "white",
             "startlinecolor": "#2a3f5f"
            },
            "type": "carpet"
           }
          ],
          "choropleth": [
           {
            "colorbar": {
             "outlinewidth": 0,
             "ticks": ""
            },
            "type": "choropleth"
           }
          ],
          "contour": [
           {
            "colorbar": {
             "outlinewidth": 0,
             "ticks": ""
            },
            "colorscale": [
             [
              0,
              "#0d0887"
             ],
             [
              0.1111111111111111,
              "#46039f"
             ],
             [
              0.2222222222222222,
              "#7201a8"
             ],
             [
              0.3333333333333333,
              "#9c179e"
             ],
             [
              0.4444444444444444,
              "#bd3786"
             ],
             [
              0.5555555555555556,
              "#d8576b"
             ],
             [
              0.6666666666666666,
              "#ed7953"
             ],
             [
              0.7777777777777778,
              "#fb9f3a"
             ],
             [
              0.8888888888888888,
              "#fdca26"
             ],
             [
              1,
              "#f0f921"
             ]
            ],
            "type": "contour"
           }
          ],
          "contourcarpet": [
           {
            "colorbar": {
             "outlinewidth": 0,
             "ticks": ""
            },
            "type": "contourcarpet"
           }
          ],
          "heatmap": [
           {
            "colorbar": {
             "outlinewidth": 0,
             "ticks": ""
            },
            "colorscale": [
             [
              0,
              "#0d0887"
             ],
             [
              0.1111111111111111,
              "#46039f"
             ],
             [
              0.2222222222222222,
              "#7201a8"
             ],
             [
              0.3333333333333333,
              "#9c179e"
             ],
             [
              0.4444444444444444,
              "#bd3786"
             ],
             [
              0.5555555555555556,
              "#d8576b"
             ],
             [
              0.6666666666666666,
              "#ed7953"
             ],
             [
              0.7777777777777778,
              "#fb9f3a"
             ],
             [
              0.8888888888888888,
              "#fdca26"
             ],
             [
              1,
              "#f0f921"
             ]
            ],
            "type": "heatmap"
           }
          ],
          "heatmapgl": [
           {
            "colorbar": {
             "outlinewidth": 0,
             "ticks": ""
            },
            "colorscale": [
             [
              0,
              "#0d0887"
             ],
             [
              0.1111111111111111,
              "#46039f"
             ],
             [
              0.2222222222222222,
              "#7201a8"
             ],
             [
              0.3333333333333333,
              "#9c179e"
             ],
             [
              0.4444444444444444,
              "#bd3786"
             ],
             [
              0.5555555555555556,
              "#d8576b"
             ],
             [
              0.6666666666666666,
              "#ed7953"
             ],
             [
              0.7777777777777778,
              "#fb9f3a"
             ],
             [
              0.8888888888888888,
              "#fdca26"
             ],
             [
              1,
              "#f0f921"
             ]
            ],
            "type": "heatmapgl"
           }
          ],
          "histogram": [
           {
            "marker": {
             "pattern": {
              "fillmode": "overlay",
              "size": 10,
              "solidity": 0.2
             }
            },
            "type": "histogram"
           }
          ],
          "histogram2d": [
           {
            "colorbar": {
             "outlinewidth": 0,
             "ticks": ""
            },
            "colorscale": [
             [
              0,
              "#0d0887"
             ],
             [
              0.1111111111111111,
              "#46039f"
             ],
             [
              0.2222222222222222,
              "#7201a8"
             ],
             [
              0.3333333333333333,
              "#9c179e"
             ],
             [
              0.4444444444444444,
              "#bd3786"
             ],
             [
              0.5555555555555556,
              "#d8576b"
             ],
             [
              0.6666666666666666,
              "#ed7953"
             ],
             [
              0.7777777777777778,
              "#fb9f3a"
             ],
             [
              0.8888888888888888,
              "#fdca26"
             ],
             [
              1,
              "#f0f921"
             ]
            ],
            "type": "histogram2d"
           }
          ],
          "histogram2dcontour": [
           {
            "colorbar": {
             "outlinewidth": 0,
             "ticks": ""
            },
            "colorscale": [
             [
              0,
              "#0d0887"
             ],
             [
              0.1111111111111111,
              "#46039f"
             ],
             [
              0.2222222222222222,
              "#7201a8"
             ],
             [
              0.3333333333333333,
              "#9c179e"
             ],
             [
              0.4444444444444444,
              "#bd3786"
             ],
             [
              0.5555555555555556,
              "#d8576b"
             ],
             [
              0.6666666666666666,
              "#ed7953"
             ],
             [
              0.7777777777777778,
              "#fb9f3a"
             ],
             [
              0.8888888888888888,
              "#fdca26"
             ],
             [
              1,
              "#f0f921"
             ]
            ],
            "type": "histogram2dcontour"
           }
          ],
          "mesh3d": [
           {
            "colorbar": {
             "outlinewidth": 0,
             "ticks": ""
            },
            "type": "mesh3d"
           }
          ],
          "parcoords": [
           {
            "line": {
             "colorbar": {
              "outlinewidth": 0,
              "ticks": ""
             }
            },
            "type": "parcoords"
           }
          ],
          "pie": [
           {
            "automargin": true,
            "type": "pie"
           }
          ],
          "scatter": [
           {
            "fillpattern": {
             "fillmode": "overlay",
             "size": 10,
             "solidity": 0.2
            },
            "type": "scatter"
           }
          ],
          "scatter3d": [
           {
            "line": {
             "colorbar": {
              "outlinewidth": 0,
              "ticks": ""
             }
            },
            "marker": {
             "colorbar": {
              "outlinewidth": 0,
              "ticks": ""
             }
            },
            "type": "scatter3d"
           }
          ],
          "scattercarpet": [
           {
            "marker": {
             "colorbar": {
              "outlinewidth": 0,
              "ticks": ""
             }
            },
            "type": "scattercarpet"
           }
          ],
          "scattergeo": [
           {
            "marker": {
             "colorbar": {
              "outlinewidth": 0,
              "ticks": ""
             }
            },
            "type": "scattergeo"
           }
          ],
          "scattergl": [
           {
            "marker": {
             "colorbar": {
              "outlinewidth": 0,
              "ticks": ""
             }
            },
            "type": "scattergl"
           }
          ],
          "scattermapbox": [
           {
            "marker": {
             "colorbar": {
              "outlinewidth": 0,
              "ticks": ""
             }
            },
            "type": "scattermapbox"
           }
          ],
          "scatterpolar": [
           {
            "marker": {
             "colorbar": {
              "outlinewidth": 0,
              "ticks": ""
             }
            },
            "type": "scatterpolar"
           }
          ],
          "scatterpolargl": [
           {
            "marker": {
             "colorbar": {
              "outlinewidth": 0,
              "ticks": ""
             }
            },
            "type": "scatterpolargl"
           }
          ],
          "scatterternary": [
           {
            "marker": {
             "colorbar": {
              "outlinewidth": 0,
              "ticks": ""
             }
            },
            "type": "scatterternary"
           }
          ],
          "surface": [
           {
            "colorbar": {
             "outlinewidth": 0,
             "ticks": ""
            },
            "colorscale": [
             [
              0,
              "#0d0887"
             ],
             [
              0.1111111111111111,
              "#46039f"
             ],
             [
              0.2222222222222222,
              "#7201a8"
             ],
             [
              0.3333333333333333,
              "#9c179e"
             ],
             [
              0.4444444444444444,
              "#bd3786"
             ],
             [
              0.5555555555555556,
              "#d8576b"
             ],
             [
              0.6666666666666666,
              "#ed7953"
             ],
             [
              0.7777777777777778,
              "#fb9f3a"
             ],
             [
              0.8888888888888888,
              "#fdca26"
             ],
             [
              1,
              "#f0f921"
             ]
            ],
            "type": "surface"
           }
          ],
          "table": [
           {
            "cells": {
             "fill": {
              "color": "#EBF0F8"
             },
             "line": {
              "color": "white"
             }
            },
            "header": {
             "fill": {
              "color": "#C8D4E3"
             },
             "line": {
              "color": "white"
             }
            },
            "type": "table"
           }
          ]
         },
         "layout": {
          "annotationdefaults": {
           "arrowcolor": "#2a3f5f",
           "arrowhead": 0,
           "arrowwidth": 1
          },
          "autotypenumbers": "strict",
          "coloraxis": {
           "colorbar": {
            "outlinewidth": 0,
            "ticks": ""
           }
          },
          "colorscale": {
           "diverging": [
            [
             0,
             "#8e0152"
            ],
            [
             0.1,
             "#c51b7d"
            ],
            [
             0.2,
             "#de77ae"
            ],
            [
             0.3,
             "#f1b6da"
            ],
            [
             0.4,
             "#fde0ef"
            ],
            [
             0.5,
             "#f7f7f7"
            ],
            [
             0.6,
             "#e6f5d0"
            ],
            [
             0.7,
             "#b8e186"
            ],
            [
             0.8,
             "#7fbc41"
            ],
            [
             0.9,
             "#4d9221"
            ],
            [
             1,
             "#276419"
            ]
           ],
           "sequential": [
            [
             0,
             "#0d0887"
            ],
            [
             0.1111111111111111,
             "#46039f"
            ],
            [
             0.2222222222222222,
             "#7201a8"
            ],
            [
             0.3333333333333333,
             "#9c179e"
            ],
            [
             0.4444444444444444,
             "#bd3786"
            ],
            [
             0.5555555555555556,
             "#d8576b"
            ],
            [
             0.6666666666666666,
             "#ed7953"
            ],
            [
             0.7777777777777778,
             "#fb9f3a"
            ],
            [
             0.8888888888888888,
             "#fdca26"
            ],
            [
             1,
             "#f0f921"
            ]
           ],
           "sequentialminus": [
            [
             0,
             "#0d0887"
            ],
            [
             0.1111111111111111,
             "#46039f"
            ],
            [
             0.2222222222222222,
             "#7201a8"
            ],
            [
             0.3333333333333333,
             "#9c179e"
            ],
            [
             0.4444444444444444,
             "#bd3786"
            ],
            [
             0.5555555555555556,
             "#d8576b"
            ],
            [
             0.6666666666666666,
             "#ed7953"
            ],
            [
             0.7777777777777778,
             "#fb9f3a"
            ],
            [
             0.8888888888888888,
             "#fdca26"
            ],
            [
             1,
             "#f0f921"
            ]
           ]
          },
          "colorway": [
           "#636efa",
           "#EF553B",
           "#00cc96",
           "#ab63fa",
           "#FFA15A",
           "#19d3f3",
           "#FF6692",
           "#B6E880",
           "#FF97FF",
           "#FECB52"
          ],
          "font": {
           "color": "#2a3f5f"
          },
          "geo": {
           "bgcolor": "white",
           "lakecolor": "white",
           "landcolor": "#E5ECF6",
           "showlakes": true,
           "showland": true,
           "subunitcolor": "white"
          },
          "hoverlabel": {
           "align": "left"
          },
          "hovermode": "closest",
          "mapbox": {
           "style": "light"
          },
          "paper_bgcolor": "white",
          "plot_bgcolor": "#E5ECF6",
          "polar": {
           "angularaxis": {
            "gridcolor": "white",
            "linecolor": "white",
            "ticks": ""
           },
           "bgcolor": "#E5ECF6",
           "radialaxis": {
            "gridcolor": "white",
            "linecolor": "white",
            "ticks": ""
           }
          },
          "scene": {
           "xaxis": {
            "backgroundcolor": "#E5ECF6",
            "gridcolor": "white",
            "gridwidth": 2,
            "linecolor": "white",
            "showbackground": true,
            "ticks": "",
            "zerolinecolor": "white"
           },
           "yaxis": {
            "backgroundcolor": "#E5ECF6",
            "gridcolor": "white",
            "gridwidth": 2,
            "linecolor": "white",
            "showbackground": true,
            "ticks": "",
            "zerolinecolor": "white"
           },
           "zaxis": {
            "backgroundcolor": "#E5ECF6",
            "gridcolor": "white",
            "gridwidth": 2,
            "linecolor": "white",
            "showbackground": true,
            "ticks": "",
            "zerolinecolor": "white"
           }
          },
          "shapedefaults": {
           "line": {
            "color": "#2a3f5f"
           }
          },
          "ternary": {
           "aaxis": {
            "gridcolor": "white",
            "linecolor": "white",
            "ticks": ""
           },
           "baxis": {
            "gridcolor": "white",
            "linecolor": "white",
            "ticks": ""
           },
           "bgcolor": "#E5ECF6",
           "caxis": {
            "gridcolor": "white",
            "linecolor": "white",
            "ticks": ""
           }
          },
          "title": {
           "x": 0.05
          },
          "xaxis": {
           "automargin": true,
           "gridcolor": "white",
           "linecolor": "white",
           "ticks": "",
           "title": {
            "standoff": 15
           },
           "zerolinecolor": "white",
           "zerolinewidth": 2
          },
          "yaxis": {
           "automargin": true,
           "gridcolor": "white",
           "linecolor": "white",
           "ticks": "",
           "title": {
            "standoff": 15
           },
           "zerolinecolor": "white",
           "zerolinewidth": 2
          }
         }
        },
        "width": 1000,
        "xaxis": {
         "tickfont": {
          "size": 16
         },
         "title": {
          "font": {
           "size": 18
          },
          "text": "Week"
         }
        },
        "yaxis": {
         "tickfont": {
          "size": 16
         },
         "title": {
          "font": {
           "size": 18
          },
          "text": "Passing Yards"
         }
        }
       }
      },
      "text/html": [
       "<div>                            <div id=\"15d586c6-fedd-43e6-b2a5-9e6161b9880c\" class=\"plotly-graph-div\" style=\"height:1000px; width:1000px;\"></div>            <script type=\"text/javascript\">                require([\"plotly\"], function(Plotly) {                    window.PLOTLYENV=window.PLOTLYENV || {};                                    if (document.getElementById(\"15d586c6-fedd-43e6-b2a5-9e6161b9880c\")) {                    Plotly.newPlot(                        \"15d586c6-fedd-43e6-b2a5-9e6161b9880c\",                        [{\"hovertemplate\":\"<b>Aaron Rodgers</b><br>%{y} yds through week %{x}<extra></extra>\",\"line\":{\"color\":\"#203731\"},\"mode\":\"markers+lines\",\"name\":\"Aaron Rodgers\",\"x\":[1,2,3,4,5,6,7,8,9,10,11,12,13,15,16,17,18],\"y\":[195.0,429.0,684.0,935.0,1157.0,1403.0,1597.0,1800.0,2091.0,2315.0,2542.0,2682.0,2864.0,3093.0,3331.0,3490.0,3695.0],\"type\":\"scatter\"},{\"hovertemplate\":\"<b>Andy Dalton</b><br>%{y} yds through week %{x}<extra></extra>\",\"line\":{\"color\":\"#D3BC8D\"},\"mode\":\"markers+lines\",\"name\":\"Andy Dalton\",\"x\":[4,5,6,7,8,9,10,11,12,13,15,16,17,18],\"y\":[236.0,423.0,585.0,946.0,1175.0,1385.0,1559.0,1819.0,2023.0,2252.0,2403.0,2495.0,2700.0,2871.0],\"type\":\"scatter\"},{\"hovertemplate\":\"<b>Baker Mayfield</b><br>%{y} yds through week %{x}<extra></extra>\",\"line\":{\"color\":\"#0085CA\"},\"mode\":\"markers+lines\",\"name\":\"Baker Mayfield\",\"x\":[1,2,3,4,5,9,11,14,15,16,17,18],\"y\":[235.0,380.0,550.0,747.0,962.0,1117.0,1313.0,1543.0,1654.0,1884.0,2016.0,2163.0],\"type\":\"scatter\"},{\"hovertemplate\":\"<b>Carson Wentz</b><br>%{y} yds through week %{x}<extra></extra>\",\"line\":{\"color\":\"#5A1414\"},\"mode\":\"markers+lines\",\"name\":\"Carson Wentz\",\"x\":[1,2,3,4,5,6,16,17],\"y\":[313.0,650.0,861.0,1031.0,1390.0,1489.0,1612.0,1755.0],\"type\":\"scatter\"},{\"hovertemplate\":\"<b>Dak Prescott</b><br>%{y} yds through week %{x}<extra></extra>\",\"line\":{\"color\":\"#002244\"},\"mode\":\"markers+lines\",\"name\":\"Dak Prescott\",\"x\":[1,7,8,10,11,12,13,14,15,16,17,18],\"y\":[134.0,341.0,591.0,856.0,1132.0,1393.0,1563.0,1847.0,2103.0,2450.0,2732.0,2860.0],\"type\":\"scatter\"},{\"hovertemplate\":\"<b>Daniel Jones</b><br>%{y} yds through week %{x}<extra></extra>\",\"line\":{\"color\":\"#0B2265\"},\"mode\":\"markers+lines\",\"name\":\"Daniel Jones\",\"x\":[1,2,3,4,5,6,7,8,10,11,12,13,14,15,16,17],\"y\":[188.0,364.0,560.0,631.0,848.0,1021.0,1223.0,1399.0,1596.0,1937.0,2165.0,2365.0,2534.0,2694.0,3028.0,3205.0],\"type\":\"scatter\"},{\"hovertemplate\":\"<b>Davis Mills</b><br>%{y} yds through week %{x}<extra></extra>\",\"line\":{\"color\":\"#03202F\"},\"mode\":\"markers+lines\",\"name\":\"Davis Mills\",\"x\":[1,2,3,4,5,7,8,9,10,11,14,15,16,17,18],\"y\":[240.0,417.0,662.0,908.0,1048.0,1350.0,1502.0,1656.0,1975.0,2144.0,2319.0,2440.0,2618.0,2820.0,3118.0],\"type\":\"scatter\"},{\"hovertemplate\":\"<b>Derek Carr</b><br>%{y} yds through week %{x}<extra></extra>\",\"line\":{\"color\":\"#000000\"},\"mode\":\"markers+lines\",\"name\":\"Derek Carr\",\"x\":[1,2,3,4,5,7,8,9,10,11,12,13,14,15,16],\"y\":[295.0,547.0,850.0,1038.0,1279.0,1520.0,1621.0,1880.0,2128.0,2435.0,2730.0,2980.0,3117.0,3348.0,3522.0],\"type\":\"scatter\"},{\"hovertemplate\":\"<b>Geno Smith</b><br>%{y} yds through week %{x}<extra></extra>\",\"line\":{\"color\":\"#002244\"},\"mode\":\"markers+lines\",\"name\":\"Geno Smith\",\"x\":[1,2,3,4,5,6,7,8,9,10,12,13,14,15,16,17,18],\"y\":[195.0,392.0,717.0,1037.0,1305.0,1502.0,1712.0,1924.0,2199.0,2474.0,2802.0,3169.0,3433.0,3671.0,3886.0,4069.0,4282.0],\"type\":\"scatter\"},{\"hovertemplate\":\"<b>Jacoby Brissett</b><br>%{y} yds through week %{x}<extra></extra>\",\"line\":{\"color\":\"#FF3C00\"},\"mode\":\"markers+lines\",\"name\":\"Jacoby Brissett\",\"x\":[1,2,3,4,5,6,7,8,10,11,12,14],\"y\":[147.0,376.0,596.0,830.0,1060.0,1326.0,1584.0,1862.0,2074.0,2398.0,2608.0,2608.0],\"type\":\"scatter\"},{\"hovertemplate\":\"<b>Jalen Hurts</b><br>%{y} yds through week %{x}<extra></extra>\",\"line\":{\"color\":\"#004C54\"},\"mode\":\"markers+lines\",\"name\":\"Jalen Hurts\",\"x\":[1,2,3,4,5,6,8,9,10,11,12,13,14,15,18],\"y\":[243.0,576.0,916.0,1120.0,1359.0,1514.0,1799.0,2042.0,2217.0,2407.0,2560.0,2940.0,3157.0,3472.0,3701.0],\"type\":\"scatter\"},{\"hovertemplate\":\"<b>Jared Goff</b><br>%{y} yds through week %{x}<extra></extra>\",\"line\":{\"color\":\"#0076B6\"},\"mode\":\"markers+lines\",\"name\":\"Jared Goff\",\"x\":[1,2,3,4,5,7,8,9,10,11,12,13,14,15,16,17,18],\"y\":[215.0,471.0,748.0,1126.0,1355.0,1583.0,1904.0,2041.0,2277.0,2442.0,2682.0,3022.0,3352.0,3604.0,3959.0,4214.0,4438.0],\"type\":\"scatter\"},{\"hovertemplate\":\"<b>Jimmy Garoppolo</b><br>%{y} yds through week %{x}<extra></extra>\",\"line\":{\"color\":\"#AA0000\"},\"mode\":\"markers+lines\",\"name\":\"Jimmy Garoppolo\",\"x\":[2,3,4,5,6,7,8,10,11,12,13],\"y\":[154.0,365.0,604.0,857.0,1153.0,1456.0,1691.0,1931.0,2159.0,2381.0,2437.0],\"type\":\"scatter\"},{\"hovertemplate\":\"<b>Joe Burrow</b><br>%{y} yds through week %{x}<extra></extra>\",\"line\":{\"color\":\"#FB4F14\"},\"mode\":\"markers+lines\",\"name\":\"Joe Burrow\",\"x\":[1,2,3,4,5,6,7,8,9,11,12,13,14,15,16,18],\"y\":[338.0,537.0,812.0,1099.0,1316.0,1616.0,2097.0,2329.0,2535.0,2890.0,3160.0,3446.0,3685.0,3885.0,4260.0,4475.0],\"type\":\"scatter\"},{\"hovertemplate\":\"<b>Josh Allen</b><br>%{y} yds through week %{x}<extra></extra>\",\"line\":{\"color\":\"#00338D\"},\"mode\":\"markers+lines\",\"name\":\"Josh Allen\",\"x\":[1,2,3,4,5,6,8,9,10,11,12,13,14,15,16,18],\"y\":[297.0,614.0,1014.0,1227.0,1651.0,1980.0,2198.0,2403.0,2733.0,2930.0,3183.0,3406.0,3553.0,3857.0,4029.0,4283.0],\"type\":\"scatter\"},{\"hovertemplate\":\"<b>Justin Fields</b><br>%{y} yds through week %{x}<extra></extra>\",\"line\":{\"color\":\"#0B162A\"},\"mode\":\"markers+lines\",\"name\":\"Justin Fields\",\"x\":[1,2,3,4,5,6,7,8,9,10,11,13,15,16,17],\"y\":[121.0,191.0,297.0,471.0,679.0,869.0,1048.0,1199.0,1322.0,1489.0,1642.0,1896.0,2048.0,2167.0,2242.0],\"type\":\"scatter\"},{\"hovertemplate\":\"<b>Justin Herbert</b><br>%{y} yds through week %{x}<extra></extra>\",\"line\":{\"color\":\"#007BC7\"},\"mode\":\"markers+lines\",\"name\":\"Justin Herbert\",\"x\":[1,2,3,4,5,6,7,9,10,11,12,13,14,15,16,17,18],\"y\":[279.0,613.0,910.0,1250.0,1478.0,1716.0,2009.0,2254.0,2450.0,2730.0,3004.0,3339.0,3706.0,4019.0,4254.0,4466.0,4739.0],\"type\":\"scatter\"},{\"hovertemplate\":\"<b>Kenny Pickett</b><br>%{y} yds through week %{x}<extra></extra>\",\"line\":{\"color\":\"#000000\"},\"mode\":\"markers+lines\",\"name\":\"Kenny Pickett\",\"x\":[4,5,6,7,8,10,11,12,13,14,16,17,18],\"y\":[120.0,447.0,514.0,771.0,962.0,1161.0,1426.0,1600.0,1797.0,1797.0,2041.0,2209.0,2404.0],\"type\":\"scatter\"},{\"hovertemplate\":\"<b>Kirk Cousins</b><br>%{y} yds through week %{x}<extra></extra>\",\"line\":{\"color\":\"#4F2683\"},\"mode\":\"markers+lines\",\"name\":\"Kirk Cousins\",\"x\":[1,2,3,4,5,6,8,9,10,11,12,13,14,15,16,17,18],\"y\":[277.0,498.0,758.0,1031.0,1327.0,1502.0,1734.0,1999.0,2356.0,2461.0,2760.0,2933.0,3358.0,3818.0,4117.0,4322.0,4547.0],\"type\":\"scatter\"},{\"hovertemplate\":\"<b>Kyler Murray</b><br>%{y} yds through week %{x}<extra></extra>\",\"line\":{\"color\":\"#97233F\"},\"mode\":\"markers+lines\",\"name\":\"Kyler Murray\",\"x\":[1,2,3,4,5,6,7,8,9,12,14],\"y\":[193.0,470.0,784.0,991.0,1241.0,1463.0,1667.0,1993.0,2168.0,2359.0,2368.0],\"type\":\"scatter\"},{\"hovertemplate\":\"<b>Lamar Jackson</b><br>%{y} yds through week %{x}<extra></extra>\",\"line\":{\"color\":\"#241773\"},\"mode\":\"markers+lines\",\"name\":\"Lamar Jackson\",\"x\":[1,2,3,4,5,6,7,8,9,11,12,13],\"y\":[213.0,531.0,749.0,893.0,1067.0,1277.0,1397.0,1635.0,1768.0,1977.0,2231.0,2242.0],\"type\":\"scatter\"},{\"hovertemplate\":\"<b>Mac Jones</b><br>%{y} yds through week %{x}<extra></extra>\",\"line\":{\"color\":\"#002244\"},\"mode\":\"markers+lines\",\"name\":\"Mac Jones\",\"x\":[1,2,3,7,8,9,11,12,13,14,15,16,17,18],\"y\":[213.0,465.0,786.0,799.0,993.0,1140.0,1386.0,1768.0,1963.0,2198.0,2310.0,2550.0,2754.0,2997.0],\"type\":\"scatter\"},{\"hovertemplate\":\"<b>Marcus Mariota</b><br>%{y} yds through week %{x}<extra></extra>\",\"line\":{\"color\":\"#A71930\"},\"mode\":\"markers+lines\",\"name\":\"Marcus Mariota\",\"x\":[1,2,3,4,5,6,7,8,9,10,11,12,13],\"y\":[215.0,411.0,640.0,779.0,926.0,1055.0,1179.0,1432.0,1561.0,1747.0,1878.0,2052.0,2219.0],\"type\":\"scatter\"},{\"hovertemplate\":\"<b>Matt Ryan</b><br>%{y} yds through week %{x}<extra></extra>\",\"line\":{\"color\":\"#002C5F\"},\"mode\":\"markers+lines\",\"name\":\"Matt Ryan\",\"x\":[1,2,3,4,5,6,7,10,11,12,13,15],\"y\":[352.0,547.0,769.0,1125.0,1376.0,1765.0,2008.0,2230.0,2443.0,2642.0,2875.0,3057.0],\"type\":\"scatter\"},{\"hovertemplate\":\"<b>Matthew Stafford</b><br>%{y} yds through week %{x}<extra></extra>\",\"line\":{\"color\":\"#003594\"},\"mode\":\"markers+lines\",\"name\":\"Matthew Stafford\",\"x\":[1,2,3,4,5,6,8,9,11],\"y\":[240.0,512.0,761.0,1015.0,1323.0,1576.0,1763.0,1928.0,2087.0],\"type\":\"scatter\"},{\"hovertemplate\":\"<b>Patrick Mahomes</b><br>%{y} yds through week %{x}<extra></extra>\",\"line\":{\"color\":\"#E31837\"},\"mode\":\"markers+lines\",\"name\":\"Patrick Mahomes\",\"x\":[1,2,3,4,5,6,7,9,10,11,12,13,14,15,16,17,18],\"y\":[360.0,595.0,857.0,1106.0,1398.0,1736.0,2159.0,2605.0,2936.0,3265.0,3585.0,3808.0,4160.0,4496.0,4720.0,5048.0,5250.0],\"type\":\"scatter\"},{\"hovertemplate\":\"<b>Russell Wilson</b><br>%{y} yds through week %{x}<extra></extra>\",\"line\":{\"color\":\"#002244\"},\"mode\":\"markers+lines\",\"name\":\"Russell Wilson\",\"x\":[1,2,3,4,5,6,8,10,11,12,13,14,16,17,18],\"y\":[340.0,559.0,743.0,980.0,1254.0,1442.0,1694.0,1980.0,2227.0,2369.0,2558.0,2805.0,3019.0,3241.0,3524.0],\"type\":\"scatter\"},{\"hovertemplate\":\"<b>Ryan Tannehill</b><br>%{y} yds through week %{x}<extra></extra>\",\"line\":{\"color\":\"#002244\"},\"mode\":\"markers+lines\",\"name\":\"Ryan Tannehill\",\"x\":[1,2,3,4,5,7,10,11,12,13,14,15],\"y\":[266.0,383.0,647.0,784.0,965.0,1097.0,1352.0,1685.0,1976.0,2117.0,2371.0,2536.0],\"type\":\"scatter\"},{\"hovertemplate\":\"<b>Taylor Heinicke</b><br>%{y} yds through week %{x}<extra></extra>\",\"line\":{\"color\":\"#5A1414\"},\"mode\":\"markers+lines\",\"name\":\"Taylor Heinicke\",\"x\":[7,8,9,10,11,12,13,15,16],\"y\":[201.0,480.0,629.0,840.0,1031.0,1169.0,1444.0,1693.0,1859.0],\"type\":\"scatter\"},{\"hovertemplate\":\"<b>Tom Brady</b><br>%{y} yds through week %{x}<extra></extra>\",\"line\":{\"color\":\"#A71930\"},\"mode\":\"markers+lines\",\"name\":\"Tom Brady\",\"x\":[1,2,3,4,5,6,7,8,9,10,12,13,14,15,16,17,18],\"y\":[212.0,402.0,673.0,1058.0,1409.0,1652.0,1942.0,2267.0,2547.0,2805.0,3051.0,3332.0,3585.0,3897.0,4178.0,4610.0,4694.0],\"type\":\"scatter\"},{\"hovertemplate\":\"<b>Trevor Lawrence</b><br>%{y} yds through week %{x}<extra></extra>\",\"line\":{\"color\":\"#006778\"},\"mode\":\"markers+lines\",\"name\":\"Trevor Lawrence\",\"x\":[1,2,3,4,5,6,7,8,9,10,12,13,14,15,16,17,18],\"y\":[275.0,510.0,772.0,946.0,1232.0,1397.0,1707.0,1840.0,2075.0,2334.0,2655.0,2834.0,3202.0,3520.0,3749.0,3901.0,4113.0],\"type\":\"scatter\"},{\"hovertemplate\":\"<b>Tua Tagovailoa</b><br>%{y} yds through week %{x}<extra></extra>\",\"line\":{\"color\":\"#008E97\"},\"mode\":\"markers+lines\",\"name\":\"Tua Tagovailoa\",\"x\":[1,2,3,4,7,8,9,10,12,13,14,15,16],\"y\":[270.0,739.0,925.0,1035.0,1296.0,1678.0,1980.0,2265.0,2564.0,2859.0,3004.0,3238.0,3548.0],\"type\":\"scatter\"},{\"hovertemplate\":\"<b>Zach Wilson</b><br>%{y} yds through week %{x}<extra></extra>\",\"line\":{\"color\":\"#003F2D\"},\"mode\":\"markers+lines\",\"name\":\"Zach Wilson\",\"x\":[4,5,6,7,8,9,11,15,16],\"y\":[252.0,462.0,572.0,693.0,1048.0,1202.0,1279.0,1596.0,1688.0],\"type\":\"scatter\"}],                        {\"template\":{\"data\":{\"histogram2dcontour\":[{\"type\":\"histogram2dcontour\",\"colorbar\":{\"outlinewidth\":0,\"ticks\":\"\"},\"colorscale\":[[0.0,\"#0d0887\"],[0.1111111111111111,\"#46039f\"],[0.2222222222222222,\"#7201a8\"],[0.3333333333333333,\"#9c179e\"],[0.4444444444444444,\"#bd3786\"],[0.5555555555555556,\"#d8576b\"],[0.6666666666666666,\"#ed7953\"],[0.7777777777777778,\"#fb9f3a\"],[0.8888888888888888,\"#fdca26\"],[1.0,\"#f0f921\"]]}],\"choropleth\":[{\"type\":\"choropleth\",\"colorbar\":{\"outlinewidth\":0,\"ticks\":\"\"}}],\"histogram2d\":[{\"type\":\"histogram2d\",\"colorbar\":{\"outlinewidth\":0,\"ticks\":\"\"},\"colorscale\":[[0.0,\"#0d0887\"],[0.1111111111111111,\"#46039f\"],[0.2222222222222222,\"#7201a8\"],[0.3333333333333333,\"#9c179e\"],[0.4444444444444444,\"#bd3786\"],[0.5555555555555556,\"#d8576b\"],[0.6666666666666666,\"#ed7953\"],[0.7777777777777778,\"#fb9f3a\"],[0.8888888888888888,\"#fdca26\"],[1.0,\"#f0f921\"]]}],\"heatmap\":[{\"type\":\"heatmap\",\"colorbar\":{\"outlinewidth\":0,\"ticks\":\"\"},\"colorscale\":[[0.0,\"#0d0887\"],[0.1111111111111111,\"#46039f\"],[0.2222222222222222,\"#7201a8\"],[0.3333333333333333,\"#9c179e\"],[0.4444444444444444,\"#bd3786\"],[0.5555555555555556,\"#d8576b\"],[0.6666666666666666,\"#ed7953\"],[0.7777777777777778,\"#fb9f3a\"],[0.8888888888888888,\"#fdca26\"],[1.0,\"#f0f921\"]]}],\"heatmapgl\":[{\"type\":\"heatmapgl\",\"colorbar\":{\"outlinewidth\":0,\"ticks\":\"\"},\"colorscale\":[[0.0,\"#0d0887\"],[0.1111111111111111,\"#46039f\"],[0.2222222222222222,\"#7201a8\"],[0.3333333333333333,\"#9c179e\"],[0.4444444444444444,\"#bd3786\"],[0.5555555555555556,\"#d8576b\"],[0.6666666666666666,\"#ed7953\"],[0.7777777777777778,\"#fb9f3a\"],[0.8888888888888888,\"#fdca26\"],[1.0,\"#f0f921\"]]}],\"contourcarpet\":[{\"type\":\"contourcarpet\",\"colorbar\":{\"outlinewidth\":0,\"ticks\":\"\"}}],\"contour\":[{\"type\":\"contour\",\"colorbar\":{\"outlinewidth\":0,\"ticks\":\"\"},\"colorscale\":[[0.0,\"#0d0887\"],[0.1111111111111111,\"#46039f\"],[0.2222222222222222,\"#7201a8\"],[0.3333333333333333,\"#9c179e\"],[0.4444444444444444,\"#bd3786\"],[0.5555555555555556,\"#d8576b\"],[0.6666666666666666,\"#ed7953\"],[0.7777777777777778,\"#fb9f3a\"],[0.8888888888888888,\"#fdca26\"],[1.0,\"#f0f921\"]]}],\"surface\":[{\"type\":\"surface\",\"colorbar\":{\"outlinewidth\":0,\"ticks\":\"\"},\"colorscale\":[[0.0,\"#0d0887\"],[0.1111111111111111,\"#46039f\"],[0.2222222222222222,\"#7201a8\"],[0.3333333333333333,\"#9c179e\"],[0.4444444444444444,\"#bd3786\"],[0.5555555555555556,\"#d8576b\"],[0.6666666666666666,\"#ed7953\"],[0.7777777777777778,\"#fb9f3a\"],[0.8888888888888888,\"#fdca26\"],[1.0,\"#f0f921\"]]}],\"mesh3d\":[{\"type\":\"mesh3d\",\"colorbar\":{\"outlinewidth\":0,\"ticks\":\"\"}}],\"scatter\":[{\"fillpattern\":{\"fillmode\":\"overlay\",\"size\":10,\"solidity\":0.2},\"type\":\"scatter\"}],\"parcoords\":[{\"type\":\"parcoords\",\"line\":{\"colorbar\":{\"outlinewidth\":0,\"ticks\":\"\"}}}],\"scatterpolargl\":[{\"type\":\"scatterpolargl\",\"marker\":{\"colorbar\":{\"outlinewidth\":0,\"ticks\":\"\"}}}],\"bar\":[{\"error_x\":{\"color\":\"#2a3f5f\"},\"error_y\":{\"color\":\"#2a3f5f\"},\"marker\":{\"line\":{\"color\":\"#E5ECF6\",\"width\":0.5},\"pattern\":{\"fillmode\":\"overlay\",\"size\":10,\"solidity\":0.2}},\"type\":\"bar\"}],\"scattergeo\":[{\"type\":\"scattergeo\",\"marker\":{\"colorbar\":{\"outlinewidth\":0,\"ticks\":\"\"}}}],\"scatterpolar\":[{\"type\":\"scatterpolar\",\"marker\":{\"colorbar\":{\"outlinewidth\":0,\"ticks\":\"\"}}}],\"histogram\":[{\"marker\":{\"pattern\":{\"fillmode\":\"overlay\",\"size\":10,\"solidity\":0.2}},\"type\":\"histogram\"}],\"scattergl\":[{\"type\":\"scattergl\",\"marker\":{\"colorbar\":{\"outlinewidth\":0,\"ticks\":\"\"}}}],\"scatter3d\":[{\"type\":\"scatter3d\",\"line\":{\"colorbar\":{\"outlinewidth\":0,\"ticks\":\"\"}},\"marker\":{\"colorbar\":{\"outlinewidth\":0,\"ticks\":\"\"}}}],\"scattermapbox\":[{\"type\":\"scattermapbox\",\"marker\":{\"colorbar\":{\"outlinewidth\":0,\"ticks\":\"\"}}}],\"scatterternary\":[{\"type\":\"scatterternary\",\"marker\":{\"colorbar\":{\"outlinewidth\":0,\"ticks\":\"\"}}}],\"scattercarpet\":[{\"type\":\"scattercarpet\",\"marker\":{\"colorbar\":{\"outlinewidth\":0,\"ticks\":\"\"}}}],\"carpet\":[{\"aaxis\":{\"endlinecolor\":\"#2a3f5f\",\"gridcolor\":\"white\",\"linecolor\":\"white\",\"minorgridcolor\":\"white\",\"startlinecolor\":\"#2a3f5f\"},\"baxis\":{\"endlinecolor\":\"#2a3f5f\",\"gridcolor\":\"white\",\"linecolor\":\"white\",\"minorgridcolor\":\"white\",\"startlinecolor\":\"#2a3f5f\"},\"type\":\"carpet\"}],\"table\":[{\"cells\":{\"fill\":{\"color\":\"#EBF0F8\"},\"line\":{\"color\":\"white\"}},\"header\":{\"fill\":{\"color\":\"#C8D4E3\"},\"line\":{\"color\":\"white\"}},\"type\":\"table\"}],\"barpolar\":[{\"marker\":{\"line\":{\"color\":\"#E5ECF6\",\"width\":0.5},\"pattern\":{\"fillmode\":\"overlay\",\"size\":10,\"solidity\":0.2}},\"type\":\"barpolar\"}],\"pie\":[{\"automargin\":true,\"type\":\"pie\"}]},\"layout\":{\"autotypenumbers\":\"strict\",\"colorway\":[\"#636efa\",\"#EF553B\",\"#00cc96\",\"#ab63fa\",\"#FFA15A\",\"#19d3f3\",\"#FF6692\",\"#B6E880\",\"#FF97FF\",\"#FECB52\"],\"font\":{\"color\":\"#2a3f5f\"},\"hovermode\":\"closest\",\"hoverlabel\":{\"align\":\"left\"},\"paper_bgcolor\":\"white\",\"plot_bgcolor\":\"#E5ECF6\",\"polar\":{\"bgcolor\":\"#E5ECF6\",\"angularaxis\":{\"gridcolor\":\"white\",\"linecolor\":\"white\",\"ticks\":\"\"},\"radialaxis\":{\"gridcolor\":\"white\",\"linecolor\":\"white\",\"ticks\":\"\"}},\"ternary\":{\"bgcolor\":\"#E5ECF6\",\"aaxis\":{\"gridcolor\":\"white\",\"linecolor\":\"white\",\"ticks\":\"\"},\"baxis\":{\"gridcolor\":\"white\",\"linecolor\":\"white\",\"ticks\":\"\"},\"caxis\":{\"gridcolor\":\"white\",\"linecolor\":\"white\",\"ticks\":\"\"}},\"coloraxis\":{\"colorbar\":{\"outlinewidth\":0,\"ticks\":\"\"}},\"colorscale\":{\"sequential\":[[0.0,\"#0d0887\"],[0.1111111111111111,\"#46039f\"],[0.2222222222222222,\"#7201a8\"],[0.3333333333333333,\"#9c179e\"],[0.4444444444444444,\"#bd3786\"],[0.5555555555555556,\"#d8576b\"],[0.6666666666666666,\"#ed7953\"],[0.7777777777777778,\"#fb9f3a\"],[0.8888888888888888,\"#fdca26\"],[1.0,\"#f0f921\"]],\"sequentialminus\":[[0.0,\"#0d0887\"],[0.1111111111111111,\"#46039f\"],[0.2222222222222222,\"#7201a8\"],[0.3333333333333333,\"#9c179e\"],[0.4444444444444444,\"#bd3786\"],[0.5555555555555556,\"#d8576b\"],[0.6666666666666666,\"#ed7953\"],[0.7777777777777778,\"#fb9f3a\"],[0.8888888888888888,\"#fdca26\"],[1.0,\"#f0f921\"]],\"diverging\":[[0,\"#8e0152\"],[0.1,\"#c51b7d\"],[0.2,\"#de77ae\"],[0.3,\"#f1b6da\"],[0.4,\"#fde0ef\"],[0.5,\"#f7f7f7\"],[0.6,\"#e6f5d0\"],[0.7,\"#b8e186\"],[0.8,\"#7fbc41\"],[0.9,\"#4d9221\"],[1,\"#276419\"]]},\"xaxis\":{\"gridcolor\":\"white\",\"linecolor\":\"white\",\"ticks\":\"\",\"title\":{\"standoff\":15},\"zerolinecolor\":\"white\",\"automargin\":true,\"zerolinewidth\":2},\"yaxis\":{\"gridcolor\":\"white\",\"linecolor\":\"white\",\"ticks\":\"\",\"title\":{\"standoff\":15},\"zerolinecolor\":\"white\",\"automargin\":true,\"zerolinewidth\":2},\"scene\":{\"xaxis\":{\"backgroundcolor\":\"#E5ECF6\",\"gridcolor\":\"white\",\"linecolor\":\"white\",\"showbackground\":true,\"ticks\":\"\",\"zerolinecolor\":\"white\",\"gridwidth\":2},\"yaxis\":{\"backgroundcolor\":\"#E5ECF6\",\"gridcolor\":\"white\",\"linecolor\":\"white\",\"showbackground\":true,\"ticks\":\"\",\"zerolinecolor\":\"white\",\"gridwidth\":2},\"zaxis\":{\"backgroundcolor\":\"#E5ECF6\",\"gridcolor\":\"white\",\"linecolor\":\"white\",\"showbackground\":true,\"ticks\":\"\",\"zerolinecolor\":\"white\",\"gridwidth\":2}},\"shapedefaults\":{\"line\":{\"color\":\"#2a3f5f\"}},\"annotationdefaults\":{\"arrowcolor\":\"#2a3f5f\",\"arrowhead\":0,\"arrowwidth\":1},\"geo\":{\"bgcolor\":\"white\",\"landcolor\":\"#E5ECF6\",\"subunitcolor\":\"white\",\"showland\":true,\"showlakes\":true,\"lakecolor\":\"white\"},\"title\":{\"x\":0.05},\"mapbox\":{\"style\":\"light\"}}},\"font\":{\"family\":\"Averta, sans-serif\"},\"hoverlabel\":{\"font\":{\"family\":\"Averta, sans-serif\",\"size\":16}},\"xaxis\":{\"title\":{\"font\":{\"size\":18},\"text\":\"Week\"},\"tickfont\":{\"size\":16}},\"yaxis\":{\"title\":{\"font\":{\"size\":18},\"text\":\"Passing Yards\"},\"tickfont\":{\"size\":16}},\"legend\":{\"font\":{\"size\":16}},\"height\":1000,\"width\":1000},                        {\"responsive\": true}                    ).then(function(){\n",
       "                            \n",
       "var gd = document.getElementById('15d586c6-fedd-43e6-b2a5-9e6161b9880c');\n",
       "var x = new MutationObserver(function (mutations, observer) {{\n",
       "        var display = window.getComputedStyle(gd).display;\n",
       "        if (!display || display === 'none') {{\n",
       "            console.log([gd, 'removed!']);\n",
       "            Plotly.purge(gd);\n",
       "            observer.disconnect();\n",
       "        }}\n",
       "}});\n",
       "\n",
       "// Listen for the removal of the full notebook cells\n",
       "var notebookContainer = gd.closest('#notebook-container');\n",
       "if (notebookContainer) {{\n",
       "    x.observe(notebookContainer, {childList: true});\n",
       "}}\n",
       "\n",
       "// Listen for the clearing of the current output cell\n",
       "var outputEl = gd.closest('.output');\n",
       "if (outputEl) {{\n",
       "    x.observe(outputEl, {childList: true});\n",
       "}}\n",
       "\n",
       "                        })                };                });            </script>        </div>"
      ]
     },
     "metadata": {},
     "output_type": "display_data"
    }
   ],
   "source": [
    "fig = go.Figure()\n",
    "\n",
    "for name, values in df_agg.groupby(\"player_name\"):\n",
    "    if values[\"passing_yards\"].sum() > 1500:\n",
    "        fig.add_trace(\n",
    "            go.Scatter(\n",
    "                x=values[\"week\"],\n",
    "                y=values[\"passing_yards\"].cumsum(),\n",
    "                name=name,\n",
    "                mode=\"markers+lines\",\n",
    "                line_color=values.iloc[0].team_color,\n",
    "                hovertemplate=f\"<b>{name}</b><br>%{{y}} yds through week %{{x}}<extra></extra>\"\n",
    "            )\n",
    "        )\n",
    "\n",
    "        \n",
    "fig.update_layout(\n",
    "    font_family=\"Averta, sans-serif\",\n",
    "    hoverlabel_font_family=\"Averta, sans-serif\",\n",
    "    xaxis_title_text=\"Week\",\n",
    "    xaxis_title_font_size=18,\n",
    "    xaxis_tickfont_size=16,\n",
    "    yaxis_title_text=\"Passing Yards\",\n",
    "    yaxis_title_font_size=18,\n",
    "    yaxis_tickfont_size=16,\n",
    "    hoverlabel_font_size=16,\n",
    "    legend_font_size=16,\n",
    "    height=1000,\n",
    "    width=1000\n",
    ")\n",
    "\n",
    "fig.show()"
   ]
  },
  {
   "cell_type": "code",
   "execution_count": 45,
   "id": "2ff06eeb",
   "metadata": {},
   "outputs": [
    {
     "data": {
      "application/vnd.plotly.v1+json": {
       "config": {
        "plotlyServerURL": "https://plot.ly"
       },
       "data": [
        {
         "hovertemplate": "<b>Aaron Rodgers</b><br>%{y} TDs through week %{x}<extra></extra>",
         "line": {
          "color": "#203731"
         },
         "mode": "markers+lines",
         "name": "Aaron Rodgers",
         "type": "scatter",
         "x": [
          1,
          2,
          3,
          4,
          5,
          6,
          7,
          8,
          9,
          10,
          11,
          12,
          13,
          15,
          16,
          17,
          18
         ],
         "y": [
          0,
          2,
          4,
          6,
          8,
          9,
          11,
          13,
          14,
          17,
          19,
          21,
          22,
          23,
          24,
          25,
          26
         ]
        },
        {
         "hovertemplate": "<b>Andy Dalton</b><br>%{y} TDs through week %{x}<extra></extra>",
         "line": {
          "color": "#D3BC8D"
         },
         "mode": "markers+lines",
         "name": "Andy Dalton",
         "type": "scatter",
         "x": [
          4,
          5,
          6,
          7,
          8,
          9,
          10,
          11,
          12,
          13,
          15,
          16,
          17,
          18
         ],
         "y": [
          1,
          2,
          3,
          7,
          9,
          10,
          11,
          14,
          14,
          15,
          17,
          17,
          17,
          18
         ]
        },
        {
         "hovertemplate": "<b>Baker Mayfield</b><br>%{y} TDs through week %{x}<extra></extra>",
         "line": {
          "color": "#0085CA"
         },
         "mode": "markers+lines",
         "name": "Baker Mayfield",
         "type": "scatter",
         "x": [
          1,
          2,
          3,
          4,
          5,
          9,
          11,
          14,
          15,
          16,
          17,
          18
         ],
         "y": [
          1,
          2,
          3,
          4,
          4,
          6,
          6,
          7,
          8,
          10,
          10,
          10
         ]
        },
        {
         "hovertemplate": "<b>Carson Wentz</b><br>%{y} TDs through week %{x}<extra></extra>",
         "line": {
          "color": "#5A1414"
         },
         "mode": "markers+lines",
         "name": "Carson Wentz",
         "type": "scatter",
         "x": [
          1,
          2,
          3,
          4,
          5,
          6,
          16,
          17
         ],
         "y": [
          4,
          7,
          7,
          8,
          10,
          10,
          11,
          11
         ]
        },
        {
         "hovertemplate": "<b>Dak Prescott</b><br>%{y} TDs through week %{x}<extra></extra>",
         "line": {
          "color": "#002244"
         },
         "mode": "markers+lines",
         "name": "Dak Prescott",
         "type": "scatter",
         "x": [
          1,
          7,
          8,
          10,
          11,
          12,
          13,
          14,
          15,
          16,
          17,
          18
         ],
         "y": [
          0,
          1,
          3,
          6,
          8,
          10,
          13,
          14,
          17,
          20,
          22,
          23
         ]
        },
        {
         "hovertemplate": "<b>Daniel Jones</b><br>%{y} TDs through week %{x}<extra></extra>",
         "line": {
          "color": "#0B2265"
         },
         "mode": "markers+lines",
         "name": "Daniel Jones",
         "type": "scatter",
         "x": [
          1,
          2,
          3,
          4,
          5,
          6,
          7,
          8,
          10,
          11,
          12,
          13,
          14,
          15,
          16,
          17
         ],
         "y": [
          2,
          3,
          3,
          3,
          3,
          5,
          6,
          6,
          8,
          9,
          10,
          11,
          12,
          12,
          13,
          15
         ]
        },
        {
         "hovertemplate": "<b>Davis Mills</b><br>%{y} TDs through week %{x}<extra></extra>",
         "line": {
          "color": "#03202F"
         },
         "mode": "markers+lines",
         "name": "Davis Mills",
         "type": "scatter",
         "x": [
          1,
          2,
          3,
          4,
          5,
          7,
          8,
          9,
          10,
          11,
          14,
          15,
          16,
          17,
          18
         ],
         "y": [
          2,
          2,
          3,
          5,
          5,
          7,
          8,
          10,
          11,
          11,
          11,
          13,
          14,
          14,
          17
         ]
        },
        {
         "hovertemplate": "<b>Derek Carr</b><br>%{y} TDs through week %{x}<extra></extra>",
         "line": {
          "color": "#000000"
         },
         "mode": "markers+lines",
         "name": "Derek Carr",
         "type": "scatter",
         "x": [
          1,
          2,
          3,
          4,
          5,
          7,
          8,
          9,
          10,
          11,
          12,
          13,
          14,
          15,
          16
         ],
         "y": [
          2,
          4,
          6,
          6,
          8,
          9,
          9,
          11,
          13,
          15,
          18,
          20,
          20,
          23,
          24
         ]
        },
        {
         "hovertemplate": "<b>Geno Smith</b><br>%{y} TDs through week %{x}<extra></extra>",
         "line": {
          "color": "#002244"
         },
         "mode": "markers+lines",
         "name": "Geno Smith",
         "type": "scatter",
         "x": [
          1,
          2,
          3,
          4,
          5,
          6,
          7,
          8,
          9,
          10,
          12,
          13,
          14,
          15,
          16,
          17,
          18
         ],
         "y": [
          2,
          2,
          4,
          6,
          9,
          9,
          11,
          13,
          15,
          17,
          19,
          22,
          25,
          26,
          27,
          29,
          30
         ]
        },
        {
         "hovertemplate": "<b>Jacoby Brissett</b><br>%{y} TDs through week %{x}<extra></extra>",
         "line": {
          "color": "#FF3C00"
         },
         "mode": "markers+lines",
         "name": "Jacoby Brissett",
         "type": "scatter",
         "x": [
          1,
          2,
          3,
          4,
          5,
          6,
          7,
          8,
          10,
          11,
          12,
          14
         ],
         "y": [
          1,
          2,
          4,
          4,
          5,
          6,
          6,
          7,
          8,
          11,
          12,
          12
         ]
        },
        {
         "hovertemplate": "<b>Jalen Hurts</b><br>%{y} TDs through week %{x}<extra></extra>",
         "line": {
          "color": "#004C54"
         },
         "mode": "markers+lines",
         "name": "Jalen Hurts",
         "type": "scatter",
         "x": [
          1,
          2,
          3,
          4,
          5,
          6,
          8,
          9,
          10,
          11,
          12,
          13,
          14,
          15,
          18
         ],
         "y": [
          0,
          1,
          4,
          4,
          4,
          6,
          10,
          12,
          14,
          15,
          17,
          20,
          22,
          22,
          22
         ]
        },
        {
         "hovertemplate": "<b>Jared Goff</b><br>%{y} TDs through week %{x}<extra></extra>",
         "line": {
          "color": "#0076B6"
         },
         "mode": "markers+lines",
         "name": "Jared Goff",
         "type": "scatter",
         "x": [
          1,
          2,
          3,
          4,
          5,
          7,
          8,
          9,
          10,
          11,
          12,
          13,
          14,
          15,
          16,
          17,
          18
         ],
         "y": [
          2,
          6,
          7,
          11,
          11,
          11,
          12,
          14,
          15,
          15,
          17,
          19,
          22,
          23,
          26,
          29,
          29
         ]
        },
        {
         "hovertemplate": "<b>Jimmy Garoppolo</b><br>%{y} TDs through week %{x}<extra></extra>",
         "line": {
          "color": "#AA0000"
         },
         "mode": "markers+lines",
         "name": "Jimmy Garoppolo",
         "type": "scatter",
         "x": [
          2,
          3,
          4,
          5,
          6,
          7,
          8,
          10,
          11,
          12,
          13
         ],
         "y": [
          1,
          2,
          3,
          5,
          7,
          9,
          11,
          11,
          15,
          16,
          16
         ]
        },
        {
         "hovertemplate": "<b>Joe Burrow</b><br>%{y} TDs through week %{x}<extra></extra>",
         "line": {
          "color": "#FB4F14"
         },
         "mode": "markers+lines",
         "name": "Joe Burrow",
         "type": "scatter",
         "x": [
          1,
          2,
          3,
          4,
          5,
          6,
          7,
          8,
          9,
          11,
          12,
          13,
          14,
          15,
          16,
          18
         ],
         "y": [
          2,
          3,
          6,
          8,
          9,
          12,
          15,
          17,
          18,
          22,
          23,
          25,
          27,
          31,
          34,
          35
         ]
        },
        {
         "hovertemplate": "<b>Josh Allen</b><br>%{y} TDs through week %{x}<extra></extra>",
         "line": {
          "color": "#00338D"
         },
         "mode": "markers+lines",
         "name": "Josh Allen",
         "type": "scatter",
         "x": [
          1,
          2,
          3,
          4,
          5,
          6,
          8,
          9,
          10,
          11,
          12,
          13,
          14,
          15,
          16,
          18
         ],
         "y": [
          3,
          7,
          9,
          10,
          14,
          17,
          19,
          19,
          20,
          21,
          23,
          25,
          26,
          30,
          32,
          35
         ]
        },
        {
         "hovertemplate": "<b>Justin Fields</b><br>%{y} TDs through week %{x}<extra></extra>",
         "line": {
          "color": "#0B162A"
         },
         "mode": "markers+lines",
         "name": "Justin Fields",
         "type": "scatter",
         "x": [
          1,
          2,
          3,
          4,
          5,
          6,
          7,
          8,
          9,
          10,
          11,
          13,
          15,
          16,
          17
         ],
         "y": [
          2,
          2,
          2,
          2,
          3,
          4,
          5,
          7,
          10,
          12,
          13,
          13,
          15,
          16,
          17
         ]
        },
        {
         "hovertemplate": "<b>Justin Herbert</b><br>%{y} TDs through week %{x}<extra></extra>",
         "line": {
          "color": "#007BC7"
         },
         "mode": "markers+lines",
         "name": "Justin Herbert",
         "type": "scatter",
         "x": [
          1,
          2,
          3,
          4,
          5,
          6,
          7,
          9,
          10,
          11,
          12,
          13,
          14,
          15,
          16,
          17,
          18
         ],
         "y": [
          3,
          6,
          7,
          9,
          10,
          10,
          12,
          13,
          14,
          16,
          19,
          20,
          21,
          21,
          21,
          23,
          25
         ]
        },
        {
         "hovertemplate": "<b>Kenny Pickett</b><br>%{y} TDs through week %{x}<extra></extra>",
         "line": {
          "color": "#000000"
         },
         "mode": "markers+lines",
         "name": "Kenny Pickett",
         "type": "scatter",
         "x": [
          4,
          5,
          6,
          7,
          8,
          10,
          11,
          12,
          13,
          14,
          16,
          17,
          18
         ],
         "y": [
          0,
          0,
          1,
          2,
          2,
          2,
          3,
          3,
          4,
          4,
          5,
          6,
          7
         ]
        },
        {
         "hovertemplate": "<b>Kirk Cousins</b><br>%{y} TDs through week %{x}<extra></extra>",
         "line": {
          "color": "#4F2683"
         },
         "mode": "markers+lines",
         "name": "Kirk Cousins",
         "type": "scatter",
         "x": [
          1,
          2,
          3,
          4,
          5,
          6,
          8,
          9,
          10,
          11,
          12,
          13,
          14,
          15,
          16,
          17,
          18
         ],
         "y": [
          2,
          3,
          5,
          6,
          7,
          9,
          11,
          13,
          14,
          14,
          17,
          18,
          20,
          24,
          27,
          28,
          29
         ]
        },
        {
         "hovertemplate": "<b>Kyler Murray</b><br>%{y} TDs through week %{x}<extra></extra>",
         "line": {
          "color": "#97233F"
         },
         "mode": "markers+lines",
         "name": "Kyler Murray",
         "type": "scatter",
         "x": [
          1,
          2,
          3,
          4,
          5,
          6,
          7,
          8,
          9,
          12,
          14
         ],
         "y": [
          2,
          3,
          3,
          5,
          6,
          6,
          7,
          10,
          12,
          14,
          14
         ]
        },
        {
         "hovertemplate": "<b>Lamar Jackson</b><br>%{y} TDs through week %{x}<extra></extra>",
         "line": {
          "color": "#241773"
         },
         "mode": "markers+lines",
         "name": "Lamar Jackson",
         "type": "scatter",
         "x": [
          1,
          2,
          3,
          4,
          5,
          6,
          7,
          8,
          9,
          11,
          12,
          13
         ],
         "y": [
          3,
          6,
          10,
          11,
          12,
          13,
          13,
          15,
          16,
          16,
          17,
          17
         ]
        },
        {
         "hovertemplate": "<b>Mac Jones</b><br>%{y} TDs through week %{x}<extra></extra>",
         "line": {
          "color": "#002244"
         },
         "mode": "markers+lines",
         "name": "Mac Jones",
         "type": "scatter",
         "x": [
          1,
          2,
          3,
          7,
          8,
          9,
          11,
          12,
          13,
          14,
          15,
          16,
          17,
          18
         ],
         "y": [
          1,
          2,
          2,
          2,
          3,
          4,
          4,
          6,
          7,
          7,
          7,
          9,
          11,
          14
         ]
        },
        {
         "hovertemplate": "<b>Marcus Mariota</b><br>%{y} TDs through week %{x}<extra></extra>",
         "line": {
          "color": "#A71930"
         },
         "mode": "markers+lines",
         "name": "Marcus Mariota",
         "type": "scatter",
         "x": [
          1,
          2,
          3,
          4,
          5,
          6,
          7,
          8,
          9,
          10,
          11,
          12,
          13
         ],
         "y": [
          0,
          2,
          3,
          3,
          4,
          6,
          7,
          10,
          10,
          12,
          13,
          14,
          15
         ]
        },
        {
         "hovertemplate": "<b>Matt Ryan</b><br>%{y} TDs through week %{x}<extra></extra>",
         "line": {
          "color": "#002C5F"
         },
         "mode": "markers+lines",
         "name": "Matt Ryan",
         "type": "scatter",
         "x": [
          1,
          2,
          3,
          4,
          5,
          6,
          7,
          10,
          11,
          12,
          13,
          15
         ],
         "y": [
          1,
          1,
          3,
          5,
          5,
          8,
          9,
          10,
          10,
          11,
          13,
          14
         ]
        },
        {
         "hovertemplate": "<b>Matthew Stafford</b><br>%{y} TDs through week %{x}<extra></extra>",
         "line": {
          "color": "#003594"
         },
         "mode": "markers+lines",
         "name": "Matthew Stafford",
         "type": "scatter",
         "x": [
          1,
          2,
          3,
          4,
          5,
          6,
          8,
          9,
          11
         ],
         "y": [
          1,
          4,
          4,
          4,
          5,
          6,
          7,
          8,
          10
         ]
        },
        {
         "hovertemplate": "<b>Patrick Mahomes</b><br>%{y} TDs through week %{x}<extra></extra>",
         "line": {
          "color": "#E31837"
         },
         "mode": "markers+lines",
         "name": "Patrick Mahomes",
         "type": "scatter",
         "x": [
          1,
          2,
          3,
          4,
          5,
          6,
          7,
          9,
          10,
          11,
          12,
          13,
          14,
          15,
          16,
          17,
          18
         ],
         "y": [
          5,
          7,
          8,
          11,
          15,
          17,
          20,
          21,
          25,
          28,
          29,
          30,
          33,
          35,
          37,
          40,
          41
         ]
        },
        {
         "hovertemplate": "<b>Russell Wilson</b><br>%{y} TDs through week %{x}<extra></extra>",
         "line": {
          "color": "#002244"
         },
         "mode": "markers+lines",
         "name": "Russell Wilson",
         "type": "scatter",
         "x": [
          1,
          2,
          3,
          4,
          5,
          6,
          8,
          10,
          11,
          12,
          13,
          14,
          16,
          17,
          18
         ],
         "y": [
          1,
          2,
          2,
          4,
          4,
          5,
          6,
          7,
          7,
          8,
          8,
          11,
          12,
          13,
          16
         ]
        },
        {
         "hovertemplate": "<b>Ryan Tannehill</b><br>%{y} TDs through week %{x}<extra></extra>",
         "line": {
          "color": "#002244"
         },
         "mode": "markers+lines",
         "name": "Ryan Tannehill",
         "type": "scatter",
         "x": [
          1,
          2,
          3,
          4,
          5,
          7,
          10,
          11,
          12,
          13,
          14,
          15
         ],
         "y": [
          2,
          2,
          3,
          5,
          6,
          6,
          8,
          10,
          10,
          11,
          13,
          13
         ]
        },
        {
         "hovertemplate": "<b>Taylor Heinicke</b><br>%{y} TDs through week %{x}<extra></extra>",
         "line": {
          "color": "#5A1414"
         },
         "mode": "markers+lines",
         "name": "Taylor Heinicke",
         "type": "scatter",
         "x": [
          7,
          8,
          9,
          10,
          11,
          12,
          13,
          15,
          16
         ],
         "y": [
          2,
          3,
          5,
          5,
          5,
          7,
          9,
          10,
          12
         ]
        },
        {
         "hovertemplate": "<b>Tom Brady</b><br>%{y} TDs through week %{x}<extra></extra>",
         "line": {
          "color": "#A71930"
         },
         "mode": "markers+lines",
         "name": "Tom Brady",
         "type": "scatter",
         "x": [
          1,
          2,
          3,
          4,
          5,
          6,
          7,
          8,
          9,
          10,
          12,
          13,
          14,
          15,
          16,
          17,
          18
         ],
         "y": [
          1,
          2,
          3,
          6,
          7,
          8,
          8,
          9,
          10,
          12,
          14,
          16,
          17,
          20,
          21,
          24,
          25
         ]
        },
        {
         "hovertemplate": "<b>Trevor Lawrence</b><br>%{y} TDs through week %{x}<extra></extra>",
         "line": {
          "color": "#006778"
         },
         "mode": "markers+lines",
         "name": "Trevor Lawrence",
         "type": "scatter",
         "x": [
          1,
          2,
          3,
          4,
          5,
          6,
          7,
          8,
          9,
          10,
          12,
          13,
          14,
          15,
          16,
          17,
          18
         ],
         "y": [
          1,
          3,
          6,
          8,
          8,
          9,
          9,
          10,
          11,
          13,
          16,
          17,
          20,
          24,
          24,
          24,
          25
         ]
        },
        {
         "hovertemplate": "<b>Tua Tagovailoa</b><br>%{y} TDs through week %{x}<extra></extra>",
         "line": {
          "color": "#008E97"
         },
         "mode": "markers+lines",
         "name": "Tua Tagovailoa",
         "type": "scatter",
         "x": [
          1,
          2,
          3,
          4,
          7,
          8,
          9,
          10,
          12,
          13,
          14,
          15,
          16
         ],
         "y": [
          1,
          7,
          8,
          8,
          9,
          12,
          15,
          18,
          19,
          21,
          22,
          24,
          25
         ]
        },
        {
         "hovertemplate": "<b>Zach Wilson</b><br>%{y} TDs through week %{x}<extra></extra>",
         "line": {
          "color": "#003F2D"
         },
         "mode": "markers+lines",
         "name": "Zach Wilson",
         "type": "scatter",
         "x": [
          4,
          5,
          6,
          7,
          8,
          9,
          11,
          15,
          16
         ],
         "y": [
          1,
          1,
          1,
          1,
          3,
          4,
          4,
          6,
          6
         ]
        }
       ],
       "layout": {
        "font": {
         "family": "Averta, sans-serif"
        },
        "height": 1000,
        "hoverlabel": {
         "font": {
          "family": "Averta, sans-serif",
          "size": 16
         }
        },
        "legend": {
         "font": {
          "size": 16
         }
        },
        "template": {
         "data": {
          "bar": [
           {
            "error_x": {
             "color": "#2a3f5f"
            },
            "error_y": {
             "color": "#2a3f5f"
            },
            "marker": {
             "line": {
              "color": "#E5ECF6",
              "width": 0.5
             },
             "pattern": {
              "fillmode": "overlay",
              "size": 10,
              "solidity": 0.2
             }
            },
            "type": "bar"
           }
          ],
          "barpolar": [
           {
            "marker": {
             "line": {
              "color": "#E5ECF6",
              "width": 0.5
             },
             "pattern": {
              "fillmode": "overlay",
              "size": 10,
              "solidity": 0.2
             }
            },
            "type": "barpolar"
           }
          ],
          "carpet": [
           {
            "aaxis": {
             "endlinecolor": "#2a3f5f",
             "gridcolor": "white",
             "linecolor": "white",
             "minorgridcolor": "white",
             "startlinecolor": "#2a3f5f"
            },
            "baxis": {
             "endlinecolor": "#2a3f5f",
             "gridcolor": "white",
             "linecolor": "white",
             "minorgridcolor": "white",
             "startlinecolor": "#2a3f5f"
            },
            "type": "carpet"
           }
          ],
          "choropleth": [
           {
            "colorbar": {
             "outlinewidth": 0,
             "ticks": ""
            },
            "type": "choropleth"
           }
          ],
          "contour": [
           {
            "colorbar": {
             "outlinewidth": 0,
             "ticks": ""
            },
            "colorscale": [
             [
              0,
              "#0d0887"
             ],
             [
              0.1111111111111111,
              "#46039f"
             ],
             [
              0.2222222222222222,
              "#7201a8"
             ],
             [
              0.3333333333333333,
              "#9c179e"
             ],
             [
              0.4444444444444444,
              "#bd3786"
             ],
             [
              0.5555555555555556,
              "#d8576b"
             ],
             [
              0.6666666666666666,
              "#ed7953"
             ],
             [
              0.7777777777777778,
              "#fb9f3a"
             ],
             [
              0.8888888888888888,
              "#fdca26"
             ],
             [
              1,
              "#f0f921"
             ]
            ],
            "type": "contour"
           }
          ],
          "contourcarpet": [
           {
            "colorbar": {
             "outlinewidth": 0,
             "ticks": ""
            },
            "type": "contourcarpet"
           }
          ],
          "heatmap": [
           {
            "colorbar": {
             "outlinewidth": 0,
             "ticks": ""
            },
            "colorscale": [
             [
              0,
              "#0d0887"
             ],
             [
              0.1111111111111111,
              "#46039f"
             ],
             [
              0.2222222222222222,
              "#7201a8"
             ],
             [
              0.3333333333333333,
              "#9c179e"
             ],
             [
              0.4444444444444444,
              "#bd3786"
             ],
             [
              0.5555555555555556,
              "#d8576b"
             ],
             [
              0.6666666666666666,
              "#ed7953"
             ],
             [
              0.7777777777777778,
              "#fb9f3a"
             ],
             [
              0.8888888888888888,
              "#fdca26"
             ],
             [
              1,
              "#f0f921"
             ]
            ],
            "type": "heatmap"
           }
          ],
          "heatmapgl": [
           {
            "colorbar": {
             "outlinewidth": 0,
             "ticks": ""
            },
            "colorscale": [
             [
              0,
              "#0d0887"
             ],
             [
              0.1111111111111111,
              "#46039f"
             ],
             [
              0.2222222222222222,
              "#7201a8"
             ],
             [
              0.3333333333333333,
              "#9c179e"
             ],
             [
              0.4444444444444444,
              "#bd3786"
             ],
             [
              0.5555555555555556,
              "#d8576b"
             ],
             [
              0.6666666666666666,
              "#ed7953"
             ],
             [
              0.7777777777777778,
              "#fb9f3a"
             ],
             [
              0.8888888888888888,
              "#fdca26"
             ],
             [
              1,
              "#f0f921"
             ]
            ],
            "type": "heatmapgl"
           }
          ],
          "histogram": [
           {
            "marker": {
             "pattern": {
              "fillmode": "overlay",
              "size": 10,
              "solidity": 0.2
             }
            },
            "type": "histogram"
           }
          ],
          "histogram2d": [
           {
            "colorbar": {
             "outlinewidth": 0,
             "ticks": ""
            },
            "colorscale": [
             [
              0,
              "#0d0887"
             ],
             [
              0.1111111111111111,
              "#46039f"
             ],
             [
              0.2222222222222222,
              "#7201a8"
             ],
             [
              0.3333333333333333,
              "#9c179e"
             ],
             [
              0.4444444444444444,
              "#bd3786"
             ],
             [
              0.5555555555555556,
              "#d8576b"
             ],
             [
              0.6666666666666666,
              "#ed7953"
             ],
             [
              0.7777777777777778,
              "#fb9f3a"
             ],
             [
              0.8888888888888888,
              "#fdca26"
             ],
             [
              1,
              "#f0f921"
             ]
            ],
            "type": "histogram2d"
           }
          ],
          "histogram2dcontour": [
           {
            "colorbar": {
             "outlinewidth": 0,
             "ticks": ""
            },
            "colorscale": [
             [
              0,
              "#0d0887"
             ],
             [
              0.1111111111111111,
              "#46039f"
             ],
             [
              0.2222222222222222,
              "#7201a8"
             ],
             [
              0.3333333333333333,
              "#9c179e"
             ],
             [
              0.4444444444444444,
              "#bd3786"
             ],
             [
              0.5555555555555556,
              "#d8576b"
             ],
             [
              0.6666666666666666,
              "#ed7953"
             ],
             [
              0.7777777777777778,
              "#fb9f3a"
             ],
             [
              0.8888888888888888,
              "#fdca26"
             ],
             [
              1,
              "#f0f921"
             ]
            ],
            "type": "histogram2dcontour"
           }
          ],
          "mesh3d": [
           {
            "colorbar": {
             "outlinewidth": 0,
             "ticks": ""
            },
            "type": "mesh3d"
           }
          ],
          "parcoords": [
           {
            "line": {
             "colorbar": {
              "outlinewidth": 0,
              "ticks": ""
             }
            },
            "type": "parcoords"
           }
          ],
          "pie": [
           {
            "automargin": true,
            "type": "pie"
           }
          ],
          "scatter": [
           {
            "fillpattern": {
             "fillmode": "overlay",
             "size": 10,
             "solidity": 0.2
            },
            "type": "scatter"
           }
          ],
          "scatter3d": [
           {
            "line": {
             "colorbar": {
              "outlinewidth": 0,
              "ticks": ""
             }
            },
            "marker": {
             "colorbar": {
              "outlinewidth": 0,
              "ticks": ""
             }
            },
            "type": "scatter3d"
           }
          ],
          "scattercarpet": [
           {
            "marker": {
             "colorbar": {
              "outlinewidth": 0,
              "ticks": ""
             }
            },
            "type": "scattercarpet"
           }
          ],
          "scattergeo": [
           {
            "marker": {
             "colorbar": {
              "outlinewidth": 0,
              "ticks": ""
             }
            },
            "type": "scattergeo"
           }
          ],
          "scattergl": [
           {
            "marker": {
             "colorbar": {
              "outlinewidth": 0,
              "ticks": ""
             }
            },
            "type": "scattergl"
           }
          ],
          "scattermapbox": [
           {
            "marker": {
             "colorbar": {
              "outlinewidth": 0,
              "ticks": ""
             }
            },
            "type": "scattermapbox"
           }
          ],
          "scatterpolar": [
           {
            "marker": {
             "colorbar": {
              "outlinewidth": 0,
              "ticks": ""
             }
            },
            "type": "scatterpolar"
           }
          ],
          "scatterpolargl": [
           {
            "marker": {
             "colorbar": {
              "outlinewidth": 0,
              "ticks": ""
             }
            },
            "type": "scatterpolargl"
           }
          ],
          "scatterternary": [
           {
            "marker": {
             "colorbar": {
              "outlinewidth": 0,
              "ticks": ""
             }
            },
            "type": "scatterternary"
           }
          ],
          "surface": [
           {
            "colorbar": {
             "outlinewidth": 0,
             "ticks": ""
            },
            "colorscale": [
             [
              0,
              "#0d0887"
             ],
             [
              0.1111111111111111,
              "#46039f"
             ],
             [
              0.2222222222222222,
              "#7201a8"
             ],
             [
              0.3333333333333333,
              "#9c179e"
             ],
             [
              0.4444444444444444,
              "#bd3786"
             ],
             [
              0.5555555555555556,
              "#d8576b"
             ],
             [
              0.6666666666666666,
              "#ed7953"
             ],
             [
              0.7777777777777778,
              "#fb9f3a"
             ],
             [
              0.8888888888888888,
              "#fdca26"
             ],
             [
              1,
              "#f0f921"
             ]
            ],
            "type": "surface"
           }
          ],
          "table": [
           {
            "cells": {
             "fill": {
              "color": "#EBF0F8"
             },
             "line": {
              "color": "white"
             }
            },
            "header": {
             "fill": {
              "color": "#C8D4E3"
             },
             "line": {
              "color": "white"
             }
            },
            "type": "table"
           }
          ]
         },
         "layout": {
          "annotationdefaults": {
           "arrowcolor": "#2a3f5f",
           "arrowhead": 0,
           "arrowwidth": 1
          },
          "autotypenumbers": "strict",
          "coloraxis": {
           "colorbar": {
            "outlinewidth": 0,
            "ticks": ""
           }
          },
          "colorscale": {
           "diverging": [
            [
             0,
             "#8e0152"
            ],
            [
             0.1,
             "#c51b7d"
            ],
            [
             0.2,
             "#de77ae"
            ],
            [
             0.3,
             "#f1b6da"
            ],
            [
             0.4,
             "#fde0ef"
            ],
            [
             0.5,
             "#f7f7f7"
            ],
            [
             0.6,
             "#e6f5d0"
            ],
            [
             0.7,
             "#b8e186"
            ],
            [
             0.8,
             "#7fbc41"
            ],
            [
             0.9,
             "#4d9221"
            ],
            [
             1,
             "#276419"
            ]
           ],
           "sequential": [
            [
             0,
             "#0d0887"
            ],
            [
             0.1111111111111111,
             "#46039f"
            ],
            [
             0.2222222222222222,
             "#7201a8"
            ],
            [
             0.3333333333333333,
             "#9c179e"
            ],
            [
             0.4444444444444444,
             "#bd3786"
            ],
            [
             0.5555555555555556,
             "#d8576b"
            ],
            [
             0.6666666666666666,
             "#ed7953"
            ],
            [
             0.7777777777777778,
             "#fb9f3a"
            ],
            [
             0.8888888888888888,
             "#fdca26"
            ],
            [
             1,
             "#f0f921"
            ]
           ],
           "sequentialminus": [
            [
             0,
             "#0d0887"
            ],
            [
             0.1111111111111111,
             "#46039f"
            ],
            [
             0.2222222222222222,
             "#7201a8"
            ],
            [
             0.3333333333333333,
             "#9c179e"
            ],
            [
             0.4444444444444444,
             "#bd3786"
            ],
            [
             0.5555555555555556,
             "#d8576b"
            ],
            [
             0.6666666666666666,
             "#ed7953"
            ],
            [
             0.7777777777777778,
             "#fb9f3a"
            ],
            [
             0.8888888888888888,
             "#fdca26"
            ],
            [
             1,
             "#f0f921"
            ]
           ]
          },
          "colorway": [
           "#636efa",
           "#EF553B",
           "#00cc96",
           "#ab63fa",
           "#FFA15A",
           "#19d3f3",
           "#FF6692",
           "#B6E880",
           "#FF97FF",
           "#FECB52"
          ],
          "font": {
           "color": "#2a3f5f"
          },
          "geo": {
           "bgcolor": "white",
           "lakecolor": "white",
           "landcolor": "#E5ECF6",
           "showlakes": true,
           "showland": true,
           "subunitcolor": "white"
          },
          "hoverlabel": {
           "align": "left"
          },
          "hovermode": "closest",
          "mapbox": {
           "style": "light"
          },
          "paper_bgcolor": "white",
          "plot_bgcolor": "#E5ECF6",
          "polar": {
           "angularaxis": {
            "gridcolor": "white",
            "linecolor": "white",
            "ticks": ""
           },
           "bgcolor": "#E5ECF6",
           "radialaxis": {
            "gridcolor": "white",
            "linecolor": "white",
            "ticks": ""
           }
          },
          "scene": {
           "xaxis": {
            "backgroundcolor": "#E5ECF6",
            "gridcolor": "white",
            "gridwidth": 2,
            "linecolor": "white",
            "showbackground": true,
            "ticks": "",
            "zerolinecolor": "white"
           },
           "yaxis": {
            "backgroundcolor": "#E5ECF6",
            "gridcolor": "white",
            "gridwidth": 2,
            "linecolor": "white",
            "showbackground": true,
            "ticks": "",
            "zerolinecolor": "white"
           },
           "zaxis": {
            "backgroundcolor": "#E5ECF6",
            "gridcolor": "white",
            "gridwidth": 2,
            "linecolor": "white",
            "showbackground": true,
            "ticks": "",
            "zerolinecolor": "white"
           }
          },
          "shapedefaults": {
           "line": {
            "color": "#2a3f5f"
           }
          },
          "ternary": {
           "aaxis": {
            "gridcolor": "white",
            "linecolor": "white",
            "ticks": ""
           },
           "baxis": {
            "gridcolor": "white",
            "linecolor": "white",
            "ticks": ""
           },
           "bgcolor": "#E5ECF6",
           "caxis": {
            "gridcolor": "white",
            "linecolor": "white",
            "ticks": ""
           }
          },
          "title": {
           "x": 0.05
          },
          "xaxis": {
           "automargin": true,
           "gridcolor": "white",
           "linecolor": "white",
           "ticks": "",
           "title": {
            "standoff": 15
           },
           "zerolinecolor": "white",
           "zerolinewidth": 2
          },
          "yaxis": {
           "automargin": true,
           "gridcolor": "white",
           "linecolor": "white",
           "ticks": "",
           "title": {
            "standoff": 15
           },
           "zerolinecolor": "white",
           "zerolinewidth": 2
          }
         }
        },
        "width": 1000,
        "xaxis": {
         "tickfont": {
          "size": 16
         },
         "title": {
          "font": {
           "size": 18
          },
          "text": "Week"
         }
        },
        "yaxis": {
         "tickfont": {
          "size": 16
         },
         "title": {
          "font": {
           "size": 18
          },
          "text": "Passing TDs"
         }
        }
       }
      },
      "text/html": [
       "<div>                            <div id=\"4abb9175-8ed5-41ff-af96-a61595ae8112\" class=\"plotly-graph-div\" style=\"height:1000px; width:1000px;\"></div>            <script type=\"text/javascript\">                require([\"plotly\"], function(Plotly) {                    window.PLOTLYENV=window.PLOTLYENV || {};                                    if (document.getElementById(\"4abb9175-8ed5-41ff-af96-a61595ae8112\")) {                    Plotly.newPlot(                        \"4abb9175-8ed5-41ff-af96-a61595ae8112\",                        [{\"hovertemplate\":\"<b>Aaron Rodgers</b><br>%{y} TDs through week %{x}<extra></extra>\",\"line\":{\"color\":\"#203731\"},\"mode\":\"markers+lines\",\"name\":\"Aaron Rodgers\",\"x\":[1,2,3,4,5,6,7,8,9,10,11,12,13,15,16,17,18],\"y\":[0.0,2.0,4.0,6.0,8.0,9.0,11.0,13.0,14.0,17.0,19.0,21.0,22.0,23.0,24.0,25.0,26.0],\"type\":\"scatter\"},{\"hovertemplate\":\"<b>Andy Dalton</b><br>%{y} TDs through week %{x}<extra></extra>\",\"line\":{\"color\":\"#D3BC8D\"},\"mode\":\"markers+lines\",\"name\":\"Andy Dalton\",\"x\":[4,5,6,7,8,9,10,11,12,13,15,16,17,18],\"y\":[1.0,2.0,3.0,7.0,9.0,10.0,11.0,14.0,14.0,15.0,17.0,17.0,17.0,18.0],\"type\":\"scatter\"},{\"hovertemplate\":\"<b>Baker Mayfield</b><br>%{y} TDs through week %{x}<extra></extra>\",\"line\":{\"color\":\"#0085CA\"},\"mode\":\"markers+lines\",\"name\":\"Baker Mayfield\",\"x\":[1,2,3,4,5,9,11,14,15,16,17,18],\"y\":[1.0,2.0,3.0,4.0,4.0,6.0,6.0,7.0,8.0,10.0,10.0,10.0],\"type\":\"scatter\"},{\"hovertemplate\":\"<b>Carson Wentz</b><br>%{y} TDs through week %{x}<extra></extra>\",\"line\":{\"color\":\"#5A1414\"},\"mode\":\"markers+lines\",\"name\":\"Carson Wentz\",\"x\":[1,2,3,4,5,6,16,17],\"y\":[4.0,7.0,7.0,8.0,10.0,10.0,11.0,11.0],\"type\":\"scatter\"},{\"hovertemplate\":\"<b>Dak Prescott</b><br>%{y} TDs through week %{x}<extra></extra>\",\"line\":{\"color\":\"#002244\"},\"mode\":\"markers+lines\",\"name\":\"Dak Prescott\",\"x\":[1,7,8,10,11,12,13,14,15,16,17,18],\"y\":[0.0,1.0,3.0,6.0,8.0,10.0,13.0,14.0,17.0,20.0,22.0,23.0],\"type\":\"scatter\"},{\"hovertemplate\":\"<b>Daniel Jones</b><br>%{y} TDs through week %{x}<extra></extra>\",\"line\":{\"color\":\"#0B2265\"},\"mode\":\"markers+lines\",\"name\":\"Daniel Jones\",\"x\":[1,2,3,4,5,6,7,8,10,11,12,13,14,15,16,17],\"y\":[2.0,3.0,3.0,3.0,3.0,5.0,6.0,6.0,8.0,9.0,10.0,11.0,12.0,12.0,13.0,15.0],\"type\":\"scatter\"},{\"hovertemplate\":\"<b>Davis Mills</b><br>%{y} TDs through week %{x}<extra></extra>\",\"line\":{\"color\":\"#03202F\"},\"mode\":\"markers+lines\",\"name\":\"Davis Mills\",\"x\":[1,2,3,4,5,7,8,9,10,11,14,15,16,17,18],\"y\":[2.0,2.0,3.0,5.0,5.0,7.0,8.0,10.0,11.0,11.0,11.0,13.0,14.0,14.0,17.0],\"type\":\"scatter\"},{\"hovertemplate\":\"<b>Derek Carr</b><br>%{y} TDs through week %{x}<extra></extra>\",\"line\":{\"color\":\"#000000\"},\"mode\":\"markers+lines\",\"name\":\"Derek Carr\",\"x\":[1,2,3,4,5,7,8,9,10,11,12,13,14,15,16],\"y\":[2.0,4.0,6.0,6.0,8.0,9.0,9.0,11.0,13.0,15.0,18.0,20.0,20.0,23.0,24.0],\"type\":\"scatter\"},{\"hovertemplate\":\"<b>Geno Smith</b><br>%{y} TDs through week %{x}<extra></extra>\",\"line\":{\"color\":\"#002244\"},\"mode\":\"markers+lines\",\"name\":\"Geno Smith\",\"x\":[1,2,3,4,5,6,7,8,9,10,12,13,14,15,16,17,18],\"y\":[2.0,2.0,4.0,6.0,9.0,9.0,11.0,13.0,15.0,17.0,19.0,22.0,25.0,26.0,27.0,29.0,30.0],\"type\":\"scatter\"},{\"hovertemplate\":\"<b>Jacoby Brissett</b><br>%{y} TDs through week %{x}<extra></extra>\",\"line\":{\"color\":\"#FF3C00\"},\"mode\":\"markers+lines\",\"name\":\"Jacoby Brissett\",\"x\":[1,2,3,4,5,6,7,8,10,11,12,14],\"y\":[1.0,2.0,4.0,4.0,5.0,6.0,6.0,7.0,8.0,11.0,12.0,12.0],\"type\":\"scatter\"},{\"hovertemplate\":\"<b>Jalen Hurts</b><br>%{y} TDs through week %{x}<extra></extra>\",\"line\":{\"color\":\"#004C54\"},\"mode\":\"markers+lines\",\"name\":\"Jalen Hurts\",\"x\":[1,2,3,4,5,6,8,9,10,11,12,13,14,15,18],\"y\":[0.0,1.0,4.0,4.0,4.0,6.0,10.0,12.0,14.0,15.0,17.0,20.0,22.0,22.0,22.0],\"type\":\"scatter\"},{\"hovertemplate\":\"<b>Jared Goff</b><br>%{y} TDs through week %{x}<extra></extra>\",\"line\":{\"color\":\"#0076B6\"},\"mode\":\"markers+lines\",\"name\":\"Jared Goff\",\"x\":[1,2,3,4,5,7,8,9,10,11,12,13,14,15,16,17,18],\"y\":[2.0,6.0,7.0,11.0,11.0,11.0,12.0,14.0,15.0,15.0,17.0,19.0,22.0,23.0,26.0,29.0,29.0],\"type\":\"scatter\"},{\"hovertemplate\":\"<b>Jimmy Garoppolo</b><br>%{y} TDs through week %{x}<extra></extra>\",\"line\":{\"color\":\"#AA0000\"},\"mode\":\"markers+lines\",\"name\":\"Jimmy Garoppolo\",\"x\":[2,3,4,5,6,7,8,10,11,12,13],\"y\":[1.0,2.0,3.0,5.0,7.0,9.0,11.0,11.0,15.0,16.0,16.0],\"type\":\"scatter\"},{\"hovertemplate\":\"<b>Joe Burrow</b><br>%{y} TDs through week %{x}<extra></extra>\",\"line\":{\"color\":\"#FB4F14\"},\"mode\":\"markers+lines\",\"name\":\"Joe Burrow\",\"x\":[1,2,3,4,5,6,7,8,9,11,12,13,14,15,16,18],\"y\":[2.0,3.0,6.0,8.0,9.0,12.0,15.0,17.0,18.0,22.0,23.0,25.0,27.0,31.0,34.0,35.0],\"type\":\"scatter\"},{\"hovertemplate\":\"<b>Josh Allen</b><br>%{y} TDs through week %{x}<extra></extra>\",\"line\":{\"color\":\"#00338D\"},\"mode\":\"markers+lines\",\"name\":\"Josh Allen\",\"x\":[1,2,3,4,5,6,8,9,10,11,12,13,14,15,16,18],\"y\":[3.0,7.0,9.0,10.0,14.0,17.0,19.0,19.0,20.0,21.0,23.0,25.0,26.0,30.0,32.0,35.0],\"type\":\"scatter\"},{\"hovertemplate\":\"<b>Justin Fields</b><br>%{y} TDs through week %{x}<extra></extra>\",\"line\":{\"color\":\"#0B162A\"},\"mode\":\"markers+lines\",\"name\":\"Justin Fields\",\"x\":[1,2,3,4,5,6,7,8,9,10,11,13,15,16,17],\"y\":[2.0,2.0,2.0,2.0,3.0,4.0,5.0,7.0,10.0,12.0,13.0,13.0,15.0,16.0,17.0],\"type\":\"scatter\"},{\"hovertemplate\":\"<b>Justin Herbert</b><br>%{y} TDs through week %{x}<extra></extra>\",\"line\":{\"color\":\"#007BC7\"},\"mode\":\"markers+lines\",\"name\":\"Justin Herbert\",\"x\":[1,2,3,4,5,6,7,9,10,11,12,13,14,15,16,17,18],\"y\":[3.0,6.0,7.0,9.0,10.0,10.0,12.0,13.0,14.0,16.0,19.0,20.0,21.0,21.0,21.0,23.0,25.0],\"type\":\"scatter\"},{\"hovertemplate\":\"<b>Kenny Pickett</b><br>%{y} TDs through week %{x}<extra></extra>\",\"line\":{\"color\":\"#000000\"},\"mode\":\"markers+lines\",\"name\":\"Kenny Pickett\",\"x\":[4,5,6,7,8,10,11,12,13,14,16,17,18],\"y\":[0.0,0.0,1.0,2.0,2.0,2.0,3.0,3.0,4.0,4.0,5.0,6.0,7.0],\"type\":\"scatter\"},{\"hovertemplate\":\"<b>Kirk Cousins</b><br>%{y} TDs through week %{x}<extra></extra>\",\"line\":{\"color\":\"#4F2683\"},\"mode\":\"markers+lines\",\"name\":\"Kirk Cousins\",\"x\":[1,2,3,4,5,6,8,9,10,11,12,13,14,15,16,17,18],\"y\":[2.0,3.0,5.0,6.0,7.0,9.0,11.0,13.0,14.0,14.0,17.0,18.0,20.0,24.0,27.0,28.0,29.0],\"type\":\"scatter\"},{\"hovertemplate\":\"<b>Kyler Murray</b><br>%{y} TDs through week %{x}<extra></extra>\",\"line\":{\"color\":\"#97233F\"},\"mode\":\"markers+lines\",\"name\":\"Kyler Murray\",\"x\":[1,2,3,4,5,6,7,8,9,12,14],\"y\":[2.0,3.0,3.0,5.0,6.0,6.0,7.0,10.0,12.0,14.0,14.0],\"type\":\"scatter\"},{\"hovertemplate\":\"<b>Lamar Jackson</b><br>%{y} TDs through week %{x}<extra></extra>\",\"line\":{\"color\":\"#241773\"},\"mode\":\"markers+lines\",\"name\":\"Lamar Jackson\",\"x\":[1,2,3,4,5,6,7,8,9,11,12,13],\"y\":[3.0,6.0,10.0,11.0,12.0,13.0,13.0,15.0,16.0,16.0,17.0,17.0],\"type\":\"scatter\"},{\"hovertemplate\":\"<b>Mac Jones</b><br>%{y} TDs through week %{x}<extra></extra>\",\"line\":{\"color\":\"#002244\"},\"mode\":\"markers+lines\",\"name\":\"Mac Jones\",\"x\":[1,2,3,7,8,9,11,12,13,14,15,16,17,18],\"y\":[1.0,2.0,2.0,2.0,3.0,4.0,4.0,6.0,7.0,7.0,7.0,9.0,11.0,14.0],\"type\":\"scatter\"},{\"hovertemplate\":\"<b>Marcus Mariota</b><br>%{y} TDs through week %{x}<extra></extra>\",\"line\":{\"color\":\"#A71930\"},\"mode\":\"markers+lines\",\"name\":\"Marcus Mariota\",\"x\":[1,2,3,4,5,6,7,8,9,10,11,12,13],\"y\":[0.0,2.0,3.0,3.0,4.0,6.0,7.0,10.0,10.0,12.0,13.0,14.0,15.0],\"type\":\"scatter\"},{\"hovertemplate\":\"<b>Matt Ryan</b><br>%{y} TDs through week %{x}<extra></extra>\",\"line\":{\"color\":\"#002C5F\"},\"mode\":\"markers+lines\",\"name\":\"Matt Ryan\",\"x\":[1,2,3,4,5,6,7,10,11,12,13,15],\"y\":[1.0,1.0,3.0,5.0,5.0,8.0,9.0,10.0,10.0,11.0,13.0,14.0],\"type\":\"scatter\"},{\"hovertemplate\":\"<b>Matthew Stafford</b><br>%{y} TDs through week %{x}<extra></extra>\",\"line\":{\"color\":\"#003594\"},\"mode\":\"markers+lines\",\"name\":\"Matthew Stafford\",\"x\":[1,2,3,4,5,6,8,9,11],\"y\":[1.0,4.0,4.0,4.0,5.0,6.0,7.0,8.0,10.0],\"type\":\"scatter\"},{\"hovertemplate\":\"<b>Patrick Mahomes</b><br>%{y} TDs through week %{x}<extra></extra>\",\"line\":{\"color\":\"#E31837\"},\"mode\":\"markers+lines\",\"name\":\"Patrick Mahomes\",\"x\":[1,2,3,4,5,6,7,9,10,11,12,13,14,15,16,17,18],\"y\":[5.0,7.0,8.0,11.0,15.0,17.0,20.0,21.0,25.0,28.0,29.0,30.0,33.0,35.0,37.0,40.0,41.0],\"type\":\"scatter\"},{\"hovertemplate\":\"<b>Russell Wilson</b><br>%{y} TDs through week %{x}<extra></extra>\",\"line\":{\"color\":\"#002244\"},\"mode\":\"markers+lines\",\"name\":\"Russell Wilson\",\"x\":[1,2,3,4,5,6,8,10,11,12,13,14,16,17,18],\"y\":[1.0,2.0,2.0,4.0,4.0,5.0,6.0,7.0,7.0,8.0,8.0,11.0,12.0,13.0,16.0],\"type\":\"scatter\"},{\"hovertemplate\":\"<b>Ryan Tannehill</b><br>%{y} TDs through week %{x}<extra></extra>\",\"line\":{\"color\":\"#002244\"},\"mode\":\"markers+lines\",\"name\":\"Ryan Tannehill\",\"x\":[1,2,3,4,5,7,10,11,12,13,14,15],\"y\":[2.0,2.0,3.0,5.0,6.0,6.0,8.0,10.0,10.0,11.0,13.0,13.0],\"type\":\"scatter\"},{\"hovertemplate\":\"<b>Taylor Heinicke</b><br>%{y} TDs through week %{x}<extra></extra>\",\"line\":{\"color\":\"#5A1414\"},\"mode\":\"markers+lines\",\"name\":\"Taylor Heinicke\",\"x\":[7,8,9,10,11,12,13,15,16],\"y\":[2.0,3.0,5.0,5.0,5.0,7.0,9.0,10.0,12.0],\"type\":\"scatter\"},{\"hovertemplate\":\"<b>Tom Brady</b><br>%{y} TDs through week %{x}<extra></extra>\",\"line\":{\"color\":\"#A71930\"},\"mode\":\"markers+lines\",\"name\":\"Tom Brady\",\"x\":[1,2,3,4,5,6,7,8,9,10,12,13,14,15,16,17,18],\"y\":[1.0,2.0,3.0,6.0,7.0,8.0,8.0,9.0,10.0,12.0,14.0,16.0,17.0,20.0,21.0,24.0,25.0],\"type\":\"scatter\"},{\"hovertemplate\":\"<b>Trevor Lawrence</b><br>%{y} TDs through week %{x}<extra></extra>\",\"line\":{\"color\":\"#006778\"},\"mode\":\"markers+lines\",\"name\":\"Trevor Lawrence\",\"x\":[1,2,3,4,5,6,7,8,9,10,12,13,14,15,16,17,18],\"y\":[1.0,3.0,6.0,8.0,8.0,9.0,9.0,10.0,11.0,13.0,16.0,17.0,20.0,24.0,24.0,24.0,25.0],\"type\":\"scatter\"},{\"hovertemplate\":\"<b>Tua Tagovailoa</b><br>%{y} TDs through week %{x}<extra></extra>\",\"line\":{\"color\":\"#008E97\"},\"mode\":\"markers+lines\",\"name\":\"Tua Tagovailoa\",\"x\":[1,2,3,4,7,8,9,10,12,13,14,15,16],\"y\":[1.0,7.0,8.0,8.0,9.0,12.0,15.0,18.0,19.0,21.0,22.0,24.0,25.0],\"type\":\"scatter\"},{\"hovertemplate\":\"<b>Zach Wilson</b><br>%{y} TDs through week %{x}<extra></extra>\",\"line\":{\"color\":\"#003F2D\"},\"mode\":\"markers+lines\",\"name\":\"Zach Wilson\",\"x\":[4,5,6,7,8,9,11,15,16],\"y\":[1.0,1.0,1.0,1.0,3.0,4.0,4.0,6.0,6.0],\"type\":\"scatter\"}],                        {\"template\":{\"data\":{\"histogram2dcontour\":[{\"type\":\"histogram2dcontour\",\"colorbar\":{\"outlinewidth\":0,\"ticks\":\"\"},\"colorscale\":[[0.0,\"#0d0887\"],[0.1111111111111111,\"#46039f\"],[0.2222222222222222,\"#7201a8\"],[0.3333333333333333,\"#9c179e\"],[0.4444444444444444,\"#bd3786\"],[0.5555555555555556,\"#d8576b\"],[0.6666666666666666,\"#ed7953\"],[0.7777777777777778,\"#fb9f3a\"],[0.8888888888888888,\"#fdca26\"],[1.0,\"#f0f921\"]]}],\"choropleth\":[{\"type\":\"choropleth\",\"colorbar\":{\"outlinewidth\":0,\"ticks\":\"\"}}],\"histogram2d\":[{\"type\":\"histogram2d\",\"colorbar\":{\"outlinewidth\":0,\"ticks\":\"\"},\"colorscale\":[[0.0,\"#0d0887\"],[0.1111111111111111,\"#46039f\"],[0.2222222222222222,\"#7201a8\"],[0.3333333333333333,\"#9c179e\"],[0.4444444444444444,\"#bd3786\"],[0.5555555555555556,\"#d8576b\"],[0.6666666666666666,\"#ed7953\"],[0.7777777777777778,\"#fb9f3a\"],[0.8888888888888888,\"#fdca26\"],[1.0,\"#f0f921\"]]}],\"heatmap\":[{\"type\":\"heatmap\",\"colorbar\":{\"outlinewidth\":0,\"ticks\":\"\"},\"colorscale\":[[0.0,\"#0d0887\"],[0.1111111111111111,\"#46039f\"],[0.2222222222222222,\"#7201a8\"],[0.3333333333333333,\"#9c179e\"],[0.4444444444444444,\"#bd3786\"],[0.5555555555555556,\"#d8576b\"],[0.6666666666666666,\"#ed7953\"],[0.7777777777777778,\"#fb9f3a\"],[0.8888888888888888,\"#fdca26\"],[1.0,\"#f0f921\"]]}],\"heatmapgl\":[{\"type\":\"heatmapgl\",\"colorbar\":{\"outlinewidth\":0,\"ticks\":\"\"},\"colorscale\":[[0.0,\"#0d0887\"],[0.1111111111111111,\"#46039f\"],[0.2222222222222222,\"#7201a8\"],[0.3333333333333333,\"#9c179e\"],[0.4444444444444444,\"#bd3786\"],[0.5555555555555556,\"#d8576b\"],[0.6666666666666666,\"#ed7953\"],[0.7777777777777778,\"#fb9f3a\"],[0.8888888888888888,\"#fdca26\"],[1.0,\"#f0f921\"]]}],\"contourcarpet\":[{\"type\":\"contourcarpet\",\"colorbar\":{\"outlinewidth\":0,\"ticks\":\"\"}}],\"contour\":[{\"type\":\"contour\",\"colorbar\":{\"outlinewidth\":0,\"ticks\":\"\"},\"colorscale\":[[0.0,\"#0d0887\"],[0.1111111111111111,\"#46039f\"],[0.2222222222222222,\"#7201a8\"],[0.3333333333333333,\"#9c179e\"],[0.4444444444444444,\"#bd3786\"],[0.5555555555555556,\"#d8576b\"],[0.6666666666666666,\"#ed7953\"],[0.7777777777777778,\"#fb9f3a\"],[0.8888888888888888,\"#fdca26\"],[1.0,\"#f0f921\"]]}],\"surface\":[{\"type\":\"surface\",\"colorbar\":{\"outlinewidth\":0,\"ticks\":\"\"},\"colorscale\":[[0.0,\"#0d0887\"],[0.1111111111111111,\"#46039f\"],[0.2222222222222222,\"#7201a8\"],[0.3333333333333333,\"#9c179e\"],[0.4444444444444444,\"#bd3786\"],[0.5555555555555556,\"#d8576b\"],[0.6666666666666666,\"#ed7953\"],[0.7777777777777778,\"#fb9f3a\"],[0.8888888888888888,\"#fdca26\"],[1.0,\"#f0f921\"]]}],\"mesh3d\":[{\"type\":\"mesh3d\",\"colorbar\":{\"outlinewidth\":0,\"ticks\":\"\"}}],\"scatter\":[{\"fillpattern\":{\"fillmode\":\"overlay\",\"size\":10,\"solidity\":0.2},\"type\":\"scatter\"}],\"parcoords\":[{\"type\":\"parcoords\",\"line\":{\"colorbar\":{\"outlinewidth\":0,\"ticks\":\"\"}}}],\"scatterpolargl\":[{\"type\":\"scatterpolargl\",\"marker\":{\"colorbar\":{\"outlinewidth\":0,\"ticks\":\"\"}}}],\"bar\":[{\"error_x\":{\"color\":\"#2a3f5f\"},\"error_y\":{\"color\":\"#2a3f5f\"},\"marker\":{\"line\":{\"color\":\"#E5ECF6\",\"width\":0.5},\"pattern\":{\"fillmode\":\"overlay\",\"size\":10,\"solidity\":0.2}},\"type\":\"bar\"}],\"scattergeo\":[{\"type\":\"scattergeo\",\"marker\":{\"colorbar\":{\"outlinewidth\":0,\"ticks\":\"\"}}}],\"scatterpolar\":[{\"type\":\"scatterpolar\",\"marker\":{\"colorbar\":{\"outlinewidth\":0,\"ticks\":\"\"}}}],\"histogram\":[{\"marker\":{\"pattern\":{\"fillmode\":\"overlay\",\"size\":10,\"solidity\":0.2}},\"type\":\"histogram\"}],\"scattergl\":[{\"type\":\"scattergl\",\"marker\":{\"colorbar\":{\"outlinewidth\":0,\"ticks\":\"\"}}}],\"scatter3d\":[{\"type\":\"scatter3d\",\"line\":{\"colorbar\":{\"outlinewidth\":0,\"ticks\":\"\"}},\"marker\":{\"colorbar\":{\"outlinewidth\":0,\"ticks\":\"\"}}}],\"scattermapbox\":[{\"type\":\"scattermapbox\",\"marker\":{\"colorbar\":{\"outlinewidth\":0,\"ticks\":\"\"}}}],\"scatterternary\":[{\"type\":\"scatterternary\",\"marker\":{\"colorbar\":{\"outlinewidth\":0,\"ticks\":\"\"}}}],\"scattercarpet\":[{\"type\":\"scattercarpet\",\"marker\":{\"colorbar\":{\"outlinewidth\":0,\"ticks\":\"\"}}}],\"carpet\":[{\"aaxis\":{\"endlinecolor\":\"#2a3f5f\",\"gridcolor\":\"white\",\"linecolor\":\"white\",\"minorgridcolor\":\"white\",\"startlinecolor\":\"#2a3f5f\"},\"baxis\":{\"endlinecolor\":\"#2a3f5f\",\"gridcolor\":\"white\",\"linecolor\":\"white\",\"minorgridcolor\":\"white\",\"startlinecolor\":\"#2a3f5f\"},\"type\":\"carpet\"}],\"table\":[{\"cells\":{\"fill\":{\"color\":\"#EBF0F8\"},\"line\":{\"color\":\"white\"}},\"header\":{\"fill\":{\"color\":\"#C8D4E3\"},\"line\":{\"color\":\"white\"}},\"type\":\"table\"}],\"barpolar\":[{\"marker\":{\"line\":{\"color\":\"#E5ECF6\",\"width\":0.5},\"pattern\":{\"fillmode\":\"overlay\",\"size\":10,\"solidity\":0.2}},\"type\":\"barpolar\"}],\"pie\":[{\"automargin\":true,\"type\":\"pie\"}]},\"layout\":{\"autotypenumbers\":\"strict\",\"colorway\":[\"#636efa\",\"#EF553B\",\"#00cc96\",\"#ab63fa\",\"#FFA15A\",\"#19d3f3\",\"#FF6692\",\"#B6E880\",\"#FF97FF\",\"#FECB52\"],\"font\":{\"color\":\"#2a3f5f\"},\"hovermode\":\"closest\",\"hoverlabel\":{\"align\":\"left\"},\"paper_bgcolor\":\"white\",\"plot_bgcolor\":\"#E5ECF6\",\"polar\":{\"bgcolor\":\"#E5ECF6\",\"angularaxis\":{\"gridcolor\":\"white\",\"linecolor\":\"white\",\"ticks\":\"\"},\"radialaxis\":{\"gridcolor\":\"white\",\"linecolor\":\"white\",\"ticks\":\"\"}},\"ternary\":{\"bgcolor\":\"#E5ECF6\",\"aaxis\":{\"gridcolor\":\"white\",\"linecolor\":\"white\",\"ticks\":\"\"},\"baxis\":{\"gridcolor\":\"white\",\"linecolor\":\"white\",\"ticks\":\"\"},\"caxis\":{\"gridcolor\":\"white\",\"linecolor\":\"white\",\"ticks\":\"\"}},\"coloraxis\":{\"colorbar\":{\"outlinewidth\":0,\"ticks\":\"\"}},\"colorscale\":{\"sequential\":[[0.0,\"#0d0887\"],[0.1111111111111111,\"#46039f\"],[0.2222222222222222,\"#7201a8\"],[0.3333333333333333,\"#9c179e\"],[0.4444444444444444,\"#bd3786\"],[0.5555555555555556,\"#d8576b\"],[0.6666666666666666,\"#ed7953\"],[0.7777777777777778,\"#fb9f3a\"],[0.8888888888888888,\"#fdca26\"],[1.0,\"#f0f921\"]],\"sequentialminus\":[[0.0,\"#0d0887\"],[0.1111111111111111,\"#46039f\"],[0.2222222222222222,\"#7201a8\"],[0.3333333333333333,\"#9c179e\"],[0.4444444444444444,\"#bd3786\"],[0.5555555555555556,\"#d8576b\"],[0.6666666666666666,\"#ed7953\"],[0.7777777777777778,\"#fb9f3a\"],[0.8888888888888888,\"#fdca26\"],[1.0,\"#f0f921\"]],\"diverging\":[[0,\"#8e0152\"],[0.1,\"#c51b7d\"],[0.2,\"#de77ae\"],[0.3,\"#f1b6da\"],[0.4,\"#fde0ef\"],[0.5,\"#f7f7f7\"],[0.6,\"#e6f5d0\"],[0.7,\"#b8e186\"],[0.8,\"#7fbc41\"],[0.9,\"#4d9221\"],[1,\"#276419\"]]},\"xaxis\":{\"gridcolor\":\"white\",\"linecolor\":\"white\",\"ticks\":\"\",\"title\":{\"standoff\":15},\"zerolinecolor\":\"white\",\"automargin\":true,\"zerolinewidth\":2},\"yaxis\":{\"gridcolor\":\"white\",\"linecolor\":\"white\",\"ticks\":\"\",\"title\":{\"standoff\":15},\"zerolinecolor\":\"white\",\"automargin\":true,\"zerolinewidth\":2},\"scene\":{\"xaxis\":{\"backgroundcolor\":\"#E5ECF6\",\"gridcolor\":\"white\",\"linecolor\":\"white\",\"showbackground\":true,\"ticks\":\"\",\"zerolinecolor\":\"white\",\"gridwidth\":2},\"yaxis\":{\"backgroundcolor\":\"#E5ECF6\",\"gridcolor\":\"white\",\"linecolor\":\"white\",\"showbackground\":true,\"ticks\":\"\",\"zerolinecolor\":\"white\",\"gridwidth\":2},\"zaxis\":{\"backgroundcolor\":\"#E5ECF6\",\"gridcolor\":\"white\",\"linecolor\":\"white\",\"showbackground\":true,\"ticks\":\"\",\"zerolinecolor\":\"white\",\"gridwidth\":2}},\"shapedefaults\":{\"line\":{\"color\":\"#2a3f5f\"}},\"annotationdefaults\":{\"arrowcolor\":\"#2a3f5f\",\"arrowhead\":0,\"arrowwidth\":1},\"geo\":{\"bgcolor\":\"white\",\"landcolor\":\"#E5ECF6\",\"subunitcolor\":\"white\",\"showland\":true,\"showlakes\":true,\"lakecolor\":\"white\"},\"title\":{\"x\":0.05},\"mapbox\":{\"style\":\"light\"}}},\"font\":{\"family\":\"Averta, sans-serif\"},\"hoverlabel\":{\"font\":{\"family\":\"Averta, sans-serif\",\"size\":16}},\"xaxis\":{\"title\":{\"font\":{\"size\":18},\"text\":\"Week\"},\"tickfont\":{\"size\":16}},\"yaxis\":{\"title\":{\"font\":{\"size\":18},\"text\":\"Passing TDs\"},\"tickfont\":{\"size\":16}},\"legend\":{\"font\":{\"size\":16}},\"height\":1000,\"width\":1000},                        {\"responsive\": true}                    ).then(function(){\n",
       "                            \n",
       "var gd = document.getElementById('4abb9175-8ed5-41ff-af96-a61595ae8112');\n",
       "var x = new MutationObserver(function (mutations, observer) {{\n",
       "        var display = window.getComputedStyle(gd).display;\n",
       "        if (!display || display === 'none') {{\n",
       "            console.log([gd, 'removed!']);\n",
       "            Plotly.purge(gd);\n",
       "            observer.disconnect();\n",
       "        }}\n",
       "}});\n",
       "\n",
       "// Listen for the removal of the full notebook cells\n",
       "var notebookContainer = gd.closest('#notebook-container');\n",
       "if (notebookContainer) {{\n",
       "    x.observe(notebookContainer, {childList: true});\n",
       "}}\n",
       "\n",
       "// Listen for the clearing of the current output cell\n",
       "var outputEl = gd.closest('.output');\n",
       "if (outputEl) {{\n",
       "    x.observe(outputEl, {childList: true});\n",
       "}}\n",
       "\n",
       "                        })                };                });            </script>        </div>"
      ]
     },
     "metadata": {},
     "output_type": "display_data"
    }
   ],
   "source": [
    "fig = go.Figure()\n",
    "\n",
    "for name, values in df_agg.groupby(\"player_name\"):\n",
    "    if values[\"passing_yards\"].sum() > 1500:\n",
    "        fig.add_trace(\n",
    "            go.Scatter(\n",
    "                x=values[\"week\"],\n",
    "                y=values[\"pass_touchdown\"].cumsum(),\n",
    "                name=name,\n",
    "                mode=\"markers+lines\",\n",
    "                line_color=values.iloc[0].team_color,\n",
    "                hovertemplate=f\"<b>{name}</b><br>%{{y}} TDs through week %{{x}}<extra></extra>\"\n",
    "            )\n",
    "        )\n",
    "\n",
    "        \n",
    "fig.update_layout(\n",
    "    font_family=\"Averta, sans-serif\",\n",
    "    hoverlabel_font_family=\"Averta, sans-serif\",\n",
    "    xaxis_title_text=\"Week\",\n",
    "    xaxis_title_font_size=18,\n",
    "    xaxis_tickfont_size=16,\n",
    "    yaxis_title_text=\"Passing TDs\",\n",
    "    yaxis_title_font_size=18,\n",
    "    yaxis_tickfont_size=16,\n",
    "    hoverlabel_font_size=16,\n",
    "    legend_font_size=16,\n",
    "    height=1000,\n",
    "    width=1000\n",
    ")\n",
    "\n",
    "fig.show()"
   ]
  },
  {
   "cell_type": "code",
   "execution_count": 53,
   "id": "f5053583",
   "metadata": {},
   "outputs": [
    {
     "data": {
      "text/plain": [
       "(48939, 384)"
      ]
     },
     "execution_count": 53,
     "metadata": {},
     "output_type": "execute_result"
    }
   ],
   "source": [
    "df_2022_copy.shape"
   ]
  },
  {
   "cell_type": "code",
   "execution_count": 57,
   "id": "70d3577c",
   "metadata": {},
   "outputs": [
    {
     "name": "stdout",
     "output_type": "stream",
     "text": [
      "['play_id', 'game_id', 'old_game_id', 'home_team', 'away_team', 'season_type', 'week', 'posteam', 'posteam_type', 'defteam', 'side_of_field', 'yardline_100', 'game_date', 'quarter_seconds_remaining', 'half_seconds_remaining', 'game_seconds_remaining', 'game_half', 'quarter_end', 'drive', 'sp', 'qtr', 'down', 'goal_to_go', 'time', 'yrdln', 'ydstogo', 'ydsnet', 'desc', 'play_type', 'yards_gained', 'shotgun', 'no_huddle', 'qb_dropback', 'qb_kneel', 'qb_spike', 'qb_scramble', 'pass_length', 'pass_location', 'air_yards', 'yards_after_catch', 'run_location', 'run_gap', 'field_goal_result', 'kick_distance', 'extra_point_result', 'two_point_conv_result', 'home_timeouts_remaining', 'away_timeouts_remaining', 'timeout', 'timeout_team', 'td_team', 'td_player_name', 'td_player_id', 'posteam_timeouts_remaining', 'defteam_timeouts_remaining', 'total_home_score', 'total_away_score', 'posteam_score', 'defteam_score', 'score_differential', 'posteam_score_post', 'defteam_score_post', 'score_differential_post', 'no_score_prob', 'opp_fg_prob', 'opp_safety_prob', 'opp_td_prob', 'fg_prob', 'safety_prob', 'td_prob', 'extra_point_prob', 'two_point_conversion_prob', 'ep', 'epa', 'total_home_epa', 'total_away_epa', 'total_home_rush_epa', 'total_away_rush_epa', 'total_home_pass_epa', 'total_away_pass_epa', 'air_epa', 'yac_epa', 'comp_air_epa', 'comp_yac_epa', 'total_home_comp_air_epa', 'total_away_comp_air_epa', 'total_home_comp_yac_epa', 'total_away_comp_yac_epa', 'total_home_raw_air_epa', 'total_away_raw_air_epa', 'total_home_raw_yac_epa', 'total_away_raw_yac_epa', 'wp', 'def_wp', 'home_wp', 'away_wp', 'wpa', 'vegas_wpa', 'vegas_home_wpa', 'home_wp_post', 'away_wp_post', 'vegas_wp', 'vegas_home_wp', 'total_home_rush_wpa', 'total_away_rush_wpa', 'total_home_pass_wpa', 'total_away_pass_wpa', 'air_wpa', 'yac_wpa', 'comp_air_wpa', 'comp_yac_wpa', 'total_home_comp_air_wpa', 'total_away_comp_air_wpa', 'total_home_comp_yac_wpa', 'total_away_comp_yac_wpa', 'total_home_raw_air_wpa', 'total_away_raw_air_wpa', 'total_home_raw_yac_wpa', 'total_away_raw_yac_wpa', 'punt_blocked', 'first_down_rush', 'first_down_pass', 'first_down_penalty', 'third_down_converted', 'third_down_failed', 'fourth_down_converted', 'fourth_down_failed', 'incomplete_pass', 'touchback', 'interception', 'punt_inside_twenty', 'punt_in_endzone', 'punt_out_of_bounds', 'punt_downed', 'punt_fair_catch', 'kickoff_inside_twenty', 'kickoff_in_endzone', 'kickoff_out_of_bounds', 'kickoff_downed', 'kickoff_fair_catch', 'fumble_forced', 'fumble_not_forced', 'fumble_out_of_bounds', 'solo_tackle', 'safety', 'penalty', 'tackled_for_loss', 'fumble_lost', 'own_kickoff_recovery', 'own_kickoff_recovery_td', 'qb_hit', 'rush_attempt', 'pass_attempt', 'sack', 'touchdown', 'pass_touchdown', 'rush_touchdown', 'return_touchdown', 'extra_point_attempt', 'two_point_attempt', 'field_goal_attempt', 'kickoff_attempt', 'punt_attempt', 'fumble', 'complete_pass', 'assist_tackle', 'lateral_reception', 'lateral_rush', 'lateral_return', 'lateral_recovery', 'passer_player_id', 'passer_player_name', 'passing_yards', 'receiver_player_id', 'receiver_player_name', 'receiving_yards', 'rusher_player_id', 'rusher_player_name', 'rushing_yards', 'lateral_receiver_player_id', 'lateral_receiver_player_name', 'lateral_receiving_yards', 'lateral_rusher_player_id', 'lateral_rusher_player_name', 'lateral_rushing_yards', 'lateral_sack_player_id', 'lateral_sack_player_name', 'interception_player_id', 'interception_player_name', 'lateral_interception_player_id', 'lateral_interception_player_name', 'punt_returner_player_id', 'punt_returner_player_name', 'lateral_punt_returner_player_id', 'lateral_punt_returner_player_name', 'kickoff_returner_player_name', 'kickoff_returner_player_id', 'lateral_kickoff_returner_player_id', 'lateral_kickoff_returner_player_name', 'punter_player_id', 'punter_player_name', 'kicker_player_name', 'kicker_player_id', 'own_kickoff_recovery_player_id', 'own_kickoff_recovery_player_name', 'blocked_player_id', 'blocked_player_name', 'tackle_for_loss_1_player_id', 'tackle_for_loss_1_player_name', 'tackle_for_loss_2_player_id', 'tackle_for_loss_2_player_name', 'qb_hit_1_player_id', 'qb_hit_1_player_name', 'qb_hit_2_player_id', 'qb_hit_2_player_name', 'forced_fumble_player_1_team', 'forced_fumble_player_1_player_id', 'forced_fumble_player_1_player_name', 'forced_fumble_player_2_team', 'forced_fumble_player_2_player_id', 'forced_fumble_player_2_player_name', 'solo_tackle_1_team', 'solo_tackle_2_team', 'solo_tackle_1_player_id', 'solo_tackle_2_player_id', 'solo_tackle_1_player_name', 'solo_tackle_2_player_name', 'assist_tackle_1_player_id', 'assist_tackle_1_player_name', 'assist_tackle_1_team', 'assist_tackle_2_player_id', 'assist_tackle_2_player_name', 'assist_tackle_2_team', 'assist_tackle_3_player_id', 'assist_tackle_3_player_name', 'assist_tackle_3_team', 'assist_tackle_4_player_id', 'assist_tackle_4_player_name', 'assist_tackle_4_team', 'tackle_with_assist', 'tackle_with_assist_1_player_id', 'tackle_with_assist_1_player_name', 'tackle_with_assist_1_team', 'tackle_with_assist_2_player_id', 'tackle_with_assist_2_player_name', 'tackle_with_assist_2_team', 'pass_defense_1_player_id', 'pass_defense_1_player_name', 'pass_defense_2_player_id', 'pass_defense_2_player_name', 'fumbled_1_team', 'fumbled_1_player_id', 'fumbled_1_player_name', 'fumbled_2_player_id', 'fumbled_2_player_name', 'fumbled_2_team', 'fumble_recovery_1_team', 'fumble_recovery_1_yards', 'fumble_recovery_1_player_id', 'fumble_recovery_1_player_name', 'fumble_recovery_2_team', 'fumble_recovery_2_yards', 'fumble_recovery_2_player_id', 'fumble_recovery_2_player_name', 'sack_player_id', 'sack_player_name', 'half_sack_1_player_id', 'half_sack_1_player_name', 'half_sack_2_player_id', 'half_sack_2_player_name', 'return_team', 'return_yards', 'penalty_team', 'penalty_player_id', 'penalty_player_name', 'penalty_yards', 'replay_or_challenge', 'replay_or_challenge_result', 'penalty_type', 'defensive_two_point_attempt', 'defensive_two_point_conv', 'defensive_extra_point_attempt', 'defensive_extra_point_conv', 'safety_player_name', 'safety_player_id', 'season', 'cp', 'cpoe', 'series', 'series_success', 'series_result', 'order_sequence', 'start_time', 'time_of_day', 'stadium', 'weather', 'nfl_api_id', 'play_clock', 'play_deleted', 'play_type_nfl', 'special_teams_play', 'st_play_type', 'end_clock_time', 'end_yard_line', 'fixed_drive', 'fixed_drive_result', 'drive_real_start_time', 'drive_play_count', 'drive_time_of_possession', 'drive_first_downs', 'drive_inside20', 'drive_ended_with_score', 'drive_quarter_start', 'drive_quarter_end', 'drive_yards_penalized', 'drive_start_transition', 'drive_end_transition', 'drive_game_clock_start', 'drive_game_clock_end', 'drive_start_yard_line', 'drive_end_yard_line', 'drive_play_id_started', 'drive_play_id_ended', 'away_score', 'home_score', 'location', 'result', 'total', 'spread_line', 'total_line', 'div_game', 'roof', 'surface', 'temp', 'wind', 'home_coach', 'away_coach', 'stadium_id', 'game_stadium', 'aborted_play', 'success', 'passer', 'passer_jersey_number', 'rusher', 'rusher_jersey_number', 'receiver', 'receiver_jersey_number', 'pass', 'rush', 'first_down', 'special', 'play', 'passer_id', 'rusher_id', 'receiver_id', 'name', 'jersey_number', 'id', 'fantasy_player_name', 'fantasy_player_id', 'fantasy', 'fantasy_id', 'out_of_bounds', 'home_opening_kickoff', 'qb_epa', 'xyac_epa', 'xyac_mean_yardage', 'xyac_median_yardage', 'xyac_success', 'xyac_fd', 'xpass', 'pass_oe', 'nflverse_game_id', 'possession_team', 'offense_formation', 'offense_personnel', 'defenders_in_box', 'defense_personnel', 'number_of_pass_rushers', 'players_on_play', 'offense_players', 'defense_players', 'n_offense', 'n_defense']\n"
     ]
    }
   ],
   "source": [
    "print(df_2022_copy.columns.tolist())"
   ]
  },
  {
   "cell_type": "code",
   "execution_count": 59,
   "id": "f66decbd",
   "metadata": {},
   "outputs": [
    {
     "name": "stdout",
     "output_type": "stream",
     "text": [
      "<class 'pandas.core.frame.DataFrame'>\n",
      "RangeIndex: 48939 entries, 0 to 48938\n",
      "Data columns (total 384 columns):\n",
      " #    Column                                Dtype  \n",
      "---   ------                                -----  \n",
      " 0    play_id                               float32\n",
      " 1    game_id                               object \n",
      " 2    old_game_id                           object \n",
      " 3    home_team                             object \n",
      " 4    away_team                             object \n",
      " 5    season_type                           object \n",
      " 6    week                                  int32  \n",
      " 7    posteam                               object \n",
      " 8    posteam_type                          object \n",
      " 9    defteam                               object \n",
      " 10   side_of_field                         object \n",
      " 11   yardline_100                          float32\n",
      " 12   game_date                             object \n",
      " 13   quarter_seconds_remaining             float32\n",
      " 14   half_seconds_remaining                float32\n",
      " 15   game_seconds_remaining                float32\n",
      " 16   game_half                             object \n",
      " 17   quarter_end                           float32\n",
      " 18   drive                                 float32\n",
      " 19   sp                                    float32\n",
      " 20   qtr                                   float32\n",
      " 21   down                                  float32\n",
      " 22   goal_to_go                            float32\n",
      " 23   time                                  object \n",
      " 24   yrdln                                 object \n",
      " 25   ydstogo                               float32\n",
      " 26   ydsnet                                float32\n",
      " 27   desc                                  object \n",
      " 28   play_type                             object \n",
      " 29   yards_gained                          float32\n",
      " 30   shotgun                               float32\n",
      " 31   no_huddle                             float32\n",
      " 32   qb_dropback                           float32\n",
      " 33   qb_kneel                              float32\n",
      " 34   qb_spike                              float32\n",
      " 35   qb_scramble                           float32\n",
      " 36   pass_length                           object \n",
      " 37   pass_location                         object \n",
      " 38   air_yards                             float32\n",
      " 39   yards_after_catch                     float32\n",
      " 40   run_location                          object \n",
      " 41   run_gap                               object \n",
      " 42   field_goal_result                     object \n",
      " 43   kick_distance                         float32\n",
      " 44   extra_point_result                    object \n",
      " 45   two_point_conv_result                 object \n",
      " 46   home_timeouts_remaining               float32\n",
      " 47   away_timeouts_remaining               float32\n",
      " 48   timeout                               float32\n",
      " 49   timeout_team                          object \n",
      " 50   td_team                               object \n",
      " 51   td_player_name                        object \n",
      " 52   td_player_id                          object \n",
      " 53   posteam_timeouts_remaining            float32\n",
      " 54   defteam_timeouts_remaining            float32\n",
      " 55   total_home_score                      float32\n",
      " 56   total_away_score                      float32\n",
      " 57   posteam_score                         float32\n",
      " 58   defteam_score                         float32\n",
      " 59   score_differential                    float32\n",
      " 60   posteam_score_post                    float32\n",
      " 61   defteam_score_post                    float32\n",
      " 62   score_differential_post               float32\n",
      " 63   no_score_prob                         float32\n",
      " 64   opp_fg_prob                           float32\n",
      " 65   opp_safety_prob                       float32\n",
      " 66   opp_td_prob                           float32\n",
      " 67   fg_prob                               float32\n",
      " 68   safety_prob                           float32\n",
      " 69   td_prob                               float32\n",
      " 70   extra_point_prob                      float32\n",
      " 71   two_point_conversion_prob             float32\n",
      " 72   ep                                    float32\n",
      " 73   epa                                   float32\n",
      " 74   total_home_epa                        float32\n",
      " 75   total_away_epa                        float32\n",
      " 76   total_home_rush_epa                   float32\n",
      " 77   total_away_rush_epa                   float32\n",
      " 78   total_home_pass_epa                   float32\n",
      " 79   total_away_pass_epa                   float32\n",
      " 80   air_epa                               float32\n",
      " 81   yac_epa                               float32\n",
      " 82   comp_air_epa                          float32\n",
      " 83   comp_yac_epa                          float32\n",
      " 84   total_home_comp_air_epa               float32\n",
      " 85   total_away_comp_air_epa               float32\n",
      " 86   total_home_comp_yac_epa               float32\n",
      " 87   total_away_comp_yac_epa               float32\n",
      " 88   total_home_raw_air_epa                float32\n",
      " 89   total_away_raw_air_epa                float32\n",
      " 90   total_home_raw_yac_epa                float32\n",
      " 91   total_away_raw_yac_epa                float32\n",
      " 92   wp                                    float32\n",
      " 93   def_wp                                float32\n",
      " 94   home_wp                               float32\n",
      " 95   away_wp                               float32\n",
      " 96   wpa                                   float32\n",
      " 97   vegas_wpa                             float32\n",
      " 98   vegas_home_wpa                        float32\n",
      " 99   home_wp_post                          float32\n",
      " 100  away_wp_post                          float32\n",
      " 101  vegas_wp                              float32\n",
      " 102  vegas_home_wp                         float32\n",
      " 103  total_home_rush_wpa                   float32\n",
      " 104  total_away_rush_wpa                   float32\n",
      " 105  total_home_pass_wpa                   float32\n",
      " 106  total_away_pass_wpa                   float32\n",
      " 107  air_wpa                               float32\n",
      " 108  yac_wpa                               float32\n",
      " 109  comp_air_wpa                          float32\n",
      " 110  comp_yac_wpa                          float32\n",
      " 111  total_home_comp_air_wpa               float32\n",
      " 112  total_away_comp_air_wpa               float32\n",
      " 113  total_home_comp_yac_wpa               float32\n",
      " 114  total_away_comp_yac_wpa               float32\n",
      " 115  total_home_raw_air_wpa                float32\n",
      " 116  total_away_raw_air_wpa                float32\n",
      " 117  total_home_raw_yac_wpa                float32\n",
      " 118  total_away_raw_yac_wpa                float32\n",
      " 119  punt_blocked                          float32\n",
      " 120  first_down_rush                       float32\n",
      " 121  first_down_pass                       float32\n",
      " 122  first_down_penalty                    float32\n",
      " 123  third_down_converted                  float32\n",
      " 124  third_down_failed                     float32\n",
      " 125  fourth_down_converted                 float32\n",
      " 126  fourth_down_failed                    float32\n",
      " 127  incomplete_pass                       float32\n",
      " 128  touchback                             float32\n",
      " 129  interception                          float32\n",
      " 130  punt_inside_twenty                    float32\n",
      " 131  punt_in_endzone                       float32\n",
      " 132  punt_out_of_bounds                    float32\n",
      " 133  punt_downed                           float32\n",
      " 134  punt_fair_catch                       float32\n",
      " 135  kickoff_inside_twenty                 float32\n",
      " 136  kickoff_in_endzone                    float32\n",
      " 137  kickoff_out_of_bounds                 float32\n",
      " 138  kickoff_downed                        float32\n",
      " 139  kickoff_fair_catch                    float32\n",
      " 140  fumble_forced                         float32\n",
      " 141  fumble_not_forced                     float32\n",
      " 142  fumble_out_of_bounds                  float32\n",
      " 143  solo_tackle                           float32\n",
      " 144  safety                                float32\n",
      " 145  penalty                               float32\n",
      " 146  tackled_for_loss                      float32\n",
      " 147  fumble_lost                           float32\n",
      " 148  own_kickoff_recovery                  float32\n",
      " 149  own_kickoff_recovery_td               float32\n",
      " 150  qb_hit                                float32\n",
      " 151  rush_attempt                          float32\n",
      " 152  pass_attempt                          float32\n",
      " 153  sack                                  float32\n",
      " 154  touchdown                             float32\n",
      " 155  pass_touchdown                        float32\n",
      " 156  rush_touchdown                        float32\n",
      " 157  return_touchdown                      float32\n",
      " 158  extra_point_attempt                   float32\n",
      " 159  two_point_attempt                     float32\n",
      " 160  field_goal_attempt                    float32\n",
      " 161  kickoff_attempt                       float32\n",
      " 162  punt_attempt                          float32\n",
      " 163  fumble                                float32\n",
      " 164  complete_pass                         float32\n",
      " 165  assist_tackle                         float32\n",
      " 166  lateral_reception                     float32\n",
      " 167  lateral_rush                          float32\n",
      " 168  lateral_return                        float32\n",
      " 169  lateral_recovery                      float32\n",
      " 170  passer_player_id                      object \n",
      " 171  passer_player_name                    object \n",
      " 172  passing_yards                         float32\n",
      " 173  receiver_player_id                    object \n",
      " 174  receiver_player_name                  object \n",
      " 175  receiving_yards                       float32\n",
      " 176  rusher_player_id                      object \n",
      " 177  rusher_player_name                    object \n",
      " 178  rushing_yards                         float32\n",
      " 179  lateral_receiver_player_id            object \n",
      " 180  lateral_receiver_player_name          object \n",
      " 181  lateral_receiving_yards               float32\n",
      " 182  lateral_rusher_player_id              object \n",
      " 183  lateral_rusher_player_name            object \n",
      " 184  lateral_rushing_yards                 float32\n",
      " 185  lateral_sack_player_id                object \n",
      " 186  lateral_sack_player_name              object \n",
      " 187  interception_player_id                object \n",
      " 188  interception_player_name              object \n",
      " 189  lateral_interception_player_id        object \n",
      " 190  lateral_interception_player_name      object \n",
      " 191  punt_returner_player_id               object \n",
      " 192  punt_returner_player_name             object \n",
      " 193  lateral_punt_returner_player_id       object \n",
      " 194  lateral_punt_returner_player_name     object \n",
      " 195  kickoff_returner_player_name          object \n",
      " 196  kickoff_returner_player_id            object \n",
      " 197  lateral_kickoff_returner_player_id    object \n",
      " 198  lateral_kickoff_returner_player_name  object \n",
      " 199  punter_player_id                      object \n",
      " 200  punter_player_name                    object \n",
      " 201  kicker_player_name                    object \n",
      " 202  kicker_player_id                      object \n",
      " 203  own_kickoff_recovery_player_id        object \n",
      " 204  own_kickoff_recovery_player_name      object \n",
      " 205  blocked_player_id                     object \n",
      " 206  blocked_player_name                   object \n",
      " 207  tackle_for_loss_1_player_id           object \n",
      " 208  tackle_for_loss_1_player_name         object \n",
      " 209  tackle_for_loss_2_player_id           object \n",
      " 210  tackle_for_loss_2_player_name         object \n",
      " 211  qb_hit_1_player_id                    object \n",
      " 212  qb_hit_1_player_name                  object \n",
      " 213  qb_hit_2_player_id                    object \n",
      " 214  qb_hit_2_player_name                  object \n",
      " 215  forced_fumble_player_1_team           object \n",
      " 216  forced_fumble_player_1_player_id      object \n",
      " 217  forced_fumble_player_1_player_name    object \n",
      " 218  forced_fumble_player_2_team           object \n",
      " 219  forced_fumble_player_2_player_id      object \n",
      " 220  forced_fumble_player_2_player_name    object \n",
      " 221  solo_tackle_1_team                    object \n",
      " 222  solo_tackle_2_team                    object \n",
      " 223  solo_tackle_1_player_id               object \n",
      " 224  solo_tackle_2_player_id               object \n",
      " 225  solo_tackle_1_player_name             object \n",
      " 226  solo_tackle_2_player_name             object \n",
      " 227  assist_tackle_1_player_id             object \n",
      " 228  assist_tackle_1_player_name           object \n",
      " 229  assist_tackle_1_team                  object \n",
      " 230  assist_tackle_2_player_id             object \n",
      " 231  assist_tackle_2_player_name           object \n",
      " 232  assist_tackle_2_team                  object \n",
      " 233  assist_tackle_3_player_id             object \n",
      " 234  assist_tackle_3_player_name           object \n",
      " 235  assist_tackle_3_team                  object \n",
      " 236  assist_tackle_4_player_id             object \n",
      " 237  assist_tackle_4_player_name           object \n",
      " 238  assist_tackle_4_team                  object \n",
      " 239  tackle_with_assist                    float32\n",
      " 240  tackle_with_assist_1_player_id        object \n",
      " 241  tackle_with_assist_1_player_name      object \n",
      " 242  tackle_with_assist_1_team             object \n",
      " 243  tackle_with_assist_2_player_id        object \n",
      " 244  tackle_with_assist_2_player_name      object \n",
      " 245  tackle_with_assist_2_team             object \n",
      " 246  pass_defense_1_player_id              object \n",
      " 247  pass_defense_1_player_name            object \n",
      " 248  pass_defense_2_player_id              object \n",
      " 249  pass_defense_2_player_name            object \n",
      " 250  fumbled_1_team                        object \n",
      " 251  fumbled_1_player_id                   object \n",
      " 252  fumbled_1_player_name                 object \n",
      " 253  fumbled_2_player_id                   object \n",
      " 254  fumbled_2_player_name                 object \n",
      " 255  fumbled_2_team                        object \n",
      " 256  fumble_recovery_1_team                object \n",
      " 257  fumble_recovery_1_yards               float32\n",
      " 258  fumble_recovery_1_player_id           object \n",
      " 259  fumble_recovery_1_player_name         object \n",
      " 260  fumble_recovery_2_team                object \n",
      " 261  fumble_recovery_2_yards               float32\n",
      " 262  fumble_recovery_2_player_id           object \n",
      " 263  fumble_recovery_2_player_name         object \n",
      " 264  sack_player_id                        object \n",
      " 265  sack_player_name                      object \n",
      " 266  half_sack_1_player_id                 object \n",
      " 267  half_sack_1_player_name               object \n",
      " 268  half_sack_2_player_id                 object \n",
      " 269  half_sack_2_player_name               object \n",
      " 270  return_team                           object \n",
      " 271  return_yards                          float32\n",
      " 272  penalty_team                          object \n",
      " 273  penalty_player_id                     object \n",
      " 274  penalty_player_name                   object \n",
      " 275  penalty_yards                         float32\n",
      " 276  replay_or_challenge                   float32\n",
      " 277  replay_or_challenge_result            object \n",
      " 278  penalty_type                          object \n",
      " 279  defensive_two_point_attempt           float32\n",
      " 280  defensive_two_point_conv              float32\n",
      " 281  defensive_extra_point_attempt         float32\n",
      " 282  defensive_extra_point_conv            float32\n",
      " 283  safety_player_name                    object \n",
      " 284  safety_player_id                      object \n",
      " 285  season                                int64  \n",
      " 286  cp                                    float32\n",
      " 287  cpoe                                  float32\n",
      " 288  series                                float32\n",
      " 289  series_success                        float32\n",
      " 290  series_result                         object \n",
      " 291  order_sequence                        float32\n",
      " 292  start_time                            object \n",
      " 293  time_of_day                           object \n",
      " 294  stadium                               object \n",
      " 295  weather                               object \n",
      " 296  nfl_api_id                            object \n",
      " 297  play_clock                            object \n",
      " 298  play_deleted                          float32\n",
      " 299  play_type_nfl                         object \n",
      " 300  special_teams_play                    float32\n",
      " 301  st_play_type                          object \n",
      " 302  end_clock_time                        object \n",
      " 303  end_yard_line                         object \n",
      " 304  fixed_drive                           float32\n",
      " 305  fixed_drive_result                    object \n",
      " 306  drive_real_start_time                 object \n",
      " 307  drive_play_count                      float32\n",
      " 308  drive_time_of_possession              object \n",
      " 309  drive_first_downs                     float32\n",
      " 310  drive_inside20                        float32\n",
      " 311  drive_ended_with_score                float32\n",
      " 312  drive_quarter_start                   float32\n",
      " 313  drive_quarter_end                     float32\n",
      " 314  drive_yards_penalized                 float32\n",
      " 315  drive_start_transition                object \n",
      " 316  drive_end_transition                  object \n",
      " 317  drive_game_clock_start                object \n",
      " 318  drive_game_clock_end                  object \n",
      " 319  drive_start_yard_line                 object \n",
      " 320  drive_end_yard_line                   object \n",
      " 321  drive_play_id_started                 float32\n",
      " 322  drive_play_id_ended                   float32\n",
      " 323  away_score                            int32  \n",
      " 324  home_score                            int32  \n",
      " 325  location                              object \n",
      " 326  result                                int32  \n",
      " 327  total                                 int32  \n",
      " 328  spread_line                           float32\n",
      " 329  total_line                            float32\n",
      " 330  div_game                              int32  \n",
      " 331  roof                                  object \n",
      " 332  surface                               object \n",
      " 333  temp                                  float32\n",
      " 334  wind                                  float32\n",
      " 335  home_coach                            object \n",
      " 336  away_coach                            object \n",
      " 337  stadium_id                            object \n",
      " 338  game_stadium                          object \n",
      " 339  aborted_play                          float32\n",
      " 340  success                               float32\n",
      " 341  passer                                object \n",
      " 342  passer_jersey_number                  float32\n",
      " 343  rusher                                object \n",
      " 344  rusher_jersey_number                  float32\n",
      " 345  receiver                              object \n",
      " 346  receiver_jersey_number                float32\n",
      " 347  pass                                  float32\n",
      " 348  rush                                  float32\n",
      " 349  first_down                            float32\n",
      " 350  special                               float32\n",
      " 351  play                                  float32\n",
      " 352  passer_id                             object \n",
      " 353  rusher_id                             object \n",
      " 354  receiver_id                           object \n",
      " 355  name                                  object \n",
      " 356  jersey_number                         float32\n",
      " 357  id                                    object \n",
      " 358  fantasy_player_name                   object \n",
      " 359  fantasy_player_id                     object \n",
      " 360  fantasy                               object \n",
      " 361  fantasy_id                            object \n",
      " 362  out_of_bounds                         float32\n",
      " 363  home_opening_kickoff                  float32\n",
      " 364  qb_epa                                float32\n",
      " 365  xyac_epa                              float32\n",
      " 366  xyac_mean_yardage                     float32\n",
      " 367  xyac_median_yardage                   float32\n",
      " 368  xyac_success                          float32\n",
      " 369  xyac_fd                               float32\n",
      " 370  xpass                                 float32\n",
      " 371  pass_oe                               float32\n",
      " 372  nflverse_game_id                      object \n",
      " 373  possession_team                       object \n",
      " 374  offense_formation                     object \n",
      " 375  offense_personnel                     object \n",
      " 376  defenders_in_box                      float32\n",
      " 377  defense_personnel                     object \n",
      " 378  number_of_pass_rushers                float32\n",
      " 379  players_on_play                       object \n",
      " 380  offense_players                       object \n",
      " 381  defense_players                       object \n",
      " 382  n_offense                             float32\n",
      " 383  n_defense                             float32\n",
      "dtypes: float32(204), int32(6), int64(1), object(173)\n",
      "memory usage: 104.2+ MB\n"
     ]
    }
   ],
   "source": [
    "df_2022_copy.info(verbose=True)"
   ]
  },
  {
   "cell_type": "code",
   "execution_count": 60,
   "id": "3012e6cf",
   "metadata": {},
   "outputs": [
    {
     "data": {
      "text/plain": [
       "pass           19905\n",
       "run            14662\n",
       "no_play         4458\n",
       "kickoff         2766\n",
       "punt            2244\n",
       "extra_point     1219\n",
       "field_goal      1081\n",
       "qb_kneel         433\n",
       "qb_spike          61\n",
       "Name: play_type, dtype: int64"
      ]
     },
     "execution_count": 60,
     "metadata": {},
     "output_type": "execute_result"
    }
   ],
   "source": [
    "df_2022_copy[\"play_type\"].value_counts()"
   ]
  },
  {
   "cell_type": "code",
   "execution_count": 1,
   "id": "00278dbf",
   "metadata": {},
   "outputs": [
    {
     "name": "stdout",
     "output_type": "stream",
     "text": [
      "oh no its the end of the file\n"
     ]
    }
   ],
   "source": [
    "print('oh no its the end of the file')"
   ]
  },
  {
   "cell_type": "code",
   "execution_count": 1,
   "id": "10d62b93",
   "metadata": {},
   "outputs": [
    {
     "name": "stdout",
     "output_type": "stream",
     "text": [
      "just kidding, this is the end my friend\n"
     ]
    }
   ],
   "source": [
    "print('just kidding, this is the end my friend')"
   ]
  },
  {
   "cell_type": "code",
   "execution_count": null,
   "id": "5fe80e97",
   "metadata": {},
   "outputs": [],
   "source": []
  }
 ],
 "metadata": {
  "kernelspec": {
   "display_name": "Python 3 (ipykernel)",
   "language": "python",
   "name": "python3"
  },
  "language_info": {
   "codemirror_mode": {
    "name": "ipython",
    "version": 3
   },
   "file_extension": ".py",
   "mimetype": "text/x-python",
   "name": "python",
   "nbconvert_exporter": "python",
   "pygments_lexer": "ipython3",
   "version": "3.10.6"
  }
 },
 "nbformat": 4,
 "nbformat_minor": 5
}
