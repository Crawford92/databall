{
 "cells": [
  {
   "cell_type": "code",
   "execution_count": null,
   "id": "18cb8fb0",
   "metadata": {},
   "outputs": [],
   "source": [
    "#The goal is to evaluate Passer Rating differential vs game outcome. \n",
    "#The hypothesis is that when one team's QB has a higher Passer Rating, that team is more likely to win"
   ]
  },
  {
   "cell_type": "code",
   "execution_count": 1,
   "id": "01837d27",
   "metadata": {},
   "outputs": [],
   "source": [
    "import pandas as pd\n",
    "import plotly.graph_objects as go\n",
    "import math"
   ]
  },
  {
   "cell_type": "code",
   "execution_count": 2,
   "id": "c1072891",
   "metadata": {},
   "outputs": [
    {
     "name": "stderr",
     "output_type": "stream",
     "text": [
      "/tmp/ipykernel_8156/31602283.py:1: DtypeWarning: Columns (46,180,181,183,184,190,191,204,205,206,207,214,215,219,220,221,223,225,227,244,245,246,249,250,254,255,256,261,263,264,267,268,269,270,278,284,285,302) have mixed types. Specify dtype option on import or set low_memory=False.\n",
      "  playlist1 = pd.read_csv('playlist_1.csv')\n",
      "/tmp/ipykernel_8156/31602283.py:2: DtypeWarning: Columns (46,180,181,183,184,190,191,194,195,198,199,204,205,206,207,219,220,221,223,225,227,249,250,254,255,256,261,263,264,278,284,285,302,373,374,375,376,378,380,381,382) have mixed types. Specify dtype option on import or set low_memory=False.\n",
      "  playlist2 = pd.read_csv('playlist_2.csv')\n"
     ]
    }
   ],
   "source": [
    "playlist1 = pd.read_csv('playlist_1.csv')\n",
    "playlist2 = pd.read_csv('playlist_2.csv')\n",
    "players   = pd.read_csv('playerlist.csv')\n",
    "teams     = pd.read_csv('teamlist.csv')"
   ]
  },
  {
   "cell_type": "code",
   "execution_count": 78,
   "id": "93637690",
   "metadata": {},
   "outputs": [],
   "source": [
    "#pull the two playlist CSVs into one object, then concatenate into a dataframe named DFPL (DataFrame Playlist)\n",
    "#then drop the index column\n",
    "\n",
    "\n",
    "playlist = [playlist1, playlist2]\n",
    "DFPL = pd.concat(playlist)\n",
    "DFPL = DFPL.drop(DFPL.columns[[0]], axis=1)"
   ]
  },
  {
   "cell_type": "code",
   "execution_count": 79,
   "id": "b66fdd42",
   "metadata": {},
   "outputs": [
    {
     "data": {
      "text/plain": [
       "(49631, 384)"
      ]
     },
     "execution_count": 79,
     "metadata": {},
     "output_type": "execute_result"
    }
   ],
   "source": [
    "#We are looking for 49,631 x 384\n",
    "DFPL.shape"
   ]
  },
  {
   "cell_type": "code",
   "execution_count": 80,
   "id": "4a08bbbf",
   "metadata": {},
   "outputs": [
    {
     "data": {
      "text/plain": [
       "(19305, 384)"
      ]
     },
     "execution_count": 80,
     "metadata": {},
     "output_type": "execute_result"
    }
   ],
   "source": [
    "DFqb = DFPL[DFPL[\"season_type\"] == \"REG\"]\n",
    "DFqb = DFqb[DFqb[\"two_point_attempt\"] == False]\n",
    "DFqb = DFqb[DFqb[\"play_type\"] == \"pass\"]\n",
    "DFqb.shape #19305, 384"
   ]
  },
  {
   "cell_type": "code",
   "execution_count": 81,
   "id": "99f6793c",
   "metadata": {},
   "outputs": [
    {
     "data": {
      "text/plain": [
       "array(['Joe Flacco', 'Lamar Jackson', 'Josh Allen', 'Matthew Stafford',\n",
       "       'Baker Mayfield', 'Jacoby Brissett', 'Geno Smith',\n",
       "       'Russell Wilson', 'Kirk Cousins', 'Aaron Rodgers', 'Jordan Love',\n",
       "       'Matt Ryan', 'Davis Mills', 'Trevor Lawrence', 'Carson Wentz',\n",
       "       'Patrick Mahomes', 'Kyler Murray', 'Trace McSorley',\n",
       "       'Justin Herbert', 'Derek Carr', 'Davante Adams', 'Mac Jones',\n",
       "       'Tua Tagovailoa', 'Marcus Mariota', 'Jameis Winston',\n",
       "       'Ryan Tannehill', 'Daniel Jones', 'Jared Goff', 'Jalen Hurts',\n",
       "       'Mitchell Trubisky', 'Joe Burrow', 'Justin Fields', 'Trey Lance',\n",
       "       'Dak Prescott', 'Tom Brady', 'Cooper Rush', 'Braden Mann',\n",
       "       'Jimmy Garoppolo', 'DeeJay Dallas', 'Malik Willis', 'Case Keenum',\n",
       "       'Teddy Bridgewater', 'Tommy Townsend', 'Mack Hollins',\n",
       "       'Tyrod Taylor', 'Tyler Boyd', 'Andy Dalton', 'Ryan Wright',\n",
       "       'Brian Hoyer', 'Bailey Zappe', 'Zach Wilson', 'Braxton Berrios',\n",
       "       'Kenny Pickett', 'Jack Fox', 'Justin Jefferson', 'Riley Dixon',\n",
       "       'Cooper Kupp', 'Skylar Thompson', 'Taysom Hill', 'Phillip Walker',\n",
       "       'Taylor Heinicke', 'Chad Henne', 'Brock Purdy', 'Christian Kirk',\n",
       "       'Brett Rypien', 'Trevor Siemian', 'Amari Cooper',\n",
       "       'Jarrett Stidham', 'Najee Harris', 'Chase Claypool',\n",
       "       'Gardner Minshew', 'Christian McCaffrey', 'Rex Burkhead',\n",
       "       'Sam Ehlinger', 'Brandon Allen', 'Nick Mullens', 'John Wolford',\n",
       "       'Colt McCoy', 'Bryce Perkins', 'Cedrick Wilson', 'Chase Daniel',\n",
       "       'Leonard Fournette', 'Derrick Henry', 'Mike White', 'Sam Darnold',\n",
       "       'Kyle Allen', 'Deshaun Watson', 'Tyler Huntley', 'James Proche',\n",
       "       'C.J. Beathard', 'Garrett Wilson', 'Anthony Brown',\n",
       "       \"Ja'Marr Chase\", 'Jeff Driskel', 'Dalvin Cook', 'Josh Johnson',\n",
       "       'Desmond Ridder', 'Phillip Dorsett', 'Nathan Peterman',\n",
       "       'Chris Streveler', 'Nick Foles', 'Andy Lee', 'David Blough',\n",
       "       'Nate Sudfeld', 'Joshua Dobbs', 'Sam Howell', 'Tim Boyle',\n",
       "       'Davis Webb', 'Jamie Gillan', 'Lawrence Cager', 'Blaine Gabbert',\n",
       "       'Kyle Trask'], dtype=object)"
      ]
     },
     "execution_count": 81,
     "metadata": {},
     "output_type": "execute_result"
    }
   ],
   "source": [
    "DFqb = DFqb.merge(players[[\"player_id\", \"player_name\"]], \n",
    "                            left_on=\"passer_player_id\", right_on=\"player_id\")\n",
    "\n",
    "DFqb[\"player_name\"].unique() #shows all the people who were the passer on a play in 2022"
   ]
  },
  {
   "cell_type": "code",
   "execution_count": 85,
   "id": "af229b62",
   "metadata": {},
   "outputs": [
    {
     "data": {
      "text/plain": [
       "0       -15\n",
       "1       -15\n",
       "2       -15\n",
       "3       -15\n",
       "4       -15\n",
       "         ..\n",
       "19295    13\n",
       "19296    13\n",
       "19297    13\n",
       "19298    13\n",
       "19299    13\n",
       "Name: result, Length: 19300, dtype: int64"
      ]
     },
     "execution_count": 85,
     "metadata": {},
     "output_type": "execute_result"
    }
   ],
   "source": [
    "DFqb = DFqb.merge(teams[[\"team_abbr\", \"team_color\"]],\n",
    "                                   left_on=\"posteam\", right_on=\"team_abbr\")\n",
    "\n",
    "df_agg = (DFqb.groupby([\"player_name\", \"team_abbr\", \"team_color\", \"week\"], as_index=False)\n",
    "         .agg({\"passing_yards\": \"sum\", \"pass_touchdown\": \"sum\"})\n",
    "         )\n",
    "#This is good for now, but to calculate \"Passer Rating\" we need Completions, Attempts, and Interceptions as well\n",
    "#we also need to know the outcomes of games, which isn't actually available in this data set focused on play data\n",
    "\n",
    "\n",
    "#df_agg[df_agg[\"player_name\"] == \"Josh Allen\"]\n",
    "#df_agg\n",
    "#DFqb['result'].unique()"
   ]
  },
  {
   "cell_type": "code",
   "execution_count": 146,
   "id": "3b2beec5",
   "metadata": {},
   "outputs": [],
   "source": [
    "dfPR = (DFqb.groupby([\"player_name\", \"team_abbr\", \"team_color\", \"week\"], as_index=False)\n",
    "         .agg({\"passing_yards\": \"sum\", \"pass_touchdown\": \"sum\", \"interception\": \"sum\", \n",
    "               \"pass_attempt\": \"sum\", \"complete_pass\": \"sum\"})\n",
    "         )"
   ]
  },
  {
   "cell_type": "code",
   "execution_count": 147,
   "id": "dc46af4d",
   "metadata": {},
   "outputs": [
    {
     "data": {
      "text/html": [
       "<div>\n",
       "<style scoped>\n",
       "    .dataframe tbody tr th:only-of-type {\n",
       "        vertical-align: middle;\n",
       "    }\n",
       "\n",
       "    .dataframe tbody tr th {\n",
       "        vertical-align: top;\n",
       "    }\n",
       "\n",
       "    .dataframe thead th {\n",
       "        text-align: right;\n",
       "    }\n",
       "</style>\n",
       "<table border=\"1\" class=\"dataframe\">\n",
       "  <thead>\n",
       "    <tr style=\"text-align: right;\">\n",
       "      <th></th>\n",
       "      <th>player_name</th>\n",
       "      <th>team_abbr</th>\n",
       "      <th>team_color</th>\n",
       "      <th>week</th>\n",
       "      <th>passing_yards</th>\n",
       "      <th>pass_touchdown</th>\n",
       "      <th>interception</th>\n",
       "      <th>pass_attempt</th>\n",
       "      <th>complete_pass</th>\n",
       "    </tr>\n",
       "  </thead>\n",
       "  <tbody>\n",
       "    <tr>\n",
       "      <th>39</th>\n",
       "      <td>Baker Mayfield</td>\n",
       "      <td>CAR</td>\n",
       "      <td>#0085CA</td>\n",
       "      <td>1</td>\n",
       "      <td>235.0</td>\n",
       "      <td>1.0</td>\n",
       "      <td>1.0</td>\n",
       "      <td>31.0</td>\n",
       "      <td>16.0</td>\n",
       "    </tr>\n",
       "    <tr>\n",
       "      <th>40</th>\n",
       "      <td>Baker Mayfield</td>\n",
       "      <td>CAR</td>\n",
       "      <td>#0085CA</td>\n",
       "      <td>2</td>\n",
       "      <td>145.0</td>\n",
       "      <td>1.0</td>\n",
       "      <td>0.0</td>\n",
       "      <td>31.0</td>\n",
       "      <td>14.0</td>\n",
       "    </tr>\n",
       "    <tr>\n",
       "      <th>41</th>\n",
       "      <td>Baker Mayfield</td>\n",
       "      <td>CAR</td>\n",
       "      <td>#0085CA</td>\n",
       "      <td>3</td>\n",
       "      <td>170.0</td>\n",
       "      <td>1.0</td>\n",
       "      <td>0.0</td>\n",
       "      <td>28.0</td>\n",
       "      <td>12.0</td>\n",
       "    </tr>\n",
       "    <tr>\n",
       "      <th>42</th>\n",
       "      <td>Baker Mayfield</td>\n",
       "      <td>CAR</td>\n",
       "      <td>#0085CA</td>\n",
       "      <td>4</td>\n",
       "      <td>197.0</td>\n",
       "      <td>1.0</td>\n",
       "      <td>2.0</td>\n",
       "      <td>38.0</td>\n",
       "      <td>22.0</td>\n",
       "    </tr>\n",
       "    <tr>\n",
       "      <th>43</th>\n",
       "      <td>Baker Mayfield</td>\n",
       "      <td>CAR</td>\n",
       "      <td>#0085CA</td>\n",
       "      <td>5</td>\n",
       "      <td>215.0</td>\n",
       "      <td>0.0</td>\n",
       "      <td>1.0</td>\n",
       "      <td>40.0</td>\n",
       "      <td>20.0</td>\n",
       "    </tr>\n",
       "    <tr>\n",
       "      <th>44</th>\n",
       "      <td>Baker Mayfield</td>\n",
       "      <td>CAR</td>\n",
       "      <td>#0085CA</td>\n",
       "      <td>9</td>\n",
       "      <td>155.0</td>\n",
       "      <td>2.0</td>\n",
       "      <td>0.0</td>\n",
       "      <td>20.0</td>\n",
       "      <td>14.0</td>\n",
       "    </tr>\n",
       "    <tr>\n",
       "      <th>45</th>\n",
       "      <td>Baker Mayfield</td>\n",
       "      <td>CAR</td>\n",
       "      <td>#0085CA</td>\n",
       "      <td>11</td>\n",
       "      <td>196.0</td>\n",
       "      <td>0.0</td>\n",
       "      <td>2.0</td>\n",
       "      <td>37.0</td>\n",
       "      <td>21.0</td>\n",
       "    </tr>\n",
       "    <tr>\n",
       "      <th>46</th>\n",
       "      <td>Baker Mayfield</td>\n",
       "      <td>LA</td>\n",
       "      <td>#003594</td>\n",
       "      <td>14</td>\n",
       "      <td>230.0</td>\n",
       "      <td>1.0</td>\n",
       "      <td>0.0</td>\n",
       "      <td>38.0</td>\n",
       "      <td>22.0</td>\n",
       "    </tr>\n",
       "    <tr>\n",
       "      <th>47</th>\n",
       "      <td>Baker Mayfield</td>\n",
       "      <td>LA</td>\n",
       "      <td>#003594</td>\n",
       "      <td>15</td>\n",
       "      <td>111.0</td>\n",
       "      <td>1.0</td>\n",
       "      <td>1.0</td>\n",
       "      <td>26.0</td>\n",
       "      <td>12.0</td>\n",
       "    </tr>\n",
       "    <tr>\n",
       "      <th>48</th>\n",
       "      <td>Baker Mayfield</td>\n",
       "      <td>LA</td>\n",
       "      <td>#003594</td>\n",
       "      <td>16</td>\n",
       "      <td>230.0</td>\n",
       "      <td>2.0</td>\n",
       "      <td>0.0</td>\n",
       "      <td>28.0</td>\n",
       "      <td>24.0</td>\n",
       "    </tr>\n",
       "    <tr>\n",
       "      <th>49</th>\n",
       "      <td>Baker Mayfield</td>\n",
       "      <td>LA</td>\n",
       "      <td>#003594</td>\n",
       "      <td>17</td>\n",
       "      <td>132.0</td>\n",
       "      <td>0.0</td>\n",
       "      <td>0.0</td>\n",
       "      <td>22.0</td>\n",
       "      <td>11.0</td>\n",
       "    </tr>\n",
       "    <tr>\n",
       "      <th>50</th>\n",
       "      <td>Baker Mayfield</td>\n",
       "      <td>LA</td>\n",
       "      <td>#003594</td>\n",
       "      <td>18</td>\n",
       "      <td>147.0</td>\n",
       "      <td>0.0</td>\n",
       "      <td>1.0</td>\n",
       "      <td>31.0</td>\n",
       "      <td>13.0</td>\n",
       "    </tr>\n",
       "  </tbody>\n",
       "</table>\n",
       "</div>"
      ],
      "text/plain": [
       "       player_name team_abbr team_color  week  passing_yards  pass_touchdown  \\\n",
       "39  Baker Mayfield       CAR    #0085CA     1          235.0             1.0   \n",
       "40  Baker Mayfield       CAR    #0085CA     2          145.0             1.0   \n",
       "41  Baker Mayfield       CAR    #0085CA     3          170.0             1.0   \n",
       "42  Baker Mayfield       CAR    #0085CA     4          197.0             1.0   \n",
       "43  Baker Mayfield       CAR    #0085CA     5          215.0             0.0   \n",
       "44  Baker Mayfield       CAR    #0085CA     9          155.0             2.0   \n",
       "45  Baker Mayfield       CAR    #0085CA    11          196.0             0.0   \n",
       "46  Baker Mayfield        LA    #003594    14          230.0             1.0   \n",
       "47  Baker Mayfield        LA    #003594    15          111.0             1.0   \n",
       "48  Baker Mayfield        LA    #003594    16          230.0             2.0   \n",
       "49  Baker Mayfield        LA    #003594    17          132.0             0.0   \n",
       "50  Baker Mayfield        LA    #003594    18          147.0             0.0   \n",
       "\n",
       "    interception  pass_attempt  complete_pass  \n",
       "39           1.0          31.0           16.0  \n",
       "40           0.0          31.0           14.0  \n",
       "41           0.0          28.0           12.0  \n",
       "42           2.0          38.0           22.0  \n",
       "43           1.0          40.0           20.0  \n",
       "44           0.0          20.0           14.0  \n",
       "45           2.0          37.0           21.0  \n",
       "46           0.0          38.0           22.0  \n",
       "47           1.0          26.0           12.0  \n",
       "48           0.0          28.0           24.0  \n",
       "49           0.0          22.0           11.0  \n",
       "50           1.0          31.0           13.0  "
      ]
     },
     "execution_count": 147,
     "metadata": {},
     "output_type": "execute_result"
    }
   ],
   "source": [
    "#dfPR[dfPR[\"player_name\"] == \"Baker Mayfield\"]"
   ]
  },
  {
   "cell_type": "code",
   "execution_count": null,
   "id": "c2996435",
   "metadata": {},
   "outputs": [],
   "source": [
    "#This has everything we need for Passer Rating. Now we'll make a function to take the relevant info per week\n",
    "#and calculate the Passer Rating and store that value in the aptly named passer_rating attribute\n",
    "\n",
    "#The Passer Rating formula is ((a+b+c+d)/6)*100\n",
    "#The values of a through d are demonstrated in the calculatePasserRating function below"
   ]
  },
  {
   "cell_type": "code",
   "execution_count": 111,
   "id": "93e44929",
   "metadata": {},
   "outputs": [],
   "source": [
    "#Part of the formula is that if any value a through d is less than 0, it is set to 0\n",
    "#and if it is above 2.375, it is set to 2.375\n",
    "#This makes the worst possible Passer Rating 0, and best possible 158.3\n",
    "\n",
    "def prHelper(value):\n",
    "    if value < 0:\n",
    "        value = 0\n",
    "    if value > 2.375:\n",
    "        value = 2.375\n",
    "    return value"
   ]
  },
  {
   "cell_type": "code",
   "execution_count": 133,
   "id": "b65763e4",
   "metadata": {},
   "outputs": [],
   "source": [
    "def calculatePasserRating(df):\n",
    "    passerRating = []\n",
    "    #or index, row in df.iterrows():\n",
    "    for index, qb in df.iterrows():\n",
    "        completions = qb[\"complete_pass\"]\n",
    "        attempts    = qb[\"pass_attempt\"]\n",
    "        touchdowns  = qb[\"pass_touchdown\"]\n",
    "        yards       = qb[\"passing_yards\"]\n",
    "        ints        = qb[\"interception\"]\n",
    "        \n",
    "        #I don't know why passer rating is calculated as follows, I did not make this formula\n",
    "        #....I'm just implementing it\n",
    "        \n",
    "        a = ((completions/attempts) - .3) * 5\n",
    "        b = ((yards/attempts) - 3) * .25\n",
    "        c = (touchdowns/attempts) * 20\n",
    "        d = 2.375 - ((ints/attempts) * 25)\n",
    "        \n",
    "        a = prHelper(a)\n",
    "        b = prHelper(b)\n",
    "        c = prHelper(c)\n",
    "        d = prHelper(d)\n",
    "             \n",
    "        pr = ((a+b+c+d)/6) * 100\n",
    "        \n",
    "        #update: rounding number to tenths\n",
    "        pr = round(pr, 1)\n",
    "             \n",
    "        passerRating.append(pr)\n",
    "             \n",
    "    return passerRating\n",
    "        "
   ]
  },
  {
   "cell_type": "code",
   "execution_count": 134,
   "id": "d9e4901d",
   "metadata": {},
   "outputs": [
    {
     "data": {
      "text/plain": [
       "662"
      ]
     },
     "execution_count": 134,
     "metadata": {},
     "output_type": "execute_result"
    }
   ],
   "source": [
    "#Now that the function is built we can create a list to store the values, then we will declare that list as a column\n",
    "prList = calculatePasserRating(dfPR)\n",
    "len(prList) #after we make sure that the length of the list equals the height of the dataframe (662)"
   ]
  },
  {
   "cell_type": "code",
   "execution_count": 153,
   "id": "3cd80298",
   "metadata": {},
   "outputs": [],
   "source": [
    "dfPR[\"passer_rating\"] = prList"
   ]
  },
  {
   "cell_type": "code",
   "execution_count": 154,
   "id": "dcc15372",
   "metadata": {},
   "outputs": [
    {
     "data": {
      "text/html": [
       "<div>\n",
       "<style scoped>\n",
       "    .dataframe tbody tr th:only-of-type {\n",
       "        vertical-align: middle;\n",
       "    }\n",
       "\n",
       "    .dataframe tbody tr th {\n",
       "        vertical-align: top;\n",
       "    }\n",
       "\n",
       "    .dataframe thead th {\n",
       "        text-align: right;\n",
       "    }\n",
       "</style>\n",
       "<table border=\"1\" class=\"dataframe\">\n",
       "  <thead>\n",
       "    <tr style=\"text-align: right;\">\n",
       "      <th></th>\n",
       "      <th>player_name</th>\n",
       "      <th>team_abbr</th>\n",
       "      <th>team_color</th>\n",
       "      <th>week</th>\n",
       "      <th>passing_yards</th>\n",
       "      <th>pass_touchdown</th>\n",
       "      <th>interception</th>\n",
       "      <th>pass_attempt</th>\n",
       "      <th>complete_pass</th>\n",
       "      <th>passer_rating</th>\n",
       "    </tr>\n",
       "  </thead>\n",
       "  <tbody>\n",
       "    <tr>\n",
       "      <th>0</th>\n",
       "      <td>Aaron Rodgers</td>\n",
       "      <td>GB</td>\n",
       "      <td>#203731</td>\n",
       "      <td>1</td>\n",
       "      <td>195.0</td>\n",
       "      <td>0.0</td>\n",
       "      <td>1.0</td>\n",
       "      <td>38.0</td>\n",
       "      <td>22.0</td>\n",
       "      <td>60.7</td>\n",
       "    </tr>\n",
       "    <tr>\n",
       "      <th>1</th>\n",
       "      <td>Aaron Rodgers</td>\n",
       "      <td>GB</td>\n",
       "      <td>#203731</td>\n",
       "      <td>2</td>\n",
       "      <td>234.0</td>\n",
       "      <td>2.0</td>\n",
       "      <td>0.0</td>\n",
       "      <td>28.0</td>\n",
       "      <td>19.0</td>\n",
       "      <td>117.3</td>\n",
       "    </tr>\n",
       "    <tr>\n",
       "      <th>2</th>\n",
       "      <td>Aaron Rodgers</td>\n",
       "      <td>GB</td>\n",
       "      <td>#203731</td>\n",
       "      <td>3</td>\n",
       "      <td>255.0</td>\n",
       "      <td>2.0</td>\n",
       "      <td>1.0</td>\n",
       "      <td>36.0</td>\n",
       "      <td>27.0</td>\n",
       "      <td>101.0</td>\n",
       "    </tr>\n",
       "    <tr>\n",
       "      <th>3</th>\n",
       "      <td>Aaron Rodgers</td>\n",
       "      <td>GB</td>\n",
       "      <td>#203731</td>\n",
       "      <td>4</td>\n",
       "      <td>251.0</td>\n",
       "      <td>2.0</td>\n",
       "      <td>1.0</td>\n",
       "      <td>36.0</td>\n",
       "      <td>21.0</td>\n",
       "      <td>86.7</td>\n",
       "    </tr>\n",
       "    <tr>\n",
       "      <th>4</th>\n",
       "      <td>Aaron Rodgers</td>\n",
       "      <td>GB</td>\n",
       "      <td>#203731</td>\n",
       "      <td>5</td>\n",
       "      <td>222.0</td>\n",
       "      <td>2.0</td>\n",
       "      <td>0.0</td>\n",
       "      <td>41.0</td>\n",
       "      <td>25.0</td>\n",
       "      <td>91.7</td>\n",
       "    </tr>\n",
       "    <tr>\n",
       "      <th>...</th>\n",
       "      <td>...</td>\n",
       "      <td>...</td>\n",
       "      <td>...</td>\n",
       "      <td>...</td>\n",
       "      <td>...</td>\n",
       "      <td>...</td>\n",
       "      <td>...</td>\n",
       "      <td>...</td>\n",
       "      <td>...</td>\n",
       "      <td>...</td>\n",
       "    </tr>\n",
       "    <tr>\n",
       "      <th>657</th>\n",
       "      <td>Zach Wilson</td>\n",
       "      <td>NYJ</td>\n",
       "      <td>#003F2D</td>\n",
       "      <td>8</td>\n",
       "      <td>355.0</td>\n",
       "      <td>2.0</td>\n",
       "      <td>3.0</td>\n",
       "      <td>43.0</td>\n",
       "      <td>20.0</td>\n",
       "      <td>61.7</td>\n",
       "    </tr>\n",
       "    <tr>\n",
       "      <th>658</th>\n",
       "      <td>Zach Wilson</td>\n",
       "      <td>NYJ</td>\n",
       "      <td>#003F2D</td>\n",
       "      <td>9</td>\n",
       "      <td>154.0</td>\n",
       "      <td>1.0</td>\n",
       "      <td>0.0</td>\n",
       "      <td>27.0</td>\n",
       "      <td>18.0</td>\n",
       "      <td>93.8</td>\n",
       "    </tr>\n",
       "    <tr>\n",
       "      <th>659</th>\n",
       "      <td>Zach Wilson</td>\n",
       "      <td>NYJ</td>\n",
       "      <td>#003F2D</td>\n",
       "      <td>11</td>\n",
       "      <td>77.0</td>\n",
       "      <td>0.0</td>\n",
       "      <td>0.0</td>\n",
       "      <td>26.0</td>\n",
       "      <td>9.0</td>\n",
       "      <td>43.4</td>\n",
       "    </tr>\n",
       "    <tr>\n",
       "      <th>660</th>\n",
       "      <td>Zach Wilson</td>\n",
       "      <td>NYJ</td>\n",
       "      <td>#003F2D</td>\n",
       "      <td>15</td>\n",
       "      <td>317.0</td>\n",
       "      <td>2.0</td>\n",
       "      <td>1.0</td>\n",
       "      <td>39.0</td>\n",
       "      <td>18.0</td>\n",
       "      <td>80.8</td>\n",
       "    </tr>\n",
       "    <tr>\n",
       "      <th>661</th>\n",
       "      <td>Zach Wilson</td>\n",
       "      <td>NYJ</td>\n",
       "      <td>#003F2D</td>\n",
       "      <td>16</td>\n",
       "      <td>92.0</td>\n",
       "      <td>0.0</td>\n",
       "      <td>1.0</td>\n",
       "      <td>21.0</td>\n",
       "      <td>9.0</td>\n",
       "      <td>36.2</td>\n",
       "    </tr>\n",
       "  </tbody>\n",
       "</table>\n",
       "<p>662 rows × 10 columns</p>\n",
       "</div>"
      ],
      "text/plain": [
       "       player_name team_abbr team_color  week  passing_yards  pass_touchdown  \\\n",
       "0    Aaron Rodgers        GB    #203731     1          195.0             0.0   \n",
       "1    Aaron Rodgers        GB    #203731     2          234.0             2.0   \n",
       "2    Aaron Rodgers        GB    #203731     3          255.0             2.0   \n",
       "3    Aaron Rodgers        GB    #203731     4          251.0             2.0   \n",
       "4    Aaron Rodgers        GB    #203731     5          222.0             2.0   \n",
       "..             ...       ...        ...   ...            ...             ...   \n",
       "657    Zach Wilson       NYJ    #003F2D     8          355.0             2.0   \n",
       "658    Zach Wilson       NYJ    #003F2D     9          154.0             1.0   \n",
       "659    Zach Wilson       NYJ    #003F2D    11           77.0             0.0   \n",
       "660    Zach Wilson       NYJ    #003F2D    15          317.0             2.0   \n",
       "661    Zach Wilson       NYJ    #003F2D    16           92.0             0.0   \n",
       "\n",
       "     interception  pass_attempt  complete_pass  passer_rating  \n",
       "0             1.0          38.0           22.0           60.7  \n",
       "1             0.0          28.0           19.0          117.3  \n",
       "2             1.0          36.0           27.0          101.0  \n",
       "3             1.0          36.0           21.0           86.7  \n",
       "4             0.0          41.0           25.0           91.7  \n",
       "..            ...           ...            ...            ...  \n",
       "657           3.0          43.0           20.0           61.7  \n",
       "658           0.0          27.0           18.0           93.8  \n",
       "659           0.0          26.0            9.0           43.4  \n",
       "660           1.0          39.0           18.0           80.8  \n",
       "661           1.0          21.0            9.0           36.2  \n",
       "\n",
       "[662 rows x 10 columns]"
      ]
     },
     "execution_count": 154,
     "metadata": {},
     "output_type": "execute_result"
    }
   ],
   "source": [
    "dfPR"
   ]
  },
  {
   "cell_type": "code",
   "execution_count": null,
   "id": "8a972398",
   "metadata": {},
   "outputs": [],
   "source": [
    "#Glorious calculations! We can feel confident in our numbers because Zach Wilson is terrible\n",
    "#and our data reflects this. We can clean it up a little by rounding to the tenths place\n",
    "#So I'll go back to the calculatePasserRating function and do that now"
   ]
  },
  {
   "cell_type": "code",
   "execution_count": null,
   "id": "cbcdf0b1",
   "metadata": {},
   "outputs": [],
   "source": [
    "#Now lets see what everyones Passer Rating per week looked like, and if its messy we can view them one at a time"
   ]
  },
  {
   "cell_type": "code",
   "execution_count": 155,
   "id": "f30c2397",
   "metadata": {},
   "outputs": [],
   "source": [
    "def passerRatingPerWeek(df):\n",
    "    fig = go.Figure()\n",
    "\n",
    "    for name, values in df.groupby(\"player_name\"):\n",
    "        if values[\"passing_yards\"].sum() > 1000:\n",
    "            fig.add_trace(\n",
    "                go.Scatter(\n",
    "                    x=values[\"week\"],\n",
    "                    #y=values[\"passing_yards\"].cumsum(),\n",
    "                    y=values[\"passer_rating\"],\n",
    "                    name=name,\n",
    "                    mode=\"markers+lines\",\n",
    "                    line_color=values.iloc[0].team_color,\n",
    "                    hovertemplate=f\"<b>{name}</b><br>%{{y}} Passer Rating on week %{{x}}<extra></extra>\"\n",
    "                )\n",
    "            )\n",
    "\n",
    "        \n",
    "    fig.update_layout(\n",
    "        font_family=\"Averta, sans-serif\",\n",
    "        hoverlabel_font_family=\"Averta, sans-serif\",\n",
    "        xaxis_title_text=\"Week\",\n",
    "        xaxis_title_font_size=18,\n",
    "        xaxis_tickfont_size=16,\n",
    "        yaxis_title_text=\"Passer Rating\",\n",
    "        yaxis_title_font_size=18,\n",
    "        yaxis_tickfont_size=16,\n",
    "        hoverlabel_font_size=16,\n",
    "        legend_font_size=16,\n",
    "        height=1000,\n",
    "        width=1000\n",
    "    )\n",
    "\n",
    "    fig.show()"
   ]
  },
  {
   "cell_type": "code",
   "execution_count": 156,
   "id": "a98fb68b",
   "metadata": {},
   "outputs": [
    {
     "data": {
      "application/vnd.plotly.v1+json": {
       "config": {
        "plotlyServerURL": "https://plot.ly"
       },
       "data": [
        {
         "hovertemplate": "<b>Aaron Rodgers</b><br>%{y} Passer Rating on week %{x}<extra></extra>",
         "line": {
          "color": "#203731"
         },
         "mode": "markers+lines",
         "name": "Aaron Rodgers",
         "type": "scatter",
         "x": [
          1,
          2,
          3,
          4,
          5,
          6,
          7,
          8,
          9,
          10,
          11,
          12,
          13,
          15,
          16,
          17,
          18
         ],
         "y": [
          60.7,
          117.3,
          101,
          86.7,
          91.7,
          80.4,
          101.8,
          85.8,
          52.4,
          137.1,
          92.4,
          76.5,
          85.7,
          84,
          74.8,
          95.7,
          77.5
         ]
        },
        {
         "hovertemplate": "<b>Andy Dalton</b><br>%{y} Passer Rating on week %{x}<extra></extra>",
         "line": {
          "color": "#D3BC8D"
         },
         "mode": "markers+lines",
         "name": "Andy Dalton",
         "type": "scatter",
         "x": [
          4,
          5,
          6,
          7,
          8,
          9,
          10,
          11,
          12,
          13,
          15,
          16,
          17,
          18
         ],
         "y": [
          101.5,
          83.2,
          75.6,
          89.1,
          117.2,
          74.1,
          58.7,
          139,
          80.4,
          100.6,
          118.5,
          44.3,
          71.3,
          90.4
         ]
        },
        {
         "hovertemplate": "<b>Baker Mayfield</b><br>%{y} Passer Rating on week %{x}<extra></extra>",
         "line": {
          "color": "#0085CA"
         },
         "mode": "markers+lines",
         "name": "Baker Mayfield",
         "type": "scatter",
         "x": [
          1,
          2,
          3,
          4,
          5,
          9,
          11,
          14,
          15,
          16,
          17,
          18
         ],
         "y": [
          74,
          70,
          75,
          58.8,
          55.7,
          126,
          48.9,
          84.3,
          55.1,
          124.7,
          68.8,
          43.3
         ]
        },
        {
         "hovertemplate": "<b>Brock Purdy</b><br>%{y} Passer Rating on week %{x}<extra></extra>",
         "line": {
          "color": "#AA0000"
         },
         "mode": "markers+lines",
         "name": "Brock Purdy",
         "type": "scatter",
         "x": [
          7,
          13,
          14,
          15,
          16,
          17,
          18
         ],
         "y": [
          30.1,
          82.3,
          134,
          112.7,
          101.1,
          95.4,
          124.7
         ]
        },
        {
         "hovertemplate": "<b>Carson Wentz</b><br>%{y} Passer Rating on week %{x}<extra></extra>",
         "line": {
          "color": "#5A1414"
         },
         "mode": "markers+lines",
         "name": "Carson Wentz",
         "type": "scatter",
         "x": [
          1,
          2,
          3,
          4,
          5,
          6,
          16,
          17
         ],
         "y": [
          98.6,
          90.1,
          59.1,
          54.2,
          95.5,
          58.6,
          117.4,
          24.7
         ]
        },
        {
         "hovertemplate": "<b>Cooper Rush</b><br>%{y} Passer Rating on week %{x}<extra></extra>",
         "line": {
          "color": "#002244"
         },
         "mode": "markers+lines",
         "name": "Cooper Rush",
         "type": "scatter",
         "x": [
          1,
          2,
          3,
          4,
          5,
          6,
          11,
          18
         ],
         "y": [
          58.8,
          95.5,
          98.2,
          103.7,
          68.3,
          37.3,
          92.5,
          39.6
         ]
        },
        {
         "hovertemplate": "<b>Dak Prescott</b><br>%{y} Passer Rating on week %{x}<extra></extra>",
         "line": {
          "color": "#002244"
         },
         "mode": "markers+lines",
         "name": "Dak Prescott",
         "type": "scatter",
         "x": [
          1,
          7,
          8,
          10,
          11,
          12,
          13,
          14,
          15,
          16,
          17,
          18
         ],
         "y": [
          44.3,
          105,
          110.7,
          75.4,
          139.3,
          91.1,
          97.5,
          69.2,
          97.5,
          106.5,
          83.6,
          44.6
         ]
        },
        {
         "hovertemplate": "<b>Daniel Jones</b><br>%{y} Passer Rating on week %{x}<extra></extra>",
         "line": {
          "color": "#0B2265"
         },
         "mode": "markers+lines",
         "name": "Daniel Jones",
         "type": "scatter",
         "x": [
          1,
          2,
          3,
          4,
          5,
          6,
          7,
          8,
          10,
          11,
          12,
          13,
          14,
          15,
          16,
          17
         ],
         "y": [
          96.3,
          80.5,
          51.3,
          70.8,
          96.9,
          97.9,
          91.1,
          61.8,
          130.6,
          71,
          88.8,
          100.6,
          83.9,
          77.6,
          86.7,
          125.2
         ]
        },
        {
         "hovertemplate": "<b>Davis Mills</b><br>%{y} Passer Rating on week %{x}<extra></extra>",
         "line": {
          "color": "#03202F"
         },
         "mode": "markers+lines",
         "name": "Davis Mills",
         "type": "scatter",
         "x": [
          1,
          2,
          3,
          4,
          5,
          7,
          8,
          9,
          10,
          11,
          14,
          15,
          16,
          17,
          18
         ],
         "y": [
          91.7,
          58.7,
          68.4,
          79.6,
          78.8,
          93.6,
          63.5,
          64.4,
          77.2,
          40.4,
          82.3,
          92.5,
          73.6,
          67.3,
          85.2
         ]
        },
        {
         "hovertemplate": "<b>Derek Carr</b><br>%{y} Passer Rating on week %{x}<extra></extra>",
         "line": {
          "color": "#000000"
         },
         "mode": "markers+lines",
         "name": "Derek Carr",
         "type": "scatter",
         "x": [
          1,
          2,
          3,
          4,
          5,
          7,
          8,
          9,
          10,
          11,
          12,
          13,
          14,
          15,
          16
         ],
         "y": [
          61.1,
          97.1,
          83.8,
          72.5,
          103.8,
          112.4,
          45.3,
          94.1,
          94.6,
          103.7,
          96.1,
          89.6,
          36.9,
          80.4,
          36.7
         ]
        },
        {
         "hovertemplate": "<b>Deshaun Watson</b><br>%{y} Passer Rating on week %{x}<extra></extra>",
         "line": {
          "color": "#FF3C00"
         },
         "mode": "markers+lines",
         "name": "Deshaun Watson",
         "type": "scatter",
         "x": [
          13,
          14,
          15,
          16,
          17,
          18
         ],
         "y": [
          51.2,
          77.3,
          82.9,
          44.4,
          104.9,
          69.9
         ]
        },
        {
         "hovertemplate": "<b>Geno Smith</b><br>%{y} Passer Rating on week %{x}<extra></extra>",
         "line": {
          "color": "#002244"
         },
         "mode": "markers+lines",
         "name": "Geno Smith",
         "type": "scatter",
         "x": [
          1,
          2,
          3,
          4,
          5,
          6,
          7,
          8,
          9,
          10,
          12,
          13,
          14,
          15,
          16,
          17,
          18
         ],
         "y": [
          115.3,
          77.2,
          94.9,
          132.6,
          125.3,
          71.2,
          98.3,
          95.8,
          101,
          105.7,
          98.8,
          105.5,
          79.4,
          85.2,
          71,
          90.8,
          61.8
         ]
        },
        {
         "hovertemplate": "<b>Jacoby Brissett</b><br>%{y} Passer Rating on week %{x}<extra></extra>",
         "line": {
          "color": "#FF3C00"
         },
         "mode": "markers+lines",
         "name": "Jacoby Brissett",
         "type": "scatter",
         "x": [
          1,
          2,
          3,
          4,
          5,
          6,
          7,
          8,
          10,
          11,
          12,
          14
         ],
         "y": [
          76.2,
          97.8,
          103.1,
          66.2,
          79.3,
          50.2,
          93,
          128.5,
          82.3,
          113.6,
          68.1,
          39.6
         ]
        },
        {
         "hovertemplate": "<b>Jalen Hurts</b><br>%{y} Passer Rating on week %{x}<extra></extra>",
         "line": {
          "color": "#004C54"
         },
         "mode": "markers+lines",
         "name": "Jalen Hurts",
         "type": "scatter",
         "x": [
          1,
          2,
          3,
          4,
          5,
          6,
          8,
          9,
          10,
          11,
          12,
          13,
          14,
          15,
          18
         ],
         "y": [
          78.2,
          104.2,
          113.9,
          67.5,
          85.3,
          90.4,
          131,
          112.7,
          90.8,
          95.8,
          90,
          124,
          97,
          62.9,
          60.1
         ]
        },
        {
         "hovertemplate": "<b>Jared Goff</b><br>%{y} Passer Rating on week %{x}<extra></extra>",
         "line": {
          "color": "#0076B6"
         },
         "mode": "markers+lines",
         "name": "Jared Goff",
         "type": "scatter",
         "x": [
          1,
          2,
          3,
          4,
          5,
          7,
          8,
          9,
          10,
          11,
          12,
          13,
          14,
          15,
          16,
          17,
          18
         ],
         "y": [
          78.3,
          112,
          80.9,
          118.5,
          59.4,
          62.3,
          105.3,
          78.5,
          105.7,
          83,
          94,
          110.6,
          120.7,
          88.9,
          105.8,
          129.2,
          83.5
         ]
        },
        {
         "hovertemplate": "<b>Jimmy Garoppolo</b><br>%{y} Passer Rating on week %{x}<extra></extra>",
         "line": {
          "color": "#AA0000"
         },
         "mode": "markers+lines",
         "name": "Jimmy Garoppolo",
         "type": "scatter",
         "x": [
          2,
          3,
          4,
          5,
          6,
          7,
          8,
          10,
          11,
          12,
          13
         ],
         "y": [
          95.6,
          71.7,
          100.7,
          102.7,
          87,
          87.7,
          123.4,
          91.2,
          131.9,
          92.2,
          82.1
         ]
        },
        {
         "hovertemplate": "<b>Joe Burrow</b><br>%{y} Passer Rating on week %{x}<extra></extra>",
         "line": {
          "color": "#FB4F14"
         },
         "mode": "markers+lines",
         "name": "Joe Burrow",
         "type": "scatter",
         "x": [
          1,
          2,
          3,
          4,
          5,
          6,
          7,
          8,
          9,
          11,
          12,
          13,
          14,
          15,
          16,
          18
         ],
         "y": [
          54.7,
          77.4,
          109,
          112.4,
          78.3,
          116.7,
          131.8,
          84.6,
          106.4,
          99.1,
          88.7,
          124.7,
          82.8,
          102.1,
          95.8,
          77.4
         ]
        },
        {
         "hovertemplate": "<b>Joe Flacco</b><br>%{y} Passer Rating on week %{x}<extra></extra>",
         "line": {
          "color": "#003F2D"
         },
         "mode": "markers+lines",
         "name": "Joe Flacco",
         "type": "scatter",
         "x": [
          1,
          2,
          3,
          14,
          18
         ],
         "y": [
          71.2,
          106,
          50.1,
          39.6,
          66.4
         ]
        },
        {
         "hovertemplate": "<b>Josh Allen</b><br>%{y} Passer Rating on week %{x}<extra></extra>",
         "line": {
          "color": "#00338D"
         },
         "mode": "markers+lines",
         "name": "Josh Allen",
         "type": "scatter",
         "x": [
          1,
          2,
          3,
          4,
          5,
          6,
          8,
          9,
          10,
          11,
          12,
          13,
          14,
          15,
          16,
          18
         ],
         "y": [
          109.2,
          125.7,
          90.5,
          66.6,
          134.1,
          114.8,
          69.7,
          41.1,
          75.2,
          93.6,
          75.5,
          100.1,
          78.1,
          113.6,
          68.8,
          99.8
         ]
        },
        {
         "hovertemplate": "<b>Justin Fields</b><br>%{y} Passer Rating on week %{x}<extra></extra>",
         "line": {
          "color": "#0B162A"
         },
         "mode": "markers+lines",
         "name": "Justin Fields",
         "type": "scatter",
         "x": [
          1,
          2,
          3,
          4,
          5,
          6,
          7,
          8,
          9,
          10,
          11,
          13,
          15,
          16,
          17
         ],
         "y": [
          76.9,
          34.8,
          14.6,
          60.7,
          108.6,
          60.7,
          71.9,
          102.5,
          99.7,
          86.7,
          70.9,
          75.7,
          93.4,
          85.2,
          36.6
         ]
        },
        {
         "hovertemplate": "<b>Justin Herbert</b><br>%{y} Passer Rating on week %{x}<extra></extra>",
         "line": {
          "color": "#007BC7"
         },
         "mode": "markers+lines",
         "name": "Justin Herbert",
         "type": "scatter",
         "x": [
          1,
          2,
          3,
          4,
          5,
          6,
          7,
          9,
          10,
          11,
          12,
          13,
          14,
          15,
          16,
          17,
          18
         ],
         "y": [
          129.4,
          96.6,
          72.5,
          110.4,
          91.1,
          64.1,
          80.2,
          82,
          69.2,
          97.3,
          101.3,
          80.2,
          95,
          67.3,
          75.3,
          119.9,
          104.4
         ]
        },
        {
         "hovertemplate": "<b>Kenny Pickett</b><br>%{y} Passer Rating on week %{x}<extra></extra>",
         "line": {
          "color": "#000000"
         },
         "mode": "markers+lines",
         "name": "Kenny Pickett",
         "type": "scatter",
         "x": [
          4,
          5,
          6,
          7,
          8,
          10,
          11,
          12,
          13,
          14,
          16,
          17,
          18
         ],
         "y": [
          65.1,
          70.8,
          82.6,
          64.8,
          58,
          66.8,
          82.1,
          79.2,
          90.9,
          39.6,
          81.6,
          80.8,
          76.4
         ]
        },
        {
         "hovertemplate": "<b>Kirk Cousins</b><br>%{y} Passer Rating on week %{x}<extra></extra>",
         "line": {
          "color": "#4F2683"
         },
         "mode": "markers+lines",
         "name": "Kirk Cousins",
         "type": "scatter",
         "x": [
          1,
          2,
          3,
          4,
          5,
          6,
          8,
          9,
          10,
          11,
          12,
          13,
          14,
          15,
          16,
          17,
          18
         ],
         "y": [
          115.3,
          49,
          93.5,
          78.6,
          94.7,
          94.9,
          95.2,
          78,
          66.7,
          50,
          114.8,
          77.9,
          116.2,
          88.1,
          101.7,
          45.6,
          130.2
         ]
        },
        {
         "hovertemplate": "<b>Kyler Murray</b><br>%{y} Passer Rating on week %{x}<extra></extra>",
         "line": {
          "color": "#97233F"
         },
         "mode": "markers+lines",
         "name": "Kyler Murray",
         "type": "scatter",
         "x": [
          1,
          2,
          3,
          4,
          5,
          6,
          7,
          8,
          9,
          12,
          14
         ],
         "y": [
          93.9,
          75.2,
          75.3,
          93.9,
          82.4,
          58.5,
          94,
          89.5,
          89.1,
          86.9,
          104.2
         ]
        },
        {
         "hovertemplate": "<b>Lamar Jackson</b><br>%{y} Passer Rating on week %{x}<extra></extra>",
         "line": {
          "color": "#241773"
         },
         "mode": "markers+lines",
         "name": "Lamar Jackson",
         "type": "scatter",
         "x": [
          1,
          2,
          3,
          4,
          5,
          6,
          7,
          8,
          9,
          11,
          12,
          13
         ],
         "y": [
          92.3,
          142.6,
          102,
          59.1,
          69.5,
          67,
          67.9,
          99.8,
          77.6,
          70.3,
          84.7,
          56.2
         ]
        },
        {
         "hovertemplate": "<b>Mac Jones</b><br>%{y} Passer Rating on week %{x}<extra></extra>",
         "line": {
          "color": "#002244"
         },
         "mode": "markers+lines",
         "name": "Mac Jones",
         "type": "scatter",
         "x": [
          1,
          2,
          3,
          7,
          8,
          9,
          11,
          12,
          13,
          14,
          15,
          16,
          17,
          18
         ],
         "y": [
          81.9,
          79.7,
          57,
          16.7,
          68.5,
          78.9,
          91.2,
          114.1,
          82.6,
          73.3,
          52.1,
          97,
          90.5,
          73.5
         ]
        },
        {
         "hovertemplate": "<b>Marcus Mariota</b><br>%{y} Passer Rating on week %{x}<extra></extra>",
         "line": {
          "color": "#A71930"
         },
         "mode": "markers+lines",
         "name": "Marcus Mariota",
         "type": "scatter",
         "x": [
          1,
          2,
          3,
          4,
          5,
          6,
          7,
          8,
          9,
          10,
          11,
          12,
          13
         ],
         "y": [
          82.2,
          73.3,
          87,
          39.4,
          72.5,
          139.8,
          96.9,
          98.3,
          63.6,
          78.8,
          111.1,
          74.8,
          69.9
         ]
        },
        {
         "hovertemplate": "<b>Matt Ryan</b><br>%{y} Passer Rating on week %{x}<extra></extra>",
         "line": {
          "color": "#002C5F"
         },
         "mode": "markers+lines",
         "name": "Matt Ryan",
         "type": "scatter",
         "x": [
          1,
          2,
          3,
          4,
          5,
          6,
          7,
          10,
          11,
          12,
          13,
          15
         ],
         "y": [
          80,
          27.7,
          93.6,
          101.7,
          53.8,
          107.6,
          71.5,
          105.8,
          80,
          71.8,
          55.5,
          76.4
         ]
        },
        {
         "hovertemplate": "<b>Matthew Stafford</b><br>%{y} Passer Rating on week %{x}<extra></extra>",
         "line": {
          "color": "#003594"
         },
         "mode": "markers+lines",
         "name": "Matthew Stafford",
         "type": "scatter",
         "x": [
          1,
          2,
          3,
          4,
          5,
          6,
          8,
          9,
          11
         ],
         "y": [
          54.2,
          98,
          99.7,
          62.2,
          77.3,
          94.4,
          86.2,
          70,
          120.3
         ]
        },
        {
         "hovertemplate": "<b>Mike White</b><br>%{y} Passer Rating on week %{x}<extra></extra>",
         "line": {
          "color": "#003F2D"
         },
         "mode": "markers+lines",
         "name": "Mike White",
         "type": "scatter",
         "x": [
          12,
          13,
          14,
          17
         ],
         "y": [
          145,
          58.8,
          73.7,
          43.8
         ]
        },
        {
         "hovertemplate": "<b>Mitchell Trubisky</b><br>%{y} Passer Rating on week %{x}<extra></extra>",
         "line": {
          "color": "#000000"
         },
         "mode": "markers+lines",
         "name": "Mitchell Trubisky",
         "type": "scatter",
         "x": [
          1,
          2,
          3,
          4,
          6,
          14,
          15
         ],
         "y": [
          78.2,
          67.8,
          78.7,
          34.4,
          131.6,
          69.5,
          96.1
         ]
        },
        {
         "hovertemplate": "<b>Patrick Mahomes</b><br>%{y} Passer Rating on week %{x}<extra></extra>",
         "line": {
          "color": "#E31837"
         },
         "mode": "markers+lines",
         "name": "Patrick Mahomes",
         "type": "scatter",
         "x": [
          1,
          2,
          3,
          4,
          5,
          6,
          7,
          9,
          10,
          11,
          12,
          13,
          14,
          15,
          16,
          17,
          18
         ],
         "y": [
          144.2,
          103.4,
          76.4,
          90.5,
          110.1,
          79.4,
          128.6,
          76.5,
          129.6,
          117.4,
          85.4,
          91.6,
          82.8,
          114.7,
          103.2,
          106.1,
          97.6
         ]
        },
        {
         "hovertemplate": "<b>Russell Wilson</b><br>%{y} Passer Rating on week %{x}<extra></extra>",
         "line": {
          "color": "#002244"
         },
         "mode": "markers+lines",
         "name": "Russell Wilson",
         "type": "scatter",
         "x": [
          1,
          2,
          3,
          4,
          5,
          6,
          8,
          10,
          11,
          12,
          13,
          14,
          16,
          17,
          18
         ],
         "y": [
          96.8,
          60.8,
          67.8,
          111.8,
          50,
          76,
          79.2,
          61.6,
          91.2,
          68.1,
          93.9,
          86.1,
          39.2,
          73.7,
          111.5
         ]
        },
        {
         "hovertemplate": "<b>Ryan Tannehill</b><br>%{y} Passer Rating on week %{x}<extra></extra>",
         "line": {
          "color": "#002244"
         },
         "mode": "markers+lines",
         "name": "Ryan Tannehill",
         "type": "scatter",
         "x": [
          1,
          2,
          3,
          4,
          5,
          7,
          10,
          11,
          12,
          13,
          14,
          15
         ],
         "y": [
          106.4,
          28,
          94.9,
          112.7,
          80,
          76.3,
          91.6,
          117.8,
          89.1,
          76.6,
          82.8,
          60.6
         ]
        },
        {
         "hovertemplate": "<b>Sam Darnold</b><br>%{y} Passer Rating on week %{x}<extra></extra>",
         "line": {
          "color": "#0085CA"
         },
         "mode": "markers+lines",
         "name": "Sam Darnold",
         "type": "scatter",
         "x": [
          12,
          14,
          15,
          16,
          17,
          18
         ],
         "y": [
          103.8,
          79,
          95.8,
          121.4,
          108.1,
          0
         ]
        },
        {
         "hovertemplate": "<b>Taylor Heinicke</b><br>%{y} Passer Rating on week %{x}<extra></extra>",
         "line": {
          "color": "#5A1414"
         },
         "mode": "markers+lines",
         "name": "Taylor Heinicke",
         "type": "scatter",
         "x": [
          7,
          8,
          9,
          10,
          11,
          12,
          13,
          15,
          16
         ],
         "y": [
          83.1,
          92.9,
          70.5,
          64.7,
          77.9,
          88.7,
          90.4,
          89.2,
          103.3
         ]
        },
        {
         "hovertemplate": "<b>Tom Brady</b><br>%{y} Passer Rating on week %{x}<extra></extra>",
         "line": {
          "color": "#A71930"
         },
         "mode": "markers+lines",
         "name": "Tom Brady",
         "type": "scatter",
         "x": [
          1,
          2,
          3,
          4,
          5,
          6,
          7,
          8,
          9,
          10,
          12,
          13,
          14,
          15,
          16,
          17,
          18
         ],
         "y": [
          81.4,
          77.1,
          92,
          112.5,
          92.7,
          85.7,
          79.6,
          85.9,
          79.7,
          111,
          91.4,
          82.5,
          63.7,
          90.2,
          71.6,
          119.4,
          106
         ]
        },
        {
         "hovertemplate": "<b>Trevor Lawrence</b><br>%{y} Passer Rating on week %{x}<extra></extra>",
         "line": {
          "color": "#006778"
         },
         "mode": "markers+lines",
         "name": "Trevor Lawrence",
         "type": "scatter",
         "x": [
          1,
          2,
          3,
          4,
          5,
          6,
          7,
          8,
          9,
          10,
          12,
          13,
          14,
          15,
          16,
          17,
          18
         ],
         "y": [
          71.7,
          121.5,
          115.5,
          72.1,
          55.2,
          105.4,
          74.8,
          49.2,
          110.4,
          94.6,
          118,
          77.7,
          121.9,
          106.5,
          84,
          76.3,
          89.5
         ]
        },
        {
         "hovertemplate": "<b>Tua Tagovailoa</b><br>%{y} Passer Rating on week %{x}<extra></extra>",
         "line": {
          "color": "#008E97"
         },
         "mode": "markers+lines",
         "name": "Tua Tagovailoa",
         "type": "scatter",
         "x": [
          1,
          2,
          3,
          4,
          7,
          8,
          9,
          10,
          12,
          13,
          14,
          15,
          16
         ],
         "y": [
          95.8,
          122.1,
          117.4,
          49.3,
          92.7,
          133.9,
          135.7,
          135,
          89.6,
          73.3,
          61.1,
          97.7,
          72.1
         ]
        },
        {
         "hovertemplate": "<b>Zach Wilson</b><br>%{y} Passer Rating on week %{x}<extra></extra>",
         "line": {
          "color": "#003F2D"
         },
         "mode": "markers+lines",
         "name": "Zach Wilson",
         "type": "scatter",
         "x": [
          4,
          5,
          6,
          7,
          8,
          9,
          11,
          15,
          16
         ],
         "y": [
          57.5,
          90.9,
          66.7,
          65.4,
          61.7,
          93.8,
          43.4,
          80.8,
          36.2
         ]
        }
       ],
       "layout": {
        "font": {
         "family": "Averta, sans-serif"
        },
        "height": 1000,
        "hoverlabel": {
         "font": {
          "family": "Averta, sans-serif",
          "size": 16
         }
        },
        "legend": {
         "font": {
          "size": 16
         }
        },
        "template": {
         "data": {
          "bar": [
           {
            "error_x": {
             "color": "#2a3f5f"
            },
            "error_y": {
             "color": "#2a3f5f"
            },
            "marker": {
             "line": {
              "color": "#E5ECF6",
              "width": 0.5
             },
             "pattern": {
              "fillmode": "overlay",
              "size": 10,
              "solidity": 0.2
             }
            },
            "type": "bar"
           }
          ],
          "barpolar": [
           {
            "marker": {
             "line": {
              "color": "#E5ECF6",
              "width": 0.5
             },
             "pattern": {
              "fillmode": "overlay",
              "size": 10,
              "solidity": 0.2
             }
            },
            "type": "barpolar"
           }
          ],
          "carpet": [
           {
            "aaxis": {
             "endlinecolor": "#2a3f5f",
             "gridcolor": "white",
             "linecolor": "white",
             "minorgridcolor": "white",
             "startlinecolor": "#2a3f5f"
            },
            "baxis": {
             "endlinecolor": "#2a3f5f",
             "gridcolor": "white",
             "linecolor": "white",
             "minorgridcolor": "white",
             "startlinecolor": "#2a3f5f"
            },
            "type": "carpet"
           }
          ],
          "choropleth": [
           {
            "colorbar": {
             "outlinewidth": 0,
             "ticks": ""
            },
            "type": "choropleth"
           }
          ],
          "contour": [
           {
            "colorbar": {
             "outlinewidth": 0,
             "ticks": ""
            },
            "colorscale": [
             [
              0,
              "#0d0887"
             ],
             [
              0.1111111111111111,
              "#46039f"
             ],
             [
              0.2222222222222222,
              "#7201a8"
             ],
             [
              0.3333333333333333,
              "#9c179e"
             ],
             [
              0.4444444444444444,
              "#bd3786"
             ],
             [
              0.5555555555555556,
              "#d8576b"
             ],
             [
              0.6666666666666666,
              "#ed7953"
             ],
             [
              0.7777777777777778,
              "#fb9f3a"
             ],
             [
              0.8888888888888888,
              "#fdca26"
             ],
             [
              1,
              "#f0f921"
             ]
            ],
            "type": "contour"
           }
          ],
          "contourcarpet": [
           {
            "colorbar": {
             "outlinewidth": 0,
             "ticks": ""
            },
            "type": "contourcarpet"
           }
          ],
          "heatmap": [
           {
            "colorbar": {
             "outlinewidth": 0,
             "ticks": ""
            },
            "colorscale": [
             [
              0,
              "#0d0887"
             ],
             [
              0.1111111111111111,
              "#46039f"
             ],
             [
              0.2222222222222222,
              "#7201a8"
             ],
             [
              0.3333333333333333,
              "#9c179e"
             ],
             [
              0.4444444444444444,
              "#bd3786"
             ],
             [
              0.5555555555555556,
              "#d8576b"
             ],
             [
              0.6666666666666666,
              "#ed7953"
             ],
             [
              0.7777777777777778,
              "#fb9f3a"
             ],
             [
              0.8888888888888888,
              "#fdca26"
             ],
             [
              1,
              "#f0f921"
             ]
            ],
            "type": "heatmap"
           }
          ],
          "heatmapgl": [
           {
            "colorbar": {
             "outlinewidth": 0,
             "ticks": ""
            },
            "colorscale": [
             [
              0,
              "#0d0887"
             ],
             [
              0.1111111111111111,
              "#46039f"
             ],
             [
              0.2222222222222222,
              "#7201a8"
             ],
             [
              0.3333333333333333,
              "#9c179e"
             ],
             [
              0.4444444444444444,
              "#bd3786"
             ],
             [
              0.5555555555555556,
              "#d8576b"
             ],
             [
              0.6666666666666666,
              "#ed7953"
             ],
             [
              0.7777777777777778,
              "#fb9f3a"
             ],
             [
              0.8888888888888888,
              "#fdca26"
             ],
             [
              1,
              "#f0f921"
             ]
            ],
            "type": "heatmapgl"
           }
          ],
          "histogram": [
           {
            "marker": {
             "pattern": {
              "fillmode": "overlay",
              "size": 10,
              "solidity": 0.2
             }
            },
            "type": "histogram"
           }
          ],
          "histogram2d": [
           {
            "colorbar": {
             "outlinewidth": 0,
             "ticks": ""
            },
            "colorscale": [
             [
              0,
              "#0d0887"
             ],
             [
              0.1111111111111111,
              "#46039f"
             ],
             [
              0.2222222222222222,
              "#7201a8"
             ],
             [
              0.3333333333333333,
              "#9c179e"
             ],
             [
              0.4444444444444444,
              "#bd3786"
             ],
             [
              0.5555555555555556,
              "#d8576b"
             ],
             [
              0.6666666666666666,
              "#ed7953"
             ],
             [
              0.7777777777777778,
              "#fb9f3a"
             ],
             [
              0.8888888888888888,
              "#fdca26"
             ],
             [
              1,
              "#f0f921"
             ]
            ],
            "type": "histogram2d"
           }
          ],
          "histogram2dcontour": [
           {
            "colorbar": {
             "outlinewidth": 0,
             "ticks": ""
            },
            "colorscale": [
             [
              0,
              "#0d0887"
             ],
             [
              0.1111111111111111,
              "#46039f"
             ],
             [
              0.2222222222222222,
              "#7201a8"
             ],
             [
              0.3333333333333333,
              "#9c179e"
             ],
             [
              0.4444444444444444,
              "#bd3786"
             ],
             [
              0.5555555555555556,
              "#d8576b"
             ],
             [
              0.6666666666666666,
              "#ed7953"
             ],
             [
              0.7777777777777778,
              "#fb9f3a"
             ],
             [
              0.8888888888888888,
              "#fdca26"
             ],
             [
              1,
              "#f0f921"
             ]
            ],
            "type": "histogram2dcontour"
           }
          ],
          "mesh3d": [
           {
            "colorbar": {
             "outlinewidth": 0,
             "ticks": ""
            },
            "type": "mesh3d"
           }
          ],
          "parcoords": [
           {
            "line": {
             "colorbar": {
              "outlinewidth": 0,
              "ticks": ""
             }
            },
            "type": "parcoords"
           }
          ],
          "pie": [
           {
            "automargin": true,
            "type": "pie"
           }
          ],
          "scatter": [
           {
            "fillpattern": {
             "fillmode": "overlay",
             "size": 10,
             "solidity": 0.2
            },
            "type": "scatter"
           }
          ],
          "scatter3d": [
           {
            "line": {
             "colorbar": {
              "outlinewidth": 0,
              "ticks": ""
             }
            },
            "marker": {
             "colorbar": {
              "outlinewidth": 0,
              "ticks": ""
             }
            },
            "type": "scatter3d"
           }
          ],
          "scattercarpet": [
           {
            "marker": {
             "colorbar": {
              "outlinewidth": 0,
              "ticks": ""
             }
            },
            "type": "scattercarpet"
           }
          ],
          "scattergeo": [
           {
            "marker": {
             "colorbar": {
              "outlinewidth": 0,
              "ticks": ""
             }
            },
            "type": "scattergeo"
           }
          ],
          "scattergl": [
           {
            "marker": {
             "colorbar": {
              "outlinewidth": 0,
              "ticks": ""
             }
            },
            "type": "scattergl"
           }
          ],
          "scattermapbox": [
           {
            "marker": {
             "colorbar": {
              "outlinewidth": 0,
              "ticks": ""
             }
            },
            "type": "scattermapbox"
           }
          ],
          "scatterpolar": [
           {
            "marker": {
             "colorbar": {
              "outlinewidth": 0,
              "ticks": ""
             }
            },
            "type": "scatterpolar"
           }
          ],
          "scatterpolargl": [
           {
            "marker": {
             "colorbar": {
              "outlinewidth": 0,
              "ticks": ""
             }
            },
            "type": "scatterpolargl"
           }
          ],
          "scatterternary": [
           {
            "marker": {
             "colorbar": {
              "outlinewidth": 0,
              "ticks": ""
             }
            },
            "type": "scatterternary"
           }
          ],
          "surface": [
           {
            "colorbar": {
             "outlinewidth": 0,
             "ticks": ""
            },
            "colorscale": [
             [
              0,
              "#0d0887"
             ],
             [
              0.1111111111111111,
              "#46039f"
             ],
             [
              0.2222222222222222,
              "#7201a8"
             ],
             [
              0.3333333333333333,
              "#9c179e"
             ],
             [
              0.4444444444444444,
              "#bd3786"
             ],
             [
              0.5555555555555556,
              "#d8576b"
             ],
             [
              0.6666666666666666,
              "#ed7953"
             ],
             [
              0.7777777777777778,
              "#fb9f3a"
             ],
             [
              0.8888888888888888,
              "#fdca26"
             ],
             [
              1,
              "#f0f921"
             ]
            ],
            "type": "surface"
           }
          ],
          "table": [
           {
            "cells": {
             "fill": {
              "color": "#EBF0F8"
             },
             "line": {
              "color": "white"
             }
            },
            "header": {
             "fill": {
              "color": "#C8D4E3"
             },
             "line": {
              "color": "white"
             }
            },
            "type": "table"
           }
          ]
         },
         "layout": {
          "annotationdefaults": {
           "arrowcolor": "#2a3f5f",
           "arrowhead": 0,
           "arrowwidth": 1
          },
          "autotypenumbers": "strict",
          "coloraxis": {
           "colorbar": {
            "outlinewidth": 0,
            "ticks": ""
           }
          },
          "colorscale": {
           "diverging": [
            [
             0,
             "#8e0152"
            ],
            [
             0.1,
             "#c51b7d"
            ],
            [
             0.2,
             "#de77ae"
            ],
            [
             0.3,
             "#f1b6da"
            ],
            [
             0.4,
             "#fde0ef"
            ],
            [
             0.5,
             "#f7f7f7"
            ],
            [
             0.6,
             "#e6f5d0"
            ],
            [
             0.7,
             "#b8e186"
            ],
            [
             0.8,
             "#7fbc41"
            ],
            [
             0.9,
             "#4d9221"
            ],
            [
             1,
             "#276419"
            ]
           ],
           "sequential": [
            [
             0,
             "#0d0887"
            ],
            [
             0.1111111111111111,
             "#46039f"
            ],
            [
             0.2222222222222222,
             "#7201a8"
            ],
            [
             0.3333333333333333,
             "#9c179e"
            ],
            [
             0.4444444444444444,
             "#bd3786"
            ],
            [
             0.5555555555555556,
             "#d8576b"
            ],
            [
             0.6666666666666666,
             "#ed7953"
            ],
            [
             0.7777777777777778,
             "#fb9f3a"
            ],
            [
             0.8888888888888888,
             "#fdca26"
            ],
            [
             1,
             "#f0f921"
            ]
           ],
           "sequentialminus": [
            [
             0,
             "#0d0887"
            ],
            [
             0.1111111111111111,
             "#46039f"
            ],
            [
             0.2222222222222222,
             "#7201a8"
            ],
            [
             0.3333333333333333,
             "#9c179e"
            ],
            [
             0.4444444444444444,
             "#bd3786"
            ],
            [
             0.5555555555555556,
             "#d8576b"
            ],
            [
             0.6666666666666666,
             "#ed7953"
            ],
            [
             0.7777777777777778,
             "#fb9f3a"
            ],
            [
             0.8888888888888888,
             "#fdca26"
            ],
            [
             1,
             "#f0f921"
            ]
           ]
          },
          "colorway": [
           "#636efa",
           "#EF553B",
           "#00cc96",
           "#ab63fa",
           "#FFA15A",
           "#19d3f3",
           "#FF6692",
           "#B6E880",
           "#FF97FF",
           "#FECB52"
          ],
          "font": {
           "color": "#2a3f5f"
          },
          "geo": {
           "bgcolor": "white",
           "lakecolor": "white",
           "landcolor": "#E5ECF6",
           "showlakes": true,
           "showland": true,
           "subunitcolor": "white"
          },
          "hoverlabel": {
           "align": "left"
          },
          "hovermode": "closest",
          "mapbox": {
           "style": "light"
          },
          "paper_bgcolor": "white",
          "plot_bgcolor": "#E5ECF6",
          "polar": {
           "angularaxis": {
            "gridcolor": "white",
            "linecolor": "white",
            "ticks": ""
           },
           "bgcolor": "#E5ECF6",
           "radialaxis": {
            "gridcolor": "white",
            "linecolor": "white",
            "ticks": ""
           }
          },
          "scene": {
           "xaxis": {
            "backgroundcolor": "#E5ECF6",
            "gridcolor": "white",
            "gridwidth": 2,
            "linecolor": "white",
            "showbackground": true,
            "ticks": "",
            "zerolinecolor": "white"
           },
           "yaxis": {
            "backgroundcolor": "#E5ECF6",
            "gridcolor": "white",
            "gridwidth": 2,
            "linecolor": "white",
            "showbackground": true,
            "ticks": "",
            "zerolinecolor": "white"
           },
           "zaxis": {
            "backgroundcolor": "#E5ECF6",
            "gridcolor": "white",
            "gridwidth": 2,
            "linecolor": "white",
            "showbackground": true,
            "ticks": "",
            "zerolinecolor": "white"
           }
          },
          "shapedefaults": {
           "line": {
            "color": "#2a3f5f"
           }
          },
          "ternary": {
           "aaxis": {
            "gridcolor": "white",
            "linecolor": "white",
            "ticks": ""
           },
           "baxis": {
            "gridcolor": "white",
            "linecolor": "white",
            "ticks": ""
           },
           "bgcolor": "#E5ECF6",
           "caxis": {
            "gridcolor": "white",
            "linecolor": "white",
            "ticks": ""
           }
          },
          "title": {
           "x": 0.05
          },
          "xaxis": {
           "automargin": true,
           "gridcolor": "white",
           "linecolor": "white",
           "ticks": "",
           "title": {
            "standoff": 15
           },
           "zerolinecolor": "white",
           "zerolinewidth": 2
          },
          "yaxis": {
           "automargin": true,
           "gridcolor": "white",
           "linecolor": "white",
           "ticks": "",
           "title": {
            "standoff": 15
           },
           "zerolinecolor": "white",
           "zerolinewidth": 2
          }
         }
        },
        "width": 1000,
        "xaxis": {
         "tickfont": {
          "size": 16
         },
         "title": {
          "font": {
           "size": 18
          },
          "text": "Week"
         }
        },
        "yaxis": {
         "tickfont": {
          "size": 16
         },
         "title": {
          "font": {
           "size": 18
          },
          "text": "Passer Rating"
         }
        }
       }
      },
      "text/html": [
       "<div>                            <div id=\"f2291ce2-bb45-4f5a-8c5f-60c8686f2f99\" class=\"plotly-graph-div\" style=\"height:1000px; width:1000px;\"></div>            <script type=\"text/javascript\">                require([\"plotly\"], function(Plotly) {                    window.PLOTLYENV=window.PLOTLYENV || {};                                    if (document.getElementById(\"f2291ce2-bb45-4f5a-8c5f-60c8686f2f99\")) {                    Plotly.newPlot(                        \"f2291ce2-bb45-4f5a-8c5f-60c8686f2f99\",                        [{\"hovertemplate\":\"<b>Aaron Rodgers</b><br>%{y} Passer Rating on week %{x}<extra></extra>\",\"line\":{\"color\":\"#203731\"},\"mode\":\"markers+lines\",\"name\":\"Aaron Rodgers\",\"x\":[1,2,3,4,5,6,7,8,9,10,11,12,13,15,16,17,18],\"y\":[60.7,117.3,101.0,86.7,91.7,80.4,101.8,85.8,52.4,137.1,92.4,76.5,85.7,84.0,74.8,95.7,77.5],\"type\":\"scatter\"},{\"hovertemplate\":\"<b>Andy Dalton</b><br>%{y} Passer Rating on week %{x}<extra></extra>\",\"line\":{\"color\":\"#D3BC8D\"},\"mode\":\"markers+lines\",\"name\":\"Andy Dalton\",\"x\":[4,5,6,7,8,9,10,11,12,13,15,16,17,18],\"y\":[101.5,83.2,75.6,89.1,117.2,74.1,58.7,139.0,80.4,100.6,118.5,44.3,71.3,90.4],\"type\":\"scatter\"},{\"hovertemplate\":\"<b>Baker Mayfield</b><br>%{y} Passer Rating on week %{x}<extra></extra>\",\"line\":{\"color\":\"#0085CA\"},\"mode\":\"markers+lines\",\"name\":\"Baker Mayfield\",\"x\":[1,2,3,4,5,9,11,14,15,16,17,18],\"y\":[74.0,70.0,75.0,58.8,55.7,126.0,48.9,84.3,55.1,124.7,68.8,43.3],\"type\":\"scatter\"},{\"hovertemplate\":\"<b>Brock Purdy</b><br>%{y} Passer Rating on week %{x}<extra></extra>\",\"line\":{\"color\":\"#AA0000\"},\"mode\":\"markers+lines\",\"name\":\"Brock Purdy\",\"x\":[7,13,14,15,16,17,18],\"y\":[30.1,82.3,134.0,112.7,101.1,95.4,124.7],\"type\":\"scatter\"},{\"hovertemplate\":\"<b>Carson Wentz</b><br>%{y} Passer Rating on week %{x}<extra></extra>\",\"line\":{\"color\":\"#5A1414\"},\"mode\":\"markers+lines\",\"name\":\"Carson Wentz\",\"x\":[1,2,3,4,5,6,16,17],\"y\":[98.6,90.1,59.1,54.2,95.5,58.6,117.4,24.7],\"type\":\"scatter\"},{\"hovertemplate\":\"<b>Cooper Rush</b><br>%{y} Passer Rating on week %{x}<extra></extra>\",\"line\":{\"color\":\"#002244\"},\"mode\":\"markers+lines\",\"name\":\"Cooper Rush\",\"x\":[1,2,3,4,5,6,11,18],\"y\":[58.8,95.5,98.2,103.7,68.3,37.3,92.5,39.6],\"type\":\"scatter\"},{\"hovertemplate\":\"<b>Dak Prescott</b><br>%{y} Passer Rating on week %{x}<extra></extra>\",\"line\":{\"color\":\"#002244\"},\"mode\":\"markers+lines\",\"name\":\"Dak Prescott\",\"x\":[1,7,8,10,11,12,13,14,15,16,17,18],\"y\":[44.3,105.0,110.7,75.4,139.3,91.1,97.5,69.2,97.5,106.5,83.6,44.6],\"type\":\"scatter\"},{\"hovertemplate\":\"<b>Daniel Jones</b><br>%{y} Passer Rating on week %{x}<extra></extra>\",\"line\":{\"color\":\"#0B2265\"},\"mode\":\"markers+lines\",\"name\":\"Daniel Jones\",\"x\":[1,2,3,4,5,6,7,8,10,11,12,13,14,15,16,17],\"y\":[96.3,80.5,51.3,70.8,96.9,97.9,91.1,61.8,130.6,71.0,88.8,100.6,83.9,77.6,86.7,125.2],\"type\":\"scatter\"},{\"hovertemplate\":\"<b>Davis Mills</b><br>%{y} Passer Rating on week %{x}<extra></extra>\",\"line\":{\"color\":\"#03202F\"},\"mode\":\"markers+lines\",\"name\":\"Davis Mills\",\"x\":[1,2,3,4,5,7,8,9,10,11,14,15,16,17,18],\"y\":[91.7,58.7,68.4,79.6,78.8,93.6,63.5,64.4,77.2,40.4,82.3,92.5,73.6,67.3,85.2],\"type\":\"scatter\"},{\"hovertemplate\":\"<b>Derek Carr</b><br>%{y} Passer Rating on week %{x}<extra></extra>\",\"line\":{\"color\":\"#000000\"},\"mode\":\"markers+lines\",\"name\":\"Derek Carr\",\"x\":[1,2,3,4,5,7,8,9,10,11,12,13,14,15,16],\"y\":[61.1,97.1,83.8,72.5,103.8,112.4,45.3,94.1,94.6,103.7,96.1,89.6,36.9,80.4,36.7],\"type\":\"scatter\"},{\"hovertemplate\":\"<b>Deshaun Watson</b><br>%{y} Passer Rating on week %{x}<extra></extra>\",\"line\":{\"color\":\"#FF3C00\"},\"mode\":\"markers+lines\",\"name\":\"Deshaun Watson\",\"x\":[13,14,15,16,17,18],\"y\":[51.2,77.3,82.9,44.4,104.9,69.9],\"type\":\"scatter\"},{\"hovertemplate\":\"<b>Geno Smith</b><br>%{y} Passer Rating on week %{x}<extra></extra>\",\"line\":{\"color\":\"#002244\"},\"mode\":\"markers+lines\",\"name\":\"Geno Smith\",\"x\":[1,2,3,4,5,6,7,8,9,10,12,13,14,15,16,17,18],\"y\":[115.3,77.2,94.9,132.6,125.3,71.2,98.3,95.8,101.0,105.7,98.8,105.5,79.4,85.2,71.0,90.8,61.8],\"type\":\"scatter\"},{\"hovertemplate\":\"<b>Jacoby Brissett</b><br>%{y} Passer Rating on week %{x}<extra></extra>\",\"line\":{\"color\":\"#FF3C00\"},\"mode\":\"markers+lines\",\"name\":\"Jacoby Brissett\",\"x\":[1,2,3,4,5,6,7,8,10,11,12,14],\"y\":[76.2,97.8,103.1,66.2,79.3,50.2,93.0,128.5,82.3,113.6,68.1,39.6],\"type\":\"scatter\"},{\"hovertemplate\":\"<b>Jalen Hurts</b><br>%{y} Passer Rating on week %{x}<extra></extra>\",\"line\":{\"color\":\"#004C54\"},\"mode\":\"markers+lines\",\"name\":\"Jalen Hurts\",\"x\":[1,2,3,4,5,6,8,9,10,11,12,13,14,15,18],\"y\":[78.2,104.2,113.9,67.5,85.3,90.4,131.0,112.7,90.8,95.8,90.0,124.0,97.0,62.9,60.1],\"type\":\"scatter\"},{\"hovertemplate\":\"<b>Jared Goff</b><br>%{y} Passer Rating on week %{x}<extra></extra>\",\"line\":{\"color\":\"#0076B6\"},\"mode\":\"markers+lines\",\"name\":\"Jared Goff\",\"x\":[1,2,3,4,5,7,8,9,10,11,12,13,14,15,16,17,18],\"y\":[78.3,112.0,80.9,118.5,59.4,62.3,105.3,78.5,105.7,83.0,94.0,110.6,120.7,88.9,105.8,129.2,83.5],\"type\":\"scatter\"},{\"hovertemplate\":\"<b>Jimmy Garoppolo</b><br>%{y} Passer Rating on week %{x}<extra></extra>\",\"line\":{\"color\":\"#AA0000\"},\"mode\":\"markers+lines\",\"name\":\"Jimmy Garoppolo\",\"x\":[2,3,4,5,6,7,8,10,11,12,13],\"y\":[95.6,71.7,100.7,102.7,87.0,87.7,123.4,91.2,131.9,92.2,82.1],\"type\":\"scatter\"},{\"hovertemplate\":\"<b>Joe Burrow</b><br>%{y} Passer Rating on week %{x}<extra></extra>\",\"line\":{\"color\":\"#FB4F14\"},\"mode\":\"markers+lines\",\"name\":\"Joe Burrow\",\"x\":[1,2,3,4,5,6,7,8,9,11,12,13,14,15,16,18],\"y\":[54.7,77.4,109.0,112.4,78.3,116.7,131.8,84.6,106.4,99.1,88.7,124.7,82.8,102.1,95.8,77.4],\"type\":\"scatter\"},{\"hovertemplate\":\"<b>Joe Flacco</b><br>%{y} Passer Rating on week %{x}<extra></extra>\",\"line\":{\"color\":\"#003F2D\"},\"mode\":\"markers+lines\",\"name\":\"Joe Flacco\",\"x\":[1,2,3,14,18],\"y\":[71.2,106.0,50.1,39.6,66.4],\"type\":\"scatter\"},{\"hovertemplate\":\"<b>Josh Allen</b><br>%{y} Passer Rating on week %{x}<extra></extra>\",\"line\":{\"color\":\"#00338D\"},\"mode\":\"markers+lines\",\"name\":\"Josh Allen\",\"x\":[1,2,3,4,5,6,8,9,10,11,12,13,14,15,16,18],\"y\":[109.2,125.7,90.5,66.6,134.1,114.8,69.7,41.1,75.2,93.6,75.5,100.1,78.1,113.6,68.8,99.8],\"type\":\"scatter\"},{\"hovertemplate\":\"<b>Justin Fields</b><br>%{y} Passer Rating on week %{x}<extra></extra>\",\"line\":{\"color\":\"#0B162A\"},\"mode\":\"markers+lines\",\"name\":\"Justin Fields\",\"x\":[1,2,3,4,5,6,7,8,9,10,11,13,15,16,17],\"y\":[76.9,34.8,14.6,60.7,108.6,60.7,71.9,102.5,99.7,86.7,70.9,75.7,93.4,85.2,36.6],\"type\":\"scatter\"},{\"hovertemplate\":\"<b>Justin Herbert</b><br>%{y} Passer Rating on week %{x}<extra></extra>\",\"line\":{\"color\":\"#007BC7\"},\"mode\":\"markers+lines\",\"name\":\"Justin Herbert\",\"x\":[1,2,3,4,5,6,7,9,10,11,12,13,14,15,16,17,18],\"y\":[129.4,96.6,72.5,110.4,91.1,64.1,80.2,82.0,69.2,97.3,101.3,80.2,95.0,67.3,75.3,119.9,104.4],\"type\":\"scatter\"},{\"hovertemplate\":\"<b>Kenny Pickett</b><br>%{y} Passer Rating on week %{x}<extra></extra>\",\"line\":{\"color\":\"#000000\"},\"mode\":\"markers+lines\",\"name\":\"Kenny Pickett\",\"x\":[4,5,6,7,8,10,11,12,13,14,16,17,18],\"y\":[65.1,70.8,82.6,64.8,58.0,66.8,82.1,79.2,90.9,39.6,81.6,80.8,76.4],\"type\":\"scatter\"},{\"hovertemplate\":\"<b>Kirk Cousins</b><br>%{y} Passer Rating on week %{x}<extra></extra>\",\"line\":{\"color\":\"#4F2683\"},\"mode\":\"markers+lines\",\"name\":\"Kirk Cousins\",\"x\":[1,2,3,4,5,6,8,9,10,11,12,13,14,15,16,17,18],\"y\":[115.3,49.0,93.5,78.6,94.7,94.9,95.2,78.0,66.7,50.0,114.8,77.9,116.2,88.1,101.7,45.6,130.2],\"type\":\"scatter\"},{\"hovertemplate\":\"<b>Kyler Murray</b><br>%{y} Passer Rating on week %{x}<extra></extra>\",\"line\":{\"color\":\"#97233F\"},\"mode\":\"markers+lines\",\"name\":\"Kyler Murray\",\"x\":[1,2,3,4,5,6,7,8,9,12,14],\"y\":[93.9,75.2,75.3,93.9,82.4,58.5,94.0,89.5,89.1,86.9,104.2],\"type\":\"scatter\"},{\"hovertemplate\":\"<b>Lamar Jackson</b><br>%{y} Passer Rating on week %{x}<extra></extra>\",\"line\":{\"color\":\"#241773\"},\"mode\":\"markers+lines\",\"name\":\"Lamar Jackson\",\"x\":[1,2,3,4,5,6,7,8,9,11,12,13],\"y\":[92.3,142.6,102.0,59.1,69.5,67.0,67.9,99.8,77.6,70.3,84.7,56.2],\"type\":\"scatter\"},{\"hovertemplate\":\"<b>Mac Jones</b><br>%{y} Passer Rating on week %{x}<extra></extra>\",\"line\":{\"color\":\"#002244\"},\"mode\":\"markers+lines\",\"name\":\"Mac Jones\",\"x\":[1,2,3,7,8,9,11,12,13,14,15,16,17,18],\"y\":[81.9,79.7,57.0,16.7,68.5,78.9,91.2,114.1,82.6,73.3,52.1,97.0,90.5,73.5],\"type\":\"scatter\"},{\"hovertemplate\":\"<b>Marcus Mariota</b><br>%{y} Passer Rating on week %{x}<extra></extra>\",\"line\":{\"color\":\"#A71930\"},\"mode\":\"markers+lines\",\"name\":\"Marcus Mariota\",\"x\":[1,2,3,4,5,6,7,8,9,10,11,12,13],\"y\":[82.2,73.3,87.0,39.4,72.5,139.8,96.9,98.3,63.6,78.8,111.1,74.8,69.9],\"type\":\"scatter\"},{\"hovertemplate\":\"<b>Matt Ryan</b><br>%{y} Passer Rating on week %{x}<extra></extra>\",\"line\":{\"color\":\"#002C5F\"},\"mode\":\"markers+lines\",\"name\":\"Matt Ryan\",\"x\":[1,2,3,4,5,6,7,10,11,12,13,15],\"y\":[80.0,27.7,93.6,101.7,53.8,107.6,71.5,105.8,80.0,71.8,55.5,76.4],\"type\":\"scatter\"},{\"hovertemplate\":\"<b>Matthew Stafford</b><br>%{y} Passer Rating on week %{x}<extra></extra>\",\"line\":{\"color\":\"#003594\"},\"mode\":\"markers+lines\",\"name\":\"Matthew Stafford\",\"x\":[1,2,3,4,5,6,8,9,11],\"y\":[54.2,98.0,99.7,62.2,77.3,94.4,86.2,70.0,120.3],\"type\":\"scatter\"},{\"hovertemplate\":\"<b>Mike White</b><br>%{y} Passer Rating on week %{x}<extra></extra>\",\"line\":{\"color\":\"#003F2D\"},\"mode\":\"markers+lines\",\"name\":\"Mike White\",\"x\":[12,13,14,17],\"y\":[145.0,58.8,73.7,43.8],\"type\":\"scatter\"},{\"hovertemplate\":\"<b>Mitchell Trubisky</b><br>%{y} Passer Rating on week %{x}<extra></extra>\",\"line\":{\"color\":\"#000000\"},\"mode\":\"markers+lines\",\"name\":\"Mitchell Trubisky\",\"x\":[1,2,3,4,6,14,15],\"y\":[78.2,67.8,78.7,34.4,131.6,69.5,96.1],\"type\":\"scatter\"},{\"hovertemplate\":\"<b>Patrick Mahomes</b><br>%{y} Passer Rating on week %{x}<extra></extra>\",\"line\":{\"color\":\"#E31837\"},\"mode\":\"markers+lines\",\"name\":\"Patrick Mahomes\",\"x\":[1,2,3,4,5,6,7,9,10,11,12,13,14,15,16,17,18],\"y\":[144.2,103.4,76.4,90.5,110.1,79.4,128.6,76.5,129.6,117.4,85.4,91.6,82.8,114.7,103.2,106.1,97.6],\"type\":\"scatter\"},{\"hovertemplate\":\"<b>Russell Wilson</b><br>%{y} Passer Rating on week %{x}<extra></extra>\",\"line\":{\"color\":\"#002244\"},\"mode\":\"markers+lines\",\"name\":\"Russell Wilson\",\"x\":[1,2,3,4,5,6,8,10,11,12,13,14,16,17,18],\"y\":[96.8,60.8,67.8,111.8,50.0,76.0,79.2,61.6,91.2,68.1,93.9,86.1,39.2,73.7,111.5],\"type\":\"scatter\"},{\"hovertemplate\":\"<b>Ryan Tannehill</b><br>%{y} Passer Rating on week %{x}<extra></extra>\",\"line\":{\"color\":\"#002244\"},\"mode\":\"markers+lines\",\"name\":\"Ryan Tannehill\",\"x\":[1,2,3,4,5,7,10,11,12,13,14,15],\"y\":[106.4,28.0,94.9,112.7,80.0,76.3,91.6,117.8,89.1,76.6,82.8,60.6],\"type\":\"scatter\"},{\"hovertemplate\":\"<b>Sam Darnold</b><br>%{y} Passer Rating on week %{x}<extra></extra>\",\"line\":{\"color\":\"#0085CA\"},\"mode\":\"markers+lines\",\"name\":\"Sam Darnold\",\"x\":[12,14,15,16,17,18],\"y\":[103.8,79.0,95.8,121.4,108.1,0.0],\"type\":\"scatter\"},{\"hovertemplate\":\"<b>Taylor Heinicke</b><br>%{y} Passer Rating on week %{x}<extra></extra>\",\"line\":{\"color\":\"#5A1414\"},\"mode\":\"markers+lines\",\"name\":\"Taylor Heinicke\",\"x\":[7,8,9,10,11,12,13,15,16],\"y\":[83.1,92.9,70.5,64.7,77.9,88.7,90.4,89.2,103.3],\"type\":\"scatter\"},{\"hovertemplate\":\"<b>Tom Brady</b><br>%{y} Passer Rating on week %{x}<extra></extra>\",\"line\":{\"color\":\"#A71930\"},\"mode\":\"markers+lines\",\"name\":\"Tom Brady\",\"x\":[1,2,3,4,5,6,7,8,9,10,12,13,14,15,16,17,18],\"y\":[81.4,77.1,92.0,112.5,92.7,85.7,79.6,85.9,79.7,111.0,91.4,82.5,63.7,90.2,71.6,119.4,106.0],\"type\":\"scatter\"},{\"hovertemplate\":\"<b>Trevor Lawrence</b><br>%{y} Passer Rating on week %{x}<extra></extra>\",\"line\":{\"color\":\"#006778\"},\"mode\":\"markers+lines\",\"name\":\"Trevor Lawrence\",\"x\":[1,2,3,4,5,6,7,8,9,10,12,13,14,15,16,17,18],\"y\":[71.7,121.5,115.5,72.1,55.2,105.4,74.8,49.2,110.4,94.6,118.0,77.7,121.9,106.5,84.0,76.3,89.5],\"type\":\"scatter\"},{\"hovertemplate\":\"<b>Tua Tagovailoa</b><br>%{y} Passer Rating on week %{x}<extra></extra>\",\"line\":{\"color\":\"#008E97\"},\"mode\":\"markers+lines\",\"name\":\"Tua Tagovailoa\",\"x\":[1,2,3,4,7,8,9,10,12,13,14,15,16],\"y\":[95.8,122.1,117.4,49.3,92.7,133.9,135.7,135.0,89.6,73.3,61.1,97.7,72.1],\"type\":\"scatter\"},{\"hovertemplate\":\"<b>Zach Wilson</b><br>%{y} Passer Rating on week %{x}<extra></extra>\",\"line\":{\"color\":\"#003F2D\"},\"mode\":\"markers+lines\",\"name\":\"Zach Wilson\",\"x\":[4,5,6,7,8,9,11,15,16],\"y\":[57.5,90.9,66.7,65.4,61.7,93.8,43.4,80.8,36.2],\"type\":\"scatter\"}],                        {\"template\":{\"data\":{\"histogram2dcontour\":[{\"type\":\"histogram2dcontour\",\"colorbar\":{\"outlinewidth\":0,\"ticks\":\"\"},\"colorscale\":[[0.0,\"#0d0887\"],[0.1111111111111111,\"#46039f\"],[0.2222222222222222,\"#7201a8\"],[0.3333333333333333,\"#9c179e\"],[0.4444444444444444,\"#bd3786\"],[0.5555555555555556,\"#d8576b\"],[0.6666666666666666,\"#ed7953\"],[0.7777777777777778,\"#fb9f3a\"],[0.8888888888888888,\"#fdca26\"],[1.0,\"#f0f921\"]]}],\"choropleth\":[{\"type\":\"choropleth\",\"colorbar\":{\"outlinewidth\":0,\"ticks\":\"\"}}],\"histogram2d\":[{\"type\":\"histogram2d\",\"colorbar\":{\"outlinewidth\":0,\"ticks\":\"\"},\"colorscale\":[[0.0,\"#0d0887\"],[0.1111111111111111,\"#46039f\"],[0.2222222222222222,\"#7201a8\"],[0.3333333333333333,\"#9c179e\"],[0.4444444444444444,\"#bd3786\"],[0.5555555555555556,\"#d8576b\"],[0.6666666666666666,\"#ed7953\"],[0.7777777777777778,\"#fb9f3a\"],[0.8888888888888888,\"#fdca26\"],[1.0,\"#f0f921\"]]}],\"heatmap\":[{\"type\":\"heatmap\",\"colorbar\":{\"outlinewidth\":0,\"ticks\":\"\"},\"colorscale\":[[0.0,\"#0d0887\"],[0.1111111111111111,\"#46039f\"],[0.2222222222222222,\"#7201a8\"],[0.3333333333333333,\"#9c179e\"],[0.4444444444444444,\"#bd3786\"],[0.5555555555555556,\"#d8576b\"],[0.6666666666666666,\"#ed7953\"],[0.7777777777777778,\"#fb9f3a\"],[0.8888888888888888,\"#fdca26\"],[1.0,\"#f0f921\"]]}],\"heatmapgl\":[{\"type\":\"heatmapgl\",\"colorbar\":{\"outlinewidth\":0,\"ticks\":\"\"},\"colorscale\":[[0.0,\"#0d0887\"],[0.1111111111111111,\"#46039f\"],[0.2222222222222222,\"#7201a8\"],[0.3333333333333333,\"#9c179e\"],[0.4444444444444444,\"#bd3786\"],[0.5555555555555556,\"#d8576b\"],[0.6666666666666666,\"#ed7953\"],[0.7777777777777778,\"#fb9f3a\"],[0.8888888888888888,\"#fdca26\"],[1.0,\"#f0f921\"]]}],\"contourcarpet\":[{\"type\":\"contourcarpet\",\"colorbar\":{\"outlinewidth\":0,\"ticks\":\"\"}}],\"contour\":[{\"type\":\"contour\",\"colorbar\":{\"outlinewidth\":0,\"ticks\":\"\"},\"colorscale\":[[0.0,\"#0d0887\"],[0.1111111111111111,\"#46039f\"],[0.2222222222222222,\"#7201a8\"],[0.3333333333333333,\"#9c179e\"],[0.4444444444444444,\"#bd3786\"],[0.5555555555555556,\"#d8576b\"],[0.6666666666666666,\"#ed7953\"],[0.7777777777777778,\"#fb9f3a\"],[0.8888888888888888,\"#fdca26\"],[1.0,\"#f0f921\"]]}],\"surface\":[{\"type\":\"surface\",\"colorbar\":{\"outlinewidth\":0,\"ticks\":\"\"},\"colorscale\":[[0.0,\"#0d0887\"],[0.1111111111111111,\"#46039f\"],[0.2222222222222222,\"#7201a8\"],[0.3333333333333333,\"#9c179e\"],[0.4444444444444444,\"#bd3786\"],[0.5555555555555556,\"#d8576b\"],[0.6666666666666666,\"#ed7953\"],[0.7777777777777778,\"#fb9f3a\"],[0.8888888888888888,\"#fdca26\"],[1.0,\"#f0f921\"]]}],\"mesh3d\":[{\"type\":\"mesh3d\",\"colorbar\":{\"outlinewidth\":0,\"ticks\":\"\"}}],\"scatter\":[{\"fillpattern\":{\"fillmode\":\"overlay\",\"size\":10,\"solidity\":0.2},\"type\":\"scatter\"}],\"parcoords\":[{\"type\":\"parcoords\",\"line\":{\"colorbar\":{\"outlinewidth\":0,\"ticks\":\"\"}}}],\"scatterpolargl\":[{\"type\":\"scatterpolargl\",\"marker\":{\"colorbar\":{\"outlinewidth\":0,\"ticks\":\"\"}}}],\"bar\":[{\"error_x\":{\"color\":\"#2a3f5f\"},\"error_y\":{\"color\":\"#2a3f5f\"},\"marker\":{\"line\":{\"color\":\"#E5ECF6\",\"width\":0.5},\"pattern\":{\"fillmode\":\"overlay\",\"size\":10,\"solidity\":0.2}},\"type\":\"bar\"}],\"scattergeo\":[{\"type\":\"scattergeo\",\"marker\":{\"colorbar\":{\"outlinewidth\":0,\"ticks\":\"\"}}}],\"scatterpolar\":[{\"type\":\"scatterpolar\",\"marker\":{\"colorbar\":{\"outlinewidth\":0,\"ticks\":\"\"}}}],\"histogram\":[{\"marker\":{\"pattern\":{\"fillmode\":\"overlay\",\"size\":10,\"solidity\":0.2}},\"type\":\"histogram\"}],\"scattergl\":[{\"type\":\"scattergl\",\"marker\":{\"colorbar\":{\"outlinewidth\":0,\"ticks\":\"\"}}}],\"scatter3d\":[{\"type\":\"scatter3d\",\"line\":{\"colorbar\":{\"outlinewidth\":0,\"ticks\":\"\"}},\"marker\":{\"colorbar\":{\"outlinewidth\":0,\"ticks\":\"\"}}}],\"scattermapbox\":[{\"type\":\"scattermapbox\",\"marker\":{\"colorbar\":{\"outlinewidth\":0,\"ticks\":\"\"}}}],\"scatterternary\":[{\"type\":\"scatterternary\",\"marker\":{\"colorbar\":{\"outlinewidth\":0,\"ticks\":\"\"}}}],\"scattercarpet\":[{\"type\":\"scattercarpet\",\"marker\":{\"colorbar\":{\"outlinewidth\":0,\"ticks\":\"\"}}}],\"carpet\":[{\"aaxis\":{\"endlinecolor\":\"#2a3f5f\",\"gridcolor\":\"white\",\"linecolor\":\"white\",\"minorgridcolor\":\"white\",\"startlinecolor\":\"#2a3f5f\"},\"baxis\":{\"endlinecolor\":\"#2a3f5f\",\"gridcolor\":\"white\",\"linecolor\":\"white\",\"minorgridcolor\":\"white\",\"startlinecolor\":\"#2a3f5f\"},\"type\":\"carpet\"}],\"table\":[{\"cells\":{\"fill\":{\"color\":\"#EBF0F8\"},\"line\":{\"color\":\"white\"}},\"header\":{\"fill\":{\"color\":\"#C8D4E3\"},\"line\":{\"color\":\"white\"}},\"type\":\"table\"}],\"barpolar\":[{\"marker\":{\"line\":{\"color\":\"#E5ECF6\",\"width\":0.5},\"pattern\":{\"fillmode\":\"overlay\",\"size\":10,\"solidity\":0.2}},\"type\":\"barpolar\"}],\"pie\":[{\"automargin\":true,\"type\":\"pie\"}]},\"layout\":{\"autotypenumbers\":\"strict\",\"colorway\":[\"#636efa\",\"#EF553B\",\"#00cc96\",\"#ab63fa\",\"#FFA15A\",\"#19d3f3\",\"#FF6692\",\"#B6E880\",\"#FF97FF\",\"#FECB52\"],\"font\":{\"color\":\"#2a3f5f\"},\"hovermode\":\"closest\",\"hoverlabel\":{\"align\":\"left\"},\"paper_bgcolor\":\"white\",\"plot_bgcolor\":\"#E5ECF6\",\"polar\":{\"bgcolor\":\"#E5ECF6\",\"angularaxis\":{\"gridcolor\":\"white\",\"linecolor\":\"white\",\"ticks\":\"\"},\"radialaxis\":{\"gridcolor\":\"white\",\"linecolor\":\"white\",\"ticks\":\"\"}},\"ternary\":{\"bgcolor\":\"#E5ECF6\",\"aaxis\":{\"gridcolor\":\"white\",\"linecolor\":\"white\",\"ticks\":\"\"},\"baxis\":{\"gridcolor\":\"white\",\"linecolor\":\"white\",\"ticks\":\"\"},\"caxis\":{\"gridcolor\":\"white\",\"linecolor\":\"white\",\"ticks\":\"\"}},\"coloraxis\":{\"colorbar\":{\"outlinewidth\":0,\"ticks\":\"\"}},\"colorscale\":{\"sequential\":[[0.0,\"#0d0887\"],[0.1111111111111111,\"#46039f\"],[0.2222222222222222,\"#7201a8\"],[0.3333333333333333,\"#9c179e\"],[0.4444444444444444,\"#bd3786\"],[0.5555555555555556,\"#d8576b\"],[0.6666666666666666,\"#ed7953\"],[0.7777777777777778,\"#fb9f3a\"],[0.8888888888888888,\"#fdca26\"],[1.0,\"#f0f921\"]],\"sequentialminus\":[[0.0,\"#0d0887\"],[0.1111111111111111,\"#46039f\"],[0.2222222222222222,\"#7201a8\"],[0.3333333333333333,\"#9c179e\"],[0.4444444444444444,\"#bd3786\"],[0.5555555555555556,\"#d8576b\"],[0.6666666666666666,\"#ed7953\"],[0.7777777777777778,\"#fb9f3a\"],[0.8888888888888888,\"#fdca26\"],[1.0,\"#f0f921\"]],\"diverging\":[[0,\"#8e0152\"],[0.1,\"#c51b7d\"],[0.2,\"#de77ae\"],[0.3,\"#f1b6da\"],[0.4,\"#fde0ef\"],[0.5,\"#f7f7f7\"],[0.6,\"#e6f5d0\"],[0.7,\"#b8e186\"],[0.8,\"#7fbc41\"],[0.9,\"#4d9221\"],[1,\"#276419\"]]},\"xaxis\":{\"gridcolor\":\"white\",\"linecolor\":\"white\",\"ticks\":\"\",\"title\":{\"standoff\":15},\"zerolinecolor\":\"white\",\"automargin\":true,\"zerolinewidth\":2},\"yaxis\":{\"gridcolor\":\"white\",\"linecolor\":\"white\",\"ticks\":\"\",\"title\":{\"standoff\":15},\"zerolinecolor\":\"white\",\"automargin\":true,\"zerolinewidth\":2},\"scene\":{\"xaxis\":{\"backgroundcolor\":\"#E5ECF6\",\"gridcolor\":\"white\",\"linecolor\":\"white\",\"showbackground\":true,\"ticks\":\"\",\"zerolinecolor\":\"white\",\"gridwidth\":2},\"yaxis\":{\"backgroundcolor\":\"#E5ECF6\",\"gridcolor\":\"white\",\"linecolor\":\"white\",\"showbackground\":true,\"ticks\":\"\",\"zerolinecolor\":\"white\",\"gridwidth\":2},\"zaxis\":{\"backgroundcolor\":\"#E5ECF6\",\"gridcolor\":\"white\",\"linecolor\":\"white\",\"showbackground\":true,\"ticks\":\"\",\"zerolinecolor\":\"white\",\"gridwidth\":2}},\"shapedefaults\":{\"line\":{\"color\":\"#2a3f5f\"}},\"annotationdefaults\":{\"arrowcolor\":\"#2a3f5f\",\"arrowhead\":0,\"arrowwidth\":1},\"geo\":{\"bgcolor\":\"white\",\"landcolor\":\"#E5ECF6\",\"subunitcolor\":\"white\",\"showland\":true,\"showlakes\":true,\"lakecolor\":\"white\"},\"title\":{\"x\":0.05},\"mapbox\":{\"style\":\"light\"}}},\"font\":{\"family\":\"Averta, sans-serif\"},\"hoverlabel\":{\"font\":{\"family\":\"Averta, sans-serif\",\"size\":16}},\"xaxis\":{\"title\":{\"font\":{\"size\":18},\"text\":\"Week\"},\"tickfont\":{\"size\":16}},\"yaxis\":{\"title\":{\"font\":{\"size\":18},\"text\":\"Passer Rating\"},\"tickfont\":{\"size\":16}},\"legend\":{\"font\":{\"size\":16}},\"height\":1000,\"width\":1000},                        {\"responsive\": true}                    ).then(function(){\n",
       "                            \n",
       "var gd = document.getElementById('f2291ce2-bb45-4f5a-8c5f-60c8686f2f99');\n",
       "var x = new MutationObserver(function (mutations, observer) {{\n",
       "        var display = window.getComputedStyle(gd).display;\n",
       "        if (!display || display === 'none') {{\n",
       "            console.log([gd, 'removed!']);\n",
       "            Plotly.purge(gd);\n",
       "            observer.disconnect();\n",
       "        }}\n",
       "}});\n",
       "\n",
       "// Listen for the removal of the full notebook cells\n",
       "var notebookContainer = gd.closest('#notebook-container');\n",
       "if (notebookContainer) {{\n",
       "    x.observe(notebookContainer, {childList: true});\n",
       "}}\n",
       "\n",
       "// Listen for the clearing of the current output cell\n",
       "var outputEl = gd.closest('.output');\n",
       "if (outputEl) {{\n",
       "    x.observe(outputEl, {childList: true});\n",
       "}}\n",
       "\n",
       "                        })                };                });            </script>        </div>"
      ]
     },
     "metadata": {},
     "output_type": "display_data"
    }
   ],
   "source": [
    "passerRatingPerWeek(dfPR)"
   ]
  },
  {
   "cell_type": "code",
   "execution_count": null,
   "id": "b1a82cb4",
   "metadata": {},
   "outputs": [],
   "source": [
    "#I don't want to judge anyone who might be able to read the above plot, but to me\n",
    "#...it looks more like art than science. \n",
    "\n",
    "#We do actually get a tiny bit of insight. \n",
    "#First, since Passer Rating isn't evaluated based on a minimum number of attempts, non QB passers can get\n",
    "#a perfect score, or zero, with just one play. In future iterations of this project, we should find a good mechanism\n",
    "#for either minimum number of passes, or only evaluate whoever threw the most passes per team per week. \n",
    "\n",
    "\n",
    "#Actually, lets just do that now, and while their might be injuries that don't full account for all legitimate targets\n",
    "#if patrick mahomes can throw 5000+ yards in a season, lets say everyone who threw for over 1,000 yards this season\n",
    "#counts as a Passer\n",
    "\n",
    "#Another moderate kerfuffle that we need to consider, at some point later on, for visualizations, are for\n",
    "#weird cases, like Baker Mayfield who started on one team and finished on another. \n",
    "\n",
    "#We'll make a function to evaluate the weekly performance of Passer Rating, that should be easier to look at"
   ]
  },
  {
   "cell_type": "code",
   "execution_count": 157,
   "id": "f0457703",
   "metadata": {},
   "outputs": [],
   "source": [
    "def weeklyPRIndiv(qb, df):\n",
    "    \n",
    "    pnamedframe = df[df[\"player_name\"] == qb]\n",
    "    \n",
    "    fig = go.Figure()\n",
    "\n",
    "    #for name, values in df.groupby(\"player_name\"):\n",
    "    for name, values in pnamedframe.groupby(\"player_name\"):\n",
    "        if values[\"passing_yards\"].sum() > 1000:\n",
    "            fig.add_trace(\n",
    "                go.Scatter(\n",
    "                    x=values[\"week\"],\n",
    "                    #y=values[\"passing_yards\"].cumsum(),\n",
    "                    y=values[\"passer_rating\"],\n",
    "                    name=name,\n",
    "                    mode=\"markers+lines\",\n",
    "                    line_color=values.iloc[0].team_color,\n",
    "                    hovertemplate=f\"<b>{name}</b><br>%{{y}} Passer Rating on week %{{x}}<extra></extra>\"\n",
    "                )\n",
    "            )\n",
    "\n",
    "        \n",
    "    fig.update_layout(\n",
    "        font_family=\"Averta, sans-serif\",\n",
    "        hoverlabel_font_family=\"Averta, sans-serif\",\n",
    "        xaxis_title_text=\"Week\",\n",
    "        xaxis_title_font_size=18,\n",
    "        xaxis_tickfont_size=16,\n",
    "        yaxis_title_text=\"Passer Rating\",\n",
    "        yaxis_title_font_size=18,\n",
    "        yaxis_tickfont_size=16,\n",
    "        hoverlabel_font_size=16,\n",
    "        legend_font_size=16,\n",
    "        height=1000,\n",
    "        width=1000\n",
    "    )\n",
    "\n",
    "    fig.show()"
   ]
  },
  {
   "cell_type": "code",
   "execution_count": 161,
   "id": "5e455a08",
   "metadata": {},
   "outputs": [
    {
     "data": {
      "application/vnd.plotly.v1+json": {
       "config": {
        "plotlyServerURL": "https://plot.ly"
       },
       "data": [
        {
         "hovertemplate": "<b>Patrick Mahomes</b><br>%{y} Passer Rating on week %{x}<extra></extra>",
         "line": {
          "color": "#E31837"
         },
         "mode": "markers+lines",
         "name": "Patrick Mahomes",
         "type": "scatter",
         "x": [
          1,
          2,
          3,
          4,
          5,
          6,
          7,
          9,
          10,
          11,
          12,
          13,
          14,
          15,
          16,
          17,
          18
         ],
         "y": [
          144.2,
          103.4,
          76.4,
          90.5,
          110.1,
          79.4,
          128.6,
          76.5,
          129.6,
          117.4,
          85.4,
          91.6,
          82.8,
          114.7,
          103.2,
          106.1,
          97.6
         ]
        }
       ],
       "layout": {
        "font": {
         "family": "Averta, sans-serif"
        },
        "height": 1000,
        "hoverlabel": {
         "font": {
          "family": "Averta, sans-serif",
          "size": 16
         }
        },
        "legend": {
         "font": {
          "size": 16
         }
        },
        "template": {
         "data": {
          "bar": [
           {
            "error_x": {
             "color": "#2a3f5f"
            },
            "error_y": {
             "color": "#2a3f5f"
            },
            "marker": {
             "line": {
              "color": "#E5ECF6",
              "width": 0.5
             },
             "pattern": {
              "fillmode": "overlay",
              "size": 10,
              "solidity": 0.2
             }
            },
            "type": "bar"
           }
          ],
          "barpolar": [
           {
            "marker": {
             "line": {
              "color": "#E5ECF6",
              "width": 0.5
             },
             "pattern": {
              "fillmode": "overlay",
              "size": 10,
              "solidity": 0.2
             }
            },
            "type": "barpolar"
           }
          ],
          "carpet": [
           {
            "aaxis": {
             "endlinecolor": "#2a3f5f",
             "gridcolor": "white",
             "linecolor": "white",
             "minorgridcolor": "white",
             "startlinecolor": "#2a3f5f"
            },
            "baxis": {
             "endlinecolor": "#2a3f5f",
             "gridcolor": "white",
             "linecolor": "white",
             "minorgridcolor": "white",
             "startlinecolor": "#2a3f5f"
            },
            "type": "carpet"
           }
          ],
          "choropleth": [
           {
            "colorbar": {
             "outlinewidth": 0,
             "ticks": ""
            },
            "type": "choropleth"
           }
          ],
          "contour": [
           {
            "colorbar": {
             "outlinewidth": 0,
             "ticks": ""
            },
            "colorscale": [
             [
              0,
              "#0d0887"
             ],
             [
              0.1111111111111111,
              "#46039f"
             ],
             [
              0.2222222222222222,
              "#7201a8"
             ],
             [
              0.3333333333333333,
              "#9c179e"
             ],
             [
              0.4444444444444444,
              "#bd3786"
             ],
             [
              0.5555555555555556,
              "#d8576b"
             ],
             [
              0.6666666666666666,
              "#ed7953"
             ],
             [
              0.7777777777777778,
              "#fb9f3a"
             ],
             [
              0.8888888888888888,
              "#fdca26"
             ],
             [
              1,
              "#f0f921"
             ]
            ],
            "type": "contour"
           }
          ],
          "contourcarpet": [
           {
            "colorbar": {
             "outlinewidth": 0,
             "ticks": ""
            },
            "type": "contourcarpet"
           }
          ],
          "heatmap": [
           {
            "colorbar": {
             "outlinewidth": 0,
             "ticks": ""
            },
            "colorscale": [
             [
              0,
              "#0d0887"
             ],
             [
              0.1111111111111111,
              "#46039f"
             ],
             [
              0.2222222222222222,
              "#7201a8"
             ],
             [
              0.3333333333333333,
              "#9c179e"
             ],
             [
              0.4444444444444444,
              "#bd3786"
             ],
             [
              0.5555555555555556,
              "#d8576b"
             ],
             [
              0.6666666666666666,
              "#ed7953"
             ],
             [
              0.7777777777777778,
              "#fb9f3a"
             ],
             [
              0.8888888888888888,
              "#fdca26"
             ],
             [
              1,
              "#f0f921"
             ]
            ],
            "type": "heatmap"
           }
          ],
          "heatmapgl": [
           {
            "colorbar": {
             "outlinewidth": 0,
             "ticks": ""
            },
            "colorscale": [
             [
              0,
              "#0d0887"
             ],
             [
              0.1111111111111111,
              "#46039f"
             ],
             [
              0.2222222222222222,
              "#7201a8"
             ],
             [
              0.3333333333333333,
              "#9c179e"
             ],
             [
              0.4444444444444444,
              "#bd3786"
             ],
             [
              0.5555555555555556,
              "#d8576b"
             ],
             [
              0.6666666666666666,
              "#ed7953"
             ],
             [
              0.7777777777777778,
              "#fb9f3a"
             ],
             [
              0.8888888888888888,
              "#fdca26"
             ],
             [
              1,
              "#f0f921"
             ]
            ],
            "type": "heatmapgl"
           }
          ],
          "histogram": [
           {
            "marker": {
             "pattern": {
              "fillmode": "overlay",
              "size": 10,
              "solidity": 0.2
             }
            },
            "type": "histogram"
           }
          ],
          "histogram2d": [
           {
            "colorbar": {
             "outlinewidth": 0,
             "ticks": ""
            },
            "colorscale": [
             [
              0,
              "#0d0887"
             ],
             [
              0.1111111111111111,
              "#46039f"
             ],
             [
              0.2222222222222222,
              "#7201a8"
             ],
             [
              0.3333333333333333,
              "#9c179e"
             ],
             [
              0.4444444444444444,
              "#bd3786"
             ],
             [
              0.5555555555555556,
              "#d8576b"
             ],
             [
              0.6666666666666666,
              "#ed7953"
             ],
             [
              0.7777777777777778,
              "#fb9f3a"
             ],
             [
              0.8888888888888888,
              "#fdca26"
             ],
             [
              1,
              "#f0f921"
             ]
            ],
            "type": "histogram2d"
           }
          ],
          "histogram2dcontour": [
           {
            "colorbar": {
             "outlinewidth": 0,
             "ticks": ""
            },
            "colorscale": [
             [
              0,
              "#0d0887"
             ],
             [
              0.1111111111111111,
              "#46039f"
             ],
             [
              0.2222222222222222,
              "#7201a8"
             ],
             [
              0.3333333333333333,
              "#9c179e"
             ],
             [
              0.4444444444444444,
              "#bd3786"
             ],
             [
              0.5555555555555556,
              "#d8576b"
             ],
             [
              0.6666666666666666,
              "#ed7953"
             ],
             [
              0.7777777777777778,
              "#fb9f3a"
             ],
             [
              0.8888888888888888,
              "#fdca26"
             ],
             [
              1,
              "#f0f921"
             ]
            ],
            "type": "histogram2dcontour"
           }
          ],
          "mesh3d": [
           {
            "colorbar": {
             "outlinewidth": 0,
             "ticks": ""
            },
            "type": "mesh3d"
           }
          ],
          "parcoords": [
           {
            "line": {
             "colorbar": {
              "outlinewidth": 0,
              "ticks": ""
             }
            },
            "type": "parcoords"
           }
          ],
          "pie": [
           {
            "automargin": true,
            "type": "pie"
           }
          ],
          "scatter": [
           {
            "fillpattern": {
             "fillmode": "overlay",
             "size": 10,
             "solidity": 0.2
            },
            "type": "scatter"
           }
          ],
          "scatter3d": [
           {
            "line": {
             "colorbar": {
              "outlinewidth": 0,
              "ticks": ""
             }
            },
            "marker": {
             "colorbar": {
              "outlinewidth": 0,
              "ticks": ""
             }
            },
            "type": "scatter3d"
           }
          ],
          "scattercarpet": [
           {
            "marker": {
             "colorbar": {
              "outlinewidth": 0,
              "ticks": ""
             }
            },
            "type": "scattercarpet"
           }
          ],
          "scattergeo": [
           {
            "marker": {
             "colorbar": {
              "outlinewidth": 0,
              "ticks": ""
             }
            },
            "type": "scattergeo"
           }
          ],
          "scattergl": [
           {
            "marker": {
             "colorbar": {
              "outlinewidth": 0,
              "ticks": ""
             }
            },
            "type": "scattergl"
           }
          ],
          "scattermapbox": [
           {
            "marker": {
             "colorbar": {
              "outlinewidth": 0,
              "ticks": ""
             }
            },
            "type": "scattermapbox"
           }
          ],
          "scatterpolar": [
           {
            "marker": {
             "colorbar": {
              "outlinewidth": 0,
              "ticks": ""
             }
            },
            "type": "scatterpolar"
           }
          ],
          "scatterpolargl": [
           {
            "marker": {
             "colorbar": {
              "outlinewidth": 0,
              "ticks": ""
             }
            },
            "type": "scatterpolargl"
           }
          ],
          "scatterternary": [
           {
            "marker": {
             "colorbar": {
              "outlinewidth": 0,
              "ticks": ""
             }
            },
            "type": "scatterternary"
           }
          ],
          "surface": [
           {
            "colorbar": {
             "outlinewidth": 0,
             "ticks": ""
            },
            "colorscale": [
             [
              0,
              "#0d0887"
             ],
             [
              0.1111111111111111,
              "#46039f"
             ],
             [
              0.2222222222222222,
              "#7201a8"
             ],
             [
              0.3333333333333333,
              "#9c179e"
             ],
             [
              0.4444444444444444,
              "#bd3786"
             ],
             [
              0.5555555555555556,
              "#d8576b"
             ],
             [
              0.6666666666666666,
              "#ed7953"
             ],
             [
              0.7777777777777778,
              "#fb9f3a"
             ],
             [
              0.8888888888888888,
              "#fdca26"
             ],
             [
              1,
              "#f0f921"
             ]
            ],
            "type": "surface"
           }
          ],
          "table": [
           {
            "cells": {
             "fill": {
              "color": "#EBF0F8"
             },
             "line": {
              "color": "white"
             }
            },
            "header": {
             "fill": {
              "color": "#C8D4E3"
             },
             "line": {
              "color": "white"
             }
            },
            "type": "table"
           }
          ]
         },
         "layout": {
          "annotationdefaults": {
           "arrowcolor": "#2a3f5f",
           "arrowhead": 0,
           "arrowwidth": 1
          },
          "autotypenumbers": "strict",
          "coloraxis": {
           "colorbar": {
            "outlinewidth": 0,
            "ticks": ""
           }
          },
          "colorscale": {
           "diverging": [
            [
             0,
             "#8e0152"
            ],
            [
             0.1,
             "#c51b7d"
            ],
            [
             0.2,
             "#de77ae"
            ],
            [
             0.3,
             "#f1b6da"
            ],
            [
             0.4,
             "#fde0ef"
            ],
            [
             0.5,
             "#f7f7f7"
            ],
            [
             0.6,
             "#e6f5d0"
            ],
            [
             0.7,
             "#b8e186"
            ],
            [
             0.8,
             "#7fbc41"
            ],
            [
             0.9,
             "#4d9221"
            ],
            [
             1,
             "#276419"
            ]
           ],
           "sequential": [
            [
             0,
             "#0d0887"
            ],
            [
             0.1111111111111111,
             "#46039f"
            ],
            [
             0.2222222222222222,
             "#7201a8"
            ],
            [
             0.3333333333333333,
             "#9c179e"
            ],
            [
             0.4444444444444444,
             "#bd3786"
            ],
            [
             0.5555555555555556,
             "#d8576b"
            ],
            [
             0.6666666666666666,
             "#ed7953"
            ],
            [
             0.7777777777777778,
             "#fb9f3a"
            ],
            [
             0.8888888888888888,
             "#fdca26"
            ],
            [
             1,
             "#f0f921"
            ]
           ],
           "sequentialminus": [
            [
             0,
             "#0d0887"
            ],
            [
             0.1111111111111111,
             "#46039f"
            ],
            [
             0.2222222222222222,
             "#7201a8"
            ],
            [
             0.3333333333333333,
             "#9c179e"
            ],
            [
             0.4444444444444444,
             "#bd3786"
            ],
            [
             0.5555555555555556,
             "#d8576b"
            ],
            [
             0.6666666666666666,
             "#ed7953"
            ],
            [
             0.7777777777777778,
             "#fb9f3a"
            ],
            [
             0.8888888888888888,
             "#fdca26"
            ],
            [
             1,
             "#f0f921"
            ]
           ]
          },
          "colorway": [
           "#636efa",
           "#EF553B",
           "#00cc96",
           "#ab63fa",
           "#FFA15A",
           "#19d3f3",
           "#FF6692",
           "#B6E880",
           "#FF97FF",
           "#FECB52"
          ],
          "font": {
           "color": "#2a3f5f"
          },
          "geo": {
           "bgcolor": "white",
           "lakecolor": "white",
           "landcolor": "#E5ECF6",
           "showlakes": true,
           "showland": true,
           "subunitcolor": "white"
          },
          "hoverlabel": {
           "align": "left"
          },
          "hovermode": "closest",
          "mapbox": {
           "style": "light"
          },
          "paper_bgcolor": "white",
          "plot_bgcolor": "#E5ECF6",
          "polar": {
           "angularaxis": {
            "gridcolor": "white",
            "linecolor": "white",
            "ticks": ""
           },
           "bgcolor": "#E5ECF6",
           "radialaxis": {
            "gridcolor": "white",
            "linecolor": "white",
            "ticks": ""
           }
          },
          "scene": {
           "xaxis": {
            "backgroundcolor": "#E5ECF6",
            "gridcolor": "white",
            "gridwidth": 2,
            "linecolor": "white",
            "showbackground": true,
            "ticks": "",
            "zerolinecolor": "white"
           },
           "yaxis": {
            "backgroundcolor": "#E5ECF6",
            "gridcolor": "white",
            "gridwidth": 2,
            "linecolor": "white",
            "showbackground": true,
            "ticks": "",
            "zerolinecolor": "white"
           },
           "zaxis": {
            "backgroundcolor": "#E5ECF6",
            "gridcolor": "white",
            "gridwidth": 2,
            "linecolor": "white",
            "showbackground": true,
            "ticks": "",
            "zerolinecolor": "white"
           }
          },
          "shapedefaults": {
           "line": {
            "color": "#2a3f5f"
           }
          },
          "ternary": {
           "aaxis": {
            "gridcolor": "white",
            "linecolor": "white",
            "ticks": ""
           },
           "baxis": {
            "gridcolor": "white",
            "linecolor": "white",
            "ticks": ""
           },
           "bgcolor": "#E5ECF6",
           "caxis": {
            "gridcolor": "white",
            "linecolor": "white",
            "ticks": ""
           }
          },
          "title": {
           "x": 0.05
          },
          "xaxis": {
           "automargin": true,
           "gridcolor": "white",
           "linecolor": "white",
           "ticks": "",
           "title": {
            "standoff": 15
           },
           "zerolinecolor": "white",
           "zerolinewidth": 2
          },
          "yaxis": {
           "automargin": true,
           "gridcolor": "white",
           "linecolor": "white",
           "ticks": "",
           "title": {
            "standoff": 15
           },
           "zerolinecolor": "white",
           "zerolinewidth": 2
          }
         }
        },
        "width": 1000,
        "xaxis": {
         "tickfont": {
          "size": 16
         },
         "title": {
          "font": {
           "size": 18
          },
          "text": "Week"
         }
        },
        "yaxis": {
         "tickfont": {
          "size": 16
         },
         "title": {
          "font": {
           "size": 18
          },
          "text": "Passer Rating"
         }
        }
       }
      },
      "text/html": [
       "<div>                            <div id=\"766c3934-292e-404c-9fee-4736b1e86f08\" class=\"plotly-graph-div\" style=\"height:1000px; width:1000px;\"></div>            <script type=\"text/javascript\">                require([\"plotly\"], function(Plotly) {                    window.PLOTLYENV=window.PLOTLYENV || {};                                    if (document.getElementById(\"766c3934-292e-404c-9fee-4736b1e86f08\")) {                    Plotly.newPlot(                        \"766c3934-292e-404c-9fee-4736b1e86f08\",                        [{\"hovertemplate\":\"<b>Patrick Mahomes</b><br>%{y} Passer Rating on week %{x}<extra></extra>\",\"line\":{\"color\":\"#E31837\"},\"mode\":\"markers+lines\",\"name\":\"Patrick Mahomes\",\"x\":[1,2,3,4,5,6,7,9,10,11,12,13,14,15,16,17,18],\"y\":[144.2,103.4,76.4,90.5,110.1,79.4,128.6,76.5,129.6,117.4,85.4,91.6,82.8,114.7,103.2,106.1,97.6],\"type\":\"scatter\"}],                        {\"template\":{\"data\":{\"histogram2dcontour\":[{\"type\":\"histogram2dcontour\",\"colorbar\":{\"outlinewidth\":0,\"ticks\":\"\"},\"colorscale\":[[0.0,\"#0d0887\"],[0.1111111111111111,\"#46039f\"],[0.2222222222222222,\"#7201a8\"],[0.3333333333333333,\"#9c179e\"],[0.4444444444444444,\"#bd3786\"],[0.5555555555555556,\"#d8576b\"],[0.6666666666666666,\"#ed7953\"],[0.7777777777777778,\"#fb9f3a\"],[0.8888888888888888,\"#fdca26\"],[1.0,\"#f0f921\"]]}],\"choropleth\":[{\"type\":\"choropleth\",\"colorbar\":{\"outlinewidth\":0,\"ticks\":\"\"}}],\"histogram2d\":[{\"type\":\"histogram2d\",\"colorbar\":{\"outlinewidth\":0,\"ticks\":\"\"},\"colorscale\":[[0.0,\"#0d0887\"],[0.1111111111111111,\"#46039f\"],[0.2222222222222222,\"#7201a8\"],[0.3333333333333333,\"#9c179e\"],[0.4444444444444444,\"#bd3786\"],[0.5555555555555556,\"#d8576b\"],[0.6666666666666666,\"#ed7953\"],[0.7777777777777778,\"#fb9f3a\"],[0.8888888888888888,\"#fdca26\"],[1.0,\"#f0f921\"]]}],\"heatmap\":[{\"type\":\"heatmap\",\"colorbar\":{\"outlinewidth\":0,\"ticks\":\"\"},\"colorscale\":[[0.0,\"#0d0887\"],[0.1111111111111111,\"#46039f\"],[0.2222222222222222,\"#7201a8\"],[0.3333333333333333,\"#9c179e\"],[0.4444444444444444,\"#bd3786\"],[0.5555555555555556,\"#d8576b\"],[0.6666666666666666,\"#ed7953\"],[0.7777777777777778,\"#fb9f3a\"],[0.8888888888888888,\"#fdca26\"],[1.0,\"#f0f921\"]]}],\"heatmapgl\":[{\"type\":\"heatmapgl\",\"colorbar\":{\"outlinewidth\":0,\"ticks\":\"\"},\"colorscale\":[[0.0,\"#0d0887\"],[0.1111111111111111,\"#46039f\"],[0.2222222222222222,\"#7201a8\"],[0.3333333333333333,\"#9c179e\"],[0.4444444444444444,\"#bd3786\"],[0.5555555555555556,\"#d8576b\"],[0.6666666666666666,\"#ed7953\"],[0.7777777777777778,\"#fb9f3a\"],[0.8888888888888888,\"#fdca26\"],[1.0,\"#f0f921\"]]}],\"contourcarpet\":[{\"type\":\"contourcarpet\",\"colorbar\":{\"outlinewidth\":0,\"ticks\":\"\"}}],\"contour\":[{\"type\":\"contour\",\"colorbar\":{\"outlinewidth\":0,\"ticks\":\"\"},\"colorscale\":[[0.0,\"#0d0887\"],[0.1111111111111111,\"#46039f\"],[0.2222222222222222,\"#7201a8\"],[0.3333333333333333,\"#9c179e\"],[0.4444444444444444,\"#bd3786\"],[0.5555555555555556,\"#d8576b\"],[0.6666666666666666,\"#ed7953\"],[0.7777777777777778,\"#fb9f3a\"],[0.8888888888888888,\"#fdca26\"],[1.0,\"#f0f921\"]]}],\"surface\":[{\"type\":\"surface\",\"colorbar\":{\"outlinewidth\":0,\"ticks\":\"\"},\"colorscale\":[[0.0,\"#0d0887\"],[0.1111111111111111,\"#46039f\"],[0.2222222222222222,\"#7201a8\"],[0.3333333333333333,\"#9c179e\"],[0.4444444444444444,\"#bd3786\"],[0.5555555555555556,\"#d8576b\"],[0.6666666666666666,\"#ed7953\"],[0.7777777777777778,\"#fb9f3a\"],[0.8888888888888888,\"#fdca26\"],[1.0,\"#f0f921\"]]}],\"mesh3d\":[{\"type\":\"mesh3d\",\"colorbar\":{\"outlinewidth\":0,\"ticks\":\"\"}}],\"scatter\":[{\"fillpattern\":{\"fillmode\":\"overlay\",\"size\":10,\"solidity\":0.2},\"type\":\"scatter\"}],\"parcoords\":[{\"type\":\"parcoords\",\"line\":{\"colorbar\":{\"outlinewidth\":0,\"ticks\":\"\"}}}],\"scatterpolargl\":[{\"type\":\"scatterpolargl\",\"marker\":{\"colorbar\":{\"outlinewidth\":0,\"ticks\":\"\"}}}],\"bar\":[{\"error_x\":{\"color\":\"#2a3f5f\"},\"error_y\":{\"color\":\"#2a3f5f\"},\"marker\":{\"line\":{\"color\":\"#E5ECF6\",\"width\":0.5},\"pattern\":{\"fillmode\":\"overlay\",\"size\":10,\"solidity\":0.2}},\"type\":\"bar\"}],\"scattergeo\":[{\"type\":\"scattergeo\",\"marker\":{\"colorbar\":{\"outlinewidth\":0,\"ticks\":\"\"}}}],\"scatterpolar\":[{\"type\":\"scatterpolar\",\"marker\":{\"colorbar\":{\"outlinewidth\":0,\"ticks\":\"\"}}}],\"histogram\":[{\"marker\":{\"pattern\":{\"fillmode\":\"overlay\",\"size\":10,\"solidity\":0.2}},\"type\":\"histogram\"}],\"scattergl\":[{\"type\":\"scattergl\",\"marker\":{\"colorbar\":{\"outlinewidth\":0,\"ticks\":\"\"}}}],\"scatter3d\":[{\"type\":\"scatter3d\",\"line\":{\"colorbar\":{\"outlinewidth\":0,\"ticks\":\"\"}},\"marker\":{\"colorbar\":{\"outlinewidth\":0,\"ticks\":\"\"}}}],\"scattermapbox\":[{\"type\":\"scattermapbox\",\"marker\":{\"colorbar\":{\"outlinewidth\":0,\"ticks\":\"\"}}}],\"scatterternary\":[{\"type\":\"scatterternary\",\"marker\":{\"colorbar\":{\"outlinewidth\":0,\"ticks\":\"\"}}}],\"scattercarpet\":[{\"type\":\"scattercarpet\",\"marker\":{\"colorbar\":{\"outlinewidth\":0,\"ticks\":\"\"}}}],\"carpet\":[{\"aaxis\":{\"endlinecolor\":\"#2a3f5f\",\"gridcolor\":\"white\",\"linecolor\":\"white\",\"minorgridcolor\":\"white\",\"startlinecolor\":\"#2a3f5f\"},\"baxis\":{\"endlinecolor\":\"#2a3f5f\",\"gridcolor\":\"white\",\"linecolor\":\"white\",\"minorgridcolor\":\"white\",\"startlinecolor\":\"#2a3f5f\"},\"type\":\"carpet\"}],\"table\":[{\"cells\":{\"fill\":{\"color\":\"#EBF0F8\"},\"line\":{\"color\":\"white\"}},\"header\":{\"fill\":{\"color\":\"#C8D4E3\"},\"line\":{\"color\":\"white\"}},\"type\":\"table\"}],\"barpolar\":[{\"marker\":{\"line\":{\"color\":\"#E5ECF6\",\"width\":0.5},\"pattern\":{\"fillmode\":\"overlay\",\"size\":10,\"solidity\":0.2}},\"type\":\"barpolar\"}],\"pie\":[{\"automargin\":true,\"type\":\"pie\"}]},\"layout\":{\"autotypenumbers\":\"strict\",\"colorway\":[\"#636efa\",\"#EF553B\",\"#00cc96\",\"#ab63fa\",\"#FFA15A\",\"#19d3f3\",\"#FF6692\",\"#B6E880\",\"#FF97FF\",\"#FECB52\"],\"font\":{\"color\":\"#2a3f5f\"},\"hovermode\":\"closest\",\"hoverlabel\":{\"align\":\"left\"},\"paper_bgcolor\":\"white\",\"plot_bgcolor\":\"#E5ECF6\",\"polar\":{\"bgcolor\":\"#E5ECF6\",\"angularaxis\":{\"gridcolor\":\"white\",\"linecolor\":\"white\",\"ticks\":\"\"},\"radialaxis\":{\"gridcolor\":\"white\",\"linecolor\":\"white\",\"ticks\":\"\"}},\"ternary\":{\"bgcolor\":\"#E5ECF6\",\"aaxis\":{\"gridcolor\":\"white\",\"linecolor\":\"white\",\"ticks\":\"\"},\"baxis\":{\"gridcolor\":\"white\",\"linecolor\":\"white\",\"ticks\":\"\"},\"caxis\":{\"gridcolor\":\"white\",\"linecolor\":\"white\",\"ticks\":\"\"}},\"coloraxis\":{\"colorbar\":{\"outlinewidth\":0,\"ticks\":\"\"}},\"colorscale\":{\"sequential\":[[0.0,\"#0d0887\"],[0.1111111111111111,\"#46039f\"],[0.2222222222222222,\"#7201a8\"],[0.3333333333333333,\"#9c179e\"],[0.4444444444444444,\"#bd3786\"],[0.5555555555555556,\"#d8576b\"],[0.6666666666666666,\"#ed7953\"],[0.7777777777777778,\"#fb9f3a\"],[0.8888888888888888,\"#fdca26\"],[1.0,\"#f0f921\"]],\"sequentialminus\":[[0.0,\"#0d0887\"],[0.1111111111111111,\"#46039f\"],[0.2222222222222222,\"#7201a8\"],[0.3333333333333333,\"#9c179e\"],[0.4444444444444444,\"#bd3786\"],[0.5555555555555556,\"#d8576b\"],[0.6666666666666666,\"#ed7953\"],[0.7777777777777778,\"#fb9f3a\"],[0.8888888888888888,\"#fdca26\"],[1.0,\"#f0f921\"]],\"diverging\":[[0,\"#8e0152\"],[0.1,\"#c51b7d\"],[0.2,\"#de77ae\"],[0.3,\"#f1b6da\"],[0.4,\"#fde0ef\"],[0.5,\"#f7f7f7\"],[0.6,\"#e6f5d0\"],[0.7,\"#b8e186\"],[0.8,\"#7fbc41\"],[0.9,\"#4d9221\"],[1,\"#276419\"]]},\"xaxis\":{\"gridcolor\":\"white\",\"linecolor\":\"white\",\"ticks\":\"\",\"title\":{\"standoff\":15},\"zerolinecolor\":\"white\",\"automargin\":true,\"zerolinewidth\":2},\"yaxis\":{\"gridcolor\":\"white\",\"linecolor\":\"white\",\"ticks\":\"\",\"title\":{\"standoff\":15},\"zerolinecolor\":\"white\",\"automargin\":true,\"zerolinewidth\":2},\"scene\":{\"xaxis\":{\"backgroundcolor\":\"#E5ECF6\",\"gridcolor\":\"white\",\"linecolor\":\"white\",\"showbackground\":true,\"ticks\":\"\",\"zerolinecolor\":\"white\",\"gridwidth\":2},\"yaxis\":{\"backgroundcolor\":\"#E5ECF6\",\"gridcolor\":\"white\",\"linecolor\":\"white\",\"showbackground\":true,\"ticks\":\"\",\"zerolinecolor\":\"white\",\"gridwidth\":2},\"zaxis\":{\"backgroundcolor\":\"#E5ECF6\",\"gridcolor\":\"white\",\"linecolor\":\"white\",\"showbackground\":true,\"ticks\":\"\",\"zerolinecolor\":\"white\",\"gridwidth\":2}},\"shapedefaults\":{\"line\":{\"color\":\"#2a3f5f\"}},\"annotationdefaults\":{\"arrowcolor\":\"#2a3f5f\",\"arrowhead\":0,\"arrowwidth\":1},\"geo\":{\"bgcolor\":\"white\",\"landcolor\":\"#E5ECF6\",\"subunitcolor\":\"white\",\"showland\":true,\"showlakes\":true,\"lakecolor\":\"white\"},\"title\":{\"x\":0.05},\"mapbox\":{\"style\":\"light\"}}},\"font\":{\"family\":\"Averta, sans-serif\"},\"hoverlabel\":{\"font\":{\"family\":\"Averta, sans-serif\",\"size\":16}},\"xaxis\":{\"title\":{\"font\":{\"size\":18},\"text\":\"Week\"},\"tickfont\":{\"size\":16}},\"yaxis\":{\"title\":{\"font\":{\"size\":18},\"text\":\"Passer Rating\"},\"tickfont\":{\"size\":16}},\"legend\":{\"font\":{\"size\":16}},\"height\":1000,\"width\":1000},                        {\"responsive\": true}                    ).then(function(){\n",
       "                            \n",
       "var gd = document.getElementById('766c3934-292e-404c-9fee-4736b1e86f08');\n",
       "var x = new MutationObserver(function (mutations, observer) {{\n",
       "        var display = window.getComputedStyle(gd).display;\n",
       "        if (!display || display === 'none') {{\n",
       "            console.log([gd, 'removed!']);\n",
       "            Plotly.purge(gd);\n",
       "            observer.disconnect();\n",
       "        }}\n",
       "}});\n",
       "\n",
       "// Listen for the removal of the full notebook cells\n",
       "var notebookContainer = gd.closest('#notebook-container');\n",
       "if (notebookContainer) {{\n",
       "    x.observe(notebookContainer, {childList: true});\n",
       "}}\n",
       "\n",
       "// Listen for the clearing of the current output cell\n",
       "var outputEl = gd.closest('.output');\n",
       "if (outputEl) {{\n",
       "    x.observe(outputEl, {childList: true});\n",
       "}}\n",
       "\n",
       "                        })                };                });            </script>        </div>"
      ]
     },
     "metadata": {},
     "output_type": "display_data"
    }
   ],
   "source": [
    "weeklyPRIndiv(\"Patrick Mahomes\", dfPR)"
   ]
  },
  {
   "cell_type": "code",
   "execution_count": null,
   "id": "0151fe9d",
   "metadata": {},
   "outputs": [],
   "source": [
    "#Our next steps are \n",
    "#Modify the dataframe such that there is one QB per team per week (based on whoever had the most attempts)\n",
    "#Add a column for which team was played against (which will also be useful later on for defensive analysis)\n",
    "#Add a column for the passer rating differential (difference between qb from the element and qb from the opposition)"
   ]
  },
  {
   "cell_type": "code",
   "execution_count": 165,
   "id": "e2430e76",
   "metadata": {},
   "outputs": [],
   "source": [
    "#There should be 272 games in the regular season. There's 18 weeks, and every team gets a bye week\n",
    "#I'm not actually sure on the spelling of bye week, but that's not important for now\n",
    "#32 teams * 17 = 544. Obviously teams play againstn each other, which is 272\n",
    "#but we're looking for 1 passer per team per game per week, so the final amount of elements should be 544\n",
    "\n",
    "\n",
    "#Lets try grouping by player name, team abbr\n",
    "\n",
    "dfQBs = (dfPR.groupby([\"player_name\", \"team_abbr\"], as_index=False).agg({\"passing_yards\": \"sum\"}))\n",
    "\n",
    "\n",
    "\n"
   ]
  },
  {
   "cell_type": "code",
   "execution_count": 169,
   "id": "ecc8d1a9",
   "metadata": {},
   "outputs": [
    {
     "data": {
      "text/html": [
       "<div>\n",
       "<style scoped>\n",
       "    .dataframe tbody tr th:only-of-type {\n",
       "        vertical-align: middle;\n",
       "    }\n",
       "\n",
       "    .dataframe tbody tr th {\n",
       "        vertical-align: top;\n",
       "    }\n",
       "\n",
       "    .dataframe thead th {\n",
       "        text-align: right;\n",
       "    }\n",
       "</style>\n",
       "<table border=\"1\" class=\"dataframe\">\n",
       "  <thead>\n",
       "    <tr style=\"text-align: right;\">\n",
       "      <th></th>\n",
       "      <th>player_name</th>\n",
       "      <th>team_abbr</th>\n",
       "      <th>passing_yards</th>\n",
       "    </tr>\n",
       "  </thead>\n",
       "  <tbody>\n",
       "    <tr>\n",
       "      <th>86</th>\n",
       "      <td>Patrick Mahomes</td>\n",
       "      <td>KC</td>\n",
       "      <td>5250.0</td>\n",
       "    </tr>\n",
       "    <tr>\n",
       "      <th>63</th>\n",
       "      <td>Justin Herbert</td>\n",
       "      <td>LAC</td>\n",
       "      <td>4739.0</td>\n",
       "    </tr>\n",
       "    <tr>\n",
       "      <th>102</th>\n",
       "      <td>Tom Brady</td>\n",
       "      <td>TB</td>\n",
       "      <td>4694.0</td>\n",
       "    </tr>\n",
       "    <tr>\n",
       "      <th>66</th>\n",
       "      <td>Kirk Cousins</td>\n",
       "      <td>MIN</td>\n",
       "      <td>4547.0</td>\n",
       "    </tr>\n",
       "    <tr>\n",
       "      <th>55</th>\n",
       "      <td>Joe Burrow</td>\n",
       "      <td>CIN</td>\n",
       "      <td>4475.0</td>\n",
       "    </tr>\n",
       "    <tr>\n",
       "      <th>...</th>\n",
       "      <td>...</td>\n",
       "      <td>...</td>\n",
       "      <td>...</td>\n",
       "    </tr>\n",
       "    <tr>\n",
       "      <th>27</th>\n",
       "      <td>Cooper Kupp</td>\n",
       "      <td>LA</td>\n",
       "      <td>0.0</td>\n",
       "    </tr>\n",
       "    <tr>\n",
       "      <th>42</th>\n",
       "      <td>Garrett Wilson</td>\n",
       "      <td>NYJ</td>\n",
       "      <td>0.0</td>\n",
       "    </tr>\n",
       "    <tr>\n",
       "      <th>36</th>\n",
       "      <td>DeeJay Dallas</td>\n",
       "      <td>SEA</td>\n",
       "      <td>0.0</td>\n",
       "    </tr>\n",
       "    <tr>\n",
       "      <th>30</th>\n",
       "      <td>Dalvin Cook</td>\n",
       "      <td>MIN</td>\n",
       "      <td>0.0</td>\n",
       "    </tr>\n",
       "    <tr>\n",
       "      <th>72</th>\n",
       "      <td>Leonard Fournette</td>\n",
       "      <td>TB</td>\n",
       "      <td>0.0</td>\n",
       "    </tr>\n",
       "  </tbody>\n",
       "</table>\n",
       "<p>113 rows × 3 columns</p>\n",
       "</div>"
      ],
      "text/plain": [
       "           player_name team_abbr  passing_yards\n",
       "86     Patrick Mahomes        KC         5250.0\n",
       "63      Justin Herbert       LAC         4739.0\n",
       "102          Tom Brady        TB         4694.0\n",
       "66        Kirk Cousins       MIN         4547.0\n",
       "55          Joe Burrow       CIN         4475.0\n",
       "..                 ...       ...            ...\n",
       "27         Cooper Kupp        LA            0.0\n",
       "42      Garrett Wilson       NYJ            0.0\n",
       "36       DeeJay Dallas       SEA            0.0\n",
       "30         Dalvin Cook       MIN            0.0\n",
       "72   Leonard Fournette        TB            0.0\n",
       "\n",
       "[113 rows x 3 columns]"
      ]
     },
     "execution_count": 169,
     "metadata": {},
     "output_type": "execute_result"
    }
   ],
   "source": [
    "dfQBSorted = dfQBs.sort_values(by=\"passing_yards\", ascending=False)\n",
    "dfQBSorted"
   ]
  },
  {
   "cell_type": "code",
   "execution_count": 170,
   "id": "dd650fb7",
   "metadata": {},
   "outputs": [
    {
     "data": {
      "text/html": [
       "<div>\n",
       "<style scoped>\n",
       "    .dataframe tbody tr th:only-of-type {\n",
       "        vertical-align: middle;\n",
       "    }\n",
       "\n",
       "    .dataframe tbody tr th {\n",
       "        vertical-align: top;\n",
       "    }\n",
       "\n",
       "    .dataframe thead th {\n",
       "        text-align: right;\n",
       "    }\n",
       "</style>\n",
       "<table border=\"1\" class=\"dataframe\">\n",
       "  <thead>\n",
       "    <tr style=\"text-align: right;\">\n",
       "      <th></th>\n",
       "      <th>player_name</th>\n",
       "      <th>team_abbr</th>\n",
       "      <th>passing_yards</th>\n",
       "    </tr>\n",
       "  </thead>\n",
       "  <tbody>\n",
       "    <tr>\n",
       "      <th>86</th>\n",
       "      <td>Patrick Mahomes</td>\n",
       "      <td>KC</td>\n",
       "      <td>5250.0</td>\n",
       "    </tr>\n",
       "    <tr>\n",
       "      <th>63</th>\n",
       "      <td>Justin Herbert</td>\n",
       "      <td>LAC</td>\n",
       "      <td>4739.0</td>\n",
       "    </tr>\n",
       "    <tr>\n",
       "      <th>102</th>\n",
       "      <td>Tom Brady</td>\n",
       "      <td>TB</td>\n",
       "      <td>4694.0</td>\n",
       "    </tr>\n",
       "    <tr>\n",
       "      <th>66</th>\n",
       "      <td>Kirk Cousins</td>\n",
       "      <td>MIN</td>\n",
       "      <td>4547.0</td>\n",
       "    </tr>\n",
       "    <tr>\n",
       "      <th>55</th>\n",
       "      <td>Joe Burrow</td>\n",
       "      <td>CIN</td>\n",
       "      <td>4475.0</td>\n",
       "    </tr>\n",
       "    <tr>\n",
       "      <th>...</th>\n",
       "      <td>...</td>\n",
       "      <td>...</td>\n",
       "      <td>...</td>\n",
       "    </tr>\n",
       "    <tr>\n",
       "      <th>38</th>\n",
       "      <td>Derrick Henry</td>\n",
       "      <td>TEN</td>\n",
       "      <td>4.0</td>\n",
       "    </tr>\n",
       "    <tr>\n",
       "      <th>81</th>\n",
       "      <td>Najee Harris</td>\n",
       "      <td>PIT</td>\n",
       "      <td>4.0</td>\n",
       "    </tr>\n",
       "    <tr>\n",
       "      <th>74</th>\n",
       "      <td>Mack Hollins</td>\n",
       "      <td>LV</td>\n",
       "      <td>4.0</td>\n",
       "    </tr>\n",
       "    <tr>\n",
       "      <th>11</th>\n",
       "      <td>Braxton Berrios</td>\n",
       "      <td>NYJ</td>\n",
       "      <td>2.0</td>\n",
       "    </tr>\n",
       "    <tr>\n",
       "      <th>21</th>\n",
       "      <td>Chase Claypool</td>\n",
       "      <td>PIT</td>\n",
       "      <td>1.0</td>\n",
       "    </tr>\n",
       "  </tbody>\n",
       "</table>\n",
       "<p>95 rows × 3 columns</p>\n",
       "</div>"
      ],
      "text/plain": [
       "         player_name team_abbr  passing_yards\n",
       "86   Patrick Mahomes        KC         5250.0\n",
       "63    Justin Herbert       LAC         4739.0\n",
       "102        Tom Brady        TB         4694.0\n",
       "66      Kirk Cousins       MIN         4547.0\n",
       "55        Joe Burrow       CIN         4475.0\n",
       "..               ...       ...            ...\n",
       "38     Derrick Henry       TEN            4.0\n",
       "81      Najee Harris       PIT            4.0\n",
       "74      Mack Hollins        LV            4.0\n",
       "11   Braxton Berrios       NYJ            2.0\n",
       "21    Chase Claypool       PIT            1.0\n",
       "\n",
       "[95 rows x 3 columns]"
      ]
     },
     "execution_count": 170,
     "metadata": {},
     "output_type": "execute_result"
    }
   ],
   "source": [
    "#We can pretty safely evict everyone with 0 passing yards from the list\n",
    "#But we also want to remove people with relatively near 0 passing yards, who were likely only involved in\n",
    "#a trick play or two. We will likely end up using the 1000 yard season number, but lets start with 0\n",
    "\n",
    "dfQBSorted = dfQBSorted[dfQBSorted[\"passing_yards\"] > 0]\n",
    "dfQBSorted"
   ]
  },
  {
   "cell_type": "code",
   "execution_count": 171,
   "id": "63d90d2f",
   "metadata": {},
   "outputs": [
    {
     "data": {
      "text/html": [
       "<div>\n",
       "<style scoped>\n",
       "    .dataframe tbody tr th:only-of-type {\n",
       "        vertical-align: middle;\n",
       "    }\n",
       "\n",
       "    .dataframe tbody tr th {\n",
       "        vertical-align: top;\n",
       "    }\n",
       "\n",
       "    .dataframe thead th {\n",
       "        text-align: right;\n",
       "    }\n",
       "</style>\n",
       "<table border=\"1\" class=\"dataframe\">\n",
       "  <thead>\n",
       "    <tr style=\"text-align: right;\">\n",
       "      <th></th>\n",
       "      <th>player_name</th>\n",
       "      <th>team_abbr</th>\n",
       "      <th>passing_yards</th>\n",
       "    </tr>\n",
       "  </thead>\n",
       "  <tbody>\n",
       "    <tr>\n",
       "      <th>86</th>\n",
       "      <td>Patrick Mahomes</td>\n",
       "      <td>KC</td>\n",
       "      <td>5250.0</td>\n",
       "    </tr>\n",
       "    <tr>\n",
       "      <th>63</th>\n",
       "      <td>Justin Herbert</td>\n",
       "      <td>LAC</td>\n",
       "      <td>4739.0</td>\n",
       "    </tr>\n",
       "    <tr>\n",
       "      <th>102</th>\n",
       "      <td>Tom Brady</td>\n",
       "      <td>TB</td>\n",
       "      <td>4694.0</td>\n",
       "    </tr>\n",
       "    <tr>\n",
       "      <th>66</th>\n",
       "      <td>Kirk Cousins</td>\n",
       "      <td>MIN</td>\n",
       "      <td>4547.0</td>\n",
       "    </tr>\n",
       "    <tr>\n",
       "      <th>55</th>\n",
       "      <td>Joe Burrow</td>\n",
       "      <td>CIN</td>\n",
       "      <td>4475.0</td>\n",
       "    </tr>\n",
       "    <tr>\n",
       "      <th>...</th>\n",
       "      <td>...</td>\n",
       "      <td>...</td>\n",
       "      <td>...</td>\n",
       "    </tr>\n",
       "    <tr>\n",
       "      <th>83</th>\n",
       "      <td>Nathan Peterman</td>\n",
       "      <td>CHI</td>\n",
       "      <td>139.0</td>\n",
       "    </tr>\n",
       "    <tr>\n",
       "      <th>53</th>\n",
       "      <td>Jeff Driskel</td>\n",
       "      <td>HOU</td>\n",
       "      <td>108.0</td>\n",
       "    </tr>\n",
       "    <tr>\n",
       "      <th>23</th>\n",
       "      <td>Chris Streveler</td>\n",
       "      <td>NYJ</td>\n",
       "      <td>90.0</td>\n",
       "    </tr>\n",
       "    <tr>\n",
       "      <th>111</th>\n",
       "      <td>Tyrod Taylor</td>\n",
       "      <td>NYG</td>\n",
       "      <td>58.0</td>\n",
       "    </tr>\n",
       "    <tr>\n",
       "      <th>22</th>\n",
       "      <td>Chase Daniel</td>\n",
       "      <td>LAC</td>\n",
       "      <td>52.0</td>\n",
       "    </tr>\n",
       "  </tbody>\n",
       "</table>\n",
       "<p>74 rows × 3 columns</p>\n",
       "</div>"
      ],
      "text/plain": [
       "         player_name team_abbr  passing_yards\n",
       "86   Patrick Mahomes        KC         5250.0\n",
       "63    Justin Herbert       LAC         4739.0\n",
       "102        Tom Brady        TB         4694.0\n",
       "66      Kirk Cousins       MIN         4547.0\n",
       "55        Joe Burrow       CIN         4475.0\n",
       "..               ...       ...            ...\n",
       "83   Nathan Peterman       CHI          139.0\n",
       "53      Jeff Driskel       HOU          108.0\n",
       "23   Chris Streveler       NYJ           90.0\n",
       "111     Tyrod Taylor       NYG           58.0\n",
       "22      Chase Daniel       LAC           52.0\n",
       "\n",
       "[74 rows x 3 columns]"
      ]
     },
     "execution_count": 171,
     "metadata": {},
     "output_type": "execute_result"
    }
   ],
   "source": [
    "#Let's go with 50, while we're investigating\n",
    "\n",
    "dfQBSorted = dfQBSorted[dfQBSorted[\"passing_yards\"] > 50]\n",
    "dfQBSorted"
   ]
  },
  {
   "cell_type": "code",
   "execution_count": 178,
   "id": "c84f178d",
   "metadata": {},
   "outputs": [
    {
     "data": {
      "text/html": [
       "<div>\n",
       "<style scoped>\n",
       "    .dataframe tbody tr th:only-of-type {\n",
       "        vertical-align: middle;\n",
       "    }\n",
       "\n",
       "    .dataframe tbody tr th {\n",
       "        vertical-align: top;\n",
       "    }\n",
       "\n",
       "    .dataframe thead th {\n",
       "        text-align: right;\n",
       "    }\n",
       "</style>\n",
       "<table border=\"1\" class=\"dataframe\">\n",
       "  <thead>\n",
       "    <tr style=\"text-align: right;\">\n",
       "      <th></th>\n",
       "      <th>player_name</th>\n",
       "      <th>team_abbr</th>\n",
       "      <th>passing_yards</th>\n",
       "    </tr>\n",
       "  </thead>\n",
       "  <tbody>\n",
       "    <tr>\n",
       "      <th>69</th>\n",
       "      <td>Kyler Murray</td>\n",
       "      <td>ARI</td>\n",
       "      <td>2368.0</td>\n",
       "    </tr>\n",
       "    <tr>\n",
       "      <th>76</th>\n",
       "      <td>Marcus Mariota</td>\n",
       "      <td>ATL</td>\n",
       "      <td>2219.0</td>\n",
       "    </tr>\n",
       "    <tr>\n",
       "      <th>70</th>\n",
       "      <td>Lamar Jackson</td>\n",
       "      <td>BAL</td>\n",
       "      <td>2242.0</td>\n",
       "    </tr>\n",
       "    <tr>\n",
       "      <th>59</th>\n",
       "      <td>Josh Allen</td>\n",
       "      <td>BUF</td>\n",
       "      <td>4283.0</td>\n",
       "    </tr>\n",
       "    <tr>\n",
       "      <th>62</th>\n",
       "      <td>Justin Fields</td>\n",
       "      <td>CHI</td>\n",
       "      <td>2242.0</td>\n",
       "    </tr>\n",
       "    <tr>\n",
       "      <th>55</th>\n",
       "      <td>Joe Burrow</td>\n",
       "      <td>CIN</td>\n",
       "      <td>4475.0</td>\n",
       "    </tr>\n",
       "    <tr>\n",
       "      <th>46</th>\n",
       "      <td>Jacoby Brissett</td>\n",
       "      <td>CLE</td>\n",
       "      <td>2608.0</td>\n",
       "    </tr>\n",
       "    <tr>\n",
       "      <th>29</th>\n",
       "      <td>Dak Prescott</td>\n",
       "      <td>DAL</td>\n",
       "      <td>2860.0</td>\n",
       "    </tr>\n",
       "    <tr>\n",
       "      <th>91</th>\n",
       "      <td>Russell Wilson</td>\n",
       "      <td>DEN</td>\n",
       "      <td>3524.0</td>\n",
       "    </tr>\n",
       "    <tr>\n",
       "      <th>51</th>\n",
       "      <td>Jared Goff</td>\n",
       "      <td>DET</td>\n",
       "      <td>4438.0</td>\n",
       "    </tr>\n",
       "    <tr>\n",
       "      <th>0</th>\n",
       "      <td>Aaron Rodgers</td>\n",
       "      <td>GB</td>\n",
       "      <td>3695.0</td>\n",
       "    </tr>\n",
       "    <tr>\n",
       "      <th>34</th>\n",
       "      <td>Davis Mills</td>\n",
       "      <td>HOU</td>\n",
       "      <td>3118.0</td>\n",
       "    </tr>\n",
       "    <tr>\n",
       "      <th>77</th>\n",
       "      <td>Matt Ryan</td>\n",
       "      <td>IND</td>\n",
       "      <td>3057.0</td>\n",
       "    </tr>\n",
       "    <tr>\n",
       "      <th>105</th>\n",
       "      <td>Trevor Lawrence</td>\n",
       "      <td>JAX</td>\n",
       "      <td>4113.0</td>\n",
       "    </tr>\n",
       "    <tr>\n",
       "      <th>86</th>\n",
       "      <td>Patrick Mahomes</td>\n",
       "      <td>KC</td>\n",
       "      <td>5250.0</td>\n",
       "    </tr>\n",
       "    <tr>\n",
       "      <th>78</th>\n",
       "      <td>Matthew Stafford</td>\n",
       "      <td>LA</td>\n",
       "      <td>2087.0</td>\n",
       "    </tr>\n",
       "    <tr>\n",
       "      <th>63</th>\n",
       "      <td>Justin Herbert</td>\n",
       "      <td>LAC</td>\n",
       "      <td>4739.0</td>\n",
       "    </tr>\n",
       "    <tr>\n",
       "      <th>37</th>\n",
       "      <td>Derek Carr</td>\n",
       "      <td>LV</td>\n",
       "      <td>3522.0</td>\n",
       "    </tr>\n",
       "    <tr>\n",
       "      <th>108</th>\n",
       "      <td>Tua Tagovailoa</td>\n",
       "      <td>MIA</td>\n",
       "      <td>3548.0</td>\n",
       "    </tr>\n",
       "    <tr>\n",
       "      <th>66</th>\n",
       "      <td>Kirk Cousins</td>\n",
       "      <td>MIN</td>\n",
       "      <td>4547.0</td>\n",
       "    </tr>\n",
       "    <tr>\n",
       "      <th>73</th>\n",
       "      <td>Mac Jones</td>\n",
       "      <td>NE</td>\n",
       "      <td>2997.0</td>\n",
       "    </tr>\n",
       "    <tr>\n",
       "      <th>2</th>\n",
       "      <td>Andy Dalton</td>\n",
       "      <td>NO</td>\n",
       "      <td>2871.0</td>\n",
       "    </tr>\n",
       "    <tr>\n",
       "      <th>31</th>\n",
       "      <td>Daniel Jones</td>\n",
       "      <td>NYG</td>\n",
       "      <td>3205.0</td>\n",
       "    </tr>\n",
       "    <tr>\n",
       "      <th>112</th>\n",
       "      <td>Zach Wilson</td>\n",
       "      <td>NYJ</td>\n",
       "      <td>1688.0</td>\n",
       "    </tr>\n",
       "    <tr>\n",
       "      <th>47</th>\n",
       "      <td>Jalen Hurts</td>\n",
       "      <td>PHI</td>\n",
       "      <td>3701.0</td>\n",
       "    </tr>\n",
       "    <tr>\n",
       "      <th>65</th>\n",
       "      <td>Kenny Pickett</td>\n",
       "      <td>PIT</td>\n",
       "      <td>2404.0</td>\n",
       "    </tr>\n",
       "    <tr>\n",
       "      <th>43</th>\n",
       "      <td>Geno Smith</td>\n",
       "      <td>SEA</td>\n",
       "      <td>4282.0</td>\n",
       "    </tr>\n",
       "    <tr>\n",
       "      <th>54</th>\n",
       "      <td>Jimmy Garoppolo</td>\n",
       "      <td>SF</td>\n",
       "      <td>2437.0</td>\n",
       "    </tr>\n",
       "    <tr>\n",
       "      <th>102</th>\n",
       "      <td>Tom Brady</td>\n",
       "      <td>TB</td>\n",
       "      <td>4694.0</td>\n",
       "    </tr>\n",
       "    <tr>\n",
       "      <th>92</th>\n",
       "      <td>Ryan Tannehill</td>\n",
       "      <td>TEN</td>\n",
       "      <td>2536.0</td>\n",
       "    </tr>\n",
       "    <tr>\n",
       "      <th>98</th>\n",
       "      <td>Taylor Heinicke</td>\n",
       "      <td>WAS</td>\n",
       "      <td>1859.0</td>\n",
       "    </tr>\n",
       "    <tr>\n",
       "      <th>17</th>\n",
       "      <td>Carson Wentz</td>\n",
       "      <td>WAS</td>\n",
       "      <td>1755.0</td>\n",
       "    </tr>\n",
       "  </tbody>\n",
       "</table>\n",
       "</div>"
      ],
      "text/plain": [
       "          player_name team_abbr  passing_yards\n",
       "69       Kyler Murray       ARI         2368.0\n",
       "76     Marcus Mariota       ATL         2219.0\n",
       "70      Lamar Jackson       BAL         2242.0\n",
       "59         Josh Allen       BUF         4283.0\n",
       "62      Justin Fields       CHI         2242.0\n",
       "55         Joe Burrow       CIN         4475.0\n",
       "46    Jacoby Brissett       CLE         2608.0\n",
       "29       Dak Prescott       DAL         2860.0\n",
       "91     Russell Wilson       DEN         3524.0\n",
       "51         Jared Goff       DET         4438.0\n",
       "0       Aaron Rodgers        GB         3695.0\n",
       "34        Davis Mills       HOU         3118.0\n",
       "77          Matt Ryan       IND         3057.0\n",
       "105   Trevor Lawrence       JAX         4113.0\n",
       "86    Patrick Mahomes        KC         5250.0\n",
       "78   Matthew Stafford        LA         2087.0\n",
       "63     Justin Herbert       LAC         4739.0\n",
       "37         Derek Carr        LV         3522.0\n",
       "108    Tua Tagovailoa       MIA         3548.0\n",
       "66       Kirk Cousins       MIN         4547.0\n",
       "73          Mac Jones        NE         2997.0\n",
       "2         Andy Dalton        NO         2871.0\n",
       "31       Daniel Jones       NYG         3205.0\n",
       "112       Zach Wilson       NYJ         1688.0\n",
       "47        Jalen Hurts       PHI         3701.0\n",
       "65      Kenny Pickett       PIT         2404.0\n",
       "43         Geno Smith       SEA         4282.0\n",
       "54    Jimmy Garoppolo        SF         2437.0\n",
       "102         Tom Brady        TB         4694.0\n",
       "92     Ryan Tannehill       TEN         2536.0\n",
       "98    Taylor Heinicke       WAS         1859.0\n",
       "17       Carson Wentz       WAS         1755.0"
      ]
     },
     "execution_count": 178,
     "metadata": {},
     "output_type": "execute_result"
    }
   ],
   "source": [
    "#As I'm thinking about it, we really 1 qb per team per week, not necessarily the 32 passers with the most yards\n",
    "#For every week, for every team, select the player with the most passing yards, drop the rest. \n",
    "#But we'll continue to explore for now\n",
    "dfQBSorted = dfQBSorted[dfQBSorted[\"passing_yards\"] > 1500]\n",
    "dfQBSorted = dfQBSorted.sort_values(by=\"team_abbr\")\n",
    "dfQBSorted"
   ]
  },
  {
   "cell_type": "code",
   "execution_count": null,
   "id": "883543b5",
   "metadata": {},
   "outputs": [],
   "source": [
    "#This is almost close, but washington appears twice and carolina is absent\n",
    "#And since we actually want to evaluate weekly performance, it doesn't matter, but it is kind of interesting\n",
    "#So we really want a function that performs that manipulations as follows\n",
    "#For every week, for every team, select the player with the most passing yards, drop the rest."
   ]
  },
  {
   "cell_type": "code",
   "execution_count": 184,
   "id": "0d2b2786",
   "metadata": {},
   "outputs": [],
   "source": [
    "#There's probably a snazzy python way to do this with one line instead of an entire function\n",
    "#But I'll look into that for later iterations. We are looking for 544 entries\n",
    "#Function currently only works on sorted input, by team, week, passing yards\n",
    "\n",
    "\n",
    "\n",
    "def weeklyPassingLeadersOnly(df):\n",
    "    #if this team = last team & this week = last week & this qb != last qb\n",
    "    #compare, drop whoever has lowest passing\n",
    "    lastWeek = 0\n",
    "    lastQB = \"Nobody\"\n",
    "    lastTeam = \"Nobodies\"\n",
    "    lastYards = 0\n",
    "    \n",
    "    for index, qb in df.iterrows():\n",
    "        thisWeek = qb[\"week\"]\n",
    "        thisQB   = qb[\"player_name\"]\n",
    "        thisTeam = qb[\"team_abbr\"]\n",
    "        currYards= qb[\"passing_yards\"]\n",
    "        \n",
    "        if((thisQB!=lastQB) and (thisTeam==lastTeam) and (thisWeek==lastWeek) ):\n",
    "            if(currYards < lastYards):\n",
    "                df.drop(index, inplace=True)\n",
    "        else:\n",
    "            lastWeek = thisWeek\n",
    "            lastQB   = thisQB\n",
    "            lastTeam = thisTeam\n",
    "            lastYards= currYards\n",
    "        #else\n",
    "        #update lastVariables\n",
    "    \n",
    "    #passerRating = []\n",
    "    #for index, qb in df.iterrows():\n",
    "        #completions = qb[\"complete_pass\"]\n",
    "        #attempts    = qb[\"pass_attempt\"]\n",
    "        #touchdowns  = qb[\"pass_touchdown\"]\n",
    "        #yards       = qb[\"passing_yards\"]\n",
    "        #ints        = qb[\"interception\"]\n",
    "             \n",
    "    return df"
   ]
  },
  {
   "cell_type": "code",
   "execution_count": 191,
   "id": "4e02dc1e",
   "metadata": {},
   "outputs": [
    {
     "data": {
      "text/html": [
       "<div>\n",
       "<style scoped>\n",
       "    .dataframe tbody tr th:only-of-type {\n",
       "        vertical-align: middle;\n",
       "    }\n",
       "\n",
       "    .dataframe tbody tr th {\n",
       "        vertical-align: top;\n",
       "    }\n",
       "\n",
       "    .dataframe thead th {\n",
       "        text-align: right;\n",
       "    }\n",
       "</style>\n",
       "<table border=\"1\" class=\"dataframe\">\n",
       "  <thead>\n",
       "    <tr style=\"text-align: right;\">\n",
       "      <th></th>\n",
       "      <th>player_name</th>\n",
       "      <th>team_abbr</th>\n",
       "      <th>team_color</th>\n",
       "      <th>week</th>\n",
       "      <th>passing_yards</th>\n",
       "      <th>pass_touchdown</th>\n",
       "      <th>interception</th>\n",
       "      <th>pass_attempt</th>\n",
       "      <th>complete_pass</th>\n",
       "      <th>passer_rating</th>\n",
       "    </tr>\n",
       "  </thead>\n",
       "  <tbody>\n",
       "    <tr>\n",
       "      <th>385</th>\n",
       "      <td>Kyler Murray</td>\n",
       "      <td>ARI</td>\n",
       "      <td>#97233F</td>\n",
       "      <td>1</td>\n",
       "      <td>193.0</td>\n",
       "      <td>2.0</td>\n",
       "      <td>0.0</td>\n",
       "      <td>36.0</td>\n",
       "      <td>22.0</td>\n",
       "      <td>93.9</td>\n",
       "    </tr>\n",
       "    <tr>\n",
       "      <th>605</th>\n",
       "      <td>Trace McSorley</td>\n",
       "      <td>ARI</td>\n",
       "      <td>#97233F</td>\n",
       "      <td>1</td>\n",
       "      <td>12.0</td>\n",
       "      <td>0.0</td>\n",
       "      <td>0.0</td>\n",
       "      <td>5.0</td>\n",
       "      <td>2.0</td>\n",
       "      <td>47.9</td>\n",
       "    </tr>\n",
       "    <tr>\n",
       "      <th>386</th>\n",
       "      <td>Kyler Murray</td>\n",
       "      <td>ARI</td>\n",
       "      <td>#97233F</td>\n",
       "      <td>2</td>\n",
       "      <td>277.0</td>\n",
       "      <td>1.0</td>\n",
       "      <td>1.0</td>\n",
       "      <td>50.0</td>\n",
       "      <td>31.0</td>\n",
       "      <td>75.2</td>\n",
       "    </tr>\n",
       "    <tr>\n",
       "      <th>387</th>\n",
       "      <td>Kyler Murray</td>\n",
       "      <td>ARI</td>\n",
       "      <td>#97233F</td>\n",
       "      <td>3</td>\n",
       "      <td>314.0</td>\n",
       "      <td>0.0</td>\n",
       "      <td>0.0</td>\n",
       "      <td>60.0</td>\n",
       "      <td>37.0</td>\n",
       "      <td>75.3</td>\n",
       "    </tr>\n",
       "    <tr>\n",
       "      <th>388</th>\n",
       "      <td>Kyler Murray</td>\n",
       "      <td>ARI</td>\n",
       "      <td>#97233F</td>\n",
       "      <td>4</td>\n",
       "      <td>207.0</td>\n",
       "      <td>2.0</td>\n",
       "      <td>1.0</td>\n",
       "      <td>33.0</td>\n",
       "      <td>23.0</td>\n",
       "      <td>93.9</td>\n",
       "    </tr>\n",
       "    <tr>\n",
       "      <th>...</th>\n",
       "      <td>...</td>\n",
       "      <td>...</td>\n",
       "      <td>...</td>\n",
       "      <td>...</td>\n",
       "      <td>...</td>\n",
       "      <td>...</td>\n",
       "      <td>...</td>\n",
       "      <td>...</td>\n",
       "      <td>...</td>\n",
       "      <td>...</td>\n",
       "    </tr>\n",
       "    <tr>\n",
       "      <th>568</th>\n",
       "      <td>Taylor Heinicke</td>\n",
       "      <td>WAS</td>\n",
       "      <td>#5A1414</td>\n",
       "      <td>15</td>\n",
       "      <td>249.0</td>\n",
       "      <td>1.0</td>\n",
       "      <td>0.0</td>\n",
       "      <td>32.0</td>\n",
       "      <td>17.0</td>\n",
       "      <td>89.2</td>\n",
       "    </tr>\n",
       "    <tr>\n",
       "      <th>569</th>\n",
       "      <td>Taylor Heinicke</td>\n",
       "      <td>WAS</td>\n",
       "      <td>#5A1414</td>\n",
       "      <td>16</td>\n",
       "      <td>166.0</td>\n",
       "      <td>2.0</td>\n",
       "      <td>1.0</td>\n",
       "      <td>20.0</td>\n",
       "      <td>13.0</td>\n",
       "      <td>103.3</td>\n",
       "    </tr>\n",
       "    <tr>\n",
       "      <th>79</th>\n",
       "      <td>Carson Wentz</td>\n",
       "      <td>WAS</td>\n",
       "      <td>#5A1414</td>\n",
       "      <td>16</td>\n",
       "      <td>123.0</td>\n",
       "      <td>1.0</td>\n",
       "      <td>0.0</td>\n",
       "      <td>16.0</td>\n",
       "      <td>12.0</td>\n",
       "      <td>117.4</td>\n",
       "    </tr>\n",
       "    <tr>\n",
       "      <th>80</th>\n",
       "      <td>Carson Wentz</td>\n",
       "      <td>WAS</td>\n",
       "      <td>#5A1414</td>\n",
       "      <td>17</td>\n",
       "      <td>143.0</td>\n",
       "      <td>0.0</td>\n",
       "      <td>3.0</td>\n",
       "      <td>31.0</td>\n",
       "      <td>16.0</td>\n",
       "      <td>24.7</td>\n",
       "    </tr>\n",
       "    <tr>\n",
       "      <th>553</th>\n",
       "      <td>Sam Howell</td>\n",
       "      <td>WAS</td>\n",
       "      <td>#5A1414</td>\n",
       "      <td>18</td>\n",
       "      <td>169.0</td>\n",
       "      <td>1.0</td>\n",
       "      <td>1.0</td>\n",
       "      <td>22.0</td>\n",
       "      <td>11.0</td>\n",
       "      <td>72.0</td>\n",
       "    </tr>\n",
       "  </tbody>\n",
       "</table>\n",
       "<p>662 rows × 10 columns</p>\n",
       "</div>"
      ],
      "text/plain": [
       "         player_name team_abbr team_color  week  passing_yards  \\\n",
       "385     Kyler Murray       ARI    #97233F     1          193.0   \n",
       "605   Trace McSorley       ARI    #97233F     1           12.0   \n",
       "386     Kyler Murray       ARI    #97233F     2          277.0   \n",
       "387     Kyler Murray       ARI    #97233F     3          314.0   \n",
       "388     Kyler Murray       ARI    #97233F     4          207.0   \n",
       "..               ...       ...        ...   ...            ...   \n",
       "568  Taylor Heinicke       WAS    #5A1414    15          249.0   \n",
       "569  Taylor Heinicke       WAS    #5A1414    16          166.0   \n",
       "79      Carson Wentz       WAS    #5A1414    16          123.0   \n",
       "80      Carson Wentz       WAS    #5A1414    17          143.0   \n",
       "553       Sam Howell       WAS    #5A1414    18          169.0   \n",
       "\n",
       "     pass_touchdown  interception  pass_attempt  complete_pass  passer_rating  \n",
       "385             2.0           0.0          36.0           22.0           93.9  \n",
       "605             0.0           0.0           5.0            2.0           47.9  \n",
       "386             1.0           1.0          50.0           31.0           75.2  \n",
       "387             0.0           0.0          60.0           37.0           75.3  \n",
       "388             2.0           1.0          33.0           23.0           93.9  \n",
       "..              ...           ...           ...            ...            ...  \n",
       "568             1.0           0.0          32.0           17.0           89.2  \n",
       "569             2.0           1.0          20.0           13.0          103.3  \n",
       "79              1.0           0.0          16.0           12.0          117.4  \n",
       "80              0.0           3.0          31.0           16.0           24.7  \n",
       "553             1.0           1.0          22.0           11.0           72.0  \n",
       "\n",
       "[662 rows x 10 columns]"
      ]
     },
     "execution_count": 191,
     "metadata": {},
     "output_type": "execute_result"
    }
   ],
   "source": [
    "dfPRSorted = dfPR.sort_values([\"team_abbr\", \"week\", \"passing_yards\"], ascending = [True, True, False])\n",
    "dfPRSorted"
   ]
  },
  {
   "cell_type": "code",
   "execution_count": 192,
   "id": "8c640be8",
   "metadata": {},
   "outputs": [],
   "source": [
    "dfPRFiltered = weeklyPassingLeadersOnly(dfPRSorted)"
   ]
  },
  {
   "cell_type": "code",
   "execution_count": 205,
   "id": "7f1fa507",
   "metadata": {},
   "outputs": [
    {
     "name": "stdout",
     "output_type": "stream",
     "text": [
      "           player_name team_abbr team_color  week  passing_yards  \\\n",
      "385       Kyler Murray       ARI    #97233F     1          193.0   \n",
      "386       Kyler Murray       ARI    #97233F     2          277.0   \n",
      "387       Kyler Murray       ARI    #97233F     3          314.0   \n",
      "388       Kyler Murray       ARI    #97233F     4          207.0   \n",
      "389       Kyler Murray       ARI    #97233F     5          250.0   \n",
      "390       Kyler Murray       ARI    #97233F     6          222.0   \n",
      "391       Kyler Murray       ARI    #97233F     7          204.0   \n",
      "392       Kyler Murray       ARI    #97233F     8          326.0   \n",
      "393       Kyler Murray       ARI    #97233F     9          175.0   \n",
      "92          Colt McCoy       ARI    #97233F    10          238.0   \n",
      "93          Colt McCoy       ARI    #97233F    11          218.0   \n",
      "394       Kyler Murray       ARI    #97233F    12          191.0   \n",
      "94          Colt McCoy       ARI    #97233F    14          246.0   \n",
      "607     Trace McSorley       ARI    #97233F    15           95.0   \n",
      "608     Trace McSorley       ARI    #97233F    16          217.0   \n",
      "135       David Blough       ARI    #97233F    17          222.0   \n",
      "136       David Blough       ARI    #97233F    18          180.0   \n",
      "431     Marcus Mariota       ATL    #A71930     1          215.0   \n",
      "432     Marcus Mariota       ATL    #A71930     2          196.0   \n",
      "433     Marcus Mariota       ATL    #A71930     3          229.0   \n",
      "434     Marcus Mariota       ATL    #A71930     4          139.0   \n",
      "435     Marcus Mariota       ATL    #A71930     5          147.0   \n",
      "436     Marcus Mariota       ATL    #A71930     6          129.0   \n",
      "437     Marcus Mariota       ATL    #A71930     7          124.0   \n",
      "438     Marcus Mariota       ATL    #A71930     8          253.0   \n",
      "439     Marcus Mariota       ATL    #A71930     9          129.0   \n",
      "440     Marcus Mariota       ATL    #A71930    10          186.0   \n",
      "441     Marcus Mariota       ATL    #A71930    11          131.0   \n",
      "442     Marcus Mariota       ATL    #A71930    12          174.0   \n",
      "443     Marcus Mariota       ATL    #A71930    13          167.0   \n",
      "176     Desmond Ridder       ATL    #A71930    15           97.0   \n",
      "177     Desmond Ridder       ATL    #A71930    16          218.0   \n",
      "178     Desmond Ridder       ATL    #A71930    17          169.0   \n",
      "179     Desmond Ridder       ATL    #A71930    18          224.0   \n",
      "396      Lamar Jackson       BAL    #241773     1          213.0   \n",
      "397      Lamar Jackson       BAL    #241773     2          318.0   \n",
      "398      Lamar Jackson       BAL    #241773     3          218.0   \n",
      "399      Lamar Jackson       BAL    #241773     4          144.0   \n",
      "400      Lamar Jackson       BAL    #241773     5          174.0   \n",
      "401      Lamar Jackson       BAL    #241773     6          210.0   \n",
      "402      Lamar Jackson       BAL    #241773     7          120.0   \n",
      "403      Lamar Jackson       BAL    #241773     8          238.0   \n",
      "404      Lamar Jackson       BAL    #241773     9          133.0   \n",
      "405      Lamar Jackson       BAL    #241773    11          209.0   \n",
      "406      Lamar Jackson       BAL    #241773    12          254.0   \n",
      "646      Tyler Huntley       BAL    #241773    13          187.0   \n",
      "647      Tyler Huntley       BAL    #241773    14           88.0   \n",
      "648      Tyler Huntley       BAL    #241773    15          138.0   \n",
      "649      Tyler Huntley       BAL    #241773    16          115.0   \n",
      "650      Tyler Huntley       BAL    #241773    17          130.0   \n",
      "34       Anthony Brown       BAL    #241773    18          286.0   \n",
      "299         Josh Allen       BUF    #00338D     1          297.0   \n",
      "300         Josh Allen       BUF    #00338D     2          317.0   \n",
      "301         Josh Allen       BUF    #00338D     3          400.0   \n",
      "302         Josh Allen       BUF    #00338D     4          213.0   \n",
      "303         Josh Allen       BUF    #00338D     5          424.0   \n",
      "304         Josh Allen       BUF    #00338D     6          329.0   \n",
      "305         Josh Allen       BUF    #00338D     8          218.0   \n",
      "306         Josh Allen       BUF    #00338D     9          205.0   \n",
      "307         Josh Allen       BUF    #00338D    10          330.0   \n",
      "308         Josh Allen       BUF    #00338D    11          197.0   \n",
      "309         Josh Allen       BUF    #00338D    12          253.0   \n",
      "310         Josh Allen       BUF    #00338D    13          223.0   \n",
      "311         Josh Allen       BUF    #00338D    14          147.0   \n",
      "312         Josh Allen       BUF    #00338D    15          304.0   \n",
      "313         Josh Allen       BUF    #00338D    16          172.0   \n",
      "314         Josh Allen       BUF    #00338D    18          254.0   \n",
      "39      Baker Mayfield       CAR    #0085CA     1          235.0   \n",
      "40      Baker Mayfield       CAR    #0085CA     2          145.0   \n",
      "41      Baker Mayfield       CAR    #0085CA     3          170.0   \n",
      "42      Baker Mayfield       CAR    #0085CA     4          197.0   \n",
      "43      Baker Mayfield       CAR    #0085CA     5          215.0   \n",
      "506     Phillip Walker       CAR    #0085CA     6           60.0   \n",
      "507     Phillip Walker       CAR    #0085CA     7          177.0   \n",
      "508     Phillip Walker       CAR    #0085CA     8          317.0   \n",
      "44      Baker Mayfield       CAR    #0085CA     9          155.0   \n",
      "510     Phillip Walker       CAR    #0085CA    10          108.0   \n",
      "45      Baker Mayfield       CAR    #0085CA    11          196.0   \n",
      "543        Sam Darnold       CAR    #0085CA    12          164.0   \n",
      "544        Sam Darnold       CAR    #0085CA    14          120.0   \n",
      "545        Sam Darnold       CAR    #0085CA    15          225.0   \n",
      "546        Sam Darnold       CAR    #0085CA    16          250.0   \n",
      "547        Sam Darnold       CAR    #0085CA    17          341.0   \n",
      "548        Sam Darnold       CAR    #0085CA    18           43.0   \n",
      "318      Justin Fields       CHI    #0B162A     1          121.0   \n",
      "319      Justin Fields       CHI    #0B162A     2           70.0   \n",
      "320      Justin Fields       CHI    #0B162A     3          106.0   \n",
      "321      Justin Fields       CHI    #0B162A     4          174.0   \n",
      "322      Justin Fields       CHI    #0B162A     5          208.0   \n",
      "323      Justin Fields       CHI    #0B162A     6          190.0   \n",
      "324      Justin Fields       CHI    #0B162A     7          179.0   \n",
      "325      Justin Fields       CHI    #0B162A     8          151.0   \n",
      "326      Justin Fields       CHI    #0B162A     9          123.0   \n",
      "327      Justin Fields       CHI    #0B162A    10          167.0   \n",
      "328      Justin Fields       CHI    #0B162A    11          153.0   \n",
      "628     Trevor Siemian       CHI    #0B162A    12          179.0   \n",
      "329      Justin Fields       CHI    #0B162A    13          254.0   \n",
      "330      Justin Fields       CHI    #0B162A    15          152.0   \n",
      "331      Justin Fields       CHI    #0B162A    16          119.0   \n",
      "332      Justin Fields       CHI    #0B162A    17           75.0   \n",
      "480    Nathan Peterman       CHI    #0B162A    18          114.0   \n",
      "272         Joe Burrow       CIN    #FB4F14     1          338.0   \n",
      "273         Joe Burrow       CIN    #FB4F14     2          199.0   \n",
      "274         Joe Burrow       CIN    #FB4F14     3          275.0   \n",
      "275         Joe Burrow       CIN    #FB4F14     4          287.0   \n",
      "276         Joe Burrow       CIN    #FB4F14     5          217.0   \n",
      "277         Joe Burrow       CIN    #FB4F14     6          300.0   \n",
      "278         Joe Burrow       CIN    #FB4F14     7          481.0   \n",
      "279         Joe Burrow       CIN    #FB4F14     8          232.0   \n",
      "280         Joe Burrow       CIN    #FB4F14     9          206.0   \n",
      "281         Joe Burrow       CIN    #FB4F14    11          355.0   \n",
      "282         Joe Burrow       CIN    #FB4F14    12          270.0   \n",
      "283         Joe Burrow       CIN    #FB4F14    13          286.0   \n",
      "284         Joe Burrow       CIN    #FB4F14    14          239.0   \n",
      "285         Joe Burrow       CIN    #FB4F14    15          200.0   \n",
      "286         Joe Burrow       CIN    #FB4F14    16          375.0   \n",
      "287         Joe Burrow       CIN    #FB4F14    18          215.0   \n",
      "204    Jacoby Brissett       CLE    #FF3C00     1          147.0   \n",
      "205    Jacoby Brissett       CLE    #FF3C00     2          229.0   \n",
      "206    Jacoby Brissett       CLE    #FF3C00     3          220.0   \n",
      "207    Jacoby Brissett       CLE    #FF3C00     4          234.0   \n",
      "208    Jacoby Brissett       CLE    #FF3C00     5          230.0   \n",
      "209    Jacoby Brissett       CLE    #FF3C00     6          266.0   \n",
      "210    Jacoby Brissett       CLE    #FF3C00     7          258.0   \n",
      "211    Jacoby Brissett       CLE    #FF3C00     8          278.0   \n",
      "212    Jacoby Brissett       CLE    #FF3C00    10          212.0   \n",
      "213    Jacoby Brissett       CLE    #FF3C00    11          324.0   \n",
      "214    Jacoby Brissett       CLE    #FF3C00    12          210.0   \n",
      "170     Deshaun Watson       CLE    #FF3C00    13          131.0   \n",
      "171     Deshaun Watson       CLE    #FF3C00    14          276.0   \n",
      "172     Deshaun Watson       CLE    #FF3C00    15          161.0   \n",
      "173     Deshaun Watson       CLE    #FF3C00    16          135.0   \n",
      "174     Deshaun Watson       CLE    #FF3C00    17          169.0   \n",
      "175     Deshaun Watson       CLE    #FF3C00    18          230.0   \n",
      "105       Dak Prescott       DAL    #002244     1          134.0   \n",
      "98         Cooper Rush       DAL    #002244     2          235.0   \n",
      "99         Cooper Rush       DAL    #002244     3          215.0   \n",
      "100        Cooper Rush       DAL    #002244     4          223.0   \n",
      "101        Cooper Rush       DAL    #002244     5          102.0   \n",
      "102        Cooper Rush       DAL    #002244     6          181.0   \n",
      "106       Dak Prescott       DAL    #002244     7          207.0   \n",
      "107       Dak Prescott       DAL    #002244     8          250.0   \n",
      "108       Dak Prescott       DAL    #002244    10          265.0   \n",
      "109       Dak Prescott       DAL    #002244    11          276.0   \n",
      "110       Dak Prescott       DAL    #002244    12          261.0   \n",
      "111       Dak Prescott       DAL    #002244    13          170.0   \n",
      "112       Dak Prescott       DAL    #002244    14          284.0   \n",
      "113       Dak Prescott       DAL    #002244    15          256.0   \n",
      "114       Dak Prescott       DAL    #002244    16          347.0   \n",
      "115       Dak Prescott       DAL    #002244    17          282.0   \n",
      "116       Dak Prescott       DAL    #002244    18          128.0   \n",
      "514     Russell Wilson       DEN    #002244     1          340.0   \n",
      "515     Russell Wilson       DEN    #002244     2          219.0   \n",
      "516     Russell Wilson       DEN    #002244     3          184.0   \n",
      "517     Russell Wilson       DEN    #002244     4          237.0   \n",
      "518     Russell Wilson       DEN    #002244     5          274.0   \n",
      "519     Russell Wilson       DEN    #002244     6          188.0   \n",
      "56        Brett Rypien       DEN    #002244     7          225.0   \n",
      "520     Russell Wilson       DEN    #002244     8          252.0   \n",
      "521     Russell Wilson       DEN    #002244    10          286.0   \n",
      "522     Russell Wilson       DEN    #002244    11          247.0   \n",
      "523     Russell Wilson       DEN    #002244    12          142.0   \n",
      "524     Russell Wilson       DEN    #002244    13          189.0   \n",
      "525     Russell Wilson       DEN    #002244    14          247.0   \n",
      "58        Brett Rypien       DEN    #002244    15          197.0   \n",
      "526     Russell Wilson       DEN    #002244    16          214.0   \n",
      "527     Russell Wilson       DEN    #002244    17          222.0   \n",
      "528     Russell Wilson       DEN    #002244    18          283.0   \n",
      "236         Jared Goff       DET    #0076B6     1          215.0   \n",
      "237         Jared Goff       DET    #0076B6     2          256.0   \n",
      "238         Jared Goff       DET    #0076B6     3          277.0   \n",
      "239         Jared Goff       DET    #0076B6     4          378.0   \n",
      "240         Jared Goff       DET    #0076B6     5          229.0   \n",
      "241         Jared Goff       DET    #0076B6     7          228.0   \n",
      "242         Jared Goff       DET    #0076B6     8          321.0   \n",
      "243         Jared Goff       DET    #0076B6     9          137.0   \n",
      "244         Jared Goff       DET    #0076B6    10          236.0   \n",
      "245         Jared Goff       DET    #0076B6    11          165.0   \n",
      "246         Jared Goff       DET    #0076B6    12          240.0   \n",
      "247         Jared Goff       DET    #0076B6    13          340.0   \n",
      "248         Jared Goff       DET    #0076B6    14          330.0   \n",
      "249         Jared Goff       DET    #0076B6    15          252.0   \n",
      "250         Jared Goff       DET    #0076B6    16          355.0   \n",
      "251         Jared Goff       DET    #0076B6    17          255.0   \n",
      "252         Jared Goff       DET    #0076B6    18          224.0   \n",
      "0        Aaron Rodgers        GB    #203731     1          195.0   \n",
      "1        Aaron Rodgers        GB    #203731     2          234.0   \n",
      "2        Aaron Rodgers        GB    #203731     3          255.0   \n",
      "3        Aaron Rodgers        GB    #203731     4          251.0   \n",
      "4        Aaron Rodgers        GB    #203731     5          222.0   \n",
      "5        Aaron Rodgers        GB    #203731     6          246.0   \n",
      "6        Aaron Rodgers        GB    #203731     7          194.0   \n",
      "7        Aaron Rodgers        GB    #203731     8          203.0   \n",
      "8        Aaron Rodgers        GB    #203731     9          291.0   \n",
      "9        Aaron Rodgers        GB    #203731    10          224.0   \n",
      "10       Aaron Rodgers        GB    #203731    11          227.0   \n",
      "11       Aaron Rodgers        GB    #203731    12          140.0   \n",
      "12       Aaron Rodgers        GB    #203731    13          182.0   \n",
      "13       Aaron Rodgers        GB    #203731    15          229.0   \n",
      "14       Aaron Rodgers        GB    #203731    16          238.0   \n",
      "15       Aaron Rodgers        GB    #203731    17          159.0   \n",
      "16       Aaron Rodgers        GB    #203731    18          205.0   \n",
      "137        Davis Mills       HOU    #03202F     1          240.0   \n",
      "138        Davis Mills       HOU    #03202F     2          177.0   \n",
      "139        Davis Mills       HOU    #03202F     3          245.0   \n",
      "140        Davis Mills       HOU    #03202F     4          246.0   \n",
      "141        Davis Mills       HOU    #03202F     5          140.0   \n",
      "142        Davis Mills       HOU    #03202F     7          302.0   \n",
      "143        Davis Mills       HOU    #03202F     8          152.0   \n",
      "144        Davis Mills       HOU    #03202F     9          154.0   \n",
      "145        Davis Mills       HOU    #03202F    10          319.0   \n",
      "146        Davis Mills       HOU    #03202F    11          169.0   \n",
      "382         Kyle Allen       HOU    #03202F    12          215.0   \n",
      "383         Kyle Allen       HOU    #03202F    13          201.0   \n",
      "147        Davis Mills       HOU    #03202F    14          175.0   \n",
      "148        Davis Mills       HOU    #03202F    15          121.0   \n",
      "149        Davis Mills       HOU    #03202F    16          178.0   \n",
      "150        Davis Mills       HOU    #03202F    17          202.0   \n",
      "151        Davis Mills       HOU    #03202F    18          298.0   \n",
      "444          Matt Ryan       IND    #002C5F     1          352.0   \n",
      "445          Matt Ryan       IND    #002C5F     2          195.0   \n",
      "446          Matt Ryan       IND    #002C5F     3          222.0   \n",
      "447          Matt Ryan       IND    #002C5F     4          356.0   \n",
      "448          Matt Ryan       IND    #002C5F     5          251.0   \n",
      "449          Matt Ryan       IND    #002C5F     6          389.0   \n",
      "450          Matt Ryan       IND    #002C5F     7          243.0   \n",
      "549       Sam Ehlinger       IND    #002C5F     8          201.0   \n",
      "550       Sam Ehlinger       IND    #002C5F     9          103.0   \n",
      "451          Matt Ryan       IND    #002C5F    10          222.0   \n",
      "452          Matt Ryan       IND    #002C5F    11          213.0   \n",
      "453          Matt Ryan       IND    #002C5F    12          199.0   \n",
      "454          Matt Ryan       IND    #002C5F    13          233.0   \n",
      "455          Matt Ryan       IND    #002C5F    15          182.0   \n",
      "481         Nick Foles       IND    #002C5F    16          143.0   \n",
      "482         Nick Foles       IND    #002C5F    17           81.0   \n",
      "552       Sam Ehlinger       IND    #002C5F    18          209.0   \n",
      "610    Trevor Lawrence       JAX    #006778     1          275.0   \n",
      "611    Trevor Lawrence       JAX    #006778     2          235.0   \n",
      "612    Trevor Lawrence       JAX    #006778     3          262.0   \n",
      "613    Trevor Lawrence       JAX    #006778     4          174.0   \n",
      "614    Trevor Lawrence       JAX    #006778     5          286.0   \n",
      "615    Trevor Lawrence       JAX    #006778     6          165.0   \n",
      "616    Trevor Lawrence       JAX    #006778     7          310.0   \n",
      "617    Trevor Lawrence       JAX    #006778     8          133.0   \n",
      "618    Trevor Lawrence       JAX    #006778     9          235.0   \n",
      "619    Trevor Lawrence       JAX    #006778    10          259.0   \n",
      "620    Trevor Lawrence       JAX    #006778    12          321.0   \n",
      "621    Trevor Lawrence       JAX    #006778    13          179.0   \n",
      "622    Trevor Lawrence       JAX    #006778    14          368.0   \n",
      "623    Trevor Lawrence       JAX    #006778    15          318.0   \n",
      "624    Trevor Lawrence       JAX    #006778    16          229.0   \n",
      "625    Trevor Lawrence       JAX    #006778    17          152.0   \n",
      "626    Trevor Lawrence       JAX    #006778    18          212.0   \n",
      "487    Patrick Mahomes        KC    #E31837     1          360.0   \n",
      "488    Patrick Mahomes        KC    #E31837     2          235.0   \n",
      "489    Patrick Mahomes        KC    #E31837     3          262.0   \n",
      "490    Patrick Mahomes        KC    #E31837     4          249.0   \n",
      "491    Patrick Mahomes        KC    #E31837     5          292.0   \n",
      "492    Patrick Mahomes        KC    #E31837     6          338.0   \n",
      "493    Patrick Mahomes        KC    #E31837     7          423.0   \n",
      "494    Patrick Mahomes        KC    #E31837     9          446.0   \n",
      "495    Patrick Mahomes        KC    #E31837    10          331.0   \n",
      "496    Patrick Mahomes        KC    #E31837    11          329.0   \n",
      "497    Patrick Mahomes        KC    #E31837    12          320.0   \n",
      "498    Patrick Mahomes        KC    #E31837    13          223.0   \n",
      "499    Patrick Mahomes        KC    #E31837    14          352.0   \n",
      "500    Patrick Mahomes        KC    #E31837    15          336.0   \n",
      "501    Patrick Mahomes        KC    #E31837    16          224.0   \n",
      "502    Patrick Mahomes        KC    #E31837    17          328.0   \n",
      "503    Patrick Mahomes        KC    #E31837    18          202.0   \n",
      "456   Matthew Stafford        LA    #003594     1          240.0   \n",
      "457   Matthew Stafford        LA    #003594     2          272.0   \n",
      "458   Matthew Stafford        LA    #003594     3          249.0   \n",
      "459   Matthew Stafford        LA    #003594     4          254.0   \n",
      "460   Matthew Stafford        LA    #003594     5          308.0   \n",
      "461   Matthew Stafford        LA    #003594     6          253.0   \n",
      "462   Matthew Stafford        LA    #003594     8          187.0   \n",
      "463   Matthew Stafford        LA    #003594     9          165.0   \n",
      "293       John Wolford        LA    #003594    10          212.0   \n",
      "464   Matthew Stafford        LA    #003594    11          159.0   \n",
      "70       Bryce Perkins        LA    #003594    12          100.0   \n",
      "294       John Wolford        LA    #003594    13          178.0   \n",
      "46      Baker Mayfield        LA    #003594    14          230.0   \n",
      "47      Baker Mayfield        LA    #003594    15          111.0   \n",
      "48      Baker Mayfield        LA    #003594    16          230.0   \n",
      "49      Baker Mayfield        LA    #003594    17          132.0   \n",
      "50      Baker Mayfield        LA    #003594    18          147.0   \n",
      "333     Justin Herbert       LAC    #007BC7     1          279.0   \n",
      "334     Justin Herbert       LAC    #007BC7     2          334.0   \n",
      "335     Justin Herbert       LAC    #007BC7     3          297.0   \n",
      "336     Justin Herbert       LAC    #007BC7     4          340.0   \n",
      "337     Justin Herbert       LAC    #007BC7     5          228.0   \n",
      "338     Justin Herbert       LAC    #007BC7     6          238.0   \n",
      "339     Justin Herbert       LAC    #007BC7     7          293.0   \n",
      "340     Justin Herbert       LAC    #007BC7     9          245.0   \n",
      "341     Justin Herbert       LAC    #007BC7    10          196.0   \n",
      "342     Justin Herbert       LAC    #007BC7    11          280.0   \n",
      "343     Justin Herbert       LAC    #007BC7    12          274.0   \n",
      "344     Justin Herbert       LAC    #007BC7    13          335.0   \n",
      "345     Justin Herbert       LAC    #007BC7    14          367.0   \n",
      "346     Justin Herbert       LAC    #007BC7    15          313.0   \n",
      "347     Justin Herbert       LAC    #007BC7    16          235.0   \n",
      "348     Justin Herbert       LAC    #007BC7    17          212.0   \n",
      "349     Justin Herbert       LAC    #007BC7    18          273.0   \n",
      "154         Derek Carr        LV    #000000     1          295.0   \n",
      "155         Derek Carr        LV    #000000     2          252.0   \n",
      "156         Derek Carr        LV    #000000     3          303.0   \n",
      "157         Derek Carr        LV    #000000     4          188.0   \n",
      "158         Derek Carr        LV    #000000     5          241.0   \n",
      "159         Derek Carr        LV    #000000     7          241.0   \n",
      "160         Derek Carr        LV    #000000     8          101.0   \n",
      "161         Derek Carr        LV    #000000     9          259.0   \n",
      "162         Derek Carr        LV    #000000    10          248.0   \n",
      "163         Derek Carr        LV    #000000    11          307.0   \n",
      "164         Derek Carr        LV    #000000    12          295.0   \n",
      "165         Derek Carr        LV    #000000    13          250.0   \n",
      "166         Derek Carr        LV    #000000    14          137.0   \n",
      "167         Derek Carr        LV    #000000    15          231.0   \n",
      "168         Derek Carr        LV    #000000    16          174.0   \n",
      "254    Jarrett Stidham        LV    #000000    17          365.0   \n",
      "255    Jarrett Stidham        LV    #000000    18          219.0   \n",
      "631     Tua Tagovailoa       MIA    #008E97     1          270.0   \n",
      "632     Tua Tagovailoa       MIA    #008E97     2          469.0   \n",
      "633     Tua Tagovailoa       MIA    #008E97     3          186.0   \n",
      "582  Teddy Bridgewater       MIA    #008E97     4          193.0   \n",
      "554    Skylar Thompson       MIA    #008E97     5          166.0   \n",
      "584  Teddy Bridgewater       MIA    #008E97     6          329.0   \n",
      "635     Tua Tagovailoa       MIA    #008E97     7          261.0   \n",
      "636     Tua Tagovailoa       MIA    #008E97     8          382.0   \n",
      "637     Tua Tagovailoa       MIA    #008E97     9          302.0   \n",
      "638     Tua Tagovailoa       MIA    #008E97    10          285.0   \n",
      "639     Tua Tagovailoa       MIA    #008E97    12          299.0   \n",
      "640     Tua Tagovailoa       MIA    #008E97    13          295.0   \n",
      "641     Tua Tagovailoa       MIA    #008E97    14          145.0   \n",
      "642     Tua Tagovailoa       MIA    #008E97    15          234.0   \n",
      "643     Tua Tagovailoa       MIA    #008E97    16          310.0   \n",
      "585  Teddy Bridgewater       MIA    #008E97    17          161.0   \n",
      "560    Skylar Thompson       MIA    #008E97    18          152.0   \n",
      "365       Kirk Cousins       MIN    #4F2683     1          277.0   \n",
      "366       Kirk Cousins       MIN    #4F2683     2          221.0   \n",
      "367       Kirk Cousins       MIN    #4F2683     3          260.0   \n",
      "368       Kirk Cousins       MIN    #4F2683     4          273.0   \n",
      "369       Kirk Cousins       MIN    #4F2683     5          296.0   \n",
      "370       Kirk Cousins       MIN    #4F2683     6          175.0   \n",
      "371       Kirk Cousins       MIN    #4F2683     8          232.0   \n",
      "372       Kirk Cousins       MIN    #4F2683     9          265.0   \n",
      "373       Kirk Cousins       MIN    #4F2683    10          357.0   \n",
      "374       Kirk Cousins       MIN    #4F2683    11          105.0   \n",
      "375       Kirk Cousins       MIN    #4F2683    12          299.0   \n",
      "376       Kirk Cousins       MIN    #4F2683    13          173.0   \n",
      "377       Kirk Cousins       MIN    #4F2683    14          425.0   \n",
      "378       Kirk Cousins       MIN    #4F2683    15          460.0   \n",
      "379       Kirk Cousins       MIN    #4F2683    16          299.0   \n",
      "380       Kirk Cousins       MIN    #4F2683    17          205.0   \n",
      "381       Kirk Cousins       MIN    #4F2683    18          225.0   \n",
      "410          Mac Jones        NE    #002244     1          213.0   \n",
      "411          Mac Jones        NE    #002244     2          252.0   \n",
      "412          Mac Jones        NE    #002244     3          321.0   \n",
      "35        Bailey Zappe        NE    #002244     4           99.0   \n",
      "36        Bailey Zappe        NE    #002244     5          188.0   \n",
      "37        Bailey Zappe        NE    #002244     6          309.0   \n",
      "38        Bailey Zappe        NE    #002244     7          185.0   \n",
      "414          Mac Jones        NE    #002244     8          194.0   \n",
      "415          Mac Jones        NE    #002244     9          147.0   \n",
      "416          Mac Jones        NE    #002244    11          246.0   \n",
      "417          Mac Jones        NE    #002244    12          382.0   \n",
      "418          Mac Jones        NE    #002244    13          195.0   \n",
      "419          Mac Jones        NE    #002244    14          235.0   \n",
      "420          Mac Jones        NE    #002244    15          112.0   \n",
      "421          Mac Jones        NE    #002244    16          240.0   \n",
      "422          Mac Jones        NE    #002244    17          204.0   \n",
      "423          Mac Jones        NE    #002244    18          243.0   \n",
      "231     Jameis Winston        NO    #D3BC8D     1          269.0   \n",
      "232     Jameis Winston        NO    #D3BC8D     2          236.0   \n",
      "233     Jameis Winston        NO    #D3BC8D     3          353.0   \n",
      "18         Andy Dalton        NO    #D3BC8D     4          236.0   \n",
      "19         Andy Dalton        NO    #D3BC8D     5          187.0   \n",
      "20         Andy Dalton        NO    #D3BC8D     6          162.0   \n",
      "21         Andy Dalton        NO    #D3BC8D     7          361.0   \n",
      "22         Andy Dalton        NO    #D3BC8D     8          229.0   \n",
      "23         Andy Dalton        NO    #D3BC8D     9          210.0   \n",
      "24         Andy Dalton        NO    #D3BC8D    10          174.0   \n",
      "25         Andy Dalton        NO    #D3BC8D    11          260.0   \n",
      "26         Andy Dalton        NO    #D3BC8D    12          204.0   \n",
      "27         Andy Dalton        NO    #D3BC8D    13          229.0   \n",
      "28         Andy Dalton        NO    #D3BC8D    15          151.0   \n",
      "29         Andy Dalton        NO    #D3BC8D    16           92.0   \n",
      "30         Andy Dalton        NO    #D3BC8D    17          205.0   \n",
      "31         Andy Dalton        NO    #D3BC8D    18          171.0   \n",
      "118       Daniel Jones       NYG    #0B2265     1          188.0   \n",
      "119       Daniel Jones       NYG    #0B2265     2          176.0   \n",
      "120       Daniel Jones       NYG    #0B2265     3          196.0   \n",
      "121       Daniel Jones       NYG    #0B2265     4           71.0   \n",
      "122       Daniel Jones       NYG    #0B2265     5          217.0   \n",
      "123       Daniel Jones       NYG    #0B2265     6          173.0   \n",
      "124       Daniel Jones       NYG    #0B2265     7          202.0   \n",
      "125       Daniel Jones       NYG    #0B2265     8          176.0   \n",
      "126       Daniel Jones       NYG    #0B2265    10          197.0   \n",
      "127       Daniel Jones       NYG    #0B2265    11          341.0   \n",
      "128       Daniel Jones       NYG    #0B2265    12          228.0   \n",
      "129       Daniel Jones       NYG    #0B2265    13          200.0   \n",
      "130       Daniel Jones       NYG    #0B2265    14          169.0   \n",
      "131       Daniel Jones       NYG    #0B2265    15          160.0   \n",
      "132       Daniel Jones       NYG    #0B2265    16          334.0   \n",
      "133       Daniel Jones       NYG    #0B2265    17          177.0   \n",
      "152         Davis Webb       NYG    #0B2265    18          168.0   \n",
      "288         Joe Flacco       NYJ    #003F2D     1          309.0   \n",
      "289         Joe Flacco       NYJ    #003F2D     2          307.0   \n",
      "290         Joe Flacco       NYJ    #003F2D     3          285.0   \n",
      "653        Zach Wilson       NYJ    #003F2D     4          252.0   \n",
      "654        Zach Wilson       NYJ    #003F2D     5          210.0   \n",
      "655        Zach Wilson       NYJ    #003F2D     6          110.0   \n",
      "656        Zach Wilson       NYJ    #003F2D     7          121.0   \n",
      "657        Zach Wilson       NYJ    #003F2D     8          355.0   \n",
      "658        Zach Wilson       NYJ    #003F2D     9          154.0   \n",
      "659        Zach Wilson       NYJ    #003F2D    11           77.0   \n",
      "465         Mike White       NYJ    #003F2D    12          315.0   \n",
      "466         Mike White       NYJ    #003F2D    13          369.0   \n",
      "467         Mike White       NYJ    #003F2D    14          268.0   \n",
      "660        Zach Wilson       NYJ    #003F2D    15          317.0   \n",
      "661        Zach Wilson       NYJ    #003F2D    16           92.0   \n",
      "468         Mike White       NYJ    #003F2D    17          240.0   \n",
      "292         Joe Flacco       NYJ    #003F2D    18          149.0   \n",
      "216        Jalen Hurts       PHI    #004C54     1          243.0   \n",
      "217        Jalen Hurts       PHI    #004C54     2          333.0   \n",
      "218        Jalen Hurts       PHI    #004C54     3          340.0   \n",
      "219        Jalen Hurts       PHI    #004C54     4          204.0   \n",
      "220        Jalen Hurts       PHI    #004C54     5          239.0   \n",
      "221        Jalen Hurts       PHI    #004C54     6          155.0   \n",
      "222        Jalen Hurts       PHI    #004C54     8          285.0   \n",
      "223        Jalen Hurts       PHI    #004C54     9          243.0   \n",
      "224        Jalen Hurts       PHI    #004C54    10          175.0   \n",
      "225        Jalen Hurts       PHI    #004C54    11          190.0   \n",
      "226        Jalen Hurts       PHI    #004C54    12          153.0   \n",
      "227        Jalen Hurts       PHI    #004C54    13          380.0   \n",
      "228        Jalen Hurts       PHI    #004C54    14          217.0   \n",
      "229        Jalen Hurts       PHI    #004C54    15          315.0   \n",
      "182    Gardner Minshew       PHI    #004C54    16          355.0   \n",
      "183    Gardner Minshew       PHI    #004C54    17          274.0   \n",
      "230        Jalen Hurts       PHI    #004C54    18          229.0   \n",
      "469  Mitchell Trubisky       PIT    #000000     1          194.0   \n",
      "470  Mitchell Trubisky       PIT    #000000     2          168.0   \n",
      "471  Mitchell Trubisky       PIT    #000000     3          207.0   \n",
      "352      Kenny Pickett       PIT    #000000     4          120.0   \n",
      "353      Kenny Pickett       PIT    #000000     5          327.0   \n",
      "473  Mitchell Trubisky       PIT    #000000     6          144.0   \n",
      "355      Kenny Pickett       PIT    #000000     7          257.0   \n",
      "356      Kenny Pickett       PIT    #000000     8          191.0   \n",
      "357      Kenny Pickett       PIT    #000000    10          199.0   \n",
      "358      Kenny Pickett       PIT    #000000    11          265.0   \n",
      "359      Kenny Pickett       PIT    #000000    12          174.0   \n",
      "360      Kenny Pickett       PIT    #000000    13          197.0   \n",
      "474  Mitchell Trubisky       PIT    #000000    14          276.0   \n",
      "475  Mitchell Trubisky       PIT    #000000    15          179.0   \n",
      "362      Kenny Pickett       PIT    #000000    16          244.0   \n",
      "363      Kenny Pickett       PIT    #000000    17          168.0   \n",
      "364      Kenny Pickett       PIT    #000000    18          195.0   \n",
      "185         Geno Smith       SEA    #002244     1          195.0   \n",
      "186         Geno Smith       SEA    #002244     2          197.0   \n",
      "187         Geno Smith       SEA    #002244     3          325.0   \n",
      "188         Geno Smith       SEA    #002244     4          320.0   \n",
      "189         Geno Smith       SEA    #002244     5          268.0   \n",
      "190         Geno Smith       SEA    #002244     6          197.0   \n",
      "191         Geno Smith       SEA    #002244     7          210.0   \n",
      "192         Geno Smith       SEA    #002244     8          212.0   \n",
      "193         Geno Smith       SEA    #002244     9          275.0   \n",
      "194         Geno Smith       SEA    #002244    10          275.0   \n",
      "195         Geno Smith       SEA    #002244    12          328.0   \n",
      "196         Geno Smith       SEA    #002244    13          367.0   \n",
      "197         Geno Smith       SEA    #002244    14          264.0   \n",
      "198         Geno Smith       SEA    #002244    15          238.0   \n",
      "199         Geno Smith       SEA    #002244    16          215.0   \n",
      "200         Geno Smith       SEA    #002244    17          183.0   \n",
      "201         Geno Smith       SEA    #002244    18          213.0   \n",
      "629         Trey Lance        SF    #AA0000     1          164.0   \n",
      "261    Jimmy Garoppolo        SF    #AA0000     2          154.0   \n",
      "262    Jimmy Garoppolo        SF    #AA0000     3          211.0   \n",
      "263    Jimmy Garoppolo        SF    #AA0000     4          239.0   \n",
      "264    Jimmy Garoppolo        SF    #AA0000     5          253.0   \n",
      "265    Jimmy Garoppolo        SF    #AA0000     6          296.0   \n",
      "266    Jimmy Garoppolo        SF    #AA0000     7          303.0   \n",
      "267    Jimmy Garoppolo        SF    #AA0000     8          235.0   \n",
      "268    Jimmy Garoppolo        SF    #AA0000    10          240.0   \n",
      "269    Jimmy Garoppolo        SF    #AA0000    11          228.0   \n",
      "270    Jimmy Garoppolo        SF    #AA0000    12          222.0   \n",
      "62         Brock Purdy        SF    #AA0000    13          210.0   \n",
      "63         Brock Purdy        SF    #AA0000    14          185.0   \n",
      "64         Brock Purdy        SF    #AA0000    15          217.0   \n",
      "65         Brock Purdy        SF    #AA0000    16          234.0   \n",
      "66         Brock Purdy        SF    #AA0000    17          284.0   \n",
      "67         Brock Purdy        SF    #AA0000    18          178.0   \n",
      "587          Tom Brady        TB    #A71930     1          212.0   \n",
      "588          Tom Brady        TB    #A71930     2          190.0   \n",
      "589          Tom Brady        TB    #A71930     3          271.0   \n",
      "590          Tom Brady        TB    #A71930     4          385.0   \n",
      "591          Tom Brady        TB    #A71930     5          351.0   \n",
      "592          Tom Brady        TB    #A71930     6          243.0   \n",
      "593          Tom Brady        TB    #A71930     7          290.0   \n",
      "594          Tom Brady        TB    #A71930     8          325.0   \n",
      "595          Tom Brady        TB    #A71930     9          280.0   \n",
      "596          Tom Brady        TB    #A71930    10          258.0   \n",
      "597          Tom Brady        TB    #A71930    12          246.0   \n",
      "598          Tom Brady        TB    #A71930    13          281.0   \n",
      "599          Tom Brady        TB    #A71930    14          253.0   \n",
      "600          Tom Brady        TB    #A71930    15          312.0   \n",
      "601          Tom Brady        TB    #A71930    16          281.0   \n",
      "602          Tom Brady        TB    #A71930    17          432.0   \n",
      "603          Tom Brady        TB    #A71930    18           84.0   \n",
      "529     Ryan Tannehill       TEN    #002244     1          266.0   \n",
      "530     Ryan Tannehill       TEN    #002244     2          117.0   \n",
      "531     Ryan Tannehill       TEN    #002244     3          264.0   \n",
      "532     Ryan Tannehill       TEN    #002244     4          137.0   \n",
      "533     Ryan Tannehill       TEN    #002244     5          181.0   \n",
      "534     Ryan Tannehill       TEN    #002244     7          132.0   \n",
      "426       Malik Willis       TEN    #002244     8           55.0   \n",
      "427       Malik Willis       TEN    #002244     9           80.0   \n",
      "535     Ryan Tannehill       TEN    #002244    10          255.0   \n",
      "536     Ryan Tannehill       TEN    #002244    11          333.0   \n",
      "537     Ryan Tannehill       TEN    #002244    12          291.0   \n",
      "538     Ryan Tannehill       TEN    #002244    13          141.0   \n",
      "539     Ryan Tannehill       TEN    #002244    14          254.0   \n",
      "540     Ryan Tannehill       TEN    #002244    15          165.0   \n",
      "430       Malik Willis       TEN    #002244    16           99.0   \n",
      "316       Joshua Dobbs       TEN    #002244    17          232.0   \n",
      "317       Joshua Dobbs       TEN    #002244    18          179.0   \n",
      "73        Carson Wentz       WAS    #5A1414     1          313.0   \n",
      "74        Carson Wentz       WAS    #5A1414     2          337.0   \n",
      "75        Carson Wentz       WAS    #5A1414     3          211.0   \n",
      "76        Carson Wentz       WAS    #5A1414     4          170.0   \n",
      "77        Carson Wentz       WAS    #5A1414     5          359.0   \n",
      "78        Carson Wentz       WAS    #5A1414     6           99.0   \n",
      "561    Taylor Heinicke       WAS    #5A1414     7          201.0   \n",
      "562    Taylor Heinicke       WAS    #5A1414     8          279.0   \n",
      "563    Taylor Heinicke       WAS    #5A1414     9          149.0   \n",
      "564    Taylor Heinicke       WAS    #5A1414    10          211.0   \n",
      "565    Taylor Heinicke       WAS    #5A1414    11          191.0   \n",
      "566    Taylor Heinicke       WAS    #5A1414    12          138.0   \n",
      "567    Taylor Heinicke       WAS    #5A1414    13          275.0   \n",
      "568    Taylor Heinicke       WAS    #5A1414    15          249.0   \n",
      "569    Taylor Heinicke       WAS    #5A1414    16          166.0   \n",
      "80        Carson Wentz       WAS    #5A1414    17          143.0   \n",
      "553         Sam Howell       WAS    #5A1414    18          169.0   \n",
      "\n",
      "     pass_touchdown  interception  pass_attempt  complete_pass  passer_rating  \n",
      "385             2.0           0.0          36.0           22.0           93.9  \n",
      "386             1.0           1.0          50.0           31.0           75.2  \n",
      "387             0.0           0.0          60.0           37.0           75.3  \n",
      "388             2.0           1.0          33.0           23.0           93.9  \n",
      "389             1.0           1.0          41.0           28.0           82.4  \n",
      "390             0.0           1.0          43.0           23.0           58.5  \n",
      "391             1.0           0.0          31.0           20.0           94.0  \n",
      "392             3.0           2.0          47.0           31.0           89.5  \n",
      "393             2.0           0.0          40.0           25.0           89.1  \n",
      "92              1.0           0.0          39.0           26.0           91.6  \n",
      "93              0.0           1.0          37.0           24.0           69.4  \n",
      "394             2.0           1.0          30.0           18.0           86.9  \n",
      "94              0.0           1.0          46.0           27.0           64.2  \n",
      "607             0.0           2.0          16.0            7.0           23.7  \n",
      "608             0.0           1.0          45.0           24.0           57.4  \n",
      "135             1.0           0.0          42.0           24.0           79.7  \n",
      "136             1.0           2.0          21.0           14.0           69.6  \n",
      "431             0.0           0.0          32.0           20.0           82.2  \n",
      "432             2.0           2.0          29.0           17.0           73.3  \n",
      "433             1.0           1.0          23.0           13.0           87.0  \n",
      "434             0.0           1.0          20.0            7.0           39.4  \n",
      "435             1.0           0.0          30.0           14.0           72.5  \n",
      "436             2.0           0.0          16.0           13.0          139.8  \n",
      "437             1.0           0.0          16.0            8.0           96.9  \n",
      "438             3.0           2.0          30.0           20.0           98.3  \n",
      "439             0.0           0.0          25.0           12.0           63.6  \n",
      "440             2.0           1.0          34.0           19.0           78.8  \n",
      "441             1.0           0.0          18.0           13.0          111.1  \n",
      "442             1.0           1.0          26.0           15.0           74.8  \n",
      "443             1.0           1.0          25.0           13.0           69.9  \n",
      "176             0.0           0.0          30.0           13.0           51.7  \n",
      "177             0.0           0.0          35.0           22.0           80.4  \n",
      "178             0.0           0.0          27.0           19.0           86.8  \n",
      "179             2.0           0.0          32.0           19.0          101.6  \n",
      "396             3.0           1.0          32.0           17.0           92.3  \n",
      "397             3.0           0.0          29.0           21.0          142.6  \n",
      "398             4.0           1.0          33.0           18.0          102.0  \n",
      "399             1.0           2.0          31.0           20.0           59.1  \n",
      "400             1.0           1.0          33.0           19.0           69.5  \n",
      "401             1.0           1.0          34.0           17.0           67.0  \n",
      "402             0.0           0.0          19.0            9.0           67.9  \n",
      "403             2.0           0.0          40.0           27.0           99.8  \n",
      "404             1.0           0.0          25.0           12.0           77.6  \n",
      "405             0.0           1.0          36.0           24.0           70.3  \n",
      "406             1.0           0.0          33.0           16.0           84.7  \n",
      "646             0.0           1.0          33.0           27.0           77.7  \n",
      "647             0.0           0.0          13.0            8.0           81.6  \n",
      "648             0.0           1.0          33.0           17.0           49.8  \n",
      "649             1.0           0.0          17.0            9.0           94.0  \n",
      "650             1.0           1.0          21.0           14.0           79.5  \n",
      "34              0.0           2.0          46.0           19.0           44.3  \n",
      "299             3.0           2.0          33.0           26.0          109.2  \n",
      "300             4.0           0.0          39.0           26.0          125.7  \n",
      "301             2.0           0.0          66.0           42.0           90.5  \n",
      "302             1.0           1.0          37.0           19.0           66.6  \n",
      "303             4.0           1.0          31.0           20.0          134.1  \n",
      "304             3.0           0.0          41.0           27.0          114.8  \n",
      "305             2.0           2.0          27.0           13.0           69.7  \n",
      "306             0.0           2.0          39.0           18.0           41.1  \n",
      "307             1.0           2.0          45.0           29.0           75.2  \n",
      "308             1.0           0.0          29.0           18.0           93.6  \n",
      "309             2.0           1.0          45.0           24.0           75.5  \n",
      "310             2.0           0.0          35.0           22.0          100.1  \n",
      "311             1.0           0.0          30.0           16.0           78.1  \n",
      "312             4.0           0.0          42.0           25.0          113.6  \n",
      "313             2.0           2.0          27.0           15.0           68.8  \n",
      "314             3.0           1.0          33.0           19.0           99.8  \n",
      "39              1.0           1.0          31.0           16.0           74.0  \n",
      "40              1.0           0.0          31.0           14.0           70.0  \n",
      "41              1.0           0.0          28.0           12.0           75.0  \n",
      "42              1.0           2.0          38.0           22.0           58.8  \n",
      "43              0.0           1.0          40.0           20.0           55.7  \n",
      "506             0.0           0.0          18.0           10.0           62.3  \n",
      "507             2.0           0.0          23.0           16.0          121.1  \n",
      "508             1.0           1.0          37.0           19.0           78.3  \n",
      "44              2.0           0.0          20.0           14.0          126.0  \n",
      "510             0.0           0.0          17.0           10.0           77.6  \n",
      "45              0.0           2.0          37.0           21.0           48.9  \n",
      "543             1.0           0.0          19.0           11.0          103.8  \n",
      "544             1.0           0.0          26.0           14.0           79.0  \n",
      "545             1.0           0.0          26.0           14.0           95.8  \n",
      "546             1.0           0.0          22.0           15.0          121.4  \n",
      "547             3.0           1.0          37.0           23.0          108.1  \n",
      "548             0.0           2.0          17.0            5.0            0.0  \n",
      "318             2.0           1.0          19.0            8.0           76.9  \n",
      "319             0.0           1.0          14.0            7.0           34.8  \n",
      "320             0.0           2.0          22.0            8.0           14.6  \n",
      "321             0.0           0.0          28.0           11.0           60.7  \n",
      "322             1.0           0.0          23.0           15.0          108.6  \n",
      "323             1.0           1.0          32.0           14.0           60.7  \n",
      "324             1.0           1.0          25.0           13.0           71.9  \n",
      "325             2.0           0.0          27.0           17.0          102.5  \n",
      "326             3.0           0.0          30.0           17.0           99.7  \n",
      "327             2.0           1.0          23.0           12.0           86.7  \n",
      "328             1.0           1.0          25.0           14.0           70.9  \n",
      "628             1.0           1.0          27.0           14.0           69.8  \n",
      "329             0.0           2.0          25.0           20.0           75.7  \n",
      "330             2.0           0.0          27.0           14.0           93.4  \n",
      "331             1.0           0.0          25.0           15.0           85.2  \n",
      "332             1.0           1.0          28.0            7.0           36.6  \n",
      "480             1.0           0.0          20.0           11.0           88.3  \n",
      "272             2.0           4.0          60.0           33.0           54.7  \n",
      "273             1.0           0.0          42.0           24.0           77.4  \n",
      "274             3.0           0.0          38.0           23.0          109.0  \n",
      "275             2.0           0.0          32.0           20.0          112.4  \n",
      "276             1.0           1.0          37.0           24.0           78.3  \n",
      "277             3.0           0.0          40.0           28.0          116.7  \n",
      "278             3.0           0.0          45.0           34.0          131.8  \n",
      "279             2.0           1.0          40.0           25.0           84.6  \n",
      "280             1.0           0.0          29.0           22.0          106.4  \n",
      "281             4.0           2.0          41.0           24.0           99.1  \n",
      "282             1.0           0.0          38.0           22.0           88.7  \n",
      "283             2.0           0.0          32.0           25.0          124.7  \n",
      "284             2.0           1.0          34.0           18.0           82.8  \n",
      "285             4.0           1.0          40.0           27.0          102.1  \n",
      "286             3.0           2.0          54.0           40.0           95.8  \n",
      "287             1.0           0.0          44.0           25.0           77.4  \n",
      "204             1.0           0.0          33.0           18.0           76.2  \n",
      "205             1.0           1.0          28.0           22.0           97.8  \n",
      "206             2.0           0.0          33.0           21.0          103.1  \n",
      "207             0.0           1.0          36.0           21.0           66.2  \n",
      "208             1.0           1.0          34.0           21.0           79.3  \n",
      "209             1.0           2.0          49.0           21.0           50.2  \n",
      "210             0.0           0.0          32.0           22.0           93.0  \n",
      "211             1.0           0.0          23.0           17.0          128.5  \n",
      "212             1.0           0.0          38.0           22.0           82.3  \n",
      "213             3.0           0.0          42.0           28.0          113.6  \n",
      "214             1.0           1.0          41.0           23.0           68.1  \n",
      "170             0.0           1.0          23.0           12.0           51.2  \n",
      "171             1.0           1.0          43.0           26.0           77.3  \n",
      "172             1.0           0.0          31.0           18.0           82.9  \n",
      "173             0.0           1.0          33.0           15.0           44.4  \n",
      "174             3.0           0.0          23.0            9.0          104.9  \n",
      "175             2.0           2.0          35.0           19.0           69.9  \n",
      "105             0.0           1.0          31.0           14.0           44.3  \n",
      "98              1.0           0.0          31.0           19.0           95.5  \n",
      "99              1.0           0.0          31.0           21.0           98.2  \n",
      "100             2.0           0.0          28.0           15.0          103.7  \n",
      "101             0.0           0.0          19.0           10.0           68.3  \n",
      "102             1.0           3.0          38.0           18.0           37.3  \n",
      "106             1.0           0.0          27.0           19.0          105.0  \n",
      "107             2.0           1.0          28.0           21.0          110.7  \n",
      "108             3.0           2.0          48.0           27.0           75.4  \n",
      "109             2.0           0.0          25.0           22.0          139.3  \n",
      "110             2.0           2.0          30.0           21.0           91.1  \n",
      "111             3.0           1.0          31.0           20.0           97.5  \n",
      "112             1.0           2.0          40.0           24.0           69.2  \n",
      "113             3.0           2.0          33.0           23.0           97.5  \n",
      "114             3.0           1.0          41.0           27.0          106.5  \n",
      "115             2.0           2.0          42.0           29.0           83.6  \n",
      "116             1.0           1.0          38.0           14.0           44.6  \n",
      "514             1.0           0.0          44.0           29.0           96.8  \n",
      "515             1.0           1.0          34.0           14.0           60.8  \n",
      "516             0.0           0.0          37.0           20.0           67.8  \n",
      "517             2.0           0.0          28.0           17.0          111.8  \n",
      "518             0.0           2.0          43.0           21.0           50.0  \n",
      "519             1.0           0.0          32.0           15.0           76.0  \n",
      "56              0.0           1.0          47.0           24.0           55.7  \n",
      "520             1.0           1.0          32.0           18.0           79.2  \n",
      "521             1.0           1.0          48.0           21.0           61.6  \n",
      "522             0.0           0.0          34.0           24.0           91.2  \n",
      "523             1.0           0.0          38.0           19.0           68.1  \n",
      "524             0.0           0.0          24.0           17.0           93.9  \n",
      "525             3.0           1.0          42.0           23.0           86.1  \n",
      "58              1.0           1.0          33.0           21.0           77.5  \n",
      "526             1.0           3.0          33.0           15.0           39.2  \n",
      "527             1.0           1.0          42.0           26.0           73.7  \n",
      "528             3.0           1.0          26.0           13.0          111.5  \n",
      "236             2.0           1.0          38.0           21.0           78.3  \n",
      "237             4.0           0.0          37.0           20.0          112.0  \n",
      "238             1.0           1.0          40.0           25.0           80.9  \n",
      "239             4.0           1.0          40.0           26.0          118.5  \n",
      "240             0.0           1.0          37.0           19.0           59.4  \n",
      "241             0.0           2.0          31.0           21.0           62.3  \n",
      "242             1.0           0.0          38.0           27.0          105.3  \n",
      "243             2.0           1.0          26.0           14.0           78.5  \n",
      "244             1.0           0.0          28.0           19.0          105.7  \n",
      "245             0.0           0.0          26.0           17.0           83.0  \n",
      "246             2.0           0.0          39.0           23.0           94.0  \n",
      "247             2.0           0.0          43.0           31.0          110.6  \n",
      "248             3.0           0.0          39.0           27.0          120.7  \n",
      "249             1.0           0.0          38.0           23.0           88.9  \n",
      "250             3.0           0.0          44.0           25.0          105.8  \n",
      "251             3.0           0.0          30.0           21.0          129.2  \n",
      "252             0.0           0.0          35.0           23.0           83.5  \n",
      "0               0.0           1.0          38.0           22.0           60.7  \n",
      "1               2.0           0.0          28.0           19.0          117.3  \n",
      "2               2.0           1.0          36.0           27.0          101.0  \n",
      "3               2.0           1.0          36.0           21.0           86.7  \n",
      "4               2.0           0.0          41.0           25.0           91.7  \n",
      "5               1.0           0.0          45.0           26.0           80.4  \n",
      "6               2.0           0.0          34.0           23.0          101.8  \n",
      "7               2.0           1.0          32.0           19.0           85.8  \n",
      "8               1.0           3.0          44.0           23.0           52.4  \n",
      "9               3.0           0.0          22.0           14.0          137.1  \n",
      "10              2.0           0.0          40.0           24.0           92.4  \n",
      "11              2.0           2.0          19.0           11.0           76.5  \n",
      "12              1.0           0.0          31.0           18.0           85.7  \n",
      "13              1.0           1.0          33.0           22.0           84.0  \n",
      "14              1.0           1.0          40.0           24.0           74.8  \n",
      "15              1.0           0.0          24.0           15.0           95.7  \n",
      "16              1.0           1.0          29.0           17.0           77.5  \n",
      "137             2.0           0.0          40.0           23.0           91.7  \n",
      "138             0.0           0.0          41.0           19.0           58.7  \n",
      "139             1.0           2.0          33.0           20.0           68.4  \n",
      "140             2.0           2.0          39.0           26.0           79.6  \n",
      "141             0.0           0.0          25.0           16.0           78.8  \n",
      "142             2.0           1.0          42.0           28.0           93.6  \n",
      "143             1.0           1.0          32.0           17.0           63.5  \n",
      "144             2.0           2.0          25.0           13.0           64.4  \n",
      "145             1.0           1.0          41.0           22.0           77.2  \n",
      "146             0.0           2.0          38.0           19.0           40.4  \n",
      "382             1.0           2.0          44.0           26.0           60.3  \n",
      "383             1.0           2.0          39.0           20.0           53.5  \n",
      "147             0.0           1.0          20.0           16.0           82.3  \n",
      "148             2.0           0.0          24.0           12.0           92.5  \n",
      "149             1.0           1.0          29.0           17.0           73.6  \n",
      "150             0.0           0.0          41.0           22.0           67.3  \n",
      "151             3.0           2.0          39.0           22.0           85.2  \n",
      "444             1.0           1.0          52.0           32.0           80.0  \n",
      "445             0.0           3.0          35.0           16.0           27.7  \n",
      "446             2.0           0.0          42.0           27.0           93.6  \n",
      "447             2.0           1.0          40.0           27.0          101.7  \n",
      "448             0.0           2.0          46.0           26.0           53.8  \n",
      "449             3.0           0.0          58.0           42.0          107.6  \n",
      "450             1.0           2.0          47.0           33.0           71.5  \n",
      "549             0.0           0.0          25.0           17.0           92.2  \n",
      "550             0.0           1.0          38.0           15.0           36.5  \n",
      "451             1.0           0.0          29.0           21.0          105.8  \n",
      "452             0.0           0.0          36.0           23.0           80.0  \n",
      "453             1.0           1.0          37.0           22.0           71.8  \n",
      "454             2.0           3.0          40.0           21.0           55.5  \n",
      "455             1.0           0.0          36.0           19.0           76.4  \n",
      "481             0.0           3.0          36.0           17.0           23.3  \n",
      "482             0.0           1.0          14.0            8.0           44.0  \n",
      "552             2.0           2.0          37.0           23.0           72.9  \n",
      "610             1.0           1.0          44.0           24.0           71.7  \n",
      "611             2.0           0.0          30.0           25.0          121.5  \n",
      "612             3.0           0.0          39.0           28.0          115.5  \n",
      "613             2.0           1.0          27.0           11.0           72.1  \n",
      "614             0.0           2.0          46.0           25.0           55.2  \n",
      "615             1.0           0.0          26.0           20.0          105.4  \n",
      "616             0.0           0.0          43.0           22.0           74.8  \n",
      "617             1.0           2.0          33.0           18.0           49.2  \n",
      "618             1.0           0.0          30.0           25.0          110.4  \n",
      "619             2.0           0.0          45.0           29.0           94.6  \n",
      "620             3.0           0.0          41.0           29.0          118.0  \n",
      "621             1.0           0.0          33.0           17.0           77.7  \n",
      "622             3.0           0.0          42.0           30.0          121.9  \n",
      "623             4.0           1.0          43.0           27.0          106.5  \n",
      "624             0.0           0.0          32.0           20.0           84.0  \n",
      "625             0.0           1.0          22.0           17.0           76.3  \n",
      "626             1.0           0.0          33.0           20.0           89.5  \n",
      "487             5.0           0.0          39.0           30.0          144.2  \n",
      "488             2.0           0.0          36.0           24.0          103.4  \n",
      "489             1.0           1.0          36.0           20.0           76.4  \n",
      "490             3.0           1.0          40.0           23.0           90.5  \n",
      "491             4.0           0.0          46.0           29.0          110.1  \n",
      "492             2.0           2.0          43.0           25.0           79.4  \n",
      "493             3.0           1.0          35.0           25.0          128.6  \n",
      "494             1.0           1.0          72.0           43.0           76.5  \n",
      "495             4.0           1.0          35.0           26.0          129.6  \n",
      "496             3.0           0.0          35.0           20.0          117.4  \n",
      "497             1.0           1.0          42.0           27.0           85.4  \n",
      "498             1.0           0.0          29.0           16.0           91.6  \n",
      "499             3.0           3.0          44.0           28.0           82.8  \n",
      "500             2.0           0.0          43.0           36.0          114.7  \n",
      "501             2.0           0.0          29.0           16.0          103.2  \n",
      "502             3.0           1.0          42.0           29.0          106.1  \n",
      "503             1.0           0.0          28.0           18.0           97.6  \n",
      "456             1.0           3.0          48.0           29.0           54.2  \n",
      "457             3.0           2.0          37.0           27.0           98.0  \n",
      "458             0.0           0.0          26.0           18.0           99.7  \n",
      "459             0.0           1.0          55.0           32.0           62.2  \n",
      "460             1.0           1.0          47.0           28.0           77.3  \n",
      "461             1.0           1.0          34.0           26.0           94.4  \n",
      "462             1.0           0.0          35.0           22.0           86.2  \n",
      "463             1.0           0.0          31.0           13.0           70.0  \n",
      "293             1.0           1.0          39.0           24.0           73.9  \n",
      "464             2.0           0.0          19.0           11.0          120.3  \n",
      "70              1.0           2.0          26.0           13.0           40.5  \n",
      "294             0.0           2.0          30.0           14.0           37.9  \n",
      "46              1.0           0.0          38.0           22.0           84.3  \n",
      "47              1.0           1.0          26.0           12.0           55.1  \n",
      "48              2.0           0.0          28.0           24.0          124.7  \n",
      "49              0.0           0.0          22.0           11.0           68.8  \n",
      "50              0.0           1.0          31.0           13.0           43.3  \n",
      "333             3.0           0.0          34.0           26.0          129.4  \n",
      "334             3.0           1.0          50.0           33.0           96.6  \n",
      "335             1.0           1.0          46.0           25.0           72.5  \n",
      "336             2.0           0.0          40.0           27.0          110.4  \n",
      "337             1.0           0.0          35.0           22.0           91.1  \n",
      "338             0.0           1.0          59.0           37.0           64.1  \n",
      "339             2.0           1.0          54.0           33.0           80.2  \n",
      "340             1.0           1.0          43.0           30.0           82.0  \n",
      "341             1.0           1.0          37.0           21.0           69.2  \n",
      "342             2.0           1.0          35.0           23.0           97.3  \n",
      "343             3.0           0.0          51.0           35.0          101.3  \n",
      "344             1.0           0.0          52.0           28.0           80.2  \n",
      "345             1.0           0.0          55.0           39.0           95.0  \n",
      "346             0.0           2.0          43.0           28.0           67.3  \n",
      "347             0.0           1.0          35.0           24.0           75.3  \n",
      "348             2.0           0.0          28.0           21.0          119.9  \n",
      "349             2.0           0.0          38.0           25.0          104.4  \n",
      "154             2.0           3.0          42.0           22.0           61.1  \n",
      "155             2.0           0.0          40.0           25.0           97.1  \n",
      "156             2.0           1.0          45.0           26.0           83.8  \n",
      "157             0.0           0.0          36.0           21.0           72.5  \n",
      "158             2.0           0.0          32.0           19.0          103.8  \n",
      "159             1.0           0.0          28.0           21.0          112.4  \n",
      "160             0.0           1.0          29.0           15.0           45.3  \n",
      "161             2.0           0.0          38.0           21.0           94.1  \n",
      "162             2.0           0.0          40.0           24.0           94.6  \n",
      "163             2.0           0.0          38.0           23.0          103.7  \n",
      "164             3.0           2.0          37.0           25.0           96.1  \n",
      "165             2.0           1.0          30.0           16.0           89.6  \n",
      "166             0.0           2.0          20.0           11.0           36.9  \n",
      "167             3.0           1.0          41.0           20.0           80.4  \n",
      "168             1.0           3.0          33.0           16.0           36.7  \n",
      "254             3.0           2.0          34.0           23.0          108.1  \n",
      "255             1.0           1.0          42.0           22.0           65.5  \n",
      "631             1.0           0.0          36.0           23.0           95.8  \n",
      "632             6.0           2.0          51.0           36.0          122.1  \n",
      "633             1.0           0.0          19.0           13.0          117.4  \n",
      "582             1.0           1.0          23.0           14.0           84.1  \n",
      "554             0.0           1.0          35.0           19.0           55.2  \n",
      "584             2.0           2.0          39.0           23.0           82.1  \n",
      "635             1.0           0.0          35.0           21.0           92.7  \n",
      "636             3.0           0.0          38.0           29.0          133.9  \n",
      "637             3.0           0.0          30.0           21.0          135.7  \n",
      "638             3.0           0.0          32.0           25.0          135.0  \n",
      "639             1.0           0.0          39.0           22.0           89.6  \n",
      "640             2.0           2.0          36.0           18.0           73.3  \n",
      "641             1.0           0.0          30.0           10.0           61.1  \n",
      "642             2.0           0.0          32.0           17.0           97.7  \n",
      "643             1.0           3.0          27.0           16.0           72.1  \n",
      "585             1.0           1.0          20.0           12.0           81.5  \n",
      "560             0.0           0.0          32.0           20.0           74.0  \n",
      "365             2.0           0.0          33.0           23.0          115.3  \n",
      "366             1.0           3.0          48.0           27.0           49.0  \n",
      "367             2.0           0.0          41.0           24.0           93.5  \n",
      "368             1.0           1.0          41.0           25.0           78.6  \n",
      "369             1.0           1.0          41.0           32.0           94.7  \n",
      "370             2.0           0.0          33.0           20.0           94.9  \n",
      "371             2.0           0.0          39.0           24.0           95.2  \n",
      "372             2.0           1.0          42.0           22.0           78.0  \n",
      "373             1.0           2.0          54.0           30.0           66.7  \n",
      "374             0.0           0.0          30.0           12.0           50.0  \n",
      "375             3.0           1.0          38.0           30.0          114.8  \n",
      "376             1.0           0.0          37.0           21.0           77.9  \n",
      "377             2.0           0.0          44.0           31.0          116.2  \n",
      "378             4.0           2.0          61.0           34.0           88.1  \n",
      "379             3.0           0.0          51.0           34.0          101.7  \n",
      "380             1.0           3.0          33.0           18.0           45.6  \n",
      "381             1.0           0.0          20.0           17.0          130.2  \n",
      "410             1.0           1.0          32.0           21.0           81.9  \n",
      "411             1.0           1.0          35.0           21.0           79.7  \n",
      "412             0.0           3.0          35.0           22.0           57.0  \n",
      "35              1.0           0.0          18.0           10.0           89.8  \n",
      "36              1.0           1.0          21.0           17.0          100.0  \n",
      "37              2.0           0.0          36.0           24.0          111.9  \n",
      "38              1.0           2.0          23.0           14.0           64.6  \n",
      "414             1.0           1.0          41.0           24.0           68.5  \n",
      "415             1.0           0.0          34.0           20.0           78.9  \n",
      "416             0.0           0.0          33.0           23.0           91.2  \n",
      "417             2.0           0.0          41.0           28.0          114.1  \n",
      "418             1.0           0.0          37.0           22.0           82.6  \n",
      "419             0.0           1.0          36.0           24.0           73.3  \n",
      "420             0.0           0.0          31.0           13.0           52.1  \n",
      "421             2.0           0.0          36.0           21.0           97.0  \n",
      "422             2.0           0.0          36.0           20.0           90.5  \n",
      "423             3.0           3.0          41.0           26.0           73.5  \n",
      "231             2.0           0.0          36.0           23.0          105.0  \n",
      "232             1.0           3.0          46.0           25.0           48.8  \n",
      "233             1.0           2.0          42.0           25.0           74.8  \n",
      "18              1.0           0.0          30.0           20.0          101.5  \n",
      "19              1.0           1.0          25.0           16.0           83.2  \n",
      "20              1.0           0.0          33.0           17.0           75.6  \n",
      "21              4.0           3.0          47.0           30.0           89.1  \n",
      "22              2.0           0.0          30.0           22.0          117.2  \n",
      "23              1.0           1.0          33.0           19.0           74.1  \n",
      "24              1.0           2.0          29.0           17.0           58.7  \n",
      "25              3.0           0.0          28.0           21.0          139.0  \n",
      "26              0.0           0.0          30.0           18.0           80.4  \n",
      "27              1.0           0.0          30.0           20.0          100.6  \n",
      "28              2.0           0.0          19.0           11.0          118.5  \n",
      "29              0.0           1.0          15.0            8.0           44.3  \n",
      "30              0.0           1.0          28.0           18.0           71.3  \n",
      "31              1.0           0.0          26.0           15.0           90.4  \n",
      "118             2.0           1.0          26.0           17.0           96.3  \n",
      "119             1.0           0.0          37.0           22.0           80.5  \n",
      "120             0.0           1.0          42.0           20.0           51.3  \n",
      "121             0.0           0.0          14.0            8.0           70.8  \n",
      "122             0.0           0.0          28.0           21.0           96.9  \n",
      "123             2.0           0.0          31.0           19.0           97.9  \n",
      "124             1.0           0.0          31.0           19.0           91.1  \n",
      "125             0.0           0.0          36.0           17.0           61.8  \n",
      "126             2.0           0.0          20.0           13.0          130.6  \n",
      "127             1.0           2.0          46.0           27.0           71.0  \n",
      "128             1.0           0.0          35.0           21.0           88.8  \n",
      "129             1.0           0.0          33.0           25.0          100.6  \n",
      "130             1.0           0.0          31.0           18.0           83.9  \n",
      "131             0.0           0.0          32.0           21.0           77.6  \n",
      "132             1.0           1.0          45.0           30.0           86.7  \n",
      "133             2.0           0.0          24.0           19.0          125.2  \n",
      "152             1.0           0.0          40.0           23.0           75.8  \n",
      "288             1.0           1.0          62.0           37.0           71.2  \n",
      "289             4.0           0.0          46.0           26.0          106.0  \n",
      "290             0.0           2.0          56.0           28.0           50.1  \n",
      "653             1.0           2.0          37.0           18.0           57.5  \n",
      "654             0.0           0.0          23.0           14.0           90.9  \n",
      "655             0.0           0.0          20.0           10.0           66.7  \n",
      "656             0.0           0.0          29.0           16.0           65.4  \n",
      "657             2.0           3.0          43.0           20.0           61.7  \n",
      "658             1.0           0.0          27.0           18.0           93.8  \n",
      "659             0.0           0.0          26.0            9.0           43.4  \n",
      "465             3.0           0.0          29.0           22.0          145.0  \n",
      "466             0.0           2.0          58.0           31.0           58.8  \n",
      "467             0.0           0.0          47.0           27.0           73.7  \n",
      "660             2.0           1.0          39.0           18.0           80.8  \n",
      "661             0.0           1.0          21.0            9.0           36.2  \n",
      "468             0.0           2.0          50.0           23.0           43.8  \n",
      "292             0.0           0.0          33.0           18.0           66.4  \n",
      "216             0.0           0.0          33.0           18.0           78.2  \n",
      "217             1.0           1.0          34.0           26.0          104.2  \n",
      "218             3.0           0.0          38.0           22.0          113.9  \n",
      "219             0.0           1.0          27.0           16.0           67.5  \n",
      "220             0.0           0.0          38.0           26.0           85.3  \n",
      "221             2.0           0.0          29.0           15.0           90.4  \n",
      "222             4.0           0.0          31.0           19.0          131.0  \n",
      "223             2.0           0.0          31.0           21.0          112.7  \n",
      "224             2.0           1.0          27.0           17.0           90.8  \n",
      "225             1.0           0.0          28.0           18.0           95.8  \n",
      "226             2.0           0.0          30.0           16.0           90.0  \n",
      "227             3.0           0.0          41.0           29.0          124.0  \n",
      "228             2.0           0.0          35.0           21.0           97.0  \n",
      "229             0.0           2.0          38.0           22.0           62.9  \n",
      "182             2.0           2.0          39.0           24.0           87.0  \n",
      "183             1.0           1.0          38.0           18.0           69.4  \n",
      "230             0.0           1.0          38.0           20.0           60.1  \n",
      "469             1.0           0.0          38.0           21.0           78.2  \n",
      "470             1.0           1.0          36.0           21.0           67.8  \n",
      "471             0.0           0.0          33.0           20.0           78.7  \n",
      "352             0.0           3.0          13.0           10.0           65.1  \n",
      "353             0.0           1.0          55.0           34.0           70.8  \n",
      "473             1.0           0.0          13.0            9.0          131.6  \n",
      "355             1.0           3.0          45.0           32.0           64.8  \n",
      "356             0.0           1.0          44.0           25.0           58.0  \n",
      "357             0.0           0.0          36.0           18.0           66.8  \n",
      "358             1.0           0.0          44.0           25.0           82.1  \n",
      "359             0.0           0.0          31.0           20.0           79.2  \n",
      "360             1.0           0.0          28.0           16.0           90.9  \n",
      "474             1.0           3.0          31.0           22.0           69.5  \n",
      "475             0.0           0.0          23.0           17.0           96.1  \n",
      "362             1.0           1.0          39.0           26.0           81.6  \n",
      "363             1.0           0.0          29.0           15.0           80.8  \n",
      "364             1.0           0.0          30.0           13.0           76.4  \n",
      "185             2.0           0.0          30.0           23.0          115.3  \n",
      "186             0.0           1.0          32.0           24.0           77.2  \n",
      "187             2.0           1.0          46.0           32.0           94.9  \n",
      "188             2.0           0.0          30.0           23.0          132.6  \n",
      "189             3.0           0.0          28.0           16.0          125.3  \n",
      "190             0.0           0.0          36.0           20.0           71.2  \n",
      "191             2.0           1.0          29.0           20.0           98.3  \n",
      "192             2.0           0.0          37.0           23.0           95.8  \n",
      "193             2.0           1.0          36.0           26.0          101.0  \n",
      "194             2.0           0.0          36.0           23.0          105.7  \n",
      "195             2.0           1.0          40.0           27.0           98.8  \n",
      "196             3.0           1.0          43.0           28.0          105.5  \n",
      "197             3.0           2.0          39.0           21.0           79.4  \n",
      "198             1.0           0.0          47.0           31.0           85.2  \n",
      "199             1.0           1.0          42.0           25.0           71.0  \n",
      "200             2.0           0.0          33.0           18.0           90.8  \n",
      "201             1.0           2.0          33.0           19.0           61.8  \n",
      "629             0.0           1.0          30.0           13.0           47.1  \n",
      "261             1.0           0.0          22.0           13.0           95.6  \n",
      "262             1.0           1.0          33.0           18.0           71.7  \n",
      "263             1.0           0.0          27.0           16.0          100.7  \n",
      "264             2.0           0.0          32.0           18.0          102.7  \n",
      "265             2.0           2.0          41.0           29.0           87.0  \n",
      "266             2.0           1.0          42.0           25.0           87.7  \n",
      "267             2.0           0.0          28.0           21.0          123.4  \n",
      "268             0.0           0.0          29.0           19.0           91.2  \n",
      "269             4.0           0.0          29.0           20.0          131.9  \n",
      "270             1.0           0.0          38.0           26.0           92.2  \n",
      "62              2.0           1.0          40.0           25.0           82.3  \n",
      "63              2.0           0.0          21.0           16.0          134.0  \n",
      "64              2.0           0.0          27.0           17.0          112.7  \n",
      "65              2.0           1.0          25.0           15.0          101.1  \n",
      "66              2.0           1.0          35.0           22.0           95.4  \n",
      "67              3.0           0.0          24.0           15.0          124.7  \n",
      "587             1.0           1.0          29.0           18.0           81.4  \n",
      "588             1.0           0.0          35.0           18.0           77.1  \n",
      "589             1.0           0.0          45.0           31.0           92.0  \n",
      "590             3.0           0.0          53.0           39.0          112.5  \n",
      "591             1.0           0.0          52.0           35.0           92.7  \n",
      "592             1.0           0.0          41.0           25.0           85.7  \n",
      "593             0.0           0.0          50.0           32.0           79.6  \n",
      "594             1.0           0.0          46.0           26.0           85.9  \n",
      "595             1.0           0.0          58.0           36.0           79.7  \n",
      "596             2.0           1.0          29.0           22.0          111.0  \n",
      "597             2.0           0.0          46.0           29.0           91.4  \n",
      "598             2.0           1.0          55.0           36.0           82.5  \n",
      "599             1.0           2.0          55.0           34.0           63.7  \n",
      "600             3.0           2.0          45.0           30.0           90.2  \n",
      "601             1.0           2.0          48.0           32.0           71.6  \n",
      "602             3.0           0.0          48.0           34.0          119.4  \n",
      "603             1.0           0.0          17.0           13.0          106.0  \n",
      "529             2.0           0.0          33.0           20.0          106.4  \n",
      "530             0.0           2.0          22.0           11.0           28.0  \n",
      "531             1.0           1.0          28.0           19.0           94.9  \n",
      "532             2.0           0.0          24.0           17.0          112.7  \n",
      "533             1.0           0.0          30.0           15.0           80.0  \n",
      "534             0.0           0.0          22.0           13.0           76.3  \n",
      "426             0.0           1.0          13.0            6.0           26.1  \n",
      "427             0.0           0.0          19.0            5.0           44.6  \n",
      "535             2.0           0.0          37.0           19.0           91.6  \n",
      "536             2.0           1.0          30.0           22.0          117.8  \n",
      "537             0.0           0.0          35.0           22.0           89.1  \n",
      "538             1.0           0.0          28.0           14.0           76.6  \n",
      "539             2.0           1.0          42.0           25.0           82.8  \n",
      "540             0.0           1.0          26.0           15.0           60.6  \n",
      "430             0.0           2.0          27.0           14.0           29.7  \n",
      "316             1.0           1.0          41.0           20.0           64.3  \n",
      "317             1.0           1.0          33.0           20.0           72.7  \n",
      "73              4.0           2.0          42.0           27.0           98.6  \n",
      "74              3.0           1.0          51.0           30.0           90.1  \n",
      "75              0.0           0.0          52.0           25.0           59.1  \n",
      "76              1.0           2.0          44.0           25.0           54.2  \n",
      "77              2.0           1.0          41.0           25.0           95.5  \n",
      "78              0.0           0.0          25.0           12.0           58.6  \n",
      "561             2.0           1.0          34.0           20.0           83.1  \n",
      "562             1.0           1.0          33.0           23.0           92.9  \n",
      "563             2.0           1.0          31.0           15.0           70.5  \n",
      "564             0.0           1.0          30.0           17.0           64.7  \n",
      "565             0.0           0.0          27.0           15.0           77.9  \n",
      "566             2.0           1.0          23.0           14.0           88.7  \n",
      "567             2.0           0.0          46.0           27.0           90.4  \n",
      "568             1.0           0.0          32.0           17.0           89.2  \n",
      "569             2.0           1.0          20.0           13.0          103.3  \n",
      "80              0.0           3.0          31.0           16.0           24.7  \n",
      "553             1.0           1.0          22.0           11.0           72.0  \n"
     ]
    }
   ],
   "source": [
    "\n",
    "#well, we got 542, so we're missing 2. Figure out which 2 tomorrow\n",
    "#SPOILER ALERT: WE ARE NOT MISSING 2, WE ARE IGNORING THE REALITY OF THE BYE WEEK\n",
    "#And we can unignore it tomorrow. Goodnight\n",
    "\n",
    "#this might not work\n",
    "with pd.option_context('display.max_rows', None,\n",
    "                       'display.max_columns', None,\n",
    "                       'display.precision', 3,\n",
    "                       ):\n",
    "    print(dfPRFiltered)\n"
   ]
  },
  {
   "cell_type": "code",
   "execution_count": 65,
   "id": "e83f61f8",
   "metadata": {},
   "outputs": [],
   "source": [
    "def passyardsperweek(quarterback, df):\n",
    "    \n",
    "    pnamedframe = df[df[\"player_name\"] == quarterback]\n",
    "    \n",
    "    fig = go.Figure()\n",
    "\n",
    "    #for name, values in df_agg.groupby(\"player_name\"):\n",
    "    for name, values in pnamedframe.groupby(\"player_name\"):\n",
    "        if values[\"passing_yards\"].sum() > 1500:\n",
    "            fig.add_trace(\n",
    "                go.Scatter(\n",
    "                    x=values[\"week\"],\n",
    "                    y=values[\"passing_yards\"].cumsum(),\n",
    "                    name=name,\n",
    "                    mode=\"markers+lines\",\n",
    "                    line_color=values.iloc[0].team_color,\n",
    "                    hovertemplate=f\"<b>{name}</b><br>%{{y}} yds through week %{{x}}<extra></extra>\"\n",
    "                )\n",
    "            )\n",
    "\n",
    "        \n",
    "    fig.update_layout(\n",
    "        font_family=\"Averta, sans-serif\",\n",
    "        hoverlabel_font_family=\"Averta, sans-serif\",\n",
    "        xaxis_title_text=\"Week\",\n",
    "        xaxis_title_font_size=18,\n",
    "        xaxis_tickfont_size=16,\n",
    "        yaxis_title_text=\"Passing Yards\",\n",
    "        yaxis_title_font_size=18,\n",
    "        yaxis_tickfont_size=16,\n",
    "        hoverlabel_font_size=16,\n",
    "        legend_font_size=16,\n",
    "        height=1000,\n",
    "        width=1000\n",
    "    )\n",
    "\n",
    "    fig.show()"
   ]
  },
  {
   "cell_type": "code",
   "execution_count": 67,
   "id": "714e3809",
   "metadata": {},
   "outputs": [],
   "source": [
    "def showAllPassingYards(df):\n",
    "    fig = go.Figure()\n",
    "\n",
    "    for name, values in df.groupby(\"player_name\"):\n",
    "        if values[\"passing_yards\"].sum() > 1500:\n",
    "            fig.add_trace(\n",
    "                go.Scatter(\n",
    "                    x=values[\"week\"],\n",
    "                    y=values[\"passing_yards\"].cumsum(),\n",
    "                    name=name,\n",
    "                    mode=\"markers+lines\",\n",
    "                    line_color=values.iloc[0].team_color,\n",
    "                    hovertemplate=f\"<b>{name}</b><br>%{{y}} yds through week %{{x}}<extra></extra>\"\n",
    "                )\n",
    "            )\n",
    "\n",
    "        \n",
    "    fig.update_layout(\n",
    "        font_family=\"Averta, sans-serif\",\n",
    "        hoverlabel_font_family=\"Averta, sans-serif\",\n",
    "        xaxis_title_text=\"Week\",\n",
    "        xaxis_title_font_size=18,\n",
    "        xaxis_tickfont_size=16,\n",
    "        yaxis_title_text=\"Passing Yards\",\n",
    "        yaxis_title_font_size=18,\n",
    "        yaxis_tickfont_size=16,\n",
    "        hoverlabel_font_size=16,\n",
    "        legend_font_size=16,\n",
    "        height=1000,\n",
    "        width=1000\n",
    "    )\n",
    "\n",
    "    fig.show()"
   ]
  },
  {
   "cell_type": "code",
   "execution_count": 68,
   "id": "ae6b7d74",
   "metadata": {},
   "outputs": [
    {
     "data": {
      "application/vnd.plotly.v1+json": {
       "config": {
        "plotlyServerURL": "https://plot.ly"
       },
       "data": [
        {
         "hovertemplate": "<b>Aaron Rodgers</b><br>%{y} yds through week %{x}<extra></extra>",
         "line": {
          "color": "#203731"
         },
         "mode": "markers+lines",
         "name": "Aaron Rodgers",
         "type": "scatter",
         "x": [
          1,
          2,
          3,
          4,
          5,
          6,
          7,
          8,
          9,
          10,
          11,
          12,
          13,
          15,
          16,
          17,
          18
         ],
         "y": [
          195,
          429,
          684,
          935,
          1157,
          1403,
          1597,
          1800,
          2091,
          2315,
          2542,
          2682,
          2864,
          3093,
          3331,
          3490,
          3695
         ]
        },
        {
         "hovertemplate": "<b>Andy Dalton</b><br>%{y} yds through week %{x}<extra></extra>",
         "line": {
          "color": "#D3BC8D"
         },
         "mode": "markers+lines",
         "name": "Andy Dalton",
         "type": "scatter",
         "x": [
          4,
          5,
          6,
          7,
          8,
          9,
          10,
          11,
          12,
          13,
          15,
          16,
          17,
          18
         ],
         "y": [
          236,
          423,
          585,
          946,
          1175,
          1385,
          1559,
          1819,
          2023,
          2252,
          2403,
          2495,
          2700,
          2871
         ]
        },
        {
         "hovertemplate": "<b>Baker Mayfield</b><br>%{y} yds through week %{x}<extra></extra>",
         "line": {
          "color": "#0085CA"
         },
         "mode": "markers+lines",
         "name": "Baker Mayfield",
         "type": "scatter",
         "x": [
          1,
          2,
          3,
          4,
          5,
          9,
          11,
          14,
          15,
          16,
          17,
          18
         ],
         "y": [
          235,
          380,
          550,
          747,
          962,
          1117,
          1313,
          1543,
          1654,
          1884,
          2016,
          2163
         ]
        },
        {
         "hovertemplate": "<b>Carson Wentz</b><br>%{y} yds through week %{x}<extra></extra>",
         "line": {
          "color": "#5A1414"
         },
         "mode": "markers+lines",
         "name": "Carson Wentz",
         "type": "scatter",
         "x": [
          1,
          2,
          3,
          4,
          5,
          6,
          16,
          17
         ],
         "y": [
          313,
          650,
          861,
          1031,
          1390,
          1489,
          1612,
          1755
         ]
        },
        {
         "hovertemplate": "<b>Dak Prescott</b><br>%{y} yds through week %{x}<extra></extra>",
         "line": {
          "color": "#002244"
         },
         "mode": "markers+lines",
         "name": "Dak Prescott",
         "type": "scatter",
         "x": [
          1,
          7,
          8,
          10,
          11,
          12,
          13,
          14,
          15,
          16,
          17,
          18
         ],
         "y": [
          134,
          341,
          591,
          856,
          1132,
          1393,
          1563,
          1847,
          2103,
          2450,
          2732,
          2860
         ]
        },
        {
         "hovertemplate": "<b>Daniel Jones</b><br>%{y} yds through week %{x}<extra></extra>",
         "line": {
          "color": "#0B2265"
         },
         "mode": "markers+lines",
         "name": "Daniel Jones",
         "type": "scatter",
         "x": [
          1,
          2,
          3,
          4,
          5,
          6,
          7,
          8,
          10,
          11,
          12,
          13,
          14,
          15,
          16,
          17
         ],
         "y": [
          188,
          364,
          560,
          631,
          848,
          1021,
          1223,
          1399,
          1596,
          1937,
          2165,
          2365,
          2534,
          2694,
          3028,
          3205
         ]
        },
        {
         "hovertemplate": "<b>Davis Mills</b><br>%{y} yds through week %{x}<extra></extra>",
         "line": {
          "color": "#03202F"
         },
         "mode": "markers+lines",
         "name": "Davis Mills",
         "type": "scatter",
         "x": [
          1,
          2,
          3,
          4,
          5,
          7,
          8,
          9,
          10,
          11,
          14,
          15,
          16,
          17,
          18
         ],
         "y": [
          240,
          417,
          662,
          908,
          1048,
          1350,
          1502,
          1656,
          1975,
          2144,
          2319,
          2440,
          2618,
          2820,
          3118
         ]
        },
        {
         "hovertemplate": "<b>Derek Carr</b><br>%{y} yds through week %{x}<extra></extra>",
         "line": {
          "color": "#000000"
         },
         "mode": "markers+lines",
         "name": "Derek Carr",
         "type": "scatter",
         "x": [
          1,
          2,
          3,
          4,
          5,
          7,
          8,
          9,
          10,
          11,
          12,
          13,
          14,
          15,
          16
         ],
         "y": [
          295,
          547,
          850,
          1038,
          1279,
          1520,
          1621,
          1880,
          2128,
          2435,
          2730,
          2980,
          3117,
          3348,
          3522
         ]
        },
        {
         "hovertemplate": "<b>Geno Smith</b><br>%{y} yds through week %{x}<extra></extra>",
         "line": {
          "color": "#002244"
         },
         "mode": "markers+lines",
         "name": "Geno Smith",
         "type": "scatter",
         "x": [
          1,
          2,
          3,
          4,
          5,
          6,
          7,
          8,
          9,
          10,
          12,
          13,
          14,
          15,
          16,
          17,
          18
         ],
         "y": [
          195,
          392,
          717,
          1037,
          1305,
          1502,
          1712,
          1924,
          2199,
          2474,
          2802,
          3169,
          3433,
          3671,
          3886,
          4069,
          4282
         ]
        },
        {
         "hovertemplate": "<b>Jacoby Brissett</b><br>%{y} yds through week %{x}<extra></extra>",
         "line": {
          "color": "#FF3C00"
         },
         "mode": "markers+lines",
         "name": "Jacoby Brissett",
         "type": "scatter",
         "x": [
          1,
          2,
          3,
          4,
          5,
          6,
          7,
          8,
          10,
          11,
          12,
          14
         ],
         "y": [
          147,
          376,
          596,
          830,
          1060,
          1326,
          1584,
          1862,
          2074,
          2398,
          2608,
          2608
         ]
        },
        {
         "hovertemplate": "<b>Jalen Hurts</b><br>%{y} yds through week %{x}<extra></extra>",
         "line": {
          "color": "#004C54"
         },
         "mode": "markers+lines",
         "name": "Jalen Hurts",
         "type": "scatter",
         "x": [
          1,
          2,
          3,
          4,
          5,
          6,
          8,
          9,
          10,
          11,
          12,
          13,
          14,
          15,
          18
         ],
         "y": [
          243,
          576,
          916,
          1120,
          1359,
          1514,
          1799,
          2042,
          2217,
          2407,
          2560,
          2940,
          3157,
          3472,
          3701
         ]
        },
        {
         "hovertemplate": "<b>Jared Goff</b><br>%{y} yds through week %{x}<extra></extra>",
         "line": {
          "color": "#0076B6"
         },
         "mode": "markers+lines",
         "name": "Jared Goff",
         "type": "scatter",
         "x": [
          1,
          2,
          3,
          4,
          5,
          7,
          8,
          9,
          10,
          11,
          12,
          13,
          14,
          15,
          16,
          17,
          18
         ],
         "y": [
          215,
          471,
          748,
          1126,
          1355,
          1583,
          1904,
          2041,
          2277,
          2442,
          2682,
          3022,
          3352,
          3604,
          3959,
          4214,
          4438
         ]
        },
        {
         "hovertemplate": "<b>Jimmy Garoppolo</b><br>%{y} yds through week %{x}<extra></extra>",
         "line": {
          "color": "#AA0000"
         },
         "mode": "markers+lines",
         "name": "Jimmy Garoppolo",
         "type": "scatter",
         "x": [
          2,
          3,
          4,
          5,
          6,
          7,
          8,
          10,
          11,
          12,
          13
         ],
         "y": [
          154,
          365,
          604,
          857,
          1153,
          1456,
          1691,
          1931,
          2159,
          2381,
          2437
         ]
        },
        {
         "hovertemplate": "<b>Joe Burrow</b><br>%{y} yds through week %{x}<extra></extra>",
         "line": {
          "color": "#FB4F14"
         },
         "mode": "markers+lines",
         "name": "Joe Burrow",
         "type": "scatter",
         "x": [
          1,
          2,
          3,
          4,
          5,
          6,
          7,
          8,
          9,
          11,
          12,
          13,
          14,
          15,
          16,
          18
         ],
         "y": [
          338,
          537,
          812,
          1099,
          1316,
          1616,
          2097,
          2329,
          2535,
          2890,
          3160,
          3446,
          3685,
          3885,
          4260,
          4475
         ]
        },
        {
         "hovertemplate": "<b>Josh Allen</b><br>%{y} yds through week %{x}<extra></extra>",
         "line": {
          "color": "#00338D"
         },
         "mode": "markers+lines",
         "name": "Josh Allen",
         "type": "scatter",
         "x": [
          1,
          2,
          3,
          4,
          5,
          6,
          8,
          9,
          10,
          11,
          12,
          13,
          14,
          15,
          16,
          18
         ],
         "y": [
          297,
          614,
          1014,
          1227,
          1651,
          1980,
          2198,
          2403,
          2733,
          2930,
          3183,
          3406,
          3553,
          3857,
          4029,
          4283
         ]
        },
        {
         "hovertemplate": "<b>Justin Fields</b><br>%{y} yds through week %{x}<extra></extra>",
         "line": {
          "color": "#0B162A"
         },
         "mode": "markers+lines",
         "name": "Justin Fields",
         "type": "scatter",
         "x": [
          1,
          2,
          3,
          4,
          5,
          6,
          7,
          8,
          9,
          10,
          11,
          13,
          15,
          16,
          17
         ],
         "y": [
          121,
          191,
          297,
          471,
          679,
          869,
          1048,
          1199,
          1322,
          1489,
          1642,
          1896,
          2048,
          2167,
          2242
         ]
        },
        {
         "hovertemplate": "<b>Justin Herbert</b><br>%{y} yds through week %{x}<extra></extra>",
         "line": {
          "color": "#007BC7"
         },
         "mode": "markers+lines",
         "name": "Justin Herbert",
         "type": "scatter",
         "x": [
          1,
          2,
          3,
          4,
          5,
          6,
          7,
          9,
          10,
          11,
          12,
          13,
          14,
          15,
          16,
          17,
          18
         ],
         "y": [
          279,
          613,
          910,
          1250,
          1478,
          1716,
          2009,
          2254,
          2450,
          2730,
          3004,
          3339,
          3706,
          4019,
          4254,
          4466,
          4739
         ]
        },
        {
         "hovertemplate": "<b>Kenny Pickett</b><br>%{y} yds through week %{x}<extra></extra>",
         "line": {
          "color": "#000000"
         },
         "mode": "markers+lines",
         "name": "Kenny Pickett",
         "type": "scatter",
         "x": [
          4,
          5,
          6,
          7,
          8,
          10,
          11,
          12,
          13,
          14,
          16,
          17,
          18
         ],
         "y": [
          120,
          447,
          514,
          771,
          962,
          1161,
          1426,
          1600,
          1797,
          1797,
          2041,
          2209,
          2404
         ]
        },
        {
         "hovertemplate": "<b>Kirk Cousins</b><br>%{y} yds through week %{x}<extra></extra>",
         "line": {
          "color": "#4F2683"
         },
         "mode": "markers+lines",
         "name": "Kirk Cousins",
         "type": "scatter",
         "x": [
          1,
          2,
          3,
          4,
          5,
          6,
          8,
          9,
          10,
          11,
          12,
          13,
          14,
          15,
          16,
          17,
          18
         ],
         "y": [
          277,
          498,
          758,
          1031,
          1327,
          1502,
          1734,
          1999,
          2356,
          2461,
          2760,
          2933,
          3358,
          3818,
          4117,
          4322,
          4547
         ]
        },
        {
         "hovertemplate": "<b>Kyler Murray</b><br>%{y} yds through week %{x}<extra></extra>",
         "line": {
          "color": "#97233F"
         },
         "mode": "markers+lines",
         "name": "Kyler Murray",
         "type": "scatter",
         "x": [
          1,
          2,
          3,
          4,
          5,
          6,
          7,
          8,
          9,
          12,
          14
         ],
         "y": [
          193,
          470,
          784,
          991,
          1241,
          1463,
          1667,
          1993,
          2168,
          2359,
          2368
         ]
        },
        {
         "hovertemplate": "<b>Lamar Jackson</b><br>%{y} yds through week %{x}<extra></extra>",
         "line": {
          "color": "#241773"
         },
         "mode": "markers+lines",
         "name": "Lamar Jackson",
         "type": "scatter",
         "x": [
          1,
          2,
          3,
          4,
          5,
          6,
          7,
          8,
          9,
          11,
          12,
          13
         ],
         "y": [
          213,
          531,
          749,
          893,
          1067,
          1277,
          1397,
          1635,
          1768,
          1977,
          2231,
          2242
         ]
        },
        {
         "hovertemplate": "<b>Mac Jones</b><br>%{y} yds through week %{x}<extra></extra>",
         "line": {
          "color": "#002244"
         },
         "mode": "markers+lines",
         "name": "Mac Jones",
         "type": "scatter",
         "x": [
          1,
          2,
          3,
          7,
          8,
          9,
          11,
          12,
          13,
          14,
          15,
          16,
          17,
          18
         ],
         "y": [
          213,
          465,
          786,
          799,
          993,
          1140,
          1386,
          1768,
          1963,
          2198,
          2310,
          2550,
          2754,
          2997
         ]
        },
        {
         "hovertemplate": "<b>Marcus Mariota</b><br>%{y} yds through week %{x}<extra></extra>",
         "line": {
          "color": "#A71930"
         },
         "mode": "markers+lines",
         "name": "Marcus Mariota",
         "type": "scatter",
         "x": [
          1,
          2,
          3,
          4,
          5,
          6,
          7,
          8,
          9,
          10,
          11,
          12,
          13
         ],
         "y": [
          215,
          411,
          640,
          779,
          926,
          1055,
          1179,
          1432,
          1561,
          1747,
          1878,
          2052,
          2219
         ]
        },
        {
         "hovertemplate": "<b>Matt Ryan</b><br>%{y} yds through week %{x}<extra></extra>",
         "line": {
          "color": "#002C5F"
         },
         "mode": "markers+lines",
         "name": "Matt Ryan",
         "type": "scatter",
         "x": [
          1,
          2,
          3,
          4,
          5,
          6,
          7,
          10,
          11,
          12,
          13,
          15
         ],
         "y": [
          352,
          547,
          769,
          1125,
          1376,
          1765,
          2008,
          2230,
          2443,
          2642,
          2875,
          3057
         ]
        },
        {
         "hovertemplate": "<b>Matthew Stafford</b><br>%{y} yds through week %{x}<extra></extra>",
         "line": {
          "color": "#003594"
         },
         "mode": "markers+lines",
         "name": "Matthew Stafford",
         "type": "scatter",
         "x": [
          1,
          2,
          3,
          4,
          5,
          6,
          8,
          9,
          11
         ],
         "y": [
          240,
          512,
          761,
          1015,
          1323,
          1576,
          1763,
          1928,
          2087
         ]
        },
        {
         "hovertemplate": "<b>Patrick Mahomes</b><br>%{y} yds through week %{x}<extra></extra>",
         "line": {
          "color": "#E31837"
         },
         "mode": "markers+lines",
         "name": "Patrick Mahomes",
         "type": "scatter",
         "x": [
          1,
          2,
          3,
          4,
          5,
          6,
          7,
          9,
          10,
          11,
          12,
          13,
          14,
          15,
          16,
          17,
          18
         ],
         "y": [
          360,
          595,
          857,
          1106,
          1398,
          1736,
          2159,
          2605,
          2936,
          3265,
          3585,
          3808,
          4160,
          4496,
          4720,
          5048,
          5250
         ]
        },
        {
         "hovertemplate": "<b>Russell Wilson</b><br>%{y} yds through week %{x}<extra></extra>",
         "line": {
          "color": "#002244"
         },
         "mode": "markers+lines",
         "name": "Russell Wilson",
         "type": "scatter",
         "x": [
          1,
          2,
          3,
          4,
          5,
          6,
          8,
          10,
          11,
          12,
          13,
          14,
          16,
          17,
          18
         ],
         "y": [
          340,
          559,
          743,
          980,
          1254,
          1442,
          1694,
          1980,
          2227,
          2369,
          2558,
          2805,
          3019,
          3241,
          3524
         ]
        },
        {
         "hovertemplate": "<b>Ryan Tannehill</b><br>%{y} yds through week %{x}<extra></extra>",
         "line": {
          "color": "#002244"
         },
         "mode": "markers+lines",
         "name": "Ryan Tannehill",
         "type": "scatter",
         "x": [
          1,
          2,
          3,
          4,
          5,
          7,
          10,
          11,
          12,
          13,
          14,
          15
         ],
         "y": [
          266,
          383,
          647,
          784,
          965,
          1097,
          1352,
          1685,
          1976,
          2117,
          2371,
          2536
         ]
        },
        {
         "hovertemplate": "<b>Taylor Heinicke</b><br>%{y} yds through week %{x}<extra></extra>",
         "line": {
          "color": "#5A1414"
         },
         "mode": "markers+lines",
         "name": "Taylor Heinicke",
         "type": "scatter",
         "x": [
          7,
          8,
          9,
          10,
          11,
          12,
          13,
          15,
          16
         ],
         "y": [
          201,
          480,
          629,
          840,
          1031,
          1169,
          1444,
          1693,
          1859
         ]
        },
        {
         "hovertemplate": "<b>Tom Brady</b><br>%{y} yds through week %{x}<extra></extra>",
         "line": {
          "color": "#A71930"
         },
         "mode": "markers+lines",
         "name": "Tom Brady",
         "type": "scatter",
         "x": [
          1,
          2,
          3,
          4,
          5,
          6,
          7,
          8,
          9,
          10,
          12,
          13,
          14,
          15,
          16,
          17,
          18
         ],
         "y": [
          212,
          402,
          673,
          1058,
          1409,
          1652,
          1942,
          2267,
          2547,
          2805,
          3051,
          3332,
          3585,
          3897,
          4178,
          4610,
          4694
         ]
        },
        {
         "hovertemplate": "<b>Trevor Lawrence</b><br>%{y} yds through week %{x}<extra></extra>",
         "line": {
          "color": "#006778"
         },
         "mode": "markers+lines",
         "name": "Trevor Lawrence",
         "type": "scatter",
         "x": [
          1,
          2,
          3,
          4,
          5,
          6,
          7,
          8,
          9,
          10,
          12,
          13,
          14,
          15,
          16,
          17,
          18
         ],
         "y": [
          275,
          510,
          772,
          946,
          1232,
          1397,
          1707,
          1840,
          2075,
          2334,
          2655,
          2834,
          3202,
          3520,
          3749,
          3901,
          4113
         ]
        },
        {
         "hovertemplate": "<b>Tua Tagovailoa</b><br>%{y} yds through week %{x}<extra></extra>",
         "line": {
          "color": "#008E97"
         },
         "mode": "markers+lines",
         "name": "Tua Tagovailoa",
         "type": "scatter",
         "x": [
          1,
          2,
          3,
          4,
          7,
          8,
          9,
          10,
          12,
          13,
          14,
          15,
          16
         ],
         "y": [
          270,
          739,
          925,
          1035,
          1296,
          1678,
          1980,
          2265,
          2564,
          2859,
          3004,
          3238,
          3548
         ]
        },
        {
         "hovertemplate": "<b>Zach Wilson</b><br>%{y} yds through week %{x}<extra></extra>",
         "line": {
          "color": "#003F2D"
         },
         "mode": "markers+lines",
         "name": "Zach Wilson",
         "type": "scatter",
         "x": [
          4,
          5,
          6,
          7,
          8,
          9,
          11,
          15,
          16
         ],
         "y": [
          252,
          462,
          572,
          693,
          1048,
          1202,
          1279,
          1596,
          1688
         ]
        }
       ],
       "layout": {
        "font": {
         "family": "Averta, sans-serif"
        },
        "height": 1000,
        "hoverlabel": {
         "font": {
          "family": "Averta, sans-serif",
          "size": 16
         }
        },
        "legend": {
         "font": {
          "size": 16
         }
        },
        "template": {
         "data": {
          "bar": [
           {
            "error_x": {
             "color": "#2a3f5f"
            },
            "error_y": {
             "color": "#2a3f5f"
            },
            "marker": {
             "line": {
              "color": "#E5ECF6",
              "width": 0.5
             },
             "pattern": {
              "fillmode": "overlay",
              "size": 10,
              "solidity": 0.2
             }
            },
            "type": "bar"
           }
          ],
          "barpolar": [
           {
            "marker": {
             "line": {
              "color": "#E5ECF6",
              "width": 0.5
             },
             "pattern": {
              "fillmode": "overlay",
              "size": 10,
              "solidity": 0.2
             }
            },
            "type": "barpolar"
           }
          ],
          "carpet": [
           {
            "aaxis": {
             "endlinecolor": "#2a3f5f",
             "gridcolor": "white",
             "linecolor": "white",
             "minorgridcolor": "white",
             "startlinecolor": "#2a3f5f"
            },
            "baxis": {
             "endlinecolor": "#2a3f5f",
             "gridcolor": "white",
             "linecolor": "white",
             "minorgridcolor": "white",
             "startlinecolor": "#2a3f5f"
            },
            "type": "carpet"
           }
          ],
          "choropleth": [
           {
            "colorbar": {
             "outlinewidth": 0,
             "ticks": ""
            },
            "type": "choropleth"
           }
          ],
          "contour": [
           {
            "colorbar": {
             "outlinewidth": 0,
             "ticks": ""
            },
            "colorscale": [
             [
              0,
              "#0d0887"
             ],
             [
              0.1111111111111111,
              "#46039f"
             ],
             [
              0.2222222222222222,
              "#7201a8"
             ],
             [
              0.3333333333333333,
              "#9c179e"
             ],
             [
              0.4444444444444444,
              "#bd3786"
             ],
             [
              0.5555555555555556,
              "#d8576b"
             ],
             [
              0.6666666666666666,
              "#ed7953"
             ],
             [
              0.7777777777777778,
              "#fb9f3a"
             ],
             [
              0.8888888888888888,
              "#fdca26"
             ],
             [
              1,
              "#f0f921"
             ]
            ],
            "type": "contour"
           }
          ],
          "contourcarpet": [
           {
            "colorbar": {
             "outlinewidth": 0,
             "ticks": ""
            },
            "type": "contourcarpet"
           }
          ],
          "heatmap": [
           {
            "colorbar": {
             "outlinewidth": 0,
             "ticks": ""
            },
            "colorscale": [
             [
              0,
              "#0d0887"
             ],
             [
              0.1111111111111111,
              "#46039f"
             ],
             [
              0.2222222222222222,
              "#7201a8"
             ],
             [
              0.3333333333333333,
              "#9c179e"
             ],
             [
              0.4444444444444444,
              "#bd3786"
             ],
             [
              0.5555555555555556,
              "#d8576b"
             ],
             [
              0.6666666666666666,
              "#ed7953"
             ],
             [
              0.7777777777777778,
              "#fb9f3a"
             ],
             [
              0.8888888888888888,
              "#fdca26"
             ],
             [
              1,
              "#f0f921"
             ]
            ],
            "type": "heatmap"
           }
          ],
          "heatmapgl": [
           {
            "colorbar": {
             "outlinewidth": 0,
             "ticks": ""
            },
            "colorscale": [
             [
              0,
              "#0d0887"
             ],
             [
              0.1111111111111111,
              "#46039f"
             ],
             [
              0.2222222222222222,
              "#7201a8"
             ],
             [
              0.3333333333333333,
              "#9c179e"
             ],
             [
              0.4444444444444444,
              "#bd3786"
             ],
             [
              0.5555555555555556,
              "#d8576b"
             ],
             [
              0.6666666666666666,
              "#ed7953"
             ],
             [
              0.7777777777777778,
              "#fb9f3a"
             ],
             [
              0.8888888888888888,
              "#fdca26"
             ],
             [
              1,
              "#f0f921"
             ]
            ],
            "type": "heatmapgl"
           }
          ],
          "histogram": [
           {
            "marker": {
             "pattern": {
              "fillmode": "overlay",
              "size": 10,
              "solidity": 0.2
             }
            },
            "type": "histogram"
           }
          ],
          "histogram2d": [
           {
            "colorbar": {
             "outlinewidth": 0,
             "ticks": ""
            },
            "colorscale": [
             [
              0,
              "#0d0887"
             ],
             [
              0.1111111111111111,
              "#46039f"
             ],
             [
              0.2222222222222222,
              "#7201a8"
             ],
             [
              0.3333333333333333,
              "#9c179e"
             ],
             [
              0.4444444444444444,
              "#bd3786"
             ],
             [
              0.5555555555555556,
              "#d8576b"
             ],
             [
              0.6666666666666666,
              "#ed7953"
             ],
             [
              0.7777777777777778,
              "#fb9f3a"
             ],
             [
              0.8888888888888888,
              "#fdca26"
             ],
             [
              1,
              "#f0f921"
             ]
            ],
            "type": "histogram2d"
           }
          ],
          "histogram2dcontour": [
           {
            "colorbar": {
             "outlinewidth": 0,
             "ticks": ""
            },
            "colorscale": [
             [
              0,
              "#0d0887"
             ],
             [
              0.1111111111111111,
              "#46039f"
             ],
             [
              0.2222222222222222,
              "#7201a8"
             ],
             [
              0.3333333333333333,
              "#9c179e"
             ],
             [
              0.4444444444444444,
              "#bd3786"
             ],
             [
              0.5555555555555556,
              "#d8576b"
             ],
             [
              0.6666666666666666,
              "#ed7953"
             ],
             [
              0.7777777777777778,
              "#fb9f3a"
             ],
             [
              0.8888888888888888,
              "#fdca26"
             ],
             [
              1,
              "#f0f921"
             ]
            ],
            "type": "histogram2dcontour"
           }
          ],
          "mesh3d": [
           {
            "colorbar": {
             "outlinewidth": 0,
             "ticks": ""
            },
            "type": "mesh3d"
           }
          ],
          "parcoords": [
           {
            "line": {
             "colorbar": {
              "outlinewidth": 0,
              "ticks": ""
             }
            },
            "type": "parcoords"
           }
          ],
          "pie": [
           {
            "automargin": true,
            "type": "pie"
           }
          ],
          "scatter": [
           {
            "fillpattern": {
             "fillmode": "overlay",
             "size": 10,
             "solidity": 0.2
            },
            "type": "scatter"
           }
          ],
          "scatter3d": [
           {
            "line": {
             "colorbar": {
              "outlinewidth": 0,
              "ticks": ""
             }
            },
            "marker": {
             "colorbar": {
              "outlinewidth": 0,
              "ticks": ""
             }
            },
            "type": "scatter3d"
           }
          ],
          "scattercarpet": [
           {
            "marker": {
             "colorbar": {
              "outlinewidth": 0,
              "ticks": ""
             }
            },
            "type": "scattercarpet"
           }
          ],
          "scattergeo": [
           {
            "marker": {
             "colorbar": {
              "outlinewidth": 0,
              "ticks": ""
             }
            },
            "type": "scattergeo"
           }
          ],
          "scattergl": [
           {
            "marker": {
             "colorbar": {
              "outlinewidth": 0,
              "ticks": ""
             }
            },
            "type": "scattergl"
           }
          ],
          "scattermapbox": [
           {
            "marker": {
             "colorbar": {
              "outlinewidth": 0,
              "ticks": ""
             }
            },
            "type": "scattermapbox"
           }
          ],
          "scatterpolar": [
           {
            "marker": {
             "colorbar": {
              "outlinewidth": 0,
              "ticks": ""
             }
            },
            "type": "scatterpolar"
           }
          ],
          "scatterpolargl": [
           {
            "marker": {
             "colorbar": {
              "outlinewidth": 0,
              "ticks": ""
             }
            },
            "type": "scatterpolargl"
           }
          ],
          "scatterternary": [
           {
            "marker": {
             "colorbar": {
              "outlinewidth": 0,
              "ticks": ""
             }
            },
            "type": "scatterternary"
           }
          ],
          "surface": [
           {
            "colorbar": {
             "outlinewidth": 0,
             "ticks": ""
            },
            "colorscale": [
             [
              0,
              "#0d0887"
             ],
             [
              0.1111111111111111,
              "#46039f"
             ],
             [
              0.2222222222222222,
              "#7201a8"
             ],
             [
              0.3333333333333333,
              "#9c179e"
             ],
             [
              0.4444444444444444,
              "#bd3786"
             ],
             [
              0.5555555555555556,
              "#d8576b"
             ],
             [
              0.6666666666666666,
              "#ed7953"
             ],
             [
              0.7777777777777778,
              "#fb9f3a"
             ],
             [
              0.8888888888888888,
              "#fdca26"
             ],
             [
              1,
              "#f0f921"
             ]
            ],
            "type": "surface"
           }
          ],
          "table": [
           {
            "cells": {
             "fill": {
              "color": "#EBF0F8"
             },
             "line": {
              "color": "white"
             }
            },
            "header": {
             "fill": {
              "color": "#C8D4E3"
             },
             "line": {
              "color": "white"
             }
            },
            "type": "table"
           }
          ]
         },
         "layout": {
          "annotationdefaults": {
           "arrowcolor": "#2a3f5f",
           "arrowhead": 0,
           "arrowwidth": 1
          },
          "autotypenumbers": "strict",
          "coloraxis": {
           "colorbar": {
            "outlinewidth": 0,
            "ticks": ""
           }
          },
          "colorscale": {
           "diverging": [
            [
             0,
             "#8e0152"
            ],
            [
             0.1,
             "#c51b7d"
            ],
            [
             0.2,
             "#de77ae"
            ],
            [
             0.3,
             "#f1b6da"
            ],
            [
             0.4,
             "#fde0ef"
            ],
            [
             0.5,
             "#f7f7f7"
            ],
            [
             0.6,
             "#e6f5d0"
            ],
            [
             0.7,
             "#b8e186"
            ],
            [
             0.8,
             "#7fbc41"
            ],
            [
             0.9,
             "#4d9221"
            ],
            [
             1,
             "#276419"
            ]
           ],
           "sequential": [
            [
             0,
             "#0d0887"
            ],
            [
             0.1111111111111111,
             "#46039f"
            ],
            [
             0.2222222222222222,
             "#7201a8"
            ],
            [
             0.3333333333333333,
             "#9c179e"
            ],
            [
             0.4444444444444444,
             "#bd3786"
            ],
            [
             0.5555555555555556,
             "#d8576b"
            ],
            [
             0.6666666666666666,
             "#ed7953"
            ],
            [
             0.7777777777777778,
             "#fb9f3a"
            ],
            [
             0.8888888888888888,
             "#fdca26"
            ],
            [
             1,
             "#f0f921"
            ]
           ],
           "sequentialminus": [
            [
             0,
             "#0d0887"
            ],
            [
             0.1111111111111111,
             "#46039f"
            ],
            [
             0.2222222222222222,
             "#7201a8"
            ],
            [
             0.3333333333333333,
             "#9c179e"
            ],
            [
             0.4444444444444444,
             "#bd3786"
            ],
            [
             0.5555555555555556,
             "#d8576b"
            ],
            [
             0.6666666666666666,
             "#ed7953"
            ],
            [
             0.7777777777777778,
             "#fb9f3a"
            ],
            [
             0.8888888888888888,
             "#fdca26"
            ],
            [
             1,
             "#f0f921"
            ]
           ]
          },
          "colorway": [
           "#636efa",
           "#EF553B",
           "#00cc96",
           "#ab63fa",
           "#FFA15A",
           "#19d3f3",
           "#FF6692",
           "#B6E880",
           "#FF97FF",
           "#FECB52"
          ],
          "font": {
           "color": "#2a3f5f"
          },
          "geo": {
           "bgcolor": "white",
           "lakecolor": "white",
           "landcolor": "#E5ECF6",
           "showlakes": true,
           "showland": true,
           "subunitcolor": "white"
          },
          "hoverlabel": {
           "align": "left"
          },
          "hovermode": "closest",
          "mapbox": {
           "style": "light"
          },
          "paper_bgcolor": "white",
          "plot_bgcolor": "#E5ECF6",
          "polar": {
           "angularaxis": {
            "gridcolor": "white",
            "linecolor": "white",
            "ticks": ""
           },
           "bgcolor": "#E5ECF6",
           "radialaxis": {
            "gridcolor": "white",
            "linecolor": "white",
            "ticks": ""
           }
          },
          "scene": {
           "xaxis": {
            "backgroundcolor": "#E5ECF6",
            "gridcolor": "white",
            "gridwidth": 2,
            "linecolor": "white",
            "showbackground": true,
            "ticks": "",
            "zerolinecolor": "white"
           },
           "yaxis": {
            "backgroundcolor": "#E5ECF6",
            "gridcolor": "white",
            "gridwidth": 2,
            "linecolor": "white",
            "showbackground": true,
            "ticks": "",
            "zerolinecolor": "white"
           },
           "zaxis": {
            "backgroundcolor": "#E5ECF6",
            "gridcolor": "white",
            "gridwidth": 2,
            "linecolor": "white",
            "showbackground": true,
            "ticks": "",
            "zerolinecolor": "white"
           }
          },
          "shapedefaults": {
           "line": {
            "color": "#2a3f5f"
           }
          },
          "ternary": {
           "aaxis": {
            "gridcolor": "white",
            "linecolor": "white",
            "ticks": ""
           },
           "baxis": {
            "gridcolor": "white",
            "linecolor": "white",
            "ticks": ""
           },
           "bgcolor": "#E5ECF6",
           "caxis": {
            "gridcolor": "white",
            "linecolor": "white",
            "ticks": ""
           }
          },
          "title": {
           "x": 0.05
          },
          "xaxis": {
           "automargin": true,
           "gridcolor": "white",
           "linecolor": "white",
           "ticks": "",
           "title": {
            "standoff": 15
           },
           "zerolinecolor": "white",
           "zerolinewidth": 2
          },
          "yaxis": {
           "automargin": true,
           "gridcolor": "white",
           "linecolor": "white",
           "ticks": "",
           "title": {
            "standoff": 15
           },
           "zerolinecolor": "white",
           "zerolinewidth": 2
          }
         }
        },
        "width": 1000,
        "xaxis": {
         "tickfont": {
          "size": 16
         },
         "title": {
          "font": {
           "size": 18
          },
          "text": "Week"
         }
        },
        "yaxis": {
         "tickfont": {
          "size": 16
         },
         "title": {
          "font": {
           "size": 18
          },
          "text": "Passing Yards"
         }
        }
       }
      },
      "text/html": [
       "<div>                            <div id=\"d53ddaeb-c213-4b08-8120-4f62bf494403\" class=\"plotly-graph-div\" style=\"height:1000px; width:1000px;\"></div>            <script type=\"text/javascript\">                require([\"plotly\"], function(Plotly) {                    window.PLOTLYENV=window.PLOTLYENV || {};                                    if (document.getElementById(\"d53ddaeb-c213-4b08-8120-4f62bf494403\")) {                    Plotly.newPlot(                        \"d53ddaeb-c213-4b08-8120-4f62bf494403\",                        [{\"hovertemplate\":\"<b>Aaron Rodgers</b><br>%{y} yds through week %{x}<extra></extra>\",\"line\":{\"color\":\"#203731\"},\"mode\":\"markers+lines\",\"name\":\"Aaron Rodgers\",\"x\":[1,2,3,4,5,6,7,8,9,10,11,12,13,15,16,17,18],\"y\":[195.0,429.0,684.0,935.0,1157.0,1403.0,1597.0,1800.0,2091.0,2315.0,2542.0,2682.0,2864.0,3093.0,3331.0,3490.0,3695.0],\"type\":\"scatter\"},{\"hovertemplate\":\"<b>Andy Dalton</b><br>%{y} yds through week %{x}<extra></extra>\",\"line\":{\"color\":\"#D3BC8D\"},\"mode\":\"markers+lines\",\"name\":\"Andy Dalton\",\"x\":[4,5,6,7,8,9,10,11,12,13,15,16,17,18],\"y\":[236.0,423.0,585.0,946.0,1175.0,1385.0,1559.0,1819.0,2023.0,2252.0,2403.0,2495.0,2700.0,2871.0],\"type\":\"scatter\"},{\"hovertemplate\":\"<b>Baker Mayfield</b><br>%{y} yds through week %{x}<extra></extra>\",\"line\":{\"color\":\"#0085CA\"},\"mode\":\"markers+lines\",\"name\":\"Baker Mayfield\",\"x\":[1,2,3,4,5,9,11,14,15,16,17,18],\"y\":[235.0,380.0,550.0,747.0,962.0,1117.0,1313.0,1543.0,1654.0,1884.0,2016.0,2163.0],\"type\":\"scatter\"},{\"hovertemplate\":\"<b>Carson Wentz</b><br>%{y} yds through week %{x}<extra></extra>\",\"line\":{\"color\":\"#5A1414\"},\"mode\":\"markers+lines\",\"name\":\"Carson Wentz\",\"x\":[1,2,3,4,5,6,16,17],\"y\":[313.0,650.0,861.0,1031.0,1390.0,1489.0,1612.0,1755.0],\"type\":\"scatter\"},{\"hovertemplate\":\"<b>Dak Prescott</b><br>%{y} yds through week %{x}<extra></extra>\",\"line\":{\"color\":\"#002244\"},\"mode\":\"markers+lines\",\"name\":\"Dak Prescott\",\"x\":[1,7,8,10,11,12,13,14,15,16,17,18],\"y\":[134.0,341.0,591.0,856.0,1132.0,1393.0,1563.0,1847.0,2103.0,2450.0,2732.0,2860.0],\"type\":\"scatter\"},{\"hovertemplate\":\"<b>Daniel Jones</b><br>%{y} yds through week %{x}<extra></extra>\",\"line\":{\"color\":\"#0B2265\"},\"mode\":\"markers+lines\",\"name\":\"Daniel Jones\",\"x\":[1,2,3,4,5,6,7,8,10,11,12,13,14,15,16,17],\"y\":[188.0,364.0,560.0,631.0,848.0,1021.0,1223.0,1399.0,1596.0,1937.0,2165.0,2365.0,2534.0,2694.0,3028.0,3205.0],\"type\":\"scatter\"},{\"hovertemplate\":\"<b>Davis Mills</b><br>%{y} yds through week %{x}<extra></extra>\",\"line\":{\"color\":\"#03202F\"},\"mode\":\"markers+lines\",\"name\":\"Davis Mills\",\"x\":[1,2,3,4,5,7,8,9,10,11,14,15,16,17,18],\"y\":[240.0,417.0,662.0,908.0,1048.0,1350.0,1502.0,1656.0,1975.0,2144.0,2319.0,2440.0,2618.0,2820.0,3118.0],\"type\":\"scatter\"},{\"hovertemplate\":\"<b>Derek Carr</b><br>%{y} yds through week %{x}<extra></extra>\",\"line\":{\"color\":\"#000000\"},\"mode\":\"markers+lines\",\"name\":\"Derek Carr\",\"x\":[1,2,3,4,5,7,8,9,10,11,12,13,14,15,16],\"y\":[295.0,547.0,850.0,1038.0,1279.0,1520.0,1621.0,1880.0,2128.0,2435.0,2730.0,2980.0,3117.0,3348.0,3522.0],\"type\":\"scatter\"},{\"hovertemplate\":\"<b>Geno Smith</b><br>%{y} yds through week %{x}<extra></extra>\",\"line\":{\"color\":\"#002244\"},\"mode\":\"markers+lines\",\"name\":\"Geno Smith\",\"x\":[1,2,3,4,5,6,7,8,9,10,12,13,14,15,16,17,18],\"y\":[195.0,392.0,717.0,1037.0,1305.0,1502.0,1712.0,1924.0,2199.0,2474.0,2802.0,3169.0,3433.0,3671.0,3886.0,4069.0,4282.0],\"type\":\"scatter\"},{\"hovertemplate\":\"<b>Jacoby Brissett</b><br>%{y} yds through week %{x}<extra></extra>\",\"line\":{\"color\":\"#FF3C00\"},\"mode\":\"markers+lines\",\"name\":\"Jacoby Brissett\",\"x\":[1,2,3,4,5,6,7,8,10,11,12,14],\"y\":[147.0,376.0,596.0,830.0,1060.0,1326.0,1584.0,1862.0,2074.0,2398.0,2608.0,2608.0],\"type\":\"scatter\"},{\"hovertemplate\":\"<b>Jalen Hurts</b><br>%{y} yds through week %{x}<extra></extra>\",\"line\":{\"color\":\"#004C54\"},\"mode\":\"markers+lines\",\"name\":\"Jalen Hurts\",\"x\":[1,2,3,4,5,6,8,9,10,11,12,13,14,15,18],\"y\":[243.0,576.0,916.0,1120.0,1359.0,1514.0,1799.0,2042.0,2217.0,2407.0,2560.0,2940.0,3157.0,3472.0,3701.0],\"type\":\"scatter\"},{\"hovertemplate\":\"<b>Jared Goff</b><br>%{y} yds through week %{x}<extra></extra>\",\"line\":{\"color\":\"#0076B6\"},\"mode\":\"markers+lines\",\"name\":\"Jared Goff\",\"x\":[1,2,3,4,5,7,8,9,10,11,12,13,14,15,16,17,18],\"y\":[215.0,471.0,748.0,1126.0,1355.0,1583.0,1904.0,2041.0,2277.0,2442.0,2682.0,3022.0,3352.0,3604.0,3959.0,4214.0,4438.0],\"type\":\"scatter\"},{\"hovertemplate\":\"<b>Jimmy Garoppolo</b><br>%{y} yds through week %{x}<extra></extra>\",\"line\":{\"color\":\"#AA0000\"},\"mode\":\"markers+lines\",\"name\":\"Jimmy Garoppolo\",\"x\":[2,3,4,5,6,7,8,10,11,12,13],\"y\":[154.0,365.0,604.0,857.0,1153.0,1456.0,1691.0,1931.0,2159.0,2381.0,2437.0],\"type\":\"scatter\"},{\"hovertemplate\":\"<b>Joe Burrow</b><br>%{y} yds through week %{x}<extra></extra>\",\"line\":{\"color\":\"#FB4F14\"},\"mode\":\"markers+lines\",\"name\":\"Joe Burrow\",\"x\":[1,2,3,4,5,6,7,8,9,11,12,13,14,15,16,18],\"y\":[338.0,537.0,812.0,1099.0,1316.0,1616.0,2097.0,2329.0,2535.0,2890.0,3160.0,3446.0,3685.0,3885.0,4260.0,4475.0],\"type\":\"scatter\"},{\"hovertemplate\":\"<b>Josh Allen</b><br>%{y} yds through week %{x}<extra></extra>\",\"line\":{\"color\":\"#00338D\"},\"mode\":\"markers+lines\",\"name\":\"Josh Allen\",\"x\":[1,2,3,4,5,6,8,9,10,11,12,13,14,15,16,18],\"y\":[297.0,614.0,1014.0,1227.0,1651.0,1980.0,2198.0,2403.0,2733.0,2930.0,3183.0,3406.0,3553.0,3857.0,4029.0,4283.0],\"type\":\"scatter\"},{\"hovertemplate\":\"<b>Justin Fields</b><br>%{y} yds through week %{x}<extra></extra>\",\"line\":{\"color\":\"#0B162A\"},\"mode\":\"markers+lines\",\"name\":\"Justin Fields\",\"x\":[1,2,3,4,5,6,7,8,9,10,11,13,15,16,17],\"y\":[121.0,191.0,297.0,471.0,679.0,869.0,1048.0,1199.0,1322.0,1489.0,1642.0,1896.0,2048.0,2167.0,2242.0],\"type\":\"scatter\"},{\"hovertemplate\":\"<b>Justin Herbert</b><br>%{y} yds through week %{x}<extra></extra>\",\"line\":{\"color\":\"#007BC7\"},\"mode\":\"markers+lines\",\"name\":\"Justin Herbert\",\"x\":[1,2,3,4,5,6,7,9,10,11,12,13,14,15,16,17,18],\"y\":[279.0,613.0,910.0,1250.0,1478.0,1716.0,2009.0,2254.0,2450.0,2730.0,3004.0,3339.0,3706.0,4019.0,4254.0,4466.0,4739.0],\"type\":\"scatter\"},{\"hovertemplate\":\"<b>Kenny Pickett</b><br>%{y} yds through week %{x}<extra></extra>\",\"line\":{\"color\":\"#000000\"},\"mode\":\"markers+lines\",\"name\":\"Kenny Pickett\",\"x\":[4,5,6,7,8,10,11,12,13,14,16,17,18],\"y\":[120.0,447.0,514.0,771.0,962.0,1161.0,1426.0,1600.0,1797.0,1797.0,2041.0,2209.0,2404.0],\"type\":\"scatter\"},{\"hovertemplate\":\"<b>Kirk Cousins</b><br>%{y} yds through week %{x}<extra></extra>\",\"line\":{\"color\":\"#4F2683\"},\"mode\":\"markers+lines\",\"name\":\"Kirk Cousins\",\"x\":[1,2,3,4,5,6,8,9,10,11,12,13,14,15,16,17,18],\"y\":[277.0,498.0,758.0,1031.0,1327.0,1502.0,1734.0,1999.0,2356.0,2461.0,2760.0,2933.0,3358.0,3818.0,4117.0,4322.0,4547.0],\"type\":\"scatter\"},{\"hovertemplate\":\"<b>Kyler Murray</b><br>%{y} yds through week %{x}<extra></extra>\",\"line\":{\"color\":\"#97233F\"},\"mode\":\"markers+lines\",\"name\":\"Kyler Murray\",\"x\":[1,2,3,4,5,6,7,8,9,12,14],\"y\":[193.0,470.0,784.0,991.0,1241.0,1463.0,1667.0,1993.0,2168.0,2359.0,2368.0],\"type\":\"scatter\"},{\"hovertemplate\":\"<b>Lamar Jackson</b><br>%{y} yds through week %{x}<extra></extra>\",\"line\":{\"color\":\"#241773\"},\"mode\":\"markers+lines\",\"name\":\"Lamar Jackson\",\"x\":[1,2,3,4,5,6,7,8,9,11,12,13],\"y\":[213.0,531.0,749.0,893.0,1067.0,1277.0,1397.0,1635.0,1768.0,1977.0,2231.0,2242.0],\"type\":\"scatter\"},{\"hovertemplate\":\"<b>Mac Jones</b><br>%{y} yds through week %{x}<extra></extra>\",\"line\":{\"color\":\"#002244\"},\"mode\":\"markers+lines\",\"name\":\"Mac Jones\",\"x\":[1,2,3,7,8,9,11,12,13,14,15,16,17,18],\"y\":[213.0,465.0,786.0,799.0,993.0,1140.0,1386.0,1768.0,1963.0,2198.0,2310.0,2550.0,2754.0,2997.0],\"type\":\"scatter\"},{\"hovertemplate\":\"<b>Marcus Mariota</b><br>%{y} yds through week %{x}<extra></extra>\",\"line\":{\"color\":\"#A71930\"},\"mode\":\"markers+lines\",\"name\":\"Marcus Mariota\",\"x\":[1,2,3,4,5,6,7,8,9,10,11,12,13],\"y\":[215.0,411.0,640.0,779.0,926.0,1055.0,1179.0,1432.0,1561.0,1747.0,1878.0,2052.0,2219.0],\"type\":\"scatter\"},{\"hovertemplate\":\"<b>Matt Ryan</b><br>%{y} yds through week %{x}<extra></extra>\",\"line\":{\"color\":\"#002C5F\"},\"mode\":\"markers+lines\",\"name\":\"Matt Ryan\",\"x\":[1,2,3,4,5,6,7,10,11,12,13,15],\"y\":[352.0,547.0,769.0,1125.0,1376.0,1765.0,2008.0,2230.0,2443.0,2642.0,2875.0,3057.0],\"type\":\"scatter\"},{\"hovertemplate\":\"<b>Matthew Stafford</b><br>%{y} yds through week %{x}<extra></extra>\",\"line\":{\"color\":\"#003594\"},\"mode\":\"markers+lines\",\"name\":\"Matthew Stafford\",\"x\":[1,2,3,4,5,6,8,9,11],\"y\":[240.0,512.0,761.0,1015.0,1323.0,1576.0,1763.0,1928.0,2087.0],\"type\":\"scatter\"},{\"hovertemplate\":\"<b>Patrick Mahomes</b><br>%{y} yds through week %{x}<extra></extra>\",\"line\":{\"color\":\"#E31837\"},\"mode\":\"markers+lines\",\"name\":\"Patrick Mahomes\",\"x\":[1,2,3,4,5,6,7,9,10,11,12,13,14,15,16,17,18],\"y\":[360.0,595.0,857.0,1106.0,1398.0,1736.0,2159.0,2605.0,2936.0,3265.0,3585.0,3808.0,4160.0,4496.0,4720.0,5048.0,5250.0],\"type\":\"scatter\"},{\"hovertemplate\":\"<b>Russell Wilson</b><br>%{y} yds through week %{x}<extra></extra>\",\"line\":{\"color\":\"#002244\"},\"mode\":\"markers+lines\",\"name\":\"Russell Wilson\",\"x\":[1,2,3,4,5,6,8,10,11,12,13,14,16,17,18],\"y\":[340.0,559.0,743.0,980.0,1254.0,1442.0,1694.0,1980.0,2227.0,2369.0,2558.0,2805.0,3019.0,3241.0,3524.0],\"type\":\"scatter\"},{\"hovertemplate\":\"<b>Ryan Tannehill</b><br>%{y} yds through week %{x}<extra></extra>\",\"line\":{\"color\":\"#002244\"},\"mode\":\"markers+lines\",\"name\":\"Ryan Tannehill\",\"x\":[1,2,3,4,5,7,10,11,12,13,14,15],\"y\":[266.0,383.0,647.0,784.0,965.0,1097.0,1352.0,1685.0,1976.0,2117.0,2371.0,2536.0],\"type\":\"scatter\"},{\"hovertemplate\":\"<b>Taylor Heinicke</b><br>%{y} yds through week %{x}<extra></extra>\",\"line\":{\"color\":\"#5A1414\"},\"mode\":\"markers+lines\",\"name\":\"Taylor Heinicke\",\"x\":[7,8,9,10,11,12,13,15,16],\"y\":[201.0,480.0,629.0,840.0,1031.0,1169.0,1444.0,1693.0,1859.0],\"type\":\"scatter\"},{\"hovertemplate\":\"<b>Tom Brady</b><br>%{y} yds through week %{x}<extra></extra>\",\"line\":{\"color\":\"#A71930\"},\"mode\":\"markers+lines\",\"name\":\"Tom Brady\",\"x\":[1,2,3,4,5,6,7,8,9,10,12,13,14,15,16,17,18],\"y\":[212.0,402.0,673.0,1058.0,1409.0,1652.0,1942.0,2267.0,2547.0,2805.0,3051.0,3332.0,3585.0,3897.0,4178.0,4610.0,4694.0],\"type\":\"scatter\"},{\"hovertemplate\":\"<b>Trevor Lawrence</b><br>%{y} yds through week %{x}<extra></extra>\",\"line\":{\"color\":\"#006778\"},\"mode\":\"markers+lines\",\"name\":\"Trevor Lawrence\",\"x\":[1,2,3,4,5,6,7,8,9,10,12,13,14,15,16,17,18],\"y\":[275.0,510.0,772.0,946.0,1232.0,1397.0,1707.0,1840.0,2075.0,2334.0,2655.0,2834.0,3202.0,3520.0,3749.0,3901.0,4113.0],\"type\":\"scatter\"},{\"hovertemplate\":\"<b>Tua Tagovailoa</b><br>%{y} yds through week %{x}<extra></extra>\",\"line\":{\"color\":\"#008E97\"},\"mode\":\"markers+lines\",\"name\":\"Tua Tagovailoa\",\"x\":[1,2,3,4,7,8,9,10,12,13,14,15,16],\"y\":[270.0,739.0,925.0,1035.0,1296.0,1678.0,1980.0,2265.0,2564.0,2859.0,3004.0,3238.0,3548.0],\"type\":\"scatter\"},{\"hovertemplate\":\"<b>Zach Wilson</b><br>%{y} yds through week %{x}<extra></extra>\",\"line\":{\"color\":\"#003F2D\"},\"mode\":\"markers+lines\",\"name\":\"Zach Wilson\",\"x\":[4,5,6,7,8,9,11,15,16],\"y\":[252.0,462.0,572.0,693.0,1048.0,1202.0,1279.0,1596.0,1688.0],\"type\":\"scatter\"}],                        {\"template\":{\"data\":{\"histogram2dcontour\":[{\"type\":\"histogram2dcontour\",\"colorbar\":{\"outlinewidth\":0,\"ticks\":\"\"},\"colorscale\":[[0.0,\"#0d0887\"],[0.1111111111111111,\"#46039f\"],[0.2222222222222222,\"#7201a8\"],[0.3333333333333333,\"#9c179e\"],[0.4444444444444444,\"#bd3786\"],[0.5555555555555556,\"#d8576b\"],[0.6666666666666666,\"#ed7953\"],[0.7777777777777778,\"#fb9f3a\"],[0.8888888888888888,\"#fdca26\"],[1.0,\"#f0f921\"]]}],\"choropleth\":[{\"type\":\"choropleth\",\"colorbar\":{\"outlinewidth\":0,\"ticks\":\"\"}}],\"histogram2d\":[{\"type\":\"histogram2d\",\"colorbar\":{\"outlinewidth\":0,\"ticks\":\"\"},\"colorscale\":[[0.0,\"#0d0887\"],[0.1111111111111111,\"#46039f\"],[0.2222222222222222,\"#7201a8\"],[0.3333333333333333,\"#9c179e\"],[0.4444444444444444,\"#bd3786\"],[0.5555555555555556,\"#d8576b\"],[0.6666666666666666,\"#ed7953\"],[0.7777777777777778,\"#fb9f3a\"],[0.8888888888888888,\"#fdca26\"],[1.0,\"#f0f921\"]]}],\"heatmap\":[{\"type\":\"heatmap\",\"colorbar\":{\"outlinewidth\":0,\"ticks\":\"\"},\"colorscale\":[[0.0,\"#0d0887\"],[0.1111111111111111,\"#46039f\"],[0.2222222222222222,\"#7201a8\"],[0.3333333333333333,\"#9c179e\"],[0.4444444444444444,\"#bd3786\"],[0.5555555555555556,\"#d8576b\"],[0.6666666666666666,\"#ed7953\"],[0.7777777777777778,\"#fb9f3a\"],[0.8888888888888888,\"#fdca26\"],[1.0,\"#f0f921\"]]}],\"heatmapgl\":[{\"type\":\"heatmapgl\",\"colorbar\":{\"outlinewidth\":0,\"ticks\":\"\"},\"colorscale\":[[0.0,\"#0d0887\"],[0.1111111111111111,\"#46039f\"],[0.2222222222222222,\"#7201a8\"],[0.3333333333333333,\"#9c179e\"],[0.4444444444444444,\"#bd3786\"],[0.5555555555555556,\"#d8576b\"],[0.6666666666666666,\"#ed7953\"],[0.7777777777777778,\"#fb9f3a\"],[0.8888888888888888,\"#fdca26\"],[1.0,\"#f0f921\"]]}],\"contourcarpet\":[{\"type\":\"contourcarpet\",\"colorbar\":{\"outlinewidth\":0,\"ticks\":\"\"}}],\"contour\":[{\"type\":\"contour\",\"colorbar\":{\"outlinewidth\":0,\"ticks\":\"\"},\"colorscale\":[[0.0,\"#0d0887\"],[0.1111111111111111,\"#46039f\"],[0.2222222222222222,\"#7201a8\"],[0.3333333333333333,\"#9c179e\"],[0.4444444444444444,\"#bd3786\"],[0.5555555555555556,\"#d8576b\"],[0.6666666666666666,\"#ed7953\"],[0.7777777777777778,\"#fb9f3a\"],[0.8888888888888888,\"#fdca26\"],[1.0,\"#f0f921\"]]}],\"surface\":[{\"type\":\"surface\",\"colorbar\":{\"outlinewidth\":0,\"ticks\":\"\"},\"colorscale\":[[0.0,\"#0d0887\"],[0.1111111111111111,\"#46039f\"],[0.2222222222222222,\"#7201a8\"],[0.3333333333333333,\"#9c179e\"],[0.4444444444444444,\"#bd3786\"],[0.5555555555555556,\"#d8576b\"],[0.6666666666666666,\"#ed7953\"],[0.7777777777777778,\"#fb9f3a\"],[0.8888888888888888,\"#fdca26\"],[1.0,\"#f0f921\"]]}],\"mesh3d\":[{\"type\":\"mesh3d\",\"colorbar\":{\"outlinewidth\":0,\"ticks\":\"\"}}],\"scatter\":[{\"fillpattern\":{\"fillmode\":\"overlay\",\"size\":10,\"solidity\":0.2},\"type\":\"scatter\"}],\"parcoords\":[{\"type\":\"parcoords\",\"line\":{\"colorbar\":{\"outlinewidth\":0,\"ticks\":\"\"}}}],\"scatterpolargl\":[{\"type\":\"scatterpolargl\",\"marker\":{\"colorbar\":{\"outlinewidth\":0,\"ticks\":\"\"}}}],\"bar\":[{\"error_x\":{\"color\":\"#2a3f5f\"},\"error_y\":{\"color\":\"#2a3f5f\"},\"marker\":{\"line\":{\"color\":\"#E5ECF6\",\"width\":0.5},\"pattern\":{\"fillmode\":\"overlay\",\"size\":10,\"solidity\":0.2}},\"type\":\"bar\"}],\"scattergeo\":[{\"type\":\"scattergeo\",\"marker\":{\"colorbar\":{\"outlinewidth\":0,\"ticks\":\"\"}}}],\"scatterpolar\":[{\"type\":\"scatterpolar\",\"marker\":{\"colorbar\":{\"outlinewidth\":0,\"ticks\":\"\"}}}],\"histogram\":[{\"marker\":{\"pattern\":{\"fillmode\":\"overlay\",\"size\":10,\"solidity\":0.2}},\"type\":\"histogram\"}],\"scattergl\":[{\"type\":\"scattergl\",\"marker\":{\"colorbar\":{\"outlinewidth\":0,\"ticks\":\"\"}}}],\"scatter3d\":[{\"type\":\"scatter3d\",\"line\":{\"colorbar\":{\"outlinewidth\":0,\"ticks\":\"\"}},\"marker\":{\"colorbar\":{\"outlinewidth\":0,\"ticks\":\"\"}}}],\"scattermapbox\":[{\"type\":\"scattermapbox\",\"marker\":{\"colorbar\":{\"outlinewidth\":0,\"ticks\":\"\"}}}],\"scatterternary\":[{\"type\":\"scatterternary\",\"marker\":{\"colorbar\":{\"outlinewidth\":0,\"ticks\":\"\"}}}],\"scattercarpet\":[{\"type\":\"scattercarpet\",\"marker\":{\"colorbar\":{\"outlinewidth\":0,\"ticks\":\"\"}}}],\"carpet\":[{\"aaxis\":{\"endlinecolor\":\"#2a3f5f\",\"gridcolor\":\"white\",\"linecolor\":\"white\",\"minorgridcolor\":\"white\",\"startlinecolor\":\"#2a3f5f\"},\"baxis\":{\"endlinecolor\":\"#2a3f5f\",\"gridcolor\":\"white\",\"linecolor\":\"white\",\"minorgridcolor\":\"white\",\"startlinecolor\":\"#2a3f5f\"},\"type\":\"carpet\"}],\"table\":[{\"cells\":{\"fill\":{\"color\":\"#EBF0F8\"},\"line\":{\"color\":\"white\"}},\"header\":{\"fill\":{\"color\":\"#C8D4E3\"},\"line\":{\"color\":\"white\"}},\"type\":\"table\"}],\"barpolar\":[{\"marker\":{\"line\":{\"color\":\"#E5ECF6\",\"width\":0.5},\"pattern\":{\"fillmode\":\"overlay\",\"size\":10,\"solidity\":0.2}},\"type\":\"barpolar\"}],\"pie\":[{\"automargin\":true,\"type\":\"pie\"}]},\"layout\":{\"autotypenumbers\":\"strict\",\"colorway\":[\"#636efa\",\"#EF553B\",\"#00cc96\",\"#ab63fa\",\"#FFA15A\",\"#19d3f3\",\"#FF6692\",\"#B6E880\",\"#FF97FF\",\"#FECB52\"],\"font\":{\"color\":\"#2a3f5f\"},\"hovermode\":\"closest\",\"hoverlabel\":{\"align\":\"left\"},\"paper_bgcolor\":\"white\",\"plot_bgcolor\":\"#E5ECF6\",\"polar\":{\"bgcolor\":\"#E5ECF6\",\"angularaxis\":{\"gridcolor\":\"white\",\"linecolor\":\"white\",\"ticks\":\"\"},\"radialaxis\":{\"gridcolor\":\"white\",\"linecolor\":\"white\",\"ticks\":\"\"}},\"ternary\":{\"bgcolor\":\"#E5ECF6\",\"aaxis\":{\"gridcolor\":\"white\",\"linecolor\":\"white\",\"ticks\":\"\"},\"baxis\":{\"gridcolor\":\"white\",\"linecolor\":\"white\",\"ticks\":\"\"},\"caxis\":{\"gridcolor\":\"white\",\"linecolor\":\"white\",\"ticks\":\"\"}},\"coloraxis\":{\"colorbar\":{\"outlinewidth\":0,\"ticks\":\"\"}},\"colorscale\":{\"sequential\":[[0.0,\"#0d0887\"],[0.1111111111111111,\"#46039f\"],[0.2222222222222222,\"#7201a8\"],[0.3333333333333333,\"#9c179e\"],[0.4444444444444444,\"#bd3786\"],[0.5555555555555556,\"#d8576b\"],[0.6666666666666666,\"#ed7953\"],[0.7777777777777778,\"#fb9f3a\"],[0.8888888888888888,\"#fdca26\"],[1.0,\"#f0f921\"]],\"sequentialminus\":[[0.0,\"#0d0887\"],[0.1111111111111111,\"#46039f\"],[0.2222222222222222,\"#7201a8\"],[0.3333333333333333,\"#9c179e\"],[0.4444444444444444,\"#bd3786\"],[0.5555555555555556,\"#d8576b\"],[0.6666666666666666,\"#ed7953\"],[0.7777777777777778,\"#fb9f3a\"],[0.8888888888888888,\"#fdca26\"],[1.0,\"#f0f921\"]],\"diverging\":[[0,\"#8e0152\"],[0.1,\"#c51b7d\"],[0.2,\"#de77ae\"],[0.3,\"#f1b6da\"],[0.4,\"#fde0ef\"],[0.5,\"#f7f7f7\"],[0.6,\"#e6f5d0\"],[0.7,\"#b8e186\"],[0.8,\"#7fbc41\"],[0.9,\"#4d9221\"],[1,\"#276419\"]]},\"xaxis\":{\"gridcolor\":\"white\",\"linecolor\":\"white\",\"ticks\":\"\",\"title\":{\"standoff\":15},\"zerolinecolor\":\"white\",\"automargin\":true,\"zerolinewidth\":2},\"yaxis\":{\"gridcolor\":\"white\",\"linecolor\":\"white\",\"ticks\":\"\",\"title\":{\"standoff\":15},\"zerolinecolor\":\"white\",\"automargin\":true,\"zerolinewidth\":2},\"scene\":{\"xaxis\":{\"backgroundcolor\":\"#E5ECF6\",\"gridcolor\":\"white\",\"linecolor\":\"white\",\"showbackground\":true,\"ticks\":\"\",\"zerolinecolor\":\"white\",\"gridwidth\":2},\"yaxis\":{\"backgroundcolor\":\"#E5ECF6\",\"gridcolor\":\"white\",\"linecolor\":\"white\",\"showbackground\":true,\"ticks\":\"\",\"zerolinecolor\":\"white\",\"gridwidth\":2},\"zaxis\":{\"backgroundcolor\":\"#E5ECF6\",\"gridcolor\":\"white\",\"linecolor\":\"white\",\"showbackground\":true,\"ticks\":\"\",\"zerolinecolor\":\"white\",\"gridwidth\":2}},\"shapedefaults\":{\"line\":{\"color\":\"#2a3f5f\"}},\"annotationdefaults\":{\"arrowcolor\":\"#2a3f5f\",\"arrowhead\":0,\"arrowwidth\":1},\"geo\":{\"bgcolor\":\"white\",\"landcolor\":\"#E5ECF6\",\"subunitcolor\":\"white\",\"showland\":true,\"showlakes\":true,\"lakecolor\":\"white\"},\"title\":{\"x\":0.05},\"mapbox\":{\"style\":\"light\"}}},\"font\":{\"family\":\"Averta, sans-serif\"},\"hoverlabel\":{\"font\":{\"family\":\"Averta, sans-serif\",\"size\":16}},\"xaxis\":{\"title\":{\"font\":{\"size\":18},\"text\":\"Week\"},\"tickfont\":{\"size\":16}},\"yaxis\":{\"title\":{\"font\":{\"size\":18},\"text\":\"Passing Yards\"},\"tickfont\":{\"size\":16}},\"legend\":{\"font\":{\"size\":16}},\"height\":1000,\"width\":1000},                        {\"responsive\": true}                    ).then(function(){\n",
       "                            \n",
       "var gd = document.getElementById('d53ddaeb-c213-4b08-8120-4f62bf494403');\n",
       "var x = new MutationObserver(function (mutations, observer) {{\n",
       "        var display = window.getComputedStyle(gd).display;\n",
       "        if (!display || display === 'none') {{\n",
       "            console.log([gd, 'removed!']);\n",
       "            Plotly.purge(gd);\n",
       "            observer.disconnect();\n",
       "        }}\n",
       "}});\n",
       "\n",
       "// Listen for the removal of the full notebook cells\n",
       "var notebookContainer = gd.closest('#notebook-container');\n",
       "if (notebookContainer) {{\n",
       "    x.observe(notebookContainer, {childList: true});\n",
       "}}\n",
       "\n",
       "// Listen for the clearing of the current output cell\n",
       "var outputEl = gd.closest('.output');\n",
       "if (outputEl) {{\n",
       "    x.observe(outputEl, {childList: true});\n",
       "}}\n",
       "\n",
       "                        })                };                });            </script>        </div>"
      ]
     },
     "metadata": {},
     "output_type": "display_data"
    }
   ],
   "source": [
    "showAllPassingYards(df_agg)"
   ]
  },
  {
   "cell_type": "code",
   "execution_count": 66,
   "id": "bbf19869",
   "metadata": {},
   "outputs": [
    {
     "name": "stdout",
     "output_type": "stream",
     "text": [
      "What passer are you looking for? :Josh Allen\n",
      "You entered  Josh Allen\n"
     ]
    },
    {
     "data": {
      "application/vnd.plotly.v1+json": {
       "config": {
        "plotlyServerURL": "https://plot.ly"
       },
       "data": [
        {
         "hovertemplate": "<b>Josh Allen</b><br>%{y} yds through week %{x}<extra></extra>",
         "line": {
          "color": "#00338D"
         },
         "mode": "markers+lines",
         "name": "Josh Allen",
         "type": "scatter",
         "x": [
          1,
          2,
          3,
          4,
          5,
          6,
          8,
          9,
          10,
          11,
          12,
          13,
          14,
          15,
          16,
          18
         ],
         "y": [
          297,
          614,
          1014,
          1227,
          1651,
          1980,
          2198,
          2403,
          2733,
          2930,
          3183,
          3406,
          3553,
          3857,
          4029,
          4283
         ]
        }
       ],
       "layout": {
        "font": {
         "family": "Averta, sans-serif"
        },
        "height": 1000,
        "hoverlabel": {
         "font": {
          "family": "Averta, sans-serif",
          "size": 16
         }
        },
        "legend": {
         "font": {
          "size": 16
         }
        },
        "template": {
         "data": {
          "bar": [
           {
            "error_x": {
             "color": "#2a3f5f"
            },
            "error_y": {
             "color": "#2a3f5f"
            },
            "marker": {
             "line": {
              "color": "#E5ECF6",
              "width": 0.5
             },
             "pattern": {
              "fillmode": "overlay",
              "size": 10,
              "solidity": 0.2
             }
            },
            "type": "bar"
           }
          ],
          "barpolar": [
           {
            "marker": {
             "line": {
              "color": "#E5ECF6",
              "width": 0.5
             },
             "pattern": {
              "fillmode": "overlay",
              "size": 10,
              "solidity": 0.2
             }
            },
            "type": "barpolar"
           }
          ],
          "carpet": [
           {
            "aaxis": {
             "endlinecolor": "#2a3f5f",
             "gridcolor": "white",
             "linecolor": "white",
             "minorgridcolor": "white",
             "startlinecolor": "#2a3f5f"
            },
            "baxis": {
             "endlinecolor": "#2a3f5f",
             "gridcolor": "white",
             "linecolor": "white",
             "minorgridcolor": "white",
             "startlinecolor": "#2a3f5f"
            },
            "type": "carpet"
           }
          ],
          "choropleth": [
           {
            "colorbar": {
             "outlinewidth": 0,
             "ticks": ""
            },
            "type": "choropleth"
           }
          ],
          "contour": [
           {
            "colorbar": {
             "outlinewidth": 0,
             "ticks": ""
            },
            "colorscale": [
             [
              0,
              "#0d0887"
             ],
             [
              0.1111111111111111,
              "#46039f"
             ],
             [
              0.2222222222222222,
              "#7201a8"
             ],
             [
              0.3333333333333333,
              "#9c179e"
             ],
             [
              0.4444444444444444,
              "#bd3786"
             ],
             [
              0.5555555555555556,
              "#d8576b"
             ],
             [
              0.6666666666666666,
              "#ed7953"
             ],
             [
              0.7777777777777778,
              "#fb9f3a"
             ],
             [
              0.8888888888888888,
              "#fdca26"
             ],
             [
              1,
              "#f0f921"
             ]
            ],
            "type": "contour"
           }
          ],
          "contourcarpet": [
           {
            "colorbar": {
             "outlinewidth": 0,
             "ticks": ""
            },
            "type": "contourcarpet"
           }
          ],
          "heatmap": [
           {
            "colorbar": {
             "outlinewidth": 0,
             "ticks": ""
            },
            "colorscale": [
             [
              0,
              "#0d0887"
             ],
             [
              0.1111111111111111,
              "#46039f"
             ],
             [
              0.2222222222222222,
              "#7201a8"
             ],
             [
              0.3333333333333333,
              "#9c179e"
             ],
             [
              0.4444444444444444,
              "#bd3786"
             ],
             [
              0.5555555555555556,
              "#d8576b"
             ],
             [
              0.6666666666666666,
              "#ed7953"
             ],
             [
              0.7777777777777778,
              "#fb9f3a"
             ],
             [
              0.8888888888888888,
              "#fdca26"
             ],
             [
              1,
              "#f0f921"
             ]
            ],
            "type": "heatmap"
           }
          ],
          "heatmapgl": [
           {
            "colorbar": {
             "outlinewidth": 0,
             "ticks": ""
            },
            "colorscale": [
             [
              0,
              "#0d0887"
             ],
             [
              0.1111111111111111,
              "#46039f"
             ],
             [
              0.2222222222222222,
              "#7201a8"
             ],
             [
              0.3333333333333333,
              "#9c179e"
             ],
             [
              0.4444444444444444,
              "#bd3786"
             ],
             [
              0.5555555555555556,
              "#d8576b"
             ],
             [
              0.6666666666666666,
              "#ed7953"
             ],
             [
              0.7777777777777778,
              "#fb9f3a"
             ],
             [
              0.8888888888888888,
              "#fdca26"
             ],
             [
              1,
              "#f0f921"
             ]
            ],
            "type": "heatmapgl"
           }
          ],
          "histogram": [
           {
            "marker": {
             "pattern": {
              "fillmode": "overlay",
              "size": 10,
              "solidity": 0.2
             }
            },
            "type": "histogram"
           }
          ],
          "histogram2d": [
           {
            "colorbar": {
             "outlinewidth": 0,
             "ticks": ""
            },
            "colorscale": [
             [
              0,
              "#0d0887"
             ],
             [
              0.1111111111111111,
              "#46039f"
             ],
             [
              0.2222222222222222,
              "#7201a8"
             ],
             [
              0.3333333333333333,
              "#9c179e"
             ],
             [
              0.4444444444444444,
              "#bd3786"
             ],
             [
              0.5555555555555556,
              "#d8576b"
             ],
             [
              0.6666666666666666,
              "#ed7953"
             ],
             [
              0.7777777777777778,
              "#fb9f3a"
             ],
             [
              0.8888888888888888,
              "#fdca26"
             ],
             [
              1,
              "#f0f921"
             ]
            ],
            "type": "histogram2d"
           }
          ],
          "histogram2dcontour": [
           {
            "colorbar": {
             "outlinewidth": 0,
             "ticks": ""
            },
            "colorscale": [
             [
              0,
              "#0d0887"
             ],
             [
              0.1111111111111111,
              "#46039f"
             ],
             [
              0.2222222222222222,
              "#7201a8"
             ],
             [
              0.3333333333333333,
              "#9c179e"
             ],
             [
              0.4444444444444444,
              "#bd3786"
             ],
             [
              0.5555555555555556,
              "#d8576b"
             ],
             [
              0.6666666666666666,
              "#ed7953"
             ],
             [
              0.7777777777777778,
              "#fb9f3a"
             ],
             [
              0.8888888888888888,
              "#fdca26"
             ],
             [
              1,
              "#f0f921"
             ]
            ],
            "type": "histogram2dcontour"
           }
          ],
          "mesh3d": [
           {
            "colorbar": {
             "outlinewidth": 0,
             "ticks": ""
            },
            "type": "mesh3d"
           }
          ],
          "parcoords": [
           {
            "line": {
             "colorbar": {
              "outlinewidth": 0,
              "ticks": ""
             }
            },
            "type": "parcoords"
           }
          ],
          "pie": [
           {
            "automargin": true,
            "type": "pie"
           }
          ],
          "scatter": [
           {
            "fillpattern": {
             "fillmode": "overlay",
             "size": 10,
             "solidity": 0.2
            },
            "type": "scatter"
           }
          ],
          "scatter3d": [
           {
            "line": {
             "colorbar": {
              "outlinewidth": 0,
              "ticks": ""
             }
            },
            "marker": {
             "colorbar": {
              "outlinewidth": 0,
              "ticks": ""
             }
            },
            "type": "scatter3d"
           }
          ],
          "scattercarpet": [
           {
            "marker": {
             "colorbar": {
              "outlinewidth": 0,
              "ticks": ""
             }
            },
            "type": "scattercarpet"
           }
          ],
          "scattergeo": [
           {
            "marker": {
             "colorbar": {
              "outlinewidth": 0,
              "ticks": ""
             }
            },
            "type": "scattergeo"
           }
          ],
          "scattergl": [
           {
            "marker": {
             "colorbar": {
              "outlinewidth": 0,
              "ticks": ""
             }
            },
            "type": "scattergl"
           }
          ],
          "scattermapbox": [
           {
            "marker": {
             "colorbar": {
              "outlinewidth": 0,
              "ticks": ""
             }
            },
            "type": "scattermapbox"
           }
          ],
          "scatterpolar": [
           {
            "marker": {
             "colorbar": {
              "outlinewidth": 0,
              "ticks": ""
             }
            },
            "type": "scatterpolar"
           }
          ],
          "scatterpolargl": [
           {
            "marker": {
             "colorbar": {
              "outlinewidth": 0,
              "ticks": ""
             }
            },
            "type": "scatterpolargl"
           }
          ],
          "scatterternary": [
           {
            "marker": {
             "colorbar": {
              "outlinewidth": 0,
              "ticks": ""
             }
            },
            "type": "scatterternary"
           }
          ],
          "surface": [
           {
            "colorbar": {
             "outlinewidth": 0,
             "ticks": ""
            },
            "colorscale": [
             [
              0,
              "#0d0887"
             ],
             [
              0.1111111111111111,
              "#46039f"
             ],
             [
              0.2222222222222222,
              "#7201a8"
             ],
             [
              0.3333333333333333,
              "#9c179e"
             ],
             [
              0.4444444444444444,
              "#bd3786"
             ],
             [
              0.5555555555555556,
              "#d8576b"
             ],
             [
              0.6666666666666666,
              "#ed7953"
             ],
             [
              0.7777777777777778,
              "#fb9f3a"
             ],
             [
              0.8888888888888888,
              "#fdca26"
             ],
             [
              1,
              "#f0f921"
             ]
            ],
            "type": "surface"
           }
          ],
          "table": [
           {
            "cells": {
             "fill": {
              "color": "#EBF0F8"
             },
             "line": {
              "color": "white"
             }
            },
            "header": {
             "fill": {
              "color": "#C8D4E3"
             },
             "line": {
              "color": "white"
             }
            },
            "type": "table"
           }
          ]
         },
         "layout": {
          "annotationdefaults": {
           "arrowcolor": "#2a3f5f",
           "arrowhead": 0,
           "arrowwidth": 1
          },
          "autotypenumbers": "strict",
          "coloraxis": {
           "colorbar": {
            "outlinewidth": 0,
            "ticks": ""
           }
          },
          "colorscale": {
           "diverging": [
            [
             0,
             "#8e0152"
            ],
            [
             0.1,
             "#c51b7d"
            ],
            [
             0.2,
             "#de77ae"
            ],
            [
             0.3,
             "#f1b6da"
            ],
            [
             0.4,
             "#fde0ef"
            ],
            [
             0.5,
             "#f7f7f7"
            ],
            [
             0.6,
             "#e6f5d0"
            ],
            [
             0.7,
             "#b8e186"
            ],
            [
             0.8,
             "#7fbc41"
            ],
            [
             0.9,
             "#4d9221"
            ],
            [
             1,
             "#276419"
            ]
           ],
           "sequential": [
            [
             0,
             "#0d0887"
            ],
            [
             0.1111111111111111,
             "#46039f"
            ],
            [
             0.2222222222222222,
             "#7201a8"
            ],
            [
             0.3333333333333333,
             "#9c179e"
            ],
            [
             0.4444444444444444,
             "#bd3786"
            ],
            [
             0.5555555555555556,
             "#d8576b"
            ],
            [
             0.6666666666666666,
             "#ed7953"
            ],
            [
             0.7777777777777778,
             "#fb9f3a"
            ],
            [
             0.8888888888888888,
             "#fdca26"
            ],
            [
             1,
             "#f0f921"
            ]
           ],
           "sequentialminus": [
            [
             0,
             "#0d0887"
            ],
            [
             0.1111111111111111,
             "#46039f"
            ],
            [
             0.2222222222222222,
             "#7201a8"
            ],
            [
             0.3333333333333333,
             "#9c179e"
            ],
            [
             0.4444444444444444,
             "#bd3786"
            ],
            [
             0.5555555555555556,
             "#d8576b"
            ],
            [
             0.6666666666666666,
             "#ed7953"
            ],
            [
             0.7777777777777778,
             "#fb9f3a"
            ],
            [
             0.8888888888888888,
             "#fdca26"
            ],
            [
             1,
             "#f0f921"
            ]
           ]
          },
          "colorway": [
           "#636efa",
           "#EF553B",
           "#00cc96",
           "#ab63fa",
           "#FFA15A",
           "#19d3f3",
           "#FF6692",
           "#B6E880",
           "#FF97FF",
           "#FECB52"
          ],
          "font": {
           "color": "#2a3f5f"
          },
          "geo": {
           "bgcolor": "white",
           "lakecolor": "white",
           "landcolor": "#E5ECF6",
           "showlakes": true,
           "showland": true,
           "subunitcolor": "white"
          },
          "hoverlabel": {
           "align": "left"
          },
          "hovermode": "closest",
          "mapbox": {
           "style": "light"
          },
          "paper_bgcolor": "white",
          "plot_bgcolor": "#E5ECF6",
          "polar": {
           "angularaxis": {
            "gridcolor": "white",
            "linecolor": "white",
            "ticks": ""
           },
           "bgcolor": "#E5ECF6",
           "radialaxis": {
            "gridcolor": "white",
            "linecolor": "white",
            "ticks": ""
           }
          },
          "scene": {
           "xaxis": {
            "backgroundcolor": "#E5ECF6",
            "gridcolor": "white",
            "gridwidth": 2,
            "linecolor": "white",
            "showbackground": true,
            "ticks": "",
            "zerolinecolor": "white"
           },
           "yaxis": {
            "backgroundcolor": "#E5ECF6",
            "gridcolor": "white",
            "gridwidth": 2,
            "linecolor": "white",
            "showbackground": true,
            "ticks": "",
            "zerolinecolor": "white"
           },
           "zaxis": {
            "backgroundcolor": "#E5ECF6",
            "gridcolor": "white",
            "gridwidth": 2,
            "linecolor": "white",
            "showbackground": true,
            "ticks": "",
            "zerolinecolor": "white"
           }
          },
          "shapedefaults": {
           "line": {
            "color": "#2a3f5f"
           }
          },
          "ternary": {
           "aaxis": {
            "gridcolor": "white",
            "linecolor": "white",
            "ticks": ""
           },
           "baxis": {
            "gridcolor": "white",
            "linecolor": "white",
            "ticks": ""
           },
           "bgcolor": "#E5ECF6",
           "caxis": {
            "gridcolor": "white",
            "linecolor": "white",
            "ticks": ""
           }
          },
          "title": {
           "x": 0.05
          },
          "xaxis": {
           "automargin": true,
           "gridcolor": "white",
           "linecolor": "white",
           "ticks": "",
           "title": {
            "standoff": 15
           },
           "zerolinecolor": "white",
           "zerolinewidth": 2
          },
          "yaxis": {
           "automargin": true,
           "gridcolor": "white",
           "linecolor": "white",
           "ticks": "",
           "title": {
            "standoff": 15
           },
           "zerolinecolor": "white",
           "zerolinewidth": 2
          }
         }
        },
        "width": 1000,
        "xaxis": {
         "tickfont": {
          "size": 16
         },
         "title": {
          "font": {
           "size": 18
          },
          "text": "Week"
         }
        },
        "yaxis": {
         "tickfont": {
          "size": 16
         },
         "title": {
          "font": {
           "size": 18
          },
          "text": "Passing Yards"
         }
        }
       }
      },
      "text/html": [
       "<div>                            <div id=\"4de41b72-528b-4489-a7b2-ed6bb172f3da\" class=\"plotly-graph-div\" style=\"height:1000px; width:1000px;\"></div>            <script type=\"text/javascript\">                require([\"plotly\"], function(Plotly) {                    window.PLOTLYENV=window.PLOTLYENV || {};                                    if (document.getElementById(\"4de41b72-528b-4489-a7b2-ed6bb172f3da\")) {                    Plotly.newPlot(                        \"4de41b72-528b-4489-a7b2-ed6bb172f3da\",                        [{\"hovertemplate\":\"<b>Josh Allen</b><br>%{y} yds through week %{x}<extra></extra>\",\"line\":{\"color\":\"#00338D\"},\"mode\":\"markers+lines\",\"name\":\"Josh Allen\",\"x\":[1,2,3,4,5,6,8,9,10,11,12,13,14,15,16,18],\"y\":[297.0,614.0,1014.0,1227.0,1651.0,1980.0,2198.0,2403.0,2733.0,2930.0,3183.0,3406.0,3553.0,3857.0,4029.0,4283.0],\"type\":\"scatter\"}],                        {\"template\":{\"data\":{\"histogram2dcontour\":[{\"type\":\"histogram2dcontour\",\"colorbar\":{\"outlinewidth\":0,\"ticks\":\"\"},\"colorscale\":[[0.0,\"#0d0887\"],[0.1111111111111111,\"#46039f\"],[0.2222222222222222,\"#7201a8\"],[0.3333333333333333,\"#9c179e\"],[0.4444444444444444,\"#bd3786\"],[0.5555555555555556,\"#d8576b\"],[0.6666666666666666,\"#ed7953\"],[0.7777777777777778,\"#fb9f3a\"],[0.8888888888888888,\"#fdca26\"],[1.0,\"#f0f921\"]]}],\"choropleth\":[{\"type\":\"choropleth\",\"colorbar\":{\"outlinewidth\":0,\"ticks\":\"\"}}],\"histogram2d\":[{\"type\":\"histogram2d\",\"colorbar\":{\"outlinewidth\":0,\"ticks\":\"\"},\"colorscale\":[[0.0,\"#0d0887\"],[0.1111111111111111,\"#46039f\"],[0.2222222222222222,\"#7201a8\"],[0.3333333333333333,\"#9c179e\"],[0.4444444444444444,\"#bd3786\"],[0.5555555555555556,\"#d8576b\"],[0.6666666666666666,\"#ed7953\"],[0.7777777777777778,\"#fb9f3a\"],[0.8888888888888888,\"#fdca26\"],[1.0,\"#f0f921\"]]}],\"heatmap\":[{\"type\":\"heatmap\",\"colorbar\":{\"outlinewidth\":0,\"ticks\":\"\"},\"colorscale\":[[0.0,\"#0d0887\"],[0.1111111111111111,\"#46039f\"],[0.2222222222222222,\"#7201a8\"],[0.3333333333333333,\"#9c179e\"],[0.4444444444444444,\"#bd3786\"],[0.5555555555555556,\"#d8576b\"],[0.6666666666666666,\"#ed7953\"],[0.7777777777777778,\"#fb9f3a\"],[0.8888888888888888,\"#fdca26\"],[1.0,\"#f0f921\"]]}],\"heatmapgl\":[{\"type\":\"heatmapgl\",\"colorbar\":{\"outlinewidth\":0,\"ticks\":\"\"},\"colorscale\":[[0.0,\"#0d0887\"],[0.1111111111111111,\"#46039f\"],[0.2222222222222222,\"#7201a8\"],[0.3333333333333333,\"#9c179e\"],[0.4444444444444444,\"#bd3786\"],[0.5555555555555556,\"#d8576b\"],[0.6666666666666666,\"#ed7953\"],[0.7777777777777778,\"#fb9f3a\"],[0.8888888888888888,\"#fdca26\"],[1.0,\"#f0f921\"]]}],\"contourcarpet\":[{\"type\":\"contourcarpet\",\"colorbar\":{\"outlinewidth\":0,\"ticks\":\"\"}}],\"contour\":[{\"type\":\"contour\",\"colorbar\":{\"outlinewidth\":0,\"ticks\":\"\"},\"colorscale\":[[0.0,\"#0d0887\"],[0.1111111111111111,\"#46039f\"],[0.2222222222222222,\"#7201a8\"],[0.3333333333333333,\"#9c179e\"],[0.4444444444444444,\"#bd3786\"],[0.5555555555555556,\"#d8576b\"],[0.6666666666666666,\"#ed7953\"],[0.7777777777777778,\"#fb9f3a\"],[0.8888888888888888,\"#fdca26\"],[1.0,\"#f0f921\"]]}],\"surface\":[{\"type\":\"surface\",\"colorbar\":{\"outlinewidth\":0,\"ticks\":\"\"},\"colorscale\":[[0.0,\"#0d0887\"],[0.1111111111111111,\"#46039f\"],[0.2222222222222222,\"#7201a8\"],[0.3333333333333333,\"#9c179e\"],[0.4444444444444444,\"#bd3786\"],[0.5555555555555556,\"#d8576b\"],[0.6666666666666666,\"#ed7953\"],[0.7777777777777778,\"#fb9f3a\"],[0.8888888888888888,\"#fdca26\"],[1.0,\"#f0f921\"]]}],\"mesh3d\":[{\"type\":\"mesh3d\",\"colorbar\":{\"outlinewidth\":0,\"ticks\":\"\"}}],\"scatter\":[{\"fillpattern\":{\"fillmode\":\"overlay\",\"size\":10,\"solidity\":0.2},\"type\":\"scatter\"}],\"parcoords\":[{\"type\":\"parcoords\",\"line\":{\"colorbar\":{\"outlinewidth\":0,\"ticks\":\"\"}}}],\"scatterpolargl\":[{\"type\":\"scatterpolargl\",\"marker\":{\"colorbar\":{\"outlinewidth\":0,\"ticks\":\"\"}}}],\"bar\":[{\"error_x\":{\"color\":\"#2a3f5f\"},\"error_y\":{\"color\":\"#2a3f5f\"},\"marker\":{\"line\":{\"color\":\"#E5ECF6\",\"width\":0.5},\"pattern\":{\"fillmode\":\"overlay\",\"size\":10,\"solidity\":0.2}},\"type\":\"bar\"}],\"scattergeo\":[{\"type\":\"scattergeo\",\"marker\":{\"colorbar\":{\"outlinewidth\":0,\"ticks\":\"\"}}}],\"scatterpolar\":[{\"type\":\"scatterpolar\",\"marker\":{\"colorbar\":{\"outlinewidth\":0,\"ticks\":\"\"}}}],\"histogram\":[{\"marker\":{\"pattern\":{\"fillmode\":\"overlay\",\"size\":10,\"solidity\":0.2}},\"type\":\"histogram\"}],\"scattergl\":[{\"type\":\"scattergl\",\"marker\":{\"colorbar\":{\"outlinewidth\":0,\"ticks\":\"\"}}}],\"scatter3d\":[{\"type\":\"scatter3d\",\"line\":{\"colorbar\":{\"outlinewidth\":0,\"ticks\":\"\"}},\"marker\":{\"colorbar\":{\"outlinewidth\":0,\"ticks\":\"\"}}}],\"scattermapbox\":[{\"type\":\"scattermapbox\",\"marker\":{\"colorbar\":{\"outlinewidth\":0,\"ticks\":\"\"}}}],\"scatterternary\":[{\"type\":\"scatterternary\",\"marker\":{\"colorbar\":{\"outlinewidth\":0,\"ticks\":\"\"}}}],\"scattercarpet\":[{\"type\":\"scattercarpet\",\"marker\":{\"colorbar\":{\"outlinewidth\":0,\"ticks\":\"\"}}}],\"carpet\":[{\"aaxis\":{\"endlinecolor\":\"#2a3f5f\",\"gridcolor\":\"white\",\"linecolor\":\"white\",\"minorgridcolor\":\"white\",\"startlinecolor\":\"#2a3f5f\"},\"baxis\":{\"endlinecolor\":\"#2a3f5f\",\"gridcolor\":\"white\",\"linecolor\":\"white\",\"minorgridcolor\":\"white\",\"startlinecolor\":\"#2a3f5f\"},\"type\":\"carpet\"}],\"table\":[{\"cells\":{\"fill\":{\"color\":\"#EBF0F8\"},\"line\":{\"color\":\"white\"}},\"header\":{\"fill\":{\"color\":\"#C8D4E3\"},\"line\":{\"color\":\"white\"}},\"type\":\"table\"}],\"barpolar\":[{\"marker\":{\"line\":{\"color\":\"#E5ECF6\",\"width\":0.5},\"pattern\":{\"fillmode\":\"overlay\",\"size\":10,\"solidity\":0.2}},\"type\":\"barpolar\"}],\"pie\":[{\"automargin\":true,\"type\":\"pie\"}]},\"layout\":{\"autotypenumbers\":\"strict\",\"colorway\":[\"#636efa\",\"#EF553B\",\"#00cc96\",\"#ab63fa\",\"#FFA15A\",\"#19d3f3\",\"#FF6692\",\"#B6E880\",\"#FF97FF\",\"#FECB52\"],\"font\":{\"color\":\"#2a3f5f\"},\"hovermode\":\"closest\",\"hoverlabel\":{\"align\":\"left\"},\"paper_bgcolor\":\"white\",\"plot_bgcolor\":\"#E5ECF6\",\"polar\":{\"bgcolor\":\"#E5ECF6\",\"angularaxis\":{\"gridcolor\":\"white\",\"linecolor\":\"white\",\"ticks\":\"\"},\"radialaxis\":{\"gridcolor\":\"white\",\"linecolor\":\"white\",\"ticks\":\"\"}},\"ternary\":{\"bgcolor\":\"#E5ECF6\",\"aaxis\":{\"gridcolor\":\"white\",\"linecolor\":\"white\",\"ticks\":\"\"},\"baxis\":{\"gridcolor\":\"white\",\"linecolor\":\"white\",\"ticks\":\"\"},\"caxis\":{\"gridcolor\":\"white\",\"linecolor\":\"white\",\"ticks\":\"\"}},\"coloraxis\":{\"colorbar\":{\"outlinewidth\":0,\"ticks\":\"\"}},\"colorscale\":{\"sequential\":[[0.0,\"#0d0887\"],[0.1111111111111111,\"#46039f\"],[0.2222222222222222,\"#7201a8\"],[0.3333333333333333,\"#9c179e\"],[0.4444444444444444,\"#bd3786\"],[0.5555555555555556,\"#d8576b\"],[0.6666666666666666,\"#ed7953\"],[0.7777777777777778,\"#fb9f3a\"],[0.8888888888888888,\"#fdca26\"],[1.0,\"#f0f921\"]],\"sequentialminus\":[[0.0,\"#0d0887\"],[0.1111111111111111,\"#46039f\"],[0.2222222222222222,\"#7201a8\"],[0.3333333333333333,\"#9c179e\"],[0.4444444444444444,\"#bd3786\"],[0.5555555555555556,\"#d8576b\"],[0.6666666666666666,\"#ed7953\"],[0.7777777777777778,\"#fb9f3a\"],[0.8888888888888888,\"#fdca26\"],[1.0,\"#f0f921\"]],\"diverging\":[[0,\"#8e0152\"],[0.1,\"#c51b7d\"],[0.2,\"#de77ae\"],[0.3,\"#f1b6da\"],[0.4,\"#fde0ef\"],[0.5,\"#f7f7f7\"],[0.6,\"#e6f5d0\"],[0.7,\"#b8e186\"],[0.8,\"#7fbc41\"],[0.9,\"#4d9221\"],[1,\"#276419\"]]},\"xaxis\":{\"gridcolor\":\"white\",\"linecolor\":\"white\",\"ticks\":\"\",\"title\":{\"standoff\":15},\"zerolinecolor\":\"white\",\"automargin\":true,\"zerolinewidth\":2},\"yaxis\":{\"gridcolor\":\"white\",\"linecolor\":\"white\",\"ticks\":\"\",\"title\":{\"standoff\":15},\"zerolinecolor\":\"white\",\"automargin\":true,\"zerolinewidth\":2},\"scene\":{\"xaxis\":{\"backgroundcolor\":\"#E5ECF6\",\"gridcolor\":\"white\",\"linecolor\":\"white\",\"showbackground\":true,\"ticks\":\"\",\"zerolinecolor\":\"white\",\"gridwidth\":2},\"yaxis\":{\"backgroundcolor\":\"#E5ECF6\",\"gridcolor\":\"white\",\"linecolor\":\"white\",\"showbackground\":true,\"ticks\":\"\",\"zerolinecolor\":\"white\",\"gridwidth\":2},\"zaxis\":{\"backgroundcolor\":\"#E5ECF6\",\"gridcolor\":\"white\",\"linecolor\":\"white\",\"showbackground\":true,\"ticks\":\"\",\"zerolinecolor\":\"white\",\"gridwidth\":2}},\"shapedefaults\":{\"line\":{\"color\":\"#2a3f5f\"}},\"annotationdefaults\":{\"arrowcolor\":\"#2a3f5f\",\"arrowhead\":0,\"arrowwidth\":1},\"geo\":{\"bgcolor\":\"white\",\"landcolor\":\"#E5ECF6\",\"subunitcolor\":\"white\",\"showland\":true,\"showlakes\":true,\"lakecolor\":\"white\"},\"title\":{\"x\":0.05},\"mapbox\":{\"style\":\"light\"}}},\"font\":{\"family\":\"Averta, sans-serif\"},\"hoverlabel\":{\"font\":{\"family\":\"Averta, sans-serif\",\"size\":16}},\"xaxis\":{\"title\":{\"font\":{\"size\":18},\"text\":\"Week\"},\"tickfont\":{\"size\":16}},\"yaxis\":{\"title\":{\"font\":{\"size\":18},\"text\":\"Passing Yards\"},\"tickfont\":{\"size\":16}},\"legend\":{\"font\":{\"size\":16}},\"height\":1000,\"width\":1000},                        {\"responsive\": true}                    ).then(function(){\n",
       "                            \n",
       "var gd = document.getElementById('4de41b72-528b-4489-a7b2-ed6bb172f3da');\n",
       "var x = new MutationObserver(function (mutations, observer) {{\n",
       "        var display = window.getComputedStyle(gd).display;\n",
       "        if (!display || display === 'none') {{\n",
       "            console.log([gd, 'removed!']);\n",
       "            Plotly.purge(gd);\n",
       "            observer.disconnect();\n",
       "        }}\n",
       "}});\n",
       "\n",
       "// Listen for the removal of the full notebook cells\n",
       "var notebookContainer = gd.closest('#notebook-container');\n",
       "if (notebookContainer) {{\n",
       "    x.observe(notebookContainer, {childList: true});\n",
       "}}\n",
       "\n",
       "// Listen for the clearing of the current output cell\n",
       "var outputEl = gd.closest('.output');\n",
       "if (outputEl) {{\n",
       "    x.observe(outputEl, {childList: true});\n",
       "}}\n",
       "\n",
       "                        })                };                });            </script>        </div>"
      ]
     },
     "metadata": {},
     "output_type": "display_data"
    }
   ],
   "source": [
    "pname = input(\"What passer are you looking for? :\")\n",
    "print(\"You entered \", pname)\n",
    "passyardsperweek(pname, df_agg)"
   ]
  },
  {
   "cell_type": "code",
   "execution_count": null,
   "id": "fe0a3f09",
   "metadata": {},
   "outputs": [],
   "source": []
  }
 ],
 "metadata": {
  "kernelspec": {
   "display_name": "Python 3 (ipykernel)",
   "language": "python",
   "name": "python3"
  },
  "language_info": {
   "codemirror_mode": {
    "name": "ipython",
    "version": 3
   },
   "file_extension": ".py",
   "mimetype": "text/x-python",
   "name": "python",
   "nbconvert_exporter": "python",
   "pygments_lexer": "ipython3",
   "version": "3.10.6"
  }
 },
 "nbformat": 4,
 "nbformat_minor": 5
}
