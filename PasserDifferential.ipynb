{
 "cells": [
  {
   "cell_type": "code",
   "execution_count": 1,
   "id": "3df5f536",
   "metadata": {},
   "outputs": [],
   "source": [
    "#TODO:\n",
    "#See about importing a notebook from a notebook and if possible move functions to their own module\n",
    "#Homogenize df manipulation functions s.t. new attributes from lists are updated within the function\n",
    "#Don't make a new dataframe every other cell\n",
    "\n",
    "#What we could look at, instead of ALL wins by passer differential\n",
    "#Is positive differential with two classes, wins and losses"
   ]
  },
  {
   "cell_type": "code",
   "execution_count": 2,
   "id": "65f96e41",
   "metadata": {},
   "outputs": [],
   "source": [
    "#The goal of this notebook is to evaluate Passer Rating differential vs game outcome. \n",
    "#Intuition suggests that if one guy throws better than the other guy, his team probably wins"
   ]
  },
  {
   "cell_type": "code",
   "execution_count": 157,
   "id": "a52285b2",
   "metadata": {},
   "outputs": [],
   "source": [
    "import pandas as pd\n",
    "import plotly.graph_objects as go\n",
    "import plotly.express as px\n",
    "import matplotlib.pyplot as plt\n",
    "import math\n",
    "import numpy as np\n",
    "import duckdb"
   ]
  },
  {
   "cell_type": "code",
   "execution_count": 4,
   "id": "05e8e7ae",
   "metadata": {},
   "outputs": [
    {
     "name": "stderr",
     "output_type": "stream",
     "text": [
      "/tmp/ipykernel_44618/31602283.py:1: DtypeWarning: Columns (46,180,181,183,184,190,191,204,205,206,207,214,215,219,220,221,223,225,227,244,245,246,249,250,254,255,256,261,263,264,267,268,269,270,278,284,285,302) have mixed types. Specify dtype option on import or set low_memory=False.\n",
      "  playlist1 = pd.read_csv('playlist_1.csv')\n",
      "/tmp/ipykernel_44618/31602283.py:2: DtypeWarning: Columns (46,180,181,183,184,190,191,194,195,198,199,204,205,206,207,219,220,221,223,225,227,249,250,254,255,256,261,263,264,278,284,285,302,373,374,375,376,378,380,381,382) have mixed types. Specify dtype option on import or set low_memory=False.\n",
      "  playlist2 = pd.read_csv('playlist_2.csv')\n"
     ]
    }
   ],
   "source": [
    "playlist1 = pd.read_csv('playlist_1.csv')\n",
    "playlist2 = pd.read_csv('playlist_2.csv')\n",
    "players   = pd.read_csv('playerlist.csv')\n",
    "teams     = pd.read_csv('teamlist.csv')"
   ]
  },
  {
   "cell_type": "code",
   "execution_count": 5,
   "id": "d20d1524",
   "metadata": {},
   "outputs": [],
   "source": [
    "#NOTE:\n",
    "#Due to the file size limit on GitHub, the data for the 2022 NFL season is stored in two separate CSV files.\n",
    "#They are rebuilt into a single dataframe, 'DFPL', in this cell. The index column is dropped. \n",
    "\n",
    "\n",
    "playlist = [playlist1, playlist2]\n",
    "DFPL = pd.concat(playlist)\n",
    "DFPL = DFPL.drop(DFPL.columns[[0]], axis=1)"
   ]
  },
  {
   "cell_type": "code",
   "execution_count": 6,
   "id": "52099196",
   "metadata": {},
   "outputs": [],
   "source": [
    "#COMMENTARY:\n",
    "#The first step in our evaluation is to select only the relevant plays from the 2022 season.\n",
    "#We have chosen to only analyze the regular season, excluding plays from the pre and post seasons.\n",
    "#This was done because the post season has fewer QBs, and the preseason, well most people don't really try\n",
    "\n",
    "#We have also excluded two point attempts, as the completion rates tend to be much lower than normal plays\n",
    "\n",
    "#Finally we have excluded non passing plays, to shrink up the size of the data set. \n",
    "\n",
    "#Our dataframe is now limited to the relevant passing plays from the 2022 regular season."
   ]
  },
  {
   "cell_type": "code",
   "execution_count": 7,
   "id": "9167e7de",
   "metadata": {},
   "outputs": [],
   "source": [
    "DFqb = DFPL[DFPL[\"season_type\"] == \"REG\"]\n",
    "DFqb = DFqb[DFqb[\"two_point_attempt\"] == False]\n",
    "DFqb = DFqb[DFqb[\"play_type\"] == \"pass\"]\n",
    "#DFqb.shape outputs (19305, 384)"
   ]
  },
  {
   "cell_type": "code",
   "execution_count": 8,
   "id": "77fc239f",
   "metadata": {},
   "outputs": [
    {
     "data": {
      "text/plain": [
       "array(['Joe Flacco', 'Lamar Jackson', 'Josh Allen', 'Matthew Stafford',\n",
       "       'Baker Mayfield', 'Jacoby Brissett', 'Geno Smith',\n",
       "       'Russell Wilson', 'Kirk Cousins', 'Aaron Rodgers', 'Jordan Love',\n",
       "       'Matt Ryan', 'Davis Mills', 'Trevor Lawrence', 'Carson Wentz',\n",
       "       'Patrick Mahomes', 'Kyler Murray', 'Trace McSorley',\n",
       "       'Justin Herbert', 'Derek Carr', 'Davante Adams', 'Mac Jones',\n",
       "       'Tua Tagovailoa', 'Marcus Mariota', 'Jameis Winston',\n",
       "       'Ryan Tannehill', 'Daniel Jones', 'Jared Goff', 'Jalen Hurts',\n",
       "       'Mitchell Trubisky', 'Joe Burrow', 'Justin Fields', 'Trey Lance',\n",
       "       'Dak Prescott', 'Tom Brady', 'Cooper Rush', 'Braden Mann',\n",
       "       'Jimmy Garoppolo', 'DeeJay Dallas', 'Malik Willis', 'Case Keenum',\n",
       "       'Teddy Bridgewater', 'Tommy Townsend', 'Mack Hollins',\n",
       "       'Tyrod Taylor', 'Tyler Boyd', 'Andy Dalton', 'Ryan Wright',\n",
       "       'Brian Hoyer', 'Bailey Zappe', 'Zach Wilson', 'Braxton Berrios',\n",
       "       'Kenny Pickett', 'Jack Fox', 'Justin Jefferson', 'Riley Dixon',\n",
       "       'Cooper Kupp', 'Skylar Thompson', 'Taysom Hill', 'Phillip Walker',\n",
       "       'Taylor Heinicke', 'Chad Henne', 'Brock Purdy', 'Christian Kirk',\n",
       "       'Brett Rypien', 'Trevor Siemian', 'Amari Cooper',\n",
       "       'Jarrett Stidham', 'Najee Harris', 'Chase Claypool',\n",
       "       'Gardner Minshew', 'Christian McCaffrey', 'Rex Burkhead',\n",
       "       'Sam Ehlinger', 'Brandon Allen', 'Nick Mullens', 'John Wolford',\n",
       "       'Colt McCoy', 'Bryce Perkins', 'Cedrick Wilson', 'Chase Daniel',\n",
       "       'Leonard Fournette', 'Derrick Henry', 'Mike White', 'Sam Darnold',\n",
       "       'Kyle Allen', 'Deshaun Watson', 'Tyler Huntley', 'James Proche',\n",
       "       'C.J. Beathard', 'Garrett Wilson', 'Anthony Brown',\n",
       "       \"Ja'Marr Chase\", 'Jeff Driskel', 'Dalvin Cook', 'Josh Johnson',\n",
       "       'Desmond Ridder', 'Phillip Dorsett', 'Nathan Peterman',\n",
       "       'Chris Streveler', 'Nick Foles', 'Andy Lee', 'David Blough',\n",
       "       'Nate Sudfeld', 'Joshua Dobbs', 'Sam Howell', 'Tim Boyle',\n",
       "       'Davis Webb', 'Jamie Gillan', 'Lawrence Cager', 'Blaine Gabbert',\n",
       "       'Kyle Trask'], dtype=object)"
      ]
     },
     "execution_count": 8,
     "metadata": {},
     "output_type": "execute_result"
    }
   ],
   "source": [
    "#NOTE:\n",
    "#The passing player's name is not stored in our primary dataframe ('DFqb'), but it is stored in 'players'\n",
    "#We use the following cell to extract the plassing player's name from the 'players' dataframe\n",
    "#Then we print out the unique values, to see the names of everyone in our primary dataframe who had thrown a pass\n",
    "\n",
    "DFqb = DFqb.merge(players[[\"player_id\", \"player_name\"]], \n",
    "                            left_on=\"passer_player_id\", right_on=\"player_id\")\n",
    "\n",
    "DFqb[\"player_name\"].unique() "
   ]
  },
  {
   "cell_type": "code",
   "execution_count": 9,
   "id": "f242cf43",
   "metadata": {},
   "outputs": [],
   "source": [
    "#NOTE:\n",
    "#We want to pull the team color, because it could be fun for visualization purposes\n",
    "#Color isn't available from \"the playlist\" but it is available from \"teams\"\n",
    "\n",
    "DFqb = DFqb.merge(teams[[\"team_abbr\", \"team_color\"]],\n",
    "                                   left_on=\"posteam\", right_on=\"team_abbr\")"
   ]
  },
  {
   "cell_type": "code",
   "execution_count": 10,
   "id": "7384e81b",
   "metadata": {},
   "outputs": [],
   "source": [
    "#COMMENTARY:\n",
    "#For the purposes of our work we want to isolate the relevant attributes into a new primary (dfPR)\n",
    "#We want to work towards one passer rating per team per week\n",
    "\n",
    "dfPR = (DFqb.groupby([\"player_name\", \"team_abbr\", \"team_color\", \"week\", \"defteam\"], as_index=False)\n",
    "         .agg({\"passing_yards\": \"sum\", \"pass_touchdown\": \"sum\", \"interception\": \"sum\", \n",
    "               \"pass_attempt\": \"sum\", \"complete_pass\": \"sum\"})\n",
    "         )\n",
    "#COMMENTARY:\n",
    "#This has everything we need for Passer Rating. Now we'll make a function to take the relevant info per week\n",
    "#and calculate the Passer Rating and store that value in the aptly named passer_rating attribute"
   ]
  },
  {
   "cell_type": "code",
   "execution_count": 11,
   "id": "9658c454",
   "metadata": {},
   "outputs": [],
   "source": [
    "#NOTE:\n",
    "#The Passer Rating formula is ((a+b+c+d)/6)*100\n",
    "#The values of a through d are demonstrated in the calculatePasserRating function in the next cell\n",
    "\n",
    "#Part of the formula is that if any value a through d is less than 0, it is set to 0\n",
    "#and if it is above 2.375, it is set to 2.375\n",
    "#This ultimately makes the worst possible Passer Rating 0, and best possible 158.3\n",
    "\n",
    "#The function in this cell enforces the upper and lower bounds\n",
    "\n",
    "def prHelper(value):\n",
    "    if value < 0:\n",
    "        value = 0\n",
    "    if value > 2.375:\n",
    "        value = 2.375\n",
    "    return value"
   ]
  },
  {
   "cell_type": "code",
   "execution_count": 12,
   "id": "9279b51f",
   "metadata": {},
   "outputs": [],
   "source": [
    "def calculatePasserRating(df):\n",
    "    passerRating = []\n",
    "    for index, qb in df.iterrows():\n",
    "        completions = qb[\"complete_pass\"]\n",
    "        attempts    = qb[\"pass_attempt\"]\n",
    "        touchdowns  = qb[\"pass_touchdown\"]\n",
    "        yards       = qb[\"passing_yards\"]\n",
    "        ints        = qb[\"interception\"]\n",
    "        \n",
    "        #IDEA ###############################################################################################\n",
    "        #The weights and biases below are originally from values from the 1960-1970 NFL seasons.\n",
    "        #An idea for later analysis would be to modify these such that the season averages for a, b, c, and d\n",
    "        #equal 1. The intention of the original formula was that a passer rating of 67 would be average.\n",
    "        #The actual average values these days are closer to 90. \n",
    "        \n",
    "        a = ((completions/attempts) - .3) * 5\n",
    "        b = ((yards/attempts) - 3) * .25\n",
    "        c = (touchdowns/attempts) * 20\n",
    "        d = 2.375 - ((ints/attempts) * 25)\n",
    "        \n",
    "        a = prHelper(a)\n",
    "        b = prHelper(b)\n",
    "        c = prHelper(c)\n",
    "        d = prHelper(d)\n",
    "             \n",
    "        pr = ((a+b+c+d)/6) * 100\n",
    "        \n",
    "        #NOTE ##########\n",
    "        #We could perform the rounding in prHelper() as well if it brings these ratings in line with their\n",
    "        #known values\n",
    "        pr = round(pr, 1)\n",
    "             \n",
    "        passerRating.append(pr)\n",
    "             \n",
    "    return passerRating\n",
    "        "
   ]
  },
  {
   "cell_type": "code",
   "execution_count": 13,
   "id": "3c07f231",
   "metadata": {},
   "outputs": [],
   "source": [
    "#Now that the function is built we can create a list to store the values, then we will declare that list as a column\n",
    "prList = calculatePasserRating(dfPR)\n",
    "dfPR[\"passer_rating\"] = prList"
   ]
  },
  {
   "cell_type": "code",
   "execution_count": 14,
   "id": "2289987c",
   "metadata": {},
   "outputs": [
    {
     "data": {
      "text/html": [
       "<div>\n",
       "<style scoped>\n",
       "    .dataframe tbody tr th:only-of-type {\n",
       "        vertical-align: middle;\n",
       "    }\n",
       "\n",
       "    .dataframe tbody tr th {\n",
       "        vertical-align: top;\n",
       "    }\n",
       "\n",
       "    .dataframe thead th {\n",
       "        text-align: right;\n",
       "    }\n",
       "</style>\n",
       "<table border=\"1\" class=\"dataframe\">\n",
       "  <thead>\n",
       "    <tr style=\"text-align: right;\">\n",
       "      <th></th>\n",
       "      <th>player_name</th>\n",
       "      <th>team_abbr</th>\n",
       "      <th>team_color</th>\n",
       "      <th>week</th>\n",
       "      <th>defteam</th>\n",
       "      <th>passing_yards</th>\n",
       "      <th>pass_touchdown</th>\n",
       "      <th>interception</th>\n",
       "      <th>pass_attempt</th>\n",
       "      <th>complete_pass</th>\n",
       "      <th>passer_rating</th>\n",
       "    </tr>\n",
       "  </thead>\n",
       "  <tbody>\n",
       "    <tr>\n",
       "      <th>0</th>\n",
       "      <td>Aaron Rodgers</td>\n",
       "      <td>GB</td>\n",
       "      <td>#203731</td>\n",
       "      <td>1</td>\n",
       "      <td>MIN</td>\n",
       "      <td>195.0</td>\n",
       "      <td>0.0</td>\n",
       "      <td>1.0</td>\n",
       "      <td>38.0</td>\n",
       "      <td>22.0</td>\n",
       "      <td>60.7</td>\n",
       "    </tr>\n",
       "    <tr>\n",
       "      <th>1</th>\n",
       "      <td>Aaron Rodgers</td>\n",
       "      <td>GB</td>\n",
       "      <td>#203731</td>\n",
       "      <td>2</td>\n",
       "      <td>CHI</td>\n",
       "      <td>234.0</td>\n",
       "      <td>2.0</td>\n",
       "      <td>0.0</td>\n",
       "      <td>28.0</td>\n",
       "      <td>19.0</td>\n",
       "      <td>117.3</td>\n",
       "    </tr>\n",
       "    <tr>\n",
       "      <th>2</th>\n",
       "      <td>Aaron Rodgers</td>\n",
       "      <td>GB</td>\n",
       "      <td>#203731</td>\n",
       "      <td>3</td>\n",
       "      <td>TB</td>\n",
       "      <td>255.0</td>\n",
       "      <td>2.0</td>\n",
       "      <td>1.0</td>\n",
       "      <td>36.0</td>\n",
       "      <td>27.0</td>\n",
       "      <td>101.0</td>\n",
       "    </tr>\n",
       "    <tr>\n",
       "      <th>3</th>\n",
       "      <td>Aaron Rodgers</td>\n",
       "      <td>GB</td>\n",
       "      <td>#203731</td>\n",
       "      <td>4</td>\n",
       "      <td>NE</td>\n",
       "      <td>251.0</td>\n",
       "      <td>2.0</td>\n",
       "      <td>1.0</td>\n",
       "      <td>36.0</td>\n",
       "      <td>21.0</td>\n",
       "      <td>86.7</td>\n",
       "    </tr>\n",
       "    <tr>\n",
       "      <th>4</th>\n",
       "      <td>Aaron Rodgers</td>\n",
       "      <td>GB</td>\n",
       "      <td>#203731</td>\n",
       "      <td>5</td>\n",
       "      <td>NYG</td>\n",
       "      <td>222.0</td>\n",
       "      <td>2.0</td>\n",
       "      <td>0.0</td>\n",
       "      <td>41.0</td>\n",
       "      <td>25.0</td>\n",
       "      <td>91.7</td>\n",
       "    </tr>\n",
       "    <tr>\n",
       "      <th>...</th>\n",
       "      <td>...</td>\n",
       "      <td>...</td>\n",
       "      <td>...</td>\n",
       "      <td>...</td>\n",
       "      <td>...</td>\n",
       "      <td>...</td>\n",
       "      <td>...</td>\n",
       "      <td>...</td>\n",
       "      <td>...</td>\n",
       "      <td>...</td>\n",
       "      <td>...</td>\n",
       "    </tr>\n",
       "    <tr>\n",
       "      <th>657</th>\n",
       "      <td>Zach Wilson</td>\n",
       "      <td>NYJ</td>\n",
       "      <td>#003F2D</td>\n",
       "      <td>8</td>\n",
       "      <td>NE</td>\n",
       "      <td>355.0</td>\n",
       "      <td>2.0</td>\n",
       "      <td>3.0</td>\n",
       "      <td>43.0</td>\n",
       "      <td>20.0</td>\n",
       "      <td>61.7</td>\n",
       "    </tr>\n",
       "    <tr>\n",
       "      <th>658</th>\n",
       "      <td>Zach Wilson</td>\n",
       "      <td>NYJ</td>\n",
       "      <td>#003F2D</td>\n",
       "      <td>9</td>\n",
       "      <td>BUF</td>\n",
       "      <td>154.0</td>\n",
       "      <td>1.0</td>\n",
       "      <td>0.0</td>\n",
       "      <td>27.0</td>\n",
       "      <td>18.0</td>\n",
       "      <td>93.8</td>\n",
       "    </tr>\n",
       "    <tr>\n",
       "      <th>659</th>\n",
       "      <td>Zach Wilson</td>\n",
       "      <td>NYJ</td>\n",
       "      <td>#003F2D</td>\n",
       "      <td>11</td>\n",
       "      <td>NE</td>\n",
       "      <td>77.0</td>\n",
       "      <td>0.0</td>\n",
       "      <td>0.0</td>\n",
       "      <td>26.0</td>\n",
       "      <td>9.0</td>\n",
       "      <td>43.4</td>\n",
       "    </tr>\n",
       "    <tr>\n",
       "      <th>660</th>\n",
       "      <td>Zach Wilson</td>\n",
       "      <td>NYJ</td>\n",
       "      <td>#003F2D</td>\n",
       "      <td>15</td>\n",
       "      <td>DET</td>\n",
       "      <td>317.0</td>\n",
       "      <td>2.0</td>\n",
       "      <td>1.0</td>\n",
       "      <td>39.0</td>\n",
       "      <td>18.0</td>\n",
       "      <td>80.8</td>\n",
       "    </tr>\n",
       "    <tr>\n",
       "      <th>661</th>\n",
       "      <td>Zach Wilson</td>\n",
       "      <td>NYJ</td>\n",
       "      <td>#003F2D</td>\n",
       "      <td>16</td>\n",
       "      <td>JAX</td>\n",
       "      <td>92.0</td>\n",
       "      <td>0.0</td>\n",
       "      <td>1.0</td>\n",
       "      <td>21.0</td>\n",
       "      <td>9.0</td>\n",
       "      <td>36.2</td>\n",
       "    </tr>\n",
       "  </tbody>\n",
       "</table>\n",
       "<p>662 rows × 11 columns</p>\n",
       "</div>"
      ],
      "text/plain": [
       "       player_name team_abbr team_color  week defteam  passing_yards  \\\n",
       "0    Aaron Rodgers        GB    #203731     1     MIN          195.0   \n",
       "1    Aaron Rodgers        GB    #203731     2     CHI          234.0   \n",
       "2    Aaron Rodgers        GB    #203731     3      TB          255.0   \n",
       "3    Aaron Rodgers        GB    #203731     4      NE          251.0   \n",
       "4    Aaron Rodgers        GB    #203731     5     NYG          222.0   \n",
       "..             ...       ...        ...   ...     ...            ...   \n",
       "657    Zach Wilson       NYJ    #003F2D     8      NE          355.0   \n",
       "658    Zach Wilson       NYJ    #003F2D     9     BUF          154.0   \n",
       "659    Zach Wilson       NYJ    #003F2D    11      NE           77.0   \n",
       "660    Zach Wilson       NYJ    #003F2D    15     DET          317.0   \n",
       "661    Zach Wilson       NYJ    #003F2D    16     JAX           92.0   \n",
       "\n",
       "     pass_touchdown  interception  pass_attempt  complete_pass  passer_rating  \n",
       "0               0.0           1.0          38.0           22.0           60.7  \n",
       "1               2.0           0.0          28.0           19.0          117.3  \n",
       "2               2.0           1.0          36.0           27.0          101.0  \n",
       "3               2.0           1.0          36.0           21.0           86.7  \n",
       "4               2.0           0.0          41.0           25.0           91.7  \n",
       "..              ...           ...           ...            ...            ...  \n",
       "657             2.0           3.0          43.0           20.0           61.7  \n",
       "658             1.0           0.0          27.0           18.0           93.8  \n",
       "659             0.0           0.0          26.0            9.0           43.4  \n",
       "660             2.0           1.0          39.0           18.0           80.8  \n",
       "661             0.0           1.0          21.0            9.0           36.2  \n",
       "\n",
       "[662 rows x 11 columns]"
      ]
     },
     "execution_count": 14,
     "metadata": {},
     "output_type": "execute_result"
    }
   ],
   "source": [
    "dfPR"
   ]
  },
  {
   "cell_type": "code",
   "execution_count": 15,
   "id": "b391c6c5",
   "metadata": {},
   "outputs": [],
   "source": [
    "#Glorious calculations! We can feel confident in our numbers because Zach Wilson is terrible\n",
    "#and our data reflects this.\n",
    "\n",
    "#Our next steps are \n",
    "#(ONE) Modify the dataframe such that there is one QB per team per week (based on highest passing yards)\n",
    "#(TWO) Add a column for the passer rating differential (this QB minus opponent QB)\n",
    "\n",
    "#There should be 272 games in the regular season. \n",
    "#32 teams * 17 games = 544. Obviously teams play against each other, so is 272 games\n",
    "#We're looking for 1 passer per team per game per week, so the final amount of elements should be 544"
   ]
  },
  {
   "cell_type": "code",
   "execution_count": 16,
   "id": "d088e469",
   "metadata": {},
   "outputs": [],
   "source": [
    "#NOTE: This function currently only works on sorted input, by team and week ascending, passing yards descending\n",
    "#IDEA: Later iterations should allow for unsorted incoming data, and sort the data as needed\n",
    "\n",
    "\n",
    "#COMMENTARY:\n",
    "#The logic for this function is as follows\n",
    "#For every entry (QB)\n",
    "#    If the \"last QB\"'s name is different, but the team and the week are the same\n",
    "#        If this QB has less passing yards than the \"last QB\", drop this entry\n",
    "#    Else, update the values for \"last QB\"\n",
    "def weeklyPassingLeadersOnly(df):\n",
    "    lastWeek = 0\n",
    "    lastQB = \"Nobody\"\n",
    "    lastTeam = \"Nobodies\"\n",
    "    lastYards = 0\n",
    "    \n",
    "    for index, qb in df.iterrows():\n",
    "        thisWeek = qb[\"week\"]\n",
    "        thisQB   = qb[\"player_name\"]\n",
    "        thisTeam = qb[\"team_abbr\"]\n",
    "        currYards= qb[\"passing_yards\"]\n",
    "        \n",
    "        if((thisQB!=lastQB) and (thisTeam==lastTeam) and (thisWeek==lastWeek) ):\n",
    "            if(currYards < lastYards):\n",
    "                df.drop(index, inplace=True)\n",
    "        else:\n",
    "            lastWeek = thisWeek\n",
    "            lastQB   = thisQB\n",
    "            lastTeam = thisTeam\n",
    "            lastYards= currYards             \n",
    "    return df"
   ]
  },
  {
   "cell_type": "code",
   "execution_count": 17,
   "id": "b0ac93b8",
   "metadata": {},
   "outputs": [
    {
     "data": {
      "text/html": [
       "<div>\n",
       "<style scoped>\n",
       "    .dataframe tbody tr th:only-of-type {\n",
       "        vertical-align: middle;\n",
       "    }\n",
       "\n",
       "    .dataframe tbody tr th {\n",
       "        vertical-align: top;\n",
       "    }\n",
       "\n",
       "    .dataframe thead th {\n",
       "        text-align: right;\n",
       "    }\n",
       "</style>\n",
       "<table border=\"1\" class=\"dataframe\">\n",
       "  <thead>\n",
       "    <tr style=\"text-align: right;\">\n",
       "      <th></th>\n",
       "      <th>player_name</th>\n",
       "      <th>team_abbr</th>\n",
       "      <th>team_color</th>\n",
       "      <th>week</th>\n",
       "      <th>defteam</th>\n",
       "      <th>passing_yards</th>\n",
       "      <th>pass_touchdown</th>\n",
       "      <th>interception</th>\n",
       "      <th>pass_attempt</th>\n",
       "      <th>complete_pass</th>\n",
       "      <th>passer_rating</th>\n",
       "    </tr>\n",
       "  </thead>\n",
       "  <tbody>\n",
       "    <tr>\n",
       "      <th>385</th>\n",
       "      <td>Kyler Murray</td>\n",
       "      <td>ARI</td>\n",
       "      <td>#97233F</td>\n",
       "      <td>1</td>\n",
       "      <td>KC</td>\n",
       "      <td>193.0</td>\n",
       "      <td>2.0</td>\n",
       "      <td>0.0</td>\n",
       "      <td>36.0</td>\n",
       "      <td>22.0</td>\n",
       "      <td>93.9</td>\n",
       "    </tr>\n",
       "    <tr>\n",
       "      <th>386</th>\n",
       "      <td>Kyler Murray</td>\n",
       "      <td>ARI</td>\n",
       "      <td>#97233F</td>\n",
       "      <td>2</td>\n",
       "      <td>LV</td>\n",
       "      <td>277.0</td>\n",
       "      <td>1.0</td>\n",
       "      <td>1.0</td>\n",
       "      <td>50.0</td>\n",
       "      <td>31.0</td>\n",
       "      <td>75.2</td>\n",
       "    </tr>\n",
       "    <tr>\n",
       "      <th>387</th>\n",
       "      <td>Kyler Murray</td>\n",
       "      <td>ARI</td>\n",
       "      <td>#97233F</td>\n",
       "      <td>3</td>\n",
       "      <td>LA</td>\n",
       "      <td>314.0</td>\n",
       "      <td>0.0</td>\n",
       "      <td>0.0</td>\n",
       "      <td>60.0</td>\n",
       "      <td>37.0</td>\n",
       "      <td>75.3</td>\n",
       "    </tr>\n",
       "    <tr>\n",
       "      <th>388</th>\n",
       "      <td>Kyler Murray</td>\n",
       "      <td>ARI</td>\n",
       "      <td>#97233F</td>\n",
       "      <td>4</td>\n",
       "      <td>CAR</td>\n",
       "      <td>207.0</td>\n",
       "      <td>2.0</td>\n",
       "      <td>1.0</td>\n",
       "      <td>33.0</td>\n",
       "      <td>23.0</td>\n",
       "      <td>93.9</td>\n",
       "    </tr>\n",
       "    <tr>\n",
       "      <th>389</th>\n",
       "      <td>Kyler Murray</td>\n",
       "      <td>ARI</td>\n",
       "      <td>#97233F</td>\n",
       "      <td>5</td>\n",
       "      <td>PHI</td>\n",
       "      <td>250.0</td>\n",
       "      <td>1.0</td>\n",
       "      <td>1.0</td>\n",
       "      <td>41.0</td>\n",
       "      <td>28.0</td>\n",
       "      <td>82.4</td>\n",
       "    </tr>\n",
       "    <tr>\n",
       "      <th>...</th>\n",
       "      <td>...</td>\n",
       "      <td>...</td>\n",
       "      <td>...</td>\n",
       "      <td>...</td>\n",
       "      <td>...</td>\n",
       "      <td>...</td>\n",
       "      <td>...</td>\n",
       "      <td>...</td>\n",
       "      <td>...</td>\n",
       "      <td>...</td>\n",
       "      <td>...</td>\n",
       "    </tr>\n",
       "    <tr>\n",
       "      <th>567</th>\n",
       "      <td>Taylor Heinicke</td>\n",
       "      <td>WAS</td>\n",
       "      <td>#5A1414</td>\n",
       "      <td>13</td>\n",
       "      <td>NYG</td>\n",
       "      <td>275.0</td>\n",
       "      <td>2.0</td>\n",
       "      <td>0.0</td>\n",
       "      <td>46.0</td>\n",
       "      <td>27.0</td>\n",
       "      <td>90.4</td>\n",
       "    </tr>\n",
       "    <tr>\n",
       "      <th>568</th>\n",
       "      <td>Taylor Heinicke</td>\n",
       "      <td>WAS</td>\n",
       "      <td>#5A1414</td>\n",
       "      <td>15</td>\n",
       "      <td>NYG</td>\n",
       "      <td>249.0</td>\n",
       "      <td>1.0</td>\n",
       "      <td>0.0</td>\n",
       "      <td>32.0</td>\n",
       "      <td>17.0</td>\n",
       "      <td>89.2</td>\n",
       "    </tr>\n",
       "    <tr>\n",
       "      <th>569</th>\n",
       "      <td>Taylor Heinicke</td>\n",
       "      <td>WAS</td>\n",
       "      <td>#5A1414</td>\n",
       "      <td>16</td>\n",
       "      <td>SF</td>\n",
       "      <td>166.0</td>\n",
       "      <td>2.0</td>\n",
       "      <td>1.0</td>\n",
       "      <td>20.0</td>\n",
       "      <td>13.0</td>\n",
       "      <td>103.3</td>\n",
       "    </tr>\n",
       "    <tr>\n",
       "      <th>80</th>\n",
       "      <td>Carson Wentz</td>\n",
       "      <td>WAS</td>\n",
       "      <td>#5A1414</td>\n",
       "      <td>17</td>\n",
       "      <td>CLE</td>\n",
       "      <td>143.0</td>\n",
       "      <td>0.0</td>\n",
       "      <td>3.0</td>\n",
       "      <td>31.0</td>\n",
       "      <td>16.0</td>\n",
       "      <td>24.7</td>\n",
       "    </tr>\n",
       "    <tr>\n",
       "      <th>553</th>\n",
       "      <td>Sam Howell</td>\n",
       "      <td>WAS</td>\n",
       "      <td>#5A1414</td>\n",
       "      <td>18</td>\n",
       "      <td>DAL</td>\n",
       "      <td>169.0</td>\n",
       "      <td>1.0</td>\n",
       "      <td>1.0</td>\n",
       "      <td>22.0</td>\n",
       "      <td>11.0</td>\n",
       "      <td>72.0</td>\n",
       "    </tr>\n",
       "  </tbody>\n",
       "</table>\n",
       "<p>542 rows × 11 columns</p>\n",
       "</div>"
      ],
      "text/plain": [
       "         player_name team_abbr team_color  week defteam  passing_yards  \\\n",
       "385     Kyler Murray       ARI    #97233F     1      KC          193.0   \n",
       "386     Kyler Murray       ARI    #97233F     2      LV          277.0   \n",
       "387     Kyler Murray       ARI    #97233F     3      LA          314.0   \n",
       "388     Kyler Murray       ARI    #97233F     4     CAR          207.0   \n",
       "389     Kyler Murray       ARI    #97233F     5     PHI          250.0   \n",
       "..               ...       ...        ...   ...     ...            ...   \n",
       "567  Taylor Heinicke       WAS    #5A1414    13     NYG          275.0   \n",
       "568  Taylor Heinicke       WAS    #5A1414    15     NYG          249.0   \n",
       "569  Taylor Heinicke       WAS    #5A1414    16      SF          166.0   \n",
       "80      Carson Wentz       WAS    #5A1414    17     CLE          143.0   \n",
       "553       Sam Howell       WAS    #5A1414    18     DAL          169.0   \n",
       "\n",
       "     pass_touchdown  interception  pass_attempt  complete_pass  passer_rating  \n",
       "385             2.0           0.0          36.0           22.0           93.9  \n",
       "386             1.0           1.0          50.0           31.0           75.2  \n",
       "387             0.0           0.0          60.0           37.0           75.3  \n",
       "388             2.0           1.0          33.0           23.0           93.9  \n",
       "389             1.0           1.0          41.0           28.0           82.4  \n",
       "..              ...           ...           ...            ...            ...  \n",
       "567             2.0           0.0          46.0           27.0           90.4  \n",
       "568             1.0           0.0          32.0           17.0           89.2  \n",
       "569             2.0           1.0          20.0           13.0          103.3  \n",
       "80              0.0           3.0          31.0           16.0           24.7  \n",
       "553             1.0           1.0          22.0           11.0           72.0  \n",
       "\n",
       "[542 rows x 11 columns]"
      ]
     },
     "execution_count": 17,
     "metadata": {},
     "output_type": "execute_result"
    }
   ],
   "source": [
    "dfPRSorted = dfPR.sort_values([\"team_abbr\", \"week\", \"passing_yards\"], ascending = [True, True, False])\n",
    "dfPRFiltered = weeklyPassingLeadersOnly(dfPRSorted)\n",
    "dfPRFiltered"
   ]
  },
  {
   "cell_type": "code",
   "execution_count": 18,
   "id": "62ac4f18",
   "metadata": {},
   "outputs": [],
   "source": [
    "#NOTE:\n",
    "#We actually end up with 542 entries. With 32 teams playing 17 games in the regular season, we should end up\n",
    "#with 544. After some thought, and a brief check of the data, one game is absent, resulting in 542 elements\n",
    "#in the data set. This is because one game was cancelled after a player had a heart attack on the field. \n",
    "\n",
    "#COMMENTARY:\n",
    "#We have one qb per team per week. \n",
    "#We now need to include the opposing team's QB's passer rating from that week"
   ]
  },
  {
   "cell_type": "code",
   "execution_count": 19,
   "id": "6a329268",
   "metadata": {},
   "outputs": [],
   "source": [
    "#COMMENTARY:\n",
    "#The idea for this function is to generate a list with the same length as the primary dataframe, that is\n",
    "#composed of the opposition's passer rating from each week from each game\n",
    "\n",
    "#NOTE:\n",
    "#The logic of this function is as follows\n",
    "#For every element (QB)\n",
    "#    For every element (QB)\n",
    "#         If inner QB's team is equal to the team outer QB played against during the same week\n",
    "#              Append outer QB's passer rating to a list and break to outer loop\n",
    "\n",
    "#TODO:\n",
    "#Figure out a way to do this that isn't O(n^2)\n",
    "\n",
    "def addDefPR(df):\n",
    "    \n",
    "    otherTeamPasserRating = []\n",
    "    \n",
    "    \n",
    "    for index, qb in df.iterrows():\n",
    "        thisWeek = qb[\"week\"]\n",
    "        thisTeam = qb[\"team_abbr\"]\n",
    "        thisDef  = qb[\"defteam\"]\n",
    "        otherPR  = 0.0\n",
    "        \n",
    "        for index2, qb2 in df.iterrows():\n",
    "            currWeek = qb2[\"week\"]\n",
    "            currTeam = qb2[\"team_abbr\"]\n",
    "            \n",
    "            if(currTeam == thisDef and currWeek == thisWeek):\n",
    "                otherPR = qb2[\"passer_rating\"]\n",
    "                otherTeamPasserRating.append(otherPR)\n",
    "                break\n",
    "                       \n",
    "    return otherTeamPasserRating"
   ]
  },
  {
   "cell_type": "code",
   "execution_count": 20,
   "id": "21079c31",
   "metadata": {},
   "outputs": [],
   "source": [
    "otherPRList = addDefPR(dfPRFiltered)\n",
    "dfPRFiltered[\"other_team_pr\"] = otherPRList"
   ]
  },
  {
   "cell_type": "code",
   "execution_count": 21,
   "id": "4360258d",
   "metadata": {},
   "outputs": [],
   "source": [
    "#COMMENTARY:\n",
    "#Now that we have one QB per team per week, their passer rating, and their opponent's passer rating, we can\n",
    "#establish the passer rating differential."
   ]
  },
  {
   "cell_type": "code",
   "execution_count": 22,
   "id": "d99b8dcc",
   "metadata": {},
   "outputs": [],
   "source": [
    "#NOTE:\n",
    "#The logic of this function is as follows:\n",
    "#For every element (QB), subtract the opposing QB's passer rating from this passer rating, and append that value\n",
    "#to a list\n",
    "#Then update the dataframe to include the passer rating differential attribute\n",
    "def addPasserDifferential(df):\n",
    "    passerDifferential = []\n",
    "    for index, qb in df.iterrows():\n",
    "        thisPR = qb[\"passer_rating\"]\n",
    "        thatPR = qb[\"other_team_pr\"]\n",
    "        diff = thisPR - thatPR\n",
    "        passerDifferential.append(diff)\n",
    "    \n",
    "    df[\"differential\"] = passerDifferential\n",
    "    \n",
    "    return df\n",
    "        "
   ]
  },
  {
   "cell_type": "code",
   "execution_count": 23,
   "id": "5672b6c4",
   "metadata": {},
   "outputs": [
    {
     "data": {
      "text/html": [
       "<div>\n",
       "<style scoped>\n",
       "    .dataframe tbody tr th:only-of-type {\n",
       "        vertical-align: middle;\n",
       "    }\n",
       "\n",
       "    .dataframe tbody tr th {\n",
       "        vertical-align: top;\n",
       "    }\n",
       "\n",
       "    .dataframe thead th {\n",
       "        text-align: right;\n",
       "    }\n",
       "</style>\n",
       "<table border=\"1\" class=\"dataframe\">\n",
       "  <thead>\n",
       "    <tr style=\"text-align: right;\">\n",
       "      <th></th>\n",
       "      <th>player_name</th>\n",
       "      <th>team_abbr</th>\n",
       "      <th>team_color</th>\n",
       "      <th>week</th>\n",
       "      <th>defteam</th>\n",
       "      <th>passing_yards</th>\n",
       "      <th>pass_touchdown</th>\n",
       "      <th>interception</th>\n",
       "      <th>pass_attempt</th>\n",
       "      <th>complete_pass</th>\n",
       "      <th>passer_rating</th>\n",
       "      <th>other_team_pr</th>\n",
       "      <th>differential</th>\n",
       "    </tr>\n",
       "  </thead>\n",
       "  <tbody>\n",
       "    <tr>\n",
       "      <th>385</th>\n",
       "      <td>Kyler Murray</td>\n",
       "      <td>ARI</td>\n",
       "      <td>#97233F</td>\n",
       "      <td>1</td>\n",
       "      <td>KC</td>\n",
       "      <td>193.0</td>\n",
       "      <td>2.0</td>\n",
       "      <td>0.0</td>\n",
       "      <td>36.0</td>\n",
       "      <td>22.0</td>\n",
       "      <td>93.9</td>\n",
       "      <td>144.2</td>\n",
       "      <td>-50.3</td>\n",
       "    </tr>\n",
       "    <tr>\n",
       "      <th>386</th>\n",
       "      <td>Kyler Murray</td>\n",
       "      <td>ARI</td>\n",
       "      <td>#97233F</td>\n",
       "      <td>2</td>\n",
       "      <td>LV</td>\n",
       "      <td>277.0</td>\n",
       "      <td>1.0</td>\n",
       "      <td>1.0</td>\n",
       "      <td>50.0</td>\n",
       "      <td>31.0</td>\n",
       "      <td>75.2</td>\n",
       "      <td>97.1</td>\n",
       "      <td>-21.9</td>\n",
       "    </tr>\n",
       "    <tr>\n",
       "      <th>387</th>\n",
       "      <td>Kyler Murray</td>\n",
       "      <td>ARI</td>\n",
       "      <td>#97233F</td>\n",
       "      <td>3</td>\n",
       "      <td>LA</td>\n",
       "      <td>314.0</td>\n",
       "      <td>0.0</td>\n",
       "      <td>0.0</td>\n",
       "      <td>60.0</td>\n",
       "      <td>37.0</td>\n",
       "      <td>75.3</td>\n",
       "      <td>99.7</td>\n",
       "      <td>-24.4</td>\n",
       "    </tr>\n",
       "    <tr>\n",
       "      <th>388</th>\n",
       "      <td>Kyler Murray</td>\n",
       "      <td>ARI</td>\n",
       "      <td>#97233F</td>\n",
       "      <td>4</td>\n",
       "      <td>CAR</td>\n",
       "      <td>207.0</td>\n",
       "      <td>2.0</td>\n",
       "      <td>1.0</td>\n",
       "      <td>33.0</td>\n",
       "      <td>23.0</td>\n",
       "      <td>93.9</td>\n",
       "      <td>58.8</td>\n",
       "      <td>35.1</td>\n",
       "    </tr>\n",
       "    <tr>\n",
       "      <th>389</th>\n",
       "      <td>Kyler Murray</td>\n",
       "      <td>ARI</td>\n",
       "      <td>#97233F</td>\n",
       "      <td>5</td>\n",
       "      <td>PHI</td>\n",
       "      <td>250.0</td>\n",
       "      <td>1.0</td>\n",
       "      <td>1.0</td>\n",
       "      <td>41.0</td>\n",
       "      <td>28.0</td>\n",
       "      <td>82.4</td>\n",
       "      <td>85.3</td>\n",
       "      <td>-2.9</td>\n",
       "    </tr>\n",
       "    <tr>\n",
       "      <th>...</th>\n",
       "      <td>...</td>\n",
       "      <td>...</td>\n",
       "      <td>...</td>\n",
       "      <td>...</td>\n",
       "      <td>...</td>\n",
       "      <td>...</td>\n",
       "      <td>...</td>\n",
       "      <td>...</td>\n",
       "      <td>...</td>\n",
       "      <td>...</td>\n",
       "      <td>...</td>\n",
       "      <td>...</td>\n",
       "      <td>...</td>\n",
       "    </tr>\n",
       "    <tr>\n",
       "      <th>567</th>\n",
       "      <td>Taylor Heinicke</td>\n",
       "      <td>WAS</td>\n",
       "      <td>#5A1414</td>\n",
       "      <td>13</td>\n",
       "      <td>NYG</td>\n",
       "      <td>275.0</td>\n",
       "      <td>2.0</td>\n",
       "      <td>0.0</td>\n",
       "      <td>46.0</td>\n",
       "      <td>27.0</td>\n",
       "      <td>90.4</td>\n",
       "      <td>100.6</td>\n",
       "      <td>-10.2</td>\n",
       "    </tr>\n",
       "    <tr>\n",
       "      <th>568</th>\n",
       "      <td>Taylor Heinicke</td>\n",
       "      <td>WAS</td>\n",
       "      <td>#5A1414</td>\n",
       "      <td>15</td>\n",
       "      <td>NYG</td>\n",
       "      <td>249.0</td>\n",
       "      <td>1.0</td>\n",
       "      <td>0.0</td>\n",
       "      <td>32.0</td>\n",
       "      <td>17.0</td>\n",
       "      <td>89.2</td>\n",
       "      <td>77.6</td>\n",
       "      <td>11.6</td>\n",
       "    </tr>\n",
       "    <tr>\n",
       "      <th>569</th>\n",
       "      <td>Taylor Heinicke</td>\n",
       "      <td>WAS</td>\n",
       "      <td>#5A1414</td>\n",
       "      <td>16</td>\n",
       "      <td>SF</td>\n",
       "      <td>166.0</td>\n",
       "      <td>2.0</td>\n",
       "      <td>1.0</td>\n",
       "      <td>20.0</td>\n",
       "      <td>13.0</td>\n",
       "      <td>103.3</td>\n",
       "      <td>101.1</td>\n",
       "      <td>2.2</td>\n",
       "    </tr>\n",
       "    <tr>\n",
       "      <th>80</th>\n",
       "      <td>Carson Wentz</td>\n",
       "      <td>WAS</td>\n",
       "      <td>#5A1414</td>\n",
       "      <td>17</td>\n",
       "      <td>CLE</td>\n",
       "      <td>143.0</td>\n",
       "      <td>0.0</td>\n",
       "      <td>3.0</td>\n",
       "      <td>31.0</td>\n",
       "      <td>16.0</td>\n",
       "      <td>24.7</td>\n",
       "      <td>104.9</td>\n",
       "      <td>-80.2</td>\n",
       "    </tr>\n",
       "    <tr>\n",
       "      <th>553</th>\n",
       "      <td>Sam Howell</td>\n",
       "      <td>WAS</td>\n",
       "      <td>#5A1414</td>\n",
       "      <td>18</td>\n",
       "      <td>DAL</td>\n",
       "      <td>169.0</td>\n",
       "      <td>1.0</td>\n",
       "      <td>1.0</td>\n",
       "      <td>22.0</td>\n",
       "      <td>11.0</td>\n",
       "      <td>72.0</td>\n",
       "      <td>44.6</td>\n",
       "      <td>27.4</td>\n",
       "    </tr>\n",
       "  </tbody>\n",
       "</table>\n",
       "<p>542 rows × 13 columns</p>\n",
       "</div>"
      ],
      "text/plain": [
       "         player_name team_abbr team_color  week defteam  passing_yards  \\\n",
       "385     Kyler Murray       ARI    #97233F     1      KC          193.0   \n",
       "386     Kyler Murray       ARI    #97233F     2      LV          277.0   \n",
       "387     Kyler Murray       ARI    #97233F     3      LA          314.0   \n",
       "388     Kyler Murray       ARI    #97233F     4     CAR          207.0   \n",
       "389     Kyler Murray       ARI    #97233F     5     PHI          250.0   \n",
       "..               ...       ...        ...   ...     ...            ...   \n",
       "567  Taylor Heinicke       WAS    #5A1414    13     NYG          275.0   \n",
       "568  Taylor Heinicke       WAS    #5A1414    15     NYG          249.0   \n",
       "569  Taylor Heinicke       WAS    #5A1414    16      SF          166.0   \n",
       "80      Carson Wentz       WAS    #5A1414    17     CLE          143.0   \n",
       "553       Sam Howell       WAS    #5A1414    18     DAL          169.0   \n",
       "\n",
       "     pass_touchdown  interception  pass_attempt  complete_pass  passer_rating  \\\n",
       "385             2.0           0.0          36.0           22.0           93.9   \n",
       "386             1.0           1.0          50.0           31.0           75.2   \n",
       "387             0.0           0.0          60.0           37.0           75.3   \n",
       "388             2.0           1.0          33.0           23.0           93.9   \n",
       "389             1.0           1.0          41.0           28.0           82.4   \n",
       "..              ...           ...           ...            ...            ...   \n",
       "567             2.0           0.0          46.0           27.0           90.4   \n",
       "568             1.0           0.0          32.0           17.0           89.2   \n",
       "569             2.0           1.0          20.0           13.0          103.3   \n",
       "80              0.0           3.0          31.0           16.0           24.7   \n",
       "553             1.0           1.0          22.0           11.0           72.0   \n",
       "\n",
       "     other_team_pr  differential  \n",
       "385          144.2         -50.3  \n",
       "386           97.1         -21.9  \n",
       "387           99.7         -24.4  \n",
       "388           58.8          35.1  \n",
       "389           85.3          -2.9  \n",
       "..             ...           ...  \n",
       "567          100.6         -10.2  \n",
       "568           77.6          11.6  \n",
       "569          101.1           2.2  \n",
       "80           104.9         -80.2  \n",
       "553           44.6          27.4  \n",
       "\n",
       "[542 rows x 13 columns]"
      ]
     },
     "execution_count": 23,
     "metadata": {},
     "output_type": "execute_result"
    }
   ],
   "source": [
    "dfPRFiltered = addPasserDifferential(dfPRFiltered)\n",
    "dfPRFiltered"
   ]
  },
  {
   "cell_type": "code",
   "execution_count": 24,
   "id": "bac27902",
   "metadata": {},
   "outputs": [],
   "source": [
    "#COMMENTARY:\n",
    "#We now have the first part of the original plan resolved, that is, one QB per week and the passer rating\n",
    "#differential. For the second part, we need to know the outcome of each game. \n",
    "\n",
    "#I've hand made a file for these purposes with attributes:\n",
    "#Week, Away, Home, AwayScore, HomeScore, and Winner\n",
    "#In the event of a tie, winner is recorded as TIE\n",
    "#We are going to use this information to store the Winner of each game, per QB per week. \n"
   ]
  },
  {
   "cell_type": "code",
   "execution_count": 25,
   "id": "acd220a3",
   "metadata": {},
   "outputs": [],
   "source": [
    "dfGames     = pd.read_csv(\"regularSeasonGameOutcomes2022.csv\")"
   ]
  },
  {
   "cell_type": "code",
   "execution_count": 26,
   "id": "162703d1",
   "metadata": {},
   "outputs": [
    {
     "data": {
      "text/html": [
       "<div>\n",
       "<style scoped>\n",
       "    .dataframe tbody tr th:only-of-type {\n",
       "        vertical-align: middle;\n",
       "    }\n",
       "\n",
       "    .dataframe tbody tr th {\n",
       "        vertical-align: top;\n",
       "    }\n",
       "\n",
       "    .dataframe thead th {\n",
       "        text-align: right;\n",
       "    }\n",
       "</style>\n",
       "<table border=\"1\" class=\"dataframe\">\n",
       "  <thead>\n",
       "    <tr style=\"text-align: right;\">\n",
       "      <th></th>\n",
       "      <th>player_name</th>\n",
       "      <th>team_abbr</th>\n",
       "      <th>team_color</th>\n",
       "      <th>week</th>\n",
       "      <th>defteam</th>\n",
       "      <th>passing_yards</th>\n",
       "      <th>pass_touchdown</th>\n",
       "      <th>interception</th>\n",
       "      <th>pass_attempt</th>\n",
       "      <th>complete_pass</th>\n",
       "      <th>passer_rating</th>\n",
       "      <th>other_team_pr</th>\n",
       "      <th>differential</th>\n",
       "    </tr>\n",
       "  </thead>\n",
       "  <tbody>\n",
       "    <tr>\n",
       "      <th>385</th>\n",
       "      <td>Kyler Murray</td>\n",
       "      <td>ARI</td>\n",
       "      <td>#97233F</td>\n",
       "      <td>1</td>\n",
       "      <td>KC</td>\n",
       "      <td>193.0</td>\n",
       "      <td>2.0</td>\n",
       "      <td>0.0</td>\n",
       "      <td>36.0</td>\n",
       "      <td>22.0</td>\n",
       "      <td>93.9</td>\n",
       "      <td>144.2</td>\n",
       "      <td>-50.3</td>\n",
       "    </tr>\n",
       "    <tr>\n",
       "      <th>386</th>\n",
       "      <td>Kyler Murray</td>\n",
       "      <td>ARI</td>\n",
       "      <td>#97233F</td>\n",
       "      <td>2</td>\n",
       "      <td>LV</td>\n",
       "      <td>277.0</td>\n",
       "      <td>1.0</td>\n",
       "      <td>1.0</td>\n",
       "      <td>50.0</td>\n",
       "      <td>31.0</td>\n",
       "      <td>75.2</td>\n",
       "      <td>97.1</td>\n",
       "      <td>-21.9</td>\n",
       "    </tr>\n",
       "    <tr>\n",
       "      <th>387</th>\n",
       "      <td>Kyler Murray</td>\n",
       "      <td>ARI</td>\n",
       "      <td>#97233F</td>\n",
       "      <td>3</td>\n",
       "      <td>LA</td>\n",
       "      <td>314.0</td>\n",
       "      <td>0.0</td>\n",
       "      <td>0.0</td>\n",
       "      <td>60.0</td>\n",
       "      <td>37.0</td>\n",
       "      <td>75.3</td>\n",
       "      <td>99.7</td>\n",
       "      <td>-24.4</td>\n",
       "    </tr>\n",
       "    <tr>\n",
       "      <th>388</th>\n",
       "      <td>Kyler Murray</td>\n",
       "      <td>ARI</td>\n",
       "      <td>#97233F</td>\n",
       "      <td>4</td>\n",
       "      <td>CAR</td>\n",
       "      <td>207.0</td>\n",
       "      <td>2.0</td>\n",
       "      <td>1.0</td>\n",
       "      <td>33.0</td>\n",
       "      <td>23.0</td>\n",
       "      <td>93.9</td>\n",
       "      <td>58.8</td>\n",
       "      <td>35.1</td>\n",
       "    </tr>\n",
       "    <tr>\n",
       "      <th>389</th>\n",
       "      <td>Kyler Murray</td>\n",
       "      <td>ARI</td>\n",
       "      <td>#97233F</td>\n",
       "      <td>5</td>\n",
       "      <td>PHI</td>\n",
       "      <td>250.0</td>\n",
       "      <td>1.0</td>\n",
       "      <td>1.0</td>\n",
       "      <td>41.0</td>\n",
       "      <td>28.0</td>\n",
       "      <td>82.4</td>\n",
       "      <td>85.3</td>\n",
       "      <td>-2.9</td>\n",
       "    </tr>\n",
       "    <tr>\n",
       "      <th>...</th>\n",
       "      <td>...</td>\n",
       "      <td>...</td>\n",
       "      <td>...</td>\n",
       "      <td>...</td>\n",
       "      <td>...</td>\n",
       "      <td>...</td>\n",
       "      <td>...</td>\n",
       "      <td>...</td>\n",
       "      <td>...</td>\n",
       "      <td>...</td>\n",
       "      <td>...</td>\n",
       "      <td>...</td>\n",
       "      <td>...</td>\n",
       "    </tr>\n",
       "    <tr>\n",
       "      <th>567</th>\n",
       "      <td>Taylor Heinicke</td>\n",
       "      <td>WAS</td>\n",
       "      <td>#5A1414</td>\n",
       "      <td>13</td>\n",
       "      <td>NYG</td>\n",
       "      <td>275.0</td>\n",
       "      <td>2.0</td>\n",
       "      <td>0.0</td>\n",
       "      <td>46.0</td>\n",
       "      <td>27.0</td>\n",
       "      <td>90.4</td>\n",
       "      <td>100.6</td>\n",
       "      <td>-10.2</td>\n",
       "    </tr>\n",
       "    <tr>\n",
       "      <th>568</th>\n",
       "      <td>Taylor Heinicke</td>\n",
       "      <td>WAS</td>\n",
       "      <td>#5A1414</td>\n",
       "      <td>15</td>\n",
       "      <td>NYG</td>\n",
       "      <td>249.0</td>\n",
       "      <td>1.0</td>\n",
       "      <td>0.0</td>\n",
       "      <td>32.0</td>\n",
       "      <td>17.0</td>\n",
       "      <td>89.2</td>\n",
       "      <td>77.6</td>\n",
       "      <td>11.6</td>\n",
       "    </tr>\n",
       "    <tr>\n",
       "      <th>569</th>\n",
       "      <td>Taylor Heinicke</td>\n",
       "      <td>WAS</td>\n",
       "      <td>#5A1414</td>\n",
       "      <td>16</td>\n",
       "      <td>SF</td>\n",
       "      <td>166.0</td>\n",
       "      <td>2.0</td>\n",
       "      <td>1.0</td>\n",
       "      <td>20.0</td>\n",
       "      <td>13.0</td>\n",
       "      <td>103.3</td>\n",
       "      <td>101.1</td>\n",
       "      <td>2.2</td>\n",
       "    </tr>\n",
       "    <tr>\n",
       "      <th>80</th>\n",
       "      <td>Carson Wentz</td>\n",
       "      <td>WAS</td>\n",
       "      <td>#5A1414</td>\n",
       "      <td>17</td>\n",
       "      <td>CLE</td>\n",
       "      <td>143.0</td>\n",
       "      <td>0.0</td>\n",
       "      <td>3.0</td>\n",
       "      <td>31.0</td>\n",
       "      <td>16.0</td>\n",
       "      <td>24.7</td>\n",
       "      <td>104.9</td>\n",
       "      <td>-80.2</td>\n",
       "    </tr>\n",
       "    <tr>\n",
       "      <th>553</th>\n",
       "      <td>Sam Howell</td>\n",
       "      <td>WAS</td>\n",
       "      <td>#5A1414</td>\n",
       "      <td>18</td>\n",
       "      <td>DAL</td>\n",
       "      <td>169.0</td>\n",
       "      <td>1.0</td>\n",
       "      <td>1.0</td>\n",
       "      <td>22.0</td>\n",
       "      <td>11.0</td>\n",
       "      <td>72.0</td>\n",
       "      <td>44.6</td>\n",
       "      <td>27.4</td>\n",
       "    </tr>\n",
       "  </tbody>\n",
       "</table>\n",
       "<p>542 rows × 13 columns</p>\n",
       "</div>"
      ],
      "text/plain": [
       "         player_name team_abbr team_color  week defteam  passing_yards  \\\n",
       "385     Kyler Murray       ARI    #97233F     1      KC          193.0   \n",
       "386     Kyler Murray       ARI    #97233F     2      LV          277.0   \n",
       "387     Kyler Murray       ARI    #97233F     3      LA          314.0   \n",
       "388     Kyler Murray       ARI    #97233F     4     CAR          207.0   \n",
       "389     Kyler Murray       ARI    #97233F     5     PHI          250.0   \n",
       "..               ...       ...        ...   ...     ...            ...   \n",
       "567  Taylor Heinicke       WAS    #5A1414    13     NYG          275.0   \n",
       "568  Taylor Heinicke       WAS    #5A1414    15     NYG          249.0   \n",
       "569  Taylor Heinicke       WAS    #5A1414    16      SF          166.0   \n",
       "80      Carson Wentz       WAS    #5A1414    17     CLE          143.0   \n",
       "553       Sam Howell       WAS    #5A1414    18     DAL          169.0   \n",
       "\n",
       "     pass_touchdown  interception  pass_attempt  complete_pass  passer_rating  \\\n",
       "385             2.0           0.0          36.0           22.0           93.9   \n",
       "386             1.0           1.0          50.0           31.0           75.2   \n",
       "387             0.0           0.0          60.0           37.0           75.3   \n",
       "388             2.0           1.0          33.0           23.0           93.9   \n",
       "389             1.0           1.0          41.0           28.0           82.4   \n",
       "..              ...           ...           ...            ...            ...   \n",
       "567             2.0           0.0          46.0           27.0           90.4   \n",
       "568             1.0           0.0          32.0           17.0           89.2   \n",
       "569             2.0           1.0          20.0           13.0          103.3   \n",
       "80              0.0           3.0          31.0           16.0           24.7   \n",
       "553             1.0           1.0          22.0           11.0           72.0   \n",
       "\n",
       "     other_team_pr  differential  \n",
       "385          144.2         -50.3  \n",
       "386           97.1         -21.9  \n",
       "387           99.7         -24.4  \n",
       "388           58.8          35.1  \n",
       "389           85.3          -2.9  \n",
       "..             ...           ...  \n",
       "567          100.6         -10.2  \n",
       "568           77.6          11.6  \n",
       "569          101.1           2.2  \n",
       "80           104.9         -80.2  \n",
       "553           44.6          27.4  \n",
       "\n",
       "[542 rows x 13 columns]"
      ]
     },
     "execution_count": 26,
     "metadata": {},
     "output_type": "execute_result"
    }
   ],
   "source": [
    "dfPRFiltered\n",
    "#COMMENTARY:\n",
    "#So we want to join on week = week AND team_abbr = Away OR team_abbr = Home\n",
    "#Conditional joins seem like they'd be a lot easier with SQL, lets try out DuckDB"
   ]
  },
  {
   "cell_type": "code",
   "execution_count": 83,
   "id": "ef6e98a4",
   "metadata": {},
   "outputs": [
    {
     "data": {
      "text/html": [
       "<div>\n",
       "<style scoped>\n",
       "    .dataframe tbody tr th:only-of-type {\n",
       "        vertical-align: middle;\n",
       "    }\n",
       "\n",
       "    .dataframe tbody tr th {\n",
       "        vertical-align: top;\n",
       "    }\n",
       "\n",
       "    .dataframe thead th {\n",
       "        text-align: right;\n",
       "    }\n",
       "</style>\n",
       "<table border=\"1\" class=\"dataframe\">\n",
       "  <thead>\n",
       "    <tr style=\"text-align: right;\">\n",
       "      <th></th>\n",
       "      <th>player_name</th>\n",
       "      <th>team_abbr</th>\n",
       "      <th>team_color</th>\n",
       "      <th>week</th>\n",
       "      <th>defteam</th>\n",
       "      <th>passing_yards</th>\n",
       "      <th>pass_touchdown</th>\n",
       "      <th>interception</th>\n",
       "      <th>pass_attempt</th>\n",
       "      <th>complete_pass</th>\n",
       "      <th>passer_rating</th>\n",
       "      <th>other_team_pr</th>\n",
       "      <th>differential</th>\n",
       "      <th>Week</th>\n",
       "      <th>Away</th>\n",
       "      <th>Home</th>\n",
       "      <th>AwayScore</th>\n",
       "      <th>HomeScore</th>\n",
       "      <th>Winner</th>\n",
       "    </tr>\n",
       "  </thead>\n",
       "  <tbody>\n",
       "    <tr>\n",
       "      <th>0</th>\n",
       "      <td>Lamar Jackson</td>\n",
       "      <td>BAL</td>\n",
       "      <td>#241773</td>\n",
       "      <td>9</td>\n",
       "      <td>NO</td>\n",
       "      <td>133.0</td>\n",
       "      <td>1.0</td>\n",
       "      <td>0.0</td>\n",
       "      <td>25.0</td>\n",
       "      <td>12.0</td>\n",
       "      <td>77.6</td>\n",
       "      <td>74.1</td>\n",
       "      <td>3.5</td>\n",
       "      <td>9</td>\n",
       "      <td>BAL</td>\n",
       "      <td>NO</td>\n",
       "      <td>27</td>\n",
       "      <td>13</td>\n",
       "      <td>BAL</td>\n",
       "    </tr>\n",
       "    <tr>\n",
       "      <th>1</th>\n",
       "      <td>Justin Fields</td>\n",
       "      <td>CHI</td>\n",
       "      <td>#0B162A</td>\n",
       "      <td>7</td>\n",
       "      <td>NE</td>\n",
       "      <td>179.0</td>\n",
       "      <td>1.0</td>\n",
       "      <td>1.0</td>\n",
       "      <td>25.0</td>\n",
       "      <td>13.0</td>\n",
       "      <td>71.9</td>\n",
       "      <td>64.6</td>\n",
       "      <td>7.3</td>\n",
       "      <td>7</td>\n",
       "      <td>CHI</td>\n",
       "      <td>NE</td>\n",
       "      <td>33</td>\n",
       "      <td>14</td>\n",
       "      <td>CHI</td>\n",
       "    </tr>\n",
       "    <tr>\n",
       "      <th>2</th>\n",
       "      <td>Joe Burrow</td>\n",
       "      <td>CIN</td>\n",
       "      <td>#FB4F14</td>\n",
       "      <td>8</td>\n",
       "      <td>CLE</td>\n",
       "      <td>232.0</td>\n",
       "      <td>2.0</td>\n",
       "      <td>1.0</td>\n",
       "      <td>40.0</td>\n",
       "      <td>25.0</td>\n",
       "      <td>84.6</td>\n",
       "      <td>128.5</td>\n",
       "      <td>-43.9</td>\n",
       "      <td>8</td>\n",
       "      <td>CIN</td>\n",
       "      <td>CLE</td>\n",
       "      <td>13</td>\n",
       "      <td>32</td>\n",
       "      <td>CLE</td>\n",
       "    </tr>\n",
       "    <tr>\n",
       "      <th>3</th>\n",
       "      <td>Cooper Rush</td>\n",
       "      <td>DAL</td>\n",
       "      <td>#002244</td>\n",
       "      <td>3</td>\n",
       "      <td>NYG</td>\n",
       "      <td>215.0</td>\n",
       "      <td>1.0</td>\n",
       "      <td>0.0</td>\n",
       "      <td>31.0</td>\n",
       "      <td>21.0</td>\n",
       "      <td>98.2</td>\n",
       "      <td>51.3</td>\n",
       "      <td>46.9</td>\n",
       "      <td>3</td>\n",
       "      <td>DAL</td>\n",
       "      <td>NYG</td>\n",
       "      <td>23</td>\n",
       "      <td>16</td>\n",
       "      <td>DAL</td>\n",
       "    </tr>\n",
       "    <tr>\n",
       "      <th>4</th>\n",
       "      <td>Russell Wilson</td>\n",
       "      <td>DEN</td>\n",
       "      <td>#002244</td>\n",
       "      <td>1</td>\n",
       "      <td>SEA</td>\n",
       "      <td>340.0</td>\n",
       "      <td>1.0</td>\n",
       "      <td>0.0</td>\n",
       "      <td>44.0</td>\n",
       "      <td>29.0</td>\n",
       "      <td>96.8</td>\n",
       "      <td>115.3</td>\n",
       "      <td>-18.5</td>\n",
       "      <td>1</td>\n",
       "      <td>DEN</td>\n",
       "      <td>SEA</td>\n",
       "      <td>16</td>\n",
       "      <td>17</td>\n",
       "      <td>SEA</td>\n",
       "    </tr>\n",
       "    <tr>\n",
       "      <th>...</th>\n",
       "      <td>...</td>\n",
       "      <td>...</td>\n",
       "      <td>...</td>\n",
       "      <td>...</td>\n",
       "      <td>...</td>\n",
       "      <td>...</td>\n",
       "      <td>...</td>\n",
       "      <td>...</td>\n",
       "      <td>...</td>\n",
       "      <td>...</td>\n",
       "      <td>...</td>\n",
       "      <td>...</td>\n",
       "      <td>...</td>\n",
       "      <td>...</td>\n",
       "      <td>...</td>\n",
       "      <td>...</td>\n",
       "      <td>...</td>\n",
       "      <td>...</td>\n",
       "      <td>...</td>\n",
       "    </tr>\n",
       "    <tr>\n",
       "      <th>537</th>\n",
       "      <td>Patrick Mahomes</td>\n",
       "      <td>KC</td>\n",
       "      <td>#E31837</td>\n",
       "      <td>2</td>\n",
       "      <td>LAC</td>\n",
       "      <td>235.0</td>\n",
       "      <td>2.0</td>\n",
       "      <td>0.0</td>\n",
       "      <td>36.0</td>\n",
       "      <td>24.0</td>\n",
       "      <td>103.4</td>\n",
       "      <td>96.6</td>\n",
       "      <td>6.8</td>\n",
       "      <td>2</td>\n",
       "      <td>LAC</td>\n",
       "      <td>KC</td>\n",
       "      <td>24</td>\n",
       "      <td>27</td>\n",
       "      <td>KC</td>\n",
       "    </tr>\n",
       "    <tr>\n",
       "      <th>538</th>\n",
       "      <td>Matthew Stafford</td>\n",
       "      <td>LA</td>\n",
       "      <td>#003594</td>\n",
       "      <td>1</td>\n",
       "      <td>BUF</td>\n",
       "      <td>240.0</td>\n",
       "      <td>1.0</td>\n",
       "      <td>3.0</td>\n",
       "      <td>48.0</td>\n",
       "      <td>29.0</td>\n",
       "      <td>54.2</td>\n",
       "      <td>109.2</td>\n",
       "      <td>-55.0</td>\n",
       "      <td>1</td>\n",
       "      <td>BUF</td>\n",
       "      <td>LA</td>\n",
       "      <td>31</td>\n",
       "      <td>10</td>\n",
       "      <td>BUF</td>\n",
       "    </tr>\n",
       "    <tr>\n",
       "      <th>539</th>\n",
       "      <td>Jarrett Stidham</td>\n",
       "      <td>LV</td>\n",
       "      <td>#000000</td>\n",
       "      <td>18</td>\n",
       "      <td>KC</td>\n",
       "      <td>219.0</td>\n",
       "      <td>1.0</td>\n",
       "      <td>1.0</td>\n",
       "      <td>42.0</td>\n",
       "      <td>22.0</td>\n",
       "      <td>65.5</td>\n",
       "      <td>97.6</td>\n",
       "      <td>-32.1</td>\n",
       "      <td>18</td>\n",
       "      <td>KC</td>\n",
       "      <td>LV</td>\n",
       "      <td>31</td>\n",
       "      <td>13</td>\n",
       "      <td>KC</td>\n",
       "    </tr>\n",
       "    <tr>\n",
       "      <th>540</th>\n",
       "      <td>Zach Wilson</td>\n",
       "      <td>NYJ</td>\n",
       "      <td>#003F2D</td>\n",
       "      <td>16</td>\n",
       "      <td>JAX</td>\n",
       "      <td>92.0</td>\n",
       "      <td>0.0</td>\n",
       "      <td>1.0</td>\n",
       "      <td>21.0</td>\n",
       "      <td>9.0</td>\n",
       "      <td>36.2</td>\n",
       "      <td>84.0</td>\n",
       "      <td>-47.8</td>\n",
       "      <td>16</td>\n",
       "      <td>JAX</td>\n",
       "      <td>NYJ</td>\n",
       "      <td>19</td>\n",
       "      <td>3</td>\n",
       "      <td>JAX</td>\n",
       "    </tr>\n",
       "    <tr>\n",
       "      <th>541</th>\n",
       "      <td>Geno Smith</td>\n",
       "      <td>SEA</td>\n",
       "      <td>#002244</td>\n",
       "      <td>15</td>\n",
       "      <td>SF</td>\n",
       "      <td>238.0</td>\n",
       "      <td>1.0</td>\n",
       "      <td>0.0</td>\n",
       "      <td>47.0</td>\n",
       "      <td>31.0</td>\n",
       "      <td>85.2</td>\n",
       "      <td>112.7</td>\n",
       "      <td>-27.5</td>\n",
       "      <td>15</td>\n",
       "      <td>SF</td>\n",
       "      <td>SEA</td>\n",
       "      <td>21</td>\n",
       "      <td>13</td>\n",
       "      <td>SF</td>\n",
       "    </tr>\n",
       "  </tbody>\n",
       "</table>\n",
       "<p>542 rows × 19 columns</p>\n",
       "</div>"
      ],
      "text/plain": [
       "          player_name team_abbr team_color  week defteam  passing_yards  \\\n",
       "0       Lamar Jackson       BAL    #241773     9      NO          133.0   \n",
       "1       Justin Fields       CHI    #0B162A     7      NE          179.0   \n",
       "2          Joe Burrow       CIN    #FB4F14     8     CLE          232.0   \n",
       "3         Cooper Rush       DAL    #002244     3     NYG          215.0   \n",
       "4      Russell Wilson       DEN    #002244     1     SEA          340.0   \n",
       "..                ...       ...        ...   ...     ...            ...   \n",
       "537   Patrick Mahomes        KC    #E31837     2     LAC          235.0   \n",
       "538  Matthew Stafford        LA    #003594     1     BUF          240.0   \n",
       "539   Jarrett Stidham        LV    #000000    18      KC          219.0   \n",
       "540       Zach Wilson       NYJ    #003F2D    16     JAX           92.0   \n",
       "541        Geno Smith       SEA    #002244    15      SF          238.0   \n",
       "\n",
       "     pass_touchdown  interception  pass_attempt  complete_pass  passer_rating  \\\n",
       "0               1.0           0.0          25.0           12.0           77.6   \n",
       "1               1.0           1.0          25.0           13.0           71.9   \n",
       "2               2.0           1.0          40.0           25.0           84.6   \n",
       "3               1.0           0.0          31.0           21.0           98.2   \n",
       "4               1.0           0.0          44.0           29.0           96.8   \n",
       "..              ...           ...           ...            ...            ...   \n",
       "537             2.0           0.0          36.0           24.0          103.4   \n",
       "538             1.0           3.0          48.0           29.0           54.2   \n",
       "539             1.0           1.0          42.0           22.0           65.5   \n",
       "540             0.0           1.0          21.0            9.0           36.2   \n",
       "541             1.0           0.0          47.0           31.0           85.2   \n",
       "\n",
       "     other_team_pr  differential  Week Away Home  AwayScore  HomeScore Winner  \n",
       "0             74.1           3.5     9  BAL   NO         27         13    BAL  \n",
       "1             64.6           7.3     7  CHI   NE         33         14    CHI  \n",
       "2            128.5         -43.9     8  CIN  CLE         13         32    CLE  \n",
       "3             51.3          46.9     3  DAL  NYG         23         16    DAL  \n",
       "4            115.3         -18.5     1  DEN  SEA         16         17    SEA  \n",
       "..             ...           ...   ...  ...  ...        ...        ...    ...  \n",
       "537           96.6           6.8     2  LAC   KC         24         27     KC  \n",
       "538          109.2         -55.0     1  BUF   LA         31         10    BUF  \n",
       "539           97.6         -32.1    18   KC   LV         31         13     KC  \n",
       "540           84.0         -47.8    16  JAX  NYJ         19          3    JAX  \n",
       "541          112.7         -27.5    15   SF  SEA         21         13     SF  \n",
       "\n",
       "[542 rows x 19 columns]"
      ]
     },
     "execution_count": 83,
     "metadata": {},
     "output_type": "execute_result"
    }
   ],
   "source": [
    "#NOTE: Connects to an 'in-memory database'\n",
    "con = duckdb.connect()\n",
    "\n",
    "sql = \"\"\"SELECT *\n",
    "FROM dfPRFiltered, dfGames\n",
    "WHERE (dfPRFiltered.team_abbr=dfGames.Away or dfPRFiltered.team_abbr=dfGames.Home)\n",
    "AND (dfPRFiltered.week = dfGames.Week)\"\"\"\n",
    "\n",
    "#NOTE: Executes query\n",
    "resultsOutcome = con.execute(sql).df()\n",
    "resultsOutcome"
   ]
  },
  {
   "cell_type": "code",
   "execution_count": 28,
   "id": "7085552a",
   "metadata": {},
   "outputs": [],
   "source": [
    "#COMMENTARY:\n",
    "#SQL is a magical wonderful thing\n",
    "#If we wanted to look at just the winning QBs (elements where team_abbr==Winner)\n",
    "#For each qb, if team_abbr != Winner, drop row"
   ]
  },
  {
   "cell_type": "code",
   "execution_count": 42,
   "id": "4c8aac62",
   "metadata": {},
   "outputs": [],
   "source": [
    "def dropLosers(df):\n",
    "    for index, qb in df.iterrows():\n",
    "        if qb[\"team_abbr\"] != qb[\"Winner\"]:\n",
    "            df.drop(index, inplace=True)\n",
    "    return df"
   ]
  },
  {
   "cell_type": "code",
   "execution_count": 46,
   "id": "1bfbf184",
   "metadata": {},
   "outputs": [
    {
     "data": {
      "text/plain": [
       "count    269.000000\n",
       "mean      19.834944\n",
       "std       26.847232\n",
       "min      -90.400000\n",
       "25%        4.800000\n",
       "50%       16.800000\n",
       "75%       35.700000\n",
       "max       97.700000\n",
       "Name: differential, dtype: float64"
      ]
     },
     "execution_count": 46,
     "metadata": {},
     "output_type": "execute_result"
    }
   ],
   "source": [
    "winnersOnly = resultsOutcome.copy()\n",
    "winnersDifferential = dropLosers(winnersOnly)\n",
    "winnersDifferential.differential.describe()"
   ]
  },
  {
   "cell_type": "code",
   "execution_count": 37,
   "id": "68fcf3bb",
   "metadata": {},
   "outputs": [
    {
     "name": "stdout",
     "output_type": "stream",
     "text": [
      "218  teams won with a positive Passer Rating differential\n",
      "That is  81.04 %\n",
      "51  teams won with a negative Passer Rating differential\n",
      "That is  18.96 %\n"
     ]
    }
   ],
   "source": [
    "#COMMENTARY:\n",
    "#So the average winning team's quarterback has a passer rating 19.8 higher than their opponent\n",
    "#And 50% of winners have at least 16.8 PR higher\n",
    "\n",
    "posPR = 0\n",
    "negPR = 0\n",
    "for index, qb in winnersDifferential.iterrows():\n",
    "    if(qb[\"differential\"] > 0):\n",
    "        posPR+=1\n",
    "    else:\n",
    "        negPR+=1\n",
    "\n",
    "negPer = round((negPR/(negPR+posPR))*100,2)\n",
    "posPer = round((posPR/(negPR+posPR))*100,2)        \n",
    "        \n",
    "print(posPR, \" teams won with a positive Passer Rating differential\")\n",
    "print(\"That is \", posPer, \"%\")\n",
    "print(negPR, \" teams won with a negative Passer Rating differential\")\n",
    "print(\"That is \", negPer, \"%\")"
   ]
  },
  {
   "cell_type": "code",
   "execution_count": 38,
   "id": "0d61d2ad",
   "metadata": {},
   "outputs": [
    {
     "data": {
      "image/png": "[encoded data removed]",
      "text/plain": [
       "<Figure size 640x480 with 1 Axes>"
      ]
     },
     "metadata": {},
     "output_type": "display_data"
    }
   ],
   "source": [
    "piePercents = np.array([posPR, negPR])\n",
    "pieLabels = [\"Positive Differential\", \"Negative Differential\"]\n",
    "plt.pie(piePercents, labels = pieLabels, autopct='%1.1f%%', explode=(0, 0.1), textprops = {\"fontsize\":13})\n",
    "plt.title('Winning Games by Passer Rating Differential', fontsize=16)\n",
    "plt.show() "
   ]
  },
  {
   "cell_type": "code",
   "execution_count": null,
   "id": "d0a5b54a",
   "metadata": {},
   "outputs": [],
   "source": [
    "#TODO: DOCUMENTATION UNDER THIS VALUE"
   ]
  },
  {
   "cell_type": "code",
   "execution_count": 49,
   "id": "6571a0a5",
   "metadata": {},
   "outputs": [
    {
     "data": {
      "text/html": [
       "<div>\n",
       "<style scoped>\n",
       "    .dataframe tbody tr th:only-of-type {\n",
       "        vertical-align: middle;\n",
       "    }\n",
       "\n",
       "    .dataframe tbody tr th {\n",
       "        vertical-align: top;\n",
       "    }\n",
       "\n",
       "    .dataframe thead th {\n",
       "        text-align: right;\n",
       "    }\n",
       "</style>\n",
       "<table border=\"1\" class=\"dataframe\">\n",
       "  <thead>\n",
       "    <tr style=\"text-align: right;\">\n",
       "      <th></th>\n",
       "      <th>player_name</th>\n",
       "      <th>team_abbr</th>\n",
       "      <th>team_color</th>\n",
       "      <th>week</th>\n",
       "      <th>defteam</th>\n",
       "      <th>passing_yards</th>\n",
       "      <th>pass_touchdown</th>\n",
       "      <th>interception</th>\n",
       "      <th>pass_attempt</th>\n",
       "      <th>complete_pass</th>\n",
       "      <th>passer_rating</th>\n",
       "      <th>other_team_pr</th>\n",
       "      <th>differential</th>\n",
       "      <th>Week</th>\n",
       "      <th>Away</th>\n",
       "      <th>Home</th>\n",
       "      <th>AwayScore</th>\n",
       "      <th>HomeScore</th>\n",
       "      <th>Winner</th>\n",
       "    </tr>\n",
       "  </thead>\n",
       "  <tbody>\n",
       "    <tr>\n",
       "      <th>90</th>\n",
       "      <td>Kyler Murray</td>\n",
       "      <td>ARI</td>\n",
       "      <td>#97233F</td>\n",
       "      <td>1</td>\n",
       "      <td>KC</td>\n",
       "      <td>193.0</td>\n",
       "      <td>2.0</td>\n",
       "      <td>0.0</td>\n",
       "      <td>36.0</td>\n",
       "      <td>22.0</td>\n",
       "      <td>93.9</td>\n",
       "      <td>144.2</td>\n",
       "      <td>-50.3</td>\n",
       "      <td>1</td>\n",
       "      <td>KC</td>\n",
       "      <td>ARI</td>\n",
       "      <td>44</td>\n",
       "      <td>21</td>\n",
       "      <td>KC</td>\n",
       "    </tr>\n",
       "    <tr>\n",
       "      <th>180</th>\n",
       "      <td>Kyler Murray</td>\n",
       "      <td>ARI</td>\n",
       "      <td>#97233F</td>\n",
       "      <td>2</td>\n",
       "      <td>LV</td>\n",
       "      <td>277.0</td>\n",
       "      <td>1.0</td>\n",
       "      <td>1.0</td>\n",
       "      <td>50.0</td>\n",
       "      <td>31.0</td>\n",
       "      <td>75.2</td>\n",
       "      <td>97.1</td>\n",
       "      <td>-21.9</td>\n",
       "      <td>2</td>\n",
       "      <td>ARI</td>\n",
       "      <td>LV</td>\n",
       "      <td>29</td>\n",
       "      <td>23</td>\n",
       "      <td>ARI</td>\n",
       "    </tr>\n",
       "    <tr>\n",
       "      <th>162</th>\n",
       "      <td>Kyler Murray</td>\n",
       "      <td>ARI</td>\n",
       "      <td>#97233F</td>\n",
       "      <td>3</td>\n",
       "      <td>LA</td>\n",
       "      <td>314.0</td>\n",
       "      <td>0.0</td>\n",
       "      <td>0.0</td>\n",
       "      <td>60.0</td>\n",
       "      <td>37.0</td>\n",
       "      <td>75.3</td>\n",
       "      <td>99.7</td>\n",
       "      <td>-24.4</td>\n",
       "      <td>3</td>\n",
       "      <td>LA</td>\n",
       "      <td>ARI</td>\n",
       "      <td>20</td>\n",
       "      <td>12</td>\n",
       "      <td>LA</td>\n",
       "    </tr>\n",
       "    <tr>\n",
       "      <th>144</th>\n",
       "      <td>Kyler Murray</td>\n",
       "      <td>ARI</td>\n",
       "      <td>#97233F</td>\n",
       "      <td>4</td>\n",
       "      <td>CAR</td>\n",
       "      <td>207.0</td>\n",
       "      <td>2.0</td>\n",
       "      <td>1.0</td>\n",
       "      <td>33.0</td>\n",
       "      <td>23.0</td>\n",
       "      <td>93.9</td>\n",
       "      <td>58.8</td>\n",
       "      <td>35.1</td>\n",
       "      <td>4</td>\n",
       "      <td>ARI</td>\n",
       "      <td>CAR</td>\n",
       "      <td>26</td>\n",
       "      <td>16</td>\n",
       "      <td>ARI</td>\n",
       "    </tr>\n",
       "    <tr>\n",
       "      <th>126</th>\n",
       "      <td>Kyler Murray</td>\n",
       "      <td>ARI</td>\n",
       "      <td>#97233F</td>\n",
       "      <td>5</td>\n",
       "      <td>PHI</td>\n",
       "      <td>250.0</td>\n",
       "      <td>1.0</td>\n",
       "      <td>1.0</td>\n",
       "      <td>41.0</td>\n",
       "      <td>28.0</td>\n",
       "      <td>82.4</td>\n",
       "      <td>85.3</td>\n",
       "      <td>-2.9</td>\n",
       "      <td>5</td>\n",
       "      <td>PHI</td>\n",
       "      <td>ARI</td>\n",
       "      <td>20</td>\n",
       "      <td>17</td>\n",
       "      <td>PHI</td>\n",
       "    </tr>\n",
       "    <tr>\n",
       "      <th>...</th>\n",
       "      <td>...</td>\n",
       "      <td>...</td>\n",
       "      <td>...</td>\n",
       "      <td>...</td>\n",
       "      <td>...</td>\n",
       "      <td>...</td>\n",
       "      <td>...</td>\n",
       "      <td>...</td>\n",
       "      <td>...</td>\n",
       "      <td>...</td>\n",
       "      <td>...</td>\n",
       "      <td>...</td>\n",
       "      <td>...</td>\n",
       "      <td>...</td>\n",
       "      <td>...</td>\n",
       "      <td>...</td>\n",
       "      <td>...</td>\n",
       "      <td>...</td>\n",
       "      <td>...</td>\n",
       "    </tr>\n",
       "    <tr>\n",
       "      <th>377</th>\n",
       "      <td>Taylor Heinicke</td>\n",
       "      <td>WAS</td>\n",
       "      <td>#5A1414</td>\n",
       "      <td>13</td>\n",
       "      <td>NYG</td>\n",
       "      <td>275.0</td>\n",
       "      <td>2.0</td>\n",
       "      <td>0.0</td>\n",
       "      <td>46.0</td>\n",
       "      <td>27.0</td>\n",
       "      <td>90.4</td>\n",
       "      <td>100.6</td>\n",
       "      <td>-10.2</td>\n",
       "      <td>13</td>\n",
       "      <td>WAS</td>\n",
       "      <td>NYG</td>\n",
       "      <td>20</td>\n",
       "      <td>20</td>\n",
       "      <td>TIE</td>\n",
       "    </tr>\n",
       "    <tr>\n",
       "      <th>71</th>\n",
       "      <td>Taylor Heinicke</td>\n",
       "      <td>WAS</td>\n",
       "      <td>#5A1414</td>\n",
       "      <td>15</td>\n",
       "      <td>NYG</td>\n",
       "      <td>249.0</td>\n",
       "      <td>1.0</td>\n",
       "      <td>0.0</td>\n",
       "      <td>32.0</td>\n",
       "      <td>17.0</td>\n",
       "      <td>89.2</td>\n",
       "      <td>77.6</td>\n",
       "      <td>11.6</td>\n",
       "      <td>15</td>\n",
       "      <td>NYG</td>\n",
       "      <td>WAS</td>\n",
       "      <td>20</td>\n",
       "      <td>12</td>\n",
       "      <td>NYG</td>\n",
       "    </tr>\n",
       "    <tr>\n",
       "      <th>233</th>\n",
       "      <td>Taylor Heinicke</td>\n",
       "      <td>WAS</td>\n",
       "      <td>#5A1414</td>\n",
       "      <td>16</td>\n",
       "      <td>SF</td>\n",
       "      <td>166.0</td>\n",
       "      <td>2.0</td>\n",
       "      <td>1.0</td>\n",
       "      <td>20.0</td>\n",
       "      <td>13.0</td>\n",
       "      <td>103.3</td>\n",
       "      <td>101.1</td>\n",
       "      <td>2.2</td>\n",
       "      <td>16</td>\n",
       "      <td>WAS</td>\n",
       "      <td>SF</td>\n",
       "      <td>20</td>\n",
       "      <td>37</td>\n",
       "      <td>SF</td>\n",
       "    </tr>\n",
       "    <tr>\n",
       "      <th>251</th>\n",
       "      <td>Carson Wentz</td>\n",
       "      <td>WAS</td>\n",
       "      <td>#5A1414</td>\n",
       "      <td>17</td>\n",
       "      <td>CLE</td>\n",
       "      <td>143.0</td>\n",
       "      <td>0.0</td>\n",
       "      <td>3.0</td>\n",
       "      <td>31.0</td>\n",
       "      <td>16.0</td>\n",
       "      <td>24.7</td>\n",
       "      <td>104.9</td>\n",
       "      <td>-80.2</td>\n",
       "      <td>17</td>\n",
       "      <td>CLE</td>\n",
       "      <td>WAS</td>\n",
       "      <td>24</td>\n",
       "      <td>10</td>\n",
       "      <td>CLE</td>\n",
       "    </tr>\n",
       "    <tr>\n",
       "      <th>179</th>\n",
       "      <td>Sam Howell</td>\n",
       "      <td>WAS</td>\n",
       "      <td>#5A1414</td>\n",
       "      <td>18</td>\n",
       "      <td>DAL</td>\n",
       "      <td>169.0</td>\n",
       "      <td>1.0</td>\n",
       "      <td>1.0</td>\n",
       "      <td>22.0</td>\n",
       "      <td>11.0</td>\n",
       "      <td>72.0</td>\n",
       "      <td>44.6</td>\n",
       "      <td>27.4</td>\n",
       "      <td>18</td>\n",
       "      <td>DAL</td>\n",
       "      <td>WAS</td>\n",
       "      <td>6</td>\n",
       "      <td>26</td>\n",
       "      <td>WAS</td>\n",
       "    </tr>\n",
       "  </tbody>\n",
       "</table>\n",
       "<p>542 rows × 19 columns</p>\n",
       "</div>"
      ],
      "text/plain": [
       "         player_name team_abbr team_color  week defteam  passing_yards  \\\n",
       "90      Kyler Murray       ARI    #97233F     1      KC          193.0   \n",
       "180     Kyler Murray       ARI    #97233F     2      LV          277.0   \n",
       "162     Kyler Murray       ARI    #97233F     3      LA          314.0   \n",
       "144     Kyler Murray       ARI    #97233F     4     CAR          207.0   \n",
       "126     Kyler Murray       ARI    #97233F     5     PHI          250.0   \n",
       "..               ...       ...        ...   ...     ...            ...   \n",
       "377  Taylor Heinicke       WAS    #5A1414    13     NYG          275.0   \n",
       "71   Taylor Heinicke       WAS    #5A1414    15     NYG          249.0   \n",
       "233  Taylor Heinicke       WAS    #5A1414    16      SF          166.0   \n",
       "251     Carson Wentz       WAS    #5A1414    17     CLE          143.0   \n",
       "179       Sam Howell       WAS    #5A1414    18     DAL          169.0   \n",
       "\n",
       "     pass_touchdown  interception  pass_attempt  complete_pass  passer_rating  \\\n",
       "90              2.0           0.0          36.0           22.0           93.9   \n",
       "180             1.0           1.0          50.0           31.0           75.2   \n",
       "162             0.0           0.0          60.0           37.0           75.3   \n",
       "144             2.0           1.0          33.0           23.0           93.9   \n",
       "126             1.0           1.0          41.0           28.0           82.4   \n",
       "..              ...           ...           ...            ...            ...   \n",
       "377             2.0           0.0          46.0           27.0           90.4   \n",
       "71              1.0           0.0          32.0           17.0           89.2   \n",
       "233             2.0           1.0          20.0           13.0          103.3   \n",
       "251             0.0           3.0          31.0           16.0           24.7   \n",
       "179             1.0           1.0          22.0           11.0           72.0   \n",
       "\n",
       "     other_team_pr  differential  Week Away Home  AwayScore  HomeScore Winner  \n",
       "90           144.2         -50.3     1   KC  ARI         44         21     KC  \n",
       "180           97.1         -21.9     2  ARI   LV         29         23    ARI  \n",
       "162           99.7         -24.4     3   LA  ARI         20         12     LA  \n",
       "144           58.8          35.1     4  ARI  CAR         26         16    ARI  \n",
       "126           85.3          -2.9     5  PHI  ARI         20         17    PHI  \n",
       "..             ...           ...   ...  ...  ...        ...        ...    ...  \n",
       "377          100.6         -10.2    13  WAS  NYG         20         20    TIE  \n",
       "71            77.6          11.6    15  NYG  WAS         20         12    NYG  \n",
       "233          101.1           2.2    16  WAS   SF         20         37     SF  \n",
       "251          104.9         -80.2    17  CLE  WAS         24         10    CLE  \n",
       "179           44.6          27.4    18  DAL  WAS          6         26    WAS  \n",
       "\n",
       "[542 rows x 19 columns]"
      ]
     },
     "execution_count": 49,
     "metadata": {},
     "output_type": "execute_result"
    }
   ],
   "source": [
    "resultsOutcome.sort_values([\"team_abbr\", \"week\"])\n",
    "#dfPR = (DFqb.groupby([\"player_name\", \"team_abbr\", \"team_color\", \"week\", \"defteam\"], as_index=False)\n",
    "#         .agg({\"passing_yards\": \"sum\", \"pass_touchdown\": \"sum\", \"interception\": \"sum\", \n",
    "#               \"pass_attempt\": \"sum\", \"complete_pass\": \"sum\"})\n",
    "#         )"
   ]
  },
  {
   "cell_type": "code",
   "execution_count": 57,
   "id": "ad6c731d",
   "metadata": {},
   "outputs": [
    {
     "data": {
      "text/html": [
       "<div>\n",
       "<style scoped>\n",
       "    .dataframe tbody tr th:only-of-type {\n",
       "        vertical-align: middle;\n",
       "    }\n",
       "\n",
       "    .dataframe tbody tr th {\n",
       "        vertical-align: top;\n",
       "    }\n",
       "\n",
       "    .dataframe thead th {\n",
       "        text-align: right;\n",
       "    }\n",
       "</style>\n",
       "<table border=\"1\" class=\"dataframe\">\n",
       "  <thead>\n",
       "    <tr style=\"text-align: right;\">\n",
       "      <th></th>\n",
       "      <th>player_name</th>\n",
       "      <th>team_abbr</th>\n",
       "      <th>team_color</th>\n",
       "      <th>differential</th>\n",
       "    </tr>\n",
       "  </thead>\n",
       "  <tbody>\n",
       "    <tr>\n",
       "      <th>0</th>\n",
       "      <td>Aaron Rodgers</td>\n",
       "      <td>GB</td>\n",
       "      <td>#203731</td>\n",
       "      <td>9.382353</td>\n",
       "    </tr>\n",
       "    <tr>\n",
       "      <th>1</th>\n",
       "      <td>Andy Dalton</td>\n",
       "      <td>NO</td>\n",
       "      <td>#D3BC8D</td>\n",
       "      <td>12.792857</td>\n",
       "    </tr>\n",
       "    <tr>\n",
       "      <th>2</th>\n",
       "      <td>Anthony Brown</td>\n",
       "      <td>BAL</td>\n",
       "      <td>#241773</td>\n",
       "      <td>-33.100000</td>\n",
       "    </tr>\n",
       "    <tr>\n",
       "      <th>3</th>\n",
       "      <td>Bailey Zappe</td>\n",
       "      <td>NE</td>\n",
       "      <td>#002244</td>\n",
       "      <td>24.525000</td>\n",
       "    </tr>\n",
       "    <tr>\n",
       "      <th>4</th>\n",
       "      <td>Baker Mayfield</td>\n",
       "      <td>CAR</td>\n",
       "      <td>#0085CA</td>\n",
       "      <td>-13.771429</td>\n",
       "    </tr>\n",
       "    <tr>\n",
       "      <th>...</th>\n",
       "      <td>...</td>\n",
       "      <td>...</td>\n",
       "      <td>...</td>\n",
       "      <td>...</td>\n",
       "    </tr>\n",
       "    <tr>\n",
       "      <th>62</th>\n",
       "      <td>Trevor Siemian</td>\n",
       "      <td>CHI</td>\n",
       "      <td>#0B162A</td>\n",
       "      <td>-75.200000</td>\n",
       "    </tr>\n",
       "    <tr>\n",
       "      <th>63</th>\n",
       "      <td>Trey Lance</td>\n",
       "      <td>SF</td>\n",
       "      <td>#AA0000</td>\n",
       "      <td>-29.800000</td>\n",
       "    </tr>\n",
       "    <tr>\n",
       "      <th>64</th>\n",
       "      <td>Tua Tagovailoa</td>\n",
       "      <td>MIA</td>\n",
       "      <td>#008E97</td>\n",
       "      <td>11.108333</td>\n",
       "    </tr>\n",
       "    <tr>\n",
       "      <th>65</th>\n",
       "      <td>Tyler Huntley</td>\n",
       "      <td>BAL</td>\n",
       "      <td>#241773</td>\n",
       "      <td>-4.980000</td>\n",
       "    </tr>\n",
       "    <tr>\n",
       "      <th>66</th>\n",
       "      <td>Zach Wilson</td>\n",
       "      <td>NYJ</td>\n",
       "      <td>#003F2D</td>\n",
       "      <td>-3.744444</td>\n",
       "    </tr>\n",
       "  </tbody>\n",
       "</table>\n",
       "<p>67 rows × 4 columns</p>\n",
       "</div>"
      ],
      "text/plain": [
       "       player_name team_abbr team_color  differential\n",
       "0    Aaron Rodgers        GB    #203731      9.382353\n",
       "1      Andy Dalton        NO    #D3BC8D     12.792857\n",
       "2    Anthony Brown       BAL    #241773    -33.100000\n",
       "3     Bailey Zappe        NE    #002244     24.525000\n",
       "4   Baker Mayfield       CAR    #0085CA    -13.771429\n",
       "..             ...       ...        ...           ...\n",
       "62  Trevor Siemian       CHI    #0B162A    -75.200000\n",
       "63      Trey Lance        SF    #AA0000    -29.800000\n",
       "64  Tua Tagovailoa       MIA    #008E97     11.108333\n",
       "65   Tyler Huntley       BAL    #241773     -4.980000\n",
       "66     Zach Wilson       NYJ    #003F2D     -3.744444\n",
       "\n",
       "[67 rows x 4 columns]"
      ]
     },
     "execution_count": 57,
     "metadata": {},
     "output_type": "execute_result"
    }
   ],
   "source": [
    "resultsOutcome2 = (resultsOutcome.groupby([\"player_name\", \"team_abbr\", \"team_color\"], as_index=False)\n",
    "         .agg({\"differential\": \"mean\"})\n",
    "         )\n",
    "resultsOutcome2\n",
    "\n",
    "#So take this, get a wins and losses from the dfGames, then look at okay with X avg differential\n",
    "#Outcome is Y percentage of games won"
   ]
  },
  {
   "cell_type": "code",
   "execution_count": 58,
   "id": "8797b7d0",
   "metadata": {},
   "outputs": [
    {
     "data": {
      "text/html": [
       "<div>\n",
       "<style scoped>\n",
       "    .dataframe tbody tr th:only-of-type {\n",
       "        vertical-align: middle;\n",
       "    }\n",
       "\n",
       "    .dataframe tbody tr th {\n",
       "        vertical-align: top;\n",
       "    }\n",
       "\n",
       "    .dataframe thead th {\n",
       "        text-align: right;\n",
       "    }\n",
       "</style>\n",
       "<table border=\"1\" class=\"dataframe\">\n",
       "  <thead>\n",
       "    <tr style=\"text-align: right;\">\n",
       "      <th></th>\n",
       "      <th>player_name</th>\n",
       "      <th>team_abbr</th>\n",
       "      <th>team_color</th>\n",
       "      <th>week</th>\n",
       "      <th>defteam</th>\n",
       "      <th>passing_yards</th>\n",
       "      <th>pass_touchdown</th>\n",
       "      <th>interception</th>\n",
       "      <th>pass_attempt</th>\n",
       "      <th>complete_pass</th>\n",
       "      <th>passer_rating</th>\n",
       "      <th>other_team_pr</th>\n",
       "      <th>differential</th>\n",
       "      <th>Week</th>\n",
       "      <th>Away</th>\n",
       "      <th>Home</th>\n",
       "      <th>AwayScore</th>\n",
       "      <th>HomeScore</th>\n",
       "      <th>Winner</th>\n",
       "    </tr>\n",
       "  </thead>\n",
       "  <tbody>\n",
       "    <tr>\n",
       "      <th>0</th>\n",
       "      <td>Lamar Jackson</td>\n",
       "      <td>BAL</td>\n",
       "      <td>#241773</td>\n",
       "      <td>9</td>\n",
       "      <td>NO</td>\n",
       "      <td>133.0</td>\n",
       "      <td>1.0</td>\n",
       "      <td>0.0</td>\n",
       "      <td>25.0</td>\n",
       "      <td>12.0</td>\n",
       "      <td>77.6</td>\n",
       "      <td>74.1</td>\n",
       "      <td>3.5</td>\n",
       "      <td>9</td>\n",
       "      <td>BAL</td>\n",
       "      <td>NO</td>\n",
       "      <td>27</td>\n",
       "      <td>13</td>\n",
       "      <td>BAL</td>\n",
       "    </tr>\n",
       "    <tr>\n",
       "      <th>1</th>\n",
       "      <td>Justin Fields</td>\n",
       "      <td>CHI</td>\n",
       "      <td>#0B162A</td>\n",
       "      <td>7</td>\n",
       "      <td>NE</td>\n",
       "      <td>179.0</td>\n",
       "      <td>1.0</td>\n",
       "      <td>1.0</td>\n",
       "      <td>25.0</td>\n",
       "      <td>13.0</td>\n",
       "      <td>71.9</td>\n",
       "      <td>64.6</td>\n",
       "      <td>7.3</td>\n",
       "      <td>7</td>\n",
       "      <td>CHI</td>\n",
       "      <td>NE</td>\n",
       "      <td>33</td>\n",
       "      <td>14</td>\n",
       "      <td>CHI</td>\n",
       "    </tr>\n",
       "    <tr>\n",
       "      <th>2</th>\n",
       "      <td>Joe Burrow</td>\n",
       "      <td>CIN</td>\n",
       "      <td>#FB4F14</td>\n",
       "      <td>8</td>\n",
       "      <td>CLE</td>\n",
       "      <td>232.0</td>\n",
       "      <td>2.0</td>\n",
       "      <td>1.0</td>\n",
       "      <td>40.0</td>\n",
       "      <td>25.0</td>\n",
       "      <td>84.6</td>\n",
       "      <td>128.5</td>\n",
       "      <td>-43.9</td>\n",
       "      <td>8</td>\n",
       "      <td>CIN</td>\n",
       "      <td>CLE</td>\n",
       "      <td>13</td>\n",
       "      <td>32</td>\n",
       "      <td>CLE</td>\n",
       "    </tr>\n",
       "    <tr>\n",
       "      <th>3</th>\n",
       "      <td>Cooper Rush</td>\n",
       "      <td>DAL</td>\n",
       "      <td>#002244</td>\n",
       "      <td>3</td>\n",
       "      <td>NYG</td>\n",
       "      <td>215.0</td>\n",
       "      <td>1.0</td>\n",
       "      <td>0.0</td>\n",
       "      <td>31.0</td>\n",
       "      <td>21.0</td>\n",
       "      <td>98.2</td>\n",
       "      <td>51.3</td>\n",
       "      <td>46.9</td>\n",
       "      <td>3</td>\n",
       "      <td>DAL</td>\n",
       "      <td>NYG</td>\n",
       "      <td>23</td>\n",
       "      <td>16</td>\n",
       "      <td>DAL</td>\n",
       "    </tr>\n",
       "    <tr>\n",
       "      <th>4</th>\n",
       "      <td>Russell Wilson</td>\n",
       "      <td>DEN</td>\n",
       "      <td>#002244</td>\n",
       "      <td>1</td>\n",
       "      <td>SEA</td>\n",
       "      <td>340.0</td>\n",
       "      <td>1.0</td>\n",
       "      <td>0.0</td>\n",
       "      <td>44.0</td>\n",
       "      <td>29.0</td>\n",
       "      <td>96.8</td>\n",
       "      <td>115.3</td>\n",
       "      <td>-18.5</td>\n",
       "      <td>1</td>\n",
       "      <td>DEN</td>\n",
       "      <td>SEA</td>\n",
       "      <td>16</td>\n",
       "      <td>17</td>\n",
       "      <td>SEA</td>\n",
       "    </tr>\n",
       "    <tr>\n",
       "      <th>...</th>\n",
       "      <td>...</td>\n",
       "      <td>...</td>\n",
       "      <td>...</td>\n",
       "      <td>...</td>\n",
       "      <td>...</td>\n",
       "      <td>...</td>\n",
       "      <td>...</td>\n",
       "      <td>...</td>\n",
       "      <td>...</td>\n",
       "      <td>...</td>\n",
       "      <td>...</td>\n",
       "      <td>...</td>\n",
       "      <td>...</td>\n",
       "      <td>...</td>\n",
       "      <td>...</td>\n",
       "      <td>...</td>\n",
       "      <td>...</td>\n",
       "      <td>...</td>\n",
       "      <td>...</td>\n",
       "    </tr>\n",
       "    <tr>\n",
       "      <th>537</th>\n",
       "      <td>Patrick Mahomes</td>\n",
       "      <td>KC</td>\n",
       "      <td>#E31837</td>\n",
       "      <td>2</td>\n",
       "      <td>LAC</td>\n",
       "      <td>235.0</td>\n",
       "      <td>2.0</td>\n",
       "      <td>0.0</td>\n",
       "      <td>36.0</td>\n",
       "      <td>24.0</td>\n",
       "      <td>103.4</td>\n",
       "      <td>96.6</td>\n",
       "      <td>6.8</td>\n",
       "      <td>2</td>\n",
       "      <td>LAC</td>\n",
       "      <td>KC</td>\n",
       "      <td>24</td>\n",
       "      <td>27</td>\n",
       "      <td>KC</td>\n",
       "    </tr>\n",
       "    <tr>\n",
       "      <th>538</th>\n",
       "      <td>Matthew Stafford</td>\n",
       "      <td>LA</td>\n",
       "      <td>#003594</td>\n",
       "      <td>1</td>\n",
       "      <td>BUF</td>\n",
       "      <td>240.0</td>\n",
       "      <td>1.0</td>\n",
       "      <td>3.0</td>\n",
       "      <td>48.0</td>\n",
       "      <td>29.0</td>\n",
       "      <td>54.2</td>\n",
       "      <td>109.2</td>\n",
       "      <td>-55.0</td>\n",
       "      <td>1</td>\n",
       "      <td>BUF</td>\n",
       "      <td>LA</td>\n",
       "      <td>31</td>\n",
       "      <td>10</td>\n",
       "      <td>BUF</td>\n",
       "    </tr>\n",
       "    <tr>\n",
       "      <th>539</th>\n",
       "      <td>Jarrett Stidham</td>\n",
       "      <td>LV</td>\n",
       "      <td>#000000</td>\n",
       "      <td>18</td>\n",
       "      <td>KC</td>\n",
       "      <td>219.0</td>\n",
       "      <td>1.0</td>\n",
       "      <td>1.0</td>\n",
       "      <td>42.0</td>\n",
       "      <td>22.0</td>\n",
       "      <td>65.5</td>\n",
       "      <td>97.6</td>\n",
       "      <td>-32.1</td>\n",
       "      <td>18</td>\n",
       "      <td>KC</td>\n",
       "      <td>LV</td>\n",
       "      <td>31</td>\n",
       "      <td>13</td>\n",
       "      <td>KC</td>\n",
       "    </tr>\n",
       "    <tr>\n",
       "      <th>540</th>\n",
       "      <td>Zach Wilson</td>\n",
       "      <td>NYJ</td>\n",
       "      <td>#003F2D</td>\n",
       "      <td>16</td>\n",
       "      <td>JAX</td>\n",
       "      <td>92.0</td>\n",
       "      <td>0.0</td>\n",
       "      <td>1.0</td>\n",
       "      <td>21.0</td>\n",
       "      <td>9.0</td>\n",
       "      <td>36.2</td>\n",
       "      <td>84.0</td>\n",
       "      <td>-47.8</td>\n",
       "      <td>16</td>\n",
       "      <td>JAX</td>\n",
       "      <td>NYJ</td>\n",
       "      <td>19</td>\n",
       "      <td>3</td>\n",
       "      <td>JAX</td>\n",
       "    </tr>\n",
       "    <tr>\n",
       "      <th>541</th>\n",
       "      <td>Geno Smith</td>\n",
       "      <td>SEA</td>\n",
       "      <td>#002244</td>\n",
       "      <td>15</td>\n",
       "      <td>SF</td>\n",
       "      <td>238.0</td>\n",
       "      <td>1.0</td>\n",
       "      <td>0.0</td>\n",
       "      <td>47.0</td>\n",
       "      <td>31.0</td>\n",
       "      <td>85.2</td>\n",
       "      <td>112.7</td>\n",
       "      <td>-27.5</td>\n",
       "      <td>15</td>\n",
       "      <td>SF</td>\n",
       "      <td>SEA</td>\n",
       "      <td>21</td>\n",
       "      <td>13</td>\n",
       "      <td>SF</td>\n",
       "    </tr>\n",
       "  </tbody>\n",
       "</table>\n",
       "<p>542 rows × 19 columns</p>\n",
       "</div>"
      ],
      "text/plain": [
       "          player_name team_abbr team_color  week defteam  passing_yards  \\\n",
       "0       Lamar Jackson       BAL    #241773     9      NO          133.0   \n",
       "1       Justin Fields       CHI    #0B162A     7      NE          179.0   \n",
       "2          Joe Burrow       CIN    #FB4F14     8     CLE          232.0   \n",
       "3         Cooper Rush       DAL    #002244     3     NYG          215.0   \n",
       "4      Russell Wilson       DEN    #002244     1     SEA          340.0   \n",
       "..                ...       ...        ...   ...     ...            ...   \n",
       "537   Patrick Mahomes        KC    #E31837     2     LAC          235.0   \n",
       "538  Matthew Stafford        LA    #003594     1     BUF          240.0   \n",
       "539   Jarrett Stidham        LV    #000000    18      KC          219.0   \n",
       "540       Zach Wilson       NYJ    #003F2D    16     JAX           92.0   \n",
       "541        Geno Smith       SEA    #002244    15      SF          238.0   \n",
       "\n",
       "     pass_touchdown  interception  pass_attempt  complete_pass  passer_rating  \\\n",
       "0               1.0           0.0          25.0           12.0           77.6   \n",
       "1               1.0           1.0          25.0           13.0           71.9   \n",
       "2               2.0           1.0          40.0           25.0           84.6   \n",
       "3               1.0           0.0          31.0           21.0           98.2   \n",
       "4               1.0           0.0          44.0           29.0           96.8   \n",
       "..              ...           ...           ...            ...            ...   \n",
       "537             2.0           0.0          36.0           24.0          103.4   \n",
       "538             1.0           3.0          48.0           29.0           54.2   \n",
       "539             1.0           1.0          42.0           22.0           65.5   \n",
       "540             0.0           1.0          21.0            9.0           36.2   \n",
       "541             1.0           0.0          47.0           31.0           85.2   \n",
       "\n",
       "     other_team_pr  differential  Week Away Home  AwayScore  HomeScore Winner  \n",
       "0             74.1           3.5     9  BAL   NO         27         13    BAL  \n",
       "1             64.6           7.3     7  CHI   NE         33         14    CHI  \n",
       "2            128.5         -43.9     8  CIN  CLE         13         32    CLE  \n",
       "3             51.3          46.9     3  DAL  NYG         23         16    DAL  \n",
       "4            115.3         -18.5     1  DEN  SEA         16         17    SEA  \n",
       "..             ...           ...   ...  ...  ...        ...        ...    ...  \n",
       "537           96.6           6.8     2  LAC   KC         24         27     KC  \n",
       "538          109.2         -55.0     1  BUF   LA         31         10    BUF  \n",
       "539           97.6         -32.1    18   KC   LV         31         13     KC  \n",
       "540           84.0         -47.8    16  JAX  NYJ         19          3    JAX  \n",
       "541          112.7         -27.5    15   SF  SEA         21         13     SF  \n",
       "\n",
       "[542 rows x 19 columns]"
      ]
     },
     "execution_count": 58,
     "metadata": {},
     "output_type": "execute_result"
    }
   ],
   "source": [
    "resultsOutcome"
   ]
  },
  {
   "cell_type": "code",
   "execution_count": 105,
   "id": "7ea89c89",
   "metadata": {},
   "outputs": [],
   "source": [
    "#if team_abbr == Winner, Wins+=1, elif team_abbr == \"TIE\", Ties += 1, else Losses += 1\n",
    "\n",
    "#sort by player_name\n",
    "#df[\"Wins\"] = 0, df[\"losses]=0, ties=0, SEE IF THIS DEFAULTS THEM ALL TO ZERO\n",
    "#itterQB = first row['player-name']\n",
    "#for index, qb\n",
    "# wins,losses,ties=0\n",
    "# if player_name == itterQB\n",
    "#      if team_abbr == Winner, Wins+=1, elif team_abbr == \"TIE\", Ties += 1, else Losses += 1\n",
    "# else, \n",
    "#    qb[Wins] = wins, qb[Ties] = ties, qb[Losses] = losses\n",
    "#    wins, losses, ties=0\n",
    "#    itterQB = qb['player-name']\n",
    "def addRecord(df):\n",
    "    df = df.sort_values([\"player_name\"])\n",
    "    \n",
    "    df[\"Won\"] = 0\n",
    "    df[\"Lost\"] = 0\n",
    "    df[\"Tied\"] = 0\n",
    "    \n",
    "    iterQB = df.iloc[0][\"player_name\"]\n",
    "    \n",
    "    print(iterQB, \" STARTING QB\")\n",
    "    \n",
    "    for index, qb in df.iterrows():\n",
    "        if (qb[\"player_name\"] == iterQB):\n",
    "            if (qb[\"team_abbr\"] == qb[\"Winner\"]):\n",
    "                df.at[index, \"Won\"] = 1\n",
    "            elif (qb[\"Winner\"] == \"TIE\"):\n",
    "                df.at[index, \"Tied\"] = 1\n",
    "            else:\n",
    "                df.at[index, \"Lost\"] = 1\n",
    "        else:\n",
    "            iterQB = qb[\"player_name\"]\n",
    "            if (qb[\"team_abbr\"] == qb[\"Winner\"]):\n",
    "                df.at[index, \"Won\"] = 1\n",
    "            elif (qb[\"Winner\"] == \"TIE\"):\n",
    "                df.at[index, \"Tied\"] = 1\n",
    "            else:\n",
    "                df.at[index, \"Lost\"] = 1\n",
    "\n",
    "                   \n",
    "    \n",
    "    return df"
   ]
  },
  {
   "cell_type": "code",
   "execution_count": 109,
   "id": "794ad868",
   "metadata": {},
   "outputs": [
    {
     "name": "stdout",
     "output_type": "stream",
     "text": [
      "Aaron Rodgers  STARTING QB\n"
     ]
    },
    {
     "data": {
      "text/html": [
       "<div>\n",
       "<style scoped>\n",
       "    .dataframe tbody tr th:only-of-type {\n",
       "        vertical-align: middle;\n",
       "    }\n",
       "\n",
       "    .dataframe tbody tr th {\n",
       "        vertical-align: top;\n",
       "    }\n",
       "\n",
       "    .dataframe thead th {\n",
       "        text-align: right;\n",
       "    }\n",
       "</style>\n",
       "<table border=\"1\" class=\"dataframe\">\n",
       "  <thead>\n",
       "    <tr style=\"text-align: right;\">\n",
       "      <th></th>\n",
       "      <th>player_name</th>\n",
       "      <th>team_abbr</th>\n",
       "      <th>team_color</th>\n",
       "      <th>week</th>\n",
       "      <th>defteam</th>\n",
       "      <th>passing_yards</th>\n",
       "      <th>pass_touchdown</th>\n",
       "      <th>interception</th>\n",
       "      <th>pass_attempt</th>\n",
       "      <th>complete_pass</th>\n",
       "      <th>...</th>\n",
       "      <th>differential</th>\n",
       "      <th>Week</th>\n",
       "      <th>Away</th>\n",
       "      <th>Home</th>\n",
       "      <th>AwayScore</th>\n",
       "      <th>HomeScore</th>\n",
       "      <th>Winner</th>\n",
       "      <th>Won</th>\n",
       "      <th>Lost</th>\n",
       "      <th>Tied</th>\n",
       "    </tr>\n",
       "  </thead>\n",
       "  <tbody>\n",
       "    <tr>\n",
       "      <th>94</th>\n",
       "      <td>Aaron Rodgers</td>\n",
       "      <td>GB</td>\n",
       "      <td>#203731</td>\n",
       "      <td>10</td>\n",
       "      <td>DAL</td>\n",
       "      <td>224.0</td>\n",
       "      <td>3.0</td>\n",
       "      <td>0.0</td>\n",
       "      <td>22.0</td>\n",
       "      <td>14.0</td>\n",
       "      <td>...</td>\n",
       "      <td>61.7</td>\n",
       "      <td>10</td>\n",
       "      <td>DAL</td>\n",
       "      <td>GB</td>\n",
       "      <td>28</td>\n",
       "      <td>31</td>\n",
       "      <td>GB</td>\n",
       "      <td>1</td>\n",
       "      <td>0</td>\n",
       "      <td>0</td>\n",
       "    </tr>\n",
       "    <tr>\n",
       "      <th>368</th>\n",
       "      <td>Aaron Rodgers</td>\n",
       "      <td>GB</td>\n",
       "      <td>#203731</td>\n",
       "      <td>9</td>\n",
       "      <td>DET</td>\n",
       "      <td>291.0</td>\n",
       "      <td>1.0</td>\n",
       "      <td>3.0</td>\n",
       "      <td>44.0</td>\n",
       "      <td>23.0</td>\n",
       "      <td>...</td>\n",
       "      <td>-26.1</td>\n",
       "      <td>9</td>\n",
       "      <td>GB</td>\n",
       "      <td>DET</td>\n",
       "      <td>9</td>\n",
       "      <td>15</td>\n",
       "      <td>DET</td>\n",
       "      <td>0</td>\n",
       "      <td>1</td>\n",
       "      <td>0</td>\n",
       "    </tr>\n",
       "    <tr>\n",
       "      <th>95</th>\n",
       "      <td>Aaron Rodgers</td>\n",
       "      <td>GB</td>\n",
       "      <td>#203731</td>\n",
       "      <td>17</td>\n",
       "      <td>MIN</td>\n",
       "      <td>159.0</td>\n",
       "      <td>1.0</td>\n",
       "      <td>0.0</td>\n",
       "      <td>24.0</td>\n",
       "      <td>15.0</td>\n",
       "      <td>...</td>\n",
       "      <td>50.1</td>\n",
       "      <td>17</td>\n",
       "      <td>MIN</td>\n",
       "      <td>GB</td>\n",
       "      <td>17</td>\n",
       "      <td>41</td>\n",
       "      <td>GB</td>\n",
       "      <td>1</td>\n",
       "      <td>0</td>\n",
       "      <td>0</td>\n",
       "    </tr>\n",
       "    <tr>\n",
       "      <th>294</th>\n",
       "      <td>Aaron Rodgers</td>\n",
       "      <td>GB</td>\n",
       "      <td>#203731</td>\n",
       "      <td>13</td>\n",
       "      <td>CHI</td>\n",
       "      <td>182.0</td>\n",
       "      <td>1.0</td>\n",
       "      <td>0.0</td>\n",
       "      <td>31.0</td>\n",
       "      <td>18.0</td>\n",
       "      <td>...</td>\n",
       "      <td>10.0</td>\n",
       "      <td>13</td>\n",
       "      <td>GB</td>\n",
       "      <td>CHI</td>\n",
       "      <td>28</td>\n",
       "      <td>19</td>\n",
       "      <td>GB</td>\n",
       "      <td>1</td>\n",
       "      <td>0</td>\n",
       "      <td>0</td>\n",
       "    </tr>\n",
       "    <tr>\n",
       "      <th>93</th>\n",
       "      <td>Aaron Rodgers</td>\n",
       "      <td>GB</td>\n",
       "      <td>#203731</td>\n",
       "      <td>4</td>\n",
       "      <td>NE</td>\n",
       "      <td>251.0</td>\n",
       "      <td>2.0</td>\n",
       "      <td>1.0</td>\n",
       "      <td>36.0</td>\n",
       "      <td>21.0</td>\n",
       "      <td>...</td>\n",
       "      <td>-3.1</td>\n",
       "      <td>4</td>\n",
       "      <td>NE</td>\n",
       "      <td>GB</td>\n",
       "      <td>24</td>\n",
       "      <td>27</td>\n",
       "      <td>GB</td>\n",
       "      <td>1</td>\n",
       "      <td>0</td>\n",
       "      <td>0</td>\n",
       "    </tr>\n",
       "    <tr>\n",
       "      <th>...</th>\n",
       "      <td>...</td>\n",
       "      <td>...</td>\n",
       "      <td>...</td>\n",
       "      <td>...</td>\n",
       "      <td>...</td>\n",
       "      <td>...</td>\n",
       "      <td>...</td>\n",
       "      <td>...</td>\n",
       "      <td>...</td>\n",
       "      <td>...</td>\n",
       "      <td>...</td>\n",
       "      <td>...</td>\n",
       "      <td>...</td>\n",
       "      <td>...</td>\n",
       "      <td>...</td>\n",
       "      <td>...</td>\n",
       "      <td>...</td>\n",
       "      <td>...</td>\n",
       "      <td>...</td>\n",
       "      <td>...</td>\n",
       "      <td>...</td>\n",
       "    </tr>\n",
       "    <tr>\n",
       "      <th>374</th>\n",
       "      <td>Zach Wilson</td>\n",
       "      <td>NYJ</td>\n",
       "      <td>#003F2D</td>\n",
       "      <td>4</td>\n",
       "      <td>PIT</td>\n",
       "      <td>252.0</td>\n",
       "      <td>1.0</td>\n",
       "      <td>2.0</td>\n",
       "      <td>37.0</td>\n",
       "      <td>18.0</td>\n",
       "      <td>...</td>\n",
       "      <td>-7.6</td>\n",
       "      <td>4</td>\n",
       "      <td>NYJ</td>\n",
       "      <td>PIT</td>\n",
       "      <td>24</td>\n",
       "      <td>20</td>\n",
       "      <td>NYJ</td>\n",
       "      <td>1</td>\n",
       "      <td>0</td>\n",
       "      <td>0</td>\n",
       "    </tr>\n",
       "    <tr>\n",
       "      <th>319</th>\n",
       "      <td>Zach Wilson</td>\n",
       "      <td>NYJ</td>\n",
       "      <td>#003F2D</td>\n",
       "      <td>9</td>\n",
       "      <td>BUF</td>\n",
       "      <td>154.0</td>\n",
       "      <td>1.0</td>\n",
       "      <td>0.0</td>\n",
       "      <td>27.0</td>\n",
       "      <td>18.0</td>\n",
       "      <td>...</td>\n",
       "      <td>52.7</td>\n",
       "      <td>9</td>\n",
       "      <td>BUF</td>\n",
       "      <td>NYJ</td>\n",
       "      <td>17</td>\n",
       "      <td>20</td>\n",
       "      <td>NYJ</td>\n",
       "      <td>1</td>\n",
       "      <td>0</td>\n",
       "      <td>0</td>\n",
       "    </tr>\n",
       "    <tr>\n",
       "      <th>318</th>\n",
       "      <td>Zach Wilson</td>\n",
       "      <td>NYJ</td>\n",
       "      <td>#003F2D</td>\n",
       "      <td>5</td>\n",
       "      <td>MIA</td>\n",
       "      <td>210.0</td>\n",
       "      <td>0.0</td>\n",
       "      <td>0.0</td>\n",
       "      <td>23.0</td>\n",
       "      <td>14.0</td>\n",
       "      <td>...</td>\n",
       "      <td>35.7</td>\n",
       "      <td>5</td>\n",
       "      <td>MIA</td>\n",
       "      <td>NYJ</td>\n",
       "      <td>17</td>\n",
       "      <td>40</td>\n",
       "      <td>NYJ</td>\n",
       "      <td>1</td>\n",
       "      <td>0</td>\n",
       "      <td>0</td>\n",
       "    </tr>\n",
       "    <tr>\n",
       "      <th>228</th>\n",
       "      <td>Zach Wilson</td>\n",
       "      <td>NYJ</td>\n",
       "      <td>#003F2D</td>\n",
       "      <td>6</td>\n",
       "      <td>GB</td>\n",
       "      <td>110.0</td>\n",
       "      <td>0.0</td>\n",
       "      <td>0.0</td>\n",
       "      <td>20.0</td>\n",
       "      <td>10.0</td>\n",
       "      <td>...</td>\n",
       "      <td>-13.7</td>\n",
       "      <td>6</td>\n",
       "      <td>NYJ</td>\n",
       "      <td>GB</td>\n",
       "      <td>27</td>\n",
       "      <td>10</td>\n",
       "      <td>NYJ</td>\n",
       "      <td>1</td>\n",
       "      <td>0</td>\n",
       "      <td>0</td>\n",
       "    </tr>\n",
       "    <tr>\n",
       "      <th>375</th>\n",
       "      <td>Zach Wilson</td>\n",
       "      <td>NYJ</td>\n",
       "      <td>#003F2D</td>\n",
       "      <td>11</td>\n",
       "      <td>NE</td>\n",
       "      <td>77.0</td>\n",
       "      <td>0.0</td>\n",
       "      <td>0.0</td>\n",
       "      <td>26.0</td>\n",
       "      <td>9.0</td>\n",
       "      <td>...</td>\n",
       "      <td>-47.8</td>\n",
       "      <td>11</td>\n",
       "      <td>NYJ</td>\n",
       "      <td>NE</td>\n",
       "      <td>3</td>\n",
       "      <td>10</td>\n",
       "      <td>NE</td>\n",
       "      <td>0</td>\n",
       "      <td>1</td>\n",
       "      <td>0</td>\n",
       "    </tr>\n",
       "  </tbody>\n",
       "</table>\n",
       "<p>542 rows × 22 columns</p>\n",
       "</div>"
      ],
      "text/plain": [
       "       player_name team_abbr team_color  week defteam  passing_yards  \\\n",
       "94   Aaron Rodgers        GB    #203731    10     DAL          224.0   \n",
       "368  Aaron Rodgers        GB    #203731     9     DET          291.0   \n",
       "95   Aaron Rodgers        GB    #203731    17     MIN          159.0   \n",
       "294  Aaron Rodgers        GB    #203731    13     CHI          182.0   \n",
       "93   Aaron Rodgers        GB    #203731     4      NE          251.0   \n",
       "..             ...       ...        ...   ...     ...            ...   \n",
       "374    Zach Wilson       NYJ    #003F2D     4     PIT          252.0   \n",
       "319    Zach Wilson       NYJ    #003F2D     9     BUF          154.0   \n",
       "318    Zach Wilson       NYJ    #003F2D     5     MIA          210.0   \n",
       "228    Zach Wilson       NYJ    #003F2D     6      GB          110.0   \n",
       "375    Zach Wilson       NYJ    #003F2D    11      NE           77.0   \n",
       "\n",
       "     pass_touchdown  interception  pass_attempt  complete_pass  ...  \\\n",
       "94              3.0           0.0          22.0           14.0  ...   \n",
       "368             1.0           3.0          44.0           23.0  ...   \n",
       "95              1.0           0.0          24.0           15.0  ...   \n",
       "294             1.0           0.0          31.0           18.0  ...   \n",
       "93              2.0           1.0          36.0           21.0  ...   \n",
       "..              ...           ...           ...            ...  ...   \n",
       "374             1.0           2.0          37.0           18.0  ...   \n",
       "319             1.0           0.0          27.0           18.0  ...   \n",
       "318             0.0           0.0          23.0           14.0  ...   \n",
       "228             0.0           0.0          20.0           10.0  ...   \n",
       "375             0.0           0.0          26.0            9.0  ...   \n",
       "\n",
       "     differential  Week  Away  Home AwayScore HomeScore  Winner  Won Lost  \\\n",
       "94           61.7    10   DAL    GB        28        31      GB    1    0   \n",
       "368         -26.1     9    GB   DET         9        15     DET    0    1   \n",
       "95           50.1    17   MIN    GB        17        41      GB    1    0   \n",
       "294          10.0    13    GB   CHI        28        19      GB    1    0   \n",
       "93           -3.1     4    NE    GB        24        27      GB    1    0   \n",
       "..            ...   ...   ...   ...       ...       ...     ...  ...  ...   \n",
       "374          -7.6     4   NYJ   PIT        24        20     NYJ    1    0   \n",
       "319          52.7     9   BUF   NYJ        17        20     NYJ    1    0   \n",
       "318          35.7     5   MIA   NYJ        17        40     NYJ    1    0   \n",
       "228         -13.7     6   NYJ    GB        27        10     NYJ    1    0   \n",
       "375         -47.8    11   NYJ    NE         3        10      NE    0    1   \n",
       "\n",
       "     Tied  \n",
       "94      0  \n",
       "368     0  \n",
       "95      0  \n",
       "294     0  \n",
       "93      0  \n",
       "..    ...  \n",
       "374     0  \n",
       "319     0  \n",
       "318     0  \n",
       "228     0  \n",
       "375     0  \n",
       "\n",
       "[542 rows x 22 columns]"
      ]
     },
     "execution_count": 109,
     "metadata": {},
     "output_type": "execute_result"
    }
   ],
   "source": [
    "dfQBDifRec = addRecord(resultsOutcome)\n",
    "#dfQBDifRec = dfQBDifRec.groupby([\"player_name\"])\n",
    "dfQBDifRec"
   ]
  },
  {
   "cell_type": "code",
   "execution_count": 110,
   "id": "dc5298f6",
   "metadata": {},
   "outputs": [
    {
     "data": {
      "text/html": [
       "<div>\n",
       "<style scoped>\n",
       "    .dataframe tbody tr th:only-of-type {\n",
       "        vertical-align: middle;\n",
       "    }\n",
       "\n",
       "    .dataframe tbody tr th {\n",
       "        vertical-align: top;\n",
       "    }\n",
       "\n",
       "    .dataframe thead th {\n",
       "        text-align: right;\n",
       "    }\n",
       "</style>\n",
       "<table border=\"1\" class=\"dataframe\">\n",
       "  <thead>\n",
       "    <tr style=\"text-align: right;\">\n",
       "      <th></th>\n",
       "      <th>player_name</th>\n",
       "      <th>team_abbr</th>\n",
       "      <th>team_color</th>\n",
       "      <th>Won</th>\n",
       "      <th>Lost</th>\n",
       "      <th>Tied</th>\n",
       "      <th>passer_rating</th>\n",
       "      <th>differential</th>\n",
       "    </tr>\n",
       "  </thead>\n",
       "  <tbody>\n",
       "    <tr>\n",
       "      <th>0</th>\n",
       "      <td>Aaron Rodgers</td>\n",
       "      <td>GB</td>\n",
       "      <td>#203731</td>\n",
       "      <td>8</td>\n",
       "      <td>9</td>\n",
       "      <td>0</td>\n",
       "      <td>88.323529</td>\n",
       "      <td>9.382353</td>\n",
       "    </tr>\n",
       "    <tr>\n",
       "      <th>1</th>\n",
       "      <td>Andy Dalton</td>\n",
       "      <td>NO</td>\n",
       "      <td>#D3BC8D</td>\n",
       "      <td>6</td>\n",
       "      <td>8</td>\n",
       "      <td>0</td>\n",
       "      <td>88.850000</td>\n",
       "      <td>12.792857</td>\n",
       "    </tr>\n",
       "    <tr>\n",
       "      <th>2</th>\n",
       "      <td>Anthony Brown</td>\n",
       "      <td>BAL</td>\n",
       "      <td>#241773</td>\n",
       "      <td>0</td>\n",
       "      <td>1</td>\n",
       "      <td>0</td>\n",
       "      <td>44.300000</td>\n",
       "      <td>-33.100000</td>\n",
       "    </tr>\n",
       "    <tr>\n",
       "      <th>3</th>\n",
       "      <td>Bailey Zappe</td>\n",
       "      <td>NE</td>\n",
       "      <td>#002244</td>\n",
       "      <td>2</td>\n",
       "      <td>2</td>\n",
       "      <td>0</td>\n",
       "      <td>91.575000</td>\n",
       "      <td>24.525000</td>\n",
       "    </tr>\n",
       "    <tr>\n",
       "      <th>4</th>\n",
       "      <td>Baker Mayfield</td>\n",
       "      <td>CAR</td>\n",
       "      <td>#0085CA</td>\n",
       "      <td>1</td>\n",
       "      <td>6</td>\n",
       "      <td>0</td>\n",
       "      <td>72.628571</td>\n",
       "      <td>-13.771429</td>\n",
       "    </tr>\n",
       "    <tr>\n",
       "      <th>...</th>\n",
       "      <td>...</td>\n",
       "      <td>...</td>\n",
       "      <td>...</td>\n",
       "      <td>...</td>\n",
       "      <td>...</td>\n",
       "      <td>...</td>\n",
       "      <td>...</td>\n",
       "      <td>...</td>\n",
       "    </tr>\n",
       "    <tr>\n",
       "      <th>62</th>\n",
       "      <td>Trevor Siemian</td>\n",
       "      <td>CHI</td>\n",
       "      <td>#0B162A</td>\n",
       "      <td>0</td>\n",
       "      <td>1</td>\n",
       "      <td>0</td>\n",
       "      <td>69.800000</td>\n",
       "      <td>-75.200000</td>\n",
       "    </tr>\n",
       "    <tr>\n",
       "      <th>63</th>\n",
       "      <td>Trey Lance</td>\n",
       "      <td>SF</td>\n",
       "      <td>#AA0000</td>\n",
       "      <td>0</td>\n",
       "      <td>1</td>\n",
       "      <td>0</td>\n",
       "      <td>47.100000</td>\n",
       "      <td>-29.800000</td>\n",
       "    </tr>\n",
       "    <tr>\n",
       "      <th>64</th>\n",
       "      <td>Tua Tagovailoa</td>\n",
       "      <td>MIA</td>\n",
       "      <td>#008E97</td>\n",
       "      <td>8</td>\n",
       "      <td>4</td>\n",
       "      <td>0</td>\n",
       "      <td>102.200000</td>\n",
       "      <td>11.108333</td>\n",
       "    </tr>\n",
       "    <tr>\n",
       "      <th>65</th>\n",
       "      <td>Tyler Huntley</td>\n",
       "      <td>BAL</td>\n",
       "      <td>#241773</td>\n",
       "      <td>3</td>\n",
       "      <td>2</td>\n",
       "      <td>0</td>\n",
       "      <td>76.520000</td>\n",
       "      <td>-4.980000</td>\n",
       "    </tr>\n",
       "    <tr>\n",
       "      <th>66</th>\n",
       "      <td>Zach Wilson</td>\n",
       "      <td>NYJ</td>\n",
       "      <td>#003F2D</td>\n",
       "      <td>5</td>\n",
       "      <td>4</td>\n",
       "      <td>0</td>\n",
       "      <td>66.266667</td>\n",
       "      <td>-3.744444</td>\n",
       "    </tr>\n",
       "  </tbody>\n",
       "</table>\n",
       "<p>67 rows × 8 columns</p>\n",
       "</div>"
      ],
      "text/plain": [
       "       player_name team_abbr team_color  Won  Lost  Tied  passer_rating  \\\n",
       "0    Aaron Rodgers        GB    #203731    8     9     0      88.323529   \n",
       "1      Andy Dalton        NO    #D3BC8D    6     8     0      88.850000   \n",
       "2    Anthony Brown       BAL    #241773    0     1     0      44.300000   \n",
       "3     Bailey Zappe        NE    #002244    2     2     0      91.575000   \n",
       "4   Baker Mayfield       CAR    #0085CA    1     6     0      72.628571   \n",
       "..             ...       ...        ...  ...   ...   ...            ...   \n",
       "62  Trevor Siemian       CHI    #0B162A    0     1     0      69.800000   \n",
       "63      Trey Lance        SF    #AA0000    0     1     0      47.100000   \n",
       "64  Tua Tagovailoa       MIA    #008E97    8     4     0     102.200000   \n",
       "65   Tyler Huntley       BAL    #241773    3     2     0      76.520000   \n",
       "66     Zach Wilson       NYJ    #003F2D    5     4     0      66.266667   \n",
       "\n",
       "    differential  \n",
       "0       9.382353  \n",
       "1      12.792857  \n",
       "2     -33.100000  \n",
       "3      24.525000  \n",
       "4     -13.771429  \n",
       "..           ...  \n",
       "62    -75.200000  \n",
       "63    -29.800000  \n",
       "64     11.108333  \n",
       "65     -4.980000  \n",
       "66     -3.744444  \n",
       "\n",
       "[67 rows x 8 columns]"
      ]
     },
     "execution_count": 110,
     "metadata": {},
     "output_type": "execute_result"
    }
   ],
   "source": [
    "dfQBDifRec2 = (dfQBDifRec.groupby([\"player_name\", \"team_abbr\", \"team_color\"], as_index=False)\n",
    "         .agg({\"Won\": \"sum\", \"Lost\": \"sum\", \"Tied\": \"sum\", \n",
    "               \"passer_rating\": \"mean\", \"differential\": \"mean\"})\n",
    "         )\n",
    "dfQBDifRec2"
   ]
  },
  {
   "cell_type": "code",
   "execution_count": 113,
   "id": "e2c30a3f",
   "metadata": {},
   "outputs": [
    {
     "data": {
      "text/html": [
       "<div>\n",
       "<style scoped>\n",
       "    .dataframe tbody tr th:only-of-type {\n",
       "        vertical-align: middle;\n",
       "    }\n",
       "\n",
       "    .dataframe tbody tr th {\n",
       "        vertical-align: top;\n",
       "    }\n",
       "\n",
       "    .dataframe thead th {\n",
       "        text-align: right;\n",
       "    }\n",
       "</style>\n",
       "<table border=\"1\" class=\"dataframe\">\n",
       "  <thead>\n",
       "    <tr style=\"text-align: right;\">\n",
       "      <th></th>\n",
       "      <th>player_name</th>\n",
       "      <th>team_abbr</th>\n",
       "      <th>team_color</th>\n",
       "      <th>Won</th>\n",
       "      <th>Lost</th>\n",
       "      <th>Tied</th>\n",
       "      <th>passer_rating</th>\n",
       "      <th>differential</th>\n",
       "      <th>Win%</th>\n",
       "    </tr>\n",
       "  </thead>\n",
       "  <tbody>\n",
       "    <tr>\n",
       "      <th>0</th>\n",
       "      <td>Aaron Rodgers</td>\n",
       "      <td>GB</td>\n",
       "      <td>#203731</td>\n",
       "      <td>8</td>\n",
       "      <td>9</td>\n",
       "      <td>0</td>\n",
       "      <td>88.323529</td>\n",
       "      <td>9.382353</td>\n",
       "      <td>47.06</td>\n",
       "    </tr>\n",
       "    <tr>\n",
       "      <th>1</th>\n",
       "      <td>Andy Dalton</td>\n",
       "      <td>NO</td>\n",
       "      <td>#D3BC8D</td>\n",
       "      <td>6</td>\n",
       "      <td>8</td>\n",
       "      <td>0</td>\n",
       "      <td>88.850000</td>\n",
       "      <td>12.792857</td>\n",
       "      <td>42.86</td>\n",
       "    </tr>\n",
       "    <tr>\n",
       "      <th>2</th>\n",
       "      <td>Anthony Brown</td>\n",
       "      <td>BAL</td>\n",
       "      <td>#241773</td>\n",
       "      <td>0</td>\n",
       "      <td>1</td>\n",
       "      <td>0</td>\n",
       "      <td>44.300000</td>\n",
       "      <td>-33.100000</td>\n",
       "      <td>0.00</td>\n",
       "    </tr>\n",
       "    <tr>\n",
       "      <th>3</th>\n",
       "      <td>Bailey Zappe</td>\n",
       "      <td>NE</td>\n",
       "      <td>#002244</td>\n",
       "      <td>2</td>\n",
       "      <td>2</td>\n",
       "      <td>0</td>\n",
       "      <td>91.575000</td>\n",
       "      <td>24.525000</td>\n",
       "      <td>50.00</td>\n",
       "    </tr>\n",
       "    <tr>\n",
       "      <th>4</th>\n",
       "      <td>Baker Mayfield</td>\n",
       "      <td>CAR</td>\n",
       "      <td>#0085CA</td>\n",
       "      <td>1</td>\n",
       "      <td>6</td>\n",
       "      <td>0</td>\n",
       "      <td>72.628571</td>\n",
       "      <td>-13.771429</td>\n",
       "      <td>14.29</td>\n",
       "    </tr>\n",
       "    <tr>\n",
       "      <th>...</th>\n",
       "      <td>...</td>\n",
       "      <td>...</td>\n",
       "      <td>...</td>\n",
       "      <td>...</td>\n",
       "      <td>...</td>\n",
       "      <td>...</td>\n",
       "      <td>...</td>\n",
       "      <td>...</td>\n",
       "      <td>...</td>\n",
       "    </tr>\n",
       "    <tr>\n",
       "      <th>62</th>\n",
       "      <td>Trevor Siemian</td>\n",
       "      <td>CHI</td>\n",
       "      <td>#0B162A</td>\n",
       "      <td>0</td>\n",
       "      <td>1</td>\n",
       "      <td>0</td>\n",
       "      <td>69.800000</td>\n",
       "      <td>-75.200000</td>\n",
       "      <td>0.00</td>\n",
       "    </tr>\n",
       "    <tr>\n",
       "      <th>63</th>\n",
       "      <td>Trey Lance</td>\n",
       "      <td>SF</td>\n",
       "      <td>#AA0000</td>\n",
       "      <td>0</td>\n",
       "      <td>1</td>\n",
       "      <td>0</td>\n",
       "      <td>47.100000</td>\n",
       "      <td>-29.800000</td>\n",
       "      <td>0.00</td>\n",
       "    </tr>\n",
       "    <tr>\n",
       "      <th>64</th>\n",
       "      <td>Tua Tagovailoa</td>\n",
       "      <td>MIA</td>\n",
       "      <td>#008E97</td>\n",
       "      <td>8</td>\n",
       "      <td>4</td>\n",
       "      <td>0</td>\n",
       "      <td>102.200000</td>\n",
       "      <td>11.108333</td>\n",
       "      <td>66.67</td>\n",
       "    </tr>\n",
       "    <tr>\n",
       "      <th>65</th>\n",
       "      <td>Tyler Huntley</td>\n",
       "      <td>BAL</td>\n",
       "      <td>#241773</td>\n",
       "      <td>3</td>\n",
       "      <td>2</td>\n",
       "      <td>0</td>\n",
       "      <td>76.520000</td>\n",
       "      <td>-4.980000</td>\n",
       "      <td>60.00</td>\n",
       "    </tr>\n",
       "    <tr>\n",
       "      <th>66</th>\n",
       "      <td>Zach Wilson</td>\n",
       "      <td>NYJ</td>\n",
       "      <td>#003F2D</td>\n",
       "      <td>5</td>\n",
       "      <td>4</td>\n",
       "      <td>0</td>\n",
       "      <td>66.266667</td>\n",
       "      <td>-3.744444</td>\n",
       "      <td>55.56</td>\n",
       "    </tr>\n",
       "  </tbody>\n",
       "</table>\n",
       "<p>67 rows × 9 columns</p>\n",
       "</div>"
      ],
      "text/plain": [
       "       player_name team_abbr team_color  Won  Lost  Tied  passer_rating  \\\n",
       "0    Aaron Rodgers        GB    #203731    8     9     0      88.323529   \n",
       "1      Andy Dalton        NO    #D3BC8D    6     8     0      88.850000   \n",
       "2    Anthony Brown       BAL    #241773    0     1     0      44.300000   \n",
       "3     Bailey Zappe        NE    #002244    2     2     0      91.575000   \n",
       "4   Baker Mayfield       CAR    #0085CA    1     6     0      72.628571   \n",
       "..             ...       ...        ...  ...   ...   ...            ...   \n",
       "62  Trevor Siemian       CHI    #0B162A    0     1     0      69.800000   \n",
       "63      Trey Lance        SF    #AA0000    0     1     0      47.100000   \n",
       "64  Tua Tagovailoa       MIA    #008E97    8     4     0     102.200000   \n",
       "65   Tyler Huntley       BAL    #241773    3     2     0      76.520000   \n",
       "66     Zach Wilson       NYJ    #003F2D    5     4     0      66.266667   \n",
       "\n",
       "    differential   Win%  \n",
       "0       9.382353  47.06  \n",
       "1      12.792857  42.86  \n",
       "2     -33.100000   0.00  \n",
       "3      24.525000  50.00  \n",
       "4     -13.771429  14.29  \n",
       "..           ...    ...  \n",
       "62    -75.200000   0.00  \n",
       "63    -29.800000   0.00  \n",
       "64     11.108333  66.67  \n",
       "65     -4.980000  60.00  \n",
       "66     -3.744444  55.56  \n",
       "\n",
       "[67 rows x 9 columns]"
      ]
     },
     "execution_count": 113,
     "metadata": {},
     "output_type": "execute_result"
    }
   ],
   "source": [
    "#win percentage as new column\n",
    "def getWinPercentage(df):\n",
    "    df[\"Win%\"] = 0.0\n",
    "    for index, qb in df.iterrows():\n",
    "        winPerc = qb[\"Won\"] / (qb[\"Won\"] + qb[\"Lost\"] + qb[\"Tied\"]) * 100\n",
    "        df.at[index, \"Win%\"] = round(winPerc, 2)\n",
    "    return df\n",
    "dfQBDifRec3 = getWinPercentage(dfQBDifRec2)\n",
    "dfQBDifRec3"
   ]
  },
  {
   "cell_type": "code",
   "execution_count": null,
   "id": "3fa45a49",
   "metadata": {},
   "outputs": [],
   "source": []
  },
  {
   "cell_type": "code",
   "execution_count": null,
   "id": "86b447e0",
   "metadata": {},
   "outputs": [],
   "source": [
    "#DANGER: UNDER CONSTRUCTION"
   ]
  },
  {
   "cell_type": "code",
   "execution_count": null,
   "id": "0f81cc2c",
   "metadata": {},
   "outputs": [],
   "source": [
    "#TODO: LOTS\n",
    "#Also, get the passer rating and differentials as .## format"
   ]
  },
  {
   "cell_type": "code",
   "execution_count": 209,
   "id": "c9c9d4c2",
   "metadata": {},
   "outputs": [],
   "source": [
    "def showAVGPRvsWinPerc(df):\n",
    "    fig = go.Figure()\n",
    "\n",
    "    for name, values in df.groupby(\"player_name\"):\n",
    "        if (values[\"Win%\"].sum() > 0):\n",
    "            fig.add_trace(\n",
    "                go.Scatter(\n",
    "                    x=round(values[\"passer_rating\"],2),\n",
    "                    y=values[\"Win%\"],\n",
    "                    name=name,\n",
    "                    mode=\"markers\",\n",
    "                    line_color=values.iloc[0].team_color,\n",
    "                    hovertemplate=f\"<b>{name}</b><br>%{{y}}% win rate with %{{x}} Passer Rating<extra></extra>\"\n",
    "                )\n",
    "            )\n",
    "\n",
    "        \n",
    "    fig.update_layout(\n",
    "        font_family=\"Averta, sans-serif\",\n",
    "        hoverlabel_font_family=\"Averta, sans-serif\",\n",
    "        xaxis_title_text=\"Passer Rating\",\n",
    "        xaxis_title_font_size=18,\n",
    "        xaxis_tickfont_size=16,\n",
    "        yaxis_title_text=\"Win Percentage\",\n",
    "        yaxis_title_font_size=18,\n",
    "        yaxis_tickfont_size=16,\n",
    "        hoverlabel_font_size=16,\n",
    "        legend_font_size=16,\n",
    "        height=1000,\n",
    "        width=1000\n",
    "    )\n",
    "\n",
    "    fig.show()"
   ]
  },
  {
   "cell_type": "code",
   "execution_count": 210,
   "id": "1fc55020",
   "metadata": {},
   "outputs": [],
   "source": [
    "def showDiffvsWinPerc(df):\n",
    "    fig = go.Figure()\n",
    "\n",
    "    for name, values in df.groupby(\"player_name\"):\n",
    "        if (values[\"Win%\"].sum() > 0):\n",
    "            fig.add_trace(\n",
    "                go.Scatter(\n",
    "                    x=round(values[\"differential\"],2),\n",
    "                    y=values[\"Win%\"],\n",
    "                    name=name,\n",
    "                    mode=\"markers\",\n",
    "                    line_color=values.iloc[0].team_color,\n",
    "                    hovertemplate=f\"<b>{name}</b><br>%{{y}}% win rate with %{{x}} Passer Rating Differential<extra></extra>\"\n",
    "                )\n",
    "            )\n",
    "\n",
    "        \n",
    "    fig.update_layout(\n",
    "        font_family=\"Averta, sans-serif\",\n",
    "        hoverlabel_font_family=\"Averta, sans-serif\",\n",
    "        xaxis_title_text=\"Passer Rating Differential\",\n",
    "        xaxis_title_font_size=18,\n",
    "        xaxis_tickfont_size=16,\n",
    "        yaxis_title_text=\"Win Percentage\",\n",
    "        yaxis_title_font_size=18,\n",
    "        yaxis_tickfont_size=16,\n",
    "        hoverlabel_font_size=16,\n",
    "        legend_font_size=16,\n",
    "        height=1000,\n",
    "        width=1000\n",
    "    )\n",
    "\n",
    "    fig.show()"
   ]
  },
  {
   "cell_type": "code",
   "execution_count": 211,
   "id": "d39d0919",
   "metadata": {},
   "outputs": [
    {
     "data": {
      "application/vnd.plotly.v1+json": {
       "config": {
        "plotlyServerURL": "https://plot.ly"
       },
       "data": [
        {
         "hovertemplate": "<b>Aaron Rodgers</b><br>%{y}% win rate with %{x} Passer Rating<extra></extra>",
         "line": {
          "color": "#203731"
         },
         "mode": "markers",
         "name": "Aaron Rodgers",
         "type": "scatter",
         "x": [
          88.32
         ],
         "y": [
          47.06
         ]
        },
        {
         "hovertemplate": "<b>Andy Dalton</b><br>%{y}% win rate with %{x} Passer Rating<extra></extra>",
         "line": {
          "color": "#D3BC8D"
         },
         "mode": "markers",
         "name": "Andy Dalton",
         "type": "scatter",
         "x": [
          88.85
         ],
         "y": [
          42.86
         ]
        },
        {
         "hovertemplate": "<b>Bailey Zappe</b><br>%{y}% win rate with %{x} Passer Rating<extra></extra>",
         "line": {
          "color": "#002244"
         },
         "mode": "markers",
         "name": "Bailey Zappe",
         "type": "scatter",
         "x": [
          91.58
         ],
         "y": [
          50
         ]
        },
        {
         "hovertemplate": "<b>Baker Mayfield</b><br>%{y}% win rate with %{x} Passer Rating<extra></extra>",
         "line": {
          "color": "#0085CA"
         },
         "mode": "markers",
         "name": "Baker Mayfield",
         "type": "scatter",
         "x": [
          72.63,
          75.24
         ],
         "y": [
          14.29,
          40
         ]
        },
        {
         "hovertemplate": "<b>Brett Rypien</b><br>%{y}% win rate with %{x} Passer Rating<extra></extra>",
         "line": {
          "color": "#002244"
         },
         "mode": "markers",
         "name": "Brett Rypien",
         "type": "scatter",
         "x": [
          66.6
         ],
         "y": [
          50
         ]
        },
        {
         "hovertemplate": "<b>Brock Purdy</b><br>%{y}% win rate with %{x} Passer Rating<extra></extra>",
         "line": {
          "color": "#AA0000"
         },
         "mode": "markers",
         "name": "Brock Purdy",
         "type": "scatter",
         "x": [
          108.37
         ],
         "y": [
          100
         ]
        },
        {
         "hovertemplate": "<b>Carson Wentz</b><br>%{y}% win rate with %{x} Passer Rating<extra></extra>",
         "line": {
          "color": "#5A1414"
         },
         "mode": "markers",
         "name": "Carson Wentz",
         "type": "scatter",
         "x": [
          68.69
         ],
         "y": [
          28.57
         ]
        },
        {
         "hovertemplate": "<b>Colt McCoy</b><br>%{y}% win rate with %{x} Passer Rating<extra></extra>",
         "line": {
          "color": "#97233F"
         },
         "mode": "markers",
         "name": "Colt McCoy",
         "type": "scatter",
         "x": [
          75.07
         ],
         "y": [
          33.33
         ]
        },
        {
         "hovertemplate": "<b>Cooper Rush</b><br>%{y}% win rate with %{x} Passer Rating<extra></extra>",
         "line": {
          "color": "#002244"
         },
         "mode": "markers",
         "name": "Cooper Rush",
         "type": "scatter",
         "x": [
          80.6
         ],
         "y": [
          80
         ]
        },
        {
         "hovertemplate": "<b>Dak Prescott</b><br>%{y}% win rate with %{x} Passer Rating<extra></extra>",
         "line": {
          "color": "#002244"
         },
         "mode": "markers",
         "name": "Dak Prescott",
         "type": "scatter",
         "x": [
          88.72
         ],
         "y": [
          66.67
         ]
        },
        {
         "hovertemplate": "<b>Daniel Jones</b><br>%{y}% win rate with %{x} Passer Rating<extra></extra>",
         "line": {
          "color": "#0B2265"
         },
         "mode": "markers",
         "name": "Daniel Jones",
         "type": "scatter",
         "x": [
          88.19
         ],
         "y": [
          56.25
         ]
        },
        {
         "hovertemplate": "<b>Davis Mills</b><br>%{y}% win rate with %{x} Passer Rating<extra></extra>",
         "line": {
          "color": "#03202F"
         },
         "mode": "markers",
         "name": "Davis Mills",
         "type": "scatter",
         "x": [
          74.48
         ],
         "y": [
          20
         ]
        },
        {
         "hovertemplate": "<b>Derek Carr</b><br>%{y}% win rate with %{x} Passer Rating<extra></extra>",
         "line": {
          "color": "#000000"
         },
         "mode": "markers",
         "name": "Derek Carr",
         "type": "scatter",
         "x": [
          80.54
         ],
         "y": [
          40
         ]
        },
        {
         "hovertemplate": "<b>Deshaun Watson</b><br>%{y}% win rate with %{x} Passer Rating<extra></extra>",
         "line": {
          "color": "#FF3C00"
         },
         "mode": "markers",
         "name": "Deshaun Watson",
         "type": "scatter",
         "x": [
          71.77
         ],
         "y": [
          50
         ]
        },
        {
         "hovertemplate": "<b>Desmond Ridder</b><br>%{y}% win rate with %{x} Passer Rating<extra></extra>",
         "line": {
          "color": "#A71930"
         },
         "mode": "markers",
         "name": "Desmond Ridder",
         "type": "scatter",
         "x": [
          80.12
         ],
         "y": [
          50
         ]
        },
        {
         "hovertemplate": "<b>Geno Smith</b><br>%{y}% win rate with %{x} Passer Rating<extra></extra>",
         "line": {
          "color": "#002244"
         },
         "mode": "markers",
         "name": "Geno Smith",
         "type": "scatter",
         "x": [
          94.69
         ],
         "y": [
          52.94
         ]
        },
        {
         "hovertemplate": "<b>Jacoby Brissett</b><br>%{y}% win rate with %{x} Passer Rating<extra></extra>",
         "line": {
          "color": "#FF3C00"
         },
         "mode": "markers",
         "name": "Jacoby Brissett",
         "type": "scatter",
         "x": [
          87.12
         ],
         "y": [
          36.36
         ]
        },
        {
         "hovertemplate": "<b>Jalen Hurts</b><br>%{y}% win rate with %{x} Passer Rating<extra></extra>",
         "line": {
          "color": "#004C54"
         },
         "mode": "markers",
         "name": "Jalen Hurts",
         "type": "scatter",
         "x": [
          93.59
         ],
         "y": [
          93.33
         ]
        },
        {
         "hovertemplate": "<b>Jameis Winston</b><br>%{y}% win rate with %{x} Passer Rating<extra></extra>",
         "line": {
          "color": "#D3BC8D"
         },
         "mode": "markers",
         "name": "Jameis Winston",
         "type": "scatter",
         "x": [
          76.2
         ],
         "y": [
          33.33
         ]
        },
        {
         "hovertemplate": "<b>Jared Goff</b><br>%{y}% win rate with %{x} Passer Rating<extra></extra>",
         "line": {
          "color": "#0076B6"
         },
         "mode": "markers",
         "name": "Jared Goff",
         "type": "scatter",
         "x": [
          95.09
         ],
         "y": [
          52.94
         ]
        },
        {
         "hovertemplate": "<b>Jimmy Garoppolo</b><br>%{y}% win rate with %{x} Passer Rating<extra></extra>",
         "line": {
          "color": "#AA0000"
         },
         "mode": "markers",
         "name": "Jimmy Garoppolo",
         "type": "scatter",
         "x": [
          98.41
         ],
         "y": [
          70
         ]
        },
        {
         "hovertemplate": "<b>Joe Burrow</b><br>%{y}% win rate with %{x} Passer Rating<extra></extra>",
         "line": {
          "color": "#FB4F14"
         },
         "mode": "markers",
         "name": "Joe Burrow",
         "type": "scatter",
         "x": [
          96.37
         ],
         "y": [
          75
         ]
        },
        {
         "hovertemplate": "<b>Joe Flacco</b><br>%{y}% win rate with %{x} Passer Rating<extra></extra>",
         "line": {
          "color": "#003F2D"
         },
         "mode": "markers",
         "name": "Joe Flacco",
         "type": "scatter",
         "x": [
          73.42
         ],
         "y": [
          25
         ]
        },
        {
         "hovertemplate": "<b>Josh Allen</b><br>%{y}% win rate with %{x} Passer Rating<extra></extra>",
         "line": {
          "color": "#00338D"
         },
         "mode": "markers",
         "name": "Josh Allen",
         "type": "scatter",
         "x": [
          91.02
         ],
         "y": [
          81.25
         ]
        },
        {
         "hovertemplate": "<b>Justin Fields</b><br>%{y}% win rate with %{x} Passer Rating<extra></extra>",
         "line": {
          "color": "#0B162A"
         },
         "mode": "markers",
         "name": "Justin Fields",
         "type": "scatter",
         "x": [
          71.93
         ],
         "y": [
          20
         ]
        },
        {
         "hovertemplate": "<b>Justin Herbert</b><br>%{y}% win rate with %{x} Passer Rating<extra></extra>",
         "line": {
          "color": "#007BC7"
         },
         "mode": "markers",
         "name": "Justin Herbert",
         "type": "scatter",
         "x": [
          90.36
         ],
         "y": [
          58.82
         ]
        },
        {
         "hovertemplate": "<b>Kenny Pickett</b><br>%{y}% win rate with %{x} Passer Rating<extra></extra>",
         "line": {
          "color": "#000000"
         },
         "mode": "markers",
         "name": "Kenny Pickett",
         "type": "scatter",
         "x": [
          74.23
         ],
         "y": [
          54.55
         ]
        },
        {
         "hovertemplate": "<b>Kirk Cousins</b><br>%{y}% win rate with %{x} Passer Rating<extra></extra>",
         "line": {
          "color": "#4F2683"
         },
         "mode": "markers",
         "name": "Kirk Cousins",
         "type": "scatter",
         "x": [
          87.67
         ],
         "y": [
          76.47
         ]
        },
        {
         "hovertemplate": "<b>Kyler Murray</b><br>%{y}% win rate with %{x} Passer Rating<extra></extra>",
         "line": {
          "color": "#97233F"
         },
         "mode": "markers",
         "name": "Kyler Murray",
         "type": "scatter",
         "x": [
          83.87
         ],
         "y": [
          30
         ]
        },
        {
         "hovertemplate": "<b>Lamar Jackson</b><br>%{y}% win rate with %{x} Passer Rating<extra></extra>",
         "line": {
          "color": "#241773"
         },
         "mode": "markers",
         "name": "Lamar Jackson",
         "type": "scatter",
         "x": [
          84.8
         ],
         "y": [
          63.64
         ]
        },
        {
         "hovertemplate": "<b>Mac Jones</b><br>%{y}% win rate with %{x} Passer Rating<extra></extra>",
         "line": {
          "color": "#002244"
         },
         "mode": "markers",
         "name": "Mac Jones",
         "type": "scatter",
         "x": [
          80.02
         ],
         "y": [
          46.15
         ]
        },
        {
         "hovertemplate": "<b>Malik Willis</b><br>%{y}% win rate with %{x} Passer Rating<extra></extra>",
         "line": {
          "color": "#002244"
         },
         "mode": "markers",
         "name": "Malik Willis",
         "type": "scatter",
         "x": [
          33.47
         ],
         "y": [
          33.33
         ]
        },
        {
         "hovertemplate": "<b>Marcus Mariota</b><br>%{y}% win rate with %{x} Passer Rating<extra></extra>",
         "line": {
          "color": "#A71930"
         },
         "mode": "markers",
         "name": "Marcus Mariota",
         "type": "scatter",
         "x": [
          83.66
         ],
         "y": [
          38.46
         ]
        },
        {
         "hovertemplate": "<b>Matt Ryan</b><br>%{y}% win rate with %{x} Passer Rating<extra></extra>",
         "line": {
          "color": "#002C5F"
         },
         "mode": "markers",
         "name": "Matt Ryan",
         "type": "scatter",
         "x": [
          77.12
         ],
         "y": [
          33.33
         ]
        },
        {
         "hovertemplate": "<b>Matthew Stafford</b><br>%{y}% win rate with %{x} Passer Rating<extra></extra>",
         "line": {
          "color": "#003594"
         },
         "mode": "markers",
         "name": "Matthew Stafford",
         "type": "scatter",
         "x": [
          84.7
         ],
         "y": [
          33.33
         ]
        },
        {
         "hovertemplate": "<b>Mike White</b><br>%{y}% win rate with %{x} Passer Rating<extra></extra>",
         "line": {
          "color": "#003F2D"
         },
         "mode": "markers",
         "name": "Mike White",
         "type": "scatter",
         "x": [
          80.32
         ],
         "y": [
          25
         ]
        },
        {
         "hovertemplate": "<b>Mitchell Trubisky</b><br>%{y}% win rate with %{x} Passer Rating<extra></extra>",
         "line": {
          "color": "#000000"
         },
         "mode": "markers",
         "name": "Mitchell Trubisky",
         "type": "scatter",
         "x": [
          86.98
         ],
         "y": [
          50
         ]
        },
        {
         "hovertemplate": "<b>Patrick Mahomes</b><br>%{y}% win rate with %{x} Passer Rating<extra></extra>",
         "line": {
          "color": "#E31837"
         },
         "mode": "markers",
         "name": "Patrick Mahomes",
         "type": "scatter",
         "x": [
          102.21
         ],
         "y": [
          82.35
         ]
        },
        {
         "hovertemplate": "<b>Phillip Walker</b><br>%{y}% win rate with %{x} Passer Rating<extra></extra>",
         "line": {
          "color": "#0085CA"
         },
         "mode": "markers",
         "name": "Phillip Walker",
         "type": "scatter",
         "x": [
          84.82
         ],
         "y": [
          50
         ]
        },
        {
         "hovertemplate": "<b>Russell Wilson</b><br>%{y}% win rate with %{x} Passer Rating<extra></extra>",
         "line": {
          "color": "#002244"
         },
         "mode": "markers",
         "name": "Russell Wilson",
         "type": "scatter",
         "x": [
          77.85
         ],
         "y": [
          26.67
         ]
        },
        {
         "hovertemplate": "<b>Ryan Tannehill</b><br>%{y}% win rate with %{x} Passer Rating<extra></extra>",
         "line": {
          "color": "#002244"
         },
         "mode": "markers",
         "name": "Ryan Tannehill",
         "type": "scatter",
         "x": [
          84.73
         ],
         "y": [
          50
         ]
        },
        {
         "hovertemplate": "<b>Sam Darnold</b><br>%{y}% win rate with %{x} Passer Rating<extra></extra>",
         "line": {
          "color": "#0085CA"
         },
         "mode": "markers",
         "name": "Sam Darnold",
         "type": "scatter",
         "x": [
          84.68
         ],
         "y": [
          66.67
         ]
        },
        {
         "hovertemplate": "<b>Sam Howell</b><br>%{y}% win rate with %{x} Passer Rating<extra></extra>",
         "line": {
          "color": "#5A1414"
         },
         "mode": "markers",
         "name": "Sam Howell",
         "type": "scatter",
         "x": [
          72
         ],
         "y": [
          100
         ]
        },
        {
         "hovertemplate": "<b>Skylar Thompson</b><br>%{y}% win rate with %{x} Passer Rating<extra></extra>",
         "line": {
          "color": "#008E97"
         },
         "mode": "markers",
         "name": "Skylar Thompson",
         "type": "scatter",
         "x": [
          64.6
         ],
         "y": [
          50
         ]
        },
        {
         "hovertemplate": "<b>Taylor Heinicke</b><br>%{y}% win rate with %{x} Passer Rating<extra></extra>",
         "line": {
          "color": "#5A1414"
         },
         "mode": "markers",
         "name": "Taylor Heinicke",
         "type": "scatter",
         "x": [
          84.52
         ],
         "y": [
          55.56
         ]
        },
        {
         "hovertemplate": "<b>Tom Brady</b><br>%{y}% win rate with %{x} Passer Rating<extra></extra>",
         "line": {
          "color": "#A71930"
         },
         "mode": "markers",
         "name": "Tom Brady",
         "type": "scatter",
         "x": [
          89.55
         ],
         "y": [
          47.06
         ]
        },
        {
         "hovertemplate": "<b>Trevor Lawrence</b><br>%{y}% win rate with %{x} Passer Rating<extra></extra>",
         "line": {
          "color": "#006778"
         },
         "mode": "markers",
         "name": "Trevor Lawrence",
         "type": "scatter",
         "x": [
          90.84
         ],
         "y": [
          52.94
         ]
        },
        {
         "hovertemplate": "<b>Tua Tagovailoa</b><br>%{y}% win rate with %{x} Passer Rating<extra></extra>",
         "line": {
          "color": "#008E97"
         },
         "mode": "markers",
         "name": "Tua Tagovailoa",
         "type": "scatter",
         "x": [
          102.2
         ],
         "y": [
          66.67
         ]
        },
        {
         "hovertemplate": "<b>Tyler Huntley</b><br>%{y}% win rate with %{x} Passer Rating<extra></extra>",
         "line": {
          "color": "#241773"
         },
         "mode": "markers",
         "name": "Tyler Huntley",
         "type": "scatter",
         "x": [
          76.52
         ],
         "y": [
          60
         ]
        },
        {
         "hovertemplate": "<b>Zach Wilson</b><br>%{y}% win rate with %{x} Passer Rating<extra></extra>",
         "line": {
          "color": "#003F2D"
         },
         "mode": "markers",
         "name": "Zach Wilson",
         "type": "scatter",
         "x": [
          66.27
         ],
         "y": [
          55.56
         ]
        }
       ],
       "layout": {
        "font": {
         "family": "Averta, sans-serif"
        },
        "height": 1000,
        "hoverlabel": {
         "font": {
          "family": "Averta, sans-serif",
          "size": 16
         }
        },
        "legend": {
         "font": {
          "size": 16
         }
        },
        "template": {
         "data": {
          "bar": [
           {
            "error_x": {
             "color": "#2a3f5f"
            },
            "error_y": {
             "color": "#2a3f5f"
            },
            "marker": {
             "line": {
              "color": "#E5ECF6",
              "width": 0.5
             },
             "pattern": {
              "fillmode": "overlay",
              "size": 10,
              "solidity": 0.2
             }
            },
            "type": "bar"
           }
          ],
          "barpolar": [
           {
            "marker": {
             "line": {
              "color": "#E5ECF6",
              "width": 0.5
             },
             "pattern": {
              "fillmode": "overlay",
              "size": 10,
              "solidity": 0.2
             }
            },
            "type": "barpolar"
           }
          ],
          "carpet": [
           {
            "aaxis": {
             "endlinecolor": "#2a3f5f",
             "gridcolor": "white",
             "linecolor": "white",
             "minorgridcolor": "white",
             "startlinecolor": "#2a3f5f"
            },
            "baxis": {
             "endlinecolor": "#2a3f5f",
             "gridcolor": "white",
             "linecolor": "white",
             "minorgridcolor": "white",
             "startlinecolor": "#2a3f5f"
            },
            "type": "carpet"
           }
          ],
          "choropleth": [
           {
            "colorbar": {
             "outlinewidth": 0,
             "ticks": ""
            },
            "type": "choropleth"
           }
          ],
          "contour": [
           {
            "colorbar": {
             "outlinewidth": 0,
             "ticks": ""
            },
            "colorscale": [
             [
              0,
              "#0d0887"
             ],
             [
              0.1111111111111111,
              "#46039f"
             ],
             [
              0.2222222222222222,
              "#7201a8"
             ],
             [
              0.3333333333333333,
              "#9c179e"
             ],
             [
              0.4444444444444444,
              "#bd3786"
             ],
             [
              0.5555555555555556,
              "#d8576b"
             ],
             [
              0.6666666666666666,
              "#ed7953"
             ],
             [
              0.7777777777777778,
              "#fb9f3a"
             ],
             [
              0.8888888888888888,
              "#fdca26"
             ],
             [
              1,
              "#f0f921"
             ]
            ],
            "type": "contour"
           }
          ],
          "contourcarpet": [
           {
            "colorbar": {
             "outlinewidth": 0,
             "ticks": ""
            },
            "type": "contourcarpet"
           }
          ],
          "heatmap": [
           {
            "colorbar": {
             "outlinewidth": 0,
             "ticks": ""
            },
            "colorscale": [
             [
              0,
              "#0d0887"
             ],
             [
              0.1111111111111111,
              "#46039f"
             ],
             [
              0.2222222222222222,
              "#7201a8"
             ],
             [
              0.3333333333333333,
              "#9c179e"
             ],
             [
              0.4444444444444444,
              "#bd3786"
             ],
             [
              0.5555555555555556,
              "#d8576b"
             ],
             [
              0.6666666666666666,
              "#ed7953"
             ],
             [
              0.7777777777777778,
              "#fb9f3a"
             ],
             [
              0.8888888888888888,
              "#fdca26"
             ],
             [
              1,
              "#f0f921"
             ]
            ],
            "type": "heatmap"
           }
          ],
          "heatmapgl": [
           {
            "colorbar": {
             "outlinewidth": 0,
             "ticks": ""
            },
            "colorscale": [
             [
              0,
              "#0d0887"
             ],
             [
              0.1111111111111111,
              "#46039f"
             ],
             [
              0.2222222222222222,
              "#7201a8"
             ],
             [
              0.3333333333333333,
              "#9c179e"
             ],
             [
              0.4444444444444444,
              "#bd3786"
             ],
             [
              0.5555555555555556,
              "#d8576b"
             ],
             [
              0.6666666666666666,
              "#ed7953"
             ],
             [
              0.7777777777777778,
              "#fb9f3a"
             ],
             [
              0.8888888888888888,
              "#fdca26"
             ],
             [
              1,
              "#f0f921"
             ]
            ],
            "type": "heatmapgl"
           }
          ],
          "histogram": [
           {
            "marker": {
             "pattern": {
              "fillmode": "overlay",
              "size": 10,
              "solidity": 0.2
             }
            },
            "type": "histogram"
           }
          ],
          "histogram2d": [
           {
            "colorbar": {
             "outlinewidth": 0,
             "ticks": ""
            },
            "colorscale": [
             [
              0,
              "#0d0887"
             ],
             [
              0.1111111111111111,
              "#46039f"
             ],
             [
              0.2222222222222222,
              "#7201a8"
             ],
             [
              0.3333333333333333,
              "#9c179e"
             ],
             [
              0.4444444444444444,
              "#bd3786"
             ],
             [
              0.5555555555555556,
              "#d8576b"
             ],
             [
              0.6666666666666666,
              "#ed7953"
             ],
             [
              0.7777777777777778,
              "#fb9f3a"
             ],
             [
              0.8888888888888888,
              "#fdca26"
             ],
             [
              1,
              "#f0f921"
             ]
            ],
            "type": "histogram2d"
           }
          ],
          "histogram2dcontour": [
           {
            "colorbar": {
             "outlinewidth": 0,
             "ticks": ""
            },
            "colorscale": [
             [
              0,
              "#0d0887"
             ],
             [
              0.1111111111111111,
              "#46039f"
             ],
             [
              0.2222222222222222,
              "#7201a8"
             ],
             [
              0.3333333333333333,
              "#9c179e"
             ],
             [
              0.4444444444444444,
              "#bd3786"
             ],
             [
              0.5555555555555556,
              "#d8576b"
             ],
             [
              0.6666666666666666,
              "#ed7953"
             ],
             [
              0.7777777777777778,
              "#fb9f3a"
             ],
             [
              0.8888888888888888,
              "#fdca26"
             ],
             [
              1,
              "#f0f921"
             ]
            ],
            "type": "histogram2dcontour"
           }
          ],
          "mesh3d": [
           {
            "colorbar": {
             "outlinewidth": 0,
             "ticks": ""
            },
            "type": "mesh3d"
           }
          ],
          "parcoords": [
           {
            "line": {
             "colorbar": {
              "outlinewidth": 0,
              "ticks": ""
             }
            },
            "type": "parcoords"
           }
          ],
          "pie": [
           {
            "automargin": true,
            "type": "pie"
           }
          ],
          "scatter": [
           {
            "fillpattern": {
             "fillmode": "overlay",
             "size": 10,
             "solidity": 0.2
            },
            "type": "scatter"
           }
          ],
          "scatter3d": [
           {
            "line": {
             "colorbar": {
              "outlinewidth": 0,
              "ticks": ""
             }
            },
            "marker": {
             "colorbar": {
              "outlinewidth": 0,
              "ticks": ""
             }
            },
            "type": "scatter3d"
           }
          ],
          "scattercarpet": [
           {
            "marker": {
             "colorbar": {
              "outlinewidth": 0,
              "ticks": ""
             }
            },
            "type": "scattercarpet"
           }
          ],
          "scattergeo": [
           {
            "marker": {
             "colorbar": {
              "outlinewidth": 0,
              "ticks": ""
             }
            },
            "type": "scattergeo"
           }
          ],
          "scattergl": [
           {
            "marker": {
             "colorbar": {
              "outlinewidth": 0,
              "ticks": ""
             }
            },
            "type": "scattergl"
           }
          ],
          "scattermapbox": [
           {
            "marker": {
             "colorbar": {
              "outlinewidth": 0,
              "ticks": ""
             }
            },
            "type": "scattermapbox"
           }
          ],
          "scatterpolar": [
           {
            "marker": {
             "colorbar": {
              "outlinewidth": 0,
              "ticks": ""
             }
            },
            "type": "scatterpolar"
           }
          ],
          "scatterpolargl": [
           {
            "marker": {
             "colorbar": {
              "outlinewidth": 0,
              "ticks": ""
             }
            },
            "type": "scatterpolargl"
           }
          ],
          "scatterternary": [
           {
            "marker": {
             "colorbar": {
              "outlinewidth": 0,
              "ticks": ""
             }
            },
            "type": "scatterternary"
           }
          ],
          "surface": [
           {
            "colorbar": {
             "outlinewidth": 0,
             "ticks": ""
            },
            "colorscale": [
             [
              0,
              "#0d0887"
             ],
             [
              0.1111111111111111,
              "#46039f"
             ],
             [
              0.2222222222222222,
              "#7201a8"
             ],
             [
              0.3333333333333333,
              "#9c179e"
             ],
             [
              0.4444444444444444,
              "#bd3786"
             ],
             [
              0.5555555555555556,
              "#d8576b"
             ],
             [
              0.6666666666666666,
              "#ed7953"
             ],
             [
              0.7777777777777778,
              "#fb9f3a"
             ],
             [
              0.8888888888888888,
              "#fdca26"
             ],
             [
              1,
              "#f0f921"
             ]
            ],
            "type": "surface"
           }
          ],
          "table": [
           {
            "cells": {
             "fill": {
              "color": "#EBF0F8"
             },
             "line": {
              "color": "white"
             }
            },
            "header": {
             "fill": {
              "color": "#C8D4E3"
             },
             "line": {
              "color": "white"
             }
            },
            "type": "table"
           }
          ]
         },
         "layout": {
          "annotationdefaults": {
           "arrowcolor": "#2a3f5f",
           "arrowhead": 0,
           "arrowwidth": 1
          },
          "autotypenumbers": "strict",
          "coloraxis": {
           "colorbar": {
            "outlinewidth": 0,
            "ticks": ""
           }
          },
          "colorscale": {
           "diverging": [
            [
             0,
             "#8e0152"
            ],
            [
             0.1,
             "#c51b7d"
            ],
            [
             0.2,
             "#de77ae"
            ],
            [
             0.3,
             "#f1b6da"
            ],
            [
             0.4,
             "#fde0ef"
            ],
            [
             0.5,
             "#f7f7f7"
            ],
            [
             0.6,
             "#e6f5d0"
            ],
            [
             0.7,
             "#b8e186"
            ],
            [
             0.8,
             "#7fbc41"
            ],
            [
             0.9,
             "#4d9221"
            ],
            [
             1,
             "#276419"
            ]
           ],
           "sequential": [
            [
             0,
             "#0d0887"
            ],
            [
             0.1111111111111111,
             "#46039f"
            ],
            [
             0.2222222222222222,
             "#7201a8"
            ],
            [
             0.3333333333333333,
             "#9c179e"
            ],
            [
             0.4444444444444444,
             "#bd3786"
            ],
            [
             0.5555555555555556,
             "#d8576b"
            ],
            [
             0.6666666666666666,
             "#ed7953"
            ],
            [
             0.7777777777777778,
             "#fb9f3a"
            ],
            [
             0.8888888888888888,
             "#fdca26"
            ],
            [
             1,
             "#f0f921"
            ]
           ],
           "sequentialminus": [
            [
             0,
             "#0d0887"
            ],
            [
             0.1111111111111111,
             "#46039f"
            ],
            [
             0.2222222222222222,
             "#7201a8"
            ],
            [
             0.3333333333333333,
             "#9c179e"
            ],
            [
             0.4444444444444444,
             "#bd3786"
            ],
            [
             0.5555555555555556,
             "#d8576b"
            ],
            [
             0.6666666666666666,
             "#ed7953"
            ],
            [
             0.7777777777777778,
             "#fb9f3a"
            ],
            [
             0.8888888888888888,
             "#fdca26"
            ],
            [
             1,
             "#f0f921"
            ]
           ]
          },
          "colorway": [
           "#636efa",
           "#EF553B",
           "#00cc96",
           "#ab63fa",
           "#FFA15A",
           "#19d3f3",
           "#FF6692",
           "#B6E880",
           "#FF97FF",
           "#FECB52"
          ],
          "font": {
           "color": "#2a3f5f"
          },
          "geo": {
           "bgcolor": "white",
           "lakecolor": "white",
           "landcolor": "#E5ECF6",
           "showlakes": true,
           "showland": true,
           "subunitcolor": "white"
          },
          "hoverlabel": {
           "align": "left"
          },
          "hovermode": "closest",
          "mapbox": {
           "style": "light"
          },
          "paper_bgcolor": "white",
          "plot_bgcolor": "#E5ECF6",
          "polar": {
           "angularaxis": {
            "gridcolor": "white",
            "linecolor": "white",
            "ticks": ""
           },
           "bgcolor": "#E5ECF6",
           "radialaxis": {
            "gridcolor": "white",
            "linecolor": "white",
            "ticks": ""
           }
          },
          "scene": {
           "xaxis": {
            "backgroundcolor": "#E5ECF6",
            "gridcolor": "white",
            "gridwidth": 2,
            "linecolor": "white",
            "showbackground": true,
            "ticks": "",
            "zerolinecolor": "white"
           },
           "yaxis": {
            "backgroundcolor": "#E5ECF6",
            "gridcolor": "white",
            "gridwidth": 2,
            "linecolor": "white",
            "showbackground": true,
            "ticks": "",
            "zerolinecolor": "white"
           },
           "zaxis": {
            "backgroundcolor": "#E5ECF6",
            "gridcolor": "white",
            "gridwidth": 2,
            "linecolor": "white",
            "showbackground": true,
            "ticks": "",
            "zerolinecolor": "white"
           }
          },
          "shapedefaults": {
           "line": {
            "color": "#2a3f5f"
           }
          },
          "ternary": {
           "aaxis": {
            "gridcolor": "white",
            "linecolor": "white",
            "ticks": ""
           },
           "baxis": {
            "gridcolor": "white",
            "linecolor": "white",
            "ticks": ""
           },
           "bgcolor": "#E5ECF6",
           "caxis": {
            "gridcolor": "white",
            "linecolor": "white",
            "ticks": ""
           }
          },
          "title": {
           "x": 0.05
          },
          "xaxis": {
           "automargin": true,
           "gridcolor": "white",
           "linecolor": "white",
           "ticks": "",
           "title": {
            "standoff": 15
           },
           "zerolinecolor": "white",
           "zerolinewidth": 2
          },
          "yaxis": {
           "automargin": true,
           "gridcolor": "white",
           "linecolor": "white",
           "ticks": "",
           "title": {
            "standoff": 15
           },
           "zerolinecolor": "white",
           "zerolinewidth": 2
          }
         }
        },
        "width": 1000,
        "xaxis": {
         "tickfont": {
          "size": 16
         },
         "title": {
          "font": {
           "size": 18
          },
          "text": "Passer Rating"
         }
        },
        "yaxis": {
         "tickfont": {
          "size": 16
         },
         "title": {
          "font": {
           "size": 18
          },
          "text": "Win Percentage"
         }
        }
       }
      },
      "text/html": [
       "<div>                            <div id=\"5861d9c6-aded-4d27-85ab-4af438289a46\" class=\"plotly-graph-div\" style=\"height:1000px; width:1000px;\"></div>            <script type=\"text/javascript\">                require([\"plotly\"], function(Plotly) {                    window.PLOTLYENV=window.PLOTLYENV || {};                                    if (document.getElementById(\"5861d9c6-aded-4d27-85ab-4af438289a46\")) {                    Plotly.newPlot(                        \"5861d9c6-aded-4d27-85ab-4af438289a46\",                        [{\"hovertemplate\":\"<b>Aaron Rodgers</b><br>%{y}% win rate with %{x} Passer Rating<extra></extra>\",\"line\":{\"color\":\"#203731\"},\"mode\":\"markers\",\"name\":\"Aaron Rodgers\",\"x\":[88.32],\"y\":[47.06],\"type\":\"scatter\"},{\"hovertemplate\":\"<b>Andy Dalton</b><br>%{y}% win rate with %{x} Passer Rating<extra></extra>\",\"line\":{\"color\":\"#D3BC8D\"},\"mode\":\"markers\",\"name\":\"Andy Dalton\",\"x\":[88.85],\"y\":[42.86],\"type\":\"scatter\"},{\"hovertemplate\":\"<b>Bailey Zappe</b><br>%{y}% win rate with %{x} Passer Rating<extra></extra>\",\"line\":{\"color\":\"#002244\"},\"mode\":\"markers\",\"name\":\"Bailey Zappe\",\"x\":[91.58],\"y\":[50.0],\"type\":\"scatter\"},{\"hovertemplate\":\"<b>Baker Mayfield</b><br>%{y}% win rate with %{x} Passer Rating<extra></extra>\",\"line\":{\"color\":\"#0085CA\"},\"mode\":\"markers\",\"name\":\"Baker Mayfield\",\"x\":[72.63,75.24],\"y\":[14.29,40.0],\"type\":\"scatter\"},{\"hovertemplate\":\"<b>Brett Rypien</b><br>%{y}% win rate with %{x} Passer Rating<extra></extra>\",\"line\":{\"color\":\"#002244\"},\"mode\":\"markers\",\"name\":\"Brett Rypien\",\"x\":[66.6],\"y\":[50.0],\"type\":\"scatter\"},{\"hovertemplate\":\"<b>Brock Purdy</b><br>%{y}% win rate with %{x} Passer Rating<extra></extra>\",\"line\":{\"color\":\"#AA0000\"},\"mode\":\"markers\",\"name\":\"Brock Purdy\",\"x\":[108.37],\"y\":[100.0],\"type\":\"scatter\"},{\"hovertemplate\":\"<b>Carson Wentz</b><br>%{y}% win rate with %{x} Passer Rating<extra></extra>\",\"line\":{\"color\":\"#5A1414\"},\"mode\":\"markers\",\"name\":\"Carson Wentz\",\"x\":[68.69],\"y\":[28.57],\"type\":\"scatter\"},{\"hovertemplate\":\"<b>Colt McCoy</b><br>%{y}% win rate with %{x} Passer Rating<extra></extra>\",\"line\":{\"color\":\"#97233F\"},\"mode\":\"markers\",\"name\":\"Colt McCoy\",\"x\":[75.07],\"y\":[33.33],\"type\":\"scatter\"},{\"hovertemplate\":\"<b>Cooper Rush</b><br>%{y}% win rate with %{x} Passer Rating<extra></extra>\",\"line\":{\"color\":\"#002244\"},\"mode\":\"markers\",\"name\":\"Cooper Rush\",\"x\":[80.6],\"y\":[80.0],\"type\":\"scatter\"},{\"hovertemplate\":\"<b>Dak Prescott</b><br>%{y}% win rate with %{x} Passer Rating<extra></extra>\",\"line\":{\"color\":\"#002244\"},\"mode\":\"markers\",\"name\":\"Dak Prescott\",\"x\":[88.72],\"y\":[66.67],\"type\":\"scatter\"},{\"hovertemplate\":\"<b>Daniel Jones</b><br>%{y}% win rate with %{x} Passer Rating<extra></extra>\",\"line\":{\"color\":\"#0B2265\"},\"mode\":\"markers\",\"name\":\"Daniel Jones\",\"x\":[88.19],\"y\":[56.25],\"type\":\"scatter\"},{\"hovertemplate\":\"<b>Davis Mills</b><br>%{y}% win rate with %{x} Passer Rating<extra></extra>\",\"line\":{\"color\":\"#03202F\"},\"mode\":\"markers\",\"name\":\"Davis Mills\",\"x\":[74.48],\"y\":[20.0],\"type\":\"scatter\"},{\"hovertemplate\":\"<b>Derek Carr</b><br>%{y}% win rate with %{x} Passer Rating<extra></extra>\",\"line\":{\"color\":\"#000000\"},\"mode\":\"markers\",\"name\":\"Derek Carr\",\"x\":[80.54],\"y\":[40.0],\"type\":\"scatter\"},{\"hovertemplate\":\"<b>Deshaun Watson</b><br>%{y}% win rate with %{x} Passer Rating<extra></extra>\",\"line\":{\"color\":\"#FF3C00\"},\"mode\":\"markers\",\"name\":\"Deshaun Watson\",\"x\":[71.77],\"y\":[50.0],\"type\":\"scatter\"},{\"hovertemplate\":\"<b>Desmond Ridder</b><br>%{y}% win rate with %{x} Passer Rating<extra></extra>\",\"line\":{\"color\":\"#A71930\"},\"mode\":\"markers\",\"name\":\"Desmond Ridder\",\"x\":[80.12],\"y\":[50.0],\"type\":\"scatter\"},{\"hovertemplate\":\"<b>Geno Smith</b><br>%{y}% win rate with %{x} Passer Rating<extra></extra>\",\"line\":{\"color\":\"#002244\"},\"mode\":\"markers\",\"name\":\"Geno Smith\",\"x\":[94.69],\"y\":[52.94],\"type\":\"scatter\"},{\"hovertemplate\":\"<b>Jacoby Brissett</b><br>%{y}% win rate with %{x} Passer Rating<extra></extra>\",\"line\":{\"color\":\"#FF3C00\"},\"mode\":\"markers\",\"name\":\"Jacoby Brissett\",\"x\":[87.12],\"y\":[36.36],\"type\":\"scatter\"},{\"hovertemplate\":\"<b>Jalen Hurts</b><br>%{y}% win rate with %{x} Passer Rating<extra></extra>\",\"line\":{\"color\":\"#004C54\"},\"mode\":\"markers\",\"name\":\"Jalen Hurts\",\"x\":[93.59],\"y\":[93.33],\"type\":\"scatter\"},{\"hovertemplate\":\"<b>Jameis Winston</b><br>%{y}% win rate with %{x} Passer Rating<extra></extra>\",\"line\":{\"color\":\"#D3BC8D\"},\"mode\":\"markers\",\"name\":\"Jameis Winston\",\"x\":[76.2],\"y\":[33.33],\"type\":\"scatter\"},{\"hovertemplate\":\"<b>Jared Goff</b><br>%{y}% win rate with %{x} Passer Rating<extra></extra>\",\"line\":{\"color\":\"#0076B6\"},\"mode\":\"markers\",\"name\":\"Jared Goff\",\"x\":[95.09],\"y\":[52.94],\"type\":\"scatter\"},{\"hovertemplate\":\"<b>Jimmy Garoppolo</b><br>%{y}% win rate with %{x} Passer Rating<extra></extra>\",\"line\":{\"color\":\"#AA0000\"},\"mode\":\"markers\",\"name\":\"Jimmy Garoppolo\",\"x\":[98.41],\"y\":[70.0],\"type\":\"scatter\"},{\"hovertemplate\":\"<b>Joe Burrow</b><br>%{y}% win rate with %{x} Passer Rating<extra></extra>\",\"line\":{\"color\":\"#FB4F14\"},\"mode\":\"markers\",\"name\":\"Joe Burrow\",\"x\":[96.37],\"y\":[75.0],\"type\":\"scatter\"},{\"hovertemplate\":\"<b>Joe Flacco</b><br>%{y}% win rate with %{x} Passer Rating<extra></extra>\",\"line\":{\"color\":\"#003F2D\"},\"mode\":\"markers\",\"name\":\"Joe Flacco\",\"x\":[73.42],\"y\":[25.0],\"type\":\"scatter\"},{\"hovertemplate\":\"<b>Josh Allen</b><br>%{y}% win rate with %{x} Passer Rating<extra></extra>\",\"line\":{\"color\":\"#00338D\"},\"mode\":\"markers\",\"name\":\"Josh Allen\",\"x\":[91.02],\"y\":[81.25],\"type\":\"scatter\"},{\"hovertemplate\":\"<b>Justin Fields</b><br>%{y}% win rate with %{x} Passer Rating<extra></extra>\",\"line\":{\"color\":\"#0B162A\"},\"mode\":\"markers\",\"name\":\"Justin Fields\",\"x\":[71.93],\"y\":[20.0],\"type\":\"scatter\"},{\"hovertemplate\":\"<b>Justin Herbert</b><br>%{y}% win rate with %{x} Passer Rating<extra></extra>\",\"line\":{\"color\":\"#007BC7\"},\"mode\":\"markers\",\"name\":\"Justin Herbert\",\"x\":[90.36],\"y\":[58.82],\"type\":\"scatter\"},{\"hovertemplate\":\"<b>Kenny Pickett</b><br>%{y}% win rate with %{x} Passer Rating<extra></extra>\",\"line\":{\"color\":\"#000000\"},\"mode\":\"markers\",\"name\":\"Kenny Pickett\",\"x\":[74.23],\"y\":[54.55],\"type\":\"scatter\"},{\"hovertemplate\":\"<b>Kirk Cousins</b><br>%{y}% win rate with %{x} Passer Rating<extra></extra>\",\"line\":{\"color\":\"#4F2683\"},\"mode\":\"markers\",\"name\":\"Kirk Cousins\",\"x\":[87.67],\"y\":[76.47],\"type\":\"scatter\"},{\"hovertemplate\":\"<b>Kyler Murray</b><br>%{y}% win rate with %{x} Passer Rating<extra></extra>\",\"line\":{\"color\":\"#97233F\"},\"mode\":\"markers\",\"name\":\"Kyler Murray\",\"x\":[83.87],\"y\":[30.0],\"type\":\"scatter\"},{\"hovertemplate\":\"<b>Lamar Jackson</b><br>%{y}% win rate with %{x} Passer Rating<extra></extra>\",\"line\":{\"color\":\"#241773\"},\"mode\":\"markers\",\"name\":\"Lamar Jackson\",\"x\":[84.8],\"y\":[63.64],\"type\":\"scatter\"},{\"hovertemplate\":\"<b>Mac Jones</b><br>%{y}% win rate with %{x} Passer Rating<extra></extra>\",\"line\":{\"color\":\"#002244\"},\"mode\":\"markers\",\"name\":\"Mac Jones\",\"x\":[80.02],\"y\":[46.15],\"type\":\"scatter\"},{\"hovertemplate\":\"<b>Malik Willis</b><br>%{y}% win rate with %{x} Passer Rating<extra></extra>\",\"line\":{\"color\":\"#002244\"},\"mode\":\"markers\",\"name\":\"Malik Willis\",\"x\":[33.47],\"y\":[33.33],\"type\":\"scatter\"},{\"hovertemplate\":\"<b>Marcus Mariota</b><br>%{y}% win rate with %{x} Passer Rating<extra></extra>\",\"line\":{\"color\":\"#A71930\"},\"mode\":\"markers\",\"name\":\"Marcus Mariota\",\"x\":[83.66],\"y\":[38.46],\"type\":\"scatter\"},{\"hovertemplate\":\"<b>Matt Ryan</b><br>%{y}% win rate with %{x} Passer Rating<extra></extra>\",\"line\":{\"color\":\"#002C5F\"},\"mode\":\"markers\",\"name\":\"Matt Ryan\",\"x\":[77.12],\"y\":[33.33],\"type\":\"scatter\"},{\"hovertemplate\":\"<b>Matthew Stafford</b><br>%{y}% win rate with %{x} Passer Rating<extra></extra>\",\"line\":{\"color\":\"#003594\"},\"mode\":\"markers\",\"name\":\"Matthew Stafford\",\"x\":[84.7],\"y\":[33.33],\"type\":\"scatter\"},{\"hovertemplate\":\"<b>Mike White</b><br>%{y}% win rate with %{x} Passer Rating<extra></extra>\",\"line\":{\"color\":\"#003F2D\"},\"mode\":\"markers\",\"name\":\"Mike White\",\"x\":[80.32],\"y\":[25.0],\"type\":\"scatter\"},{\"hovertemplate\":\"<b>Mitchell Trubisky</b><br>%{y}% win rate with %{x} Passer Rating<extra></extra>\",\"line\":{\"color\":\"#000000\"},\"mode\":\"markers\",\"name\":\"Mitchell Trubisky\",\"x\":[86.98],\"y\":[50.0],\"type\":\"scatter\"},{\"hovertemplate\":\"<b>Patrick Mahomes</b><br>%{y}% win rate with %{x} Passer Rating<extra></extra>\",\"line\":{\"color\":\"#E31837\"},\"mode\":\"markers\",\"name\":\"Patrick Mahomes\",\"x\":[102.21],\"y\":[82.35],\"type\":\"scatter\"},{\"hovertemplate\":\"<b>Phillip Walker</b><br>%{y}% win rate with %{x} Passer Rating<extra></extra>\",\"line\":{\"color\":\"#0085CA\"},\"mode\":\"markers\",\"name\":\"Phillip Walker\",\"x\":[84.82],\"y\":[50.0],\"type\":\"scatter\"},{\"hovertemplate\":\"<b>Russell Wilson</b><br>%{y}% win rate with %{x} Passer Rating<extra></extra>\",\"line\":{\"color\":\"#002244\"},\"mode\":\"markers\",\"name\":\"Russell Wilson\",\"x\":[77.85],\"y\":[26.67],\"type\":\"scatter\"},{\"hovertemplate\":\"<b>Ryan Tannehill</b><br>%{y}% win rate with %{x} Passer Rating<extra></extra>\",\"line\":{\"color\":\"#002244\"},\"mode\":\"markers\",\"name\":\"Ryan Tannehill\",\"x\":[84.73],\"y\":[50.0],\"type\":\"scatter\"},{\"hovertemplate\":\"<b>Sam Darnold</b><br>%{y}% win rate with %{x} Passer Rating<extra></extra>\",\"line\":{\"color\":\"#0085CA\"},\"mode\":\"markers\",\"name\":\"Sam Darnold\",\"x\":[84.68],\"y\":[66.67],\"type\":\"scatter\"},{\"hovertemplate\":\"<b>Sam Howell</b><br>%{y}% win rate with %{x} Passer Rating<extra></extra>\",\"line\":{\"color\":\"#5A1414\"},\"mode\":\"markers\",\"name\":\"Sam Howell\",\"x\":[72.0],\"y\":[100.0],\"type\":\"scatter\"},{\"hovertemplate\":\"<b>Skylar Thompson</b><br>%{y}% win rate with %{x} Passer Rating<extra></extra>\",\"line\":{\"color\":\"#008E97\"},\"mode\":\"markers\",\"name\":\"Skylar Thompson\",\"x\":[64.6],\"y\":[50.0],\"type\":\"scatter\"},{\"hovertemplate\":\"<b>Taylor Heinicke</b><br>%{y}% win rate with %{x} Passer Rating<extra></extra>\",\"line\":{\"color\":\"#5A1414\"},\"mode\":\"markers\",\"name\":\"Taylor Heinicke\",\"x\":[84.52],\"y\":[55.56],\"type\":\"scatter\"},{\"hovertemplate\":\"<b>Tom Brady</b><br>%{y}% win rate with %{x} Passer Rating<extra></extra>\",\"line\":{\"color\":\"#A71930\"},\"mode\":\"markers\",\"name\":\"Tom Brady\",\"x\":[89.55],\"y\":[47.06],\"type\":\"scatter\"},{\"hovertemplate\":\"<b>Trevor Lawrence</b><br>%{y}% win rate with %{x} Passer Rating<extra></extra>\",\"line\":{\"color\":\"#006778\"},\"mode\":\"markers\",\"name\":\"Trevor Lawrence\",\"x\":[90.84],\"y\":[52.94],\"type\":\"scatter\"},{\"hovertemplate\":\"<b>Tua Tagovailoa</b><br>%{y}% win rate with %{x} Passer Rating<extra></extra>\",\"line\":{\"color\":\"#008E97\"},\"mode\":\"markers\",\"name\":\"Tua Tagovailoa\",\"x\":[102.2],\"y\":[66.67],\"type\":\"scatter\"},{\"hovertemplate\":\"<b>Tyler Huntley</b><br>%{y}% win rate with %{x} Passer Rating<extra></extra>\",\"line\":{\"color\":\"#241773\"},\"mode\":\"markers\",\"name\":\"Tyler Huntley\",\"x\":[76.52],\"y\":[60.0],\"type\":\"scatter\"},{\"hovertemplate\":\"<b>Zach Wilson</b><br>%{y}% win rate with %{x} Passer Rating<extra></extra>\",\"line\":{\"color\":\"#003F2D\"},\"mode\":\"markers\",\"name\":\"Zach Wilson\",\"x\":[66.27],\"y\":[55.56],\"type\":\"scatter\"}],                        {\"template\":{\"data\":{\"histogram2dcontour\":[{\"type\":\"histogram2dcontour\",\"colorbar\":{\"outlinewidth\":0,\"ticks\":\"\"},\"colorscale\":[[0.0,\"#0d0887\"],[0.1111111111111111,\"#46039f\"],[0.2222222222222222,\"#7201a8\"],[0.3333333333333333,\"#9c179e\"],[0.4444444444444444,\"#bd3786\"],[0.5555555555555556,\"#d8576b\"],[0.6666666666666666,\"#ed7953\"],[0.7777777777777778,\"#fb9f3a\"],[0.8888888888888888,\"#fdca26\"],[1.0,\"#f0f921\"]]}],\"choropleth\":[{\"type\":\"choropleth\",\"colorbar\":{\"outlinewidth\":0,\"ticks\":\"\"}}],\"histogram2d\":[{\"type\":\"histogram2d\",\"colorbar\":{\"outlinewidth\":0,\"ticks\":\"\"},\"colorscale\":[[0.0,\"#0d0887\"],[0.1111111111111111,\"#46039f\"],[0.2222222222222222,\"#7201a8\"],[0.3333333333333333,\"#9c179e\"],[0.4444444444444444,\"#bd3786\"],[0.5555555555555556,\"#d8576b\"],[0.6666666666666666,\"#ed7953\"],[0.7777777777777778,\"#fb9f3a\"],[0.8888888888888888,\"#fdca26\"],[1.0,\"#f0f921\"]]}],\"heatmap\":[{\"type\":\"heatmap\",\"colorbar\":{\"outlinewidth\":0,\"ticks\":\"\"},\"colorscale\":[[0.0,\"#0d0887\"],[0.1111111111111111,\"#46039f\"],[0.2222222222222222,\"#7201a8\"],[0.3333333333333333,\"#9c179e\"],[0.4444444444444444,\"#bd3786\"],[0.5555555555555556,\"#d8576b\"],[0.6666666666666666,\"#ed7953\"],[0.7777777777777778,\"#fb9f3a\"],[0.8888888888888888,\"#fdca26\"],[1.0,\"#f0f921\"]]}],\"heatmapgl\":[{\"type\":\"heatmapgl\",\"colorbar\":{\"outlinewidth\":0,\"ticks\":\"\"},\"colorscale\":[[0.0,\"#0d0887\"],[0.1111111111111111,\"#46039f\"],[0.2222222222222222,\"#7201a8\"],[0.3333333333333333,\"#9c179e\"],[0.4444444444444444,\"#bd3786\"],[0.5555555555555556,\"#d8576b\"],[0.6666666666666666,\"#ed7953\"],[0.7777777777777778,\"#fb9f3a\"],[0.8888888888888888,\"#fdca26\"],[1.0,\"#f0f921\"]]}],\"contourcarpet\":[{\"type\":\"contourcarpet\",\"colorbar\":{\"outlinewidth\":0,\"ticks\":\"\"}}],\"contour\":[{\"type\":\"contour\",\"colorbar\":{\"outlinewidth\":0,\"ticks\":\"\"},\"colorscale\":[[0.0,\"#0d0887\"],[0.1111111111111111,\"#46039f\"],[0.2222222222222222,\"#7201a8\"],[0.3333333333333333,\"#9c179e\"],[0.4444444444444444,\"#bd3786\"],[0.5555555555555556,\"#d8576b\"],[0.6666666666666666,\"#ed7953\"],[0.7777777777777778,\"#fb9f3a\"],[0.8888888888888888,\"#fdca26\"],[1.0,\"#f0f921\"]]}],\"surface\":[{\"type\":\"surface\",\"colorbar\":{\"outlinewidth\":0,\"ticks\":\"\"},\"colorscale\":[[0.0,\"#0d0887\"],[0.1111111111111111,\"#46039f\"],[0.2222222222222222,\"#7201a8\"],[0.3333333333333333,\"#9c179e\"],[0.4444444444444444,\"#bd3786\"],[0.5555555555555556,\"#d8576b\"],[0.6666666666666666,\"#ed7953\"],[0.7777777777777778,\"#fb9f3a\"],[0.8888888888888888,\"#fdca26\"],[1.0,\"#f0f921\"]]}],\"mesh3d\":[{\"type\":\"mesh3d\",\"colorbar\":{\"outlinewidth\":0,\"ticks\":\"\"}}],\"scatter\":[{\"fillpattern\":{\"fillmode\":\"overlay\",\"size\":10,\"solidity\":0.2},\"type\":\"scatter\"}],\"parcoords\":[{\"type\":\"parcoords\",\"line\":{\"colorbar\":{\"outlinewidth\":0,\"ticks\":\"\"}}}],\"scatterpolargl\":[{\"type\":\"scatterpolargl\",\"marker\":{\"colorbar\":{\"outlinewidth\":0,\"ticks\":\"\"}}}],\"bar\":[{\"error_x\":{\"color\":\"#2a3f5f\"},\"error_y\":{\"color\":\"#2a3f5f\"},\"marker\":{\"line\":{\"color\":\"#E5ECF6\",\"width\":0.5},\"pattern\":{\"fillmode\":\"overlay\",\"size\":10,\"solidity\":0.2}},\"type\":\"bar\"}],\"scattergeo\":[{\"type\":\"scattergeo\",\"marker\":{\"colorbar\":{\"outlinewidth\":0,\"ticks\":\"\"}}}],\"scatterpolar\":[{\"type\":\"scatterpolar\",\"marker\":{\"colorbar\":{\"outlinewidth\":0,\"ticks\":\"\"}}}],\"histogram\":[{\"marker\":{\"pattern\":{\"fillmode\":\"overlay\",\"size\":10,\"solidity\":0.2}},\"type\":\"histogram\"}],\"scattergl\":[{\"type\":\"scattergl\",\"marker\":{\"colorbar\":{\"outlinewidth\":0,\"ticks\":\"\"}}}],\"scatter3d\":[{\"type\":\"scatter3d\",\"line\":{\"colorbar\":{\"outlinewidth\":0,\"ticks\":\"\"}},\"marker\":{\"colorbar\":{\"outlinewidth\":0,\"ticks\":\"\"}}}],\"scattermapbox\":[{\"type\":\"scattermapbox\",\"marker\":{\"colorbar\":{\"outlinewidth\":0,\"ticks\":\"\"}}}],\"scatterternary\":[{\"type\":\"scatterternary\",\"marker\":{\"colorbar\":{\"outlinewidth\":0,\"ticks\":\"\"}}}],\"scattercarpet\":[{\"type\":\"scattercarpet\",\"marker\":{\"colorbar\":{\"outlinewidth\":0,\"ticks\":\"\"}}}],\"carpet\":[{\"aaxis\":{\"endlinecolor\":\"#2a3f5f\",\"gridcolor\":\"white\",\"linecolor\":\"white\",\"minorgridcolor\":\"white\",\"startlinecolor\":\"#2a3f5f\"},\"baxis\":{\"endlinecolor\":\"#2a3f5f\",\"gridcolor\":\"white\",\"linecolor\":\"white\",\"minorgridcolor\":\"white\",\"startlinecolor\":\"#2a3f5f\"},\"type\":\"carpet\"}],\"table\":[{\"cells\":{\"fill\":{\"color\":\"#EBF0F8\"},\"line\":{\"color\":\"white\"}},\"header\":{\"fill\":{\"color\":\"#C8D4E3\"},\"line\":{\"color\":\"white\"}},\"type\":\"table\"}],\"barpolar\":[{\"marker\":{\"line\":{\"color\":\"#E5ECF6\",\"width\":0.5},\"pattern\":{\"fillmode\":\"overlay\",\"size\":10,\"solidity\":0.2}},\"type\":\"barpolar\"}],\"pie\":[{\"automargin\":true,\"type\":\"pie\"}]},\"layout\":{\"autotypenumbers\":\"strict\",\"colorway\":[\"#636efa\",\"#EF553B\",\"#00cc96\",\"#ab63fa\",\"#FFA15A\",\"#19d3f3\",\"#FF6692\",\"#B6E880\",\"#FF97FF\",\"#FECB52\"],\"font\":{\"color\":\"#2a3f5f\"},\"hovermode\":\"closest\",\"hoverlabel\":{\"align\":\"left\"},\"paper_bgcolor\":\"white\",\"plot_bgcolor\":\"#E5ECF6\",\"polar\":{\"bgcolor\":\"#E5ECF6\",\"angularaxis\":{\"gridcolor\":\"white\",\"linecolor\":\"white\",\"ticks\":\"\"},\"radialaxis\":{\"gridcolor\":\"white\",\"linecolor\":\"white\",\"ticks\":\"\"}},\"ternary\":{\"bgcolor\":\"#E5ECF6\",\"aaxis\":{\"gridcolor\":\"white\",\"linecolor\":\"white\",\"ticks\":\"\"},\"baxis\":{\"gridcolor\":\"white\",\"linecolor\":\"white\",\"ticks\":\"\"},\"caxis\":{\"gridcolor\":\"white\",\"linecolor\":\"white\",\"ticks\":\"\"}},\"coloraxis\":{\"colorbar\":{\"outlinewidth\":0,\"ticks\":\"\"}},\"colorscale\":{\"sequential\":[[0.0,\"#0d0887\"],[0.1111111111111111,\"#46039f\"],[0.2222222222222222,\"#7201a8\"],[0.3333333333333333,\"#9c179e\"],[0.4444444444444444,\"#bd3786\"],[0.5555555555555556,\"#d8576b\"],[0.6666666666666666,\"#ed7953\"],[0.7777777777777778,\"#fb9f3a\"],[0.8888888888888888,\"#fdca26\"],[1.0,\"#f0f921\"]],\"sequentialminus\":[[0.0,\"#0d0887\"],[0.1111111111111111,\"#46039f\"],[0.2222222222222222,\"#7201a8\"],[0.3333333333333333,\"#9c179e\"],[0.4444444444444444,\"#bd3786\"],[0.5555555555555556,\"#d8576b\"],[0.6666666666666666,\"#ed7953\"],[0.7777777777777778,\"#fb9f3a\"],[0.8888888888888888,\"#fdca26\"],[1.0,\"#f0f921\"]],\"diverging\":[[0,\"#8e0152\"],[0.1,\"#c51b7d\"],[0.2,\"#de77ae\"],[0.3,\"#f1b6da\"],[0.4,\"#fde0ef\"],[0.5,\"#f7f7f7\"],[0.6,\"#e6f5d0\"],[0.7,\"#b8e186\"],[0.8,\"#7fbc41\"],[0.9,\"#4d9221\"],[1,\"#276419\"]]},\"xaxis\":{\"gridcolor\":\"white\",\"linecolor\":\"white\",\"ticks\":\"\",\"title\":{\"standoff\":15},\"zerolinecolor\":\"white\",\"automargin\":true,\"zerolinewidth\":2},\"yaxis\":{\"gridcolor\":\"white\",\"linecolor\":\"white\",\"ticks\":\"\",\"title\":{\"standoff\":15},\"zerolinecolor\":\"white\",\"automargin\":true,\"zerolinewidth\":2},\"scene\":{\"xaxis\":{\"backgroundcolor\":\"#E5ECF6\",\"gridcolor\":\"white\",\"linecolor\":\"white\",\"showbackground\":true,\"ticks\":\"\",\"zerolinecolor\":\"white\",\"gridwidth\":2},\"yaxis\":{\"backgroundcolor\":\"#E5ECF6\",\"gridcolor\":\"white\",\"linecolor\":\"white\",\"showbackground\":true,\"ticks\":\"\",\"zerolinecolor\":\"white\",\"gridwidth\":2},\"zaxis\":{\"backgroundcolor\":\"#E5ECF6\",\"gridcolor\":\"white\",\"linecolor\":\"white\",\"showbackground\":true,\"ticks\":\"\",\"zerolinecolor\":\"white\",\"gridwidth\":2}},\"shapedefaults\":{\"line\":{\"color\":\"#2a3f5f\"}},\"annotationdefaults\":{\"arrowcolor\":\"#2a3f5f\",\"arrowhead\":0,\"arrowwidth\":1},\"geo\":{\"bgcolor\":\"white\",\"landcolor\":\"#E5ECF6\",\"subunitcolor\":\"white\",\"showland\":true,\"showlakes\":true,\"lakecolor\":\"white\"},\"title\":{\"x\":0.05},\"mapbox\":{\"style\":\"light\"}}},\"font\":{\"family\":\"Averta, sans-serif\"},\"hoverlabel\":{\"font\":{\"family\":\"Averta, sans-serif\",\"size\":16}},\"xaxis\":{\"title\":{\"font\":{\"size\":18},\"text\":\"Passer Rating\"},\"tickfont\":{\"size\":16}},\"yaxis\":{\"title\":{\"font\":{\"size\":18},\"text\":\"Win Percentage\"},\"tickfont\":{\"size\":16}},\"legend\":{\"font\":{\"size\":16}},\"height\":1000,\"width\":1000},                        {\"responsive\": true}                    ).then(function(){\n",
       "                            \n",
       "var gd = document.getElementById('5861d9c6-aded-4d27-85ab-4af438289a46');\n",
       "var x = new MutationObserver(function (mutations, observer) {{\n",
       "        var display = window.getComputedStyle(gd).display;\n",
       "        if (!display || display === 'none') {{\n",
       "            console.log([gd, 'removed!']);\n",
       "            Plotly.purge(gd);\n",
       "            observer.disconnect();\n",
       "        }}\n",
       "}});\n",
       "\n",
       "// Listen for the removal of the full notebook cells\n",
       "var notebookContainer = gd.closest('#notebook-container');\n",
       "if (notebookContainer) {{\n",
       "    x.observe(notebookContainer, {childList: true});\n",
       "}}\n",
       "\n",
       "// Listen for the clearing of the current output cell\n",
       "var outputEl = gd.closest('.output');\n",
       "if (outputEl) {{\n",
       "    x.observe(outputEl, {childList: true});\n",
       "}}\n",
       "\n",
       "                        })                };                });            </script>        </div>"
      ]
     },
     "metadata": {},
     "output_type": "display_data"
    }
   ],
   "source": [
    "showAVGPRvsWinPerc(dfQBDifRec3)"
   ]
  },
  {
   "cell_type": "code",
   "execution_count": 212,
   "id": "0cfbb11f",
   "metadata": {},
   "outputs": [
    {
     "data": {
      "application/vnd.plotly.v1+json": {
       "config": {
        "plotlyServerURL": "https://plot.ly"
       },
       "data": [
        {
         "hovertemplate": "<b>Aaron Rodgers</b><br>%{y}% win rate with %{x} Passer Rating Differential<extra></extra>",
         "line": {
          "color": "#203731"
         },
         "mode": "markers",
         "name": "Aaron Rodgers",
         "type": "scatter",
         "x": [
          9.38
         ],
         "y": [
          47.06
         ]
        },
        {
         "hovertemplate": "<b>Andy Dalton</b><br>%{y}% win rate with %{x} Passer Rating Differential<extra></extra>",
         "line": {
          "color": "#D3BC8D"
         },
         "mode": "markers",
         "name": "Andy Dalton",
         "type": "scatter",
         "x": [
          12.79
         ],
         "y": [
          42.86
         ]
        },
        {
         "hovertemplate": "<b>Bailey Zappe</b><br>%{y}% win rate with %{x} Passer Rating Differential<extra></extra>",
         "line": {
          "color": "#002244"
         },
         "mode": "markers",
         "name": "Bailey Zappe",
         "type": "scatter",
         "x": [
          24.52
         ],
         "y": [
          50
         ]
        },
        {
         "hovertemplate": "<b>Baker Mayfield</b><br>%{y}% win rate with %{x} Passer Rating Differential<extra></extra>",
         "line": {
          "color": "#0085CA"
         },
         "mode": "markers",
         "name": "Baker Mayfield",
         "type": "scatter",
         "x": [
          -13.77,
          6.88
         ],
         "y": [
          14.29,
          40
         ]
        },
        {
         "hovertemplate": "<b>Brett Rypien</b><br>%{y}% win rate with %{x} Passer Rating Differential<extra></extra>",
         "line": {
          "color": "#002244"
         },
         "mode": "markers",
         "name": "Brett Rypien",
         "type": "scatter",
         "x": [
          22.05
         ],
         "y": [
          50
         ]
        },
        {
         "hovertemplate": "<b>Brock Purdy</b><br>%{y}% win rate with %{x} Passer Rating Differential<extra></extra>",
         "line": {
          "color": "#AA0000"
         },
         "mode": "markers",
         "name": "Brock Purdy",
         "type": "scatter",
         "x": [
          24.5
         ],
         "y": [
          100
         ]
        },
        {
         "hovertemplate": "<b>Carson Wentz</b><br>%{y}% win rate with %{x} Passer Rating Differential<extra></extra>",
         "line": {
          "color": "#5A1414"
         },
         "mode": "markers",
         "name": "Carson Wentz",
         "type": "scatter",
         "x": [
          -23.73
         ],
         "y": [
          28.57
         ]
        },
        {
         "hovertemplate": "<b>Colt McCoy</b><br>%{y}% win rate with %{x} Passer Rating Differential<extra></extra>",
         "line": {
          "color": "#97233F"
         },
         "mode": "markers",
         "name": "Colt McCoy",
         "type": "scatter",
         "x": [
          -17.97
         ],
         "y": [
          33.33
         ]
        },
        {
         "hovertemplate": "<b>Cooper Rush</b><br>%{y}% win rate with %{x} Passer Rating Differential<extra></extra>",
         "line": {
          "color": "#002244"
         },
         "mode": "markers",
         "name": "Cooper Rush",
         "type": "scatter",
         "x": [
          10.48
         ],
         "y": [
          80
         ]
        },
        {
         "hovertemplate": "<b>Dak Prescott</b><br>%{y}% win rate with %{x} Passer Rating Differential<extra></extra>",
         "line": {
          "color": "#002244"
         },
         "mode": "markers",
         "name": "Dak Prescott",
         "type": "scatter",
         "x": [
          6.25
         ],
         "y": [
          66.67
         ]
        },
        {
         "hovertemplate": "<b>Daniel Jones</b><br>%{y}% win rate with %{x} Passer Rating Differential<extra></extra>",
         "line": {
          "color": "#0B2265"
         },
         "mode": "markers",
         "name": "Daniel Jones",
         "type": "scatter",
         "x": [
          4.55
         ],
         "y": [
          56.25
         ]
        },
        {
         "hovertemplate": "<b>Davis Mills</b><br>%{y}% win rate with %{x} Passer Rating Differential<extra></extra>",
         "line": {
          "color": "#03202F"
         },
         "mode": "markers",
         "name": "Davis Mills",
         "type": "scatter",
         "x": [
          -1.75
         ],
         "y": [
          20
         ]
        },
        {
         "hovertemplate": "<b>Derek Carr</b><br>%{y}% win rate with %{x} Passer Rating Differential<extra></extra>",
         "line": {
          "color": "#000000"
         },
         "mode": "markers",
         "name": "Derek Carr",
         "type": "scatter",
         "x": [
          -15.23
         ],
         "y": [
          40
         ]
        },
        {
         "hovertemplate": "<b>Deshaun Watson</b><br>%{y}% win rate with %{x} Passer Rating Differential<extra></extra>",
         "line": {
          "color": "#FF3C00"
         },
         "mode": "markers",
         "name": "Deshaun Watson",
         "type": "scatter",
         "x": [
          16.52
         ],
         "y": [
          50
         ]
        },
        {
         "hovertemplate": "<b>Desmond Ridder</b><br>%{y}% win rate with %{x} Passer Rating Differential<extra></extra>",
         "line": {
          "color": "#A71930"
         },
         "mode": "markers",
         "name": "Desmond Ridder",
         "type": "scatter",
         "x": [
          -19.42
         ],
         "y": [
          50
         ]
        },
        {
         "hovertemplate": "<b>Geno Smith</b><br>%{y}% win rate with %{x} Passer Rating Differential<extra></extra>",
         "line": {
          "color": "#002244"
         },
         "mode": "markers",
         "name": "Geno Smith",
         "type": "scatter",
         "x": [
          12.48
         ],
         "y": [
          52.94
         ]
        },
        {
         "hovertemplate": "<b>Jacoby Brissett</b><br>%{y}% win rate with %{x} Passer Rating Differential<extra></extra>",
         "line": {
          "color": "#FF3C00"
         },
         "mode": "markers",
         "name": "Jacoby Brissett",
         "type": "scatter",
         "x": [
          -1.39
         ],
         "y": [
          36.36
         ]
        },
        {
         "hovertemplate": "<b>Jalen Hurts</b><br>%{y}% win rate with %{x} Passer Rating Differential<extra></extra>",
         "line": {
          "color": "#004C54"
         },
         "mode": "markers",
         "name": "Jalen Hurts",
         "type": "scatter",
         "x": [
          23.49
         ],
         "y": [
          93.33
         ]
        },
        {
         "hovertemplate": "<b>Jameis Winston</b><br>%{y}% win rate with %{x} Passer Rating Differential<extra></extra>",
         "line": {
          "color": "#D3BC8D"
         },
         "mode": "markers",
         "name": "Jameis Winston",
         "type": "scatter",
         "x": [
          -1.9
         ],
         "y": [
          33.33
         ]
        },
        {
         "hovertemplate": "<b>Jared Goff</b><br>%{y}% win rate with %{x} Passer Rating Differential<extra></extra>",
         "line": {
          "color": "#0076B6"
         },
         "mode": "markers",
         "name": "Jared Goff",
         "type": "scatter",
         "x": [
          5.15
         ],
         "y": [
          52.94
         ]
        },
        {
         "hovertemplate": "<b>Jimmy Garoppolo</b><br>%{y}% win rate with %{x} Passer Rating Differential<extra></extra>",
         "line": {
          "color": "#AA0000"
         },
         "mode": "markers",
         "name": "Jimmy Garoppolo",
         "type": "scatter",
         "x": [
          14.76
         ],
         "y": [
          70
         ]
        },
        {
         "hovertemplate": "<b>Joe Burrow</b><br>%{y}% win rate with %{x} Passer Rating Differential<extra></extra>",
         "line": {
          "color": "#FB4F14"
         },
         "mode": "markers",
         "name": "Joe Burrow",
         "type": "scatter",
         "x": [
          10.37
         ],
         "y": [
          75
         ]
        },
        {
         "hovertemplate": "<b>Joe Flacco</b><br>%{y}% win rate with %{x} Passer Rating Differential<extra></extra>",
         "line": {
          "color": "#003F2D"
         },
         "mode": "markers",
         "name": "Joe Flacco",
         "type": "scatter",
         "x": [
          -19.85
         ],
         "y": [
          25
         ]
        },
        {
         "hovertemplate": "<b>Josh Allen</b><br>%{y}% win rate with %{x} Passer Rating Differential<extra></extra>",
         "line": {
          "color": "#00338D"
         },
         "mode": "markers",
         "name": "Josh Allen",
         "type": "scatter",
         "x": [
          11.31
         ],
         "y": [
          81.25
         ]
        },
        {
         "hovertemplate": "<b>Justin Fields</b><br>%{y}% win rate with %{x} Passer Rating Differential<extra></extra>",
         "line": {
          "color": "#0B162A"
         },
         "mode": "markers",
         "name": "Justin Fields",
         "type": "scatter",
         "x": [
          -16.83
         ],
         "y": [
          20
         ]
        },
        {
         "hovertemplate": "<b>Justin Herbert</b><br>%{y}% win rate with %{x} Passer Rating Differential<extra></extra>",
         "line": {
          "color": "#007BC7"
         },
         "mode": "markers",
         "name": "Justin Herbert",
         "type": "scatter",
         "x": [
          8.76
         ],
         "y": [
          58.82
         ]
        },
        {
         "hovertemplate": "<b>Kenny Pickett</b><br>%{y}% win rate with %{x} Passer Rating Differential<extra></extra>",
         "line": {
          "color": "#000000"
         },
         "mode": "markers",
         "name": "Kenny Pickett",
         "type": "scatter",
         "x": [
          -7.67
         ],
         "y": [
          54.55
         ]
        },
        {
         "hovertemplate": "<b>Kirk Cousins</b><br>%{y}% win rate with %{x} Passer Rating Differential<extra></extra>",
         "line": {
          "color": "#4F2683"
         },
         "mode": "markers",
         "name": "Kirk Cousins",
         "type": "scatter",
         "x": [
          -3.69
         ],
         "y": [
          76.47
         ]
        },
        {
         "hovertemplate": "<b>Kyler Murray</b><br>%{y}% win rate with %{x} Passer Rating Differential<extra></extra>",
         "line": {
          "color": "#97233F"
         },
         "mode": "markers",
         "name": "Kyler Murray",
         "type": "scatter",
         "x": [
          -10.42
         ],
         "y": [
          30
         ]
        },
        {
         "hovertemplate": "<b>Lamar Jackson</b><br>%{y}% win rate with %{x} Passer Rating Differential<extra></extra>",
         "line": {
          "color": "#241773"
         },
         "mode": "markers",
         "name": "Lamar Jackson",
         "type": "scatter",
         "x": [
          1.8
         ],
         "y": [
          63.64
         ]
        },
        {
         "hovertemplate": "<b>Mac Jones</b><br>%{y}% win rate with %{x} Passer Rating Differential<extra></extra>",
         "line": {
          "color": "#002244"
         },
         "mode": "markers",
         "name": "Mac Jones",
         "type": "scatter",
         "x": [
          -0.27
         ],
         "y": [
          46.15
         ]
        },
        {
         "hovertemplate": "<b>Malik Willis</b><br>%{y}% win rate with %{x} Passer Rating Differential<extra></extra>",
         "line": {
          "color": "#002244"
         },
         "mode": "markers",
         "name": "Malik Willis",
         "type": "scatter",
         "x": [
          -37.73
         ],
         "y": [
          33.33
         ]
        },
        {
         "hovertemplate": "<b>Marcus Mariota</b><br>%{y}% win rate with %{x} Passer Rating Differential<extra></extra>",
         "line": {
          "color": "#A71930"
         },
         "mode": "markers",
         "name": "Marcus Mariota",
         "type": "scatter",
         "x": [
          -5.88
         ],
         "y": [
          38.46
         ]
        },
        {
         "hovertemplate": "<b>Matt Ryan</b><br>%{y}% win rate with %{x} Passer Rating Differential<extra></extra>",
         "line": {
          "color": "#002C5F"
         },
         "mode": "markers",
         "name": "Matt Ryan",
         "type": "scatter",
         "x": [
          -13.65
         ],
         "y": [
          33.33
         ]
        },
        {
         "hovertemplate": "<b>Matthew Stafford</b><br>%{y}% win rate with %{x} Passer Rating Differential<extra></extra>",
         "line": {
          "color": "#003594"
         },
         "mode": "markers",
         "name": "Matthew Stafford",
         "type": "scatter",
         "x": [
          -7.66
         ],
         "y": [
          33.33
         ]
        },
        {
         "hovertemplate": "<b>Mike White</b><br>%{y}% win rate with %{x} Passer Rating Differential<extra></extra>",
         "line": {
          "color": "#003F2D"
         },
         "mode": "markers",
         "name": "Mike White",
         "type": "scatter",
         "x": [
          1.18
         ],
         "y": [
          25
         ]
        },
        {
         "hovertemplate": "<b>Mitchell Trubisky</b><br>%{y}% win rate with %{x} Passer Rating Differential<extra></extra>",
         "line": {
          "color": "#000000"
         },
         "mode": "markers",
         "name": "Mitchell Trubisky",
         "type": "scatter",
         "x": [
          3.55
         ],
         "y": [
          50
         ]
        },
        {
         "hovertemplate": "<b>Patrick Mahomes</b><br>%{y}% win rate with %{x} Passer Rating Differential<extra></extra>",
         "line": {
          "color": "#E31837"
         },
         "mode": "markers",
         "name": "Patrick Mahomes",
         "type": "scatter",
         "x": [
          14.36
         ],
         "y": [
          82.35
         ]
        },
        {
         "hovertemplate": "<b>Phillip Walker</b><br>%{y}% win rate with %{x} Passer Rating Differential<extra></extra>",
         "line": {
          "color": "#0085CA"
         },
         "mode": "markers",
         "name": "Phillip Walker",
         "type": "scatter",
         "x": [
          -2.95
         ],
         "y": [
          50
         ]
        },
        {
         "hovertemplate": "<b>Russell Wilson</b><br>%{y}% win rate with %{x} Passer Rating Differential<extra></extra>",
         "line": {
          "color": "#002244"
         },
         "mode": "markers",
         "name": "Russell Wilson",
         "type": "scatter",
         "x": [
          -7.49
         ],
         "y": [
          26.67
         ]
        },
        {
         "hovertemplate": "<b>Ryan Tannehill</b><br>%{y}% win rate with %{x} Passer Rating Differential<extra></extra>",
         "line": {
          "color": "#002244"
         },
         "mode": "markers",
         "name": "Ryan Tannehill",
         "type": "scatter",
         "x": [
          -9.47
         ],
         "y": [
          50
         ]
        },
        {
         "hovertemplate": "<b>Sam Darnold</b><br>%{y}% win rate with %{x} Passer Rating Differential<extra></extra>",
         "line": {
          "color": "#0085CA"
         },
         "mode": "markers",
         "name": "Sam Darnold",
         "type": "scatter",
         "x": [
          -8.52
         ],
         "y": [
          66.67
         ]
        },
        {
         "hovertemplate": "<b>Sam Howell</b><br>%{y}% win rate with %{x} Passer Rating Differential<extra></extra>",
         "line": {
          "color": "#5A1414"
         },
         "mode": "markers",
         "name": "Sam Howell",
         "type": "scatter",
         "x": [
          27.4
         ],
         "y": [
          100
         ]
        },
        {
         "hovertemplate": "<b>Skylar Thompson</b><br>%{y}% win rate with %{x} Passer Rating Differential<extra></extra>",
         "line": {
          "color": "#008E97"
         },
         "mode": "markers",
         "name": "Skylar Thompson",
         "type": "scatter",
         "x": [
          -14.05
         ],
         "y": [
          50
         ]
        },
        {
         "hovertemplate": "<b>Taylor Heinicke</b><br>%{y}% win rate with %{x} Passer Rating Differential<extra></extra>",
         "line": {
          "color": "#5A1414"
         },
         "mode": "markers",
         "name": "Taylor Heinicke",
         "type": "scatter",
         "x": [
          0.38
         ],
         "y": [
          55.56
         ]
        },
        {
         "hovertemplate": "<b>Tom Brady</b><br>%{y}% win rate with %{x} Passer Rating Differential<extra></extra>",
         "line": {
          "color": "#A71930"
         },
         "mode": "markers",
         "name": "Tom Brady",
         "type": "scatter",
         "x": [
          -2.05
         ],
         "y": [
          47.06
         ]
        },
        {
         "hovertemplate": "<b>Trevor Lawrence</b><br>%{y}% win rate with %{x} Passer Rating Differential<extra></extra>",
         "line": {
          "color": "#006778"
         },
         "mode": "markers",
         "name": "Trevor Lawrence",
         "type": "scatter",
         "x": [
          8.58
         ],
         "y": [
          52.94
         ]
        },
        {
         "hovertemplate": "<b>Tua Tagovailoa</b><br>%{y}% win rate with %{x} Passer Rating Differential<extra></extra>",
         "line": {
          "color": "#008E97"
         },
         "mode": "markers",
         "name": "Tua Tagovailoa",
         "type": "scatter",
         "x": [
          11.11
         ],
         "y": [
          66.67
         ]
        },
        {
         "hovertemplate": "<b>Tyler Huntley</b><br>%{y}% win rate with %{x} Passer Rating Differential<extra></extra>",
         "line": {
          "color": "#241773"
         },
         "mode": "markers",
         "name": "Tyler Huntley",
         "type": "scatter",
         "x": [
          -4.98
         ],
         "y": [
          60
         ]
        },
        {
         "hovertemplate": "<b>Zach Wilson</b><br>%{y}% win rate with %{x} Passer Rating Differential<extra></extra>",
         "line": {
          "color": "#003F2D"
         },
         "mode": "markers",
         "name": "Zach Wilson",
         "type": "scatter",
         "x": [
          -3.74
         ],
         "y": [
          55.56
         ]
        }
       ],
       "layout": {
        "font": {
         "family": "Averta, sans-serif"
        },
        "height": 1000,
        "hoverlabel": {
         "font": {
          "family": "Averta, sans-serif",
          "size": 16
         }
        },
        "legend": {
         "font": {
          "size": 16
         }
        },
        "template": {
         "data": {
          "bar": [
           {
            "error_x": {
             "color": "#2a3f5f"
            },
            "error_y": {
             "color": "#2a3f5f"
            },
            "marker": {
             "line": {
              "color": "#E5ECF6",
              "width": 0.5
             },
             "pattern": {
              "fillmode": "overlay",
              "size": 10,
              "solidity": 0.2
             }
            },
            "type": "bar"
           }
          ],
          "barpolar": [
           {
            "marker": {
             "line": {
              "color": "#E5ECF6",
              "width": 0.5
             },
             "pattern": {
              "fillmode": "overlay",
              "size": 10,
              "solidity": 0.2
             }
            },
            "type": "barpolar"
           }
          ],
          "carpet": [
           {
            "aaxis": {
             "endlinecolor": "#2a3f5f",
             "gridcolor": "white",
             "linecolor": "white",
             "minorgridcolor": "white",
             "startlinecolor": "#2a3f5f"
            },
            "baxis": {
             "endlinecolor": "#2a3f5f",
             "gridcolor": "white",
             "linecolor": "white",
             "minorgridcolor": "white",
             "startlinecolor": "#2a3f5f"
            },
            "type": "carpet"
           }
          ],
          "choropleth": [
           {
            "colorbar": {
             "outlinewidth": 0,
             "ticks": ""
            },
            "type": "choropleth"
           }
          ],
          "contour": [
           {
            "colorbar": {
             "outlinewidth": 0,
             "ticks": ""
            },
            "colorscale": [
             [
              0,
              "#0d0887"
             ],
             [
              0.1111111111111111,
              "#46039f"
             ],
             [
              0.2222222222222222,
              "#7201a8"
             ],
             [
              0.3333333333333333,
              "#9c179e"
             ],
             [
              0.4444444444444444,
              "#bd3786"
             ],
             [
              0.5555555555555556,
              "#d8576b"
             ],
             [
              0.6666666666666666,
              "#ed7953"
             ],
             [
              0.7777777777777778,
              "#fb9f3a"
             ],
             [
              0.8888888888888888,
              "#fdca26"
             ],
             [
              1,
              "#f0f921"
             ]
            ],
            "type": "contour"
           }
          ],
          "contourcarpet": [
           {
            "colorbar": {
             "outlinewidth": 0,
             "ticks": ""
            },
            "type": "contourcarpet"
           }
          ],
          "heatmap": [
           {
            "colorbar": {
             "outlinewidth": 0,
             "ticks": ""
            },
            "colorscale": [
             [
              0,
              "#0d0887"
             ],
             [
              0.1111111111111111,
              "#46039f"
             ],
             [
              0.2222222222222222,
              "#7201a8"
             ],
             [
              0.3333333333333333,
              "#9c179e"
             ],
             [
              0.4444444444444444,
              "#bd3786"
             ],
             [
              0.5555555555555556,
              "#d8576b"
             ],
             [
              0.6666666666666666,
              "#ed7953"
             ],
             [
              0.7777777777777778,
              "#fb9f3a"
             ],
             [
              0.8888888888888888,
              "#fdca26"
             ],
             [
              1,
              "#f0f921"
             ]
            ],
            "type": "heatmap"
           }
          ],
          "heatmapgl": [
           {
            "colorbar": {
             "outlinewidth": 0,
             "ticks": ""
            },
            "colorscale": [
             [
              0,
              "#0d0887"
             ],
             [
              0.1111111111111111,
              "#46039f"
             ],
             [
              0.2222222222222222,
              "#7201a8"
             ],
             [
              0.3333333333333333,
              "#9c179e"
             ],
             [
              0.4444444444444444,
              "#bd3786"
             ],
             [
              0.5555555555555556,
              "#d8576b"
             ],
             [
              0.6666666666666666,
              "#ed7953"
             ],
             [
              0.7777777777777778,
              "#fb9f3a"
             ],
             [
              0.8888888888888888,
              "#fdca26"
             ],
             [
              1,
              "#f0f921"
             ]
            ],
            "type": "heatmapgl"
           }
          ],
          "histogram": [
           {
            "marker": {
             "pattern": {
              "fillmode": "overlay",
              "size": 10,
              "solidity": 0.2
             }
            },
            "type": "histogram"
           }
          ],
          "histogram2d": [
           {
            "colorbar": {
             "outlinewidth": 0,
             "ticks": ""
            },
            "colorscale": [
             [
              0,
              "#0d0887"
             ],
             [
              0.1111111111111111,
              "#46039f"
             ],
             [
              0.2222222222222222,
              "#7201a8"
             ],
             [
              0.3333333333333333,
              "#9c179e"
             ],
             [
              0.4444444444444444,
              "#bd3786"
             ],
             [
              0.5555555555555556,
              "#d8576b"
             ],
             [
              0.6666666666666666,
              "#ed7953"
             ],
             [
              0.7777777777777778,
              "#fb9f3a"
             ],
             [
              0.8888888888888888,
              "#fdca26"
             ],
             [
              1,
              "#f0f921"
             ]
            ],
            "type": "histogram2d"
           }
          ],
          "histogram2dcontour": [
           {
            "colorbar": {
             "outlinewidth": 0,
             "ticks": ""
            },
            "colorscale": [
             [
              0,
              "#0d0887"
             ],
             [
              0.1111111111111111,
              "#46039f"
             ],
             [
              0.2222222222222222,
              "#7201a8"
             ],
             [
              0.3333333333333333,
              "#9c179e"
             ],
             [
              0.4444444444444444,
              "#bd3786"
             ],
             [
              0.5555555555555556,
              "#d8576b"
             ],
             [
              0.6666666666666666,
              "#ed7953"
             ],
             [
              0.7777777777777778,
              "#fb9f3a"
             ],
             [
              0.8888888888888888,
              "#fdca26"
             ],
             [
              1,
              "#f0f921"
             ]
            ],
            "type": "histogram2dcontour"
           }
          ],
          "mesh3d": [
           {
            "colorbar": {
             "outlinewidth": 0,
             "ticks": ""
            },
            "type": "mesh3d"
           }
          ],
          "parcoords": [
           {
            "line": {
             "colorbar": {
              "outlinewidth": 0,
              "ticks": ""
             }
            },
            "type": "parcoords"
           }
          ],
          "pie": [
           {
            "automargin": true,
            "type": "pie"
           }
          ],
          "scatter": [
           {
            "fillpattern": {
             "fillmode": "overlay",
             "size": 10,
             "solidity": 0.2
            },
            "type": "scatter"
           }
          ],
          "scatter3d": [
           {
            "line": {
             "colorbar": {
              "outlinewidth": 0,
              "ticks": ""
             }
            },
            "marker": {
             "colorbar": {
              "outlinewidth": 0,
              "ticks": ""
             }
            },
            "type": "scatter3d"
           }
          ],
          "scattercarpet": [
           {
            "marker": {
             "colorbar": {
              "outlinewidth": 0,
              "ticks": ""
             }
            },
            "type": "scattercarpet"
           }
          ],
          "scattergeo": [
           {
            "marker": {
             "colorbar": {
              "outlinewidth": 0,
              "ticks": ""
             }
            },
            "type": "scattergeo"
           }
          ],
          "scattergl": [
           {
            "marker": {
             "colorbar": {
              "outlinewidth": 0,
              "ticks": ""
             }
            },
            "type": "scattergl"
           }
          ],
          "scattermapbox": [
           {
            "marker": {
             "colorbar": {
              "outlinewidth": 0,
              "ticks": ""
             }
            },
            "type": "scattermapbox"
           }
          ],
          "scatterpolar": [
           {
            "marker": {
             "colorbar": {
              "outlinewidth": 0,
              "ticks": ""
             }
            },
            "type": "scatterpolar"
           }
          ],
          "scatterpolargl": [
           {
            "marker": {
             "colorbar": {
              "outlinewidth": 0,
              "ticks": ""
             }
            },
            "type": "scatterpolargl"
           }
          ],
          "scatterternary": [
           {
            "marker": {
             "colorbar": {
              "outlinewidth": 0,
              "ticks": ""
             }
            },
            "type": "scatterternary"
           }
          ],
          "surface": [
           {
            "colorbar": {
             "outlinewidth": 0,
             "ticks": ""
            },
            "colorscale": [
             [
              0,
              "#0d0887"
             ],
             [
              0.1111111111111111,
              "#46039f"
             ],
             [
              0.2222222222222222,
              "#7201a8"
             ],
             [
              0.3333333333333333,
              "#9c179e"
             ],
             [
              0.4444444444444444,
              "#bd3786"
             ],
             [
              0.5555555555555556,
              "#d8576b"
             ],
             [
              0.6666666666666666,
              "#ed7953"
             ],
             [
              0.7777777777777778,
              "#fb9f3a"
             ],
             [
              0.8888888888888888,
              "#fdca26"
             ],
             [
              1,
              "#f0f921"
             ]
            ],
            "type": "surface"
           }
          ],
          "table": [
           {
            "cells": {
             "fill": {
              "color": "#EBF0F8"
             },
             "line": {
              "color": "white"
             }
            },
            "header": {
             "fill": {
              "color": "#C8D4E3"
             },
             "line": {
              "color": "white"
             }
            },
            "type": "table"
           }
          ]
         },
         "layout": {
          "annotationdefaults": {
           "arrowcolor": "#2a3f5f",
           "arrowhead": 0,
           "arrowwidth": 1
          },
          "autotypenumbers": "strict",
          "coloraxis": {
           "colorbar": {
            "outlinewidth": 0,
            "ticks": ""
           }
          },
          "colorscale": {
           "diverging": [
            [
             0,
             "#8e0152"
            ],
            [
             0.1,
             "#c51b7d"
            ],
            [
             0.2,
             "#de77ae"
            ],
            [
             0.3,
             "#f1b6da"
            ],
            [
             0.4,
             "#fde0ef"
            ],
            [
             0.5,
             "#f7f7f7"
            ],
            [
             0.6,
             "#e6f5d0"
            ],
            [
             0.7,
             "#b8e186"
            ],
            [
             0.8,
             "#7fbc41"
            ],
            [
             0.9,
             "#4d9221"
            ],
            [
             1,
             "#276419"
            ]
           ],
           "sequential": [
            [
             0,
             "#0d0887"
            ],
            [
             0.1111111111111111,
             "#46039f"
            ],
            [
             0.2222222222222222,
             "#7201a8"
            ],
            [
             0.3333333333333333,
             "#9c179e"
            ],
            [
             0.4444444444444444,
             "#bd3786"
            ],
            [
             0.5555555555555556,
             "#d8576b"
            ],
            [
             0.6666666666666666,
             "#ed7953"
            ],
            [
             0.7777777777777778,
             "#fb9f3a"
            ],
            [
             0.8888888888888888,
             "#fdca26"
            ],
            [
             1,
             "#f0f921"
            ]
           ],
           "sequentialminus": [
            [
             0,
             "#0d0887"
            ],
            [
             0.1111111111111111,
             "#46039f"
            ],
            [
             0.2222222222222222,
             "#7201a8"
            ],
            [
             0.3333333333333333,
             "#9c179e"
            ],
            [
             0.4444444444444444,
             "#bd3786"
            ],
            [
             0.5555555555555556,
             "#d8576b"
            ],
            [
             0.6666666666666666,
             "#ed7953"
            ],
            [
             0.7777777777777778,
             "#fb9f3a"
            ],
            [
             0.8888888888888888,
             "#fdca26"
            ],
            [
             1,
             "#f0f921"
            ]
           ]
          },
          "colorway": [
           "#636efa",
           "#EF553B",
           "#00cc96",
           "#ab63fa",
           "#FFA15A",
           "#19d3f3",
           "#FF6692",
           "#B6E880",
           "#FF97FF",
           "#FECB52"
          ],
          "font": {
           "color": "#2a3f5f"
          },
          "geo": {
           "bgcolor": "white",
           "lakecolor": "white",
           "landcolor": "#E5ECF6",
           "showlakes": true,
           "showland": true,
           "subunitcolor": "white"
          },
          "hoverlabel": {
           "align": "left"
          },
          "hovermode": "closest",
          "mapbox": {
           "style": "light"
          },
          "paper_bgcolor": "white",
          "plot_bgcolor": "#E5ECF6",
          "polar": {
           "angularaxis": {
            "gridcolor": "white",
            "linecolor": "white",
            "ticks": ""
           },
           "bgcolor": "#E5ECF6",
           "radialaxis": {
            "gridcolor": "white",
            "linecolor": "white",
            "ticks": ""
           }
          },
          "scene": {
           "xaxis": {
            "backgroundcolor": "#E5ECF6",
            "gridcolor": "white",
            "gridwidth": 2,
            "linecolor": "white",
            "showbackground": true,
            "ticks": "",
            "zerolinecolor": "white"
           },
           "yaxis": {
            "backgroundcolor": "#E5ECF6",
            "gridcolor": "white",
            "gridwidth": 2,
            "linecolor": "white",
            "showbackground": true,
            "ticks": "",
            "zerolinecolor": "white"
           },
           "zaxis": {
            "backgroundcolor": "#E5ECF6",
            "gridcolor": "white",
            "gridwidth": 2,
            "linecolor": "white",
            "showbackground": true,
            "ticks": "",
            "zerolinecolor": "white"
           }
          },
          "shapedefaults": {
           "line": {
            "color": "#2a3f5f"
           }
          },
          "ternary": {
           "aaxis": {
            "gridcolor": "white",
            "linecolor": "white",
            "ticks": ""
           },
           "baxis": {
            "gridcolor": "white",
            "linecolor": "white",
            "ticks": ""
           },
           "bgcolor": "#E5ECF6",
           "caxis": {
            "gridcolor": "white",
            "linecolor": "white",
            "ticks": ""
           }
          },
          "title": {
           "x": 0.05
          },
          "xaxis": {
           "automargin": true,
           "gridcolor": "white",
           "linecolor": "white",
           "ticks": "",
           "title": {
            "standoff": 15
           },
           "zerolinecolor": "white",
           "zerolinewidth": 2
          },
          "yaxis": {
           "automargin": true,
           "gridcolor": "white",
           "linecolor": "white",
           "ticks": "",
           "title": {
            "standoff": 15
           },
           "zerolinecolor": "white",
           "zerolinewidth": 2
          }
         }
        },
        "width": 1000,
        "xaxis": {
         "tickfont": {
          "size": 16
         },
         "title": {
          "font": {
           "size": 18
          },
          "text": "Passer Rating Differential"
         }
        },
        "yaxis": {
         "tickfont": {
          "size": 16
         },
         "title": {
          "font": {
           "size": 18
          },
          "text": "Win Percentage"
         }
        }
       }
      },
      "text/html": [
       "<div>                            <div id=\"40109afa-9203-46b2-8953-b6889140bd22\" class=\"plotly-graph-div\" style=\"height:1000px; width:1000px;\"></div>            <script type=\"text/javascript\">                require([\"plotly\"], function(Plotly) {                    window.PLOTLYENV=window.PLOTLYENV || {};                                    if (document.getElementById(\"40109afa-9203-46b2-8953-b6889140bd22\")) {                    Plotly.newPlot(                        \"40109afa-9203-46b2-8953-b6889140bd22\",                        [{\"hovertemplate\":\"<b>Aaron Rodgers</b><br>%{y}% win rate with %{x} Passer Rating Differential<extra></extra>\",\"line\":{\"color\":\"#203731\"},\"mode\":\"markers\",\"name\":\"Aaron Rodgers\",\"x\":[9.38],\"y\":[47.06],\"type\":\"scatter\"},{\"hovertemplate\":\"<b>Andy Dalton</b><br>%{y}% win rate with %{x} Passer Rating Differential<extra></extra>\",\"line\":{\"color\":\"#D3BC8D\"},\"mode\":\"markers\",\"name\":\"Andy Dalton\",\"x\":[12.79],\"y\":[42.86],\"type\":\"scatter\"},{\"hovertemplate\":\"<b>Bailey Zappe</b><br>%{y}% win rate with %{x} Passer Rating Differential<extra></extra>\",\"line\":{\"color\":\"#002244\"},\"mode\":\"markers\",\"name\":\"Bailey Zappe\",\"x\":[24.52],\"y\":[50.0],\"type\":\"scatter\"},{\"hovertemplate\":\"<b>Baker Mayfield</b><br>%{y}% win rate with %{x} Passer Rating Differential<extra></extra>\",\"line\":{\"color\":\"#0085CA\"},\"mode\":\"markers\",\"name\":\"Baker Mayfield\",\"x\":[-13.77,6.88],\"y\":[14.29,40.0],\"type\":\"scatter\"},{\"hovertemplate\":\"<b>Brett Rypien</b><br>%{y}% win rate with %{x} Passer Rating Differential<extra></extra>\",\"line\":{\"color\":\"#002244\"},\"mode\":\"markers\",\"name\":\"Brett Rypien\",\"x\":[22.05],\"y\":[50.0],\"type\":\"scatter\"},{\"hovertemplate\":\"<b>Brock Purdy</b><br>%{y}% win rate with %{x} Passer Rating Differential<extra></extra>\",\"line\":{\"color\":\"#AA0000\"},\"mode\":\"markers\",\"name\":\"Brock Purdy\",\"x\":[24.5],\"y\":[100.0],\"type\":\"scatter\"},{\"hovertemplate\":\"<b>Carson Wentz</b><br>%{y}% win rate with %{x} Passer Rating Differential<extra></extra>\",\"line\":{\"color\":\"#5A1414\"},\"mode\":\"markers\",\"name\":\"Carson Wentz\",\"x\":[-23.73],\"y\":[28.57],\"type\":\"scatter\"},{\"hovertemplate\":\"<b>Colt McCoy</b><br>%{y}% win rate with %{x} Passer Rating Differential<extra></extra>\",\"line\":{\"color\":\"#97233F\"},\"mode\":\"markers\",\"name\":\"Colt McCoy\",\"x\":[-17.97],\"y\":[33.33],\"type\":\"scatter\"},{\"hovertemplate\":\"<b>Cooper Rush</b><br>%{y}% win rate with %{x} Passer Rating Differential<extra></extra>\",\"line\":{\"color\":\"#002244\"},\"mode\":\"markers\",\"name\":\"Cooper Rush\",\"x\":[10.48],\"y\":[80.0],\"type\":\"scatter\"},{\"hovertemplate\":\"<b>Dak Prescott</b><br>%{y}% win rate with %{x} Passer Rating Differential<extra></extra>\",\"line\":{\"color\":\"#002244\"},\"mode\":\"markers\",\"name\":\"Dak Prescott\",\"x\":[6.25],\"y\":[66.67],\"type\":\"scatter\"},{\"hovertemplate\":\"<b>Daniel Jones</b><br>%{y}% win rate with %{x} Passer Rating Differential<extra></extra>\",\"line\":{\"color\":\"#0B2265\"},\"mode\":\"markers\",\"name\":\"Daniel Jones\",\"x\":[4.55],\"y\":[56.25],\"type\":\"scatter\"},{\"hovertemplate\":\"<b>Davis Mills</b><br>%{y}% win rate with %{x} Passer Rating Differential<extra></extra>\",\"line\":{\"color\":\"#03202F\"},\"mode\":\"markers\",\"name\":\"Davis Mills\",\"x\":[-1.75],\"y\":[20.0],\"type\":\"scatter\"},{\"hovertemplate\":\"<b>Derek Carr</b><br>%{y}% win rate with %{x} Passer Rating Differential<extra></extra>\",\"line\":{\"color\":\"#000000\"},\"mode\":\"markers\",\"name\":\"Derek Carr\",\"x\":[-15.23],\"y\":[40.0],\"type\":\"scatter\"},{\"hovertemplate\":\"<b>Deshaun Watson</b><br>%{y}% win rate with %{x} Passer Rating Differential<extra></extra>\",\"line\":{\"color\":\"#FF3C00\"},\"mode\":\"markers\",\"name\":\"Deshaun Watson\",\"x\":[16.52],\"y\":[50.0],\"type\":\"scatter\"},{\"hovertemplate\":\"<b>Desmond Ridder</b><br>%{y}% win rate with %{x} Passer Rating Differential<extra></extra>\",\"line\":{\"color\":\"#A71930\"},\"mode\":\"markers\",\"name\":\"Desmond Ridder\",\"x\":[-19.42],\"y\":[50.0],\"type\":\"scatter\"},{\"hovertemplate\":\"<b>Geno Smith</b><br>%{y}% win rate with %{x} Passer Rating Differential<extra></extra>\",\"line\":{\"color\":\"#002244\"},\"mode\":\"markers\",\"name\":\"Geno Smith\",\"x\":[12.48],\"y\":[52.94],\"type\":\"scatter\"},{\"hovertemplate\":\"<b>Jacoby Brissett</b><br>%{y}% win rate with %{x} Passer Rating Differential<extra></extra>\",\"line\":{\"color\":\"#FF3C00\"},\"mode\":\"markers\",\"name\":\"Jacoby Brissett\",\"x\":[-1.39],\"y\":[36.36],\"type\":\"scatter\"},{\"hovertemplate\":\"<b>Jalen Hurts</b><br>%{y}% win rate with %{x} Passer Rating Differential<extra></extra>\",\"line\":{\"color\":\"#004C54\"},\"mode\":\"markers\",\"name\":\"Jalen Hurts\",\"x\":[23.49],\"y\":[93.33],\"type\":\"scatter\"},{\"hovertemplate\":\"<b>Jameis Winston</b><br>%{y}% win rate with %{x} Passer Rating Differential<extra></extra>\",\"line\":{\"color\":\"#D3BC8D\"},\"mode\":\"markers\",\"name\":\"Jameis Winston\",\"x\":[-1.9],\"y\":[33.33],\"type\":\"scatter\"},{\"hovertemplate\":\"<b>Jared Goff</b><br>%{y}% win rate with %{x} Passer Rating Differential<extra></extra>\",\"line\":{\"color\":\"#0076B6\"},\"mode\":\"markers\",\"name\":\"Jared Goff\",\"x\":[5.15],\"y\":[52.94],\"type\":\"scatter\"},{\"hovertemplate\":\"<b>Jimmy Garoppolo</b><br>%{y}% win rate with %{x} Passer Rating Differential<extra></extra>\",\"line\":{\"color\":\"#AA0000\"},\"mode\":\"markers\",\"name\":\"Jimmy Garoppolo\",\"x\":[14.76],\"y\":[70.0],\"type\":\"scatter\"},{\"hovertemplate\":\"<b>Joe Burrow</b><br>%{y}% win rate with %{x} Passer Rating Differential<extra></extra>\",\"line\":{\"color\":\"#FB4F14\"},\"mode\":\"markers\",\"name\":\"Joe Burrow\",\"x\":[10.37],\"y\":[75.0],\"type\":\"scatter\"},{\"hovertemplate\":\"<b>Joe Flacco</b><br>%{y}% win rate with %{x} Passer Rating Differential<extra></extra>\",\"line\":{\"color\":\"#003F2D\"},\"mode\":\"markers\",\"name\":\"Joe Flacco\",\"x\":[-19.85],\"y\":[25.0],\"type\":\"scatter\"},{\"hovertemplate\":\"<b>Josh Allen</b><br>%{y}% win rate with %{x} Passer Rating Differential<extra></extra>\",\"line\":{\"color\":\"#00338D\"},\"mode\":\"markers\",\"name\":\"Josh Allen\",\"x\":[11.31],\"y\":[81.25],\"type\":\"scatter\"},{\"hovertemplate\":\"<b>Justin Fields</b><br>%{y}% win rate with %{x} Passer Rating Differential<extra></extra>\",\"line\":{\"color\":\"#0B162A\"},\"mode\":\"markers\",\"name\":\"Justin Fields\",\"x\":[-16.83],\"y\":[20.0],\"type\":\"scatter\"},{\"hovertemplate\":\"<b>Justin Herbert</b><br>%{y}% win rate with %{x} Passer Rating Differential<extra></extra>\",\"line\":{\"color\":\"#007BC7\"},\"mode\":\"markers\",\"name\":\"Justin Herbert\",\"x\":[8.76],\"y\":[58.82],\"type\":\"scatter\"},{\"hovertemplate\":\"<b>Kenny Pickett</b><br>%{y}% win rate with %{x} Passer Rating Differential<extra></extra>\",\"line\":{\"color\":\"#000000\"},\"mode\":\"markers\",\"name\":\"Kenny Pickett\",\"x\":[-7.67],\"y\":[54.55],\"type\":\"scatter\"},{\"hovertemplate\":\"<b>Kirk Cousins</b><br>%{y}% win rate with %{x} Passer Rating Differential<extra></extra>\",\"line\":{\"color\":\"#4F2683\"},\"mode\":\"markers\",\"name\":\"Kirk Cousins\",\"x\":[-3.69],\"y\":[76.47],\"type\":\"scatter\"},{\"hovertemplate\":\"<b>Kyler Murray</b><br>%{y}% win rate with %{x} Passer Rating Differential<extra></extra>\",\"line\":{\"color\":\"#97233F\"},\"mode\":\"markers\",\"name\":\"Kyler Murray\",\"x\":[-10.42],\"y\":[30.0],\"type\":\"scatter\"},{\"hovertemplate\":\"<b>Lamar Jackson</b><br>%{y}% win rate with %{x} Passer Rating Differential<extra></extra>\",\"line\":{\"color\":\"#241773\"},\"mode\":\"markers\",\"name\":\"Lamar Jackson\",\"x\":[1.8],\"y\":[63.64],\"type\":\"scatter\"},{\"hovertemplate\":\"<b>Mac Jones</b><br>%{y}% win rate with %{x} Passer Rating Differential<extra></extra>\",\"line\":{\"color\":\"#002244\"},\"mode\":\"markers\",\"name\":\"Mac Jones\",\"x\":[-0.27],\"y\":[46.15],\"type\":\"scatter\"},{\"hovertemplate\":\"<b>Malik Willis</b><br>%{y}% win rate with %{x} Passer Rating Differential<extra></extra>\",\"line\":{\"color\":\"#002244\"},\"mode\":\"markers\",\"name\":\"Malik Willis\",\"x\":[-37.73],\"y\":[33.33],\"type\":\"scatter\"},{\"hovertemplate\":\"<b>Marcus Mariota</b><br>%{y}% win rate with %{x} Passer Rating Differential<extra></extra>\",\"line\":{\"color\":\"#A71930\"},\"mode\":\"markers\",\"name\":\"Marcus Mariota\",\"x\":[-5.88],\"y\":[38.46],\"type\":\"scatter\"},{\"hovertemplate\":\"<b>Matt Ryan</b><br>%{y}% win rate with %{x} Passer Rating Differential<extra></extra>\",\"line\":{\"color\":\"#002C5F\"},\"mode\":\"markers\",\"name\":\"Matt Ryan\",\"x\":[-13.65],\"y\":[33.33],\"type\":\"scatter\"},{\"hovertemplate\":\"<b>Matthew Stafford</b><br>%{y}% win rate with %{x} Passer Rating Differential<extra></extra>\",\"line\":{\"color\":\"#003594\"},\"mode\":\"markers\",\"name\":\"Matthew Stafford\",\"x\":[-7.66],\"y\":[33.33],\"type\":\"scatter\"},{\"hovertemplate\":\"<b>Mike White</b><br>%{y}% win rate with %{x} Passer Rating Differential<extra></extra>\",\"line\":{\"color\":\"#003F2D\"},\"mode\":\"markers\",\"name\":\"Mike White\",\"x\":[1.18],\"y\":[25.0],\"type\":\"scatter\"},{\"hovertemplate\":\"<b>Mitchell Trubisky</b><br>%{y}% win rate with %{x} Passer Rating Differential<extra></extra>\",\"line\":{\"color\":\"#000000\"},\"mode\":\"markers\",\"name\":\"Mitchell Trubisky\",\"x\":[3.55],\"y\":[50.0],\"type\":\"scatter\"},{\"hovertemplate\":\"<b>Patrick Mahomes</b><br>%{y}% win rate with %{x} Passer Rating Differential<extra></extra>\",\"line\":{\"color\":\"#E31837\"},\"mode\":\"markers\",\"name\":\"Patrick Mahomes\",\"x\":[14.36],\"y\":[82.35],\"type\":\"scatter\"},{\"hovertemplate\":\"<b>Phillip Walker</b><br>%{y}% win rate with %{x} Passer Rating Differential<extra></extra>\",\"line\":{\"color\":\"#0085CA\"},\"mode\":\"markers\",\"name\":\"Phillip Walker\",\"x\":[-2.95],\"y\":[50.0],\"type\":\"scatter\"},{\"hovertemplate\":\"<b>Russell Wilson</b><br>%{y}% win rate with %{x} Passer Rating Differential<extra></extra>\",\"line\":{\"color\":\"#002244\"},\"mode\":\"markers\",\"name\":\"Russell Wilson\",\"x\":[-7.49],\"y\":[26.67],\"type\":\"scatter\"},{\"hovertemplate\":\"<b>Ryan Tannehill</b><br>%{y}% win rate with %{x} Passer Rating Differential<extra></extra>\",\"line\":{\"color\":\"#002244\"},\"mode\":\"markers\",\"name\":\"Ryan Tannehill\",\"x\":[-9.47],\"y\":[50.0],\"type\":\"scatter\"},{\"hovertemplate\":\"<b>Sam Darnold</b><br>%{y}% win rate with %{x} Passer Rating Differential<extra></extra>\",\"line\":{\"color\":\"#0085CA\"},\"mode\":\"markers\",\"name\":\"Sam Darnold\",\"x\":[-8.52],\"y\":[66.67],\"type\":\"scatter\"},{\"hovertemplate\":\"<b>Sam Howell</b><br>%{y}% win rate with %{x} Passer Rating Differential<extra></extra>\",\"line\":{\"color\":\"#5A1414\"},\"mode\":\"markers\",\"name\":\"Sam Howell\",\"x\":[27.4],\"y\":[100.0],\"type\":\"scatter\"},{\"hovertemplate\":\"<b>Skylar Thompson</b><br>%{y}% win rate with %{x} Passer Rating Differential<extra></extra>\",\"line\":{\"color\":\"#008E97\"},\"mode\":\"markers\",\"name\":\"Skylar Thompson\",\"x\":[-14.05],\"y\":[50.0],\"type\":\"scatter\"},{\"hovertemplate\":\"<b>Taylor Heinicke</b><br>%{y}% win rate with %{x} Passer Rating Differential<extra></extra>\",\"line\":{\"color\":\"#5A1414\"},\"mode\":\"markers\",\"name\":\"Taylor Heinicke\",\"x\":[0.38],\"y\":[55.56],\"type\":\"scatter\"},{\"hovertemplate\":\"<b>Tom Brady</b><br>%{y}% win rate with %{x} Passer Rating Differential<extra></extra>\",\"line\":{\"color\":\"#A71930\"},\"mode\":\"markers\",\"name\":\"Tom Brady\",\"x\":[-2.05],\"y\":[47.06],\"type\":\"scatter\"},{\"hovertemplate\":\"<b>Trevor Lawrence</b><br>%{y}% win rate with %{x} Passer Rating Differential<extra></extra>\",\"line\":{\"color\":\"#006778\"},\"mode\":\"markers\",\"name\":\"Trevor Lawrence\",\"x\":[8.58],\"y\":[52.94],\"type\":\"scatter\"},{\"hovertemplate\":\"<b>Tua Tagovailoa</b><br>%{y}% win rate with %{x} Passer Rating Differential<extra></extra>\",\"line\":{\"color\":\"#008E97\"},\"mode\":\"markers\",\"name\":\"Tua Tagovailoa\",\"x\":[11.11],\"y\":[66.67],\"type\":\"scatter\"},{\"hovertemplate\":\"<b>Tyler Huntley</b><br>%{y}% win rate with %{x} Passer Rating Differential<extra></extra>\",\"line\":{\"color\":\"#241773\"},\"mode\":\"markers\",\"name\":\"Tyler Huntley\",\"x\":[-4.98],\"y\":[60.0],\"type\":\"scatter\"},{\"hovertemplate\":\"<b>Zach Wilson</b><br>%{y}% win rate with %{x} Passer Rating Differential<extra></extra>\",\"line\":{\"color\":\"#003F2D\"},\"mode\":\"markers\",\"name\":\"Zach Wilson\",\"x\":[-3.74],\"y\":[55.56],\"type\":\"scatter\"}],                        {\"template\":{\"data\":{\"histogram2dcontour\":[{\"type\":\"histogram2dcontour\",\"colorbar\":{\"outlinewidth\":0,\"ticks\":\"\"},\"colorscale\":[[0.0,\"#0d0887\"],[0.1111111111111111,\"#46039f\"],[0.2222222222222222,\"#7201a8\"],[0.3333333333333333,\"#9c179e\"],[0.4444444444444444,\"#bd3786\"],[0.5555555555555556,\"#d8576b\"],[0.6666666666666666,\"#ed7953\"],[0.7777777777777778,\"#fb9f3a\"],[0.8888888888888888,\"#fdca26\"],[1.0,\"#f0f921\"]]}],\"choropleth\":[{\"type\":\"choropleth\",\"colorbar\":{\"outlinewidth\":0,\"ticks\":\"\"}}],\"histogram2d\":[{\"type\":\"histogram2d\",\"colorbar\":{\"outlinewidth\":0,\"ticks\":\"\"},\"colorscale\":[[0.0,\"#0d0887\"],[0.1111111111111111,\"#46039f\"],[0.2222222222222222,\"#7201a8\"],[0.3333333333333333,\"#9c179e\"],[0.4444444444444444,\"#bd3786\"],[0.5555555555555556,\"#d8576b\"],[0.6666666666666666,\"#ed7953\"],[0.7777777777777778,\"#fb9f3a\"],[0.8888888888888888,\"#fdca26\"],[1.0,\"#f0f921\"]]}],\"heatmap\":[{\"type\":\"heatmap\",\"colorbar\":{\"outlinewidth\":0,\"ticks\":\"\"},\"colorscale\":[[0.0,\"#0d0887\"],[0.1111111111111111,\"#46039f\"],[0.2222222222222222,\"#7201a8\"],[0.3333333333333333,\"#9c179e\"],[0.4444444444444444,\"#bd3786\"],[0.5555555555555556,\"#d8576b\"],[0.6666666666666666,\"#ed7953\"],[0.7777777777777778,\"#fb9f3a\"],[0.8888888888888888,\"#fdca26\"],[1.0,\"#f0f921\"]]}],\"heatmapgl\":[{\"type\":\"heatmapgl\",\"colorbar\":{\"outlinewidth\":0,\"ticks\":\"\"},\"colorscale\":[[0.0,\"#0d0887\"],[0.1111111111111111,\"#46039f\"],[0.2222222222222222,\"#7201a8\"],[0.3333333333333333,\"#9c179e\"],[0.4444444444444444,\"#bd3786\"],[0.5555555555555556,\"#d8576b\"],[0.6666666666666666,\"#ed7953\"],[0.7777777777777778,\"#fb9f3a\"],[0.8888888888888888,\"#fdca26\"],[1.0,\"#f0f921\"]]}],\"contourcarpet\":[{\"type\":\"contourcarpet\",\"colorbar\":{\"outlinewidth\":0,\"ticks\":\"\"}}],\"contour\":[{\"type\":\"contour\",\"colorbar\":{\"outlinewidth\":0,\"ticks\":\"\"},\"colorscale\":[[0.0,\"#0d0887\"],[0.1111111111111111,\"#46039f\"],[0.2222222222222222,\"#7201a8\"],[0.3333333333333333,\"#9c179e\"],[0.4444444444444444,\"#bd3786\"],[0.5555555555555556,\"#d8576b\"],[0.6666666666666666,\"#ed7953\"],[0.7777777777777778,\"#fb9f3a\"],[0.8888888888888888,\"#fdca26\"],[1.0,\"#f0f921\"]]}],\"surface\":[{\"type\":\"surface\",\"colorbar\":{\"outlinewidth\":0,\"ticks\":\"\"},\"colorscale\":[[0.0,\"#0d0887\"],[0.1111111111111111,\"#46039f\"],[0.2222222222222222,\"#7201a8\"],[0.3333333333333333,\"#9c179e\"],[0.4444444444444444,\"#bd3786\"],[0.5555555555555556,\"#d8576b\"],[0.6666666666666666,\"#ed7953\"],[0.7777777777777778,\"#fb9f3a\"],[0.8888888888888888,\"#fdca26\"],[1.0,\"#f0f921\"]]}],\"mesh3d\":[{\"type\":\"mesh3d\",\"colorbar\":{\"outlinewidth\":0,\"ticks\":\"\"}}],\"scatter\":[{\"fillpattern\":{\"fillmode\":\"overlay\",\"size\":10,\"solidity\":0.2},\"type\":\"scatter\"}],\"parcoords\":[{\"type\":\"parcoords\",\"line\":{\"colorbar\":{\"outlinewidth\":0,\"ticks\":\"\"}}}],\"scatterpolargl\":[{\"type\":\"scatterpolargl\",\"marker\":{\"colorbar\":{\"outlinewidth\":0,\"ticks\":\"\"}}}],\"bar\":[{\"error_x\":{\"color\":\"#2a3f5f\"},\"error_y\":{\"color\":\"#2a3f5f\"},\"marker\":{\"line\":{\"color\":\"#E5ECF6\",\"width\":0.5},\"pattern\":{\"fillmode\":\"overlay\",\"size\":10,\"solidity\":0.2}},\"type\":\"bar\"}],\"scattergeo\":[{\"type\":\"scattergeo\",\"marker\":{\"colorbar\":{\"outlinewidth\":0,\"ticks\":\"\"}}}],\"scatterpolar\":[{\"type\":\"scatterpolar\",\"marker\":{\"colorbar\":{\"outlinewidth\":0,\"ticks\":\"\"}}}],\"histogram\":[{\"marker\":{\"pattern\":{\"fillmode\":\"overlay\",\"size\":10,\"solidity\":0.2}},\"type\":\"histogram\"}],\"scattergl\":[{\"type\":\"scattergl\",\"marker\":{\"colorbar\":{\"outlinewidth\":0,\"ticks\":\"\"}}}],\"scatter3d\":[{\"type\":\"scatter3d\",\"line\":{\"colorbar\":{\"outlinewidth\":0,\"ticks\":\"\"}},\"marker\":{\"colorbar\":{\"outlinewidth\":0,\"ticks\":\"\"}}}],\"scattermapbox\":[{\"type\":\"scattermapbox\",\"marker\":{\"colorbar\":{\"outlinewidth\":0,\"ticks\":\"\"}}}],\"scatterternary\":[{\"type\":\"scatterternary\",\"marker\":{\"colorbar\":{\"outlinewidth\":0,\"ticks\":\"\"}}}],\"scattercarpet\":[{\"type\":\"scattercarpet\",\"marker\":{\"colorbar\":{\"outlinewidth\":0,\"ticks\":\"\"}}}],\"carpet\":[{\"aaxis\":{\"endlinecolor\":\"#2a3f5f\",\"gridcolor\":\"white\",\"linecolor\":\"white\",\"minorgridcolor\":\"white\",\"startlinecolor\":\"#2a3f5f\"},\"baxis\":{\"endlinecolor\":\"#2a3f5f\",\"gridcolor\":\"white\",\"linecolor\":\"white\",\"minorgridcolor\":\"white\",\"startlinecolor\":\"#2a3f5f\"},\"type\":\"carpet\"}],\"table\":[{\"cells\":{\"fill\":{\"color\":\"#EBF0F8\"},\"line\":{\"color\":\"white\"}},\"header\":{\"fill\":{\"color\":\"#C8D4E3\"},\"line\":{\"color\":\"white\"}},\"type\":\"table\"}],\"barpolar\":[{\"marker\":{\"line\":{\"color\":\"#E5ECF6\",\"width\":0.5},\"pattern\":{\"fillmode\":\"overlay\",\"size\":10,\"solidity\":0.2}},\"type\":\"barpolar\"}],\"pie\":[{\"automargin\":true,\"type\":\"pie\"}]},\"layout\":{\"autotypenumbers\":\"strict\",\"colorway\":[\"#636efa\",\"#EF553B\",\"#00cc96\",\"#ab63fa\",\"#FFA15A\",\"#19d3f3\",\"#FF6692\",\"#B6E880\",\"#FF97FF\",\"#FECB52\"],\"font\":{\"color\":\"#2a3f5f\"},\"hovermode\":\"closest\",\"hoverlabel\":{\"align\":\"left\"},\"paper_bgcolor\":\"white\",\"plot_bgcolor\":\"#E5ECF6\",\"polar\":{\"bgcolor\":\"#E5ECF6\",\"angularaxis\":{\"gridcolor\":\"white\",\"linecolor\":\"white\",\"ticks\":\"\"},\"radialaxis\":{\"gridcolor\":\"white\",\"linecolor\":\"white\",\"ticks\":\"\"}},\"ternary\":{\"bgcolor\":\"#E5ECF6\",\"aaxis\":{\"gridcolor\":\"white\",\"linecolor\":\"white\",\"ticks\":\"\"},\"baxis\":{\"gridcolor\":\"white\",\"linecolor\":\"white\",\"ticks\":\"\"},\"caxis\":{\"gridcolor\":\"white\",\"linecolor\":\"white\",\"ticks\":\"\"}},\"coloraxis\":{\"colorbar\":{\"outlinewidth\":0,\"ticks\":\"\"}},\"colorscale\":{\"sequential\":[[0.0,\"#0d0887\"],[0.1111111111111111,\"#46039f\"],[0.2222222222222222,\"#7201a8\"],[0.3333333333333333,\"#9c179e\"],[0.4444444444444444,\"#bd3786\"],[0.5555555555555556,\"#d8576b\"],[0.6666666666666666,\"#ed7953\"],[0.7777777777777778,\"#fb9f3a\"],[0.8888888888888888,\"#fdca26\"],[1.0,\"#f0f921\"]],\"sequentialminus\":[[0.0,\"#0d0887\"],[0.1111111111111111,\"#46039f\"],[0.2222222222222222,\"#7201a8\"],[0.3333333333333333,\"#9c179e\"],[0.4444444444444444,\"#bd3786\"],[0.5555555555555556,\"#d8576b\"],[0.6666666666666666,\"#ed7953\"],[0.7777777777777778,\"#fb9f3a\"],[0.8888888888888888,\"#fdca26\"],[1.0,\"#f0f921\"]],\"diverging\":[[0,\"#8e0152\"],[0.1,\"#c51b7d\"],[0.2,\"#de77ae\"],[0.3,\"#f1b6da\"],[0.4,\"#fde0ef\"],[0.5,\"#f7f7f7\"],[0.6,\"#e6f5d0\"],[0.7,\"#b8e186\"],[0.8,\"#7fbc41\"],[0.9,\"#4d9221\"],[1,\"#276419\"]]},\"xaxis\":{\"gridcolor\":\"white\",\"linecolor\":\"white\",\"ticks\":\"\",\"title\":{\"standoff\":15},\"zerolinecolor\":\"white\",\"automargin\":true,\"zerolinewidth\":2},\"yaxis\":{\"gridcolor\":\"white\",\"linecolor\":\"white\",\"ticks\":\"\",\"title\":{\"standoff\":15},\"zerolinecolor\":\"white\",\"automargin\":true,\"zerolinewidth\":2},\"scene\":{\"xaxis\":{\"backgroundcolor\":\"#E5ECF6\",\"gridcolor\":\"white\",\"linecolor\":\"white\",\"showbackground\":true,\"ticks\":\"\",\"zerolinecolor\":\"white\",\"gridwidth\":2},\"yaxis\":{\"backgroundcolor\":\"#E5ECF6\",\"gridcolor\":\"white\",\"linecolor\":\"white\",\"showbackground\":true,\"ticks\":\"\",\"zerolinecolor\":\"white\",\"gridwidth\":2},\"zaxis\":{\"backgroundcolor\":\"#E5ECF6\",\"gridcolor\":\"white\",\"linecolor\":\"white\",\"showbackground\":true,\"ticks\":\"\",\"zerolinecolor\":\"white\",\"gridwidth\":2}},\"shapedefaults\":{\"line\":{\"color\":\"#2a3f5f\"}},\"annotationdefaults\":{\"arrowcolor\":\"#2a3f5f\",\"arrowhead\":0,\"arrowwidth\":1},\"geo\":{\"bgcolor\":\"white\",\"landcolor\":\"#E5ECF6\",\"subunitcolor\":\"white\",\"showland\":true,\"showlakes\":true,\"lakecolor\":\"white\"},\"title\":{\"x\":0.05},\"mapbox\":{\"style\":\"light\"}}},\"font\":{\"family\":\"Averta, sans-serif\"},\"hoverlabel\":{\"font\":{\"family\":\"Averta, sans-serif\",\"size\":16}},\"xaxis\":{\"title\":{\"font\":{\"size\":18},\"text\":\"Passer Rating Differential\"},\"tickfont\":{\"size\":16}},\"yaxis\":{\"title\":{\"font\":{\"size\":18},\"text\":\"Win Percentage\"},\"tickfont\":{\"size\":16}},\"legend\":{\"font\":{\"size\":16}},\"height\":1000,\"width\":1000},                        {\"responsive\": true}                    ).then(function(){\n",
       "                            \n",
       "var gd = document.getElementById('40109afa-9203-46b2-8953-b6889140bd22');\n",
       "var x = new MutationObserver(function (mutations, observer) {{\n",
       "        var display = window.getComputedStyle(gd).display;\n",
       "        if (!display || display === 'none') {{\n",
       "            console.log([gd, 'removed!']);\n",
       "            Plotly.purge(gd);\n",
       "            observer.disconnect();\n",
       "        }}\n",
       "}});\n",
       "\n",
       "// Listen for the removal of the full notebook cells\n",
       "var notebookContainer = gd.closest('#notebook-container');\n",
       "if (notebookContainer) {{\n",
       "    x.observe(notebookContainer, {childList: true});\n",
       "}}\n",
       "\n",
       "// Listen for the clearing of the current output cell\n",
       "var outputEl = gd.closest('.output');\n",
       "if (outputEl) {{\n",
       "    x.observe(outputEl, {childList: true});\n",
       "}}\n",
       "\n",
       "                        })                };                });            </script>        </div>"
      ]
     },
     "metadata": {},
     "output_type": "display_data"
    }
   ],
   "source": [
    "showDiffvsWinPerc(dfQBDifRec3)"
   ]
  },
  {
   "cell_type": "code",
   "execution_count": 223,
   "id": "6c1cc791",
   "metadata": {},
   "outputs": [],
   "source": [
    "#dfQBDifRec4 = dfQBDifRec3[dfQBDifRec3[\"Win%\"]>0]\n",
    "#dfQBDifRec4"
   ]
  },
  {
   "cell_type": "code",
   "execution_count": 229,
   "id": "ced07691",
   "metadata": {},
   "outputs": [
    {
     "data": {
      "application/vnd.plotly.v1+json": {
       "config": {
        "plotlyServerURL": "https://plot.ly"
       },
       "data": [
        {
         "hovertemplate": "<b>%{hovertext}</b><br><br>passer_rating=%{x}<br>Win%=%{y}<extra></extra>",
         "hovertext": [
          "Aaron Rodgers",
          "Andy Dalton",
          "Bailey Zappe",
          "Baker Mayfield",
          "Baker Mayfield",
          "Brett Rypien",
          "Brock Purdy",
          "Carson Wentz",
          "Colt McCoy",
          "Cooper Rush",
          "Dak Prescott",
          "Daniel Jones",
          "Davis Mills",
          "Derek Carr",
          "Deshaun Watson",
          "Desmond Ridder",
          "Geno Smith",
          "Jacoby Brissett",
          "Jalen Hurts",
          "Jameis Winston",
          "Jared Goff",
          "Jimmy Garoppolo",
          "Joe Burrow",
          "Joe Flacco",
          "Josh Allen",
          "Justin Fields",
          "Justin Herbert",
          "Kenny Pickett",
          "Kirk Cousins",
          "Kyler Murray",
          "Lamar Jackson",
          "Mac Jones",
          "Malik Willis",
          "Marcus Mariota",
          "Matt Ryan",
          "Matthew Stafford",
          "Mike White",
          "Mitchell Trubisky",
          "Patrick Mahomes",
          "Phillip Walker",
          "Russell Wilson",
          "Ryan Tannehill",
          "Sam Darnold",
          "Sam Howell",
          "Skylar Thompson",
          "Taylor Heinicke",
          "Tom Brady",
          "Trevor Lawrence",
          "Tua Tagovailoa",
          "Tyler Huntley",
          "Zach Wilson"
         ],
         "legendgroup": "",
         "marker": {
          "color": "#636efa",
          "symbol": "circle"
         },
         "mode": "markers",
         "name": "",
         "orientation": "v",
         "showlegend": false,
         "type": "scatter",
         "x": [
          88.32352941176471,
          88.85000000000001,
          91.575,
          72.62857142857142,
          75.24,
          66.6,
          108.36666666666667,
          68.68571428571428,
          75.06666666666666,
          80.6,
          88.72500000000001,
          88.1875,
          74.48,
          80.53999999999999,
          71.76666666666667,
          80.125,
          94.69411764705882,
          87.11818181818181,
          93.58666666666666,
          76.2,
          95.09411764705882,
          98.41,
          96.36875,
          73.425,
          91.02499999999999,
          71.92666666666668,
          90.36470588235295,
          74.22727272727273,
          87.67058823529412,
          83.87,
          84.8,
          80.02307692307691,
          33.46666666666667,
          83.66153846153846,
          77.11666666666666,
          84.69999999999999,
          80.325,
          86.98333333333333,
          102.20588235294117,
          84.82499999999999,
          77.84666666666666,
          84.73333333333333,
          84.68333333333334,
          72,
          64.6,
          84.52222222222223,
          89.5529411764706,
          90.84117647058824,
          102.2,
          76.52000000000001,
          66.26666666666667
         ],
         "xaxis": "x",
         "y": [
          47.06,
          42.86,
          50,
          14.29,
          40,
          50,
          100,
          28.57,
          33.33,
          80,
          66.67,
          56.25,
          20,
          40,
          50,
          50,
          52.94,
          36.36,
          93.33,
          33.33,
          52.94,
          70,
          75,
          25,
          81.25,
          20,
          58.82,
          54.55,
          76.47,
          30,
          63.64,
          46.15,
          33.33,
          38.46,
          33.33,
          33.33,
          25,
          50,
          82.35,
          50,
          26.67,
          50,
          66.67,
          100,
          50,
          55.56,
          47.06,
          52.94,
          66.67,
          60,
          55.56
         ],
         "yaxis": "y"
        },
        {
         "hovertemplate": "<b>OLS trendline</b><br>Win% = 0.833335 * passer_rating + -17.4303<br>R<sup>2</sup>=0.245279<br><br>passer_rating=%{x}<br>Win%=%{y} <b>(trend)</b><extra></extra>",
         "legendgroup": "Overall Trendline",
         "line": {
          "color": "#EF553B"
         },
         "mode": "lines",
         "name": "Overall Trendline",
         "showlegend": true,
         "type": "scatter",
         "x": [
          33.46666666666667,
          64.6,
          66.26666666666667,
          66.6,
          68.68571428571428,
          71.76666666666667,
          71.92666666666668,
          72,
          72.62857142857142,
          73.425,
          74.22727272727273,
          74.48,
          75.06666666666666,
          75.24,
          76.2,
          76.52000000000001,
          77.11666666666666,
          77.84666666666666,
          80.02307692307691,
          80.125,
          80.325,
          80.53999999999999,
          80.6,
          83.66153846153846,
          83.87,
          84.52222222222223,
          84.68333333333334,
          84.69999999999999,
          84.73333333333333,
          84.8,
          84.82499999999999,
          86.98333333333333,
          87.11818181818181,
          87.67058823529412,
          88.1875,
          88.32352941176471,
          88.72500000000001,
          88.85000000000001,
          89.5529411764706,
          90.36470588235295,
          90.84117647058824,
          91.02499999999999,
          91.575,
          93.58666666666666,
          94.69411764705882,
          95.09411764705882,
          96.36875,
          98.41,
          102.2,
          102.20588235294117,
          108.36666666666667
         ],
         "xaxis": "x",
         "y": [
          10.458636985477689,
          36.40312846146106,
          37.792019868098286,
          38.06979814942573,
          39.807896538303176,
          42.375361510001134,
          42.50869508503832,
          42.569806306930346,
          43.09361678029067,
          43.75730845960517,
          44.42587027761828,
          44.63647672000654,
          45.12536649514284,
          45.26981120143311,
          46.06981265165616,
          46.33647980173051,
          46.83370292530662,
          47.44203736141373,
          49.255715862880926,
          49.340651914286816,
          49.50731888308329,
          49.68648587453948,
          49.736485965178424,
          52.2877726413705,
          52.461490905000666,
          53.005010408798036,
          53.139269911439634,
          53.153158825506004,
          53.180936653638746,
          53.23649230990424,
          53.257325681003785,
          55.055940052599006,
          55.16831399368147,
          55.628653509100594,
          56.0594140938944,
          56.17277214252436,
          56.507331572534916,
          56.61149842803271,
          57.19728380365559,
          57.87375561818242,
          58.27081516149165,
          58.424001713694274,
          58.882335877884564,
          60.55872780569569,
          61.48160529565887,
          61.81493923325181,
          62.87713478622489,
          64.57817953650382,
          67.73651859519688,
          67.74142056486735,
          72.87541679975462
         ],
         "yaxis": "y"
        }
       ],
       "layout": {
        "font": {
         "family": "Averta, sans-serif"
        },
        "height": 1000,
        "hoverlabel": {
         "font": {
          "family": "Averta, sans-serif",
          "size": 16
         }
        },
        "legend": {
         "font": {
          "size": 16
         },
         "tracegroupgap": 0
        },
        "margin": {
         "t": 60
        },
        "template": {
         "data": {
          "bar": [
           {
            "error_x": {
             "color": "#2a3f5f"
            },
            "error_y": {
             "color": "#2a3f5f"
            },
            "marker": {
             "line": {
              "color": "#E5ECF6",
              "width": 0.5
             },
             "pattern": {
              "fillmode": "overlay",
              "size": 10,
              "solidity": 0.2
             }
            },
            "type": "bar"
           }
          ],
          "barpolar": [
           {
            "marker": {
             "line": {
              "color": "#E5ECF6",
              "width": 0.5
             },
             "pattern": {
              "fillmode": "overlay",
              "size": 10,
              "solidity": 0.2
             }
            },
            "type": "barpolar"
           }
          ],
          "carpet": [
           {
            "aaxis": {
             "endlinecolor": "#2a3f5f",
             "gridcolor": "white",
             "linecolor": "white",
             "minorgridcolor": "white",
             "startlinecolor": "#2a3f5f"
            },
            "baxis": {
             "endlinecolor": "#2a3f5f",
             "gridcolor": "white",
             "linecolor": "white",
             "minorgridcolor": "white",
             "startlinecolor": "#2a3f5f"
            },
            "type": "carpet"
           }
          ],
          "choropleth": [
           {
            "colorbar": {
             "outlinewidth": 0,
             "ticks": ""
            },
            "type": "choropleth"
           }
          ],
          "contour": [
           {
            "colorbar": {
             "outlinewidth": 0,
             "ticks": ""
            },
            "colorscale": [
             [
              0,
              "#0d0887"
             ],
             [
              0.1111111111111111,
              "#46039f"
             ],
             [
              0.2222222222222222,
              "#7201a8"
             ],
             [
              0.3333333333333333,
              "#9c179e"
             ],
             [
              0.4444444444444444,
              "#bd3786"
             ],
             [
              0.5555555555555556,
              "#d8576b"
             ],
             [
              0.6666666666666666,
              "#ed7953"
             ],
             [
              0.7777777777777778,
              "#fb9f3a"
             ],
             [
              0.8888888888888888,
              "#fdca26"
             ],
             [
              1,
              "#f0f921"
             ]
            ],
            "type": "contour"
           }
          ],
          "contourcarpet": [
           {
            "colorbar": {
             "outlinewidth": 0,
             "ticks": ""
            },
            "type": "contourcarpet"
           }
          ],
          "heatmap": [
           {
            "colorbar": {
             "outlinewidth": 0,
             "ticks": ""
            },
            "colorscale": [
             [
              0,
              "#0d0887"
             ],
             [
              0.1111111111111111,
              "#46039f"
             ],
             [
              0.2222222222222222,
              "#7201a8"
             ],
             [
              0.3333333333333333,
              "#9c179e"
             ],
             [
              0.4444444444444444,
              "#bd3786"
             ],
             [
              0.5555555555555556,
              "#d8576b"
             ],
             [
              0.6666666666666666,
              "#ed7953"
             ],
             [
              0.7777777777777778,
              "#fb9f3a"
             ],
             [
              0.8888888888888888,
              "#fdca26"
             ],
             [
              1,
              "#f0f921"
             ]
            ],
            "type": "heatmap"
           }
          ],
          "heatmapgl": [
           {
            "colorbar": {
             "outlinewidth": 0,
             "ticks": ""
            },
            "colorscale": [
             [
              0,
              "#0d0887"
             ],
             [
              0.1111111111111111,
              "#46039f"
             ],
             [
              0.2222222222222222,
              "#7201a8"
             ],
             [
              0.3333333333333333,
              "#9c179e"
             ],
             [
              0.4444444444444444,
              "#bd3786"
             ],
             [
              0.5555555555555556,
              "#d8576b"
             ],
             [
              0.6666666666666666,
              "#ed7953"
             ],
             [
              0.7777777777777778,
              "#fb9f3a"
             ],
             [
              0.8888888888888888,
              "#fdca26"
             ],
             [
              1,
              "#f0f921"
             ]
            ],
            "type": "heatmapgl"
           }
          ],
          "histogram": [
           {
            "marker": {
             "pattern": {
              "fillmode": "overlay",
              "size": 10,
              "solidity": 0.2
             }
            },
            "type": "histogram"
           }
          ],
          "histogram2d": [
           {
            "colorbar": {
             "outlinewidth": 0,
             "ticks": ""
            },
            "colorscale": [
             [
              0,
              "#0d0887"
             ],
             [
              0.1111111111111111,
              "#46039f"
             ],
             [
              0.2222222222222222,
              "#7201a8"
             ],
             [
              0.3333333333333333,
              "#9c179e"
             ],
             [
              0.4444444444444444,
              "#bd3786"
             ],
             [
              0.5555555555555556,
              "#d8576b"
             ],
             [
              0.6666666666666666,
              "#ed7953"
             ],
             [
              0.7777777777777778,
              "#fb9f3a"
             ],
             [
              0.8888888888888888,
              "#fdca26"
             ],
             [
              1,
              "#f0f921"
             ]
            ],
            "type": "histogram2d"
           }
          ],
          "histogram2dcontour": [
           {
            "colorbar": {
             "outlinewidth": 0,
             "ticks": ""
            },
            "colorscale": [
             [
              0,
              "#0d0887"
             ],
             [
              0.1111111111111111,
              "#46039f"
             ],
             [
              0.2222222222222222,
              "#7201a8"
             ],
             [
              0.3333333333333333,
              "#9c179e"
             ],
             [
              0.4444444444444444,
              "#bd3786"
             ],
             [
              0.5555555555555556,
              "#d8576b"
             ],
             [
              0.6666666666666666,
              "#ed7953"
             ],
             [
              0.7777777777777778,
              "#fb9f3a"
             ],
             [
              0.8888888888888888,
              "#fdca26"
             ],
             [
              1,
              "#f0f921"
             ]
            ],
            "type": "histogram2dcontour"
           }
          ],
          "mesh3d": [
           {
            "colorbar": {
             "outlinewidth": 0,
             "ticks": ""
            },
            "type": "mesh3d"
           }
          ],
          "parcoords": [
           {
            "line": {
             "colorbar": {
              "outlinewidth": 0,
              "ticks": ""
             }
            },
            "type": "parcoords"
           }
          ],
          "pie": [
           {
            "automargin": true,
            "type": "pie"
           }
          ],
          "scatter": [
           {
            "fillpattern": {
             "fillmode": "overlay",
             "size": 10,
             "solidity": 0.2
            },
            "type": "scatter"
           }
          ],
          "scatter3d": [
           {
            "line": {
             "colorbar": {
              "outlinewidth": 0,
              "ticks": ""
             }
            },
            "marker": {
             "colorbar": {
              "outlinewidth": 0,
              "ticks": ""
             }
            },
            "type": "scatter3d"
           }
          ],
          "scattercarpet": [
           {
            "marker": {
             "colorbar": {
              "outlinewidth": 0,
              "ticks": ""
             }
            },
            "type": "scattercarpet"
           }
          ],
          "scattergeo": [
           {
            "marker": {
             "colorbar": {
              "outlinewidth": 0,
              "ticks": ""
             }
            },
            "type": "scattergeo"
           }
          ],
          "scattergl": [
           {
            "marker": {
             "colorbar": {
              "outlinewidth": 0,
              "ticks": ""
             }
            },
            "type": "scattergl"
           }
          ],
          "scattermapbox": [
           {
            "marker": {
             "colorbar": {
              "outlinewidth": 0,
              "ticks": ""
             }
            },
            "type": "scattermapbox"
           }
          ],
          "scatterpolar": [
           {
            "marker": {
             "colorbar": {
              "outlinewidth": 0,
              "ticks": ""
             }
            },
            "type": "scatterpolar"
           }
          ],
          "scatterpolargl": [
           {
            "marker": {
             "colorbar": {
              "outlinewidth": 0,
              "ticks": ""
             }
            },
            "type": "scatterpolargl"
           }
          ],
          "scatterternary": [
           {
            "marker": {
             "colorbar": {
              "outlinewidth": 0,
              "ticks": ""
             }
            },
            "type": "scatterternary"
           }
          ],
          "surface": [
           {
            "colorbar": {
             "outlinewidth": 0,
             "ticks": ""
            },
            "colorscale": [
             [
              0,
              "#0d0887"
             ],
             [
              0.1111111111111111,
              "#46039f"
             ],
             [
              0.2222222222222222,
              "#7201a8"
             ],
             [
              0.3333333333333333,
              "#9c179e"
             ],
             [
              0.4444444444444444,
              "#bd3786"
             ],
             [
              0.5555555555555556,
              "#d8576b"
             ],
             [
              0.6666666666666666,
              "#ed7953"
             ],
             [
              0.7777777777777778,
              "#fb9f3a"
             ],
             [
              0.8888888888888888,
              "#fdca26"
             ],
             [
              1,
              "#f0f921"
             ]
            ],
            "type": "surface"
           }
          ],
          "table": [
           {
            "cells": {
             "fill": {
              "color": "#EBF0F8"
             },
             "line": {
              "color": "white"
             }
            },
            "header": {
             "fill": {
              "color": "#C8D4E3"
             },
             "line": {
              "color": "white"
             }
            },
            "type": "table"
           }
          ]
         },
         "layout": {
          "annotationdefaults": {
           "arrowcolor": "#2a3f5f",
           "arrowhead": 0,
           "arrowwidth": 1
          },
          "autotypenumbers": "strict",
          "coloraxis": {
           "colorbar": {
            "outlinewidth": 0,
            "ticks": ""
           }
          },
          "colorscale": {
           "diverging": [
            [
             0,
             "#8e0152"
            ],
            [
             0.1,
             "#c51b7d"
            ],
            [
             0.2,
             "#de77ae"
            ],
            [
             0.3,
             "#f1b6da"
            ],
            [
             0.4,
             "#fde0ef"
            ],
            [
             0.5,
             "#f7f7f7"
            ],
            [
             0.6,
             "#e6f5d0"
            ],
            [
             0.7,
             "#b8e186"
            ],
            [
             0.8,
             "#7fbc41"
            ],
            [
             0.9,
             "#4d9221"
            ],
            [
             1,
             "#276419"
            ]
           ],
           "sequential": [
            [
             0,
             "#0d0887"
            ],
            [
             0.1111111111111111,
             "#46039f"
            ],
            [
             0.2222222222222222,
             "#7201a8"
            ],
            [
             0.3333333333333333,
             "#9c179e"
            ],
            [
             0.4444444444444444,
             "#bd3786"
            ],
            [
             0.5555555555555556,
             "#d8576b"
            ],
            [
             0.6666666666666666,
             "#ed7953"
            ],
            [
             0.7777777777777778,
             "#fb9f3a"
            ],
            [
             0.8888888888888888,
             "#fdca26"
            ],
            [
             1,
             "#f0f921"
            ]
           ],
           "sequentialminus": [
            [
             0,
             "#0d0887"
            ],
            [
             0.1111111111111111,
             "#46039f"
            ],
            [
             0.2222222222222222,
             "#7201a8"
            ],
            [
             0.3333333333333333,
             "#9c179e"
            ],
            [
             0.4444444444444444,
             "#bd3786"
            ],
            [
             0.5555555555555556,
             "#d8576b"
            ],
            [
             0.6666666666666666,
             "#ed7953"
            ],
            [
             0.7777777777777778,
             "#fb9f3a"
            ],
            [
             0.8888888888888888,
             "#fdca26"
            ],
            [
             1,
             "#f0f921"
            ]
           ]
          },
          "colorway": [
           "#636efa",
           "#EF553B",
           "#00cc96",
           "#ab63fa",
           "#FFA15A",
           "#19d3f3",
           "#FF6692",
           "#B6E880",
           "#FF97FF",
           "#FECB52"
          ],
          "font": {
           "color": "#2a3f5f"
          },
          "geo": {
           "bgcolor": "white",
           "lakecolor": "white",
           "landcolor": "#E5ECF6",
           "showlakes": true,
           "showland": true,
           "subunitcolor": "white"
          },
          "hoverlabel": {
           "align": "left"
          },
          "hovermode": "closest",
          "mapbox": {
           "style": "light"
          },
          "paper_bgcolor": "white",
          "plot_bgcolor": "#E5ECF6",
          "polar": {
           "angularaxis": {
            "gridcolor": "white",
            "linecolor": "white",
            "ticks": ""
           },
           "bgcolor": "#E5ECF6",
           "radialaxis": {
            "gridcolor": "white",
            "linecolor": "white",
            "ticks": ""
           }
          },
          "scene": {
           "xaxis": {
            "backgroundcolor": "#E5ECF6",
            "gridcolor": "white",
            "gridwidth": 2,
            "linecolor": "white",
            "showbackground": true,
            "ticks": "",
            "zerolinecolor": "white"
           },
           "yaxis": {
            "backgroundcolor": "#E5ECF6",
            "gridcolor": "white",
            "gridwidth": 2,
            "linecolor": "white",
            "showbackground": true,
            "ticks": "",
            "zerolinecolor": "white"
           },
           "zaxis": {
            "backgroundcolor": "#E5ECF6",
            "gridcolor": "white",
            "gridwidth": 2,
            "linecolor": "white",
            "showbackground": true,
            "ticks": "",
            "zerolinecolor": "white"
           }
          },
          "shapedefaults": {
           "line": {
            "color": "#2a3f5f"
           }
          },
          "ternary": {
           "aaxis": {
            "gridcolor": "white",
            "linecolor": "white",
            "ticks": ""
           },
           "baxis": {
            "gridcolor": "white",
            "linecolor": "white",
            "ticks": ""
           },
           "bgcolor": "#E5ECF6",
           "caxis": {
            "gridcolor": "white",
            "linecolor": "white",
            "ticks": ""
           }
          },
          "title": {
           "x": 0.05
          },
          "xaxis": {
           "automargin": true,
           "gridcolor": "white",
           "linecolor": "white",
           "ticks": "",
           "title": {
            "standoff": 15
           },
           "zerolinecolor": "white",
           "zerolinewidth": 2
          },
          "yaxis": {
           "automargin": true,
           "gridcolor": "white",
           "linecolor": "white",
           "ticks": "",
           "title": {
            "standoff": 15
           },
           "zerolinecolor": "white",
           "zerolinewidth": 2
          }
         }
        },
        "width": 1000,
        "xaxis": {
         "anchor": "y",
         "domain": [
          0,
          1
         ],
         "tickfont": {
          "size": 16
         },
         "title": {
          "font": {
           "size": 18
          },
          "text": "Passer Rating Differential"
         }
        },
        "yaxis": {
         "anchor": "x",
         "domain": [
          0,
          1
         ],
         "tickfont": {
          "size": 16
         },
         "title": {
          "font": {
           "size": 18
          },
          "text": "Win Percentage"
         }
        }
       }
      },
      "text/html": [
       "<div>                            <div id=\"b6ade694-acc3-4960-8519-a4999aa5d631\" class=\"plotly-graph-div\" style=\"height:1000px; width:1000px;\"></div>            <script type=\"text/javascript\">                require([\"plotly\"], function(Plotly) {                    window.PLOTLYENV=window.PLOTLYENV || {};                                    if (document.getElementById(\"b6ade694-acc3-4960-8519-a4999aa5d631\")) {                    Plotly.newPlot(                        \"b6ade694-acc3-4960-8519-a4999aa5d631\",                        [{\"hovertemplate\":\"<b>%{hovertext}</b><br><br>passer_rating=%{x}<br>Win%=%{y}<extra></extra>\",\"hovertext\":[\"Aaron Rodgers\",\"Andy Dalton\",\"Bailey Zappe\",\"Baker Mayfield\",\"Baker Mayfield\",\"Brett Rypien\",\"Brock Purdy\",\"Carson Wentz\",\"Colt McCoy\",\"Cooper Rush\",\"Dak Prescott\",\"Daniel Jones\",\"Davis Mills\",\"Derek Carr\",\"Deshaun Watson\",\"Desmond Ridder\",\"Geno Smith\",\"Jacoby Brissett\",\"Jalen Hurts\",\"Jameis Winston\",\"Jared Goff\",\"Jimmy Garoppolo\",\"Joe Burrow\",\"Joe Flacco\",\"Josh Allen\",\"Justin Fields\",\"Justin Herbert\",\"Kenny Pickett\",\"Kirk Cousins\",\"Kyler Murray\",\"Lamar Jackson\",\"Mac Jones\",\"Malik Willis\",\"Marcus Mariota\",\"Matt Ryan\",\"Matthew Stafford\",\"Mike White\",\"Mitchell Trubisky\",\"Patrick Mahomes\",\"Phillip Walker\",\"Russell Wilson\",\"Ryan Tannehill\",\"Sam Darnold\",\"Sam Howell\",\"Skylar Thompson\",\"Taylor Heinicke\",\"Tom Brady\",\"Trevor Lawrence\",\"Tua Tagovailoa\",\"Tyler Huntley\",\"Zach Wilson\"],\"legendgroup\":\"\",\"marker\":{\"color\":\"#636efa\",\"symbol\":\"circle\"},\"mode\":\"markers\",\"name\":\"\",\"orientation\":\"v\",\"showlegend\":false,\"x\":[88.32352941176471,88.85000000000001,91.575,72.62857142857142,75.24,66.6,108.36666666666667,68.68571428571428,75.06666666666666,80.6,88.72500000000001,88.1875,74.48,80.53999999999999,71.76666666666667,80.125,94.69411764705882,87.11818181818181,93.58666666666666,76.2,95.09411764705882,98.41,96.36875,73.425,91.02499999999999,71.92666666666668,90.36470588235295,74.22727272727273,87.67058823529412,83.87,84.8,80.02307692307691,33.46666666666667,83.66153846153846,77.11666666666666,84.69999999999999,80.325,86.98333333333333,102.20588235294117,84.82499999999999,77.84666666666666,84.73333333333333,84.68333333333334,72.0,64.6,84.52222222222223,89.5529411764706,90.84117647058824,102.2,76.52000000000001,66.26666666666667],\"xaxis\":\"x\",\"y\":[47.06,42.86,50.0,14.29,40.0,50.0,100.0,28.57,33.33,80.0,66.67,56.25,20.0,40.0,50.0,50.0,52.94,36.36,93.33,33.33,52.94,70.0,75.0,25.0,81.25,20.0,58.82,54.55,76.47,30.0,63.64,46.15,33.33,38.46,33.33,33.33,25.0,50.0,82.35,50.0,26.67,50.0,66.67,100.0,50.0,55.56,47.06,52.94,66.67,60.0,55.56],\"yaxis\":\"y\",\"type\":\"scatter\"},{\"hovertemplate\":\"<b>OLS trendline</b><br>Win% = 0.833335 * passer_rating + -17.4303<br>R<sup>2</sup>=0.245279<br><br>passer_rating=%{x}<br>Win%=%{y} <b>(trend)</b><extra></extra>\",\"legendgroup\":\"Overall Trendline\",\"line\":{\"color\":\"#EF553B\"},\"mode\":\"lines\",\"name\":\"Overall Trendline\",\"showlegend\":true,\"x\":[33.46666666666667,64.6,66.26666666666667,66.6,68.68571428571428,71.76666666666667,71.92666666666668,72.0,72.62857142857142,73.425,74.22727272727273,74.48,75.06666666666666,75.24,76.2,76.52000000000001,77.11666666666666,77.84666666666666,80.02307692307691,80.125,80.325,80.53999999999999,80.6,83.66153846153846,83.87,84.52222222222223,84.68333333333334,84.69999999999999,84.73333333333333,84.8,84.82499999999999,86.98333333333333,87.11818181818181,87.67058823529412,88.1875,88.32352941176471,88.72500000000001,88.85000000000001,89.5529411764706,90.36470588235295,90.84117647058824,91.02499999999999,91.575,93.58666666666666,94.69411764705882,95.09411764705882,96.36875,98.41,102.2,102.20588235294117,108.36666666666667],\"y\":[10.458636985477689,36.40312846146106,37.792019868098286,38.06979814942573,39.807896538303176,42.375361510001134,42.50869508503832,42.569806306930346,43.09361678029067,43.75730845960517,44.42587027761828,44.63647672000654,45.12536649514284,45.26981120143311,46.06981265165616,46.33647980173051,46.83370292530662,47.44203736141373,49.255715862880926,49.340651914286816,49.50731888308329,49.68648587453948,49.736485965178424,52.2877726413705,52.461490905000666,53.005010408798036,53.139269911439634,53.153158825506004,53.180936653638746,53.23649230990424,53.257325681003785,55.055940052599006,55.16831399368147,55.628653509100594,56.0594140938944,56.17277214252436,56.507331572534916,56.61149842803271,57.19728380365559,57.87375561818242,58.27081516149165,58.424001713694274,58.882335877884564,60.55872780569569,61.48160529565887,61.81493923325181,62.87713478622489,64.57817953650382,67.73651859519688,67.74142056486735,72.87541679975462],\"type\":\"scatter\",\"xaxis\":\"x\",\"yaxis\":\"y\"}],                        {\"template\":{\"data\":{\"histogram2dcontour\":[{\"type\":\"histogram2dcontour\",\"colorbar\":{\"outlinewidth\":0,\"ticks\":\"\"},\"colorscale\":[[0.0,\"#0d0887\"],[0.1111111111111111,\"#46039f\"],[0.2222222222222222,\"#7201a8\"],[0.3333333333333333,\"#9c179e\"],[0.4444444444444444,\"#bd3786\"],[0.5555555555555556,\"#d8576b\"],[0.6666666666666666,\"#ed7953\"],[0.7777777777777778,\"#fb9f3a\"],[0.8888888888888888,\"#fdca26\"],[1.0,\"#f0f921\"]]}],\"choropleth\":[{\"type\":\"choropleth\",\"colorbar\":{\"outlinewidth\":0,\"ticks\":\"\"}}],\"histogram2d\":[{\"type\":\"histogram2d\",\"colorbar\":{\"outlinewidth\":0,\"ticks\":\"\"},\"colorscale\":[[0.0,\"#0d0887\"],[0.1111111111111111,\"#46039f\"],[0.2222222222222222,\"#7201a8\"],[0.3333333333333333,\"#9c179e\"],[0.4444444444444444,\"#bd3786\"],[0.5555555555555556,\"#d8576b\"],[0.6666666666666666,\"#ed7953\"],[0.7777777777777778,\"#fb9f3a\"],[0.8888888888888888,\"#fdca26\"],[1.0,\"#f0f921\"]]}],\"heatmap\":[{\"type\":\"heatmap\",\"colorbar\":{\"outlinewidth\":0,\"ticks\":\"\"},\"colorscale\":[[0.0,\"#0d0887\"],[0.1111111111111111,\"#46039f\"],[0.2222222222222222,\"#7201a8\"],[0.3333333333333333,\"#9c179e\"],[0.4444444444444444,\"#bd3786\"],[0.5555555555555556,\"#d8576b\"],[0.6666666666666666,\"#ed7953\"],[0.7777777777777778,\"#fb9f3a\"],[0.8888888888888888,\"#fdca26\"],[1.0,\"#f0f921\"]]}],\"heatmapgl\":[{\"type\":\"heatmapgl\",\"colorbar\":{\"outlinewidth\":0,\"ticks\":\"\"},\"colorscale\":[[0.0,\"#0d0887\"],[0.1111111111111111,\"#46039f\"],[0.2222222222222222,\"#7201a8\"],[0.3333333333333333,\"#9c179e\"],[0.4444444444444444,\"#bd3786\"],[0.5555555555555556,\"#d8576b\"],[0.6666666666666666,\"#ed7953\"],[0.7777777777777778,\"#fb9f3a\"],[0.8888888888888888,\"#fdca26\"],[1.0,\"#f0f921\"]]}],\"contourcarpet\":[{\"type\":\"contourcarpet\",\"colorbar\":{\"outlinewidth\":0,\"ticks\":\"\"}}],\"contour\":[{\"type\":\"contour\",\"colorbar\":{\"outlinewidth\":0,\"ticks\":\"\"},\"colorscale\":[[0.0,\"#0d0887\"],[0.1111111111111111,\"#46039f\"],[0.2222222222222222,\"#7201a8\"],[0.3333333333333333,\"#9c179e\"],[0.4444444444444444,\"#bd3786\"],[0.5555555555555556,\"#d8576b\"],[0.6666666666666666,\"#ed7953\"],[0.7777777777777778,\"#fb9f3a\"],[0.8888888888888888,\"#fdca26\"],[1.0,\"#f0f921\"]]}],\"surface\":[{\"type\":\"surface\",\"colorbar\":{\"outlinewidth\":0,\"ticks\":\"\"},\"colorscale\":[[0.0,\"#0d0887\"],[0.1111111111111111,\"#46039f\"],[0.2222222222222222,\"#7201a8\"],[0.3333333333333333,\"#9c179e\"],[0.4444444444444444,\"#bd3786\"],[0.5555555555555556,\"#d8576b\"],[0.6666666666666666,\"#ed7953\"],[0.7777777777777778,\"#fb9f3a\"],[0.8888888888888888,\"#fdca26\"],[1.0,\"#f0f921\"]]}],\"mesh3d\":[{\"type\":\"mesh3d\",\"colorbar\":{\"outlinewidth\":0,\"ticks\":\"\"}}],\"scatter\":[{\"fillpattern\":{\"fillmode\":\"overlay\",\"size\":10,\"solidity\":0.2},\"type\":\"scatter\"}],\"parcoords\":[{\"type\":\"parcoords\",\"line\":{\"colorbar\":{\"outlinewidth\":0,\"ticks\":\"\"}}}],\"scatterpolargl\":[{\"type\":\"scatterpolargl\",\"marker\":{\"colorbar\":{\"outlinewidth\":0,\"ticks\":\"\"}}}],\"bar\":[{\"error_x\":{\"color\":\"#2a3f5f\"},\"error_y\":{\"color\":\"#2a3f5f\"},\"marker\":{\"line\":{\"color\":\"#E5ECF6\",\"width\":0.5},\"pattern\":{\"fillmode\":\"overlay\",\"size\":10,\"solidity\":0.2}},\"type\":\"bar\"}],\"scattergeo\":[{\"type\":\"scattergeo\",\"marker\":{\"colorbar\":{\"outlinewidth\":0,\"ticks\":\"\"}}}],\"scatterpolar\":[{\"type\":\"scatterpolar\",\"marker\":{\"colorbar\":{\"outlinewidth\":0,\"ticks\":\"\"}}}],\"histogram\":[{\"marker\":{\"pattern\":{\"fillmode\":\"overlay\",\"size\":10,\"solidity\":0.2}},\"type\":\"histogram\"}],\"scattergl\":[{\"type\":\"scattergl\",\"marker\":{\"colorbar\":{\"outlinewidth\":0,\"ticks\":\"\"}}}],\"scatter3d\":[{\"type\":\"scatter3d\",\"line\":{\"colorbar\":{\"outlinewidth\":0,\"ticks\":\"\"}},\"marker\":{\"colorbar\":{\"outlinewidth\":0,\"ticks\":\"\"}}}],\"scattermapbox\":[{\"type\":\"scattermapbox\",\"marker\":{\"colorbar\":{\"outlinewidth\":0,\"ticks\":\"\"}}}],\"scatterternary\":[{\"type\":\"scatterternary\",\"marker\":{\"colorbar\":{\"outlinewidth\":0,\"ticks\":\"\"}}}],\"scattercarpet\":[{\"type\":\"scattercarpet\",\"marker\":{\"colorbar\":{\"outlinewidth\":0,\"ticks\":\"\"}}}],\"carpet\":[{\"aaxis\":{\"endlinecolor\":\"#2a3f5f\",\"gridcolor\":\"white\",\"linecolor\":\"white\",\"minorgridcolor\":\"white\",\"startlinecolor\":\"#2a3f5f\"},\"baxis\":{\"endlinecolor\":\"#2a3f5f\",\"gridcolor\":\"white\",\"linecolor\":\"white\",\"minorgridcolor\":\"white\",\"startlinecolor\":\"#2a3f5f\"},\"type\":\"carpet\"}],\"table\":[{\"cells\":{\"fill\":{\"color\":\"#EBF0F8\"},\"line\":{\"color\":\"white\"}},\"header\":{\"fill\":{\"color\":\"#C8D4E3\"},\"line\":{\"color\":\"white\"}},\"type\":\"table\"}],\"barpolar\":[{\"marker\":{\"line\":{\"color\":\"#E5ECF6\",\"width\":0.5},\"pattern\":{\"fillmode\":\"overlay\",\"size\":10,\"solidity\":0.2}},\"type\":\"barpolar\"}],\"pie\":[{\"automargin\":true,\"type\":\"pie\"}]},\"layout\":{\"autotypenumbers\":\"strict\",\"colorway\":[\"#636efa\",\"#EF553B\",\"#00cc96\",\"#ab63fa\",\"#FFA15A\",\"#19d3f3\",\"#FF6692\",\"#B6E880\",\"#FF97FF\",\"#FECB52\"],\"font\":{\"color\":\"#2a3f5f\"},\"hovermode\":\"closest\",\"hoverlabel\":{\"align\":\"left\"},\"paper_bgcolor\":\"white\",\"plot_bgcolor\":\"#E5ECF6\",\"polar\":{\"bgcolor\":\"#E5ECF6\",\"angularaxis\":{\"gridcolor\":\"white\",\"linecolor\":\"white\",\"ticks\":\"\"},\"radialaxis\":{\"gridcolor\":\"white\",\"linecolor\":\"white\",\"ticks\":\"\"}},\"ternary\":{\"bgcolor\":\"#E5ECF6\",\"aaxis\":{\"gridcolor\":\"white\",\"linecolor\":\"white\",\"ticks\":\"\"},\"baxis\":{\"gridcolor\":\"white\",\"linecolor\":\"white\",\"ticks\":\"\"},\"caxis\":{\"gridcolor\":\"white\",\"linecolor\":\"white\",\"ticks\":\"\"}},\"coloraxis\":{\"colorbar\":{\"outlinewidth\":0,\"ticks\":\"\"}},\"colorscale\":{\"sequential\":[[0.0,\"#0d0887\"],[0.1111111111111111,\"#46039f\"],[0.2222222222222222,\"#7201a8\"],[0.3333333333333333,\"#9c179e\"],[0.4444444444444444,\"#bd3786\"],[0.5555555555555556,\"#d8576b\"],[0.6666666666666666,\"#ed7953\"],[0.7777777777777778,\"#fb9f3a\"],[0.8888888888888888,\"#fdca26\"],[1.0,\"#f0f921\"]],\"sequentialminus\":[[0.0,\"#0d0887\"],[0.1111111111111111,\"#46039f\"],[0.2222222222222222,\"#7201a8\"],[0.3333333333333333,\"#9c179e\"],[0.4444444444444444,\"#bd3786\"],[0.5555555555555556,\"#d8576b\"],[0.6666666666666666,\"#ed7953\"],[0.7777777777777778,\"#fb9f3a\"],[0.8888888888888888,\"#fdca26\"],[1.0,\"#f0f921\"]],\"diverging\":[[0,\"#8e0152\"],[0.1,\"#c51b7d\"],[0.2,\"#de77ae\"],[0.3,\"#f1b6da\"],[0.4,\"#fde0ef\"],[0.5,\"#f7f7f7\"],[0.6,\"#e6f5d0\"],[0.7,\"#b8e186\"],[0.8,\"#7fbc41\"],[0.9,\"#4d9221\"],[1,\"#276419\"]]},\"xaxis\":{\"gridcolor\":\"white\",\"linecolor\":\"white\",\"ticks\":\"\",\"title\":{\"standoff\":15},\"zerolinecolor\":\"white\",\"automargin\":true,\"zerolinewidth\":2},\"yaxis\":{\"gridcolor\":\"white\",\"linecolor\":\"white\",\"ticks\":\"\",\"title\":{\"standoff\":15},\"zerolinecolor\":\"white\",\"automargin\":true,\"zerolinewidth\":2},\"scene\":{\"xaxis\":{\"backgroundcolor\":\"#E5ECF6\",\"gridcolor\":\"white\",\"linecolor\":\"white\",\"showbackground\":true,\"ticks\":\"\",\"zerolinecolor\":\"white\",\"gridwidth\":2},\"yaxis\":{\"backgroundcolor\":\"#E5ECF6\",\"gridcolor\":\"white\",\"linecolor\":\"white\",\"showbackground\":true,\"ticks\":\"\",\"zerolinecolor\":\"white\",\"gridwidth\":2},\"zaxis\":{\"backgroundcolor\":\"#E5ECF6\",\"gridcolor\":\"white\",\"linecolor\":\"white\",\"showbackground\":true,\"ticks\":\"\",\"zerolinecolor\":\"white\",\"gridwidth\":2}},\"shapedefaults\":{\"line\":{\"color\":\"#2a3f5f\"}},\"annotationdefaults\":{\"arrowcolor\":\"#2a3f5f\",\"arrowhead\":0,\"arrowwidth\":1},\"geo\":{\"bgcolor\":\"white\",\"landcolor\":\"#E5ECF6\",\"subunitcolor\":\"white\",\"showland\":true,\"showlakes\":true,\"lakecolor\":\"white\"},\"title\":{\"x\":0.05},\"mapbox\":{\"style\":\"light\"}}},\"xaxis\":{\"anchor\":\"y\",\"domain\":[0.0,1.0],\"title\":{\"text\":\"Passer Rating Differential\",\"font\":{\"size\":18}},\"tickfont\":{\"size\":16}},\"yaxis\":{\"anchor\":\"x\",\"domain\":[0.0,1.0],\"title\":{\"text\":\"Win Percentage\",\"font\":{\"size\":18}},\"tickfont\":{\"size\":16}},\"legend\":{\"tracegroupgap\":0,\"font\":{\"size\":16}},\"margin\":{\"t\":60},\"font\":{\"family\":\"Averta, sans-serif\"},\"hoverlabel\":{\"font\":{\"family\":\"Averta, sans-serif\",\"size\":16}},\"height\":1000,\"width\":1000},                        {\"responsive\": true}                    ).then(function(){\n",
       "                            \n",
       "var gd = document.getElementById('b6ade694-acc3-4960-8519-a4999aa5d631');\n",
       "var x = new MutationObserver(function (mutations, observer) {{\n",
       "        var display = window.getComputedStyle(gd).display;\n",
       "        if (!display || display === 'none') {{\n",
       "            console.log([gd, 'removed!']);\n",
       "            Plotly.purge(gd);\n",
       "            observer.disconnect();\n",
       "        }}\n",
       "}});\n",
       "\n",
       "// Listen for the removal of the full notebook cells\n",
       "var notebookContainer = gd.closest('#notebook-container');\n",
       "if (notebookContainer) {{\n",
       "    x.observe(notebookContainer, {childList: true});\n",
       "}}\n",
       "\n",
       "// Listen for the clearing of the current output cell\n",
       "var outputEl = gd.closest('.output');\n",
       "if (outputEl) {{\n",
       "    x.observe(outputEl, {childList: true});\n",
       "}}\n",
       "\n",
       "                        })                };                });            </script>        </div>"
      ]
     },
     "metadata": {},
     "output_type": "display_data"
    }
   ],
   "source": [
    "#No legend\n",
    "#Remove text labels from points\n",
    "dfQBDifRec4 = dfQBDifRec3[dfQBDifRec3[\"Win%\"]>0]\n",
    "def plotlyexpress1(df):\n",
    "    fig = px.scatter(df, x=\"passer_rating\", \n",
    "                     y=\"Win%\", trendline=\"ols\", \n",
    "                     trendline_scope=\"overall\", \n",
    "                     #text=df[\"player_name\"],\n",
    "                     hover_name=\"player_name\"\n",
    "                    )\n",
    "    \n",
    "    \n",
    "    fig.update_layout(\n",
    "        font_family=\"Averta, sans-serif\",\n",
    "        hoverlabel_font_family=\"Averta, sans-serif\",\n",
    "        xaxis_title_text=\"Passer Rating Differential\",\n",
    "        xaxis_title_font_size=18,\n",
    "        xaxis_tickfont_size=16,\n",
    "        yaxis_title_text=\"Win Percentage\",\n",
    "        yaxis_title_font_size=18,\n",
    "        yaxis_tickfont_size=16,\n",
    "        hoverlabel_font_size=16,\n",
    "        legend_font_size=16,\n",
    "        height=1000,\n",
    "        width=1000\n",
    "    )    \n",
    "    \n",
    "    \n",
    "    fig.show()\n",
    "plotlyexpress1(dfQBDifRec4)"
   ]
  },
  {
   "cell_type": "code",
   "execution_count": 217,
   "id": "e47f1b3a",
   "metadata": {},
   "outputs": [
    {
     "data": {
      "application/vnd.plotly.v1+json": {
       "config": {
        "plotlyServerURL": "https://plot.ly"
       },
       "data": [
        {
         "hovertemplate": "team_color=#203731<br>differential=%{x}<br>Win%=%{y}<extra></extra>",
         "legendgroup": "#203731",
         "marker": {
          "color": "#636efa",
          "symbol": "circle"
         },
         "mode": "markers",
         "name": "#203731",
         "orientation": "v",
         "showlegend": true,
         "type": "scatter",
         "x": [
          9.382352941176471
         ],
         "xaxis": "x",
         "y": [
          47.06
         ],
         "yaxis": "y"
        },
        {
         "hovertemplate": "team_color=#D3BC8D<br>differential=%{x}<br>Win%=%{y}<extra></extra>",
         "legendgroup": "#D3BC8D",
         "marker": {
          "color": "#EF553B",
          "symbol": "circle"
         },
         "mode": "markers",
         "name": "#D3BC8D",
         "orientation": "v",
         "showlegend": true,
         "type": "scatter",
         "x": [
          12.792857142857144,
          -1.900000000000001
         ],
         "xaxis": "x",
         "y": [
          42.86,
          33.33
         ],
         "yaxis": "y"
        },
        {
         "hovertemplate": "team_color=#002244<br>differential=%{x}<br>Win%=%{y}<extra></extra>",
         "legendgroup": "#002244",
         "marker": {
          "color": "#00cc96",
          "symbol": "circle"
         },
         "mode": "markers",
         "name": "#002244",
         "orientation": "v",
         "showlegend": true,
         "type": "scatter",
         "x": [
          24.525,
          22.049999999999997,
          10.479999999999999,
          6.250000000000003,
          12.476470588235296,
          -0.26923076923076816,
          -37.73333333333333,
          -7.493333333333334,
          -9.466666666666669
         ],
         "xaxis": "x",
         "y": [
          50,
          50,
          80,
          66.67,
          52.94,
          46.15,
          33.33,
          26.67,
          50
         ],
         "yaxis": "y"
        },
        {
         "hovertemplate": "team_color=#0085CA<br>differential=%{x}<br>Win%=%{y}<extra></extra>",
         "legendgroup": "#0085CA",
         "marker": {
          "color": "#ab63fa",
          "symbol": "circle"
         },
         "mode": "markers",
         "name": "#0085CA",
         "orientation": "v",
         "showlegend": true,
         "type": "scatter",
         "x": [
          -13.771428571428572,
          -2.950000000000003,
          -8.516666666666667
         ],
         "xaxis": "x",
         "y": [
          14.29,
          50,
          66.67
         ],
         "yaxis": "y"
        },
        {
         "hovertemplate": "team_color=#003594<br>differential=%{x}<br>Win%=%{y}<extra></extra>",
         "legendgroup": "#003594",
         "marker": {
          "color": "#FFA15A",
          "symbol": "circle"
         },
         "mode": "markers",
         "name": "#003594",
         "orientation": "v",
         "showlegend": true,
         "type": "scatter",
         "x": [
          6.879999999999998,
          -7.655555555555555
         ],
         "xaxis": "x",
         "y": [
          40,
          33.33
         ],
         "yaxis": "y"
        },
        {
         "hovertemplate": "team_color=#AA0000<br>differential=%{x}<br>Win%=%{y}<extra></extra>",
         "legendgroup": "#AA0000",
         "marker": {
          "color": "#19d3f3",
          "symbol": "circle"
         },
         "mode": "markers",
         "name": "#AA0000",
         "orientation": "v",
         "showlegend": true,
         "type": "scatter",
         "x": [
          24.5,
          14.76
         ],
         "xaxis": "x",
         "y": [
          100,
          70
         ],
         "yaxis": "y"
        },
        {
         "hovertemplate": "team_color=#5A1414<br>differential=%{x}<br>Win%=%{y}<extra></extra>",
         "legendgroup": "#5A1414",
         "marker": {
          "color": "#FF6692",
          "symbol": "circle"
         },
         "mode": "markers",
         "name": "#5A1414",
         "orientation": "v",
         "showlegend": true,
         "type": "scatter",
         "x": [
          -23.72857142857143,
          27.4,
          0.3777777777777824
         ],
         "xaxis": "x",
         "y": [
          28.57,
          100,
          55.56
         ],
         "yaxis": "y"
        },
        {
         "hovertemplate": "team_color=#97233F<br>differential=%{x}<br>Win%=%{y}<extra></extra>",
         "legendgroup": "#97233F",
         "marker": {
          "color": "#B6E880",
          "symbol": "circle"
         },
         "mode": "markers",
         "name": "#97233F",
         "orientation": "v",
         "showlegend": true,
         "type": "scatter",
         "x": [
          -17.96666666666667,
          -10.419999999999996
         ],
         "xaxis": "x",
         "y": [
          33.33,
          30
         ],
         "yaxis": "y"
        },
        {
         "hovertemplate": "team_color=#0B2265<br>differential=%{x}<br>Win%=%{y}<extra></extra>",
         "legendgroup": "#0B2265",
         "marker": {
          "color": "#FF97FF",
          "symbol": "circle"
         },
         "mode": "markers",
         "name": "#0B2265",
         "orientation": "v",
         "showlegend": true,
         "type": "scatter",
         "x": [
          4.549999999999998
         ],
         "xaxis": "x",
         "y": [
          56.25
         ],
         "yaxis": "y"
        },
        {
         "hovertemplate": "team_color=#03202F<br>differential=%{x}<br>Win%=%{y}<extra></extra>",
         "legendgroup": "#03202F",
         "marker": {
          "color": "#FECB52",
          "symbol": "circle"
         },
         "mode": "markers",
         "name": "#03202F",
         "orientation": "v",
         "showlegend": true,
         "type": "scatter",
         "x": [
          -1.7533333333333354
         ],
         "xaxis": "x",
         "y": [
          20
         ],
         "yaxis": "y"
        },
        {
         "hovertemplate": "team_color=#000000<br>differential=%{x}<br>Win%=%{y}<extra></extra>",
         "legendgroup": "#000000",
         "marker": {
          "color": "#636efa",
          "symbol": "circle"
         },
         "mode": "markers",
         "name": "#000000",
         "orientation": "v",
         "showlegend": true,
         "type": "scatter",
         "x": [
          -15.233333333333336,
          -7.672727272727275,
          3.5499999999999994
         ],
         "xaxis": "x",
         "y": [
          40,
          54.55,
          50
         ],
         "yaxis": "y"
        },
        {
         "hovertemplate": "team_color=#FF3C00<br>differential=%{x}<br>Win%=%{y}<extra></extra>",
         "legendgroup": "#FF3C00",
         "marker": {
          "color": "#EF553B",
          "symbol": "circle"
         },
         "mode": "markers",
         "name": "#FF3C00",
         "orientation": "v",
         "showlegend": true,
         "type": "scatter",
         "x": [
          16.51666666666667,
          -1.3909090909090926
         ],
         "xaxis": "x",
         "y": [
          50,
          36.36
         ],
         "yaxis": "y"
        },
        {
         "hovertemplate": "team_color=#A71930<br>differential=%{x}<br>Win%=%{y}<extra></extra>",
         "legendgroup": "#A71930",
         "marker": {
          "color": "#00cc96",
          "symbol": "circle"
         },
         "mode": "markers",
         "name": "#A71930",
         "orientation": "v",
         "showlegend": true,
         "type": "scatter",
         "x": [
          -19.425,
          -5.876923076923078,
          -2.047058823529408
         ],
         "xaxis": "x",
         "y": [
          50,
          38.46,
          47.06
         ],
         "yaxis": "y"
        },
        {
         "hovertemplate": "team_color=#004C54<br>differential=%{x}<br>Win%=%{y}<extra></extra>",
         "legendgroup": "#004C54",
         "marker": {
          "color": "#ab63fa",
          "symbol": "circle"
         },
         "mode": "markers",
         "name": "#004C54",
         "orientation": "v",
         "showlegend": true,
         "type": "scatter",
         "x": [
          23.486666666666668
         ],
         "xaxis": "x",
         "y": [
          93.33
         ],
         "yaxis": "y"
        },
        {
         "hovertemplate": "team_color=#0076B6<br>differential=%{x}<br>Win%=%{y}<extra></extra>",
         "legendgroup": "#0076B6",
         "marker": {
          "color": "#FFA15A",
          "symbol": "circle"
         },
         "mode": "markers",
         "name": "#0076B6",
         "orientation": "v",
         "showlegend": true,
         "type": "scatter",
         "x": [
          5.147058823529411
         ],
         "xaxis": "x",
         "y": [
          52.94
         ],
         "yaxis": "y"
        },
        {
         "hovertemplate": "team_color=#FB4F14<br>differential=%{x}<br>Win%=%{y}<extra></extra>",
         "legendgroup": "#FB4F14",
         "marker": {
          "color": "#19d3f3",
          "symbol": "circle"
         },
         "mode": "markers",
         "name": "#FB4F14",
         "orientation": "v",
         "showlegend": true,
         "type": "scatter",
         "x": [
          10.368750000000002
         ],
         "xaxis": "x",
         "y": [
          75
         ],
         "yaxis": "y"
        },
        {
         "hovertemplate": "team_color=#003F2D<br>differential=%{x}<br>Win%=%{y}<extra></extra>",
         "legendgroup": "#003F2D",
         "marker": {
          "color": "#FF6692",
          "symbol": "circle"
         },
         "mode": "markers",
         "name": "#003F2D",
         "orientation": "v",
         "showlegend": true,
         "type": "scatter",
         "x": [
          -19.849999999999994,
          1.1750000000000007,
          -3.744444444444445
         ],
         "xaxis": "x",
         "y": [
          25,
          25,
          55.56
         ],
         "yaxis": "y"
        },
        {
         "hovertemplate": "team_color=#00338D<br>differential=%{x}<br>Win%=%{y}<extra></extra>",
         "legendgroup": "#00338D",
         "marker": {
          "color": "#B6E880",
          "symbol": "circle"
         },
         "mode": "markers",
         "name": "#00338D",
         "orientation": "v",
         "showlegend": true,
         "type": "scatter",
         "x": [
          11.306249999999999
         ],
         "xaxis": "x",
         "y": [
          81.25
         ],
         "yaxis": "y"
        },
        {
         "hovertemplate": "team_color=#0B162A<br>differential=%{x}<br>Win%=%{y}<extra></extra>",
         "legendgroup": "#0B162A",
         "marker": {
          "color": "#FF97FF",
          "symbol": "circle"
         },
         "mode": "markers",
         "name": "#0B162A",
         "orientation": "v",
         "showlegend": true,
         "type": "scatter",
         "x": [
          -16.826666666666664
         ],
         "xaxis": "x",
         "y": [
          20
         ],
         "yaxis": "y"
        },
        {
         "hovertemplate": "team_color=#007BC7<br>differential=%{x}<br>Win%=%{y}<extra></extra>",
         "legendgroup": "#007BC7",
         "marker": {
          "color": "#FECB52",
          "symbol": "circle"
         },
         "mode": "markers",
         "name": "#007BC7",
         "orientation": "v",
         "showlegend": true,
         "type": "scatter",
         "x": [
          8.764705882352942
         ],
         "xaxis": "x",
         "y": [
          58.82
         ],
         "yaxis": "y"
        },
        {
         "hovertemplate": "team_color=#4F2683<br>differential=%{x}<br>Win%=%{y}<extra></extra>",
         "legendgroup": "#4F2683",
         "marker": {
          "color": "#636efa",
          "symbol": "circle"
         },
         "mode": "markers",
         "name": "#4F2683",
         "orientation": "v",
         "showlegend": true,
         "type": "scatter",
         "x": [
          -3.6941176470588246
         ],
         "xaxis": "x",
         "y": [
          76.47
         ],
         "yaxis": "y"
        },
        {
         "hovertemplate": "team_color=#241773<br>differential=%{x}<br>Win%=%{y}<extra></extra>",
         "legendgroup": "#241773",
         "marker": {
          "color": "#EF553B",
          "symbol": "circle"
         },
         "mode": "markers",
         "name": "#241773",
         "orientation": "v",
         "showlegend": true,
         "type": "scatter",
         "x": [
          1.7999999999999998,
          -4.980000000000004
         ],
         "xaxis": "x",
         "y": [
          63.64,
          60
         ],
         "yaxis": "y"
        },
        {
         "hovertemplate": "team_color=#002C5F<br>differential=%{x}<br>Win%=%{y}<extra></extra>",
         "legendgroup": "#002C5F",
         "marker": {
          "color": "#00cc96",
          "symbol": "circle"
         },
         "mode": "markers",
         "name": "#002C5F",
         "orientation": "v",
         "showlegend": true,
         "type": "scatter",
         "x": [
          -13.65
         ],
         "xaxis": "x",
         "y": [
          33.33
         ],
         "yaxis": "y"
        },
        {
         "hovertemplate": "team_color=#E31837<br>differential=%{x}<br>Win%=%{y}<extra></extra>",
         "legendgroup": "#E31837",
         "marker": {
          "color": "#ab63fa",
          "symbol": "circle"
         },
         "mode": "markers",
         "name": "#E31837",
         "orientation": "v",
         "showlegend": true,
         "type": "scatter",
         "x": [
          14.358823529411765
         ],
         "xaxis": "x",
         "y": [
          82.35
         ],
         "yaxis": "y"
        },
        {
         "hovertemplate": "team_color=#008E97<br>differential=%{x}<br>Win%=%{y}<extra></extra>",
         "legendgroup": "#008E97",
         "marker": {
          "color": "#FFA15A",
          "symbol": "circle"
         },
         "mode": "markers",
         "name": "#008E97",
         "orientation": "v",
         "showlegend": true,
         "type": "scatter",
         "x": [
          -14.050000000000004,
          11.108333333333334
         ],
         "xaxis": "x",
         "y": [
          50,
          66.67
         ],
         "yaxis": "y"
        },
        {
         "hovertemplate": "team_color=#006778<br>differential=%{x}<br>Win%=%{y}<extra></extra>",
         "legendgroup": "#006778",
         "marker": {
          "color": "#19d3f3",
          "symbol": "circle"
         },
         "mode": "markers",
         "name": "#006778",
         "orientation": "v",
         "showlegend": true,
         "type": "scatter",
         "x": [
          8.576470588235296
         ],
         "xaxis": "x",
         "y": [
          52.94
         ],
         "yaxis": "y"
        },
        {
         "hovertemplate": "<b>OLS trendline</b><br>Win% = 0.9613 * differential + 50.9023<br>R<sup>2</sup>=0.431638<br><br>differential=%{x}<br>Win%=%{y} <b>(trend)</b><extra></extra>",
         "legendgroup": "Overall Trendline",
         "line": {
          "color": "#FF6692"
         },
         "mode": "lines",
         "name": "Overall Trendline",
         "showlegend": true,
         "type": "scatter",
         "x": [
          -37.73333333333333,
          -23.72857142857143,
          -19.849999999999994,
          -19.425,
          -17.96666666666667,
          -16.826666666666664,
          -15.233333333333336,
          -14.050000000000004,
          -13.771428571428572,
          -13.65,
          -10.419999999999996,
          -9.466666666666669,
          -8.516666666666667,
          -7.672727272727275,
          -7.655555555555555,
          -7.493333333333334,
          -5.876923076923078,
          -4.980000000000004,
          -3.744444444444445,
          -3.6941176470588246,
          -2.950000000000003,
          -2.047058823529408,
          -1.900000000000001,
          -1.7533333333333354,
          -1.3909090909090926,
          -0.26923076923076816,
          0.3777777777777824,
          1.1750000000000007,
          1.7999999999999998,
          3.5499999999999994,
          4.549999999999998,
          5.147058823529411,
          6.250000000000003,
          6.879999999999998,
          8.576470588235296,
          8.764705882352942,
          9.382352941176471,
          10.368750000000002,
          10.479999999999999,
          11.108333333333334,
          11.306249999999999,
          12.476470588235296,
          12.792857142857144,
          14.358823529411765,
          14.76,
          16.51666666666667,
          22.049999999999997,
          23.486666666666668,
          24.5,
          24.525,
          27.4
         ],
         "xaxis": "x",
         "y": [
          14.629244419131822,
          28.092019256350763,
          31.820489200218447,
          32.229041615798785,
          33.63093715945683,
          34.72681893301352,
          36.2584899498559,
          37.396028048138426,
          37.66381870709025,
          37.78054796868464,
          40.88554632709525,
          41.8019854710637,
          42.715220282360946,
          43.52649905411941,
          43.543006222425696,
          43.698950412424985,
          45.25280527083735,
          46.11501724652364,
          47.30275655665526,
          47.35113569698542,
          48.06645584329564,
          48.93445301688157,
          49.07582063472943,
          49.216811272263044,
          49.56520962451551,
          50.64347877234089,
          51.265447960062,
          52.031817523928396,
          52.63262989978184,
          54.31490455217149,
          55.276204353537004,
          55.850156881999354,
          56.91041401585838,
          57.516032890718655,
          59.146849730211684,
          59.32780028105695,
          59.92154427601801,
          60.8697675727326,
          60.9767121756345,
          61.58072888415917,
          61.77098613651276,
          62.89591895553719,
          63.200061287649895,
          64.70542446398993,
          65.09107532547891,
          66.779758643211,
          72.09895087743351,
          73.48001825872863,
          74.45413539077903,
          74.47816788581316,
          77.24190481473902
         ],
         "yaxis": "y"
        }
       ],
       "layout": {
        "legend": {
         "title": {
          "text": "team_color"
         },
         "tracegroupgap": 0
        },
        "margin": {
         "t": 60
        },
        "template": {
         "data": {
          "bar": [
           {
            "error_x": {
             "color": "#2a3f5f"
            },
            "error_y": {
             "color": "#2a3f5f"
            },
            "marker": {
             "line": {
              "color": "#E5ECF6",
              "width": 0.5
             },
             "pattern": {
              "fillmode": "overlay",
              "size": 10,
              "solidity": 0.2
             }
            },
            "type": "bar"
           }
          ],
          "barpolar": [
           {
            "marker": {
             "line": {
              "color": "#E5ECF6",
              "width": 0.5
             },
             "pattern": {
              "fillmode": "overlay",
              "size": 10,
              "solidity": 0.2
             }
            },
            "type": "barpolar"
           }
          ],
          "carpet": [
           {
            "aaxis": {
             "endlinecolor": "#2a3f5f",
             "gridcolor": "white",
             "linecolor": "white",
             "minorgridcolor": "white",
             "startlinecolor": "#2a3f5f"
            },
            "baxis": {
             "endlinecolor": "#2a3f5f",
             "gridcolor": "white",
             "linecolor": "white",
             "minorgridcolor": "white",
             "startlinecolor": "#2a3f5f"
            },
            "type": "carpet"
           }
          ],
          "choropleth": [
           {
            "colorbar": {
             "outlinewidth": 0,
             "ticks": ""
            },
            "type": "choropleth"
           }
          ],
          "contour": [
           {
            "colorbar": {
             "outlinewidth": 0,
             "ticks": ""
            },
            "colorscale": [
             [
              0,
              "#0d0887"
             ],
             [
              0.1111111111111111,
              "#46039f"
             ],
             [
              0.2222222222222222,
              "#7201a8"
             ],
             [
              0.3333333333333333,
              "#9c179e"
             ],
             [
              0.4444444444444444,
              "#bd3786"
             ],
             [
              0.5555555555555556,
              "#d8576b"
             ],
             [
              0.6666666666666666,
              "#ed7953"
             ],
             [
              0.7777777777777778,
              "#fb9f3a"
             ],
             [
              0.8888888888888888,
              "#fdca26"
             ],
             [
              1,
              "#f0f921"
             ]
            ],
            "type": "contour"
           }
          ],
          "contourcarpet": [
           {
            "colorbar": {
             "outlinewidth": 0,
             "ticks": ""
            },
            "type": "contourcarpet"
           }
          ],
          "heatmap": [
           {
            "colorbar": {
             "outlinewidth": 0,
             "ticks": ""
            },
            "colorscale": [
             [
              0,
              "#0d0887"
             ],
             [
              0.1111111111111111,
              "#46039f"
             ],
             [
              0.2222222222222222,
              "#7201a8"
             ],
             [
              0.3333333333333333,
              "#9c179e"
             ],
             [
              0.4444444444444444,
              "#bd3786"
             ],
             [
              0.5555555555555556,
              "#d8576b"
             ],
             [
              0.6666666666666666,
              "#ed7953"
             ],
             [
              0.7777777777777778,
              "#fb9f3a"
             ],
             [
              0.8888888888888888,
              "#fdca26"
             ],
             [
              1,
              "#f0f921"
             ]
            ],
            "type": "heatmap"
           }
          ],
          "heatmapgl": [
           {
            "colorbar": {
             "outlinewidth": 0,
             "ticks": ""
            },
            "colorscale": [
             [
              0,
              "#0d0887"
             ],
             [
              0.1111111111111111,
              "#46039f"
             ],
             [
              0.2222222222222222,
              "#7201a8"
             ],
             [
              0.3333333333333333,
              "#9c179e"
             ],
             [
              0.4444444444444444,
              "#bd3786"
             ],
             [
              0.5555555555555556,
              "#d8576b"
             ],
             [
              0.6666666666666666,
              "#ed7953"
             ],
             [
              0.7777777777777778,
              "#fb9f3a"
             ],
             [
              0.8888888888888888,
              "#fdca26"
             ],
             [
              1,
              "#f0f921"
             ]
            ],
            "type": "heatmapgl"
           }
          ],
          "histogram": [
           {
            "marker": {
             "pattern": {
              "fillmode": "overlay",
              "size": 10,
              "solidity": 0.2
             }
            },
            "type": "histogram"
           }
          ],
          "histogram2d": [
           {
            "colorbar": {
             "outlinewidth": 0,
             "ticks": ""
            },
            "colorscale": [
             [
              0,
              "#0d0887"
             ],
             [
              0.1111111111111111,
              "#46039f"
             ],
             [
              0.2222222222222222,
              "#7201a8"
             ],
             [
              0.3333333333333333,
              "#9c179e"
             ],
             [
              0.4444444444444444,
              "#bd3786"
             ],
             [
              0.5555555555555556,
              "#d8576b"
             ],
             [
              0.6666666666666666,
              "#ed7953"
             ],
             [
              0.7777777777777778,
              "#fb9f3a"
             ],
             [
              0.8888888888888888,
              "#fdca26"
             ],
             [
              1,
              "#f0f921"
             ]
            ],
            "type": "histogram2d"
           }
          ],
          "histogram2dcontour": [
           {
            "colorbar": {
             "outlinewidth": 0,
             "ticks": ""
            },
            "colorscale": [
             [
              0,
              "#0d0887"
             ],
             [
              0.1111111111111111,
              "#46039f"
             ],
             [
              0.2222222222222222,
              "#7201a8"
             ],
             [
              0.3333333333333333,
              "#9c179e"
             ],
             [
              0.4444444444444444,
              "#bd3786"
             ],
             [
              0.5555555555555556,
              "#d8576b"
             ],
             [
              0.6666666666666666,
              "#ed7953"
             ],
             [
              0.7777777777777778,
              "#fb9f3a"
             ],
             [
              0.8888888888888888,
              "#fdca26"
             ],
             [
              1,
              "#f0f921"
             ]
            ],
            "type": "histogram2dcontour"
           }
          ],
          "mesh3d": [
           {
            "colorbar": {
             "outlinewidth": 0,
             "ticks": ""
            },
            "type": "mesh3d"
           }
          ],
          "parcoords": [
           {
            "line": {
             "colorbar": {
              "outlinewidth": 0,
              "ticks": ""
             }
            },
            "type": "parcoords"
           }
          ],
          "pie": [
           {
            "automargin": true,
            "type": "pie"
           }
          ],
          "scatter": [
           {
            "fillpattern": {
             "fillmode": "overlay",
             "size": 10,
             "solidity": 0.2
            },
            "type": "scatter"
           }
          ],
          "scatter3d": [
           {
            "line": {
             "colorbar": {
              "outlinewidth": 0,
              "ticks": ""
             }
            },
            "marker": {
             "colorbar": {
              "outlinewidth": 0,
              "ticks": ""
             }
            },
            "type": "scatter3d"
           }
          ],
          "scattercarpet": [
           {
            "marker": {
             "colorbar": {
              "outlinewidth": 0,
              "ticks": ""
             }
            },
            "type": "scattercarpet"
           }
          ],
          "scattergeo": [
           {
            "marker": {
             "colorbar": {
              "outlinewidth": 0,
              "ticks": ""
             }
            },
            "type": "scattergeo"
           }
          ],
          "scattergl": [
           {
            "marker": {
             "colorbar": {
              "outlinewidth": 0,
              "ticks": ""
             }
            },
            "type": "scattergl"
           }
          ],
          "scattermapbox": [
           {
            "marker": {
             "colorbar": {
              "outlinewidth": 0,
              "ticks": ""
             }
            },
            "type": "scattermapbox"
           }
          ],
          "scatterpolar": [
           {
            "marker": {
             "colorbar": {
              "outlinewidth": 0,
              "ticks": ""
             }
            },
            "type": "scatterpolar"
           }
          ],
          "scatterpolargl": [
           {
            "marker": {
             "colorbar": {
              "outlinewidth": 0,
              "ticks": ""
             }
            },
            "type": "scatterpolargl"
           }
          ],
          "scatterternary": [
           {
            "marker": {
             "colorbar": {
              "outlinewidth": 0,
              "ticks": ""
             }
            },
            "type": "scatterternary"
           }
          ],
          "surface": [
           {
            "colorbar": {
             "outlinewidth": 0,
             "ticks": ""
            },
            "colorscale": [
             [
              0,
              "#0d0887"
             ],
             [
              0.1111111111111111,
              "#46039f"
             ],
             [
              0.2222222222222222,
              "#7201a8"
             ],
             [
              0.3333333333333333,
              "#9c179e"
             ],
             [
              0.4444444444444444,
              "#bd3786"
             ],
             [
              0.5555555555555556,
              "#d8576b"
             ],
             [
              0.6666666666666666,
              "#ed7953"
             ],
             [
              0.7777777777777778,
              "#fb9f3a"
             ],
             [
              0.8888888888888888,
              "#fdca26"
             ],
             [
              1,
              "#f0f921"
             ]
            ],
            "type": "surface"
           }
          ],
          "table": [
           {
            "cells": {
             "fill": {
              "color": "#EBF0F8"
             },
             "line": {
              "color": "white"
             }
            },
            "header": {
             "fill": {
              "color": "#C8D4E3"
             },
             "line": {
              "color": "white"
             }
            },
            "type": "table"
           }
          ]
         },
         "layout": {
          "annotationdefaults": {
           "arrowcolor": "#2a3f5f",
           "arrowhead": 0,
           "arrowwidth": 1
          },
          "autotypenumbers": "strict",
          "coloraxis": {
           "colorbar": {
            "outlinewidth": 0,
            "ticks": ""
           }
          },
          "colorscale": {
           "diverging": [
            [
             0,
             "#8e0152"
            ],
            [
             0.1,
             "#c51b7d"
            ],
            [
             0.2,
             "#de77ae"
            ],
            [
             0.3,
             "#f1b6da"
            ],
            [
             0.4,
             "#fde0ef"
            ],
            [
             0.5,
             "#f7f7f7"
            ],
            [
             0.6,
             "#e6f5d0"
            ],
            [
             0.7,
             "#b8e186"
            ],
            [
             0.8,
             "#7fbc41"
            ],
            [
             0.9,
             "#4d9221"
            ],
            [
             1,
             "#276419"
            ]
           ],
           "sequential": [
            [
             0,
             "#0d0887"
            ],
            [
             0.1111111111111111,
             "#46039f"
            ],
            [
             0.2222222222222222,
             "#7201a8"
            ],
            [
             0.3333333333333333,
             "#9c179e"
            ],
            [
             0.4444444444444444,
             "#bd3786"
            ],
            [
             0.5555555555555556,
             "#d8576b"
            ],
            [
             0.6666666666666666,
             "#ed7953"
            ],
            [
             0.7777777777777778,
             "#fb9f3a"
            ],
            [
             0.8888888888888888,
             "#fdca26"
            ],
            [
             1,
             "#f0f921"
            ]
           ],
           "sequentialminus": [
            [
             0,
             "#0d0887"
            ],
            [
             0.1111111111111111,
             "#46039f"
            ],
            [
             0.2222222222222222,
             "#7201a8"
            ],
            [
             0.3333333333333333,
             "#9c179e"
            ],
            [
             0.4444444444444444,
             "#bd3786"
            ],
            [
             0.5555555555555556,
             "#d8576b"
            ],
            [
             0.6666666666666666,
             "#ed7953"
            ],
            [
             0.7777777777777778,
             "#fb9f3a"
            ],
            [
             0.8888888888888888,
             "#fdca26"
            ],
            [
             1,
             "#f0f921"
            ]
           ]
          },
          "colorway": [
           "#636efa",
           "#EF553B",
           "#00cc96",
           "#ab63fa",
           "#FFA15A",
           "#19d3f3",
           "#FF6692",
           "#B6E880",
           "#FF97FF",
           "#FECB52"
          ],
          "font": {
           "color": "#2a3f5f"
          },
          "geo": {
           "bgcolor": "white",
           "lakecolor": "white",
           "landcolor": "#E5ECF6",
           "showlakes": true,
           "showland": true,
           "subunitcolor": "white"
          },
          "hoverlabel": {
           "align": "left"
          },
          "hovermode": "closest",
          "mapbox": {
           "style": "light"
          },
          "paper_bgcolor": "white",
          "plot_bgcolor": "#E5ECF6",
          "polar": {
           "angularaxis": {
            "gridcolor": "white",
            "linecolor": "white",
            "ticks": ""
           },
           "bgcolor": "#E5ECF6",
           "radialaxis": {
            "gridcolor": "white",
            "linecolor": "white",
            "ticks": ""
           }
          },
          "scene": {
           "xaxis": {
            "backgroundcolor": "#E5ECF6",
            "gridcolor": "white",
            "gridwidth": 2,
            "linecolor": "white",
            "showbackground": true,
            "ticks": "",
            "zerolinecolor": "white"
           },
           "yaxis": {
            "backgroundcolor": "#E5ECF6",
            "gridcolor": "white",
            "gridwidth": 2,
            "linecolor": "white",
            "showbackground": true,
            "ticks": "",
            "zerolinecolor": "white"
           },
           "zaxis": {
            "backgroundcolor": "#E5ECF6",
            "gridcolor": "white",
            "gridwidth": 2,
            "linecolor": "white",
            "showbackground": true,
            "ticks": "",
            "zerolinecolor": "white"
           }
          },
          "shapedefaults": {
           "line": {
            "color": "#2a3f5f"
           }
          },
          "ternary": {
           "aaxis": {
            "gridcolor": "white",
            "linecolor": "white",
            "ticks": ""
           },
           "baxis": {
            "gridcolor": "white",
            "linecolor": "white",
            "ticks": ""
           },
           "bgcolor": "#E5ECF6",
           "caxis": {
            "gridcolor": "white",
            "linecolor": "white",
            "ticks": ""
           }
          },
          "title": {
           "x": 0.05
          },
          "xaxis": {
           "automargin": true,
           "gridcolor": "white",
           "linecolor": "white",
           "ticks": "",
           "title": {
            "standoff": 15
           },
           "zerolinecolor": "white",
           "zerolinewidth": 2
          },
          "yaxis": {
           "automargin": true,
           "gridcolor": "white",
           "linecolor": "white",
           "ticks": "",
           "title": {
            "standoff": 15
           },
           "zerolinecolor": "white",
           "zerolinewidth": 2
          }
         }
        },
        "xaxis": {
         "anchor": "y",
         "domain": [
          0,
          1
         ],
         "title": {
          "text": "differential"
         }
        },
        "yaxis": {
         "anchor": "x",
         "domain": [
          0,
          1
         ],
         "title": {
          "text": "Win%"
         }
        }
       }
      },
      "text/html": [
       "<div>                            <div id=\"191d14fe-b7c6-4a0c-b721-3d804b30c06d\" class=\"plotly-graph-div\" style=\"height:525px; width:100%;\"></div>            <script type=\"text/javascript\">                require([\"plotly\"], function(Plotly) {                    window.PLOTLYENV=window.PLOTLYENV || {};                                    if (document.getElementById(\"191d14fe-b7c6-4a0c-b721-3d804b30c06d\")) {                    Plotly.newPlot(                        \"191d14fe-b7c6-4a0c-b721-3d804b30c06d\",                        [{\"hovertemplate\":\"team_color=#203731<br>differential=%{x}<br>Win%=%{y}<extra></extra>\",\"legendgroup\":\"#203731\",\"marker\":{\"color\":\"#636efa\",\"symbol\":\"circle\"},\"mode\":\"markers\",\"name\":\"#203731\",\"orientation\":\"v\",\"showlegend\":true,\"x\":[9.382352941176471],\"xaxis\":\"x\",\"y\":[47.06],\"yaxis\":\"y\",\"type\":\"scatter\"},{\"hovertemplate\":\"team_color=#D3BC8D<br>differential=%{x}<br>Win%=%{y}<extra></extra>\",\"legendgroup\":\"#D3BC8D\",\"marker\":{\"color\":\"#EF553B\",\"symbol\":\"circle\"},\"mode\":\"markers\",\"name\":\"#D3BC8D\",\"orientation\":\"v\",\"showlegend\":true,\"x\":[12.792857142857144,-1.900000000000001],\"xaxis\":\"x\",\"y\":[42.86,33.33],\"yaxis\":\"y\",\"type\":\"scatter\"},{\"hovertemplate\":\"team_color=#002244<br>differential=%{x}<br>Win%=%{y}<extra></extra>\",\"legendgroup\":\"#002244\",\"marker\":{\"color\":\"#00cc96\",\"symbol\":\"circle\"},\"mode\":\"markers\",\"name\":\"#002244\",\"orientation\":\"v\",\"showlegend\":true,\"x\":[24.525,22.049999999999997,10.479999999999999,6.250000000000003,12.476470588235296,-0.26923076923076816,-37.73333333333333,-7.493333333333334,-9.466666666666669],\"xaxis\":\"x\",\"y\":[50.0,50.0,80.0,66.67,52.94,46.15,33.33,26.67,50.0],\"yaxis\":\"y\",\"type\":\"scatter\"},{\"hovertemplate\":\"team_color=#0085CA<br>differential=%{x}<br>Win%=%{y}<extra></extra>\",\"legendgroup\":\"#0085CA\",\"marker\":{\"color\":\"#ab63fa\",\"symbol\":\"circle\"},\"mode\":\"markers\",\"name\":\"#0085CA\",\"orientation\":\"v\",\"showlegend\":true,\"x\":[-13.771428571428572,-2.950000000000003,-8.516666666666667],\"xaxis\":\"x\",\"y\":[14.29,50.0,66.67],\"yaxis\":\"y\",\"type\":\"scatter\"},{\"hovertemplate\":\"team_color=#003594<br>differential=%{x}<br>Win%=%{y}<extra></extra>\",\"legendgroup\":\"#003594\",\"marker\":{\"color\":\"#FFA15A\",\"symbol\":\"circle\"},\"mode\":\"markers\",\"name\":\"#003594\",\"orientation\":\"v\",\"showlegend\":true,\"x\":[6.879999999999998,-7.655555555555555],\"xaxis\":\"x\",\"y\":[40.0,33.33],\"yaxis\":\"y\",\"type\":\"scatter\"},{\"hovertemplate\":\"team_color=#AA0000<br>differential=%{x}<br>Win%=%{y}<extra></extra>\",\"legendgroup\":\"#AA0000\",\"marker\":{\"color\":\"#19d3f3\",\"symbol\":\"circle\"},\"mode\":\"markers\",\"name\":\"#AA0000\",\"orientation\":\"v\",\"showlegend\":true,\"x\":[24.5,14.76],\"xaxis\":\"x\",\"y\":[100.0,70.0],\"yaxis\":\"y\",\"type\":\"scatter\"},{\"hovertemplate\":\"team_color=#5A1414<br>differential=%{x}<br>Win%=%{y}<extra></extra>\",\"legendgroup\":\"#5A1414\",\"marker\":{\"color\":\"#FF6692\",\"symbol\":\"circle\"},\"mode\":\"markers\",\"name\":\"#5A1414\",\"orientation\":\"v\",\"showlegend\":true,\"x\":[-23.72857142857143,27.4,0.3777777777777824],\"xaxis\":\"x\",\"y\":[28.57,100.0,55.56],\"yaxis\":\"y\",\"type\":\"scatter\"},{\"hovertemplate\":\"team_color=#97233F<br>differential=%{x}<br>Win%=%{y}<extra></extra>\",\"legendgroup\":\"#97233F\",\"marker\":{\"color\":\"#B6E880\",\"symbol\":\"circle\"},\"mode\":\"markers\",\"name\":\"#97233F\",\"orientation\":\"v\",\"showlegend\":true,\"x\":[-17.96666666666667,-10.419999999999996],\"xaxis\":\"x\",\"y\":[33.33,30.0],\"yaxis\":\"y\",\"type\":\"scatter\"},{\"hovertemplate\":\"team_color=#0B2265<br>differential=%{x}<br>Win%=%{y}<extra></extra>\",\"legendgroup\":\"#0B2265\",\"marker\":{\"color\":\"#FF97FF\",\"symbol\":\"circle\"},\"mode\":\"markers\",\"name\":\"#0B2265\",\"orientation\":\"v\",\"showlegend\":true,\"x\":[4.549999999999998],\"xaxis\":\"x\",\"y\":[56.25],\"yaxis\":\"y\",\"type\":\"scatter\"},{\"hovertemplate\":\"team_color=#03202F<br>differential=%{x}<br>Win%=%{y}<extra></extra>\",\"legendgroup\":\"#03202F\",\"marker\":{\"color\":\"#FECB52\",\"symbol\":\"circle\"},\"mode\":\"markers\",\"name\":\"#03202F\",\"orientation\":\"v\",\"showlegend\":true,\"x\":[-1.7533333333333354],\"xaxis\":\"x\",\"y\":[20.0],\"yaxis\":\"y\",\"type\":\"scatter\"},{\"hovertemplate\":\"team_color=#000000<br>differential=%{x}<br>Win%=%{y}<extra></extra>\",\"legendgroup\":\"#000000\",\"marker\":{\"color\":\"#636efa\",\"symbol\":\"circle\"},\"mode\":\"markers\",\"name\":\"#000000\",\"orientation\":\"v\",\"showlegend\":true,\"x\":[-15.233333333333336,-7.672727272727275,3.5499999999999994],\"xaxis\":\"x\",\"y\":[40.0,54.55,50.0],\"yaxis\":\"y\",\"type\":\"scatter\"},{\"hovertemplate\":\"team_color=#FF3C00<br>differential=%{x}<br>Win%=%{y}<extra></extra>\",\"legendgroup\":\"#FF3C00\",\"marker\":{\"color\":\"#EF553B\",\"symbol\":\"circle\"},\"mode\":\"markers\",\"name\":\"#FF3C00\",\"orientation\":\"v\",\"showlegend\":true,\"x\":[16.51666666666667,-1.3909090909090926],\"xaxis\":\"x\",\"y\":[50.0,36.36],\"yaxis\":\"y\",\"type\":\"scatter\"},{\"hovertemplate\":\"team_color=#A71930<br>differential=%{x}<br>Win%=%{y}<extra></extra>\",\"legendgroup\":\"#A71930\",\"marker\":{\"color\":\"#00cc96\",\"symbol\":\"circle\"},\"mode\":\"markers\",\"name\":\"#A71930\",\"orientation\":\"v\",\"showlegend\":true,\"x\":[-19.425,-5.876923076923078,-2.047058823529408],\"xaxis\":\"x\",\"y\":[50.0,38.46,47.06],\"yaxis\":\"y\",\"type\":\"scatter\"},{\"hovertemplate\":\"team_color=#004C54<br>differential=%{x}<br>Win%=%{y}<extra></extra>\",\"legendgroup\":\"#004C54\",\"marker\":{\"color\":\"#ab63fa\",\"symbol\":\"circle\"},\"mode\":\"markers\",\"name\":\"#004C54\",\"orientation\":\"v\",\"showlegend\":true,\"x\":[23.486666666666668],\"xaxis\":\"x\",\"y\":[93.33],\"yaxis\":\"y\",\"type\":\"scatter\"},{\"hovertemplate\":\"team_color=#0076B6<br>differential=%{x}<br>Win%=%{y}<extra></extra>\",\"legendgroup\":\"#0076B6\",\"marker\":{\"color\":\"#FFA15A\",\"symbol\":\"circle\"},\"mode\":\"markers\",\"name\":\"#0076B6\",\"orientation\":\"v\",\"showlegend\":true,\"x\":[5.147058823529411],\"xaxis\":\"x\",\"y\":[52.94],\"yaxis\":\"y\",\"type\":\"scatter\"},{\"hovertemplate\":\"team_color=#FB4F14<br>differential=%{x}<br>Win%=%{y}<extra></extra>\",\"legendgroup\":\"#FB4F14\",\"marker\":{\"color\":\"#19d3f3\",\"symbol\":\"circle\"},\"mode\":\"markers\",\"name\":\"#FB4F14\",\"orientation\":\"v\",\"showlegend\":true,\"x\":[10.368750000000002],\"xaxis\":\"x\",\"y\":[75.0],\"yaxis\":\"y\",\"type\":\"scatter\"},{\"hovertemplate\":\"team_color=#003F2D<br>differential=%{x}<br>Win%=%{y}<extra></extra>\",\"legendgroup\":\"#003F2D\",\"marker\":{\"color\":\"#FF6692\",\"symbol\":\"circle\"},\"mode\":\"markers\",\"name\":\"#003F2D\",\"orientation\":\"v\",\"showlegend\":true,\"x\":[-19.849999999999994,1.1750000000000007,-3.744444444444445],\"xaxis\":\"x\",\"y\":[25.0,25.0,55.56],\"yaxis\":\"y\",\"type\":\"scatter\"},{\"hovertemplate\":\"team_color=#00338D<br>differential=%{x}<br>Win%=%{y}<extra></extra>\",\"legendgroup\":\"#00338D\",\"marker\":{\"color\":\"#B6E880\",\"symbol\":\"circle\"},\"mode\":\"markers\",\"name\":\"#00338D\",\"orientation\":\"v\",\"showlegend\":true,\"x\":[11.306249999999999],\"xaxis\":\"x\",\"y\":[81.25],\"yaxis\":\"y\",\"type\":\"scatter\"},{\"hovertemplate\":\"team_color=#0B162A<br>differential=%{x}<br>Win%=%{y}<extra></extra>\",\"legendgroup\":\"#0B162A\",\"marker\":{\"color\":\"#FF97FF\",\"symbol\":\"circle\"},\"mode\":\"markers\",\"name\":\"#0B162A\",\"orientation\":\"v\",\"showlegend\":true,\"x\":[-16.826666666666664],\"xaxis\":\"x\",\"y\":[20.0],\"yaxis\":\"y\",\"type\":\"scatter\"},{\"hovertemplate\":\"team_color=#007BC7<br>differential=%{x}<br>Win%=%{y}<extra></extra>\",\"legendgroup\":\"#007BC7\",\"marker\":{\"color\":\"#FECB52\",\"symbol\":\"circle\"},\"mode\":\"markers\",\"name\":\"#007BC7\",\"orientation\":\"v\",\"showlegend\":true,\"x\":[8.764705882352942],\"xaxis\":\"x\",\"y\":[58.82],\"yaxis\":\"y\",\"type\":\"scatter\"},{\"hovertemplate\":\"team_color=#4F2683<br>differential=%{x}<br>Win%=%{y}<extra></extra>\",\"legendgroup\":\"#4F2683\",\"marker\":{\"color\":\"#636efa\",\"symbol\":\"circle\"},\"mode\":\"markers\",\"name\":\"#4F2683\",\"orientation\":\"v\",\"showlegend\":true,\"x\":[-3.6941176470588246],\"xaxis\":\"x\",\"y\":[76.47],\"yaxis\":\"y\",\"type\":\"scatter\"},{\"hovertemplate\":\"team_color=#241773<br>differential=%{x}<br>Win%=%{y}<extra></extra>\",\"legendgroup\":\"#241773\",\"marker\":{\"color\":\"#EF553B\",\"symbol\":\"circle\"},\"mode\":\"markers\",\"name\":\"#241773\",\"orientation\":\"v\",\"showlegend\":true,\"x\":[1.7999999999999998,-4.980000000000004],\"xaxis\":\"x\",\"y\":[63.64,60.0],\"yaxis\":\"y\",\"type\":\"scatter\"},{\"hovertemplate\":\"team_color=#002C5F<br>differential=%{x}<br>Win%=%{y}<extra></extra>\",\"legendgroup\":\"#002C5F\",\"marker\":{\"color\":\"#00cc96\",\"symbol\":\"circle\"},\"mode\":\"markers\",\"name\":\"#002C5F\",\"orientation\":\"v\",\"showlegend\":true,\"x\":[-13.65],\"xaxis\":\"x\",\"y\":[33.33],\"yaxis\":\"y\",\"type\":\"scatter\"},{\"hovertemplate\":\"team_color=#E31837<br>differential=%{x}<br>Win%=%{y}<extra></extra>\",\"legendgroup\":\"#E31837\",\"marker\":{\"color\":\"#ab63fa\",\"symbol\":\"circle\"},\"mode\":\"markers\",\"name\":\"#E31837\",\"orientation\":\"v\",\"showlegend\":true,\"x\":[14.358823529411765],\"xaxis\":\"x\",\"y\":[82.35],\"yaxis\":\"y\",\"type\":\"scatter\"},{\"hovertemplate\":\"team_color=#008E97<br>differential=%{x}<br>Win%=%{y}<extra></extra>\",\"legendgroup\":\"#008E97\",\"marker\":{\"color\":\"#FFA15A\",\"symbol\":\"circle\"},\"mode\":\"markers\",\"name\":\"#008E97\",\"orientation\":\"v\",\"showlegend\":true,\"x\":[-14.050000000000004,11.108333333333334],\"xaxis\":\"x\",\"y\":[50.0,66.67],\"yaxis\":\"y\",\"type\":\"scatter\"},{\"hovertemplate\":\"team_color=#006778<br>differential=%{x}<br>Win%=%{y}<extra></extra>\",\"legendgroup\":\"#006778\",\"marker\":{\"color\":\"#19d3f3\",\"symbol\":\"circle\"},\"mode\":\"markers\",\"name\":\"#006778\",\"orientation\":\"v\",\"showlegend\":true,\"x\":[8.576470588235296],\"xaxis\":\"x\",\"y\":[52.94],\"yaxis\":\"y\",\"type\":\"scatter\"},{\"hovertemplate\":\"<b>OLS trendline</b><br>Win% = 0.9613 * differential + 50.9023<br>R<sup>2</sup>=0.431638<br><br>differential=%{x}<br>Win%=%{y} <b>(trend)</b><extra></extra>\",\"legendgroup\":\"Overall Trendline\",\"line\":{\"color\":\"#FF6692\"},\"mode\":\"lines\",\"name\":\"Overall Trendline\",\"showlegend\":true,\"x\":[-37.73333333333333,-23.72857142857143,-19.849999999999994,-19.425,-17.96666666666667,-16.826666666666664,-15.233333333333336,-14.050000000000004,-13.771428571428572,-13.65,-10.419999999999996,-9.466666666666669,-8.516666666666667,-7.672727272727275,-7.655555555555555,-7.493333333333334,-5.876923076923078,-4.980000000000004,-3.744444444444445,-3.6941176470588246,-2.950000000000003,-2.047058823529408,-1.900000000000001,-1.7533333333333354,-1.3909090909090926,-0.26923076923076816,0.3777777777777824,1.1750000000000007,1.7999999999999998,3.5499999999999994,4.549999999999998,5.147058823529411,6.250000000000003,6.879999999999998,8.576470588235296,8.764705882352942,9.382352941176471,10.368750000000002,10.479999999999999,11.108333333333334,11.306249999999999,12.476470588235296,12.792857142857144,14.358823529411765,14.76,16.51666666666667,22.049999999999997,23.486666666666668,24.5,24.525,27.4],\"y\":[14.629244419131822,28.092019256350763,31.820489200218447,32.229041615798785,33.63093715945683,34.72681893301352,36.2584899498559,37.396028048138426,37.66381870709025,37.78054796868464,40.88554632709525,41.8019854710637,42.715220282360946,43.52649905411941,43.543006222425696,43.698950412424985,45.25280527083735,46.11501724652364,47.30275655665526,47.35113569698542,48.06645584329564,48.93445301688157,49.07582063472943,49.216811272263044,49.56520962451551,50.64347877234089,51.265447960062,52.031817523928396,52.63262989978184,54.31490455217149,55.276204353537004,55.850156881999354,56.91041401585838,57.516032890718655,59.146849730211684,59.32780028105695,59.92154427601801,60.8697675727326,60.9767121756345,61.58072888415917,61.77098613651276,62.89591895553719,63.200061287649895,64.70542446398993,65.09107532547891,66.779758643211,72.09895087743351,73.48001825872863,74.45413539077903,74.47816788581316,77.24190481473902],\"type\":\"scatter\",\"xaxis\":\"x\",\"yaxis\":\"y\"}],                        {\"template\":{\"data\":{\"histogram2dcontour\":[{\"type\":\"histogram2dcontour\",\"colorbar\":{\"outlinewidth\":0,\"ticks\":\"\"},\"colorscale\":[[0.0,\"#0d0887\"],[0.1111111111111111,\"#46039f\"],[0.2222222222222222,\"#7201a8\"],[0.3333333333333333,\"#9c179e\"],[0.4444444444444444,\"#bd3786\"],[0.5555555555555556,\"#d8576b\"],[0.6666666666666666,\"#ed7953\"],[0.7777777777777778,\"#fb9f3a\"],[0.8888888888888888,\"#fdca26\"],[1.0,\"#f0f921\"]]}],\"choropleth\":[{\"type\":\"choropleth\",\"colorbar\":{\"outlinewidth\":0,\"ticks\":\"\"}}],\"histogram2d\":[{\"type\":\"histogram2d\",\"colorbar\":{\"outlinewidth\":0,\"ticks\":\"\"},\"colorscale\":[[0.0,\"#0d0887\"],[0.1111111111111111,\"#46039f\"],[0.2222222222222222,\"#7201a8\"],[0.3333333333333333,\"#9c179e\"],[0.4444444444444444,\"#bd3786\"],[0.5555555555555556,\"#d8576b\"],[0.6666666666666666,\"#ed7953\"],[0.7777777777777778,\"#fb9f3a\"],[0.8888888888888888,\"#fdca26\"],[1.0,\"#f0f921\"]]}],\"heatmap\":[{\"type\":\"heatmap\",\"colorbar\":{\"outlinewidth\":0,\"ticks\":\"\"},\"colorscale\":[[0.0,\"#0d0887\"],[0.1111111111111111,\"#46039f\"],[0.2222222222222222,\"#7201a8\"],[0.3333333333333333,\"#9c179e\"],[0.4444444444444444,\"#bd3786\"],[0.5555555555555556,\"#d8576b\"],[0.6666666666666666,\"#ed7953\"],[0.7777777777777778,\"#fb9f3a\"],[0.8888888888888888,\"#fdca26\"],[1.0,\"#f0f921\"]]}],\"heatmapgl\":[{\"type\":\"heatmapgl\",\"colorbar\":{\"outlinewidth\":0,\"ticks\":\"\"},\"colorscale\":[[0.0,\"#0d0887\"],[0.1111111111111111,\"#46039f\"],[0.2222222222222222,\"#7201a8\"],[0.3333333333333333,\"#9c179e\"],[0.4444444444444444,\"#bd3786\"],[0.5555555555555556,\"#d8576b\"],[0.6666666666666666,\"#ed7953\"],[0.7777777777777778,\"#fb9f3a\"],[0.8888888888888888,\"#fdca26\"],[1.0,\"#f0f921\"]]}],\"contourcarpet\":[{\"type\":\"contourcarpet\",\"colorbar\":{\"outlinewidth\":0,\"ticks\":\"\"}}],\"contour\":[{\"type\":\"contour\",\"colorbar\":{\"outlinewidth\":0,\"ticks\":\"\"},\"colorscale\":[[0.0,\"#0d0887\"],[0.1111111111111111,\"#46039f\"],[0.2222222222222222,\"#7201a8\"],[0.3333333333333333,\"#9c179e\"],[0.4444444444444444,\"#bd3786\"],[0.5555555555555556,\"#d8576b\"],[0.6666666666666666,\"#ed7953\"],[0.7777777777777778,\"#fb9f3a\"],[0.8888888888888888,\"#fdca26\"],[1.0,\"#f0f921\"]]}],\"surface\":[{\"type\":\"surface\",\"colorbar\":{\"outlinewidth\":0,\"ticks\":\"\"},\"colorscale\":[[0.0,\"#0d0887\"],[0.1111111111111111,\"#46039f\"],[0.2222222222222222,\"#7201a8\"],[0.3333333333333333,\"#9c179e\"],[0.4444444444444444,\"#bd3786\"],[0.5555555555555556,\"#d8576b\"],[0.6666666666666666,\"#ed7953\"],[0.7777777777777778,\"#fb9f3a\"],[0.8888888888888888,\"#fdca26\"],[1.0,\"#f0f921\"]]}],\"mesh3d\":[{\"type\":\"mesh3d\",\"colorbar\":{\"outlinewidth\":0,\"ticks\":\"\"}}],\"scatter\":[{\"fillpattern\":{\"fillmode\":\"overlay\",\"size\":10,\"solidity\":0.2},\"type\":\"scatter\"}],\"parcoords\":[{\"type\":\"parcoords\",\"line\":{\"colorbar\":{\"outlinewidth\":0,\"ticks\":\"\"}}}],\"scatterpolargl\":[{\"type\":\"scatterpolargl\",\"marker\":{\"colorbar\":{\"outlinewidth\":0,\"ticks\":\"\"}}}],\"bar\":[{\"error_x\":{\"color\":\"#2a3f5f\"},\"error_y\":{\"color\":\"#2a3f5f\"},\"marker\":{\"line\":{\"color\":\"#E5ECF6\",\"width\":0.5},\"pattern\":{\"fillmode\":\"overlay\",\"size\":10,\"solidity\":0.2}},\"type\":\"bar\"}],\"scattergeo\":[{\"type\":\"scattergeo\",\"marker\":{\"colorbar\":{\"outlinewidth\":0,\"ticks\":\"\"}}}],\"scatterpolar\":[{\"type\":\"scatterpolar\",\"marker\":{\"colorbar\":{\"outlinewidth\":0,\"ticks\":\"\"}}}],\"histogram\":[{\"marker\":{\"pattern\":{\"fillmode\":\"overlay\",\"size\":10,\"solidity\":0.2}},\"type\":\"histogram\"}],\"scattergl\":[{\"type\":\"scattergl\",\"marker\":{\"colorbar\":{\"outlinewidth\":0,\"ticks\":\"\"}}}],\"scatter3d\":[{\"type\":\"scatter3d\",\"line\":{\"colorbar\":{\"outlinewidth\":0,\"ticks\":\"\"}},\"marker\":{\"colorbar\":{\"outlinewidth\":0,\"ticks\":\"\"}}}],\"scattermapbox\":[{\"type\":\"scattermapbox\",\"marker\":{\"colorbar\":{\"outlinewidth\":0,\"ticks\":\"\"}}}],\"scatterternary\":[{\"type\":\"scatterternary\",\"marker\":{\"colorbar\":{\"outlinewidth\":0,\"ticks\":\"\"}}}],\"scattercarpet\":[{\"type\":\"scattercarpet\",\"marker\":{\"colorbar\":{\"outlinewidth\":0,\"ticks\":\"\"}}}],\"carpet\":[{\"aaxis\":{\"endlinecolor\":\"#2a3f5f\",\"gridcolor\":\"white\",\"linecolor\":\"white\",\"minorgridcolor\":\"white\",\"startlinecolor\":\"#2a3f5f\"},\"baxis\":{\"endlinecolor\":\"#2a3f5f\",\"gridcolor\":\"white\",\"linecolor\":\"white\",\"minorgridcolor\":\"white\",\"startlinecolor\":\"#2a3f5f\"},\"type\":\"carpet\"}],\"table\":[{\"cells\":{\"fill\":{\"color\":\"#EBF0F8\"},\"line\":{\"color\":\"white\"}},\"header\":{\"fill\":{\"color\":\"#C8D4E3\"},\"line\":{\"color\":\"white\"}},\"type\":\"table\"}],\"barpolar\":[{\"marker\":{\"line\":{\"color\":\"#E5ECF6\",\"width\":0.5},\"pattern\":{\"fillmode\":\"overlay\",\"size\":10,\"solidity\":0.2}},\"type\":\"barpolar\"}],\"pie\":[{\"automargin\":true,\"type\":\"pie\"}]},\"layout\":{\"autotypenumbers\":\"strict\",\"colorway\":[\"#636efa\",\"#EF553B\",\"#00cc96\",\"#ab63fa\",\"#FFA15A\",\"#19d3f3\",\"#FF6692\",\"#B6E880\",\"#FF97FF\",\"#FECB52\"],\"font\":{\"color\":\"#2a3f5f\"},\"hovermode\":\"closest\",\"hoverlabel\":{\"align\":\"left\"},\"paper_bgcolor\":\"white\",\"plot_bgcolor\":\"#E5ECF6\",\"polar\":{\"bgcolor\":\"#E5ECF6\",\"angularaxis\":{\"gridcolor\":\"white\",\"linecolor\":\"white\",\"ticks\":\"\"},\"radialaxis\":{\"gridcolor\":\"white\",\"linecolor\":\"white\",\"ticks\":\"\"}},\"ternary\":{\"bgcolor\":\"#E5ECF6\",\"aaxis\":{\"gridcolor\":\"white\",\"linecolor\":\"white\",\"ticks\":\"\"},\"baxis\":{\"gridcolor\":\"white\",\"linecolor\":\"white\",\"ticks\":\"\"},\"caxis\":{\"gridcolor\":\"white\",\"linecolor\":\"white\",\"ticks\":\"\"}},\"coloraxis\":{\"colorbar\":{\"outlinewidth\":0,\"ticks\":\"\"}},\"colorscale\":{\"sequential\":[[0.0,\"#0d0887\"],[0.1111111111111111,\"#46039f\"],[0.2222222222222222,\"#7201a8\"],[0.3333333333333333,\"#9c179e\"],[0.4444444444444444,\"#bd3786\"],[0.5555555555555556,\"#d8576b\"],[0.6666666666666666,\"#ed7953\"],[0.7777777777777778,\"#fb9f3a\"],[0.8888888888888888,\"#fdca26\"],[1.0,\"#f0f921\"]],\"sequentialminus\":[[0.0,\"#0d0887\"],[0.1111111111111111,\"#46039f\"],[0.2222222222222222,\"#7201a8\"],[0.3333333333333333,\"#9c179e\"],[0.4444444444444444,\"#bd3786\"],[0.5555555555555556,\"#d8576b\"],[0.6666666666666666,\"#ed7953\"],[0.7777777777777778,\"#fb9f3a\"],[0.8888888888888888,\"#fdca26\"],[1.0,\"#f0f921\"]],\"diverging\":[[0,\"#8e0152\"],[0.1,\"#c51b7d\"],[0.2,\"#de77ae\"],[0.3,\"#f1b6da\"],[0.4,\"#fde0ef\"],[0.5,\"#f7f7f7\"],[0.6,\"#e6f5d0\"],[0.7,\"#b8e186\"],[0.8,\"#7fbc41\"],[0.9,\"#4d9221\"],[1,\"#276419\"]]},\"xaxis\":{\"gridcolor\":\"white\",\"linecolor\":\"white\",\"ticks\":\"\",\"title\":{\"standoff\":15},\"zerolinecolor\":\"white\",\"automargin\":true,\"zerolinewidth\":2},\"yaxis\":{\"gridcolor\":\"white\",\"linecolor\":\"white\",\"ticks\":\"\",\"title\":{\"standoff\":15},\"zerolinecolor\":\"white\",\"automargin\":true,\"zerolinewidth\":2},\"scene\":{\"xaxis\":{\"backgroundcolor\":\"#E5ECF6\",\"gridcolor\":\"white\",\"linecolor\":\"white\",\"showbackground\":true,\"ticks\":\"\",\"zerolinecolor\":\"white\",\"gridwidth\":2},\"yaxis\":{\"backgroundcolor\":\"#E5ECF6\",\"gridcolor\":\"white\",\"linecolor\":\"white\",\"showbackground\":true,\"ticks\":\"\",\"zerolinecolor\":\"white\",\"gridwidth\":2},\"zaxis\":{\"backgroundcolor\":\"#E5ECF6\",\"gridcolor\":\"white\",\"linecolor\":\"white\",\"showbackground\":true,\"ticks\":\"\",\"zerolinecolor\":\"white\",\"gridwidth\":2}},\"shapedefaults\":{\"line\":{\"color\":\"#2a3f5f\"}},\"annotationdefaults\":{\"arrowcolor\":\"#2a3f5f\",\"arrowhead\":0,\"arrowwidth\":1},\"geo\":{\"bgcolor\":\"white\",\"landcolor\":\"#E5ECF6\",\"subunitcolor\":\"white\",\"showland\":true,\"showlakes\":true,\"lakecolor\":\"white\"},\"title\":{\"x\":0.05},\"mapbox\":{\"style\":\"light\"}}},\"xaxis\":{\"anchor\":\"y\",\"domain\":[0.0,1.0],\"title\":{\"text\":\"differential\"}},\"yaxis\":{\"anchor\":\"x\",\"domain\":[0.0,1.0],\"title\":{\"text\":\"Win%\"}},\"legend\":{\"title\":{\"text\":\"team_color\"},\"tracegroupgap\":0},\"margin\":{\"t\":60}},                        {\"responsive\": true}                    ).then(function(){\n",
       "                            \n",
       "var gd = document.getElementById('191d14fe-b7c6-4a0c-b721-3d804b30c06d');\n",
       "var x = new MutationObserver(function (mutations, observer) {{\n",
       "        var display = window.getComputedStyle(gd).display;\n",
       "        if (!display || display === 'none') {{\n",
       "            console.log([gd, 'removed!']);\n",
       "            Plotly.purge(gd);\n",
       "            observer.disconnect();\n",
       "        }}\n",
       "}});\n",
       "\n",
       "// Listen for the removal of the full notebook cells\n",
       "var notebookContainer = gd.closest('#notebook-container');\n",
       "if (notebookContainer) {{\n",
       "    x.observe(notebookContainer, {childList: true});\n",
       "}}\n",
       "\n",
       "// Listen for the clearing of the current output cell\n",
       "var outputEl = gd.closest('.output');\n",
       "if (outputEl) {{\n",
       "    x.observe(outputEl, {childList: true});\n",
       "}}\n",
       "\n",
       "                        })                };                });            </script>        </div>"
      ]
     },
     "metadata": {},
     "output_type": "display_data"
    }
   ],
   "source": [
    "def plotlyexpress2(df):\n",
    "    fig = px.scatter(df, x=\"differential\", y=\"Win%\", color=\"team_color\", trendline=\"ols\", trendline_scope=\"overall\")\n",
    "    fig.show()\n",
    "plotlyexpress2(dfQBDifRec4)"
   ]
  },
  {
   "cell_type": "code",
   "execution_count": 182,
   "id": "74bc269a",
   "metadata": {},
   "outputs": [
    {
     "data": {
      "application/vnd.plotly.v1+json": {
       "config": {
        "plotlyServerURL": "https://plot.ly"
       },
       "data": [
        {
         "alignmentgroup": "True",
         "hovertemplate": "player_name=%{x}<br>passer_rating=%{y}<extra></extra>",
         "legendgroup": "",
         "marker": {
          "color": "#636efa",
          "pattern": {
           "shape": ""
          }
         },
         "name": "",
         "offsetgroup": "",
         "orientation": "v",
         "showlegend": false,
         "textposition": "auto",
         "type": "bar",
         "x": [
          "Malik Willis",
          "Nick Foles",
          "Bryce Perkins",
          "Trace McSorley",
          "Anthony Brown",
          "Trey Lance",
          "John Wolford",
          "Kyle Allen",
          "Skylar Thompson",
          "Zach Wilson",
          "Brett Rypien",
          "Sam Ehlinger",
          "Joshua Dobbs",
          "Carson Wentz",
          "Trevor Siemian",
          "Deshaun Watson",
          "Justin Fields",
          "Sam Howell",
          "Baker Mayfield",
          "Joe Flacco",
          "Kenny Pickett",
          "Davis Mills",
          "David Blough",
          "Colt McCoy",
          "Baker Mayfield",
          "Davis Webb",
          "Jameis Winston",
          "Tyler Huntley",
          "Matt Ryan",
          "Russell Wilson",
          "Gardner Minshew",
          "Mac Jones",
          "Desmond Ridder",
          "Mike White",
          "Derek Carr",
          "Cooper Rush",
          "Teddy Bridgewater",
          "Marcus Mariota",
          "Kyler Murray",
          "Taylor Heinicke",
          "Sam Darnold",
          "Matthew Stafford",
          "Ryan Tannehill",
          "Lamar Jackson",
          "Phillip Walker",
          "Jarrett Stidham",
          "Mitchell Trubisky",
          "Jacoby Brissett",
          "Kirk Cousins",
          "Daniel Jones",
          "Nathan Peterman",
          "Aaron Rodgers",
          "Dak Prescott",
          "Andy Dalton",
          "Tom Brady",
          "Justin Herbert",
          "Trevor Lawrence",
          "Josh Allen",
          "Bailey Zappe",
          "Jalen Hurts",
          "Geno Smith",
          "Jared Goff",
          "Joe Burrow",
          "Jimmy Garoppolo",
          "Tua Tagovailoa",
          "Patrick Mahomes",
          "Brock Purdy"
         ],
         "xaxis": "x",
         "y": [
          33.46666666666667,
          33.65,
          40.5,
          40.55,
          44.3,
          47.1,
          55.900000000000006,
          56.9,
          64.6,
          66.26666666666667,
          66.6,
          67.2,
          68.5,
          68.68571428571428,
          69.8,
          71.76666666666667,
          71.92666666666668,
          72,
          72.62857142857142,
          73.425,
          74.22727272727273,
          74.48,
          74.65,
          75.06666666666666,
          75.24,
          75.8,
          76.2,
          76.52000000000001,
          77.11666666666666,
          77.84666666666666,
          78.2,
          80.02307692307691,
          80.125,
          80.325,
          80.53999999999999,
          80.6,
          82.56666666666666,
          83.66153846153846,
          83.87,
          84.52222222222223,
          84.68333333333334,
          84.69999999999999,
          84.73333333333333,
          84.8,
          84.82499999999999,
          86.8,
          86.98333333333333,
          87.11818181818181,
          87.67058823529412,
          88.1875,
          88.3,
          88.32352941176471,
          88.72500000000001,
          88.85000000000001,
          89.5529411764706,
          90.36470588235295,
          90.84117647058824,
          91.02499999999999,
          91.575,
          93.58666666666666,
          94.69411764705882,
          95.09411764705882,
          96.36875,
          98.41,
          102.2,
          102.20588235294117,
          108.36666666666667
         ],
         "yaxis": "y"
        }
       ],
       "layout": {
        "barmode": "relative",
        "font": {
         "family": "Averta, sans-serif"
        },
        "height": 1000,
        "hoverlabel": {
         "font": {
          "family": "Averta, sans-serif",
          "size": 16
         }
        },
        "legend": {
         "font": {
          "size": 16
         },
         "tracegroupgap": 0
        },
        "margin": {
         "t": 60
        },
        "template": {
         "data": {
          "bar": [
           {
            "error_x": {
             "color": "#2a3f5f"
            },
            "error_y": {
             "color": "#2a3f5f"
            },
            "marker": {
             "line": {
              "color": "#E5ECF6",
              "width": 0.5
             },
             "pattern": {
              "fillmode": "overlay",
              "size": 10,
              "solidity": 0.2
             }
            },
            "type": "bar"
           }
          ],
          "barpolar": [
           {
            "marker": {
             "line": {
              "color": "#E5ECF6",
              "width": 0.5
             },
             "pattern": {
              "fillmode": "overlay",
              "size": 10,
              "solidity": 0.2
             }
            },
            "type": "barpolar"
           }
          ],
          "carpet": [
           {
            "aaxis": {
             "endlinecolor": "#2a3f5f",
             "gridcolor": "white",
             "linecolor": "white",
             "minorgridcolor": "white",
             "startlinecolor": "#2a3f5f"
            },
            "baxis": {
             "endlinecolor": "#2a3f5f",
             "gridcolor": "white",
             "linecolor": "white",
             "minorgridcolor": "white",
             "startlinecolor": "#2a3f5f"
            },
            "type": "carpet"
           }
          ],
          "choropleth": [
           {
            "colorbar": {
             "outlinewidth": 0,
             "ticks": ""
            },
            "type": "choropleth"
           }
          ],
          "contour": [
           {
            "colorbar": {
             "outlinewidth": 0,
             "ticks": ""
            },
            "colorscale": [
             [
              0,
              "#0d0887"
             ],
             [
              0.1111111111111111,
              "#46039f"
             ],
             [
              0.2222222222222222,
              "#7201a8"
             ],
             [
              0.3333333333333333,
              "#9c179e"
             ],
             [
              0.4444444444444444,
              "#bd3786"
             ],
             [
              0.5555555555555556,
              "#d8576b"
             ],
             [
              0.6666666666666666,
              "#ed7953"
             ],
             [
              0.7777777777777778,
              "#fb9f3a"
             ],
             [
              0.8888888888888888,
              "#fdca26"
             ],
             [
              1,
              "#f0f921"
             ]
            ],
            "type": "contour"
           }
          ],
          "contourcarpet": [
           {
            "colorbar": {
             "outlinewidth": 0,
             "ticks": ""
            },
            "type": "contourcarpet"
           }
          ],
          "heatmap": [
           {
            "colorbar": {
             "outlinewidth": 0,
             "ticks": ""
            },
            "colorscale": [
             [
              0,
              "#0d0887"
             ],
             [
              0.1111111111111111,
              "#46039f"
             ],
             [
              0.2222222222222222,
              "#7201a8"
             ],
             [
              0.3333333333333333,
              "#9c179e"
             ],
             [
              0.4444444444444444,
              "#bd3786"
             ],
             [
              0.5555555555555556,
              "#d8576b"
             ],
             [
              0.6666666666666666,
              "#ed7953"
             ],
             [
              0.7777777777777778,
              "#fb9f3a"
             ],
             [
              0.8888888888888888,
              "#fdca26"
             ],
             [
              1,
              "#f0f921"
             ]
            ],
            "type": "heatmap"
           }
          ],
          "heatmapgl": [
           {
            "colorbar": {
             "outlinewidth": 0,
             "ticks": ""
            },
            "colorscale": [
             [
              0,
              "#0d0887"
             ],
             [
              0.1111111111111111,
              "#46039f"
             ],
             [
              0.2222222222222222,
              "#7201a8"
             ],
             [
              0.3333333333333333,
              "#9c179e"
             ],
             [
              0.4444444444444444,
              "#bd3786"
             ],
             [
              0.5555555555555556,
              "#d8576b"
             ],
             [
              0.6666666666666666,
              "#ed7953"
             ],
             [
              0.7777777777777778,
              "#fb9f3a"
             ],
             [
              0.8888888888888888,
              "#fdca26"
             ],
             [
              1,
              "#f0f921"
             ]
            ],
            "type": "heatmapgl"
           }
          ],
          "histogram": [
           {
            "marker": {
             "pattern": {
              "fillmode": "overlay",
              "size": 10,
              "solidity": 0.2
             }
            },
            "type": "histogram"
           }
          ],
          "histogram2d": [
           {
            "colorbar": {
             "outlinewidth": 0,
             "ticks": ""
            },
            "colorscale": [
             [
              0,
              "#0d0887"
             ],
             [
              0.1111111111111111,
              "#46039f"
             ],
             [
              0.2222222222222222,
              "#7201a8"
             ],
             [
              0.3333333333333333,
              "#9c179e"
             ],
             [
              0.4444444444444444,
              "#bd3786"
             ],
             [
              0.5555555555555556,
              "#d8576b"
             ],
             [
              0.6666666666666666,
              "#ed7953"
             ],
             [
              0.7777777777777778,
              "#fb9f3a"
             ],
             [
              0.8888888888888888,
              "#fdca26"
             ],
             [
              1,
              "#f0f921"
             ]
            ],
            "type": "histogram2d"
           }
          ],
          "histogram2dcontour": [
           {
            "colorbar": {
             "outlinewidth": 0,
             "ticks": ""
            },
            "colorscale": [
             [
              0,
              "#0d0887"
             ],
             [
              0.1111111111111111,
              "#46039f"
             ],
             [
              0.2222222222222222,
              "#7201a8"
             ],
             [
              0.3333333333333333,
              "#9c179e"
             ],
             [
              0.4444444444444444,
              "#bd3786"
             ],
             [
              0.5555555555555556,
              "#d8576b"
             ],
             [
              0.6666666666666666,
              "#ed7953"
             ],
             [
              0.7777777777777778,
              "#fb9f3a"
             ],
             [
              0.8888888888888888,
              "#fdca26"
             ],
             [
              1,
              "#f0f921"
             ]
            ],
            "type": "histogram2dcontour"
           }
          ],
          "mesh3d": [
           {
            "colorbar": {
             "outlinewidth": 0,
             "ticks": ""
            },
            "type": "mesh3d"
           }
          ],
          "parcoords": [
           {
            "line": {
             "colorbar": {
              "outlinewidth": 0,
              "ticks": ""
             }
            },
            "type": "parcoords"
           }
          ],
          "pie": [
           {
            "automargin": true,
            "type": "pie"
           }
          ],
          "scatter": [
           {
            "fillpattern": {
             "fillmode": "overlay",
             "size": 10,
             "solidity": 0.2
            },
            "type": "scatter"
           }
          ],
          "scatter3d": [
           {
            "line": {
             "colorbar": {
              "outlinewidth": 0,
              "ticks": ""
             }
            },
            "marker": {
             "colorbar": {
              "outlinewidth": 0,
              "ticks": ""
             }
            },
            "type": "scatter3d"
           }
          ],
          "scattercarpet": [
           {
            "marker": {
             "colorbar": {
              "outlinewidth": 0,
              "ticks": ""
             }
            },
            "type": "scattercarpet"
           }
          ],
          "scattergeo": [
           {
            "marker": {
             "colorbar": {
              "outlinewidth": 0,
              "ticks": ""
             }
            },
            "type": "scattergeo"
           }
          ],
          "scattergl": [
           {
            "marker": {
             "colorbar": {
              "outlinewidth": 0,
              "ticks": ""
             }
            },
            "type": "scattergl"
           }
          ],
          "scattermapbox": [
           {
            "marker": {
             "colorbar": {
              "outlinewidth": 0,
              "ticks": ""
             }
            },
            "type": "scattermapbox"
           }
          ],
          "scatterpolar": [
           {
            "marker": {
             "colorbar": {
              "outlinewidth": 0,
              "ticks": ""
             }
            },
            "type": "scatterpolar"
           }
          ],
          "scatterpolargl": [
           {
            "marker": {
             "colorbar": {
              "outlinewidth": 0,
              "ticks": ""
             }
            },
            "type": "scatterpolargl"
           }
          ],
          "scatterternary": [
           {
            "marker": {
             "colorbar": {
              "outlinewidth": 0,
              "ticks": ""
             }
            },
            "type": "scatterternary"
           }
          ],
          "surface": [
           {
            "colorbar": {
             "outlinewidth": 0,
             "ticks": ""
            },
            "colorscale": [
             [
              0,
              "#0d0887"
             ],
             [
              0.1111111111111111,
              "#46039f"
             ],
             [
              0.2222222222222222,
              "#7201a8"
             ],
             [
              0.3333333333333333,
              "#9c179e"
             ],
             [
              0.4444444444444444,
              "#bd3786"
             ],
             [
              0.5555555555555556,
              "#d8576b"
             ],
             [
              0.6666666666666666,
              "#ed7953"
             ],
             [
              0.7777777777777778,
              "#fb9f3a"
             ],
             [
              0.8888888888888888,
              "#fdca26"
             ],
             [
              1,
              "#f0f921"
             ]
            ],
            "type": "surface"
           }
          ],
          "table": [
           {
            "cells": {
             "fill": {
              "color": "#EBF0F8"
             },
             "line": {
              "color": "white"
             }
            },
            "header": {
             "fill": {
              "color": "#C8D4E3"
             },
             "line": {
              "color": "white"
             }
            },
            "type": "table"
           }
          ]
         },
         "layout": {
          "annotationdefaults": {
           "arrowcolor": "#2a3f5f",
           "arrowhead": 0,
           "arrowwidth": 1
          },
          "autotypenumbers": "strict",
          "coloraxis": {
           "colorbar": {
            "outlinewidth": 0,
            "ticks": ""
           }
          },
          "colorscale": {
           "diverging": [
            [
             0,
             "#8e0152"
            ],
            [
             0.1,
             "#c51b7d"
            ],
            [
             0.2,
             "#de77ae"
            ],
            [
             0.3,
             "#f1b6da"
            ],
            [
             0.4,
             "#fde0ef"
            ],
            [
             0.5,
             "#f7f7f7"
            ],
            [
             0.6,
             "#e6f5d0"
            ],
            [
             0.7,
             "#b8e186"
            ],
            [
             0.8,
             "#7fbc41"
            ],
            [
             0.9,
             "#4d9221"
            ],
            [
             1,
             "#276419"
            ]
           ],
           "sequential": [
            [
             0,
             "#0d0887"
            ],
            [
             0.1111111111111111,
             "#46039f"
            ],
            [
             0.2222222222222222,
             "#7201a8"
            ],
            [
             0.3333333333333333,
             "#9c179e"
            ],
            [
             0.4444444444444444,
             "#bd3786"
            ],
            [
             0.5555555555555556,
             "#d8576b"
            ],
            [
             0.6666666666666666,
             "#ed7953"
            ],
            [
             0.7777777777777778,
             "#fb9f3a"
            ],
            [
             0.8888888888888888,
             "#fdca26"
            ],
            [
             1,
             "#f0f921"
            ]
           ],
           "sequentialminus": [
            [
             0,
             "#0d0887"
            ],
            [
             0.1111111111111111,
             "#46039f"
            ],
            [
             0.2222222222222222,
             "#7201a8"
            ],
            [
             0.3333333333333333,
             "#9c179e"
            ],
            [
             0.4444444444444444,
             "#bd3786"
            ],
            [
             0.5555555555555556,
             "#d8576b"
            ],
            [
             0.6666666666666666,
             "#ed7953"
            ],
            [
             0.7777777777777778,
             "#fb9f3a"
            ],
            [
             0.8888888888888888,
             "#fdca26"
            ],
            [
             1,
             "#f0f921"
            ]
           ]
          },
          "colorway": [
           "#636efa",
           "#EF553B",
           "#00cc96",
           "#ab63fa",
           "#FFA15A",
           "#19d3f3",
           "#FF6692",
           "#B6E880",
           "#FF97FF",
           "#FECB52"
          ],
          "font": {
           "color": "#2a3f5f"
          },
          "geo": {
           "bgcolor": "white",
           "lakecolor": "white",
           "landcolor": "#E5ECF6",
           "showlakes": true,
           "showland": true,
           "subunitcolor": "white"
          },
          "hoverlabel": {
           "align": "left"
          },
          "hovermode": "closest",
          "mapbox": {
           "style": "light"
          },
          "paper_bgcolor": "white",
          "plot_bgcolor": "#E5ECF6",
          "polar": {
           "angularaxis": {
            "gridcolor": "white",
            "linecolor": "white",
            "ticks": ""
           },
           "bgcolor": "#E5ECF6",
           "radialaxis": {
            "gridcolor": "white",
            "linecolor": "white",
            "ticks": ""
           }
          },
          "scene": {
           "xaxis": {
            "backgroundcolor": "#E5ECF6",
            "gridcolor": "white",
            "gridwidth": 2,
            "linecolor": "white",
            "showbackground": true,
            "ticks": "",
            "zerolinecolor": "white"
           },
           "yaxis": {
            "backgroundcolor": "#E5ECF6",
            "gridcolor": "white",
            "gridwidth": 2,
            "linecolor": "white",
            "showbackground": true,
            "ticks": "",
            "zerolinecolor": "white"
           },
           "zaxis": {
            "backgroundcolor": "#E5ECF6",
            "gridcolor": "white",
            "gridwidth": 2,
            "linecolor": "white",
            "showbackground": true,
            "ticks": "",
            "zerolinecolor": "white"
           }
          },
          "shapedefaults": {
           "line": {
            "color": "#2a3f5f"
           }
          },
          "ternary": {
           "aaxis": {
            "gridcolor": "white",
            "linecolor": "white",
            "ticks": ""
           },
           "baxis": {
            "gridcolor": "white",
            "linecolor": "white",
            "ticks": ""
           },
           "bgcolor": "#E5ECF6",
           "caxis": {
            "gridcolor": "white",
            "linecolor": "white",
            "ticks": ""
           }
          },
          "title": {
           "x": 0.05
          },
          "xaxis": {
           "automargin": true,
           "gridcolor": "white",
           "linecolor": "white",
           "ticks": "",
           "title": {
            "standoff": 15
           },
           "zerolinecolor": "white",
           "zerolinewidth": 2
          },
          "yaxis": {
           "automargin": true,
           "gridcolor": "white",
           "linecolor": "white",
           "ticks": "",
           "title": {
            "standoff": 15
           },
           "zerolinecolor": "white",
           "zerolinewidth": 2
          }
         }
        },
        "width": 1000,
        "xaxis": {
         "anchor": "y",
         "domain": [
          0,
          1
         ],
         "tickfont": {
          "size": 16
         },
         "title": {
          "font": {
           "size": 18
          },
          "text": "Quarterback"
         }
        },
        "yaxis": {
         "anchor": "x",
         "domain": [
          0,
          1
         ],
         "tickfont": {
          "size": 16
         },
         "title": {
          "font": {
           "size": 18
          },
          "text": "Passer Rating"
         }
        }
       }
      },
      "text/html": [
       "<div>                            <div id=\"6baae7e3-71ef-4240-a350-64f92f689c1e\" class=\"plotly-graph-div\" style=\"height:1000px; width:1000px;\"></div>            <script type=\"text/javascript\">                require([\"plotly\"], function(Plotly) {                    window.PLOTLYENV=window.PLOTLYENV || {};                                    if (document.getElementById(\"6baae7e3-71ef-4240-a350-64f92f689c1e\")) {                    Plotly.newPlot(                        \"6baae7e3-71ef-4240-a350-64f92f689c1e\",                        [{\"alignmentgroup\":\"True\",\"hovertemplate\":\"player_name=%{x}<br>passer_rating=%{y}<extra></extra>\",\"legendgroup\":\"\",\"marker\":{\"color\":\"#636efa\",\"pattern\":{\"shape\":\"\"}},\"name\":\"\",\"offsetgroup\":\"\",\"orientation\":\"v\",\"showlegend\":false,\"textposition\":\"auto\",\"x\":[\"Malik Willis\",\"Nick Foles\",\"Bryce Perkins\",\"Trace McSorley\",\"Anthony Brown\",\"Trey Lance\",\"John Wolford\",\"Kyle Allen\",\"Skylar Thompson\",\"Zach Wilson\",\"Brett Rypien\",\"Sam Ehlinger\",\"Joshua Dobbs\",\"Carson Wentz\",\"Trevor Siemian\",\"Deshaun Watson\",\"Justin Fields\",\"Sam Howell\",\"Baker Mayfield\",\"Joe Flacco\",\"Kenny Pickett\",\"Davis Mills\",\"David Blough\",\"Colt McCoy\",\"Baker Mayfield\",\"Davis Webb\",\"Jameis Winston\",\"Tyler Huntley\",\"Matt Ryan\",\"Russell Wilson\",\"Gardner Minshew\",\"Mac Jones\",\"Desmond Ridder\",\"Mike White\",\"Derek Carr\",\"Cooper Rush\",\"Teddy Bridgewater\",\"Marcus Mariota\",\"Kyler Murray\",\"Taylor Heinicke\",\"Sam Darnold\",\"Matthew Stafford\",\"Ryan Tannehill\",\"Lamar Jackson\",\"Phillip Walker\",\"Jarrett Stidham\",\"Mitchell Trubisky\",\"Jacoby Brissett\",\"Kirk Cousins\",\"Daniel Jones\",\"Nathan Peterman\",\"Aaron Rodgers\",\"Dak Prescott\",\"Andy Dalton\",\"Tom Brady\",\"Justin Herbert\",\"Trevor Lawrence\",\"Josh Allen\",\"Bailey Zappe\",\"Jalen Hurts\",\"Geno Smith\",\"Jared Goff\",\"Joe Burrow\",\"Jimmy Garoppolo\",\"Tua Tagovailoa\",\"Patrick Mahomes\",\"Brock Purdy\"],\"xaxis\":\"x\",\"y\":[33.46666666666667,33.65,40.5,40.55,44.3,47.1,55.900000000000006,56.9,64.6,66.26666666666667,66.6,67.2,68.5,68.68571428571428,69.8,71.76666666666667,71.92666666666668,72.0,72.62857142857142,73.425,74.22727272727273,74.48,74.65,75.06666666666666,75.24,75.8,76.2,76.52000000000001,77.11666666666666,77.84666666666666,78.2,80.02307692307691,80.125,80.325,80.53999999999999,80.6,82.56666666666666,83.66153846153846,83.87,84.52222222222223,84.68333333333334,84.69999999999999,84.73333333333333,84.8,84.82499999999999,86.8,86.98333333333333,87.11818181818181,87.67058823529412,88.1875,88.3,88.32352941176471,88.72500000000001,88.85000000000001,89.5529411764706,90.36470588235295,90.84117647058824,91.02499999999999,91.575,93.58666666666666,94.69411764705882,95.09411764705882,96.36875,98.41,102.2,102.20588235294117,108.36666666666667],\"yaxis\":\"y\",\"type\":\"bar\"}],                        {\"template\":{\"data\":{\"histogram2dcontour\":[{\"type\":\"histogram2dcontour\",\"colorbar\":{\"outlinewidth\":0,\"ticks\":\"\"},\"colorscale\":[[0.0,\"#0d0887\"],[0.1111111111111111,\"#46039f\"],[0.2222222222222222,\"#7201a8\"],[0.3333333333333333,\"#9c179e\"],[0.4444444444444444,\"#bd3786\"],[0.5555555555555556,\"#d8576b\"],[0.6666666666666666,\"#ed7953\"],[0.7777777777777778,\"#fb9f3a\"],[0.8888888888888888,\"#fdca26\"],[1.0,\"#f0f921\"]]}],\"choropleth\":[{\"type\":\"choropleth\",\"colorbar\":{\"outlinewidth\":0,\"ticks\":\"\"}}],\"histogram2d\":[{\"type\":\"histogram2d\",\"colorbar\":{\"outlinewidth\":0,\"ticks\":\"\"},\"colorscale\":[[0.0,\"#0d0887\"],[0.1111111111111111,\"#46039f\"],[0.2222222222222222,\"#7201a8\"],[0.3333333333333333,\"#9c179e\"],[0.4444444444444444,\"#bd3786\"],[0.5555555555555556,\"#d8576b\"],[0.6666666666666666,\"#ed7953\"],[0.7777777777777778,\"#fb9f3a\"],[0.8888888888888888,\"#fdca26\"],[1.0,\"#f0f921\"]]}],\"heatmap\":[{\"type\":\"heatmap\",\"colorbar\":{\"outlinewidth\":0,\"ticks\":\"\"},\"colorscale\":[[0.0,\"#0d0887\"],[0.1111111111111111,\"#46039f\"],[0.2222222222222222,\"#7201a8\"],[0.3333333333333333,\"#9c179e\"],[0.4444444444444444,\"#bd3786\"],[0.5555555555555556,\"#d8576b\"],[0.6666666666666666,\"#ed7953\"],[0.7777777777777778,\"#fb9f3a\"],[0.8888888888888888,\"#fdca26\"],[1.0,\"#f0f921\"]]}],\"heatmapgl\":[{\"type\":\"heatmapgl\",\"colorbar\":{\"outlinewidth\":0,\"ticks\":\"\"},\"colorscale\":[[0.0,\"#0d0887\"],[0.1111111111111111,\"#46039f\"],[0.2222222222222222,\"#7201a8\"],[0.3333333333333333,\"#9c179e\"],[0.4444444444444444,\"#bd3786\"],[0.5555555555555556,\"#d8576b\"],[0.6666666666666666,\"#ed7953\"],[0.7777777777777778,\"#fb9f3a\"],[0.8888888888888888,\"#fdca26\"],[1.0,\"#f0f921\"]]}],\"contourcarpet\":[{\"type\":\"contourcarpet\",\"colorbar\":{\"outlinewidth\":0,\"ticks\":\"\"}}],\"contour\":[{\"type\":\"contour\",\"colorbar\":{\"outlinewidth\":0,\"ticks\":\"\"},\"colorscale\":[[0.0,\"#0d0887\"],[0.1111111111111111,\"#46039f\"],[0.2222222222222222,\"#7201a8\"],[0.3333333333333333,\"#9c179e\"],[0.4444444444444444,\"#bd3786\"],[0.5555555555555556,\"#d8576b\"],[0.6666666666666666,\"#ed7953\"],[0.7777777777777778,\"#fb9f3a\"],[0.8888888888888888,\"#fdca26\"],[1.0,\"#f0f921\"]]}],\"surface\":[{\"type\":\"surface\",\"colorbar\":{\"outlinewidth\":0,\"ticks\":\"\"},\"colorscale\":[[0.0,\"#0d0887\"],[0.1111111111111111,\"#46039f\"],[0.2222222222222222,\"#7201a8\"],[0.3333333333333333,\"#9c179e\"],[0.4444444444444444,\"#bd3786\"],[0.5555555555555556,\"#d8576b\"],[0.6666666666666666,\"#ed7953\"],[0.7777777777777778,\"#fb9f3a\"],[0.8888888888888888,\"#fdca26\"],[1.0,\"#f0f921\"]]}],\"mesh3d\":[{\"type\":\"mesh3d\",\"colorbar\":{\"outlinewidth\":0,\"ticks\":\"\"}}],\"scatter\":[{\"fillpattern\":{\"fillmode\":\"overlay\",\"size\":10,\"solidity\":0.2},\"type\":\"scatter\"}],\"parcoords\":[{\"type\":\"parcoords\",\"line\":{\"colorbar\":{\"outlinewidth\":0,\"ticks\":\"\"}}}],\"scatterpolargl\":[{\"type\":\"scatterpolargl\",\"marker\":{\"colorbar\":{\"outlinewidth\":0,\"ticks\":\"\"}}}],\"bar\":[{\"error_x\":{\"color\":\"#2a3f5f\"},\"error_y\":{\"color\":\"#2a3f5f\"},\"marker\":{\"line\":{\"color\":\"#E5ECF6\",\"width\":0.5},\"pattern\":{\"fillmode\":\"overlay\",\"size\":10,\"solidity\":0.2}},\"type\":\"bar\"}],\"scattergeo\":[{\"type\":\"scattergeo\",\"marker\":{\"colorbar\":{\"outlinewidth\":0,\"ticks\":\"\"}}}],\"scatterpolar\":[{\"type\":\"scatterpolar\",\"marker\":{\"colorbar\":{\"outlinewidth\":0,\"ticks\":\"\"}}}],\"histogram\":[{\"marker\":{\"pattern\":{\"fillmode\":\"overlay\",\"size\":10,\"solidity\":0.2}},\"type\":\"histogram\"}],\"scattergl\":[{\"type\":\"scattergl\",\"marker\":{\"colorbar\":{\"outlinewidth\":0,\"ticks\":\"\"}}}],\"scatter3d\":[{\"type\":\"scatter3d\",\"line\":{\"colorbar\":{\"outlinewidth\":0,\"ticks\":\"\"}},\"marker\":{\"colorbar\":{\"outlinewidth\":0,\"ticks\":\"\"}}}],\"scattermapbox\":[{\"type\":\"scattermapbox\",\"marker\":{\"colorbar\":{\"outlinewidth\":0,\"ticks\":\"\"}}}],\"scatterternary\":[{\"type\":\"scatterternary\",\"marker\":{\"colorbar\":{\"outlinewidth\":0,\"ticks\":\"\"}}}],\"scattercarpet\":[{\"type\":\"scattercarpet\",\"marker\":{\"colorbar\":{\"outlinewidth\":0,\"ticks\":\"\"}}}],\"carpet\":[{\"aaxis\":{\"endlinecolor\":\"#2a3f5f\",\"gridcolor\":\"white\",\"linecolor\":\"white\",\"minorgridcolor\":\"white\",\"startlinecolor\":\"#2a3f5f\"},\"baxis\":{\"endlinecolor\":\"#2a3f5f\",\"gridcolor\":\"white\",\"linecolor\":\"white\",\"minorgridcolor\":\"white\",\"startlinecolor\":\"#2a3f5f\"},\"type\":\"carpet\"}],\"table\":[{\"cells\":{\"fill\":{\"color\":\"#EBF0F8\"},\"line\":{\"color\":\"white\"}},\"header\":{\"fill\":{\"color\":\"#C8D4E3\"},\"line\":{\"color\":\"white\"}},\"type\":\"table\"}],\"barpolar\":[{\"marker\":{\"line\":{\"color\":\"#E5ECF6\",\"width\":0.5},\"pattern\":{\"fillmode\":\"overlay\",\"size\":10,\"solidity\":0.2}},\"type\":\"barpolar\"}],\"pie\":[{\"automargin\":true,\"type\":\"pie\"}]},\"layout\":{\"autotypenumbers\":\"strict\",\"colorway\":[\"#636efa\",\"#EF553B\",\"#00cc96\",\"#ab63fa\",\"#FFA15A\",\"#19d3f3\",\"#FF6692\",\"#B6E880\",\"#FF97FF\",\"#FECB52\"],\"font\":{\"color\":\"#2a3f5f\"},\"hovermode\":\"closest\",\"hoverlabel\":{\"align\":\"left\"},\"paper_bgcolor\":\"white\",\"plot_bgcolor\":\"#E5ECF6\",\"polar\":{\"bgcolor\":\"#E5ECF6\",\"angularaxis\":{\"gridcolor\":\"white\",\"linecolor\":\"white\",\"ticks\":\"\"},\"radialaxis\":{\"gridcolor\":\"white\",\"linecolor\":\"white\",\"ticks\":\"\"}},\"ternary\":{\"bgcolor\":\"#E5ECF6\",\"aaxis\":{\"gridcolor\":\"white\",\"linecolor\":\"white\",\"ticks\":\"\"},\"baxis\":{\"gridcolor\":\"white\",\"linecolor\":\"white\",\"ticks\":\"\"},\"caxis\":{\"gridcolor\":\"white\",\"linecolor\":\"white\",\"ticks\":\"\"}},\"coloraxis\":{\"colorbar\":{\"outlinewidth\":0,\"ticks\":\"\"}},\"colorscale\":{\"sequential\":[[0.0,\"#0d0887\"],[0.1111111111111111,\"#46039f\"],[0.2222222222222222,\"#7201a8\"],[0.3333333333333333,\"#9c179e\"],[0.4444444444444444,\"#bd3786\"],[0.5555555555555556,\"#d8576b\"],[0.6666666666666666,\"#ed7953\"],[0.7777777777777778,\"#fb9f3a\"],[0.8888888888888888,\"#fdca26\"],[1.0,\"#f0f921\"]],\"sequentialminus\":[[0.0,\"#0d0887\"],[0.1111111111111111,\"#46039f\"],[0.2222222222222222,\"#7201a8\"],[0.3333333333333333,\"#9c179e\"],[0.4444444444444444,\"#bd3786\"],[0.5555555555555556,\"#d8576b\"],[0.6666666666666666,\"#ed7953\"],[0.7777777777777778,\"#fb9f3a\"],[0.8888888888888888,\"#fdca26\"],[1.0,\"#f0f921\"]],\"diverging\":[[0,\"#8e0152\"],[0.1,\"#c51b7d\"],[0.2,\"#de77ae\"],[0.3,\"#f1b6da\"],[0.4,\"#fde0ef\"],[0.5,\"#f7f7f7\"],[0.6,\"#e6f5d0\"],[0.7,\"#b8e186\"],[0.8,\"#7fbc41\"],[0.9,\"#4d9221\"],[1,\"#276419\"]]},\"xaxis\":{\"gridcolor\":\"white\",\"linecolor\":\"white\",\"ticks\":\"\",\"title\":{\"standoff\":15},\"zerolinecolor\":\"white\",\"automargin\":true,\"zerolinewidth\":2},\"yaxis\":{\"gridcolor\":\"white\",\"linecolor\":\"white\",\"ticks\":\"\",\"title\":{\"standoff\":15},\"zerolinecolor\":\"white\",\"automargin\":true,\"zerolinewidth\":2},\"scene\":{\"xaxis\":{\"backgroundcolor\":\"#E5ECF6\",\"gridcolor\":\"white\",\"linecolor\":\"white\",\"showbackground\":true,\"ticks\":\"\",\"zerolinecolor\":\"white\",\"gridwidth\":2},\"yaxis\":{\"backgroundcolor\":\"#E5ECF6\",\"gridcolor\":\"white\",\"linecolor\":\"white\",\"showbackground\":true,\"ticks\":\"\",\"zerolinecolor\":\"white\",\"gridwidth\":2},\"zaxis\":{\"backgroundcolor\":\"#E5ECF6\",\"gridcolor\":\"white\",\"linecolor\":\"white\",\"showbackground\":true,\"ticks\":\"\",\"zerolinecolor\":\"white\",\"gridwidth\":2}},\"shapedefaults\":{\"line\":{\"color\":\"#2a3f5f\"}},\"annotationdefaults\":{\"arrowcolor\":\"#2a3f5f\",\"arrowhead\":0,\"arrowwidth\":1},\"geo\":{\"bgcolor\":\"white\",\"landcolor\":\"#E5ECF6\",\"subunitcolor\":\"white\",\"showland\":true,\"showlakes\":true,\"lakecolor\":\"white\"},\"title\":{\"x\":0.05},\"mapbox\":{\"style\":\"light\"}}},\"xaxis\":{\"anchor\":\"y\",\"domain\":[0.0,1.0],\"title\":{\"text\":\"Quarterback\",\"font\":{\"size\":18}},\"tickfont\":{\"size\":16}},\"yaxis\":{\"anchor\":\"x\",\"domain\":[0.0,1.0],\"title\":{\"text\":\"Passer Rating\",\"font\":{\"size\":18}},\"tickfont\":{\"size\":16}},\"legend\":{\"tracegroupgap\":0,\"font\":{\"size\":16}},\"margin\":{\"t\":60},\"barmode\":\"relative\",\"font\":{\"family\":\"Averta, sans-serif\"},\"hoverlabel\":{\"font\":{\"family\":\"Averta, sans-serif\",\"size\":16}},\"height\":1000,\"width\":1000},                        {\"responsive\": true}                    ).then(function(){\n",
       "                            \n",
       "var gd = document.getElementById('6baae7e3-71ef-4240-a350-64f92f689c1e');\n",
       "var x = new MutationObserver(function (mutations, observer) {{\n",
       "        var display = window.getComputedStyle(gd).display;\n",
       "        if (!display || display === 'none') {{\n",
       "            console.log([gd, 'removed!']);\n",
       "            Plotly.purge(gd);\n",
       "            observer.disconnect();\n",
       "        }}\n",
       "}});\n",
       "\n",
       "// Listen for the removal of the full notebook cells\n",
       "var notebookContainer = gd.closest('#notebook-container');\n",
       "if (notebookContainer) {{\n",
       "    x.observe(notebookContainer, {childList: true});\n",
       "}}\n",
       "\n",
       "// Listen for the clearing of the current output cell\n",
       "var outputEl = gd.closest('.output');\n",
       "if (outputEl) {{\n",
       "    x.observe(outputEl, {childList: true});\n",
       "}}\n",
       "\n",
       "                        })                };                });            </script>        </div>"
      ]
     },
     "metadata": {},
     "output_type": "display_data"
    }
   ],
   "source": [
    "#Not visualized with team color\n",
    "#Baker Mayfield double dipping\n",
    "#No legend\n",
    "#Not all bars labelled\n",
    "#Mouseover values are not pretty\n",
    "fig = px.bar(dfQBDifRec3.sort_values([\"passer_rating\"]), x='player_name', y='passer_rating')\n",
    "fig.update_layout(\n",
    "        font_family=\"Averta, sans-serif\",\n",
    "        hoverlabel_font_family=\"Averta, sans-serif\",\n",
    "        xaxis_title_text=\"Quarterback\",\n",
    "        xaxis_title_font_size=18,\n",
    "        xaxis_tickfont_size=16,\n",
    "        yaxis_title_text=\"Passer Rating\",\n",
    "        yaxis_title_font_size=18,\n",
    "        yaxis_tickfont_size=16,\n",
    "        hoverlabel_font_size=16,\n",
    "        legend_font_size=16,\n",
    "        height=1000,\n",
    "        width=1000\n",
    "    )\n",
    "fig.show()"
   ]
  },
  {
   "cell_type": "code",
   "execution_count": 197,
   "id": "bcfe41d8",
   "metadata": {},
   "outputs": [
    {
     "data": {
      "image/png": "[encoded data removed]",
      "text/plain": [
       "<Figure size 640x480 with 1 Axes>"
      ]
     },
     "metadata": {},
     "output_type": "display_data"
    }
   ],
   "source": [
    "#Completely unreadable x axis labels\n",
    "#No legend\n",
    "#No mouseover values\n",
    "#Baker mayfield double dipping\n",
    "testDF1 = dfQBDifRec3.sort_values([\"passer_rating\"]).copy()\n",
    "testList1 = testDF1[\"team_color\"].values.tolist()\n",
    "testList1\n",
    "plt.bar(testDF1[\"player_name\"], testDF1[\"passer_rating\"], color=testList1)\n",
    "plt.show()"
   ]
  },
  {
   "cell_type": "code",
   "execution_count": null,
   "id": "4a524e0f",
   "metadata": {},
   "outputs": [],
   "source": []
  }
 ],
 "metadata": {
  "kernelspec": {
   "display_name": "Python 3 (ipykernel)",
   "language": "python",
   "name": "python3"
  },
  "language_info": {
   "codemirror_mode": {
    "name": "ipython",
    "version": 3
   },
   "file_extension": ".py",
   "mimetype": "text/x-python",
   "name": "python",
   "nbconvert_exporter": "python",
   "pygments_lexer": "ipython3",
   "version": "3.10.6"
  }
 },
 "nbformat": 4,
 "nbformat_minor": 5
}
