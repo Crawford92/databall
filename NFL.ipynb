{
 "cells": [
  {
   "cell_type": "code",
   "execution_count": 8,
   "id": "d290a440",
   "metadata": {},
   "outputs": [],
   "source": [
    "import pandas as pd\n",
    "import plotly.graph_objects as go\n",
    "import nfl_data_py as nfl\n",
    "import math"
   ]
  },
  {
   "cell_type": "code",
   "execution_count": 4,
   "id": "9d9d499b",
   "metadata": {},
   "outputs": [
    {
     "name": "stdout",
     "output_type": "stream",
     "text": [
      "2022 done.\n",
      "Downcasting floats.\n"
     ]
    },
    {
     "name": "stderr",
     "output_type": "stream",
     "text": [
      "/home/crawford/.local/lib/python3.10/site-packages/nfl_data_py/__init__.py:137: FutureWarning: In a future version, `df.iloc[:, i] = newvals` will attempt to set the values inplace instead of always setting a new array. To retain the old behavior, use either `df[df.columns[i]] = newvals` or, if columns are non-unique, `df.isetitem(i, newvals)`\n",
      "  plays.loc[:, cols] = plays.loc[:, cols].astype(numpy.float32)\n"
     ]
    }
   ],
   "source": [
    "#import the data from online sources\n",
    "\n",
    "df_2022 = nfl.import_pbp_data([2022])\n",
    "df_players = nfl.import_rosters([2022])\n",
    "df_teams = nfl.import_team_desc()"
   ]
  },
  {
   "cell_type": "code",
   "execution_count": 38,
   "id": "23d959aa",
   "metadata": {},
   "outputs": [],
   "source": [
    "#The idea is to preserve this information in CSVs to improve portability as the 'nfl_data_py' library\n",
    "#has said some mean things about Windows in the past, but Windows users are friends and deserve options\n",
    "\n",
    "#My GH file size limit is 100mb and the full playlist file would be over\n",
    "#So we'll split them for now and concat them back to normal later on\n",
    "\n",
    "cut_to = math.floor(df_2022.shape[0]/2)"
   ]
  },
  {
   "cell_type": "code",
   "execution_count": 39,
   "id": "c058cef6",
   "metadata": {},
   "outputs": [],
   "source": [
    "df_2022_1 = df_2022.iloc[ : cut_to, : ]\n",
    "df_2022_2 = df_2022.iloc[cut_to : , : ]"
   ]
  },
  {
   "cell_type": "code",
   "execution_count": 34,
   "id": "2491869e",
   "metadata": {},
   "outputs": [],
   "source": [
    "df_2022_1.to_csv('playlist_1.csv')\n",
    "df_2022_2.to_csv('playlist_2.csv')\n",
    "df_players.to_csv('playerlist.csv')\n",
    "df_teams.to_csv('teamlist.csv')"
   ]
  },
  {
   "cell_type": "code",
   "execution_count": null,
   "id": "b2f327ec",
   "metadata": {},
   "outputs": [],
   "source": [
    "#NOTE:\n",
    "#These cells takes in the tab separated txt file, does some error checking, and saves a CSV with the data\n",
    "\n",
    "dfGames = pd.read_csv('games.txt', sep='\\t')\n",
    "\n",
    "\n",
    "#NOTE:\n",
    "#This loop makes sure that the Winner is who they should be\n",
    "for index, qb in dfGames.iterrows():\n",
    "    result = \"none\"\n",
    "    if(qb[\"AwayScore\"] > qb[\"HomeScore\"]):\n",
    "        result = qb[\"Away\"]\n",
    "    elif(qb[\"HomeScore\"] > qb[\"AwayScore\"]):\n",
    "        result = qb[\"Home\"]\n",
    "    elif(qb[\"HomeScore\"] == qb[\"AwayScore\"]):\n",
    "        result = \"TIE\"\n",
    "    else:\n",
    "        print(index, \" weird outcome\")\n",
    "        \n",
    "    if(result != qb[\"Winner\"]):\n",
    "        print(index, \" wrong outcome\")\n"
   ]
  },
  {
   "cell_type": "code",
   "execution_count": null,
   "id": "3346c2dd",
   "metadata": {},
   "outputs": [],
   "source": [
    "#NOTE:\n",
    "#From I had one typo, which is fixed here\n",
    "dfGames.at[100, \"Winner\"] = \"NYG\"\n",
    "\n",
    "\n",
    "dfGames.to_csv(\"regularSeasonGameOutcomes2022.csv\", index=False)"
   ]
  }
 ],
 "metadata": {
  "kernelspec": {
   "display_name": "Python 3 (ipykernel)",
   "language": "python",
   "name": "python3"
  },
  "language_info": {
   "codemirror_mode": {
    "name": "ipython",
    "version": 3
   },
   "file_extension": ".py",
   "mimetype": "text/x-python",
   "name": "python",
   "nbconvert_exporter": "python",
   "pygments_lexer": "ipython3",
   "version": "3.10.6"
  }
 },
 "nbformat": 4,
 "nbformat_minor": 5
}
